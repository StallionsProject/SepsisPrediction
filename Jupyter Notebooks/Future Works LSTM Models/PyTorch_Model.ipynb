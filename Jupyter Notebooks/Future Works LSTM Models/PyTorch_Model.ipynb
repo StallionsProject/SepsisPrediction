{
 "cells": [
  {
   "cell_type": "code",
   "execution_count": 1,
   "metadata": {
    "colab": {},
    "colab_type": "code",
    "id": "3YERLTJjD4kk"
   },
   "outputs": [],
   "source": [
    "import torch\n",
    "import torch.nn as nn\n",
    "import numpy as np\n",
    "import pandas as pd\n",
    "import matplotlib.pyplot as plt\n",
    "from sklearn.preprocessing import StandardScaler"
   ]
  },
  {
   "cell_type": "code",
   "execution_count": 4,
   "metadata": {
    "colab": {},
    "colab_type": "code",
    "id": "ejA41yIHEMMs"
   },
   "outputs": [],
   "source": [
    "### try autoregressive RNN model\n",
    "class RNN(nn.Module):\n",
    "  def __init__(self, n_inputs, n_hidden, n_rnnlayers, n_outputs):\n",
    "    super(RNN, self).__init__()\n",
    "    self.D = n_inputs\n",
    "    self.M = n_hidden\n",
    "    self.K = n_outputs\n",
    "    self.L = n_rnnlayers\n",
    "\n",
    "    self.rnn = nn.LSTM(\n",
    "        input_size=self.D,\n",
    "        hidden_size=self.M,\n",
    "        num_layers=self.L,\n",
    "        batch_first=True)\n",
    "    self.fc = nn.Linear(self.M, self.K)\n",
    "  \n",
    "  def forward(self, X):\n",
    "    # initial hidden states\n",
    "    h0 = torch.zeros(self.L, X.size(0), self.M).to(device)\n",
    "    c0 = torch.zeros(self.L, X.size(0), self.M).to(device)\n",
    "\n",
    "    # get RNN unit output\n",
    "    out, _ = self.rnn(X, (h0, c0))\n",
    "\n",
    "    # we only want h(T) at the final time step\n",
    "    out = self.fc(out[:, -1, :])\n",
    "    return out"
   ]
  },
  {
   "cell_type": "code",
   "execution_count": 5,
   "metadata": {
    "colab": {
     "base_uri": "https://localhost:8080/",
     "height": 102
    },
    "colab_type": "code",
    "id": "7zL5f7KWEcVw",
    "outputId": "4680ee2a-4550-4651-a833-3c86341da2bc"
   },
   "outputs": [
    {
     "name": "stdout",
     "output_type": "stream",
     "text": [
      "cuda:0\n"
     ]
    }
   ],
   "source": [
    "device = torch.device(\"cuda:0\" if torch.cuda.is_available() else \"cpu\")\n",
    "print(device)\n",
    "# model.to(device)"
   ]
  },
  {
   "cell_type": "code",
   "execution_count": 6,
   "metadata": {
    "colab": {},
    "colab_type": "code",
    "id": "SbUEPOnZE1c9"
   },
   "outputs": [],
   "source": [
    "# Training\n",
    "def full_gd(model,\n",
    "            criterion,\n",
    "            optimizer,\n",
    "            X_train,\n",
    "            y_train,\n",
    "            X_test,\n",
    "            y_test,\n",
    "            epochs=200):\n",
    "\n",
    "  # Stuff to store\n",
    "  train_losses = np.zeros(epochs)\n",
    "  test_losses = np.zeros(epochs)\n",
    "\n",
    "  for it in range(epochs):\n",
    "    # zero the parameter gradients\n",
    "    optimizer.zero_grad()\n",
    "\n",
    "    # Forward pass\n",
    "    outputs = model(X_train)\n",
    "    loss = criterion(outputs, y_train)\n",
    "      \n",
    "    # Backward and optimize\n",
    "    loss.backward()\n",
    "    optimizer.step()\n",
    "\n",
    "    # Save losses\n",
    "    train_losses[it] = loss.item()\n",
    "\n",
    "    # Test loss\n",
    "    test_outputs = model(X_test)\n",
    "    test_loss = criterion(test_outputs, y_test)\n",
    "    test_losses[it] = test_loss.item()\n",
    "      \n",
    "    if (it + 1) % 5 == 0:\n",
    "      print(f'Epoch {it+1}/{epochs}, Train Loss: {loss.item():.4f}, Test Loss: {test_loss.item():.4f}')\n",
    "  \n",
    "  return train_losses, test_losses"
   ]
  },
  {
   "cell_type": "code",
   "execution_count": 7,
   "metadata": {},
   "outputs": [
    {
     "data": {
      "text/html": [
       "<div>\n",
       "<style scoped>\n",
       "    .dataframe tbody tr th:only-of-type {\n",
       "        vertical-align: middle;\n",
       "    }\n",
       "\n",
       "    .dataframe tbody tr th {\n",
       "        vertical-align: top;\n",
       "    }\n",
       "\n",
       "    .dataframe thead th {\n",
       "        text-align: right;\n",
       "    }\n",
       "</style>\n",
       "<table border=\"1\" class=\"dataframe\">\n",
       "  <thead>\n",
       "    <tr style=\"text-align: right;\">\n",
       "      <th></th>\n",
       "      <th>patientunitstayid</th>\n",
       "      <th>observationoffset</th>\n",
       "      <th>temperature</th>\n",
       "      <th>heartrate</th>\n",
       "      <th>respiration</th>\n",
       "      <th>systemicsystolic</th>\n",
       "      <th>creatinine</th>\n",
       "      <th>wbcx1000</th>\n",
       "      <th>lactate</th>\n",
       "      <th>urineoutputbyweight</th>\n",
       "      <th>diagnosis</th>\n",
       "    </tr>\n",
       "  </thead>\n",
       "  <tbody>\n",
       "    <tr>\n",
       "      <th>0</th>\n",
       "      <td>143870</td>\n",
       "      <td>7.0</td>\n",
       "      <td>37.132325</td>\n",
       "      <td>44.0</td>\n",
       "      <td>86.0</td>\n",
       "      <td>111.000000</td>\n",
       "      <td>0.89</td>\n",
       "      <td>11.7</td>\n",
       "      <td>2.30671</td>\n",
       "      <td>3.870968</td>\n",
       "      <td>0.0</td>\n",
       "    </tr>\n",
       "    <tr>\n",
       "      <th>1</th>\n",
       "      <td>143870</td>\n",
       "      <td>10.0</td>\n",
       "      <td>37.132325</td>\n",
       "      <td>43.0</td>\n",
       "      <td>80.5</td>\n",
       "      <td>112.500000</td>\n",
       "      <td>0.89</td>\n",
       "      <td>11.7</td>\n",
       "      <td>2.30671</td>\n",
       "      <td>3.870968</td>\n",
       "      <td>0.0</td>\n",
       "    </tr>\n",
       "    <tr>\n",
       "      <th>2</th>\n",
       "      <td>143870</td>\n",
       "      <td>12.0</td>\n",
       "      <td>37.132325</td>\n",
       "      <td>42.0</td>\n",
       "      <td>75.0</td>\n",
       "      <td>114.000000</td>\n",
       "      <td>0.89</td>\n",
       "      <td>11.7</td>\n",
       "      <td>2.30671</td>\n",
       "      <td>3.870968</td>\n",
       "      <td>0.0</td>\n",
       "    </tr>\n",
       "    <tr>\n",
       "      <th>3</th>\n",
       "      <td>143870</td>\n",
       "      <td>17.0</td>\n",
       "      <td>37.132325</td>\n",
       "      <td>41.0</td>\n",
       "      <td>78.0</td>\n",
       "      <td>113.000000</td>\n",
       "      <td>0.89</td>\n",
       "      <td>11.7</td>\n",
       "      <td>2.30671</td>\n",
       "      <td>3.870968</td>\n",
       "      <td>0.0</td>\n",
       "    </tr>\n",
       "    <tr>\n",
       "      <th>4</th>\n",
       "      <td>143870</td>\n",
       "      <td>22.0</td>\n",
       "      <td>37.132325</td>\n",
       "      <td>41.0</td>\n",
       "      <td>73.0</td>\n",
       "      <td>113.000000</td>\n",
       "      <td>0.89</td>\n",
       "      <td>11.7</td>\n",
       "      <td>2.30671</td>\n",
       "      <td>3.870968</td>\n",
       "      <td>0.0</td>\n",
       "    </tr>\n",
       "    <tr>\n",
       "      <th>...</th>\n",
       "      <td>...</td>\n",
       "      <td>...</td>\n",
       "      <td>...</td>\n",
       "      <td>...</td>\n",
       "      <td>...</td>\n",
       "      <td>...</td>\n",
       "      <td>...</td>\n",
       "      <td>...</td>\n",
       "      <td>...</td>\n",
       "      <td>...</td>\n",
       "      <td>...</td>\n",
       "    </tr>\n",
       "    <tr>\n",
       "      <th>1230089</th>\n",
       "      <td>3353113</td>\n",
       "      <td>2671.0</td>\n",
       "      <td>37.132325</td>\n",
       "      <td>87.0</td>\n",
       "      <td>27.0</td>\n",
       "      <td>125.654566</td>\n",
       "      <td>0.57</td>\n",
       "      <td>5.0</td>\n",
       "      <td>1.80000</td>\n",
       "      <td>0.852273</td>\n",
       "      <td>0.0</td>\n",
       "    </tr>\n",
       "    <tr>\n",
       "      <th>1230090</th>\n",
       "      <td>3353113</td>\n",
       "      <td>2676.0</td>\n",
       "      <td>37.132325</td>\n",
       "      <td>85.0</td>\n",
       "      <td>27.0</td>\n",
       "      <td>125.654566</td>\n",
       "      <td>0.57</td>\n",
       "      <td>5.0</td>\n",
       "      <td>1.80000</td>\n",
       "      <td>0.852273</td>\n",
       "      <td>0.0</td>\n",
       "    </tr>\n",
       "    <tr>\n",
       "      <th>1230091</th>\n",
       "      <td>3353113</td>\n",
       "      <td>2681.0</td>\n",
       "      <td>37.132325</td>\n",
       "      <td>84.0</td>\n",
       "      <td>26.0</td>\n",
       "      <td>125.654566</td>\n",
       "      <td>0.57</td>\n",
       "      <td>5.0</td>\n",
       "      <td>1.80000</td>\n",
       "      <td>0.852273</td>\n",
       "      <td>0.0</td>\n",
       "    </tr>\n",
       "    <tr>\n",
       "      <th>1230092</th>\n",
       "      <td>3353113</td>\n",
       "      <td>2686.0</td>\n",
       "      <td>37.132325</td>\n",
       "      <td>84.0</td>\n",
       "      <td>25.0</td>\n",
       "      <td>125.654566</td>\n",
       "      <td>0.57</td>\n",
       "      <td>5.0</td>\n",
       "      <td>1.80000</td>\n",
       "      <td>0.852273</td>\n",
       "      <td>0.0</td>\n",
       "    </tr>\n",
       "    <tr>\n",
       "      <th>1230093</th>\n",
       "      <td>3353113</td>\n",
       "      <td>2691.0</td>\n",
       "      <td>37.132325</td>\n",
       "      <td>84.0</td>\n",
       "      <td>25.0</td>\n",
       "      <td>125.654566</td>\n",
       "      <td>0.57</td>\n",
       "      <td>5.0</td>\n",
       "      <td>1.80000</td>\n",
       "      <td>0.852273</td>\n",
       "      <td>0.0</td>\n",
       "    </tr>\n",
       "  </tbody>\n",
       "</table>\n",
       "<p>1230094 rows × 11 columns</p>\n",
       "</div>"
      ],
      "text/plain": [
       "         patientunitstayid  observationoffset  temperature  heartrate  \\\n",
       "0                   143870                7.0    37.132325       44.0   \n",
       "1                   143870               10.0    37.132325       43.0   \n",
       "2                   143870               12.0    37.132325       42.0   \n",
       "3                   143870               17.0    37.132325       41.0   \n",
       "4                   143870               22.0    37.132325       41.0   \n",
       "...                    ...                ...          ...        ...   \n",
       "1230089            3353113             2671.0    37.132325       87.0   \n",
       "1230090            3353113             2676.0    37.132325       85.0   \n",
       "1230091            3353113             2681.0    37.132325       84.0   \n",
       "1230092            3353113             2686.0    37.132325       84.0   \n",
       "1230093            3353113             2691.0    37.132325       84.0   \n",
       "\n",
       "         respiration  systemicsystolic  creatinine  wbcx1000  lactate  \\\n",
       "0               86.0        111.000000        0.89      11.7  2.30671   \n",
       "1               80.5        112.500000        0.89      11.7  2.30671   \n",
       "2               75.0        114.000000        0.89      11.7  2.30671   \n",
       "3               78.0        113.000000        0.89      11.7  2.30671   \n",
       "4               73.0        113.000000        0.89      11.7  2.30671   \n",
       "...              ...               ...         ...       ...      ...   \n",
       "1230089         27.0        125.654566        0.57       5.0  1.80000   \n",
       "1230090         27.0        125.654566        0.57       5.0  1.80000   \n",
       "1230091         26.0        125.654566        0.57       5.0  1.80000   \n",
       "1230092         25.0        125.654566        0.57       5.0  1.80000   \n",
       "1230093         25.0        125.654566        0.57       5.0  1.80000   \n",
       "\n",
       "         urineoutputbyweight  diagnosis  \n",
       "0                   3.870968        0.0  \n",
       "1                   3.870968        0.0  \n",
       "2                   3.870968        0.0  \n",
       "3                   3.870968        0.0  \n",
       "4                   3.870968        0.0  \n",
       "...                      ...        ...  \n",
       "1230089             0.852273        0.0  \n",
       "1230090             0.852273        0.0  \n",
       "1230091             0.852273        0.0  \n",
       "1230092             0.852273        0.0  \n",
       "1230093             0.852273        0.0  \n",
       "\n",
       "[1230094 rows x 11 columns]"
      ]
     },
     "execution_count": 7,
     "metadata": {},
     "output_type": "execute_result"
    }
   ],
   "source": [
    "df = pd.read_csv('../../eICU/training/finalData.csv')\n",
    "df"
   ]
  },
  {
   "cell_type": "code",
   "execution_count": 8,
   "metadata": {
    "colab": {},
    "colab_type": "code",
    "id": "Bndx3QO5HuR9"
   },
   "outputs": [],
   "source": [
    "# Now turn the full data into numpy arrays\n",
    "\n",
    "# Not yet in the final \"X\" format!\n",
    "input_data = df[['temperature', 'heartrate', 'respiration', 'systemicsystolic', 'creatinine', 'wbcx1000', 'lactate', 'urineoutputbyweight']].values\n",
    "targets = df['diagnosis'].values"
   ]
  },
  {
   "cell_type": "code",
   "execution_count": 9,
   "metadata": {
    "colab": {},
    "colab_type": "code",
    "id": "pwdN0u8mH_GN"
   },
   "outputs": [
    {
     "data": {
      "text/plain": [
       "8"
      ]
     },
     "execution_count": 9,
     "metadata": {},
     "output_type": "execute_result"
    }
   ],
   "source": [
    "# Now make the actual data which will go into the neural network\n",
    "T = 10 # the number of time steps to look at to make a prediction for the next day\n",
    "D = input_data.shape[1]\n",
    "N = len(input_data) - T # (e.g. if T=10 and you have 11 data points then you'd only have 1 sample)\n",
    "D"
   ]
  },
  {
   "cell_type": "code",
   "execution_count": 10,
   "metadata": {
    "colab": {},
    "colab_type": "code",
    "id": "8ivu7w3yIFcu"
   },
   "outputs": [],
   "source": [
    "# normalize the inputs\n",
    "Ntrain = len(input_data) * 2 // 3\n",
    "scaler = StandardScaler()\n",
    "scaler.fit(input_data[:Ntrain + T - 1])\n",
    "input_data = scaler.transform(input_data)"
   ]
  },
  {
   "cell_type": "code",
   "execution_count": 11,
   "metadata": {
    "colab": {},
    "colab_type": "code",
    "id": "3S0TJMWHIG68"
   },
   "outputs": [],
   "source": [
    "# Setup X_train and Y_train\n",
    "X_train = np.zeros((Ntrain, T, D))\n",
    "Y_train = np.zeros((Ntrain, 1))\n",
    "\n",
    "for t in range(Ntrain):\n",
    "  X_train[t, :, :] = input_data[t:t+T]\n",
    "  Y_train[t] = (targets[t+T] > 0)"
   ]
  },
  {
   "cell_type": "code",
   "execution_count": 12,
   "metadata": {
    "colab": {},
    "colab_type": "code",
    "id": "v5OPoVZnIIoq"
   },
   "outputs": [],
   "source": [
    "# Setup X_test and Y_test\n",
    "X_test = np.zeros((N - Ntrain, T, D))\n",
    "Y_test = np.zeros((N - Ntrain, 1))\n",
    "\n",
    "for u in range(N - Ntrain):\n",
    "  # u counts from 0...(N - Ntrain)\n",
    "  # t counts from Ntrain...N\n",
    "  t = u + Ntrain\n",
    "  X_test[u, :, :] = input_data[t:t+T]\n",
    "  Y_test[u] = (targets[t+T] > 0)"
   ]
  },
  {
   "cell_type": "code",
   "execution_count": 13,
   "metadata": {
    "colab": {
     "base_uri": "https://localhost:8080/"
    },
    "colab_type": "code",
    "id": "TTXdPZW9ILDP",
    "outputId": "b5f4e8c1-7915-4e06-d5fd-abb3489b7b16"
   },
   "outputs": [
    {
     "data": {
      "text/plain": [
       "RNN(\n",
       "  (rnn): LSTM(8, 5, num_layers=2, batch_first=True)\n",
       "  (fc): Linear(in_features=5, out_features=1, bias=True)\n",
       ")"
      ]
     },
     "execution_count": 13,
     "metadata": {},
     "output_type": "execute_result"
    }
   ],
   "source": [
    "# make the RNN\n",
    "model = RNN(8, 5, 2, 1)\n",
    "model.to(device)"
   ]
  },
  {
   "cell_type": "code",
   "execution_count": 14,
   "metadata": {
    "colab": {},
    "colab_type": "code",
    "id": "tkNDPzSgIPT8"
   },
   "outputs": [],
   "source": [
    "# Loss and optimizer - it's classification now!\n",
    "criterion = nn.BCEWithLogitsLoss()\n",
    "optimizer = torch.optim.Adam(model.parameters(), lr=0.01)"
   ]
  },
  {
   "cell_type": "code",
   "execution_count": 15,
   "metadata": {
    "colab": {},
    "colab_type": "code",
    "id": "kthbTpgqIab5"
   },
   "outputs": [],
   "source": [
    "# Make inputs and targets\n",
    "X_train = torch.from_numpy(X_train.astype(np.float32))\n",
    "y_train = torch.from_numpy(Y_train.astype(np.float32))\n",
    "X_test = torch.from_numpy(X_test.astype(np.float32))\n",
    "y_test = torch.from_numpy(Y_test.astype(np.float32))"
   ]
  },
  {
   "cell_type": "code",
   "execution_count": 16,
   "metadata": {
    "colab": {},
    "colab_type": "code",
    "id": "acXZJ9gOIhTI"
   },
   "outputs": [],
   "source": [
    "# move data to GPU\n",
    "X_train, y_train = X_train.to(device), y_train.to(device)\n",
    "X_test, y_test = X_test.to(device), y_test.to(device)"
   ]
  },
  {
   "cell_type": "code",
   "execution_count": 30,
   "metadata": {},
   "outputs": [],
   "source": [
    "torch.cuda.empty_cache()"
   ]
  },
  {
   "cell_type": "code",
   "execution_count": 20,
   "metadata": {
    "colab": {
     "base_uri": "https://localhost:8080/"
    },
    "colab_type": "code",
    "id": "He5Z5-z_IjiZ",
    "outputId": "7cb40cb5-87ed-4624-dc91-51bd5c613ae7"
   },
   "outputs": [
    {
     "name": "stdout",
     "output_type": "stream",
     "text": [
      "Epoch 5/1000, Train Loss: 0.0159, Test Loss: 0.0161\n",
      "Epoch 10/1000, Train Loss: 0.0150, Test Loss: 0.0153\n",
      "Epoch 15/1000, Train Loss: 0.0142, Test Loss: 0.0145\n",
      "Epoch 20/1000, Train Loss: 0.0135, Test Loss: 0.0138\n",
      "Epoch 25/1000, Train Loss: 0.0128, Test Loss: 0.0132\n",
      "Epoch 30/1000, Train Loss: 0.0122, Test Loss: 0.0126\n",
      "Epoch 35/1000, Train Loss: 0.0117, Test Loss: 0.0121\n",
      "Epoch 40/1000, Train Loss: 0.0112, Test Loss: 0.0116\n",
      "Epoch 45/1000, Train Loss: 0.0107, Test Loss: 0.0111\n",
      "Epoch 50/1000, Train Loss: 0.0103, Test Loss: 0.0107\n",
      "Epoch 55/1000, Train Loss: 0.0099, Test Loss: 0.0103\n",
      "Epoch 60/1000, Train Loss: 0.0095, Test Loss: 0.0100\n",
      "Epoch 65/1000, Train Loss: 0.0092, Test Loss: 0.0096\n",
      "Epoch 70/1000, Train Loss: 0.0088, Test Loss: 0.0093\n",
      "Epoch 75/1000, Train Loss: 0.0085, Test Loss: 0.0090\n",
      "Epoch 80/1000, Train Loss: 0.0082, Test Loss: 0.0087\n",
      "Epoch 85/1000, Train Loss: 0.0080, Test Loss: 0.0085\n",
      "Epoch 90/1000, Train Loss: 0.0077, Test Loss: 0.0083\n",
      "Epoch 95/1000, Train Loss: 0.0075, Test Loss: 0.0080\n",
      "Epoch 100/1000, Train Loss: 0.0073, Test Loss: 0.0078\n",
      "Epoch 105/1000, Train Loss: 0.0071, Test Loss: 0.0076\n",
      "Epoch 110/1000, Train Loss: 0.0069, Test Loss: 0.0074\n",
      "Epoch 115/1000, Train Loss: 0.0067, Test Loss: 0.0072\n",
      "Epoch 120/1000, Train Loss: 0.0065, Test Loss: 0.0071\n",
      "Epoch 125/1000, Train Loss: 0.0064, Test Loss: 0.0069\n",
      "Epoch 130/1000, Train Loss: 0.0062, Test Loss: 0.0068\n",
      "Epoch 135/1000, Train Loss: 0.0060, Test Loss: 0.0066\n",
      "Epoch 140/1000, Train Loss: 0.0059, Test Loss: 0.0065\n",
      "Epoch 145/1000, Train Loss: 0.0058, Test Loss: 0.0063\n",
      "Epoch 150/1000, Train Loss: 0.0056, Test Loss: 0.0062\n",
      "Epoch 155/1000, Train Loss: 0.0055, Test Loss: 0.0061\n",
      "Epoch 160/1000, Train Loss: 0.0054, Test Loss: 0.0060\n",
      "Epoch 165/1000, Train Loss: 0.0053, Test Loss: 0.0059\n",
      "Epoch 170/1000, Train Loss: 0.0052, Test Loss: 0.0058\n",
      "Epoch 175/1000, Train Loss: 0.0051, Test Loss: 0.0057\n",
      "Epoch 180/1000, Train Loss: 0.0050, Test Loss: 0.0056\n",
      "Epoch 185/1000, Train Loss: 0.0049, Test Loss: 0.0055\n",
      "Epoch 190/1000, Train Loss: 0.0048, Test Loss: 0.0054\n",
      "Epoch 195/1000, Train Loss: 0.0047, Test Loss: 0.0053\n",
      "Epoch 200/1000, Train Loss: 0.0046, Test Loss: 0.0052\n",
      "Epoch 205/1000, Train Loss: 0.0045, Test Loss: 0.0052\n",
      "Epoch 210/1000, Train Loss: 0.0045, Test Loss: 0.0051\n",
      "Epoch 215/1000, Train Loss: 0.0044, Test Loss: 0.0050\n",
      "Epoch 220/1000, Train Loss: 0.0043, Test Loss: 0.0050\n",
      "Epoch 225/1000, Train Loss: 0.0042, Test Loss: 0.0049\n",
      "Epoch 230/1000, Train Loss: 0.0042, Test Loss: 0.0048\n",
      "Epoch 235/1000, Train Loss: 0.0041, Test Loss: 0.0048\n",
      "Epoch 240/1000, Train Loss: 0.0041, Test Loss: 0.0047\n",
      "Epoch 245/1000, Train Loss: 0.0040, Test Loss: 0.0046\n",
      "Epoch 250/1000, Train Loss: 0.0039, Test Loss: 0.0046\n",
      "Epoch 255/1000, Train Loss: 0.0039, Test Loss: 0.0045\n",
      "Epoch 260/1000, Train Loss: 0.0038, Test Loss: 0.0045\n",
      "Epoch 265/1000, Train Loss: 0.0038, Test Loss: 0.0044\n",
      "Epoch 270/1000, Train Loss: 0.0037, Test Loss: 0.0044\n",
      "Epoch 275/1000, Train Loss: 0.0037, Test Loss: 0.0043\n",
      "Epoch 280/1000, Train Loss: 0.0036, Test Loss: 0.0043\n",
      "Epoch 285/1000, Train Loss: 0.0036, Test Loss: 0.0043\n",
      "Epoch 290/1000, Train Loss: 0.0035, Test Loss: 0.0042\n",
      "Epoch 295/1000, Train Loss: 0.0035, Test Loss: 0.0042\n",
      "Epoch 300/1000, Train Loss: 0.0035, Test Loss: 0.0041\n",
      "Epoch 305/1000, Train Loss: 0.0034, Test Loss: 0.0041\n",
      "Epoch 310/1000, Train Loss: 0.0034, Test Loss: 0.0041\n",
      "Epoch 315/1000, Train Loss: 0.0033, Test Loss: 0.0040\n",
      "Epoch 320/1000, Train Loss: 0.0033, Test Loss: 0.0040\n",
      "Epoch 325/1000, Train Loss: 0.0033, Test Loss: 0.0040\n",
      "Epoch 330/1000, Train Loss: 0.0032, Test Loss: 0.0039\n",
      "Epoch 335/1000, Train Loss: 0.0032, Test Loss: 0.0039\n",
      "Epoch 340/1000, Train Loss: 0.0032, Test Loss: 0.0039\n",
      "Epoch 345/1000, Train Loss: 0.0031, Test Loss: 0.0038\n",
      "Epoch 350/1000, Train Loss: 0.0031, Test Loss: 0.0038\n",
      "Epoch 355/1000, Train Loss: 0.0031, Test Loss: 0.0038\n",
      "Epoch 360/1000, Train Loss: 0.0030, Test Loss: 0.0038\n",
      "Epoch 365/1000, Train Loss: 0.0030, Test Loss: 0.0037\n",
      "Epoch 370/1000, Train Loss: 0.0030, Test Loss: 0.0037\n",
      "Epoch 375/1000, Train Loss: 0.0030, Test Loss: 0.0037\n",
      "Epoch 380/1000, Train Loss: 0.0029, Test Loss: 0.0037\n",
      "Epoch 385/1000, Train Loss: 0.0029, Test Loss: 0.0036\n",
      "Epoch 390/1000, Train Loss: 0.0029, Test Loss: 0.0036\n",
      "Epoch 395/1000, Train Loss: 0.0029, Test Loss: 0.0036\n",
      "Epoch 400/1000, Train Loss: 0.0028, Test Loss: 0.0036\n",
      "Epoch 405/1000, Train Loss: 0.0028, Test Loss: 0.0035\n",
      "Epoch 410/1000, Train Loss: 0.0028, Test Loss: 0.0035\n",
      "Epoch 415/1000, Train Loss: 0.0028, Test Loss: 0.0035\n",
      "Epoch 420/1000, Train Loss: 0.0028, Test Loss: 0.0035\n",
      "Epoch 425/1000, Train Loss: 0.0027, Test Loss: 0.0035\n",
      "Epoch 430/1000, Train Loss: 0.0027, Test Loss: 0.0035\n",
      "Epoch 435/1000, Train Loss: 0.0027, Test Loss: 0.0034\n",
      "Epoch 440/1000, Train Loss: 0.0027, Test Loss: 0.0034\n",
      "Epoch 445/1000, Train Loss: 0.0027, Test Loss: 0.0034\n",
      "Epoch 450/1000, Train Loss: 0.0026, Test Loss: 0.0034\n",
      "Epoch 455/1000, Train Loss: 0.0026, Test Loss: 0.0034\n",
      "Epoch 460/1000, Train Loss: 0.0026, Test Loss: 0.0034\n",
      "Epoch 465/1000, Train Loss: 0.0026, Test Loss: 0.0033\n",
      "Epoch 470/1000, Train Loss: 0.0026, Test Loss: 0.0033\n",
      "Epoch 475/1000, Train Loss: 0.0026, Test Loss: 0.0033\n",
      "Epoch 480/1000, Train Loss: 0.0025, Test Loss: 0.0033\n",
      "Epoch 485/1000, Train Loss: 0.0025, Test Loss: 0.0033\n",
      "Epoch 490/1000, Train Loss: 0.0025, Test Loss: 0.0033\n",
      "Epoch 495/1000, Train Loss: 0.0025, Test Loss: 0.0033\n",
      "Epoch 500/1000, Train Loss: 0.0025, Test Loss: 0.0032\n",
      "Epoch 505/1000, Train Loss: 0.0025, Test Loss: 0.0032\n",
      "Epoch 510/1000, Train Loss: 0.0025, Test Loss: 0.0032\n",
      "Epoch 515/1000, Train Loss: 0.0024, Test Loss: 0.0032\n",
      "Epoch 520/1000, Train Loss: 0.0024, Test Loss: 0.0032\n",
      "Epoch 525/1000, Train Loss: 0.0024, Test Loss: 0.0032\n",
      "Epoch 530/1000, Train Loss: 0.0024, Test Loss: 0.0032\n",
      "Epoch 535/1000, Train Loss: 0.0024, Test Loss: 0.0032\n",
      "Epoch 540/1000, Train Loss: 0.0024, Test Loss: 0.0031\n",
      "Epoch 545/1000, Train Loss: 0.0024, Test Loss: 0.0031\n",
      "Epoch 550/1000, Train Loss: 0.0024, Test Loss: 0.0031\n",
      "Epoch 555/1000, Train Loss: 0.0023, Test Loss: 0.0031\n",
      "Epoch 560/1000, Train Loss: 0.0023, Test Loss: 0.0031\n",
      "Epoch 565/1000, Train Loss: 0.0023, Test Loss: 0.0031\n",
      "Epoch 570/1000, Train Loss: 0.0023, Test Loss: 0.0031\n",
      "Epoch 575/1000, Train Loss: 0.0023, Test Loss: 0.0031\n",
      "Epoch 580/1000, Train Loss: 0.0023, Test Loss: 0.0031\n",
      "Epoch 585/1000, Train Loss: 0.0023, Test Loss: 0.0031\n",
      "Epoch 590/1000, Train Loss: 0.0023, Test Loss: 0.0031\n",
      "Epoch 595/1000, Train Loss: 0.0023, Test Loss: 0.0030\n",
      "Epoch 600/1000, Train Loss: 0.0022, Test Loss: 0.0030\n",
      "Epoch 605/1000, Train Loss: 0.0022, Test Loss: 0.0030\n",
      "Epoch 610/1000, Train Loss: 0.0022, Test Loss: 0.0030\n",
      "Epoch 615/1000, Train Loss: 0.0022, Test Loss: 0.0030\n",
      "Epoch 620/1000, Train Loss: 0.0022, Test Loss: 0.0030\n",
      "Epoch 625/1000, Train Loss: 0.0022, Test Loss: 0.0030\n",
      "Epoch 630/1000, Train Loss: 0.0022, Test Loss: 0.0030\n",
      "Epoch 635/1000, Train Loss: 0.0022, Test Loss: 0.0030\n",
      "Epoch 640/1000, Train Loss: 0.0022, Test Loss: 0.0030\n",
      "Epoch 645/1000, Train Loss: 0.0022, Test Loss: 0.0030\n",
      "Epoch 650/1000, Train Loss: 0.0022, Test Loss: 0.0030\n",
      "Epoch 655/1000, Train Loss: 0.0022, Test Loss: 0.0030\n",
      "Epoch 660/1000, Train Loss: 0.0021, Test Loss: 0.0029\n",
      "Epoch 665/1000, Train Loss: 0.0021, Test Loss: 0.0029\n",
      "Epoch 670/1000, Train Loss: 0.0021, Test Loss: 0.0029\n",
      "Epoch 675/1000, Train Loss: 0.0021, Test Loss: 0.0029\n",
      "Epoch 680/1000, Train Loss: 0.0021, Test Loss: 0.0029\n",
      "Epoch 685/1000, Train Loss: 0.0021, Test Loss: 0.0029\n",
      "Epoch 690/1000, Train Loss: 0.0021, Test Loss: 0.0029\n",
      "Epoch 695/1000, Train Loss: 0.0021, Test Loss: 0.0029\n",
      "Epoch 700/1000, Train Loss: 0.0021, Test Loss: 0.0029\n",
      "Epoch 705/1000, Train Loss: 0.0021, Test Loss: 0.0029\n",
      "Epoch 710/1000, Train Loss: 0.0021, Test Loss: 0.0029\n",
      "Epoch 715/1000, Train Loss: 0.0021, Test Loss: 0.0029\n",
      "Epoch 720/1000, Train Loss: 0.0021, Test Loss: 0.0029\n",
      "Epoch 725/1000, Train Loss: 0.0021, Test Loss: 0.0029\n",
      "Epoch 730/1000, Train Loss: 0.0021, Test Loss: 0.0029\n",
      "Epoch 735/1000, Train Loss: 0.0020, Test Loss: 0.0029\n",
      "Epoch 740/1000, Train Loss: 0.0020, Test Loss: 0.0029\n",
      "Epoch 745/1000, Train Loss: 0.0020, Test Loss: 0.0029\n",
      "Epoch 750/1000, Train Loss: 0.0020, Test Loss: 0.0028\n",
      "Epoch 755/1000, Train Loss: 0.0020, Test Loss: 0.0028\n",
      "Epoch 760/1000, Train Loss: 0.0020, Test Loss: 0.0028\n",
      "Epoch 765/1000, Train Loss: 0.0020, Test Loss: 0.0028\n",
      "Epoch 770/1000, Train Loss: 0.0020, Test Loss: 0.0028\n",
      "Epoch 775/1000, Train Loss: 0.0020, Test Loss: 0.0028\n",
      "Epoch 780/1000, Train Loss: 0.0020, Test Loss: 0.0028\n",
      "Epoch 785/1000, Train Loss: 0.0020, Test Loss: 0.0028\n",
      "Epoch 790/1000, Train Loss: 0.0020, Test Loss: 0.0028\n",
      "Epoch 795/1000, Train Loss: 0.0020, Test Loss: 0.0028\n",
      "Epoch 800/1000, Train Loss: 0.0020, Test Loss: 0.0028\n",
      "Epoch 805/1000, Train Loss: 0.0020, Test Loss: 0.0028\n",
      "Epoch 810/1000, Train Loss: 0.0020, Test Loss: 0.0028\n",
      "Epoch 815/1000, Train Loss: 0.0020, Test Loss: 0.0028\n",
      "Epoch 820/1000, Train Loss: 0.0020, Test Loss: 0.0028\n",
      "Epoch 825/1000, Train Loss: 0.0020, Test Loss: 0.0028\n",
      "Epoch 830/1000, Train Loss: 0.0020, Test Loss: 0.0028\n",
      "Epoch 835/1000, Train Loss: 0.0019, Test Loss: 0.0028\n",
      "Epoch 840/1000, Train Loss: 0.0019, Test Loss: 0.0028\n",
      "Epoch 845/1000, Train Loss: 0.0019, Test Loss: 0.0028\n",
      "Epoch 850/1000, Train Loss: 0.0019, Test Loss: 0.0028\n",
      "Epoch 855/1000, Train Loss: 0.0019, Test Loss: 0.0028\n",
      "Epoch 860/1000, Train Loss: 0.0019, Test Loss: 0.0028\n",
      "Epoch 865/1000, Train Loss: 0.0019, Test Loss: 0.0028\n",
      "Epoch 870/1000, Train Loss: 0.0019, Test Loss: 0.0028\n",
      "Epoch 875/1000, Train Loss: 0.0019, Test Loss: 0.0028\n",
      "Epoch 880/1000, Train Loss: 0.0019, Test Loss: 0.0028\n",
      "Epoch 885/1000, Train Loss: 0.0019, Test Loss: 0.0028\n",
      "Epoch 890/1000, Train Loss: 0.0019, Test Loss: 0.0028\n",
      "Epoch 895/1000, Train Loss: 0.0019, Test Loss: 0.0027\n",
      "Epoch 900/1000, Train Loss: 0.0019, Test Loss: 0.0027\n",
      "Epoch 905/1000, Train Loss: 0.0019, Test Loss: 0.0027\n",
      "Epoch 910/1000, Train Loss: 0.0019, Test Loss: 0.0027\n",
      "Epoch 915/1000, Train Loss: 0.0019, Test Loss: 0.0027\n",
      "Epoch 920/1000, Train Loss: 0.0019, Test Loss: 0.0027\n",
      "Epoch 925/1000, Train Loss: 0.0019, Test Loss: 0.0027\n",
      "Epoch 930/1000, Train Loss: 0.0019, Test Loss: 0.0027\n",
      "Epoch 935/1000, Train Loss: 0.0019, Test Loss: 0.0027\n",
      "Epoch 940/1000, Train Loss: 0.0019, Test Loss: 0.0027\n",
      "Epoch 945/1000, Train Loss: 0.0019, Test Loss: 0.0027\n",
      "Epoch 950/1000, Train Loss: 0.0019, Test Loss: 0.0027\n",
      "Epoch 955/1000, Train Loss: 0.0019, Test Loss: 0.0027\n",
      "Epoch 960/1000, Train Loss: 0.0019, Test Loss: 0.0027\n",
      "Epoch 965/1000, Train Loss: 0.0019, Test Loss: 0.0027\n",
      "Epoch 970/1000, Train Loss: 0.0019, Test Loss: 0.0027\n",
      "Epoch 975/1000, Train Loss: 0.0019, Test Loss: 0.0027\n",
      "Epoch 980/1000, Train Loss: 0.0018, Test Loss: 0.0027\n",
      "Epoch 985/1000, Train Loss: 0.0018, Test Loss: 0.0027\n",
      "Epoch 990/1000, Train Loss: 0.0018, Test Loss: 0.0027\n",
      "Epoch 995/1000, Train Loss: 0.0018, Test Loss: 0.0027\n",
      "Epoch 1000/1000, Train Loss: 0.0018, Test Loss: 0.0027\n"
     ]
    }
   ],
   "source": [
    "train_losses, test_losses = full_gd(model,\n",
    "                                    criterion,\n",
    "                                    optimizer,\n",
    "                                    X_train,\n",
    "                                    y_train,\n",
    "                                    X_test,\n",
    "                                    y_test,\n",
    "                                    epochs=1000)"
   ]
  },
  {
   "cell_type": "code",
   "execution_count": 21,
   "metadata": {
    "colab": {
     "base_uri": "https://localhost:8080/"
    },
    "colab_type": "code",
    "id": "NzD5qsMxJxuY",
    "outputId": "02733c51-d842-4404-b746-ad0087b12154"
   },
   "outputs": [
    {
     "data": {
      "image/png": "[encoded data removed]",
      "text/plain": [
       "<Figure size 432x288 with 1 Axes>"
      ]
     },
     "metadata": {
      "needs_background": "light"
     },
     "output_type": "display_data"
    }
   ],
   "source": [
    "# Plot the train loss and test loss per iteration\n",
    "plt.plot(train_losses, label='train loss')\n",
    "plt.plot(test_losses, label='test loss')\n",
    "plt.legend()\n",
    "plt.show()"
   ]
  },
  {
   "cell_type": "code",
   "execution_count": 22,
   "metadata": {
    "colab": {
     "base_uri": "https://localhost:8080/"
    },
    "colab_type": "code",
    "id": "5IACnu3gJ4dK",
    "outputId": "b74b4960-2b57-4d9c-bdad-e19f86236cf1"
   },
   "outputs": [
    {
     "name": "stdout",
     "output_type": "stream",
     "text": [
      "Train acc: 0.9998, Test acc: 0.9997\n"
     ]
    }
   ],
   "source": [
    "# Get accuracy\n",
    "with torch.no_grad():\n",
    "  p_train = model(X_train)\n",
    "  p_train = (p_train.cpu().numpy() > 0)\n",
    "  train_acc = np.mean(y_train.cpu().numpy() == p_train)\n",
    "\n",
    "  p_test = model(X_test)\n",
    "  p_test = (p_test.cpu().numpy() > 0)\n",
    "  test_acc = np.mean(y_test.cpu().numpy() == p_test)\n",
    "print(f\"Train acc: {train_acc:.4f}, Test acc: {test_acc:.4f}\")"
   ]
  },
  {
   "cell_type": "code",
   "execution_count": null,
   "metadata": {},
   "outputs": [],
   "source": []
  }
 ],
 "metadata": {
  "colab": {
   "name": "PyTorch Stock Returns.ipynb",
   "provenance": []
  },
  "kernelspec": {
   "display_name": "Python 3",
   "language": "python",
   "name": "python3"
  },
  "language_info": {
   "codemirror_mode": {
    "name": "ipython",
    "version": 3
   },
   "file_extension": ".py",
   "mimetype": "text/x-python",
   "name": "python",
   "nbconvert_exporter": "python",
   "pygments_lexer": "ipython3",
   "version": "3.7.4"
  }
 },
 "nbformat": 4,
 "nbformat_minor": 4
}
