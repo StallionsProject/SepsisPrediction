{
 "cells": [
  {
   "cell_type": "code",
   "execution_count": 1,
   "metadata": {},
   "outputs": [],
   "source": [
    "import pandas as pd"
   ]
  },
  {
   "cell_type": "code",
   "execution_count": 2,
   "metadata": {},
   "outputs": [],
   "source": [
    "df = pd.read_csv('../eICU/training/finalData2.csv')"
   ]
  },
  {
   "cell_type": "code",
   "execution_count": 3,
   "metadata": {},
   "outputs": [
    {
     "data": {
      "text/html": [
       "<div>\n",
       "<style scoped>\n",
       "    .dataframe tbody tr th:only-of-type {\n",
       "        vertical-align: middle;\n",
       "    }\n",
       "\n",
       "    .dataframe tbody tr th {\n",
       "        vertical-align: top;\n",
       "    }\n",
       "\n",
       "    .dataframe thead th {\n",
       "        text-align: right;\n",
       "    }\n",
       "</style>\n",
       "<table border=\"1\" class=\"dataframe\">\n",
       "  <thead>\n",
       "    <tr style=\"text-align: right;\">\n",
       "      <th></th>\n",
       "      <th>patientunitstayid</th>\n",
       "      <th>observationoffset</th>\n",
       "      <th>temperature</th>\n",
       "      <th>heartrate</th>\n",
       "      <th>respiration</th>\n",
       "      <th>systemicsystolic</th>\n",
       "      <th>creatinine</th>\n",
       "      <th>wbcx1000</th>\n",
       "      <th>lactate</th>\n",
       "      <th>urineoutputbyweight</th>\n",
       "      <th>diagnosis</th>\n",
       "    </tr>\n",
       "  </thead>\n",
       "  <tbody>\n",
       "    <tr>\n",
       "      <th>0</th>\n",
       "      <td>141227</td>\n",
       "      <td>-1893.0</td>\n",
       "      <td>38.037793</td>\n",
       "      <td>112.0</td>\n",
       "      <td>49.0</td>\n",
       "      <td>158.000000</td>\n",
       "      <td>1.40</td>\n",
       "      <td>48.20</td>\n",
       "      <td>4.300000</td>\n",
       "      <td>2.433090</td>\n",
       "      <td>0</td>\n",
       "    </tr>\n",
       "    <tr>\n",
       "      <th>1</th>\n",
       "      <td>141227</td>\n",
       "      <td>-1773.0</td>\n",
       "      <td>38.037793</td>\n",
       "      <td>112.0</td>\n",
       "      <td>49.0</td>\n",
       "      <td>158.000000</td>\n",
       "      <td>1.40</td>\n",
       "      <td>48.20</td>\n",
       "      <td>4.300000</td>\n",
       "      <td>2.433090</td>\n",
       "      <td>0</td>\n",
       "    </tr>\n",
       "    <tr>\n",
       "      <th>2</th>\n",
       "      <td>141227</td>\n",
       "      <td>-1663.0</td>\n",
       "      <td>38.037793</td>\n",
       "      <td>112.0</td>\n",
       "      <td>49.0</td>\n",
       "      <td>158.000000</td>\n",
       "      <td>1.40</td>\n",
       "      <td>48.20</td>\n",
       "      <td>4.300000</td>\n",
       "      <td>2.433090</td>\n",
       "      <td>0</td>\n",
       "    </tr>\n",
       "    <tr>\n",
       "      <th>3</th>\n",
       "      <td>141227</td>\n",
       "      <td>-1566.0</td>\n",
       "      <td>38.037793</td>\n",
       "      <td>112.0</td>\n",
       "      <td>49.0</td>\n",
       "      <td>158.000000</td>\n",
       "      <td>1.40</td>\n",
       "      <td>48.20</td>\n",
       "      <td>4.300000</td>\n",
       "      <td>2.433090</td>\n",
       "      <td>0</td>\n",
       "    </tr>\n",
       "    <tr>\n",
       "      <th>4</th>\n",
       "      <td>141227</td>\n",
       "      <td>-1351.0</td>\n",
       "      <td>38.037793</td>\n",
       "      <td>112.0</td>\n",
       "      <td>49.0</td>\n",
       "      <td>158.000000</td>\n",
       "      <td>1.40</td>\n",
       "      <td>47.95</td>\n",
       "      <td>4.300000</td>\n",
       "      <td>2.433090</td>\n",
       "      <td>0</td>\n",
       "    </tr>\n",
       "    <tr>\n",
       "      <th>...</th>\n",
       "      <td>...</td>\n",
       "      <td>...</td>\n",
       "      <td>...</td>\n",
       "      <td>...</td>\n",
       "      <td>...</td>\n",
       "      <td>...</td>\n",
       "      <td>...</td>\n",
       "      <td>...</td>\n",
       "      <td>...</td>\n",
       "      <td>...</td>\n",
       "      <td>...</td>\n",
       "    </tr>\n",
       "    <tr>\n",
       "      <th>6042126</th>\n",
       "      <td>3353254</td>\n",
       "      <td>5326.0</td>\n",
       "      <td>38.037793</td>\n",
       "      <td>82.0</td>\n",
       "      <td>12.0</td>\n",
       "      <td>118.600279</td>\n",
       "      <td>1.65</td>\n",
       "      <td>11.32</td>\n",
       "      <td>2.652916</td>\n",
       "      <td>4.767580</td>\n",
       "      <td>0</td>\n",
       "    </tr>\n",
       "    <tr>\n",
       "      <th>6042127</th>\n",
       "      <td>3353254</td>\n",
       "      <td>5491.0</td>\n",
       "      <td>38.037793</td>\n",
       "      <td>82.0</td>\n",
       "      <td>12.0</td>\n",
       "      <td>118.600279</td>\n",
       "      <td>1.66</td>\n",
       "      <td>11.51</td>\n",
       "      <td>2.652916</td>\n",
       "      <td>2.383790</td>\n",
       "      <td>0</td>\n",
       "    </tr>\n",
       "    <tr>\n",
       "      <th>6042128</th>\n",
       "      <td>3353254</td>\n",
       "      <td>5558.0</td>\n",
       "      <td>38.037793</td>\n",
       "      <td>82.0</td>\n",
       "      <td>12.0</td>\n",
       "      <td>118.600279</td>\n",
       "      <td>1.67</td>\n",
       "      <td>11.70</td>\n",
       "      <td>2.652916</td>\n",
       "      <td>4.767580</td>\n",
       "      <td>0</td>\n",
       "    </tr>\n",
       "    <tr>\n",
       "      <th>6042129</th>\n",
       "      <td>3353254</td>\n",
       "      <td>5926.0</td>\n",
       "      <td>38.037793</td>\n",
       "      <td>82.0</td>\n",
       "      <td>12.0</td>\n",
       "      <td>118.600279</td>\n",
       "      <td>1.67</td>\n",
       "      <td>11.70</td>\n",
       "      <td>2.652916</td>\n",
       "      <td>7.151371</td>\n",
       "      <td>0</td>\n",
       "    </tr>\n",
       "    <tr>\n",
       "      <th>6042130</th>\n",
       "      <td>3353254</td>\n",
       "      <td>6106.0</td>\n",
       "      <td>38.037793</td>\n",
       "      <td>82.0</td>\n",
       "      <td>12.0</td>\n",
       "      <td>118.600279</td>\n",
       "      <td>1.67</td>\n",
       "      <td>11.70</td>\n",
       "      <td>2.652916</td>\n",
       "      <td>7.163290</td>\n",
       "      <td>0</td>\n",
       "    </tr>\n",
       "  </tbody>\n",
       "</table>\n",
       "<p>6042131 rows × 11 columns</p>\n",
       "</div>"
      ],
      "text/plain": [
       "         patientunitstayid  observationoffset  temperature  heartrate  \\\n",
       "0                   141227            -1893.0    38.037793      112.0   \n",
       "1                   141227            -1773.0    38.037793      112.0   \n",
       "2                   141227            -1663.0    38.037793      112.0   \n",
       "3                   141227            -1566.0    38.037793      112.0   \n",
       "4                   141227            -1351.0    38.037793      112.0   \n",
       "...                    ...                ...          ...        ...   \n",
       "6042126            3353254             5326.0    38.037793       82.0   \n",
       "6042127            3353254             5491.0    38.037793       82.0   \n",
       "6042128            3353254             5558.0    38.037793       82.0   \n",
       "6042129            3353254             5926.0    38.037793       82.0   \n",
       "6042130            3353254             6106.0    38.037793       82.0   \n",
       "\n",
       "         respiration  systemicsystolic  creatinine  wbcx1000   lactate  \\\n",
       "0               49.0        158.000000        1.40     48.20  4.300000   \n",
       "1               49.0        158.000000        1.40     48.20  4.300000   \n",
       "2               49.0        158.000000        1.40     48.20  4.300000   \n",
       "3               49.0        158.000000        1.40     48.20  4.300000   \n",
       "4               49.0        158.000000        1.40     47.95  4.300000   \n",
       "...              ...               ...         ...       ...       ...   \n",
       "6042126         12.0        118.600279        1.65     11.32  2.652916   \n",
       "6042127         12.0        118.600279        1.66     11.51  2.652916   \n",
       "6042128         12.0        118.600279        1.67     11.70  2.652916   \n",
       "6042129         12.0        118.600279        1.67     11.70  2.652916   \n",
       "6042130         12.0        118.600279        1.67     11.70  2.652916   \n",
       "\n",
       "         urineoutputbyweight  diagnosis  \n",
       "0                   2.433090          0  \n",
       "1                   2.433090          0  \n",
       "2                   2.433090          0  \n",
       "3                   2.433090          0  \n",
       "4                   2.433090          0  \n",
       "...                      ...        ...  \n",
       "6042126             4.767580          0  \n",
       "6042127             2.383790          0  \n",
       "6042128             4.767580          0  \n",
       "6042129             7.151371          0  \n",
       "6042130             7.163290          0  \n",
       "\n",
       "[6042131 rows x 11 columns]"
      ]
     },
     "execution_count": 3,
     "metadata": {},
     "output_type": "execute_result"
    }
   ],
   "source": [
    "df"
   ]
  },
  {
   "cell_type": "code",
   "execution_count": 4,
   "metadata": {},
   "outputs": [
    {
     "data": {
      "text/plain": [
       "0    6025670\n",
       "1      16461\n",
       "Name: diagnosis, dtype: int64"
      ]
     },
     "execution_count": 4,
     "metadata": {},
     "output_type": "execute_result"
    }
   ],
   "source": [
    "df.diagnosis.value_counts()"
   ]
  },
  {
   "cell_type": "code",
   "execution_count": 5,
   "metadata": {},
   "outputs": [
    {
     "data": {
      "text/plain": [
       "18271"
      ]
     },
     "execution_count": 5,
     "metadata": {},
     "output_type": "execute_result"
    }
   ],
   "source": [
    "len(df.patientunitstayid.unique())"
   ]
  },
  {
   "cell_type": "code",
   "execution_count": 6,
   "metadata": {},
   "outputs": [],
   "source": [
    "p1 = df.loc[df['diagnosis'] == 1]"
   ]
  },
  {
   "cell_type": "code",
   "execution_count": 7,
   "metadata": {},
   "outputs": [],
   "source": [
    "ids = p1.patientunitstayid.unique()"
   ]
  },
  {
   "cell_type": "code",
   "execution_count": 8,
   "metadata": {},
   "outputs": [],
   "source": [
    "df2 = df[df.patientunitstayid.isin([key for key in ids])]"
   ]
  },
  {
   "cell_type": "code",
   "execution_count": 9,
   "metadata": {},
   "outputs": [
    {
     "data": {
      "text/plain": [
       "8256"
      ]
     },
     "execution_count": 9,
     "metadata": {},
     "output_type": "execute_result"
    }
   ],
   "source": [
    "len(df2.patientunitstayid.unique())"
   ]
  },
  {
   "cell_type": "code",
   "execution_count": 10,
   "metadata": {},
   "outputs": [
    {
     "data": {
      "text/plain": [
       "0    2787591\n",
       "1      16461\n",
       "Name: diagnosis, dtype: int64"
      ]
     },
     "execution_count": 10,
     "metadata": {},
     "output_type": "execute_result"
    }
   ],
   "source": [
    "df2.diagnosis.value_counts()"
   ]
  },
  {
   "cell_type": "code",
   "execution_count": 160,
   "metadata": {},
   "outputs": [],
   "source": [
    "p0 = df2.loc[df2['diagnosis'] == 0]"
   ]
  },
  {
   "cell_type": "code",
   "execution_count": 161,
   "metadata": {},
   "outputs": [],
   "source": [
    "t0 = p0.set_index('patientunitstayid')"
   ]
  },
  {
   "cell_type": "code",
   "execution_count": 162,
   "metadata": {},
   "outputs": [],
   "source": [
    "t1 = t0.groupby(level=0, group_keys=False, sort=False).apply(pd.DataFrame.tail, n=-100)\n"
   ]
  },
  {
   "cell_type": "code",
   "execution_count": 163,
   "metadata": {},
   "outputs": [
    {
     "data": {
      "text/plain": [
       "0    1982206\n",
       "Name: diagnosis, dtype: int64"
      ]
     },
     "execution_count": 163,
     "metadata": {},
     "output_type": "execute_result"
    }
   ],
   "source": [
    "t1.diagnosis.value_counts()"
   ]
  },
  {
   "cell_type": "code",
   "execution_count": 164,
   "metadata": {},
   "outputs": [
    {
     "data": {
      "text/plain": [
       "7725"
      ]
     },
     "execution_count": 164,
     "metadata": {},
     "output_type": "execute_result"
    }
   ],
   "source": [
    "len(t1.index.unique())"
   ]
  },
  {
   "cell_type": "code",
   "execution_count": 165,
   "metadata": {},
   "outputs": [],
   "source": [
    "t2 = t1.groupby('patientunitstayid').filter(lambda x: len(x) > 299)"
   ]
  },
  {
   "cell_type": "code",
   "execution_count": 166,
   "metadata": {},
   "outputs": [
    {
     "data": {
      "text/plain": [
       "3126"
      ]
     },
     "execution_count": 166,
     "metadata": {},
     "output_type": "execute_result"
    }
   ],
   "source": [
    "len(t2.index.unique())"
   ]
  },
  {
   "cell_type": "code",
   "execution_count": 167,
   "metadata": {},
   "outputs": [],
   "source": [
    "t3 = t2.groupby(level=0, group_keys=False, sort=False).apply(pd.DataFrame.tail, n=-200)\n"
   ]
  },
  {
   "cell_type": "code",
   "execution_count": 168,
   "metadata": {},
   "outputs": [
    {
     "data": {
      "text/plain": [
       "0    627844\n",
       "Name: diagnosis, dtype: int64"
      ]
     },
     "execution_count": 168,
     "metadata": {},
     "output_type": "execute_result"
    }
   ],
   "source": [
    "t3.diagnosis.value_counts()"
   ]
  },
  {
   "cell_type": "code",
   "execution_count": 169,
   "metadata": {},
   "outputs": [
    {
     "data": {
      "text/plain": [
       "3126"
      ]
     },
     "execution_count": 169,
     "metadata": {},
     "output_type": "execute_result"
    }
   ],
   "source": [
    "len(t3.index.unique())"
   ]
  },
  {
   "cell_type": "code",
   "execution_count": 170,
   "metadata": {},
   "outputs": [],
   "source": [
    "t4 = t1.groupby('patientunitstayid').filter(lambda x: len(x) <= 299)"
   ]
  },
  {
   "cell_type": "code",
   "execution_count": 171,
   "metadata": {},
   "outputs": [
    {
     "data": {
      "text/plain": [
       "7725"
      ]
     },
     "execution_count": 171,
     "metadata": {},
     "output_type": "execute_result"
    }
   ],
   "source": [
    "len(t4.index.unique())+len(t3.index.unique())"
   ]
  },
  {
   "cell_type": "markdown",
   "metadata": {},
   "source": [
    "#### Merged"
   ]
  },
  {
   "cell_type": "code",
   "execution_count": 172,
   "metadata": {},
   "outputs": [],
   "source": [
    "f = t3.append(t4)"
   ]
  },
  {
   "cell_type": "code",
   "execution_count": 173,
   "metadata": {},
   "outputs": [
    {
     "data": {
      "text/plain": [
       "7725"
      ]
     },
     "execution_count": 173,
     "metadata": {},
     "output_type": "execute_result"
    }
   ],
   "source": [
    "len(f.index.unique())"
   ]
  },
  {
   "cell_type": "code",
   "execution_count": 174,
   "metadata": {},
   "outputs": [],
   "source": [
    "ones = df2.loc[df2['diagnosis'] == 1]"
   ]
  },
  {
   "cell_type": "code",
   "execution_count": 180,
   "metadata": {},
   "outputs": [],
   "source": [
    "f = f.reset_index()"
   ]
  },
  {
   "cell_type": "code",
   "execution_count": 182,
   "metadata": {},
   "outputs": [],
   "source": [
    "final = f.append(ones)"
   ]
  },
  {
   "cell_type": "code",
   "execution_count": 185,
   "metadata": {},
   "outputs": [
    {
     "data": {
      "text/plain": [
       "8256"
      ]
     },
     "execution_count": 185,
     "metadata": {},
     "output_type": "execute_result"
    }
   ],
   "source": [
    "len(final.patientunitstayid.unique())"
   ]
  },
  {
   "cell_type": "code",
   "execution_count": 186,
   "metadata": {},
   "outputs": [
    {
     "data": {
      "text/plain": [
       "0    1357006\n",
       "1      16461\n",
       "Name: diagnosis, dtype: int64"
      ]
     },
     "execution_count": 186,
     "metadata": {},
     "output_type": "execute_result"
    }
   ],
   "source": [
    "final.diagnosis.value_counts()"
   ]
  },
  {
   "cell_type": "code",
   "execution_count": 187,
   "metadata": {
    "jupyter": {
     "outputs_hidden": false
    },
    "pycharm": {
     "name": "#%%\n"
    }
   },
   "outputs": [],
   "source": [
    "path = \"../eICU/training/\"\n",
    "final.to_csv(path + \"small_final.csv\", sep=',', index=False, encoding='utf-8')"
   ]
  },
  {
   "cell_type": "code",
   "execution_count": null,
   "metadata": {},
   "outputs": [],
   "source": []
  }
 ],
 "metadata": {
  "kernelspec": {
   "display_name": "Python 3",
   "language": "python",
   "name": "python3"
  },
  "language_info": {
   "codemirror_mode": {
    "name": "ipython",
    "version": 3
   },
   "file_extension": ".py",
   "mimetype": "text/x-python",
   "name": "python",
   "nbconvert_exporter": "python",
   "pygments_lexer": "ipython3",
   "version": "3.6.9"
  }
 },
 "nbformat": 4,
 "nbformat_minor": 4
}
