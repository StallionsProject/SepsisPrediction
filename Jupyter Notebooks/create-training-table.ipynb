{
 "cells": [
  {
   "cell_type": "markdown",
   "source": [
    "Definition of septic shock: \n",
    "\n",
    "* Body temperature: <36 °C or >38 °C\n",
    "* Heart rate: >90 BPM\n",
    "* Respiratory rate: >20 BPM or arterial CO2 pressure (PaCO2) <32 mmHg\n",
    "* White blood cell count: <4,000/mL or >12,000/mL\n",
    "\n",
    "\n",
    "Severe sepsis was defined as the presence of sepsis in combination with sepsis-related organ dysfunction.\n",
    "Sepsis-related organ dysfunction is specified in the surviving sepsis campaign guidelines as the presence of\n",
    "any of the symptoms listed below\n",
    "\n",
    "* Systolic blood pressure: <90 mmHg\n",
    "* Blood lactate: >2.0 mmol/L\n",
    "* Urine output: <0.5 mL/kg over the last two hours despite adequate fluid resuscitation\n",
    "* Creatinine: >2.0 mg/dL without the presence of chronic dialysis or renal insufficiency"
   ],
   "metadata": {
    "collapsed": false,
    "pycharm": {
     "name": "#%% md\n"
    }
   }
  },
  {
   "cell_type": "markdown",
   "source": [
    "Final training table\n",
    "\n",
    "<table>\n",
    "    <tr>\n",
    "        <th>patientunitstayid</th>\n",
    "        <th>observationoffset</th>\n",
    "        <th>temperature</th>\n",
    "        <th>heartrate</th>\n",
    "        <th>respiration</th>\n",
    "        <th>systemicsystolic</th>\n",
    "        <th>WBC x 1000</th>\n",
    "        <th>lactate</th>\n",
    "        <th>creatinine</th>\n",
    "        <th>*urine output</th>\n",
    "        <th>sepsis diganosis</th>\n",
    "    </tr>\n",
    "    <tr>\n",
    "        <td>patient</td>\n",
    "        <td>vitalperiodic</td>\n",
    "        <td>vitalperiodic</td>\n",
    "        <td>vitalperiodic</td>\n",
    "        <td>vitalperiodic</td>\n",
    "        <td>vitalperiodic</td>\n",
    "        <td>lab</td>\n",
    "        <td>lab</td>\n",
    "        <td>lab</td>\n",
    "        <td>intakeOutput</td>\n",
    "        <td>diganosis</td>\n",
    "    </tr>\n",
    "</table>\n"
   ],
   "metadata": {
    "collapsed": false,
    "pycharm": {
     "name": "#%% md\n"
    }
   }
  }
 ],
 "metadata": {
  "kernelspec": {
   "display_name": "Python 3",
   "language": "python",
   "name": "python3"
  },
  "language_info": {
   "codemirror_mode": {
    "name": "ipython",
    "version": 2
   },
   "file_extension": ".py",
   "mimetype": "text/x-python",
   "name": "python",
   "nbconvert_exporter": "python",
   "pygments_lexer": "ipython2",
   "version": "2.7.6"
  },
  "pycharm": {
   "stem_cell": {
    "cell_type": "raw",
    "source": [],
    "metadata": {
     "collapsed": false
    }
   }
  }
 },
 "nbformat": 4,
 "nbformat_minor": 0
}