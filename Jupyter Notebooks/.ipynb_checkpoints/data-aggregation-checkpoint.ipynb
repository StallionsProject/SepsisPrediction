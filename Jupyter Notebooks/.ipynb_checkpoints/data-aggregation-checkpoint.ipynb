{
 "cells": [
  {
   "cell_type": "code",
   "execution_count": 1,
   "metadata": {
    "collapsed": true
   },
   "outputs": [],
   "source": [
    "import pandas as pd\n",
    "import numpy as np"
   ]
  },
  {
   "cell_type": "code",
   "execution_count": 2,
   "outputs": [],
   "source": [
    "database_type = \"/training\""
   ],
   "metadata": {
    "collapsed": false,
    "pycharm": {
     "name": "#%%\n"
    }
   }
  },
  {
   "cell_type": "markdown",
   "source": [
    "#### Interpolating Data across patient timeseries"
   ],
   "metadata": {
    "collapsed": false
   }
  },
  {
   "cell_type": "code",
   "execution_count": 3,
   "outputs": [
    {
     "data": {
      "text/plain": "         patientunitstayid  observationoffset  temperature  heartrate  \\\n0                   141227            -1893.0    38.088274      112.0   \n1                   141227            -1773.0    38.088274      112.0   \n2                   141227            -1663.0    38.088274      112.0   \n3                   141227            -1566.0    38.088274      112.0   \n4                   141227            -1351.0    38.088274      112.0   \n...                    ...                ...          ...        ...   \n3543020            3353254             5326.0    38.088274       82.0   \n3543021            3353254             5491.0    38.088274       82.0   \n3543022            3353254             5558.0    38.088274       82.0   \n3543023            3353254             5926.0    38.088274       82.0   \n3543024            3353254             6106.0    38.088274       82.0   \n\n         respiration  systemicsystolic  creatinine  wbcx1000   lactate  \\\n0               49.0        122.146981        1.40     48.20  4.300000   \n1               49.0        122.146981        1.40     48.20  4.300000   \n2               49.0        122.146981        1.40     48.20  4.300000   \n3               49.0        122.146981        1.40     48.20  4.300000   \n4               49.0        122.146981        1.40     47.95  4.300000   \n...              ...               ...         ...       ...       ...   \n3543020         12.0        122.146981        1.65     11.32  2.584809   \n3543021         12.0        122.146981        1.66     11.51  2.584809   \n3543022         12.0        122.146981        1.67     11.70  2.584809   \n3543023         12.0        122.146981        1.67     11.70  2.584809   \n3543024         12.0        122.146981        1.67     11.70  2.584809   \n\n         urineoutputbyweight  diagnosis  \n0                   2.433090          0  \n1                   2.433090          0  \n2                   2.433090          0  \n3                   2.433090          0  \n4                   2.433090          0  \n...                      ...        ...  \n3543020             4.767580          0  \n3543021             2.383790          0  \n3543022             4.767580          0  \n3543023             7.151371          0  \n3543024             7.163290          0  \n\n[3543025 rows x 11 columns]",
      "text/html": "<div>\n<style scoped>\n    .dataframe tbody tr th:only-of-type {\n        vertical-align: middle;\n    }\n\n    .dataframe tbody tr th {\n        vertical-align: top;\n    }\n\n    .dataframe thead th {\n        text-align: right;\n    }\n</style>\n<table border=\"1\" class=\"dataframe\">\n  <thead>\n    <tr style=\"text-align: right;\">\n      <th></th>\n      <th>patientunitstayid</th>\n      <th>observationoffset</th>\n      <th>temperature</th>\n      <th>heartrate</th>\n      <th>respiration</th>\n      <th>systemicsystolic</th>\n      <th>creatinine</th>\n      <th>wbcx1000</th>\n      <th>lactate</th>\n      <th>urineoutputbyweight</th>\n      <th>diagnosis</th>\n    </tr>\n  </thead>\n  <tbody>\n    <tr>\n      <td>0</td>\n      <td>141227</td>\n      <td>-1893.0</td>\n      <td>38.088274</td>\n      <td>112.0</td>\n      <td>49.0</td>\n      <td>122.146981</td>\n      <td>1.40</td>\n      <td>48.20</td>\n      <td>4.300000</td>\n      <td>2.433090</td>\n      <td>0</td>\n    </tr>\n    <tr>\n      <td>1</td>\n      <td>141227</td>\n      <td>-1773.0</td>\n      <td>38.088274</td>\n      <td>112.0</td>\n      <td>49.0</td>\n      <td>122.146981</td>\n      <td>1.40</td>\n      <td>48.20</td>\n      <td>4.300000</td>\n      <td>2.433090</td>\n      <td>0</td>\n    </tr>\n    <tr>\n      <td>2</td>\n      <td>141227</td>\n      <td>-1663.0</td>\n      <td>38.088274</td>\n      <td>112.0</td>\n      <td>49.0</td>\n      <td>122.146981</td>\n      <td>1.40</td>\n      <td>48.20</td>\n      <td>4.300000</td>\n      <td>2.433090</td>\n      <td>0</td>\n    </tr>\n    <tr>\n      <td>3</td>\n      <td>141227</td>\n      <td>-1566.0</td>\n      <td>38.088274</td>\n      <td>112.0</td>\n      <td>49.0</td>\n      <td>122.146981</td>\n      <td>1.40</td>\n      <td>48.20</td>\n      <td>4.300000</td>\n      <td>2.433090</td>\n      <td>0</td>\n    </tr>\n    <tr>\n      <td>4</td>\n      <td>141227</td>\n      <td>-1351.0</td>\n      <td>38.088274</td>\n      <td>112.0</td>\n      <td>49.0</td>\n      <td>122.146981</td>\n      <td>1.40</td>\n      <td>47.95</td>\n      <td>4.300000</td>\n      <td>2.433090</td>\n      <td>0</td>\n    </tr>\n    <tr>\n      <td>...</td>\n      <td>...</td>\n      <td>...</td>\n      <td>...</td>\n      <td>...</td>\n      <td>...</td>\n      <td>...</td>\n      <td>...</td>\n      <td>...</td>\n      <td>...</td>\n      <td>...</td>\n      <td>...</td>\n    </tr>\n    <tr>\n      <td>3543020</td>\n      <td>3353254</td>\n      <td>5326.0</td>\n      <td>38.088274</td>\n      <td>82.0</td>\n      <td>12.0</td>\n      <td>122.146981</td>\n      <td>1.65</td>\n      <td>11.32</td>\n      <td>2.584809</td>\n      <td>4.767580</td>\n      <td>0</td>\n    </tr>\n    <tr>\n      <td>3543021</td>\n      <td>3353254</td>\n      <td>5491.0</td>\n      <td>38.088274</td>\n      <td>82.0</td>\n      <td>12.0</td>\n      <td>122.146981</td>\n      <td>1.66</td>\n      <td>11.51</td>\n      <td>2.584809</td>\n      <td>2.383790</td>\n      <td>0</td>\n    </tr>\n    <tr>\n      <td>3543022</td>\n      <td>3353254</td>\n      <td>5558.0</td>\n      <td>38.088274</td>\n      <td>82.0</td>\n      <td>12.0</td>\n      <td>122.146981</td>\n      <td>1.67</td>\n      <td>11.70</td>\n      <td>2.584809</td>\n      <td>4.767580</td>\n      <td>0</td>\n    </tr>\n    <tr>\n      <td>3543023</td>\n      <td>3353254</td>\n      <td>5926.0</td>\n      <td>38.088274</td>\n      <td>82.0</td>\n      <td>12.0</td>\n      <td>122.146981</td>\n      <td>1.67</td>\n      <td>11.70</td>\n      <td>2.584809</td>\n      <td>7.151371</td>\n      <td>0</td>\n    </tr>\n    <tr>\n      <td>3543024</td>\n      <td>3353254</td>\n      <td>6106.0</td>\n      <td>38.088274</td>\n      <td>82.0</td>\n      <td>12.0</td>\n      <td>122.146981</td>\n      <td>1.67</td>\n      <td>11.70</td>\n      <td>2.584809</td>\n      <td>7.163290</td>\n      <td>0</td>\n    </tr>\n  </tbody>\n</table>\n<p>3543025 rows × 11 columns</p>\n</div>"
     },
     "execution_count": 3,
     "metadata": {},
     "output_type": "execute_result"
    }
   ],
   "source": [
    "finalData = pd.read_csv('../eICU' + database_type + '/finalData.csv')\n",
    "finalData = finalData.sort_values(by=['patientunitstayid', 'observationoffset'])\n",
    "finalData"
   ],
   "metadata": {
    "collapsed": false,
    "pycharm": {
     "name": "#%%\n"
    }
   }
  },
  {
   "cell_type": "code",
   "execution_count": 4,
   "outputs": [],
   "source": [
    "idList = sorted(set(list(finalData['patientunitstayid'])))\n",
    "finalDataAggregated = pd.DataFrame()\n",
    "tmpDf = pd.DataFrame()"
   ],
   "metadata": {
    "collapsed": false,
    "pycharm": {
     "name": "#%%\n"
    }
   }
  },
  {
   "cell_type": "code",
   "execution_count": 5,
   "outputs": [
    {
     "data": {
      "text/plain": "    patientunitstayid  observationoffset  temperature  heartrate  respiration  \\\n0            141227.0            -1833.0    38.088274      112.0         49.0   \n1            141227.0            -1614.5    38.088274      112.0         49.0   \n2            141227.0             -739.5    38.088274      112.0         49.0   \n3            141227.0               -3.0    38.088274      112.0         49.0   \n4            141227.0               14.5    38.088274      107.0         43.5   \n..                ...                ...          ...        ...          ...   \n50          3353254.0             4156.5    38.088274       82.0         12.0   \n51          3353254.0             5243.5    38.088274       82.0         12.0   \n52          3353254.0             5408.5    38.088274       82.0         12.0   \n53          3353254.0             5742.0    38.088274       82.0         12.0   \n54          3353254.0             6106.0    38.088274       82.0         12.0   \n\n    systemicsystolic  creatinine  wbcx1000   lactate  urineoutputbyweight  \\\n0         122.146981       1.400    48.200  4.300000             2.433090   \n1         122.146981       1.400    48.200  4.300000             2.433090   \n2         122.146981       1.400    47.825  4.300000             2.433090   \n3         122.146981       1.500    65.900  4.300000             2.433090   \n4         122.146981       1.500    65.900  4.300000             2.433090   \n..               ...         ...       ...       ...                  ...   \n50        122.146981       1.615    10.655  2.584809            15.047676   \n51        122.146981       1.635    11.035  2.584809             3.277712   \n52        122.146981       1.655    11.415  2.584809             3.575685   \n53        122.146981       1.670    11.700  2.584809             5.959476   \n54        122.146981       1.670    11.700  2.584809             7.163290   \n\n    diagnosis  \n0         0.0  \n1         0.0  \n2         0.0  \n3         0.0  \n4         0.0  \n..        ...  \n50        0.0  \n51        0.0  \n52        0.0  \n53        0.0  \n54        0.0  \n\n[1776071 rows x 11 columns]",
      "text/html": "<div>\n<style scoped>\n    .dataframe tbody tr th:only-of-type {\n        vertical-align: middle;\n    }\n\n    .dataframe tbody tr th {\n        vertical-align: top;\n    }\n\n    .dataframe thead th {\n        text-align: right;\n    }\n</style>\n<table border=\"1\" class=\"dataframe\">\n  <thead>\n    <tr style=\"text-align: right;\">\n      <th></th>\n      <th>patientunitstayid</th>\n      <th>observationoffset</th>\n      <th>temperature</th>\n      <th>heartrate</th>\n      <th>respiration</th>\n      <th>systemicsystolic</th>\n      <th>creatinine</th>\n      <th>wbcx1000</th>\n      <th>lactate</th>\n      <th>urineoutputbyweight</th>\n      <th>diagnosis</th>\n    </tr>\n  </thead>\n  <tbody>\n    <tr>\n      <td>0</td>\n      <td>141227.0</td>\n      <td>-1833.0</td>\n      <td>38.088274</td>\n      <td>112.0</td>\n      <td>49.0</td>\n      <td>122.146981</td>\n      <td>1.400</td>\n      <td>48.200</td>\n      <td>4.300000</td>\n      <td>2.433090</td>\n      <td>0.0</td>\n    </tr>\n    <tr>\n      <td>1</td>\n      <td>141227.0</td>\n      <td>-1614.5</td>\n      <td>38.088274</td>\n      <td>112.0</td>\n      <td>49.0</td>\n      <td>122.146981</td>\n      <td>1.400</td>\n      <td>48.200</td>\n      <td>4.300000</td>\n      <td>2.433090</td>\n      <td>0.0</td>\n    </tr>\n    <tr>\n      <td>2</td>\n      <td>141227.0</td>\n      <td>-739.5</td>\n      <td>38.088274</td>\n      <td>112.0</td>\n      <td>49.0</td>\n      <td>122.146981</td>\n      <td>1.400</td>\n      <td>47.825</td>\n      <td>4.300000</td>\n      <td>2.433090</td>\n      <td>0.0</td>\n    </tr>\n    <tr>\n      <td>3</td>\n      <td>141227.0</td>\n      <td>-3.0</td>\n      <td>38.088274</td>\n      <td>112.0</td>\n      <td>49.0</td>\n      <td>122.146981</td>\n      <td>1.500</td>\n      <td>65.900</td>\n      <td>4.300000</td>\n      <td>2.433090</td>\n      <td>0.0</td>\n    </tr>\n    <tr>\n      <td>4</td>\n      <td>141227.0</td>\n      <td>14.5</td>\n      <td>38.088274</td>\n      <td>107.0</td>\n      <td>43.5</td>\n      <td>122.146981</td>\n      <td>1.500</td>\n      <td>65.900</td>\n      <td>4.300000</td>\n      <td>2.433090</td>\n      <td>0.0</td>\n    </tr>\n    <tr>\n      <td>...</td>\n      <td>...</td>\n      <td>...</td>\n      <td>...</td>\n      <td>...</td>\n      <td>...</td>\n      <td>...</td>\n      <td>...</td>\n      <td>...</td>\n      <td>...</td>\n      <td>...</td>\n      <td>...</td>\n    </tr>\n    <tr>\n      <td>50</td>\n      <td>3353254.0</td>\n      <td>4156.5</td>\n      <td>38.088274</td>\n      <td>82.0</td>\n      <td>12.0</td>\n      <td>122.146981</td>\n      <td>1.615</td>\n      <td>10.655</td>\n      <td>2.584809</td>\n      <td>15.047676</td>\n      <td>0.0</td>\n    </tr>\n    <tr>\n      <td>51</td>\n      <td>3353254.0</td>\n      <td>5243.5</td>\n      <td>38.088274</td>\n      <td>82.0</td>\n      <td>12.0</td>\n      <td>122.146981</td>\n      <td>1.635</td>\n      <td>11.035</td>\n      <td>2.584809</td>\n      <td>3.277712</td>\n      <td>0.0</td>\n    </tr>\n    <tr>\n      <td>52</td>\n      <td>3353254.0</td>\n      <td>5408.5</td>\n      <td>38.088274</td>\n      <td>82.0</td>\n      <td>12.0</td>\n      <td>122.146981</td>\n      <td>1.655</td>\n      <td>11.415</td>\n      <td>2.584809</td>\n      <td>3.575685</td>\n      <td>0.0</td>\n    </tr>\n    <tr>\n      <td>53</td>\n      <td>3353254.0</td>\n      <td>5742.0</td>\n      <td>38.088274</td>\n      <td>82.0</td>\n      <td>12.0</td>\n      <td>122.146981</td>\n      <td>1.670</td>\n      <td>11.700</td>\n      <td>2.584809</td>\n      <td>5.959476</td>\n      <td>0.0</td>\n    </tr>\n    <tr>\n      <td>54</td>\n      <td>3353254.0</td>\n      <td>6106.0</td>\n      <td>38.088274</td>\n      <td>82.0</td>\n      <td>12.0</td>\n      <td>122.146981</td>\n      <td>1.670</td>\n      <td>11.700</td>\n      <td>2.584809</td>\n      <td>7.163290</td>\n      <td>0.0</td>\n    </tr>\n  </tbody>\n</table>\n<p>1776071 rows × 11 columns</p>\n</div>"
     },
     "execution_count": 5,
     "metadata": {},
     "output_type": "execute_result"
    }
   ],
   "source": [
    "for id in idList:\n",
    "    df = finalData[finalData['patientunitstayid'] == id]\n",
    "    tmpDf = df.groupby(np.arange(len(df))//2).mean()\n",
    "    finalDataAggregated = finalDataAggregated.append(tmpDf)\n",
    "\n",
    "finalDataAggregated\n"
   ],
   "metadata": {
    "collapsed": false,
    "pycharm": {
     "name": "#%%\n"
    }
   }
  },
  {
   "cell_type": "code",
   "execution_count": 9,
   "outputs": [
    {
     "name": "stdout",
     "output_type": "stream",
     "text": [
      "Final Data:  3543025\n",
      "Final Data:  1776071\n"
     ]
    }
   ],
   "source": [
    "print(\"Final Data: \", len(finalData.patientunitstayid.unique()))\n",
    "print(\"Aggregated Data: \", len(finalDataAggregated.patientunitstayid.unique()))"
   ],
   "metadata": {
    "collapsed": false,
    "pycharm": {
     "name": "#%%\n"
    }
   }
  },
  {
   "cell_type": "code",
   "execution_count": 10,
   "outputs": [],
   "source": [
    "path = \"../eICU/training/\"\n",
    "finalData.to_csv(path + \"aggregatedData.csv\", sep=',', index=False, encoding='utf-8')"
   ],
   "metadata": {
    "collapsed": false,
    "pycharm": {
     "name": "#%%\n"
    }
   }
  },
  {
   "cell_type": "code",
   "execution_count": 7,
   "outputs": [],
   "source": [
    "# aggregationTime = 30 # time to aggregate data in mins\n",
    "\n",
    "    # while end_time < final_time:\n",
    "    #     # df_slice = df[df['observationoffset'] <= end_time]\n",
    "    #     df_slice = df.loc[(df['observationoffset'] <= end_time) & (start_time <= df['observationoffset'])]\n",
    "    #\n",
    "    #     finalDataAggregated.append(dict(\n",
    "    #         patientunitstayid = df_slice['patientunitstayid'],\n",
    "    #         observationoffset = ((start_time + end_time) // 2),\n",
    "    #         temperature = df_slice['temperature'].mean(),\n",
    "    #         heartrate = df_slice['heartrate'].mean(),\n",
    "    #         respiration = df_slice['respiration'].mean(),\n",
    "    #         systemicsystolic = df_slice['systemicsystolic'].mean(),\n",
    "    #         creatinine = df_slice['creatinine'].mean(),\n",
    "    #         wbcx1000 = df_slice['wbcx1000'].mean(),\n",
    "    #         lactate = df_slice['lactate'].mean(),\n",
    "    #         urineoutputbyweight = df_slice['urineoutputbyweight'].mean(),\n",
    "    #         diagnosis = df_slice['diagnosis']\n",
    "    #     ), ignore_index=True)\n",
    "    #\n",
    "    #     start_time = end_time + 1\n",
    "    #     end_time = start_time + aggregationTime\n",
    "\n",
    "        # print(start_time, end_time, sep='\\t')\n",
    "        # print(df_slice)\n",
    "\n"
   ],
   "metadata": {
    "collapsed": false,
    "pycharm": {
     "name": "#%%\n"
    }
   }
  }
 ],
 "metadata": {
  "kernelspec": {
   "display_name": "Python 3",
   "language": "python",
   "name": "python3"
  },
  "language_info": {
   "codemirror_mode": {
    "name": "ipython",
    "version": 2
   },
   "file_extension": ".py",
   "mimetype": "text/x-python",
   "name": "python",
   "nbconvert_exporter": "python",
   "pygments_lexer": "ipython2",
   "version": "2.7.6"
  }
 },
 "nbformat": 4,
 "nbformat_minor": 0
}