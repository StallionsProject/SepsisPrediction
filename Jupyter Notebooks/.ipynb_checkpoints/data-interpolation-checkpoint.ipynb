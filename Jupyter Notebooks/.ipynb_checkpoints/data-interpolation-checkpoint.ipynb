{
 "cells": [
  {
   "cell_type": "code",
   "execution_count": 1,
   "metadata": {
    "collapsed": false,
    "jupyter": {
     "outputs_hidden": false
    },
    "pycharm": {
     "name": "#%%\n"
    }
   },
   "outputs": [],
   "source": [
    "import pandas as pd\n",
    "# import numpy as np"
   ]
  },
  {
   "cell_type": "code",
   "execution_count": 2,
   "metadata": {
    "collapsed": false,
    "jupyter": {
     "outputs_hidden": false
    },
    "pycharm": {
     "name": "#%%\n"
    }
   },
   "outputs": [],
   "source": [
    "database_type = \"/training\""
   ]
  },
  {
   "cell_type": "markdown",
   "metadata": {},
   "source": [
    "#### Interpolating Data across patient timeseries"
   ]
  },
  {
   "cell_type": "code",
   "execution_count": 3,
   "metadata": {
    "collapsed": false,
    "jupyter": {
     "outputs_hidden": false
    },
    "pycharm": {
     "name": "#%%\n"
    },
    "scrolled": true
   },
   "outputs": [
    {
     "data": {
      "text/html": [
       "<div>\n",
       "<style scoped>\n",
       "    .dataframe tbody tr th:only-of-type {\n",
       "        vertical-align: middle;\n",
       "    }\n",
       "\n",
       "    .dataframe tbody tr th {\n",
       "        vertical-align: top;\n",
       "    }\n",
       "\n",
       "    .dataframe thead th {\n",
       "        text-align: right;\n",
       "    }\n",
       "</style>\n",
       "<table border=\"1\" class=\"dataframe\">\n",
       "  <thead>\n",
       "    <tr style=\"text-align: right;\">\n",
       "      <th></th>\n",
       "      <th>patientunitstayid</th>\n",
       "      <th>observationoffset</th>\n",
       "      <th>temperature</th>\n",
       "      <th>heartrate</th>\n",
       "      <th>respiration</th>\n",
       "      <th>systemicsystolic</th>\n",
       "      <th>creatinine</th>\n",
       "      <th>wbcx1000</th>\n",
       "      <th>lactate</th>\n",
       "      <th>urineoutputbyweight</th>\n",
       "      <th>diagnosis</th>\n",
       "    </tr>\n",
       "  </thead>\n",
       "  <tbody>\n",
       "    <tr>\n",
       "      <th>40960384</th>\n",
       "      <td>141227</td>\n",
       "      <td>-1893.0</td>\n",
       "      <td>NaN</td>\n",
       "      <td>NaN</td>\n",
       "      <td>NaN</td>\n",
       "      <td>NaN</td>\n",
       "      <td>NaN</td>\n",
       "      <td>NaN</td>\n",
       "      <td>NaN</td>\n",
       "      <td>2.433090</td>\n",
       "      <td>NaN</td>\n",
       "    </tr>\n",
       "    <tr>\n",
       "      <th>40960386</th>\n",
       "      <td>141227</td>\n",
       "      <td>-1773.0</td>\n",
       "      <td>NaN</td>\n",
       "      <td>NaN</td>\n",
       "      <td>NaN</td>\n",
       "      <td>NaN</td>\n",
       "      <td>NaN</td>\n",
       "      <td>NaN</td>\n",
       "      <td>NaN</td>\n",
       "      <td>2.433090</td>\n",
       "      <td>NaN</td>\n",
       "    </tr>\n",
       "    <tr>\n",
       "      <th>40960385</th>\n",
       "      <td>141227</td>\n",
       "      <td>-1663.0</td>\n",
       "      <td>NaN</td>\n",
       "      <td>NaN</td>\n",
       "      <td>NaN</td>\n",
       "      <td>NaN</td>\n",
       "      <td>NaN</td>\n",
       "      <td>NaN</td>\n",
       "      <td>NaN</td>\n",
       "      <td>2.433090</td>\n",
       "      <td>NaN</td>\n",
       "    </tr>\n",
       "    <tr>\n",
       "      <th>40657508</th>\n",
       "      <td>141227</td>\n",
       "      <td>-1566.0</td>\n",
       "      <td>NaN</td>\n",
       "      <td>NaN</td>\n",
       "      <td>NaN</td>\n",
       "      <td>NaN</td>\n",
       "      <td>1.40</td>\n",
       "      <td>48.2</td>\n",
       "      <td>NaN</td>\n",
       "      <td>NaN</td>\n",
       "      <td>NaN</td>\n",
       "    </tr>\n",
       "    <tr>\n",
       "      <th>40960387</th>\n",
       "      <td>141227</td>\n",
       "      <td>-1351.0</td>\n",
       "      <td>NaN</td>\n",
       "      <td>NaN</td>\n",
       "      <td>NaN</td>\n",
       "      <td>NaN</td>\n",
       "      <td>NaN</td>\n",
       "      <td>NaN</td>\n",
       "      <td>NaN</td>\n",
       "      <td>2.433090</td>\n",
       "      <td>NaN</td>\n",
       "    </tr>\n",
       "    <tr>\n",
       "      <th>...</th>\n",
       "      <td>...</td>\n",
       "      <td>...</td>\n",
       "      <td>...</td>\n",
       "      <td>...</td>\n",
       "      <td>...</td>\n",
       "      <td>...</td>\n",
       "      <td>...</td>\n",
       "      <td>...</td>\n",
       "      <td>...</td>\n",
       "      <td>...</td>\n",
       "      <td>...</td>\n",
       "    </tr>\n",
       "    <tr>\n",
       "      <th>41756721</th>\n",
       "      <td>3353254</td>\n",
       "      <td>5326.0</td>\n",
       "      <td>NaN</td>\n",
       "      <td>NaN</td>\n",
       "      <td>NaN</td>\n",
       "      <td>NaN</td>\n",
       "      <td>NaN</td>\n",
       "      <td>NaN</td>\n",
       "      <td>NaN</td>\n",
       "      <td>4.767580</td>\n",
       "      <td>NaN</td>\n",
       "    </tr>\n",
       "    <tr>\n",
       "      <th>41756711</th>\n",
       "      <td>3353254</td>\n",
       "      <td>5491.0</td>\n",
       "      <td>NaN</td>\n",
       "      <td>NaN</td>\n",
       "      <td>NaN</td>\n",
       "      <td>NaN</td>\n",
       "      <td>NaN</td>\n",
       "      <td>NaN</td>\n",
       "      <td>NaN</td>\n",
       "      <td>2.383790</td>\n",
       "      <td>NaN</td>\n",
       "    </tr>\n",
       "    <tr>\n",
       "      <th>40960381</th>\n",
       "      <td>3353254</td>\n",
       "      <td>5558.0</td>\n",
       "      <td>NaN</td>\n",
       "      <td>NaN</td>\n",
       "      <td>NaN</td>\n",
       "      <td>NaN</td>\n",
       "      <td>1.67</td>\n",
       "      <td>11.7</td>\n",
       "      <td>NaN</td>\n",
       "      <td>NaN</td>\n",
       "      <td>NaN</td>\n",
       "    </tr>\n",
       "    <tr>\n",
       "      <th>41756719</th>\n",
       "      <td>3353254</td>\n",
       "      <td>5926.0</td>\n",
       "      <td>NaN</td>\n",
       "      <td>NaN</td>\n",
       "      <td>NaN</td>\n",
       "      <td>NaN</td>\n",
       "      <td>NaN</td>\n",
       "      <td>NaN</td>\n",
       "      <td>NaN</td>\n",
       "      <td>7.151371</td>\n",
       "      <td>NaN</td>\n",
       "    </tr>\n",
       "    <tr>\n",
       "      <th>41756708</th>\n",
       "      <td>3353254</td>\n",
       "      <td>6106.0</td>\n",
       "      <td>NaN</td>\n",
       "      <td>NaN</td>\n",
       "      <td>NaN</td>\n",
       "      <td>NaN</td>\n",
       "      <td>NaN</td>\n",
       "      <td>NaN</td>\n",
       "      <td>NaN</td>\n",
       "      <td>7.163290</td>\n",
       "      <td>NaN</td>\n",
       "    </tr>\n",
       "  </tbody>\n",
       "</table>\n",
       "<p>41945382 rows × 11 columns</p>\n",
       "</div>"
      ],
      "text/plain": [
       "          patientunitstayid  observationoffset  temperature  heartrate  \\\n",
       "40960384             141227            -1893.0          NaN        NaN   \n",
       "40960386             141227            -1773.0          NaN        NaN   \n",
       "40960385             141227            -1663.0          NaN        NaN   \n",
       "40657508             141227            -1566.0          NaN        NaN   \n",
       "40960387             141227            -1351.0          NaN        NaN   \n",
       "...                     ...                ...          ...        ...   \n",
       "41756721            3353254             5326.0          NaN        NaN   \n",
       "41756711            3353254             5491.0          NaN        NaN   \n",
       "40960381            3353254             5558.0          NaN        NaN   \n",
       "41756719            3353254             5926.0          NaN        NaN   \n",
       "41756708            3353254             6106.0          NaN        NaN   \n",
       "\n",
       "          respiration  systemicsystolic  creatinine  wbcx1000  lactate  \\\n",
       "40960384          NaN               NaN         NaN       NaN      NaN   \n",
       "40960386          NaN               NaN         NaN       NaN      NaN   \n",
       "40960385          NaN               NaN         NaN       NaN      NaN   \n",
       "40657508          NaN               NaN        1.40      48.2      NaN   \n",
       "40960387          NaN               NaN         NaN       NaN      NaN   \n",
       "...               ...               ...         ...       ...      ...   \n",
       "41756721          NaN               NaN         NaN       NaN      NaN   \n",
       "41756711          NaN               NaN         NaN       NaN      NaN   \n",
       "40960381          NaN               NaN        1.67      11.7      NaN   \n",
       "41756719          NaN               NaN         NaN       NaN      NaN   \n",
       "41756708          NaN               NaN         NaN       NaN      NaN   \n",
       "\n",
       "          urineoutputbyweight  diagnosis  \n",
       "40960384             2.433090        NaN  \n",
       "40960386             2.433090        NaN  \n",
       "40960385             2.433090        NaN  \n",
       "40657508                  NaN        NaN  \n",
       "40960387             2.433090        NaN  \n",
       "...                       ...        ...  \n",
       "41756721             4.767580        NaN  \n",
       "41756711             2.383790        NaN  \n",
       "40960381                  NaN        NaN  \n",
       "41756719             7.151371        NaN  \n",
       "41756708             7.163290        NaN  \n",
       "\n",
       "[41945382 rows x 11 columns]"
      ]
     },
     "execution_count": 3,
     "metadata": {},
     "output_type": "execute_result"
    }
   ],
   "source": [
    "finalMerge = pd.read_csv('../eICU' + database_type + '/finalMerge.csv')\n",
    "finalMerge = finalMerge.sort_values(by=['patientunitstayid', 'observationoffset'])\n",
    "finalMerge"
   ]
  },
  {
   "cell_type": "code",
   "execution_count": 4,
   "metadata": {
    "collapsed": false,
    "jupyter": {
     "outputs_hidden": false
    },
    "pycharm": {
     "name": "#%%\n"
    },
    "scrolled": true
   },
   "outputs": [
    {
     "name": "stdout",
     "output_type": "stream",
     "text": [
      "temperature:  1946\n",
      "heartrate:  271\n",
      "creatinine:  3707\n",
      "wbcx1000:  4489\n",
      "urineoutputbyweight:  102159\n",
      "diagnosis:  3\n"
     ]
    }
   ],
   "source": [
    "print(\"temperature: \", len(finalMerge['temperature'].unique()))\n",
    "print(\"heartrate: \", len(finalMerge['heartrate'].unique()))\n",
    "print(\"creatinine: \", len(finalMerge['creatinine'].unique()))\n",
    "print(\"wbcx1000: \", len(finalMerge['wbcx1000'].unique()))\n",
    "print(\"urineoutputbyweight: \", len(finalMerge['urineoutputbyweight'].unique()))\n",
    "print(\"diagnosis: \", len(finalMerge['diagnosis'].unique()))"
   ]
  },
  {
   "cell_type": "code",
   "execution_count": 5,
   "metadata": {},
   "outputs": [],
   "source": [
    "items = finalMerge.patientunitstayid.value_counts().to_dict().items()"
   ]
  },
  {
   "cell_type": "code",
   "execution_count": 6,
   "metadata": {},
   "outputs": [
    {
     "data": {
      "text/plain": [
       "dict_items"
      ]
     },
     "execution_count": 6,
     "metadata": {},
     "output_type": "execute_result"
    }
   ],
   "source": [
    "type(items)"
   ]
  },
  {
   "cell_type": "code",
   "execution_count": 7,
   "metadata": {},
   "outputs": [
    {
     "data": {
      "text/plain": [
       "39669"
      ]
     },
     "execution_count": 7,
     "metadata": {},
     "output_type": "execute_result"
    }
   ],
   "source": [
    "len(items)"
   ]
  },
  {
   "cell_type": "code",
   "execution_count": 8,
   "metadata": {},
   "outputs": [],
   "source": [
    "finalMerge_small = finalMerge[finalMerge.patientunitstayid.isin([key for key, val in items if (val < 600)])]"
   ]
  },
  {
   "cell_type": "code",
   "execution_count": 9,
   "metadata": {},
   "outputs": [
    {
     "data": {
      "text/plain": [
       "0.0    37933\n",
       "1.0    17969\n",
       "Name: diagnosis, dtype: int64"
      ]
     },
     "execution_count": 9,
     "metadata": {},
     "output_type": "execute_result"
    }
   ],
   "source": [
    "finalMerge_small.diagnosis.value_counts()"
   ]
  },
  {
   "cell_type": "code",
   "execution_count": 10,
   "metadata": {
    "collapsed": false,
    "jupyter": {
     "outputs_hidden": false
    },
    "pycharm": {
     "name": "#%%\n"
    }
   },
   "outputs": [
    {
     "name": "stderr",
     "output_type": "stream",
     "text": [
      "/home/sanjay/.local/lib/python3.6/site-packages/pandas/core/indexing.py:966: SettingWithCopyWarning: \n",
      "A value is trying to be set on a copy of a slice from a DataFrame.\n",
      "Try using .loc[row_indexer,col_indexer] = value instead\n",
      "\n",
      "See the caveats in the documentation: https://pandas.pydata.org/pandas-docs/stable/user_guide/indexing.html#returning-a-view-versus-a-copy\n",
      "  self.obj[item] = s\n"
     ]
    },
    {
     "data": {
      "text/html": [
       "<div>\n",
       "<style scoped>\n",
       "    .dataframe tbody tr th:only-of-type {\n",
       "        vertical-align: middle;\n",
       "    }\n",
       "\n",
       "    .dataframe tbody tr th {\n",
       "        vertical-align: top;\n",
       "    }\n",
       "\n",
       "    .dataframe thead th {\n",
       "        text-align: right;\n",
       "    }\n",
       "</style>\n",
       "<table border=\"1\" class=\"dataframe\">\n",
       "  <thead>\n",
       "    <tr style=\"text-align: right;\">\n",
       "      <th></th>\n",
       "      <th>patientunitstayid</th>\n",
       "      <th>observationoffset</th>\n",
       "      <th>temperature</th>\n",
       "      <th>heartrate</th>\n",
       "      <th>respiration</th>\n",
       "      <th>systemicsystolic</th>\n",
       "      <th>creatinine</th>\n",
       "      <th>wbcx1000</th>\n",
       "      <th>lactate</th>\n",
       "      <th>urineoutputbyweight</th>\n",
       "      <th>diagnosis</th>\n",
       "    </tr>\n",
       "  </thead>\n",
       "  <tbody>\n",
       "    <tr>\n",
       "      <th>40960384</th>\n",
       "      <td>141227</td>\n",
       "      <td>-1893.0</td>\n",
       "      <td>NaN</td>\n",
       "      <td>112.0</td>\n",
       "      <td>49.0</td>\n",
       "      <td>158.0</td>\n",
       "      <td>1.40</td>\n",
       "      <td>48.20</td>\n",
       "      <td>4.3</td>\n",
       "      <td>2.433090</td>\n",
       "      <td>NaN</td>\n",
       "    </tr>\n",
       "    <tr>\n",
       "      <th>40960386</th>\n",
       "      <td>141227</td>\n",
       "      <td>-1773.0</td>\n",
       "      <td>NaN</td>\n",
       "      <td>112.0</td>\n",
       "      <td>49.0</td>\n",
       "      <td>158.0</td>\n",
       "      <td>1.40</td>\n",
       "      <td>48.20</td>\n",
       "      <td>4.3</td>\n",
       "      <td>2.433090</td>\n",
       "      <td>NaN</td>\n",
       "    </tr>\n",
       "    <tr>\n",
       "      <th>40960385</th>\n",
       "      <td>141227</td>\n",
       "      <td>-1663.0</td>\n",
       "      <td>NaN</td>\n",
       "      <td>112.0</td>\n",
       "      <td>49.0</td>\n",
       "      <td>158.0</td>\n",
       "      <td>1.40</td>\n",
       "      <td>48.20</td>\n",
       "      <td>4.3</td>\n",
       "      <td>2.433090</td>\n",
       "      <td>NaN</td>\n",
       "    </tr>\n",
       "    <tr>\n",
       "      <th>40657508</th>\n",
       "      <td>141227</td>\n",
       "      <td>-1566.0</td>\n",
       "      <td>NaN</td>\n",
       "      <td>112.0</td>\n",
       "      <td>49.0</td>\n",
       "      <td>158.0</td>\n",
       "      <td>1.40</td>\n",
       "      <td>48.20</td>\n",
       "      <td>4.3</td>\n",
       "      <td>2.433090</td>\n",
       "      <td>NaN</td>\n",
       "    </tr>\n",
       "    <tr>\n",
       "      <th>40960387</th>\n",
       "      <td>141227</td>\n",
       "      <td>-1351.0</td>\n",
       "      <td>NaN</td>\n",
       "      <td>112.0</td>\n",
       "      <td>49.0</td>\n",
       "      <td>158.0</td>\n",
       "      <td>1.40</td>\n",
       "      <td>47.95</td>\n",
       "      <td>4.3</td>\n",
       "      <td>2.433090</td>\n",
       "      <td>NaN</td>\n",
       "    </tr>\n",
       "    <tr>\n",
       "      <th>...</th>\n",
       "      <td>...</td>\n",
       "      <td>...</td>\n",
       "      <td>...</td>\n",
       "      <td>...</td>\n",
       "      <td>...</td>\n",
       "      <td>...</td>\n",
       "      <td>...</td>\n",
       "      <td>...</td>\n",
       "      <td>...</td>\n",
       "      <td>...</td>\n",
       "      <td>...</td>\n",
       "    </tr>\n",
       "    <tr>\n",
       "      <th>41756721</th>\n",
       "      <td>3353254</td>\n",
       "      <td>5326.0</td>\n",
       "      <td>NaN</td>\n",
       "      <td>82.0</td>\n",
       "      <td>12.0</td>\n",
       "      <td>NaN</td>\n",
       "      <td>1.65</td>\n",
       "      <td>11.32</td>\n",
       "      <td>NaN</td>\n",
       "      <td>4.767580</td>\n",
       "      <td>NaN</td>\n",
       "    </tr>\n",
       "    <tr>\n",
       "      <th>41756711</th>\n",
       "      <td>3353254</td>\n",
       "      <td>5491.0</td>\n",
       "      <td>NaN</td>\n",
       "      <td>82.0</td>\n",
       "      <td>12.0</td>\n",
       "      <td>NaN</td>\n",
       "      <td>1.66</td>\n",
       "      <td>11.51</td>\n",
       "      <td>NaN</td>\n",
       "      <td>2.383790</td>\n",
       "      <td>NaN</td>\n",
       "    </tr>\n",
       "    <tr>\n",
       "      <th>40960381</th>\n",
       "      <td>3353254</td>\n",
       "      <td>5558.0</td>\n",
       "      <td>NaN</td>\n",
       "      <td>82.0</td>\n",
       "      <td>12.0</td>\n",
       "      <td>NaN</td>\n",
       "      <td>1.67</td>\n",
       "      <td>11.70</td>\n",
       "      <td>NaN</td>\n",
       "      <td>4.767580</td>\n",
       "      <td>NaN</td>\n",
       "    </tr>\n",
       "    <tr>\n",
       "      <th>41756719</th>\n",
       "      <td>3353254</td>\n",
       "      <td>5926.0</td>\n",
       "      <td>NaN</td>\n",
       "      <td>82.0</td>\n",
       "      <td>12.0</td>\n",
       "      <td>NaN</td>\n",
       "      <td>1.67</td>\n",
       "      <td>11.70</td>\n",
       "      <td>NaN</td>\n",
       "      <td>7.151371</td>\n",
       "      <td>NaN</td>\n",
       "    </tr>\n",
       "    <tr>\n",
       "      <th>41756708</th>\n",
       "      <td>3353254</td>\n",
       "      <td>6106.0</td>\n",
       "      <td>NaN</td>\n",
       "      <td>82.0</td>\n",
       "      <td>12.0</td>\n",
       "      <td>NaN</td>\n",
       "      <td>1.67</td>\n",
       "      <td>11.70</td>\n",
       "      <td>NaN</td>\n",
       "      <td>7.163290</td>\n",
       "      <td>NaN</td>\n",
       "    </tr>\n",
       "  </tbody>\n",
       "</table>\n",
       "<p>6042131 rows × 11 columns</p>\n",
       "</div>"
      ],
      "text/plain": [
       "          patientunitstayid  observationoffset  temperature  heartrate  \\\n",
       "40960384             141227            -1893.0          NaN      112.0   \n",
       "40960386             141227            -1773.0          NaN      112.0   \n",
       "40960385             141227            -1663.0          NaN      112.0   \n",
       "40657508             141227            -1566.0          NaN      112.0   \n",
       "40960387             141227            -1351.0          NaN      112.0   \n",
       "...                     ...                ...          ...        ...   \n",
       "41756721            3353254             5326.0          NaN       82.0   \n",
       "41756711            3353254             5491.0          NaN       82.0   \n",
       "40960381            3353254             5558.0          NaN       82.0   \n",
       "41756719            3353254             5926.0          NaN       82.0   \n",
       "41756708            3353254             6106.0          NaN       82.0   \n",
       "\n",
       "          respiration  systemicsystolic  creatinine  wbcx1000  lactate  \\\n",
       "40960384         49.0             158.0        1.40     48.20      4.3   \n",
       "40960386         49.0             158.0        1.40     48.20      4.3   \n",
       "40960385         49.0             158.0        1.40     48.20      4.3   \n",
       "40657508         49.0             158.0        1.40     48.20      4.3   \n",
       "40960387         49.0             158.0        1.40     47.95      4.3   \n",
       "...               ...               ...         ...       ...      ...   \n",
       "41756721         12.0               NaN        1.65     11.32      NaN   \n",
       "41756711         12.0               NaN        1.66     11.51      NaN   \n",
       "40960381         12.0               NaN        1.67     11.70      NaN   \n",
       "41756719         12.0               NaN        1.67     11.70      NaN   \n",
       "41756708         12.0               NaN        1.67     11.70      NaN   \n",
       "\n",
       "          urineoutputbyweight  diagnosis  \n",
       "40960384             2.433090        NaN  \n",
       "40960386             2.433090        NaN  \n",
       "40960385             2.433090        NaN  \n",
       "40657508             2.433090        NaN  \n",
       "40960387             2.433090        NaN  \n",
       "...                       ...        ...  \n",
       "41756721             4.767580        NaN  \n",
       "41756711             2.383790        NaN  \n",
       "40960381             4.767580        NaN  \n",
       "41756719             7.151371        NaN  \n",
       "41756708             7.163290        NaN  \n",
       "\n",
       "[6042131 rows x 11 columns]"
      ]
     },
     "execution_count": 10,
     "metadata": {},
     "output_type": "execute_result"
    }
   ],
   "source": [
    "idList = sorted(set(list(finalMerge_small['patientunitstayid'])))\n",
    "cols = ['temperature', 'heartrate', 'respiration', 'systemicsystolic', 'creatinine', 'wbcx1000', 'lactate', 'urineoutputbyweight']\n",
    "finalData = pd.DataFrame()\n",
    "\n",
    "for id in idList:\n",
    "    df = finalMerge_small[finalMerge_small['patientunitstayid'] == id]\n",
    "    countNull = df[cols].isnull().sum().sum()\n",
    "    percentOfNull = (countNull / (len(df.index) * 8)) * 100\n",
    "    # print(percentOfNull)\n",
    "\n",
    "    if percentOfNull < 80:\n",
    "        # Dropping patient rows after diganosis = 1 (True)\n",
    "        # Interpolating Patient Data based on closet value\n",
    "        df.loc[:, 'temperature'] = df['temperature'].interpolate(method='linear', limit_direction='both')\n",
    "        df.loc[:, 'heartrate'] = df['heartrate'].interpolate(method='linear', limit_direction='both')\n",
    "        df.loc[:, 'respiration'] = df['respiration'].interpolate(method='linear', limit_direction='both')\n",
    "        df.loc[:, 'systemicsystolic'] = df['systemicsystolic'].interpolate(method='linear', limit_direction='both')\n",
    "        df.loc[:, 'creatinine'] = df['creatinine'].interpolate(method='linear', limit_direction='both')\n",
    "        df.loc[:, 'wbcx1000'] = df['wbcx1000'].interpolate(method='linear', limit_direction='both')\n",
    "        df.loc[:, 'lactate'] = df['lactate'].interpolate(method='linear', limit_direction='both')\n",
    "        df.loc[:, 'urineoutputbyweight'] = df['urineoutputbyweight'].interpolate(method='linear', limit_direction='both')\n",
    "        finalData = finalData.append(df)\n",
    "\n",
    "finalData"
   ]
  },
  {
   "cell_type": "code",
   "execution_count": 11,
   "metadata": {},
   "outputs": [
    {
     "data": {
      "text/plain": [
       "6678156"
      ]
     },
     "execution_count": 11,
     "metadata": {},
     "output_type": "execute_result"
    }
   ],
   "source": [
    "len(finalMerge_small)"
   ]
  },
  {
   "cell_type": "code",
   "execution_count": 12,
   "metadata": {},
   "outputs": [
    {
     "data": {
      "text/plain": [
       "6042131"
      ]
     },
     "execution_count": 12,
     "metadata": {},
     "output_type": "execute_result"
    }
   ],
   "source": [
    "len(finalData)"
   ]
  },
  {
   "cell_type": "code",
   "execution_count": 13,
   "metadata": {},
   "outputs": [
    {
     "data": {
      "text/plain": [
       "0.0    34533\n",
       "1.0    16461\n",
       "Name: diagnosis, dtype: int64"
      ]
     },
     "execution_count": 13,
     "metadata": {},
     "output_type": "execute_result"
    }
   ],
   "source": [
    "finalData.diagnosis.value_counts()"
   ]
  },
  {
   "cell_type": "code",
   "execution_count": 14,
   "metadata": {
    "collapsed": false,
    "jupyter": {
     "outputs_hidden": false
    },
    "pycharm": {
     "name": "#%%\n"
    }
   },
   "outputs": [
    {
     "data": {
      "text/plain": [
       "16035571"
      ]
     },
     "execution_count": 14,
     "metadata": {},
     "output_type": "execute_result"
    }
   ],
   "source": [
    "finalData[cols].isnull().sum().sum()"
   ]
  },
  {
   "cell_type": "code",
   "execution_count": null,
   "metadata": {
    "collapsed": false,
    "pycharm": {
     "name": "#%%\n"
    }
   },
   "outputs": [],
   "source": [
    "finalData['diagnosis'] = finalData['diagnosis'].fillna(0)\n",
    "sepsisOnly = finalData[finalData['diagnosis'] == 1]\n",
    "sepsisOnly\n"
   ]
  },
  {
   "cell_type": "code",
   "execution_count": null,
   "metadata": {
    "pycharm": {
     "name": "#%%\n"
    }
   },
   "outputs": [],
   "source": [
    "sepsisOnly['temperature'] = sepsisOnly['temperature'].fillna(sepsisOnly['temperature'].mean())\n",
    "sepsisOnly['heartrate'] = sepsisOnly['heartrate'].fillna(sepsisOnly['heartrate'].mean())\n",
    "sepsisOnly['respiration'] = sepsisOnly['respiration'].fillna(sepsisOnly['respiration'].mean())\n",
    "sepsisOnly['systemicsystolic'] = sepsisOnly['systemicsystolic'].fillna(sepsisOnly['systemicsystolic'].mean())\n",
    "sepsisOnly['creatinine'] = sepsisOnly['creatinine'].fillna(sepsisOnly['creatinine'].mean())\n",
    "sepsisOnly['wbcx1000'] = sepsisOnly['wbcx1000'].fillna(sepsisOnly['wbcx1000'].mean())\n",
    "sepsisOnly['lactate'] = sepsisOnly['lactate'].fillna(sepsisOnly['lactate'].mean())\n",
    "sepsisOnly['urineoutputbyweight'] = sepsisOnly['urineoutputbyweight'].fillna(sepsisOnly['urineoutputbyweight'].mean())"
   ]
  },
  {
   "cell_type": "code",
   "execution_count": 15,
   "metadata": {
    "collapsed": false,
    "jupyter": {
     "outputs_hidden": false
    },
    "pycharm": {
     "name": "#%%\n"
    }
   },
   "outputs": [],
   "source": [
    "sepsisOnly[cols].isnull().sum().sum()\n",
    "notSepsis = finalData[finalData['diagnosis'] == 0]\n",
    "notSepsis"
   ]
  },
  {
   "cell_type": "code",
   "execution_count": null,
   "metadata": {
    "collapsed": false,
    "pycharm": {
     "name": "#%%\n"
    }
   },
   "outputs": [],
   "source": [
    "notSepsis['temperature'] = notSepsis['temperature'].fillna(notSepsis['temperature'].mean())\n",
    "notSepsis['heartrate'] = notSepsis['heartrate'].fillna(notSepsis['heartrate'].mean())\n",
    "notSepsis['respiration'] = notSepsis['respiration'].fillna(notSepsis['respiration'].mean())\n",
    "notSepsis['systemicsystolic'] = notSepsis['systemicsystolic'].fillna(notSepsis['systemicsystolic'].mean())\n",
    "notSepsis['creatinine'] = notSepsis['creatinine'].fillna(notSepsis['creatinine'].mean())\n",
    "notSepsis['wbcx1000'] = notSepsis['wbcx1000'].fillna(notSepsis['wbcx1000'].mean())\n",
    "notSepsis['lactate'] = notSepsis['lactate'].fillna(notSepsis['lactate'].mean())\n",
    "notSepsis['urineoutputbyweight'] = notSepsis['urineoutputbyweight'].fillna(notSepsis['urineoutputbyweight'].mean())"
   ]
  },
  {
   "cell_type": "code",
   "execution_count": 16,
   "metadata": {
    "collapsed": false,
    "jupyter": {
     "outputs_hidden": false
    },
    "pycharm": {
     "name": "#%%\n"
    }
   },
   "outputs": [
    {
     "data": {
      "text/plain": [
       "0"
      ]
     },
     "execution_count": 16,
     "metadata": {},
     "output_type": "execute_result"
    }
   ],
   "source": [
    "notSepsis[cols].isnull().sum().sum()"
   ]
  },
  {
   "cell_type": "code",
   "execution_count": 17,
   "metadata": {
    "collapsed": false,
    "jupyter": {
     "outputs_hidden": false
    },
    "pycharm": {
     "name": "#%%\n"
    }
   },
   "outputs": [
    {
     "data": {
      "text/html": [
       "<div>\n",
       "<style scoped>\n",
       "    .dataframe tbody tr th:only-of-type {\n",
       "        vertical-align: middle;\n",
       "    }\n",
       "\n",
       "    .dataframe tbody tr th {\n",
       "        vertical-align: top;\n",
       "    }\n",
       "\n",
       "    .dataframe thead th {\n",
       "        text-align: right;\n",
       "    }\n",
       "</style>\n",
       "<table border=\"1\" class=\"dataframe\">\n",
       "  <thead>\n",
       "    <tr style=\"text-align: right;\">\n",
       "      <th></th>\n",
       "      <th>patientunitstayid</th>\n",
       "      <th>observationoffset</th>\n",
       "      <th>temperature</th>\n",
       "      <th>heartrate</th>\n",
       "      <th>respiration</th>\n",
       "      <th>systemicsystolic</th>\n",
       "      <th>creatinine</th>\n",
       "      <th>wbcx1000</th>\n",
       "      <th>lactate</th>\n",
       "      <th>urineoutputbyweight</th>\n",
       "      <th>diagnosis</th>\n",
       "    </tr>\n",
       "  </thead>\n",
       "  <tbody>\n",
       "    <tr>\n",
       "      <th>40960384</th>\n",
       "      <td>141227</td>\n",
       "      <td>-1893.0</td>\n",
       "      <td>38.03651</td>\n",
       "      <td>112.0</td>\n",
       "      <td>49.0</td>\n",
       "      <td>158.00000</td>\n",
       "      <td>1.40</td>\n",
       "      <td>48.20</td>\n",
       "      <td>4.300000</td>\n",
       "      <td>2.433090</td>\n",
       "      <td>0.0</td>\n",
       "    </tr>\n",
       "    <tr>\n",
       "      <th>40960386</th>\n",
       "      <td>141227</td>\n",
       "      <td>-1773.0</td>\n",
       "      <td>38.03651</td>\n",
       "      <td>112.0</td>\n",
       "      <td>49.0</td>\n",
       "      <td>158.00000</td>\n",
       "      <td>1.40</td>\n",
       "      <td>48.20</td>\n",
       "      <td>4.300000</td>\n",
       "      <td>2.433090</td>\n",
       "      <td>0.0</td>\n",
       "    </tr>\n",
       "    <tr>\n",
       "      <th>40960385</th>\n",
       "      <td>141227</td>\n",
       "      <td>-1663.0</td>\n",
       "      <td>38.03651</td>\n",
       "      <td>112.0</td>\n",
       "      <td>49.0</td>\n",
       "      <td>158.00000</td>\n",
       "      <td>1.40</td>\n",
       "      <td>48.20</td>\n",
       "      <td>4.300000</td>\n",
       "      <td>2.433090</td>\n",
       "      <td>0.0</td>\n",
       "    </tr>\n",
       "    <tr>\n",
       "      <th>40657508</th>\n",
       "      <td>141227</td>\n",
       "      <td>-1566.0</td>\n",
       "      <td>38.03651</td>\n",
       "      <td>112.0</td>\n",
       "      <td>49.0</td>\n",
       "      <td>158.00000</td>\n",
       "      <td>1.40</td>\n",
       "      <td>48.20</td>\n",
       "      <td>4.300000</td>\n",
       "      <td>2.433090</td>\n",
       "      <td>0.0</td>\n",
       "    </tr>\n",
       "    <tr>\n",
       "      <th>40960387</th>\n",
       "      <td>141227</td>\n",
       "      <td>-1351.0</td>\n",
       "      <td>38.03651</td>\n",
       "      <td>112.0</td>\n",
       "      <td>49.0</td>\n",
       "      <td>158.00000</td>\n",
       "      <td>1.40</td>\n",
       "      <td>47.95</td>\n",
       "      <td>4.300000</td>\n",
       "      <td>2.433090</td>\n",
       "      <td>0.0</td>\n",
       "    </tr>\n",
       "    <tr>\n",
       "      <th>...</th>\n",
       "      <td>...</td>\n",
       "      <td>...</td>\n",
       "      <td>...</td>\n",
       "      <td>...</td>\n",
       "      <td>...</td>\n",
       "      <td>...</td>\n",
       "      <td>...</td>\n",
       "      <td>...</td>\n",
       "      <td>...</td>\n",
       "      <td>...</td>\n",
       "      <td>...</td>\n",
       "    </tr>\n",
       "    <tr>\n",
       "      <th>41756721</th>\n",
       "      <td>3353254</td>\n",
       "      <td>5326.0</td>\n",
       "      <td>38.03651</td>\n",
       "      <td>82.0</td>\n",
       "      <td>12.0</td>\n",
       "      <td>118.56613</td>\n",
       "      <td>1.65</td>\n",
       "      <td>11.32</td>\n",
       "      <td>2.655717</td>\n",
       "      <td>4.767580</td>\n",
       "      <td>0.0</td>\n",
       "    </tr>\n",
       "    <tr>\n",
       "      <th>41756711</th>\n",
       "      <td>3353254</td>\n",
       "      <td>5491.0</td>\n",
       "      <td>38.03651</td>\n",
       "      <td>82.0</td>\n",
       "      <td>12.0</td>\n",
       "      <td>118.56613</td>\n",
       "      <td>1.66</td>\n",
       "      <td>11.51</td>\n",
       "      <td>2.655717</td>\n",
       "      <td>2.383790</td>\n",
       "      <td>0.0</td>\n",
       "    </tr>\n",
       "    <tr>\n",
       "      <th>40960381</th>\n",
       "      <td>3353254</td>\n",
       "      <td>5558.0</td>\n",
       "      <td>38.03651</td>\n",
       "      <td>82.0</td>\n",
       "      <td>12.0</td>\n",
       "      <td>118.56613</td>\n",
       "      <td>1.67</td>\n",
       "      <td>11.70</td>\n",
       "      <td>2.655717</td>\n",
       "      <td>4.767580</td>\n",
       "      <td>0.0</td>\n",
       "    </tr>\n",
       "    <tr>\n",
       "      <th>41756719</th>\n",
       "      <td>3353254</td>\n",
       "      <td>5926.0</td>\n",
       "      <td>38.03651</td>\n",
       "      <td>82.0</td>\n",
       "      <td>12.0</td>\n",
       "      <td>118.56613</td>\n",
       "      <td>1.67</td>\n",
       "      <td>11.70</td>\n",
       "      <td>2.655717</td>\n",
       "      <td>7.151371</td>\n",
       "      <td>0.0</td>\n",
       "    </tr>\n",
       "    <tr>\n",
       "      <th>41756708</th>\n",
       "      <td>3353254</td>\n",
       "      <td>6106.0</td>\n",
       "      <td>38.03651</td>\n",
       "      <td>82.0</td>\n",
       "      <td>12.0</td>\n",
       "      <td>118.56613</td>\n",
       "      <td>1.67</td>\n",
       "      <td>11.70</td>\n",
       "      <td>2.655717</td>\n",
       "      <td>7.163290</td>\n",
       "      <td>0.0</td>\n",
       "    </tr>\n",
       "  </tbody>\n",
       "</table>\n",
       "<p>6042131 rows × 11 columns</p>\n",
       "</div>"
      ],
      "text/plain": [
       "          patientunitstayid  observationoffset  temperature  heartrate  \\\n",
       "40960384             141227            -1893.0     38.03651      112.0   \n",
       "40960386             141227            -1773.0     38.03651      112.0   \n",
       "40960385             141227            -1663.0     38.03651      112.0   \n",
       "40657508             141227            -1566.0     38.03651      112.0   \n",
       "40960387             141227            -1351.0     38.03651      112.0   \n",
       "...                     ...                ...          ...        ...   \n",
       "41756721            3353254             5326.0     38.03651       82.0   \n",
       "41756711            3353254             5491.0     38.03651       82.0   \n",
       "40960381            3353254             5558.0     38.03651       82.0   \n",
       "41756719            3353254             5926.0     38.03651       82.0   \n",
       "41756708            3353254             6106.0     38.03651       82.0   \n",
       "\n",
       "          respiration  systemicsystolic  creatinine  wbcx1000   lactate  \\\n",
       "40960384         49.0         158.00000        1.40     48.20  4.300000   \n",
       "40960386         49.0         158.00000        1.40     48.20  4.300000   \n",
       "40960385         49.0         158.00000        1.40     48.20  4.300000   \n",
       "40657508         49.0         158.00000        1.40     48.20  4.300000   \n",
       "40960387         49.0         158.00000        1.40     47.95  4.300000   \n",
       "...               ...               ...         ...       ...       ...   \n",
       "41756721         12.0         118.56613        1.65     11.32  2.655717   \n",
       "41756711         12.0         118.56613        1.66     11.51  2.655717   \n",
       "40960381         12.0         118.56613        1.67     11.70  2.655717   \n",
       "41756719         12.0         118.56613        1.67     11.70  2.655717   \n",
       "41756708         12.0         118.56613        1.67     11.70  2.655717   \n",
       "\n",
       "          urineoutputbyweight  diagnosis  \n",
       "40960384             2.433090        0.0  \n",
       "40960386             2.433090        0.0  \n",
       "40960385             2.433090        0.0  \n",
       "40657508             2.433090        0.0  \n",
       "40960387             2.433090        0.0  \n",
       "...                       ...        ...  \n",
       "41756721             4.767580        0.0  \n",
       "41756711             2.383790        0.0  \n",
       "40960381             4.767580        0.0  \n",
       "41756719             7.151371        0.0  \n",
       "41756708             7.163290        0.0  \n",
       "\n",
       "[6042131 rows x 11 columns]"
      ]
     },
     "execution_count": 17,
     "metadata": {},
     "output_type": "execute_result"
    }
   ],
   "source": [
    "finalData2 = notSepsis.append(sepsisOnly)\n",
    "finalData2"
   ]
  },
  {
   "cell_type": "code",
   "execution_count": 18,
   "metadata": {},
   "outputs": [],
   "source": [
    "finalData2 = finalData2.sort_values(['patientunitstayid','observationoffset'])\n",
    "finalData2"
   ]
  },
  {
   "cell_type": "code",
   "execution_count": 19,
   "metadata": {},
   "outputs": [
    {
     "data": {
      "text/html": [
       "<div>\n",
       "<style scoped>\n",
       "    .dataframe tbody tr th:only-of-type {\n",
       "        vertical-align: middle;\n",
       "    }\n",
       "\n",
       "    .dataframe tbody tr th {\n",
       "        vertical-align: top;\n",
       "    }\n",
       "\n",
       "    .dataframe thead th {\n",
       "        text-align: right;\n",
       "    }\n",
       "</style>\n",
       "<table border=\"1\" class=\"dataframe\">\n",
       "  <thead>\n",
       "    <tr style=\"text-align: right;\">\n",
       "      <th></th>\n",
       "      <th>patientunitstayid</th>\n",
       "      <th>observationoffset</th>\n",
       "      <th>temperature</th>\n",
       "      <th>heartrate</th>\n",
       "      <th>respiration</th>\n",
       "      <th>systemicsystolic</th>\n",
       "      <th>creatinine</th>\n",
       "      <th>wbcx1000</th>\n",
       "      <th>lactate</th>\n",
       "      <th>urineoutputbyweight</th>\n",
       "      <th>diagnosis</th>\n",
       "    </tr>\n",
       "  </thead>\n",
       "  <tbody>\n",
       "    <tr>\n",
       "      <th>40960384</th>\n",
       "      <td>141227</td>\n",
       "      <td>-1893.0</td>\n",
       "      <td>38.03651</td>\n",
       "      <td>112.0</td>\n",
       "      <td>49.0</td>\n",
       "      <td>158.0</td>\n",
       "      <td>1.4</td>\n",
       "      <td>48.20</td>\n",
       "      <td>4.3</td>\n",
       "      <td>2.43309</td>\n",
       "      <td>0</td>\n",
       "    </tr>\n",
       "    <tr>\n",
       "      <th>40960386</th>\n",
       "      <td>141227</td>\n",
       "      <td>-1773.0</td>\n",
       "      <td>38.03651</td>\n",
       "      <td>112.0</td>\n",
       "      <td>49.0</td>\n",
       "      <td>158.0</td>\n",
       "      <td>1.4</td>\n",
       "      <td>48.20</td>\n",
       "      <td>4.3</td>\n",
       "      <td>2.43309</td>\n",
       "      <td>0</td>\n",
       "    </tr>\n",
       "    <tr>\n",
       "      <th>40960385</th>\n",
       "      <td>141227</td>\n",
       "      <td>-1663.0</td>\n",
       "      <td>38.03651</td>\n",
       "      <td>112.0</td>\n",
       "      <td>49.0</td>\n",
       "      <td>158.0</td>\n",
       "      <td>1.4</td>\n",
       "      <td>48.20</td>\n",
       "      <td>4.3</td>\n",
       "      <td>2.43309</td>\n",
       "      <td>0</td>\n",
       "    </tr>\n",
       "    <tr>\n",
       "      <th>40657508</th>\n",
       "      <td>141227</td>\n",
       "      <td>-1566.0</td>\n",
       "      <td>38.03651</td>\n",
       "      <td>112.0</td>\n",
       "      <td>49.0</td>\n",
       "      <td>158.0</td>\n",
       "      <td>1.4</td>\n",
       "      <td>48.20</td>\n",
       "      <td>4.3</td>\n",
       "      <td>2.43309</td>\n",
       "      <td>0</td>\n",
       "    </tr>\n",
       "    <tr>\n",
       "      <th>40960387</th>\n",
       "      <td>141227</td>\n",
       "      <td>-1351.0</td>\n",
       "      <td>38.03651</td>\n",
       "      <td>112.0</td>\n",
       "      <td>49.0</td>\n",
       "      <td>158.0</td>\n",
       "      <td>1.4</td>\n",
       "      <td>47.95</td>\n",
       "      <td>4.3</td>\n",
       "      <td>2.43309</td>\n",
       "      <td>0</td>\n",
       "    </tr>\n",
       "  </tbody>\n",
       "</table>\n",
       "</div>"
      ],
      "text/plain": [
       "          patientunitstayid  observationoffset  temperature  heartrate  \\\n",
       "40960384             141227            -1893.0     38.03651      112.0   \n",
       "40960386             141227            -1773.0     38.03651      112.0   \n",
       "40960385             141227            -1663.0     38.03651      112.0   \n",
       "40657508             141227            -1566.0     38.03651      112.0   \n",
       "40960387             141227            -1351.0     38.03651      112.0   \n",
       "\n",
       "          respiration  systemicsystolic  creatinine  wbcx1000  lactate  \\\n",
       "40960384         49.0             158.0         1.4     48.20      4.3   \n",
       "40960386         49.0             158.0         1.4     48.20      4.3   \n",
       "40960385         49.0             158.0         1.4     48.20      4.3   \n",
       "40657508         49.0             158.0         1.4     48.20      4.3   \n",
       "40960387         49.0             158.0         1.4     47.95      4.3   \n",
       "\n",
       "          urineoutputbyweight  diagnosis  \n",
       "40960384              2.43309          0  \n",
       "40960386              2.43309          0  \n",
       "40960385              2.43309          0  \n",
       "40657508              2.43309          0  \n",
       "40960387              2.43309          0  "
      ]
     },
     "execution_count": 19,
     "metadata": {},
     "output_type": "execute_result"
    }
   ],
   "source": [
    "finalData2 = finalData2.astype({'diagnosis': int})\n",
    "finalData2.head()"
   ]
  },
  {
   "cell_type": "code",
   "execution_count": 20,
   "metadata": {
    "collapsed": false,
    "jupyter": {
     "outputs_hidden": false
    },
    "pycharm": {
     "name": "#%%\n"
    }
   },
   "outputs": [],
   "source": [
    "path = \"../eICU/training/\"\n",
    "finalData2.to_csv(path + \"finalData2.csv\", sep=',', index=False, encoding='utf-8')"
   ]
  },
  {
   "cell_type": "code",
   "execution_count": null,
   "metadata": {},
   "outputs": [],
   "source": [
    "finalData = pd.read_csv('../eICU' + database_type + '/finalData2.csv')\n",
    "finalData = finalData.sort_values(by=['patientunitstayid', 'observationoffset'])\n",
    "finalData"
   ]
  }
 ],
 "metadata": {
  "kernelspec": {
   "display_name": "Python 3",
   "language": "python",
   "name": "python3"
  },
  "language_info": {
   "codemirror_mode": {
    "name": "ipython",
    "version": 3
   },
   "file_extension": ".py",
   "mimetype": "text/x-python",
   "name": "python",
   "nbconvert_exporter": "python",
   "pygments_lexer": "ipython3",
   "version": "3.7.4"
  }
 },
 "nbformat": 4,
 "nbformat_minor": 4
}
