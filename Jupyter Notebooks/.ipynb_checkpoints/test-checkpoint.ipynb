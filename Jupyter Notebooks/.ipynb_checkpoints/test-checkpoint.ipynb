{
 "cells": [
  {
   "cell_type": "code",
   "execution_count": 60,
   "metadata": {},
   "outputs": [],
   "source": [
    "import pandas as pd"
   ]
  },
  {
   "cell_type": "code",
   "execution_count": 61,
   "metadata": {},
   "outputs": [],
   "source": [
    "df = pd.read_csv('../eICU/training/finalData.csv')"
   ]
  },
  {
   "cell_type": "code",
   "execution_count": 62,
   "metadata": {},
   "outputs": [
    {
     "data": {
      "text/html": [
       "<div>\n",
       "<style scoped>\n",
       "    .dataframe tbody tr th:only-of-type {\n",
       "        vertical-align: middle;\n",
       "    }\n",
       "\n",
       "    .dataframe tbody tr th {\n",
       "        vertical-align: top;\n",
       "    }\n",
       "\n",
       "    .dataframe thead th {\n",
       "        text-align: right;\n",
       "    }\n",
       "</style>\n",
       "<table border=\"1\" class=\"dataframe\">\n",
       "  <thead>\n",
       "    <tr style=\"text-align: right;\">\n",
       "      <th></th>\n",
       "      <th>patientunitstayid</th>\n",
       "      <th>observationoffset</th>\n",
       "      <th>temperature</th>\n",
       "      <th>heartrate</th>\n",
       "      <th>respiration</th>\n",
       "      <th>systemicsystolic</th>\n",
       "      <th>creatinine</th>\n",
       "      <th>wbcx1000</th>\n",
       "      <th>lactate</th>\n",
       "      <th>urineoutputbyweight</th>\n",
       "      <th>diagnosis</th>\n",
       "    </tr>\n",
       "  </thead>\n",
       "  <tbody>\n",
       "    <tr>\n",
       "      <td>0</td>\n",
       "      <td>141227</td>\n",
       "      <td>-1893.0</td>\n",
       "      <td>38.03651</td>\n",
       "      <td>112.0</td>\n",
       "      <td>49.0</td>\n",
       "      <td>158.00000</td>\n",
       "      <td>1.40</td>\n",
       "      <td>48.20</td>\n",
       "      <td>4.300000</td>\n",
       "      <td>2.433090</td>\n",
       "      <td>0</td>\n",
       "    </tr>\n",
       "    <tr>\n",
       "      <td>1</td>\n",
       "      <td>141227</td>\n",
       "      <td>-1773.0</td>\n",
       "      <td>38.03651</td>\n",
       "      <td>112.0</td>\n",
       "      <td>49.0</td>\n",
       "      <td>158.00000</td>\n",
       "      <td>1.40</td>\n",
       "      <td>48.20</td>\n",
       "      <td>4.300000</td>\n",
       "      <td>2.433090</td>\n",
       "      <td>0</td>\n",
       "    </tr>\n",
       "    <tr>\n",
       "      <td>2</td>\n",
       "      <td>141227</td>\n",
       "      <td>-1663.0</td>\n",
       "      <td>38.03651</td>\n",
       "      <td>112.0</td>\n",
       "      <td>49.0</td>\n",
       "      <td>158.00000</td>\n",
       "      <td>1.40</td>\n",
       "      <td>48.20</td>\n",
       "      <td>4.300000</td>\n",
       "      <td>2.433090</td>\n",
       "      <td>0</td>\n",
       "    </tr>\n",
       "    <tr>\n",
       "      <td>3</td>\n",
       "      <td>141227</td>\n",
       "      <td>-1566.0</td>\n",
       "      <td>38.03651</td>\n",
       "      <td>112.0</td>\n",
       "      <td>49.0</td>\n",
       "      <td>158.00000</td>\n",
       "      <td>1.40</td>\n",
       "      <td>48.20</td>\n",
       "      <td>4.300000</td>\n",
       "      <td>2.433090</td>\n",
       "      <td>0</td>\n",
       "    </tr>\n",
       "    <tr>\n",
       "      <td>4</td>\n",
       "      <td>141227</td>\n",
       "      <td>-1351.0</td>\n",
       "      <td>38.03651</td>\n",
       "      <td>112.0</td>\n",
       "      <td>49.0</td>\n",
       "      <td>158.00000</td>\n",
       "      <td>1.40</td>\n",
       "      <td>47.95</td>\n",
       "      <td>4.300000</td>\n",
       "      <td>2.433090</td>\n",
       "      <td>0</td>\n",
       "    </tr>\n",
       "    <tr>\n",
       "      <td>...</td>\n",
       "      <td>...</td>\n",
       "      <td>...</td>\n",
       "      <td>...</td>\n",
       "      <td>...</td>\n",
       "      <td>...</td>\n",
       "      <td>...</td>\n",
       "      <td>...</td>\n",
       "      <td>...</td>\n",
       "      <td>...</td>\n",
       "      <td>...</td>\n",
       "      <td>...</td>\n",
       "    </tr>\n",
       "    <tr>\n",
       "      <td>6042126</td>\n",
       "      <td>3353254</td>\n",
       "      <td>5326.0</td>\n",
       "      <td>38.03651</td>\n",
       "      <td>82.0</td>\n",
       "      <td>12.0</td>\n",
       "      <td>118.56613</td>\n",
       "      <td>1.65</td>\n",
       "      <td>11.32</td>\n",
       "      <td>2.655717</td>\n",
       "      <td>4.767580</td>\n",
       "      <td>0</td>\n",
       "    </tr>\n",
       "    <tr>\n",
       "      <td>6042127</td>\n",
       "      <td>3353254</td>\n",
       "      <td>5491.0</td>\n",
       "      <td>38.03651</td>\n",
       "      <td>82.0</td>\n",
       "      <td>12.0</td>\n",
       "      <td>118.56613</td>\n",
       "      <td>1.66</td>\n",
       "      <td>11.51</td>\n",
       "      <td>2.655717</td>\n",
       "      <td>2.383790</td>\n",
       "      <td>0</td>\n",
       "    </tr>\n",
       "    <tr>\n",
       "      <td>6042128</td>\n",
       "      <td>3353254</td>\n",
       "      <td>5558.0</td>\n",
       "      <td>38.03651</td>\n",
       "      <td>82.0</td>\n",
       "      <td>12.0</td>\n",
       "      <td>118.56613</td>\n",
       "      <td>1.67</td>\n",
       "      <td>11.70</td>\n",
       "      <td>2.655717</td>\n",
       "      <td>4.767580</td>\n",
       "      <td>0</td>\n",
       "    </tr>\n",
       "    <tr>\n",
       "      <td>6042129</td>\n",
       "      <td>3353254</td>\n",
       "      <td>5926.0</td>\n",
       "      <td>38.03651</td>\n",
       "      <td>82.0</td>\n",
       "      <td>12.0</td>\n",
       "      <td>118.56613</td>\n",
       "      <td>1.67</td>\n",
       "      <td>11.70</td>\n",
       "      <td>2.655717</td>\n",
       "      <td>7.151371</td>\n",
       "      <td>0</td>\n",
       "    </tr>\n",
       "    <tr>\n",
       "      <td>6042130</td>\n",
       "      <td>3353254</td>\n",
       "      <td>6106.0</td>\n",
       "      <td>38.03651</td>\n",
       "      <td>82.0</td>\n",
       "      <td>12.0</td>\n",
       "      <td>118.56613</td>\n",
       "      <td>1.67</td>\n",
       "      <td>11.70</td>\n",
       "      <td>2.655717</td>\n",
       "      <td>7.163290</td>\n",
       "      <td>0</td>\n",
       "    </tr>\n",
       "  </tbody>\n",
       "</table>\n",
       "<p>6042131 rows × 11 columns</p>\n",
       "</div>"
      ],
      "text/plain": [
       "         patientunitstayid  observationoffset  temperature  heartrate  \\\n",
       "0                   141227            -1893.0     38.03651      112.0   \n",
       "1                   141227            -1773.0     38.03651      112.0   \n",
       "2                   141227            -1663.0     38.03651      112.0   \n",
       "3                   141227            -1566.0     38.03651      112.0   \n",
       "4                   141227            -1351.0     38.03651      112.0   \n",
       "...                    ...                ...          ...        ...   \n",
       "6042126            3353254             5326.0     38.03651       82.0   \n",
       "6042127            3353254             5491.0     38.03651       82.0   \n",
       "6042128            3353254             5558.0     38.03651       82.0   \n",
       "6042129            3353254             5926.0     38.03651       82.0   \n",
       "6042130            3353254             6106.0     38.03651       82.0   \n",
       "\n",
       "         respiration  systemicsystolic  creatinine  wbcx1000   lactate  \\\n",
       "0               49.0         158.00000        1.40     48.20  4.300000   \n",
       "1               49.0         158.00000        1.40     48.20  4.300000   \n",
       "2               49.0         158.00000        1.40     48.20  4.300000   \n",
       "3               49.0         158.00000        1.40     48.20  4.300000   \n",
       "4               49.0         158.00000        1.40     47.95  4.300000   \n",
       "...              ...               ...         ...       ...       ...   \n",
       "6042126         12.0         118.56613        1.65     11.32  2.655717   \n",
       "6042127         12.0         118.56613        1.66     11.51  2.655717   \n",
       "6042128         12.0         118.56613        1.67     11.70  2.655717   \n",
       "6042129         12.0         118.56613        1.67     11.70  2.655717   \n",
       "6042130         12.0         118.56613        1.67     11.70  2.655717   \n",
       "\n",
       "         urineoutputbyweight  diagnosis  \n",
       "0                   2.433090          0  \n",
       "1                   2.433090          0  \n",
       "2                   2.433090          0  \n",
       "3                   2.433090          0  \n",
       "4                   2.433090          0  \n",
       "...                      ...        ...  \n",
       "6042126             4.767580          0  \n",
       "6042127             2.383790          0  \n",
       "6042128             4.767580          0  \n",
       "6042129             7.151371          0  \n",
       "6042130             7.163290          0  \n",
       "\n",
       "[6042131 rows x 11 columns]"
      ]
     },
     "execution_count": 62,
     "metadata": {},
     "output_type": "execute_result"
    }
   ],
   "source": [
    "df"
   ]
  },
  {
   "cell_type": "code",
   "execution_count": 63,
   "metadata": {},
   "outputs": [
    {
     "data": {
      "text/plain": [
       "0    6025670\n",
       "1      16461\n",
       "Name: diagnosis, dtype: int64"
      ]
     },
     "execution_count": 63,
     "metadata": {},
     "output_type": "execute_result"
    }
   ],
   "source": [
    "df.diagnosis.value_counts()"
   ]
  },
  {
   "cell_type": "code",
   "execution_count": 77,
   "metadata": {},
   "outputs": [
    {
     "data": {
      "text/plain": [
       "6209"
      ]
     },
     "execution_count": 77,
     "metadata": {},
     "output_type": "execute_result"
    }
   ],
   "source": [
    "len(t1.index.unique())"
   ]
  },
  {
   "cell_type": "code",
   "execution_count": null,
   "metadata": {},
   "outputs": [],
   "source": []
  },
  {
   "cell_type": "code",
   "execution_count": 78,
   "metadata": {},
   "outputs": [],
   "source": [
    "p1 = df.loc[df['diagnosis'] == 1]"
   ]
  },
  {
   "cell_type": "code",
   "execution_count": 80,
   "metadata": {},
   "outputs": [],
   "source": [
    "ids = p1.patientunitstayid.unique()"
   ]
  },
  {
   "cell_type": "code",
   "execution_count": 82,
   "metadata": {},
   "outputs": [],
   "source": [
    "df2 = df[df.patientunitstayid.isin([key for key in ids])]"
   ]
  },
  {
   "cell_type": "code",
   "execution_count": 84,
   "metadata": {},
   "outputs": [
    {
     "data": {
      "text/plain": [
       "8256"
      ]
     },
     "execution_count": 84,
     "metadata": {},
     "output_type": "execute_result"
    }
   ],
   "source": [
    "len(df2.patientunitstayid.unique())"
   ]
  },
  {
   "cell_type": "code",
   "execution_count": 85,
   "metadata": {},
   "outputs": [
    {
     "data": {
      "text/plain": [
       "0    2787591\n",
       "1      16461\n",
       "Name: diagnosis, dtype: int64"
      ]
     },
     "execution_count": 85,
     "metadata": {},
     "output_type": "execute_result"
    }
   ],
   "source": [
    "df2.diagnosis.value_counts()"
   ]
  },
  {
   "cell_type": "code",
   "execution_count": 86,
   "metadata": {},
   "outputs": [],
   "source": [
    "p0 = df2.loc[df2['diagnosis'] == 0]"
   ]
  },
  {
   "cell_type": "code",
   "execution_count": 87,
   "metadata": {},
   "outputs": [],
   "source": [
    "t0 = p0.set_index('patientunitstayid')"
   ]
  },
  {
   "cell_type": "code",
   "execution_count": 102,
   "metadata": {},
   "outputs": [],
   "source": [
    "t1 = t0.groupby(level=0, group_keys=False, sort=False).apply(pd.DataFrame.tail, n=-100)\n"
   ]
  },
  {
   "cell_type": "code",
   "execution_count": 103,
   "metadata": {},
   "outputs": [
    {
     "data": {
      "text/plain": [
       "0    1982206\n",
       "Name: diagnosis, dtype: int64"
      ]
     },
     "execution_count": 103,
     "metadata": {},
     "output_type": "execute_result"
    }
   ],
   "source": [
    "t1.diagnosis.value_counts()"
   ]
  },
  {
   "cell_type": "code",
   "execution_count": 104,
   "metadata": {},
   "outputs": [
    {
     "data": {
      "text/plain": [
       "7725"
      ]
     },
     "execution_count": 104,
     "metadata": {},
     "output_type": "execute_result"
    }
   ],
   "source": [
    "len(t1.index.unique())"
   ]
  },
  {
   "cell_type": "code",
   "execution_count": 106,
   "metadata": {},
   "outputs": [],
   "source": [
    "t2 = t1.groupby('patientunitstayid').filter(lambda x: len(x) > 299)"
   ]
  },
  {
   "cell_type": "code",
   "execution_count": 116,
   "metadata": {},
   "outputs": [
    {
     "data": {
      "text/plain": [
       "3126"
      ]
     },
     "execution_count": 116,
     "metadata": {},
     "output_type": "execute_result"
    }
   ],
   "source": [
    "len(t2.index.unique())"
   ]
  },
  {
   "cell_type": "code",
   "execution_count": 123,
   "metadata": {},
   "outputs": [],
   "source": [
    "t3 = t2.groupby(level=0, group_keys=False, sort=False).apply(pd.DataFrame.tail, n=-200)\n"
   ]
  },
  {
   "cell_type": "code",
   "execution_count": 124,
   "metadata": {},
   "outputs": [
    {
     "data": {
      "text/plain": [
       "0    627844\n",
       "Name: diagnosis, dtype: int64"
      ]
     },
     "execution_count": 124,
     "metadata": {},
     "output_type": "execute_result"
    }
   ],
   "source": [
    "t3.diagnosis.value_counts()"
   ]
  },
  {
   "cell_type": "code",
   "execution_count": 125,
   "metadata": {},
   "outputs": [
    {
     "data": {
      "text/plain": [
       "3126"
      ]
     },
     "execution_count": 125,
     "metadata": {},
     "output_type": "execute_result"
    }
   ],
   "source": [
    "len(t3.index.unique())"
   ]
  },
  {
   "cell_type": "code",
   "execution_count": 126,
   "metadata": {},
   "outputs": [],
   "source": [
    "t4 = t1.groupby('patientunitstayid').filter(lambda x: len(x) <= 299)"
   ]
  },
  {
   "cell_type": "code",
   "execution_count": 128,
   "metadata": {},
   "outputs": [
    {
     "data": {
      "text/plain": [
       "7725"
      ]
     },
     "execution_count": 128,
     "metadata": {},
     "output_type": "execute_result"
    }
   ],
   "source": [
    "len(t4.index.unique())+len(t3.index.unique())"
   ]
  },
  {
   "cell_type": "code",
   "execution_count": null,
   "metadata": {},
   "outputs": [],
   "source": []
  }
 ],
 "metadata": {
  "kernelspec": {
   "display_name": "Python 3",
   "language": "python",
   "name": "python3"
  },
  "language_info": {
   "codemirror_mode": {
    "name": "ipython",
    "version": 3
   },
   "file_extension": ".py",
   "mimetype": "text/x-python",
   "name": "python",
   "nbconvert_exporter": "python",
   "pygments_lexer": "ipython3",
   "version": "3.7.4"
  }
 },
 "nbformat": 4,
 "nbformat_minor": 4
}
