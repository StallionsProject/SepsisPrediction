{
 "cells": [
  {
   "cell_type": "code",
   "execution_count": 1,
   "outputs": [],
   "source": [
    "%load_ext autoreload\n",
    "%autoreload 2"
   ],
   "metadata": {
    "collapsed": false,
    "pycharm": {
     "name": "#%%\n",
     "is_executing": false
    }
   }
  },
  {
   "cell_type": "code",
   "execution_count": 3,
   "outputs": [],
   "source": [
    "import pandas as pd\n",
    "# import numpy as np"
   ],
   "metadata": {
    "collapsed": false,
    "pycharm": {
     "name": "#%%\n",
     "is_executing": false
    }
   }
  },
  {
   "cell_type": "code",
   "execution_count": 4,
   "outputs": [],
   "source": [
    "database_type = \"/training\""
   ],
   "metadata": {
    "collapsed": false,
    "pycharm": {
     "name": "#%%\n",
     "is_executing": false
    }
   }
  },
  {
   "cell_type": "markdown",
   "source": [
    "#### Interpolating Data across patient timeseries"
   ],
   "metadata": {
    "collapsed": false
   }
  },
  {
   "cell_type": "code",
   "execution_count": 5,
   "outputs": [
    {
     "data": {
      "text/plain": "         patientunitstayid  observationoffset  temperature  heartrate  \\\n0                   141765             1179.0          NaN       82.0   \n1                   141765              189.0          NaN       76.0   \n2                   141765             1169.0          NaN       84.0   \n3                   141765             1534.0          NaN       92.0   \n4                   141765             1164.0          NaN       86.0   \n...                    ...                ...          ...        ...   \n1700915            3158501                NaN          NaN        NaN   \n1700916            3158501                NaN          NaN        NaN   \n1700917            3158501                NaN          NaN        NaN   \n1700918            3158501                NaN          NaN        NaN   \n1700919            3173599                NaN          NaN        NaN   \n\n         respiration  systemicsystolic  creatinine  wbcx1000  lactate  \\\n0                NaN               NaN         NaN       NaN      NaN   \n1               30.0               NaN         NaN       NaN      NaN   \n2                NaN               NaN         NaN       NaN      NaN   \n3                NaN               NaN         NaN       NaN      NaN   \n4                NaN               NaN         NaN       NaN      NaN   \n...              ...               ...         ...       ...      ...   \n1700915          NaN               NaN         NaN       NaN      NaN   \n1700916          NaN               NaN         NaN       NaN      NaN   \n1700917          NaN               NaN         NaN       NaN      NaN   \n1700918          NaN               NaN         NaN       NaN      NaN   \n1700919          NaN               NaN         NaN       NaN      NaN   \n\n         urineoutputbyweight  diagnosisoffset  diagnosis  \n0                        NaN              NaN        NaN  \n1                        NaN              NaN        NaN  \n2                        NaN              NaN        NaN  \n3                        NaN              NaN        NaN  \n4                        NaN              NaN        NaN  \n...                      ...              ...        ...  \n1700915                  NaN             11.0        0.0  \n1700916                  NaN             11.0        0.0  \n1700917                  NaN             11.0        0.0  \n1700918                  NaN             11.0        0.0  \n1700919                  NaN             36.0        0.0  \n\n[1700920 rows x 12 columns]",
      "text/html": "<div>\n<style scoped>\n    .dataframe tbody tr th:only-of-type {\n        vertical-align: middle;\n    }\n\n    .dataframe tbody tr th {\n        vertical-align: top;\n    }\n\n    .dataframe thead th {\n        text-align: right;\n    }\n</style>\n<table border=\"1\" class=\"dataframe\">\n  <thead>\n    <tr style=\"text-align: right;\">\n      <th></th>\n      <th>patientunitstayid</th>\n      <th>observationoffset</th>\n      <th>temperature</th>\n      <th>heartrate</th>\n      <th>respiration</th>\n      <th>systemicsystolic</th>\n      <th>creatinine</th>\n      <th>wbcx1000</th>\n      <th>lactate</th>\n      <th>urineoutputbyweight</th>\n      <th>diagnosisoffset</th>\n      <th>diagnosis</th>\n    </tr>\n  </thead>\n  <tbody>\n    <tr>\n      <td>0</td>\n      <td>141765</td>\n      <td>1179.0</td>\n      <td>NaN</td>\n      <td>82.0</td>\n      <td>NaN</td>\n      <td>NaN</td>\n      <td>NaN</td>\n      <td>NaN</td>\n      <td>NaN</td>\n      <td>NaN</td>\n      <td>NaN</td>\n      <td>NaN</td>\n    </tr>\n    <tr>\n      <td>1</td>\n      <td>141765</td>\n      <td>189.0</td>\n      <td>NaN</td>\n      <td>76.0</td>\n      <td>30.0</td>\n      <td>NaN</td>\n      <td>NaN</td>\n      <td>NaN</td>\n      <td>NaN</td>\n      <td>NaN</td>\n      <td>NaN</td>\n      <td>NaN</td>\n    </tr>\n    <tr>\n      <td>2</td>\n      <td>141765</td>\n      <td>1169.0</td>\n      <td>NaN</td>\n      <td>84.0</td>\n      <td>NaN</td>\n      <td>NaN</td>\n      <td>NaN</td>\n      <td>NaN</td>\n      <td>NaN</td>\n      <td>NaN</td>\n      <td>NaN</td>\n      <td>NaN</td>\n    </tr>\n    <tr>\n      <td>3</td>\n      <td>141765</td>\n      <td>1534.0</td>\n      <td>NaN</td>\n      <td>92.0</td>\n      <td>NaN</td>\n      <td>NaN</td>\n      <td>NaN</td>\n      <td>NaN</td>\n      <td>NaN</td>\n      <td>NaN</td>\n      <td>NaN</td>\n      <td>NaN</td>\n    </tr>\n    <tr>\n      <td>4</td>\n      <td>141765</td>\n      <td>1164.0</td>\n      <td>NaN</td>\n      <td>86.0</td>\n      <td>NaN</td>\n      <td>NaN</td>\n      <td>NaN</td>\n      <td>NaN</td>\n      <td>NaN</td>\n      <td>NaN</td>\n      <td>NaN</td>\n      <td>NaN</td>\n    </tr>\n    <tr>\n      <td>...</td>\n      <td>...</td>\n      <td>...</td>\n      <td>...</td>\n      <td>...</td>\n      <td>...</td>\n      <td>...</td>\n      <td>...</td>\n      <td>...</td>\n      <td>...</td>\n      <td>...</td>\n      <td>...</td>\n      <td>...</td>\n    </tr>\n    <tr>\n      <td>1700915</td>\n      <td>3158501</td>\n      <td>NaN</td>\n      <td>NaN</td>\n      <td>NaN</td>\n      <td>NaN</td>\n      <td>NaN</td>\n      <td>NaN</td>\n      <td>NaN</td>\n      <td>NaN</td>\n      <td>NaN</td>\n      <td>11.0</td>\n      <td>0.0</td>\n    </tr>\n    <tr>\n      <td>1700916</td>\n      <td>3158501</td>\n      <td>NaN</td>\n      <td>NaN</td>\n      <td>NaN</td>\n      <td>NaN</td>\n      <td>NaN</td>\n      <td>NaN</td>\n      <td>NaN</td>\n      <td>NaN</td>\n      <td>NaN</td>\n      <td>11.0</td>\n      <td>0.0</td>\n    </tr>\n    <tr>\n      <td>1700917</td>\n      <td>3158501</td>\n      <td>NaN</td>\n      <td>NaN</td>\n      <td>NaN</td>\n      <td>NaN</td>\n      <td>NaN</td>\n      <td>NaN</td>\n      <td>NaN</td>\n      <td>NaN</td>\n      <td>NaN</td>\n      <td>11.0</td>\n      <td>0.0</td>\n    </tr>\n    <tr>\n      <td>1700918</td>\n      <td>3158501</td>\n      <td>NaN</td>\n      <td>NaN</td>\n      <td>NaN</td>\n      <td>NaN</td>\n      <td>NaN</td>\n      <td>NaN</td>\n      <td>NaN</td>\n      <td>NaN</td>\n      <td>NaN</td>\n      <td>11.0</td>\n      <td>0.0</td>\n    </tr>\n    <tr>\n      <td>1700919</td>\n      <td>3173599</td>\n      <td>NaN</td>\n      <td>NaN</td>\n      <td>NaN</td>\n      <td>NaN</td>\n      <td>NaN</td>\n      <td>NaN</td>\n      <td>NaN</td>\n      <td>NaN</td>\n      <td>NaN</td>\n      <td>36.0</td>\n      <td>0.0</td>\n    </tr>\n  </tbody>\n</table>\n<p>1700920 rows × 12 columns</p>\n</div>"
     },
     "metadata": {},
     "output_type": "execute_result",
     "execution_count": 5
    }
   ],
   "source": [
    "finalMerge = pd.read_csv('../eICU' + database_type + '/finalMerge.csv')\n",
    "finalMerge"
   ],
   "metadata": {
    "collapsed": false,
    "pycharm": {
     "name": "#%%\n",
     "is_executing": false
    }
   }
  },
  {
   "cell_type": "code",
   "execution_count": 6,
   "outputs": [
    {
     "data": {
      "text/plain": "         patientunitstayid  observationoffset  temperature  heartrate  \\\n1651114             346380               34.0          NaN        NaN   \n1680614             346380                NaN          NaN        NaN   \n1680615             346380                NaN          NaN        NaN   \n1680616             346380                NaN          NaN        NaN   \n1680617             346380                NaN          NaN        NaN   \n1680618             346380                NaN          NaN        NaN   \n1680619             346380                NaN          NaN        NaN   \n1680620             346380                NaN          NaN        NaN   \n1680621             346380                NaN          NaN        NaN   \n1680622             346380                NaN          NaN        NaN   \n1680623             346380                NaN          NaN        NaN   \n1680624             346380                NaN          NaN        NaN   \n1680625             346380                NaN          NaN        NaN   \n1680626             346380                NaN          NaN        NaN   \n1680627             346380                NaN          NaN        NaN   \n1680628             346380                NaN          NaN        NaN   \n1680629             346380                NaN          NaN        NaN   \n1680630             346380                NaN          NaN        NaN   \n1680631             346380                NaN          NaN        NaN   \n1680632             346380                NaN          NaN        NaN   \n1680633             346380                NaN          NaN        NaN   \n1680634             346380                NaN          NaN        NaN   \n1680635             346380                NaN          NaN        NaN   \n1680636             346380                NaN          NaN        NaN   \n1680637             346380                NaN          NaN        NaN   \n1680638             346380                NaN          NaN        NaN   \n1680639             346380                NaN          NaN        NaN   \n1680640             346380                NaN          NaN        NaN   \n1680641             346380                NaN          NaN        NaN   \n1680642             346380                NaN          NaN        NaN   \n1680643             346380                NaN          NaN        NaN   \n1680644             346380                NaN          NaN        NaN   \n1680645             346380                NaN          NaN        NaN   \n1680646             346380                NaN          NaN        NaN   \n1680647             346380                NaN          NaN        NaN   \n1680648             346380                NaN          NaN        NaN   \n1680649             346380                NaN          NaN        NaN   \n1680650             346380                NaN          NaN        NaN   \n1680651             346380                NaN          NaN        NaN   \n1680652             346380                NaN          NaN        NaN   \n1680653             346380                NaN          NaN        NaN   \n1680654             346380                NaN          NaN        NaN   \n1680655             346380                NaN          NaN        NaN   \n\n         respiration  systemicsystolic  creatinine  wbcx1000  lactate  \\\n1651114          NaN               NaN         1.0       NaN      NaN   \n1680614          NaN               NaN         NaN       NaN      NaN   \n1680615          NaN               NaN         NaN       NaN      NaN   \n1680616          NaN               NaN         NaN       NaN      NaN   \n1680617          NaN               NaN         NaN       NaN      NaN   \n1680618          NaN               NaN         NaN       NaN      NaN   \n1680619          NaN               NaN         NaN       NaN      NaN   \n1680620          NaN               NaN         NaN       NaN      NaN   \n1680621          NaN               NaN         NaN       NaN      NaN   \n1680622          NaN               NaN         NaN       NaN      NaN   \n1680623          NaN               NaN         NaN       NaN      NaN   \n1680624          NaN               NaN         NaN       NaN      NaN   \n1680625          NaN               NaN         NaN       NaN      NaN   \n1680626          NaN               NaN         NaN       NaN      NaN   \n1680627          NaN               NaN         NaN       NaN      NaN   \n1680628          NaN               NaN         NaN       NaN      NaN   \n1680629          NaN               NaN         NaN       NaN      NaN   \n1680630          NaN               NaN         NaN       NaN      NaN   \n1680631          NaN               NaN         NaN       NaN      NaN   \n1680632          NaN               NaN         NaN       NaN      NaN   \n1680633          NaN               NaN         NaN       NaN      NaN   \n1680634          NaN               NaN         NaN       NaN      NaN   \n1680635          NaN               NaN         NaN       NaN      NaN   \n1680636          NaN               NaN         NaN       NaN      NaN   \n1680637          NaN               NaN         NaN       NaN      NaN   \n1680638          NaN               NaN         NaN       NaN      NaN   \n1680639          NaN               NaN         NaN       NaN      NaN   \n1680640          NaN               NaN         NaN       NaN      NaN   \n1680641          NaN               NaN         NaN       NaN      NaN   \n1680642          NaN               NaN         NaN       NaN      NaN   \n1680643          NaN               NaN         NaN       NaN      NaN   \n1680644          NaN               NaN         NaN       NaN      NaN   \n1680645          NaN               NaN         NaN       NaN      NaN   \n1680646          NaN               NaN         NaN       NaN      NaN   \n1680647          NaN               NaN         NaN       NaN      NaN   \n1680648          NaN               NaN         NaN       NaN      NaN   \n1680649          NaN               NaN         NaN       NaN      NaN   \n1680650          NaN               NaN         NaN       NaN      NaN   \n1680651          NaN               NaN         NaN       NaN      NaN   \n1680652          NaN               NaN         NaN       NaN      NaN   \n1680653          NaN               NaN         NaN       NaN      NaN   \n1680654          NaN               NaN         NaN       NaN      NaN   \n1680655          NaN               NaN         NaN       NaN      NaN   \n\n         urineoutputbyweight  diagnosisoffset  diagnosis  \n1651114                  NaN              NaN        NaN  \n1680614                  NaN           5028.0        0.0  \n1680615                  NaN           5028.0        0.0  \n1680616                  NaN           5028.0        0.0  \n1680617                  NaN           5028.0        0.0  \n1680618                  NaN           5028.0        0.0  \n1680619                  NaN           5028.0        0.0  \n1680620                  NaN           5028.0        0.0  \n1680621                  NaN           5028.0        0.0  \n1680622                  NaN           5028.0        0.0  \n1680623                  NaN           5028.0        0.0  \n1680624                  NaN           5028.0        0.0  \n1680625                  NaN           5028.0        0.0  \n1680626                  NaN            685.0        0.0  \n1680627                  NaN            685.0        0.0  \n1680628                  NaN            685.0        0.0  \n1680629                  NaN           5035.0        0.0  \n1680630                  NaN           5035.0        0.0  \n1680631                  NaN           5035.0        0.0  \n1680632                  NaN           5035.0        0.0  \n1680633                  NaN           5035.0        0.0  \n1680634                  NaN           5035.0        0.0  \n1680635                  NaN           5035.0        0.0  \n1680636                  NaN           5035.0        0.0  \n1680637                  NaN           5035.0        0.0  \n1680638                  NaN           5035.0        0.0  \n1680639                  NaN           5035.0        0.0  \n1680640                  NaN           5035.0        0.0  \n1680641                  NaN           5035.0        0.0  \n1680642                  NaN           2255.0        0.0  \n1680643                  NaN           2255.0        0.0  \n1680644                  NaN           2255.0        0.0  \n1680645                  NaN           2255.0        0.0  \n1680646                  NaN            481.0        0.0  \n1680647                  NaN            481.0        0.0  \n1680648                  NaN            481.0        0.0  \n1680649                  NaN            194.0        0.0  \n1680650                  NaN            194.0        0.0  \n1680651                  NaN            194.0        0.0  \n1680652                  NaN           2310.0        0.0  \n1680653                  NaN           2310.0        0.0  \n1680654                  NaN           2310.0        0.0  \n1680655                  NaN           2310.0        0.0  ",
      "text/html": "<div>\n<style scoped>\n    .dataframe tbody tr th:only-of-type {\n        vertical-align: middle;\n    }\n\n    .dataframe tbody tr th {\n        vertical-align: top;\n    }\n\n    .dataframe thead th {\n        text-align: right;\n    }\n</style>\n<table border=\"1\" class=\"dataframe\">\n  <thead>\n    <tr style=\"text-align: right;\">\n      <th></th>\n      <th>patientunitstayid</th>\n      <th>observationoffset</th>\n      <th>temperature</th>\n      <th>heartrate</th>\n      <th>respiration</th>\n      <th>systemicsystolic</th>\n      <th>creatinine</th>\n      <th>wbcx1000</th>\n      <th>lactate</th>\n      <th>urineoutputbyweight</th>\n      <th>diagnosisoffset</th>\n      <th>diagnosis</th>\n    </tr>\n  </thead>\n  <tbody>\n    <tr>\n      <td>1651114</td>\n      <td>346380</td>\n      <td>34.0</td>\n      <td>NaN</td>\n      <td>NaN</td>\n      <td>NaN</td>\n      <td>NaN</td>\n      <td>1.0</td>\n      <td>NaN</td>\n      <td>NaN</td>\n      <td>NaN</td>\n      <td>NaN</td>\n      <td>NaN</td>\n    </tr>\n    <tr>\n      <td>1680614</td>\n      <td>346380</td>\n      <td>NaN</td>\n      <td>NaN</td>\n      <td>NaN</td>\n      <td>NaN</td>\n      <td>NaN</td>\n      <td>NaN</td>\n      <td>NaN</td>\n      <td>NaN</td>\n      <td>NaN</td>\n      <td>5028.0</td>\n      <td>0.0</td>\n    </tr>\n    <tr>\n      <td>1680615</td>\n      <td>346380</td>\n      <td>NaN</td>\n      <td>NaN</td>\n      <td>NaN</td>\n      <td>NaN</td>\n      <td>NaN</td>\n      <td>NaN</td>\n      <td>NaN</td>\n      <td>NaN</td>\n      <td>NaN</td>\n      <td>5028.0</td>\n      <td>0.0</td>\n    </tr>\n    <tr>\n      <td>1680616</td>\n      <td>346380</td>\n      <td>NaN</td>\n      <td>NaN</td>\n      <td>NaN</td>\n      <td>NaN</td>\n      <td>NaN</td>\n      <td>NaN</td>\n      <td>NaN</td>\n      <td>NaN</td>\n      <td>NaN</td>\n      <td>5028.0</td>\n      <td>0.0</td>\n    </tr>\n    <tr>\n      <td>1680617</td>\n      <td>346380</td>\n      <td>NaN</td>\n      <td>NaN</td>\n      <td>NaN</td>\n      <td>NaN</td>\n      <td>NaN</td>\n      <td>NaN</td>\n      <td>NaN</td>\n      <td>NaN</td>\n      <td>NaN</td>\n      <td>5028.0</td>\n      <td>0.0</td>\n    </tr>\n    <tr>\n      <td>1680618</td>\n      <td>346380</td>\n      <td>NaN</td>\n      <td>NaN</td>\n      <td>NaN</td>\n      <td>NaN</td>\n      <td>NaN</td>\n      <td>NaN</td>\n      <td>NaN</td>\n      <td>NaN</td>\n      <td>NaN</td>\n      <td>5028.0</td>\n      <td>0.0</td>\n    </tr>\n    <tr>\n      <td>1680619</td>\n      <td>346380</td>\n      <td>NaN</td>\n      <td>NaN</td>\n      <td>NaN</td>\n      <td>NaN</td>\n      <td>NaN</td>\n      <td>NaN</td>\n      <td>NaN</td>\n      <td>NaN</td>\n      <td>NaN</td>\n      <td>5028.0</td>\n      <td>0.0</td>\n    </tr>\n    <tr>\n      <td>1680620</td>\n      <td>346380</td>\n      <td>NaN</td>\n      <td>NaN</td>\n      <td>NaN</td>\n      <td>NaN</td>\n      <td>NaN</td>\n      <td>NaN</td>\n      <td>NaN</td>\n      <td>NaN</td>\n      <td>NaN</td>\n      <td>5028.0</td>\n      <td>0.0</td>\n    </tr>\n    <tr>\n      <td>1680621</td>\n      <td>346380</td>\n      <td>NaN</td>\n      <td>NaN</td>\n      <td>NaN</td>\n      <td>NaN</td>\n      <td>NaN</td>\n      <td>NaN</td>\n      <td>NaN</td>\n      <td>NaN</td>\n      <td>NaN</td>\n      <td>5028.0</td>\n      <td>0.0</td>\n    </tr>\n    <tr>\n      <td>1680622</td>\n      <td>346380</td>\n      <td>NaN</td>\n      <td>NaN</td>\n      <td>NaN</td>\n      <td>NaN</td>\n      <td>NaN</td>\n      <td>NaN</td>\n      <td>NaN</td>\n      <td>NaN</td>\n      <td>NaN</td>\n      <td>5028.0</td>\n      <td>0.0</td>\n    </tr>\n    <tr>\n      <td>1680623</td>\n      <td>346380</td>\n      <td>NaN</td>\n      <td>NaN</td>\n      <td>NaN</td>\n      <td>NaN</td>\n      <td>NaN</td>\n      <td>NaN</td>\n      <td>NaN</td>\n      <td>NaN</td>\n      <td>NaN</td>\n      <td>5028.0</td>\n      <td>0.0</td>\n    </tr>\n    <tr>\n      <td>1680624</td>\n      <td>346380</td>\n      <td>NaN</td>\n      <td>NaN</td>\n      <td>NaN</td>\n      <td>NaN</td>\n      <td>NaN</td>\n      <td>NaN</td>\n      <td>NaN</td>\n      <td>NaN</td>\n      <td>NaN</td>\n      <td>5028.0</td>\n      <td>0.0</td>\n    </tr>\n    <tr>\n      <td>1680625</td>\n      <td>346380</td>\n      <td>NaN</td>\n      <td>NaN</td>\n      <td>NaN</td>\n      <td>NaN</td>\n      <td>NaN</td>\n      <td>NaN</td>\n      <td>NaN</td>\n      <td>NaN</td>\n      <td>NaN</td>\n      <td>5028.0</td>\n      <td>0.0</td>\n    </tr>\n    <tr>\n      <td>1680626</td>\n      <td>346380</td>\n      <td>NaN</td>\n      <td>NaN</td>\n      <td>NaN</td>\n      <td>NaN</td>\n      <td>NaN</td>\n      <td>NaN</td>\n      <td>NaN</td>\n      <td>NaN</td>\n      <td>NaN</td>\n      <td>685.0</td>\n      <td>0.0</td>\n    </tr>\n    <tr>\n      <td>1680627</td>\n      <td>346380</td>\n      <td>NaN</td>\n      <td>NaN</td>\n      <td>NaN</td>\n      <td>NaN</td>\n      <td>NaN</td>\n      <td>NaN</td>\n      <td>NaN</td>\n      <td>NaN</td>\n      <td>NaN</td>\n      <td>685.0</td>\n      <td>0.0</td>\n    </tr>\n    <tr>\n      <td>1680628</td>\n      <td>346380</td>\n      <td>NaN</td>\n      <td>NaN</td>\n      <td>NaN</td>\n      <td>NaN</td>\n      <td>NaN</td>\n      <td>NaN</td>\n      <td>NaN</td>\n      <td>NaN</td>\n      <td>NaN</td>\n      <td>685.0</td>\n      <td>0.0</td>\n    </tr>\n    <tr>\n      <td>1680629</td>\n      <td>346380</td>\n      <td>NaN</td>\n      <td>NaN</td>\n      <td>NaN</td>\n      <td>NaN</td>\n      <td>NaN</td>\n      <td>NaN</td>\n      <td>NaN</td>\n      <td>NaN</td>\n      <td>NaN</td>\n      <td>5035.0</td>\n      <td>0.0</td>\n    </tr>\n    <tr>\n      <td>1680630</td>\n      <td>346380</td>\n      <td>NaN</td>\n      <td>NaN</td>\n      <td>NaN</td>\n      <td>NaN</td>\n      <td>NaN</td>\n      <td>NaN</td>\n      <td>NaN</td>\n      <td>NaN</td>\n      <td>NaN</td>\n      <td>5035.0</td>\n      <td>0.0</td>\n    </tr>\n    <tr>\n      <td>1680631</td>\n      <td>346380</td>\n      <td>NaN</td>\n      <td>NaN</td>\n      <td>NaN</td>\n      <td>NaN</td>\n      <td>NaN</td>\n      <td>NaN</td>\n      <td>NaN</td>\n      <td>NaN</td>\n      <td>NaN</td>\n      <td>5035.0</td>\n      <td>0.0</td>\n    </tr>\n    <tr>\n      <td>1680632</td>\n      <td>346380</td>\n      <td>NaN</td>\n      <td>NaN</td>\n      <td>NaN</td>\n      <td>NaN</td>\n      <td>NaN</td>\n      <td>NaN</td>\n      <td>NaN</td>\n      <td>NaN</td>\n      <td>NaN</td>\n      <td>5035.0</td>\n      <td>0.0</td>\n    </tr>\n    <tr>\n      <td>1680633</td>\n      <td>346380</td>\n      <td>NaN</td>\n      <td>NaN</td>\n      <td>NaN</td>\n      <td>NaN</td>\n      <td>NaN</td>\n      <td>NaN</td>\n      <td>NaN</td>\n      <td>NaN</td>\n      <td>NaN</td>\n      <td>5035.0</td>\n      <td>0.0</td>\n    </tr>\n    <tr>\n      <td>1680634</td>\n      <td>346380</td>\n      <td>NaN</td>\n      <td>NaN</td>\n      <td>NaN</td>\n      <td>NaN</td>\n      <td>NaN</td>\n      <td>NaN</td>\n      <td>NaN</td>\n      <td>NaN</td>\n      <td>NaN</td>\n      <td>5035.0</td>\n      <td>0.0</td>\n    </tr>\n    <tr>\n      <td>1680635</td>\n      <td>346380</td>\n      <td>NaN</td>\n      <td>NaN</td>\n      <td>NaN</td>\n      <td>NaN</td>\n      <td>NaN</td>\n      <td>NaN</td>\n      <td>NaN</td>\n      <td>NaN</td>\n      <td>NaN</td>\n      <td>5035.0</td>\n      <td>0.0</td>\n    </tr>\n    <tr>\n      <td>1680636</td>\n      <td>346380</td>\n      <td>NaN</td>\n      <td>NaN</td>\n      <td>NaN</td>\n      <td>NaN</td>\n      <td>NaN</td>\n      <td>NaN</td>\n      <td>NaN</td>\n      <td>NaN</td>\n      <td>NaN</td>\n      <td>5035.0</td>\n      <td>0.0</td>\n    </tr>\n    <tr>\n      <td>1680637</td>\n      <td>346380</td>\n      <td>NaN</td>\n      <td>NaN</td>\n      <td>NaN</td>\n      <td>NaN</td>\n      <td>NaN</td>\n      <td>NaN</td>\n      <td>NaN</td>\n      <td>NaN</td>\n      <td>NaN</td>\n      <td>5035.0</td>\n      <td>0.0</td>\n    </tr>\n    <tr>\n      <td>1680638</td>\n      <td>346380</td>\n      <td>NaN</td>\n      <td>NaN</td>\n      <td>NaN</td>\n      <td>NaN</td>\n      <td>NaN</td>\n      <td>NaN</td>\n      <td>NaN</td>\n      <td>NaN</td>\n      <td>NaN</td>\n      <td>5035.0</td>\n      <td>0.0</td>\n    </tr>\n    <tr>\n      <td>1680639</td>\n      <td>346380</td>\n      <td>NaN</td>\n      <td>NaN</td>\n      <td>NaN</td>\n      <td>NaN</td>\n      <td>NaN</td>\n      <td>NaN</td>\n      <td>NaN</td>\n      <td>NaN</td>\n      <td>NaN</td>\n      <td>5035.0</td>\n      <td>0.0</td>\n    </tr>\n    <tr>\n      <td>1680640</td>\n      <td>346380</td>\n      <td>NaN</td>\n      <td>NaN</td>\n      <td>NaN</td>\n      <td>NaN</td>\n      <td>NaN</td>\n      <td>NaN</td>\n      <td>NaN</td>\n      <td>NaN</td>\n      <td>NaN</td>\n      <td>5035.0</td>\n      <td>0.0</td>\n    </tr>\n    <tr>\n      <td>1680641</td>\n      <td>346380</td>\n      <td>NaN</td>\n      <td>NaN</td>\n      <td>NaN</td>\n      <td>NaN</td>\n      <td>NaN</td>\n      <td>NaN</td>\n      <td>NaN</td>\n      <td>NaN</td>\n      <td>NaN</td>\n      <td>5035.0</td>\n      <td>0.0</td>\n    </tr>\n    <tr>\n      <td>1680642</td>\n      <td>346380</td>\n      <td>NaN</td>\n      <td>NaN</td>\n      <td>NaN</td>\n      <td>NaN</td>\n      <td>NaN</td>\n      <td>NaN</td>\n      <td>NaN</td>\n      <td>NaN</td>\n      <td>NaN</td>\n      <td>2255.0</td>\n      <td>0.0</td>\n    </tr>\n    <tr>\n      <td>1680643</td>\n      <td>346380</td>\n      <td>NaN</td>\n      <td>NaN</td>\n      <td>NaN</td>\n      <td>NaN</td>\n      <td>NaN</td>\n      <td>NaN</td>\n      <td>NaN</td>\n      <td>NaN</td>\n      <td>NaN</td>\n      <td>2255.0</td>\n      <td>0.0</td>\n    </tr>\n    <tr>\n      <td>1680644</td>\n      <td>346380</td>\n      <td>NaN</td>\n      <td>NaN</td>\n      <td>NaN</td>\n      <td>NaN</td>\n      <td>NaN</td>\n      <td>NaN</td>\n      <td>NaN</td>\n      <td>NaN</td>\n      <td>NaN</td>\n      <td>2255.0</td>\n      <td>0.0</td>\n    </tr>\n    <tr>\n      <td>1680645</td>\n      <td>346380</td>\n      <td>NaN</td>\n      <td>NaN</td>\n      <td>NaN</td>\n      <td>NaN</td>\n      <td>NaN</td>\n      <td>NaN</td>\n      <td>NaN</td>\n      <td>NaN</td>\n      <td>NaN</td>\n      <td>2255.0</td>\n      <td>0.0</td>\n    </tr>\n    <tr>\n      <td>1680646</td>\n      <td>346380</td>\n      <td>NaN</td>\n      <td>NaN</td>\n      <td>NaN</td>\n      <td>NaN</td>\n      <td>NaN</td>\n      <td>NaN</td>\n      <td>NaN</td>\n      <td>NaN</td>\n      <td>NaN</td>\n      <td>481.0</td>\n      <td>0.0</td>\n    </tr>\n    <tr>\n      <td>1680647</td>\n      <td>346380</td>\n      <td>NaN</td>\n      <td>NaN</td>\n      <td>NaN</td>\n      <td>NaN</td>\n      <td>NaN</td>\n      <td>NaN</td>\n      <td>NaN</td>\n      <td>NaN</td>\n      <td>NaN</td>\n      <td>481.0</td>\n      <td>0.0</td>\n    </tr>\n    <tr>\n      <td>1680648</td>\n      <td>346380</td>\n      <td>NaN</td>\n      <td>NaN</td>\n      <td>NaN</td>\n      <td>NaN</td>\n      <td>NaN</td>\n      <td>NaN</td>\n      <td>NaN</td>\n      <td>NaN</td>\n      <td>NaN</td>\n      <td>481.0</td>\n      <td>0.0</td>\n    </tr>\n    <tr>\n      <td>1680649</td>\n      <td>346380</td>\n      <td>NaN</td>\n      <td>NaN</td>\n      <td>NaN</td>\n      <td>NaN</td>\n      <td>NaN</td>\n      <td>NaN</td>\n      <td>NaN</td>\n      <td>NaN</td>\n      <td>NaN</td>\n      <td>194.0</td>\n      <td>0.0</td>\n    </tr>\n    <tr>\n      <td>1680650</td>\n      <td>346380</td>\n      <td>NaN</td>\n      <td>NaN</td>\n      <td>NaN</td>\n      <td>NaN</td>\n      <td>NaN</td>\n      <td>NaN</td>\n      <td>NaN</td>\n      <td>NaN</td>\n      <td>NaN</td>\n      <td>194.0</td>\n      <td>0.0</td>\n    </tr>\n    <tr>\n      <td>1680651</td>\n      <td>346380</td>\n      <td>NaN</td>\n      <td>NaN</td>\n      <td>NaN</td>\n      <td>NaN</td>\n      <td>NaN</td>\n      <td>NaN</td>\n      <td>NaN</td>\n      <td>NaN</td>\n      <td>NaN</td>\n      <td>194.0</td>\n      <td>0.0</td>\n    </tr>\n    <tr>\n      <td>1680652</td>\n      <td>346380</td>\n      <td>NaN</td>\n      <td>NaN</td>\n      <td>NaN</td>\n      <td>NaN</td>\n      <td>NaN</td>\n      <td>NaN</td>\n      <td>NaN</td>\n      <td>NaN</td>\n      <td>NaN</td>\n      <td>2310.0</td>\n      <td>0.0</td>\n    </tr>\n    <tr>\n      <td>1680653</td>\n      <td>346380</td>\n      <td>NaN</td>\n      <td>NaN</td>\n      <td>NaN</td>\n      <td>NaN</td>\n      <td>NaN</td>\n      <td>NaN</td>\n      <td>NaN</td>\n      <td>NaN</td>\n      <td>NaN</td>\n      <td>2310.0</td>\n      <td>0.0</td>\n    </tr>\n    <tr>\n      <td>1680654</td>\n      <td>346380</td>\n      <td>NaN</td>\n      <td>NaN</td>\n      <td>NaN</td>\n      <td>NaN</td>\n      <td>NaN</td>\n      <td>NaN</td>\n      <td>NaN</td>\n      <td>NaN</td>\n      <td>NaN</td>\n      <td>2310.0</td>\n      <td>0.0</td>\n    </tr>\n    <tr>\n      <td>1680655</td>\n      <td>346380</td>\n      <td>NaN</td>\n      <td>NaN</td>\n      <td>NaN</td>\n      <td>NaN</td>\n      <td>NaN</td>\n      <td>NaN</td>\n      <td>NaN</td>\n      <td>NaN</td>\n      <td>NaN</td>\n      <td>2310.0</td>\n      <td>0.0</td>\n    </tr>\n  </tbody>\n</table>\n</div>"
     },
     "metadata": {},
     "output_type": "execute_result",
     "execution_count": 6
    }
   ],
   "source": [
    "finalMerge.loc[(finalMerge['patientunitstayid'] == 346380)].sort_values(by='observationoffset')"
   ],
   "metadata": {
    "collapsed": false,
    "pycharm": {
     "name": "#%%\n",
     "is_executing": false
    }
   }
  },
  {
   "cell_type": "code",
   "execution_count": 5,
   "outputs": [],
   "source": [
    "idList = sorted(set(list(finalMerge['patientunitstayid'])))\n",
    "finalData = pd.DataFrame()"
   ],
   "metadata": {
    "collapsed": false,
    "pycharm": {
     "name": "#%%\n",
     "is_executing": false
    }
   }
  },
  {
   "cell_type": "code",
   "execution_count": null,
   "outputs": [
    {
     "name": "stderr",
     "text": [
      "C:\\tools\\Anaconda3\\lib\\site-packages\\pandas\\core\\indexing.py:494: SettingWithCopyWarning: \n",
      "A value is trying to be set on a copy of a slice from a DataFrame.\n",
      "Try using .loc[row_indexer,col_indexer] = value instead\n",
      "\n",
      "See the caveats in the documentation: http://pandas.pydata.org/pandas-docs/stable/user_guide/indexing.html#returning-a-view-versus-a-copy\n",
      "  self.obj[item] = s\n",
      "C:\\tools\\Anaconda3\\lib\\site-packages\\pandas\\core\\generic.py:6287: SettingWithCopyWarning: \n",
      "A value is trying to be set on a copy of a slice from a DataFrame\n",
      "\n",
      "See the caveats in the documentation: http://pandas.pydata.org/pandas-docs/stable/user_guide/indexing.html#returning-a-view-versus-a-copy\n",
      "  self._update_inplace(new_data)\n"
     ],
     "output_type": "stream"
    }
   ],
   "source": [
    "for id in idList:\n",
    "    df = finalMerge[finalMerge['patientunitstayid'] == id]\n",
    "    df.loc[:, 'temperature'] = df['temperature'].interpolate(method='linear', limit_direction='both')\n",
    "    df.loc[:, 'heartrate'] = df['heartrate'].interpolate(method='linear', limit_direction='both')\n",
    "    df.loc[:, 'respiration'] = df['respiration'].interpolate(method='linear', limit_direction='both')\n",
    "    df.loc[:, 'systemicsystolic'] = df['systemicsystolic'].interpolate(method='linear', limit_direction='both')\n",
    "    df.loc[:, 'creatinine'] = df['creatinine'].interpolate(method='linear', limit_direction='both')\n",
    "    df.loc[:, 'wbcx1000'] = df['wbcx1000'].interpolate(method='linear', limit_direction='both')\n",
    "    df.loc[:, 'lactate'] = df['lactate'].interpolate(method='linear', limit_direction='both')\n",
    "    df.loc[:, 'urineoutputbyweight'] = df['urineoutputbyweight'].interpolate(method='linear', limit_direction='both')\n",
    "    df.loc[:, 'diagnosis'] = df['diagnosis'].interpolate(method='linear')\n",
    "    df['diagnosis'].fillna('0', inplace=True)\n",
    "    finalData = finalData.append(df)\n",
    "    "
   ],
   "metadata": {
    "collapsed": false,
    "pycharm": {
     "name": "#%%\n",
     "is_executing": true
    }
   }
  },
  {
   "cell_type": "code",
   "execution_count": null,
   "outputs": [],
   "source": [
    "path = \"../eICU/training/\"\n",
    "finalData.to_csv(path + \"finalData.csv\", sep=',', index=False, encoding='utf-8')\n"
   ],
   "metadata": {
    "collapsed": false,
    "pycharm": {
     "name": "#%%\n",
     "is_executing": true
    }
   }
  }
 ],
 "metadata": {
  "kernelspec": {
   "display_name": "Python 3",
   "language": "python",
   "name": "python3"
  },
  "language_info": {
   "codemirror_mode": {
    "name": "ipython",
    "version": 2
   },
   "file_extension": ".py",
   "mimetype": "text/x-python",
   "name": "python",
   "nbconvert_exporter": "python",
   "pygments_lexer": "ipython2",
   "version": "2.7.6"
  },
  "pycharm": {
   "stem_cell": {
    "cell_type": "raw",
    "source": [],
    "metadata": {
     "collapsed": false
    }
   }
  }
 },
 "nbformat": 4,
 "nbformat_minor": 0
}