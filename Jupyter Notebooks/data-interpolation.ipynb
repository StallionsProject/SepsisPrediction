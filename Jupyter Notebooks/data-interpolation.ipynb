{
 "cells": [
  {
   "cell_type": "code",
   "execution_count": 1,
   "metadata": {
    "collapsed": false,
    "jupyter": {
     "outputs_hidden": false
    },
    "pycharm": {
     "name": "#%%\n"
    }
   },
   "outputs": [],
   "source": [
    "%load_ext autoreload\n",
    "%autoreload 2"
   ]
  },
  {
   "cell_type": "code",
   "execution_count": 2,
   "metadata": {
    "collapsed": false,
    "jupyter": {
     "outputs_hidden": false
    },
    "pycharm": {
     "name": "#%%\n"
    }
   },
   "outputs": [],
   "source": [
    "import pandas as pd\n",
    "# import numpy as np"
   ]
  },
  {
   "cell_type": "code",
   "execution_count": 3,
   "metadata": {
    "collapsed": false,
    "jupyter": {
     "outputs_hidden": false
    },
    "pycharm": {
     "name": "#%%\n"
    }
   },
   "outputs": [],
   "source": [
    "database_type = \"/training\""
   ]
  },
  {
   "cell_type": "markdown",
   "metadata": {},
   "source": [
    "#### Interpolating Data across patient timeseries"
   ]
  },
  {
   "cell_type": "code",
   "execution_count": 4,
   "metadata": {
    "collapsed": false,
    "jupyter": {
     "outputs_hidden": false
    },
    "pycharm": {
     "name": "#%%\n"
    }
   },
   "outputs": [
    {
     "data": {
      "text/plain": "         patientunitstayid  observationoffset  temperature  heartrate  \\\n1648633             141764              -14.0          NaN        NaN   \n65                  141764                4.0          NaN      105.0   \n12                  141764                9.0          NaN      104.0   \n63                  141764               14.0          NaN      100.0   \n59                  141764               19.0          NaN       98.0   \n...                    ...                ...          ...        ...   \n1634649            3353113             2671.0          NaN       87.0   \n1634633            3353113             2676.0          NaN       85.0   \n1634665            3353113             2681.0          NaN       84.0   \n1634621            3353113             2686.0          NaN       84.0   \n1634641            3353113             2691.0          NaN       84.0   \n\n         respiration  systemicsystolic  creatinine  wbcx1000  lactate  \\\n1648633          NaN               NaN         NaN       NaN      NaN   \n65               NaN               NaN         NaN       NaN      NaN   \n12               NaN               NaN         NaN       NaN      NaN   \n63               NaN               NaN         NaN       NaN      NaN   \n59               NaN               NaN         NaN       NaN      NaN   \n...              ...               ...         ...       ...      ...   \n1634649         27.0               NaN         NaN       NaN      NaN   \n1634633         27.0               NaN         NaN       NaN      NaN   \n1634665         26.0               NaN         NaN       NaN      NaN   \n1634621         25.0               NaN         NaN       NaN      NaN   \n1634641         25.0               NaN         NaN       NaN      NaN   \n\n         urineoutputbyweight  diagnosis  \n1648633             3.003003        NaN  \n65                       NaN        NaN  \n12                       NaN        NaN  \n63                       NaN        NaN  \n59                       NaN        NaN  \n...                      ...        ...  \n1634649                  NaN        NaN  \n1634633                  NaN        NaN  \n1634665                  NaN        NaN  \n1634621                  NaN        NaN  \n1634641                  NaN        NaN  \n\n[1682242 rows x 11 columns]",
      "text/html": "<div>\n<style scoped>\n    .dataframe tbody tr th:only-of-type {\n        vertical-align: middle;\n    }\n\n    .dataframe tbody tr th {\n        vertical-align: top;\n    }\n\n    .dataframe thead th {\n        text-align: right;\n    }\n</style>\n<table border=\"1\" class=\"dataframe\">\n  <thead>\n    <tr style=\"text-align: right;\">\n      <th></th>\n      <th>patientunitstayid</th>\n      <th>observationoffset</th>\n      <th>temperature</th>\n      <th>heartrate</th>\n      <th>respiration</th>\n      <th>systemicsystolic</th>\n      <th>creatinine</th>\n      <th>wbcx1000</th>\n      <th>lactate</th>\n      <th>urineoutputbyweight</th>\n      <th>diagnosis</th>\n    </tr>\n  </thead>\n  <tbody>\n    <tr>\n      <td>1648633</td>\n      <td>141764</td>\n      <td>-14.0</td>\n      <td>NaN</td>\n      <td>NaN</td>\n      <td>NaN</td>\n      <td>NaN</td>\n      <td>NaN</td>\n      <td>NaN</td>\n      <td>NaN</td>\n      <td>3.003003</td>\n      <td>NaN</td>\n    </tr>\n    <tr>\n      <td>65</td>\n      <td>141764</td>\n      <td>4.0</td>\n      <td>NaN</td>\n      <td>105.0</td>\n      <td>NaN</td>\n      <td>NaN</td>\n      <td>NaN</td>\n      <td>NaN</td>\n      <td>NaN</td>\n      <td>NaN</td>\n      <td>NaN</td>\n    </tr>\n    <tr>\n      <td>12</td>\n      <td>141764</td>\n      <td>9.0</td>\n      <td>NaN</td>\n      <td>104.0</td>\n      <td>NaN</td>\n      <td>NaN</td>\n      <td>NaN</td>\n      <td>NaN</td>\n      <td>NaN</td>\n      <td>NaN</td>\n      <td>NaN</td>\n    </tr>\n    <tr>\n      <td>63</td>\n      <td>141764</td>\n      <td>14.0</td>\n      <td>NaN</td>\n      <td>100.0</td>\n      <td>NaN</td>\n      <td>NaN</td>\n      <td>NaN</td>\n      <td>NaN</td>\n      <td>NaN</td>\n      <td>NaN</td>\n      <td>NaN</td>\n    </tr>\n    <tr>\n      <td>59</td>\n      <td>141764</td>\n      <td>19.0</td>\n      <td>NaN</td>\n      <td>98.0</td>\n      <td>NaN</td>\n      <td>NaN</td>\n      <td>NaN</td>\n      <td>NaN</td>\n      <td>NaN</td>\n      <td>NaN</td>\n      <td>NaN</td>\n    </tr>\n    <tr>\n      <td>...</td>\n      <td>...</td>\n      <td>...</td>\n      <td>...</td>\n      <td>...</td>\n      <td>...</td>\n      <td>...</td>\n      <td>...</td>\n      <td>...</td>\n      <td>...</td>\n      <td>...</td>\n      <td>...</td>\n    </tr>\n    <tr>\n      <td>1634649</td>\n      <td>3353113</td>\n      <td>2671.0</td>\n      <td>NaN</td>\n      <td>87.0</td>\n      <td>27.0</td>\n      <td>NaN</td>\n      <td>NaN</td>\n      <td>NaN</td>\n      <td>NaN</td>\n      <td>NaN</td>\n      <td>NaN</td>\n    </tr>\n    <tr>\n      <td>1634633</td>\n      <td>3353113</td>\n      <td>2676.0</td>\n      <td>NaN</td>\n      <td>85.0</td>\n      <td>27.0</td>\n      <td>NaN</td>\n      <td>NaN</td>\n      <td>NaN</td>\n      <td>NaN</td>\n      <td>NaN</td>\n      <td>NaN</td>\n    </tr>\n    <tr>\n      <td>1634665</td>\n      <td>3353113</td>\n      <td>2681.0</td>\n      <td>NaN</td>\n      <td>84.0</td>\n      <td>26.0</td>\n      <td>NaN</td>\n      <td>NaN</td>\n      <td>NaN</td>\n      <td>NaN</td>\n      <td>NaN</td>\n      <td>NaN</td>\n    </tr>\n    <tr>\n      <td>1634621</td>\n      <td>3353113</td>\n      <td>2686.0</td>\n      <td>NaN</td>\n      <td>84.0</td>\n      <td>25.0</td>\n      <td>NaN</td>\n      <td>NaN</td>\n      <td>NaN</td>\n      <td>NaN</td>\n      <td>NaN</td>\n      <td>NaN</td>\n    </tr>\n    <tr>\n      <td>1634641</td>\n      <td>3353113</td>\n      <td>2691.0</td>\n      <td>NaN</td>\n      <td>84.0</td>\n      <td>25.0</td>\n      <td>NaN</td>\n      <td>NaN</td>\n      <td>NaN</td>\n      <td>NaN</td>\n      <td>NaN</td>\n      <td>NaN</td>\n    </tr>\n  </tbody>\n</table>\n<p>1682242 rows × 11 columns</p>\n</div>"
     },
     "execution_count": 4,
     "metadata": {},
     "output_type": "execute_result"
    }
   ],
   "source": [
    "finalMerge = pd.read_csv('../eICU' + database_type + '/finalMerge.csv')\n",
    "finalMerge = finalMerge.sort_values(by=['patientunitstayid', 'observationoffset'])\n",
    "finalMerge"
   ]
  },
  {
   "cell_type": "code",
   "execution_count": 5,
   "metadata": {
    "collapsed": false,
    "jupyter": {
     "outputs_hidden": false
    },
    "pycharm": {
     "name": "#%%\n"
    }
   },
   "outputs": [
    {
     "data": {
      "text/plain": "         patientunitstayid  observationoffset  temperature  heartrate  \\\n628                 143870                7.0          NaN       44.0   \n1677168             143870               10.0          NaN        NaN   \n574                 143870               12.0          NaN       42.0   \n543                 143870               17.0          NaN       41.0   \n580                 143870               22.0          NaN       41.0   \n...                    ...                ...          ...        ...   \n1634649            3353113             2671.0          NaN       87.0   \n1634633            3353113             2676.0          NaN       85.0   \n1634665            3353113             2681.0          NaN       84.0   \n1634621            3353113             2686.0          NaN       84.0   \n1634641            3353113             2691.0          NaN       84.0   \n\n         respiration  systemicsystolic  creatinine  wbcx1000  lactate  \\\n628             86.0             111.0         NaN       NaN      NaN   \n1677168          NaN               NaN         NaN       NaN      NaN   \n574             75.0             114.0         NaN       NaN      NaN   \n543             78.0             113.0         NaN       NaN      NaN   \n580             73.0             113.0         NaN       NaN      NaN   \n...              ...               ...         ...       ...      ...   \n1634649         27.0               NaN         NaN       NaN      NaN   \n1634633         27.0               NaN         NaN       NaN      NaN   \n1634665         26.0               NaN         NaN       NaN      NaN   \n1634621         25.0               NaN         NaN       NaN      NaN   \n1634641         25.0               NaN         NaN       NaN      NaN   \n\n         urineoutputbyweight diagnosis  \n628                      NaN       NaN  \n1677168                  NaN         0  \n574                      NaN       NaN  \n543                      NaN       NaN  \n580                      NaN       NaN  \n...                      ...       ...  \n1634649                  NaN       NaN  \n1634633                  NaN       NaN  \n1634665                  NaN       NaN  \n1634621                  NaN       NaN  \n1634641                  NaN       NaN  \n\n[1230094 rows x 11 columns]",
      "text/html": "<div>\n<style scoped>\n    .dataframe tbody tr th:only-of-type {\n        vertical-align: middle;\n    }\n\n    .dataframe tbody tr th {\n        vertical-align: top;\n    }\n\n    .dataframe thead th {\n        text-align: right;\n    }\n</style>\n<table border=\"1\" class=\"dataframe\">\n  <thead>\n    <tr style=\"text-align: right;\">\n      <th></th>\n      <th>patientunitstayid</th>\n      <th>observationoffset</th>\n      <th>temperature</th>\n      <th>heartrate</th>\n      <th>respiration</th>\n      <th>systemicsystolic</th>\n      <th>creatinine</th>\n      <th>wbcx1000</th>\n      <th>lactate</th>\n      <th>urineoutputbyweight</th>\n      <th>diagnosis</th>\n    </tr>\n  </thead>\n  <tbody>\n    <tr>\n      <td>628</td>\n      <td>143870</td>\n      <td>7.0</td>\n      <td>NaN</td>\n      <td>44.0</td>\n      <td>86.0</td>\n      <td>111.0</td>\n      <td>NaN</td>\n      <td>NaN</td>\n      <td>NaN</td>\n      <td>NaN</td>\n      <td>NaN</td>\n    </tr>\n    <tr>\n      <td>1677168</td>\n      <td>143870</td>\n      <td>10.0</td>\n      <td>NaN</td>\n      <td>NaN</td>\n      <td>NaN</td>\n      <td>NaN</td>\n      <td>NaN</td>\n      <td>NaN</td>\n      <td>NaN</td>\n      <td>NaN</td>\n      <td>0</td>\n    </tr>\n    <tr>\n      <td>574</td>\n      <td>143870</td>\n      <td>12.0</td>\n      <td>NaN</td>\n      <td>42.0</td>\n      <td>75.0</td>\n      <td>114.0</td>\n      <td>NaN</td>\n      <td>NaN</td>\n      <td>NaN</td>\n      <td>NaN</td>\n      <td>NaN</td>\n    </tr>\n    <tr>\n      <td>543</td>\n      <td>143870</td>\n      <td>17.0</td>\n      <td>NaN</td>\n      <td>41.0</td>\n      <td>78.0</td>\n      <td>113.0</td>\n      <td>NaN</td>\n      <td>NaN</td>\n      <td>NaN</td>\n      <td>NaN</td>\n      <td>NaN</td>\n    </tr>\n    <tr>\n      <td>580</td>\n      <td>143870</td>\n      <td>22.0</td>\n      <td>NaN</td>\n      <td>41.0</td>\n      <td>73.0</td>\n      <td>113.0</td>\n      <td>NaN</td>\n      <td>NaN</td>\n      <td>NaN</td>\n      <td>NaN</td>\n      <td>NaN</td>\n    </tr>\n    <tr>\n      <td>...</td>\n      <td>...</td>\n      <td>...</td>\n      <td>...</td>\n      <td>...</td>\n      <td>...</td>\n      <td>...</td>\n      <td>...</td>\n      <td>...</td>\n      <td>...</td>\n      <td>...</td>\n      <td>...</td>\n    </tr>\n    <tr>\n      <td>1634649</td>\n      <td>3353113</td>\n      <td>2671.0</td>\n      <td>NaN</td>\n      <td>87.0</td>\n      <td>27.0</td>\n      <td>NaN</td>\n      <td>NaN</td>\n      <td>NaN</td>\n      <td>NaN</td>\n      <td>NaN</td>\n      <td>NaN</td>\n    </tr>\n    <tr>\n      <td>1634633</td>\n      <td>3353113</td>\n      <td>2676.0</td>\n      <td>NaN</td>\n      <td>85.0</td>\n      <td>27.0</td>\n      <td>NaN</td>\n      <td>NaN</td>\n      <td>NaN</td>\n      <td>NaN</td>\n      <td>NaN</td>\n      <td>NaN</td>\n    </tr>\n    <tr>\n      <td>1634665</td>\n      <td>3353113</td>\n      <td>2681.0</td>\n      <td>NaN</td>\n      <td>84.0</td>\n      <td>26.0</td>\n      <td>NaN</td>\n      <td>NaN</td>\n      <td>NaN</td>\n      <td>NaN</td>\n      <td>NaN</td>\n      <td>NaN</td>\n    </tr>\n    <tr>\n      <td>1634621</td>\n      <td>3353113</td>\n      <td>2686.0</td>\n      <td>NaN</td>\n      <td>84.0</td>\n      <td>25.0</td>\n      <td>NaN</td>\n      <td>NaN</td>\n      <td>NaN</td>\n      <td>NaN</td>\n      <td>NaN</td>\n      <td>NaN</td>\n    </tr>\n    <tr>\n      <td>1634641</td>\n      <td>3353113</td>\n      <td>2691.0</td>\n      <td>NaN</td>\n      <td>84.0</td>\n      <td>25.0</td>\n      <td>NaN</td>\n      <td>NaN</td>\n      <td>NaN</td>\n      <td>NaN</td>\n      <td>NaN</td>\n      <td>NaN</td>\n    </tr>\n  </tbody>\n</table>\n<p>1230094 rows × 11 columns</p>\n</div>"
     },
     "execution_count": 5,
     "metadata": {},
     "output_type": "execute_result"
    }
   ],
   "source": [
    "idList = sorted(set(list(finalMerge['patientunitstayid'])))\n",
    "cols = ['temperature', 'heartrate', 'respiration', 'systemicsystolic', 'creatinine', 'wbcx1000', 'lactate', 'urineoutputbyweight']\n",
    "finalData = pd.DataFrame()\n",
    "\n",
    "for id in idList:\n",
    "    df = finalMerge[finalMerge['patientunitstayid'] == id]\n",
    "    sepsisDiagnosisTime = df[df['diagnosis'] == 1].observationoffset\n",
    "    countNull = df[cols].isnull().sum().sum()\n",
    "    percentOfNull = (countNull / (len(df.index) * 8)) * 100\n",
    "    # print(percentOfNull)\n",
    "\n",
    "    if percentOfNull < 80:\n",
    "        if len(sepsisDiagnosisTime) != 0:\n",
    "            sepsisDiagnosisTimeDict = sepsisDiagnosisTime.to_dict()\n",
    "            sepsisDiagnosisTime = sepsisDiagnosisTimeDict[list(sepsisDiagnosisTimeDict.keys())[0]]\n",
    "            df = df[df['observationoffset'] <= sepsisDiagnosisTime]\n",
    "            df.loc[:, 'temperature'] = df['temperature'].interpolate(method='linear', limit_direction='both')\n",
    "            df.loc[:, 'heartrate'] = df['heartrate'].interpolate(method='linear', limit_direction='both')\n",
    "            df.loc[:, 'respiration'] = df['respiration'].interpolate(method='linear', limit_direction='both')\n",
    "            df.loc[:, 'systemicsystolic'] = df['systemicsystolic'].interpolate(method='linear', limit_direction='both')\n",
    "            df.loc[:, 'creatinine'] = df['creatinine'].interpolate(method='linear', limit_direction='both')\n",
    "            df.loc[:, 'wbcx1000'] = df['wbcx1000'].interpolate(method='linear', limit_direction='both')\n",
    "            df.loc[:, 'lactate'] = df['lactate'].interpolate(method='linear', limit_direction='both')\n",
    "            df.loc[:, 'urineoutputbyweight'] = df['urineoutputbyweight'].interpolate(method='linear', limit_direction='both')\n",
    "            df.loc[:, 'diagnosis'] = df['diagnosis'].interpolate(method='linear')\n",
    "            df['diagnosis'].fillna('0', inplace=True)\n",
    "        finalData = finalData.append(df)\n",
    "\n",
    "finalData"
   ]
  },
  {
   "cell_type": "markdown",
   "source": [
    "#### Setting single missing cols to default human values\n",
    "\n",
    "* temperature - 37\n",
    "* heartrate - 80\n",
    "* respiration - 20\n",
    "* systemicsystolic - 120\n",
    "* creatinine - 0.8\n",
    "* wbcx1000 - 10\n",
    "* lactate - 1.5\n",
    "* urineoutputbyweight - 1.5"
   ],
   "metadata": {
    "collapsed": false,
    "pycharm": {
     "name": "#%% md\n"
    }
   }
  },
  {
   "cell_type": "code",
   "execution_count": 6,
   "outputs": [],
   "source": [
    "finalData['temperature'] = finalData['temperature'].fillna(37)\n",
    "finalData['heartrate'] = finalData['heartrate'].fillna(80)\n",
    "finalData['respiration'] = finalData['respiration'].fillna(20)\n",
    "finalData['systemicsystolic'] = finalData['systemicsystolic'].fillna(120)\n",
    "finalData['creatinine'] = finalData['creatinine'].fillna(0.8)\n",
    "finalData['wbcx1000'] = finalData['wbcx1000'].fillna(10)\n",
    "finalData['lactate'] = finalData['lactate'].fillna(1.5)\n",
    "finalData['urineoutputbyweight'] = finalData['urineoutputbyweight'].fillna(1.5)"
   ],
   "metadata": {
    "collapsed": false,
    "pycharm": {
     "name": "#%%\n"
    }
   }
  },
  {
   "cell_type": "code",
   "execution_count": 7,
   "outputs": [
    {
     "data": {
      "text/plain": "0"
     },
     "execution_count": 7,
     "metadata": {},
     "output_type": "execute_result"
    }
   ],
   "source": [
    "finalData[cols].isnull().sum().sum()"
   ],
   "metadata": {
    "collapsed": false,
    "pycharm": {
     "name": "#%%\n"
    }
   }
  },
  {
   "cell_type": "code",
   "execution_count": 8,
   "outputs": [
    {
     "data": {
      "text/plain": "         patientunitstayid  observationoffset  temperature  heartrate  \\\n628                 143870                7.0         37.0       44.0   \n1677168             143870               10.0         37.0       80.0   \n574                 143870               12.0         37.0       42.0   \n543                 143870               17.0         37.0       41.0   \n580                 143870               22.0         37.0       41.0   \n...                    ...                ...          ...        ...   \n1634649            3353113             2671.0         37.0       87.0   \n1634633            3353113             2676.0         37.0       85.0   \n1634665            3353113             2681.0         37.0       84.0   \n1634621            3353113             2686.0         37.0       84.0   \n1634641            3353113             2691.0         37.0       84.0   \n\n         respiration  systemicsystolic  creatinine  wbcx1000  lactate  \\\n628             86.0             111.0         0.8      10.0      1.5   \n1677168         20.0             120.0         0.8      10.0      1.5   \n574             75.0             114.0         0.8      10.0      1.5   \n543             78.0             113.0         0.8      10.0      1.5   \n580             73.0             113.0         0.8      10.0      1.5   \n...              ...               ...         ...       ...      ...   \n1634649         27.0             120.0         0.8      10.0      1.5   \n1634633         27.0             120.0         0.8      10.0      1.5   \n1634665         26.0             120.0         0.8      10.0      1.5   \n1634621         25.0             120.0         0.8      10.0      1.5   \n1634641         25.0             120.0         0.8      10.0      1.5   \n\n         urineoutputbyweight diagnosis  \n628                      1.5       NaN  \n1677168                  1.5         0  \n574                      1.5       NaN  \n543                      1.5       NaN  \n580                      1.5       NaN  \n...                      ...       ...  \n1634649                  1.5       NaN  \n1634633                  1.5       NaN  \n1634665                  1.5       NaN  \n1634621                  1.5       NaN  \n1634641                  1.5       NaN  \n\n[1230094 rows x 11 columns]",
      "text/html": "<div>\n<style scoped>\n    .dataframe tbody tr th:only-of-type {\n        vertical-align: middle;\n    }\n\n    .dataframe tbody tr th {\n        vertical-align: top;\n    }\n\n    .dataframe thead th {\n        text-align: right;\n    }\n</style>\n<table border=\"1\" class=\"dataframe\">\n  <thead>\n    <tr style=\"text-align: right;\">\n      <th></th>\n      <th>patientunitstayid</th>\n      <th>observationoffset</th>\n      <th>temperature</th>\n      <th>heartrate</th>\n      <th>respiration</th>\n      <th>systemicsystolic</th>\n      <th>creatinine</th>\n      <th>wbcx1000</th>\n      <th>lactate</th>\n      <th>urineoutputbyweight</th>\n      <th>diagnosis</th>\n    </tr>\n  </thead>\n  <tbody>\n    <tr>\n      <td>628</td>\n      <td>143870</td>\n      <td>7.0</td>\n      <td>37.0</td>\n      <td>44.0</td>\n      <td>86.0</td>\n      <td>111.0</td>\n      <td>0.8</td>\n      <td>10.0</td>\n      <td>1.5</td>\n      <td>1.5</td>\n      <td>NaN</td>\n    </tr>\n    <tr>\n      <td>1677168</td>\n      <td>143870</td>\n      <td>10.0</td>\n      <td>37.0</td>\n      <td>80.0</td>\n      <td>20.0</td>\n      <td>120.0</td>\n      <td>0.8</td>\n      <td>10.0</td>\n      <td>1.5</td>\n      <td>1.5</td>\n      <td>0</td>\n    </tr>\n    <tr>\n      <td>574</td>\n      <td>143870</td>\n      <td>12.0</td>\n      <td>37.0</td>\n      <td>42.0</td>\n      <td>75.0</td>\n      <td>114.0</td>\n      <td>0.8</td>\n      <td>10.0</td>\n      <td>1.5</td>\n      <td>1.5</td>\n      <td>NaN</td>\n    </tr>\n    <tr>\n      <td>543</td>\n      <td>143870</td>\n      <td>17.0</td>\n      <td>37.0</td>\n      <td>41.0</td>\n      <td>78.0</td>\n      <td>113.0</td>\n      <td>0.8</td>\n      <td>10.0</td>\n      <td>1.5</td>\n      <td>1.5</td>\n      <td>NaN</td>\n    </tr>\n    <tr>\n      <td>580</td>\n      <td>143870</td>\n      <td>22.0</td>\n      <td>37.0</td>\n      <td>41.0</td>\n      <td>73.0</td>\n      <td>113.0</td>\n      <td>0.8</td>\n      <td>10.0</td>\n      <td>1.5</td>\n      <td>1.5</td>\n      <td>NaN</td>\n    </tr>\n    <tr>\n      <td>...</td>\n      <td>...</td>\n      <td>...</td>\n      <td>...</td>\n      <td>...</td>\n      <td>...</td>\n      <td>...</td>\n      <td>...</td>\n      <td>...</td>\n      <td>...</td>\n      <td>...</td>\n      <td>...</td>\n    </tr>\n    <tr>\n      <td>1634649</td>\n      <td>3353113</td>\n      <td>2671.0</td>\n      <td>37.0</td>\n      <td>87.0</td>\n      <td>27.0</td>\n      <td>120.0</td>\n      <td>0.8</td>\n      <td>10.0</td>\n      <td>1.5</td>\n      <td>1.5</td>\n      <td>NaN</td>\n    </tr>\n    <tr>\n      <td>1634633</td>\n      <td>3353113</td>\n      <td>2676.0</td>\n      <td>37.0</td>\n      <td>85.0</td>\n      <td>27.0</td>\n      <td>120.0</td>\n      <td>0.8</td>\n      <td>10.0</td>\n      <td>1.5</td>\n      <td>1.5</td>\n      <td>NaN</td>\n    </tr>\n    <tr>\n      <td>1634665</td>\n      <td>3353113</td>\n      <td>2681.0</td>\n      <td>37.0</td>\n      <td>84.0</td>\n      <td>26.0</td>\n      <td>120.0</td>\n      <td>0.8</td>\n      <td>10.0</td>\n      <td>1.5</td>\n      <td>1.5</td>\n      <td>NaN</td>\n    </tr>\n    <tr>\n      <td>1634621</td>\n      <td>3353113</td>\n      <td>2686.0</td>\n      <td>37.0</td>\n      <td>84.0</td>\n      <td>25.0</td>\n      <td>120.0</td>\n      <td>0.8</td>\n      <td>10.0</td>\n      <td>1.5</td>\n      <td>1.5</td>\n      <td>NaN</td>\n    </tr>\n    <tr>\n      <td>1634641</td>\n      <td>3353113</td>\n      <td>2691.0</td>\n      <td>37.0</td>\n      <td>84.0</td>\n      <td>25.0</td>\n      <td>120.0</td>\n      <td>0.8</td>\n      <td>10.0</td>\n      <td>1.5</td>\n      <td>1.5</td>\n      <td>NaN</td>\n    </tr>\n  </tbody>\n</table>\n<p>1230094 rows × 11 columns</p>\n</div>"
     },
     "execution_count": 8,
     "metadata": {},
     "output_type": "execute_result"
    }
   ],
   "source": [
    "finalData.sort_values(['patientunitstayid','observationoffset'])"
   ],
   "metadata": {
    "collapsed": false,
    "pycharm": {
     "name": "#%%\n"
    }
   }
  },
  {
   "cell_type": "code",
   "execution_count": 9,
   "metadata": {
    "collapsed": false,
    "jupyter": {
     "outputs_hidden": false
    },
    "pycharm": {
     "name": "#%%\n"
    }
   },
   "outputs": [],
   "source": [
    "path = \"../eICU/training/\"\n",
    "finalData.to_csv(path + \"finalData.csv\", sep=',', index=False, encoding='utf-8')\n"
   ]
  }
 ],
 "metadata": {
  "kernelspec": {
   "display_name": "Python 3",
   "language": "python",
   "name": "python3"
  },
  "language_info": {
   "codemirror_mode": {
    "name": "ipython",
    "version": 3
   },
   "file_extension": ".py",
   "mimetype": "text/x-python",
   "name": "python",
   "nbconvert_exporter": "python",
   "pygments_lexer": "ipython3",
   "version": "3.7.4"
  }
 },
 "nbformat": 4,
 "nbformat_minor": 4
}