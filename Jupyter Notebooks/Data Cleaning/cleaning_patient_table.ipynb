{
 "cells": [
  {
   "cell_type": "code",
   "execution_count": 1,
   "metadata": {
    "jupyter": {
     "outputs_hidden": false
    },
    "pycharm": {
     "name": "#%%\n"
    }
   },
   "outputs": [],
   "source": [
    "import pandas as pd\n",
    "import numpy as np"
   ]
  },
  {
   "cell_type": "code",
   "execution_count": 2,
   "metadata": {
    "jupyter": {
     "outputs_hidden": false
    },
    "pycharm": {
     "name": "#%%\n"
    }
   },
   "outputs": [],
   "source": [
    "database_type = \"/full\""
   ]
  },
  {
   "cell_type": "markdown",
   "metadata": {
    "pycharm": {
     "name": "#%% md\n"
    }
   },
   "source": [
    "The `patient` table includes general information about the patient admissions (for example, demographics, admission and discharge details). \n",
    "See: http://eicu-crd.mit.edu/eicutables/patient/"
   ]
  },
  {
   "cell_type": "markdown",
   "metadata": {},
   "source": [
    "#### Reading in lab dataset and keeping relevant columns to our study ."
   ]
  },
  {
   "cell_type": "code",
   "execution_count": 3,
   "metadata": {
    "jupyter": {
     "outputs_hidden": false
    },
    "pycharm": {
     "name": "#%%\n"
    }
   },
   "outputs": [
    {
     "data": {
      "text/plain": "        patientunitstayid  gender age  admissionweight\n0                  141168  Female  70             84.3\n1                  141178  Female  52             54.4\n2                  141179  Female  52              NaN\n3                  141194    Male  68             73.9\n4                  141196    Male  71              NaN\n...                   ...     ...  ..              ...\n200854            3353235    Male  50             90.0\n200855            3353237  Female  79             78.4\n200856            3353251    Male  73            102.0\n200857            3353254    Male  81             83.9\n200858            3353263    Male  35            100.8\n\n[200859 rows x 4 columns]",
      "text/html": "<div>\n<style scoped>\n    .dataframe tbody tr th:only-of-type {\n        vertical-align: middle;\n    }\n\n    .dataframe tbody tr th {\n        vertical-align: top;\n    }\n\n    .dataframe thead th {\n        text-align: right;\n    }\n</style>\n<table border=\"1\" class=\"dataframe\">\n  <thead>\n    <tr style=\"text-align: right;\">\n      <th></th>\n      <th>patientunitstayid</th>\n      <th>gender</th>\n      <th>age</th>\n      <th>admissionweight</th>\n    </tr>\n  </thead>\n  <tbody>\n    <tr>\n      <td>0</td>\n      <td>141168</td>\n      <td>Female</td>\n      <td>70</td>\n      <td>84.3</td>\n    </tr>\n    <tr>\n      <td>1</td>\n      <td>141178</td>\n      <td>Female</td>\n      <td>52</td>\n      <td>54.4</td>\n    </tr>\n    <tr>\n      <td>2</td>\n      <td>141179</td>\n      <td>Female</td>\n      <td>52</td>\n      <td>NaN</td>\n    </tr>\n    <tr>\n      <td>3</td>\n      <td>141194</td>\n      <td>Male</td>\n      <td>68</td>\n      <td>73.9</td>\n    </tr>\n    <tr>\n      <td>4</td>\n      <td>141196</td>\n      <td>Male</td>\n      <td>71</td>\n      <td>NaN</td>\n    </tr>\n    <tr>\n      <td>...</td>\n      <td>...</td>\n      <td>...</td>\n      <td>...</td>\n      <td>...</td>\n    </tr>\n    <tr>\n      <td>200854</td>\n      <td>3353235</td>\n      <td>Male</td>\n      <td>50</td>\n      <td>90.0</td>\n    </tr>\n    <tr>\n      <td>200855</td>\n      <td>3353237</td>\n      <td>Female</td>\n      <td>79</td>\n      <td>78.4</td>\n    </tr>\n    <tr>\n      <td>200856</td>\n      <td>3353251</td>\n      <td>Male</td>\n      <td>73</td>\n      <td>102.0</td>\n    </tr>\n    <tr>\n      <td>200857</td>\n      <td>3353254</td>\n      <td>Male</td>\n      <td>81</td>\n      <td>83.9</td>\n    </tr>\n    <tr>\n      <td>200858</td>\n      <td>3353263</td>\n      <td>Male</td>\n      <td>35</td>\n      <td>100.8</td>\n    </tr>\n  </tbody>\n</table>\n<p>200859 rows × 4 columns</p>\n</div>"
     },
     "execution_count": 3,
     "metadata": {},
     "output_type": "execute_result"
    }
   ],
   "source": [
    "columns = ['patientunitstayid', 'admissionweight', 'age', 'gender']\n",
    "patient = pd.read_csv('../../eICU' + database_type + '/patient.csv', usecols=columns)\n",
    "patient"
   ]
  },
  {
   "cell_type": "code",
   "execution_count": 4,
   "metadata": {
    "jupyter": {
     "outputs_hidden": false
    },
    "pycharm": {
     "name": "#%%\n"
    }
   },
   "outputs": [],
   "source": [
    "patientIds = pd.read_csv('../../eICU' + '/training' + '/patientIds.csv')\n",
    "patientIds = patientIds['patientunitstayid'].tolist()"
   ]
  },
  {
   "cell_type": "code",
   "execution_count": 5,
   "metadata": {
    "scrolled": true
   },
   "outputs": [
    {
     "data": {
      "text/plain": "        patientunitstayid  gender age  admissionweight\n8                  141227    Male  82             82.2\n19                 141288  Female  61              NaN\n20                 141289  Female  61              NaN\n22                 141297    Male  63              NaN\n23                 141304    Male  70              NaN\n...                   ...     ...  ..              ...\n200841            3353177    Male  65             64.9\n200842            3353184  Female  83             46.7\n200846            3353197  Female  66             71.5\n200848            3353199  Female  66             71.5\n200856            3353251    Male  73            102.0\n\n[43899 rows x 4 columns]",
      "text/html": "<div>\n<style scoped>\n    .dataframe tbody tr th:only-of-type {\n        vertical-align: middle;\n    }\n\n    .dataframe tbody tr th {\n        vertical-align: top;\n    }\n\n    .dataframe thead th {\n        text-align: right;\n    }\n</style>\n<table border=\"1\" class=\"dataframe\">\n  <thead>\n    <tr style=\"text-align: right;\">\n      <th></th>\n      <th>patientunitstayid</th>\n      <th>gender</th>\n      <th>age</th>\n      <th>admissionweight</th>\n    </tr>\n  </thead>\n  <tbody>\n    <tr>\n      <td>8</td>\n      <td>141227</td>\n      <td>Male</td>\n      <td>82</td>\n      <td>82.2</td>\n    </tr>\n    <tr>\n      <td>19</td>\n      <td>141288</td>\n      <td>Female</td>\n      <td>61</td>\n      <td>NaN</td>\n    </tr>\n    <tr>\n      <td>20</td>\n      <td>141289</td>\n      <td>Female</td>\n      <td>61</td>\n      <td>NaN</td>\n    </tr>\n    <tr>\n      <td>22</td>\n      <td>141297</td>\n      <td>Male</td>\n      <td>63</td>\n      <td>NaN</td>\n    </tr>\n    <tr>\n      <td>23</td>\n      <td>141304</td>\n      <td>Male</td>\n      <td>70</td>\n      <td>NaN</td>\n    </tr>\n    <tr>\n      <td>...</td>\n      <td>...</td>\n      <td>...</td>\n      <td>...</td>\n      <td>...</td>\n    </tr>\n    <tr>\n      <td>200841</td>\n      <td>3353177</td>\n      <td>Male</td>\n      <td>65</td>\n      <td>64.9</td>\n    </tr>\n    <tr>\n      <td>200842</td>\n      <td>3353184</td>\n      <td>Female</td>\n      <td>83</td>\n      <td>46.7</td>\n    </tr>\n    <tr>\n      <td>200846</td>\n      <td>3353197</td>\n      <td>Female</td>\n      <td>66</td>\n      <td>71.5</td>\n    </tr>\n    <tr>\n      <td>200848</td>\n      <td>3353199</td>\n      <td>Female</td>\n      <td>66</td>\n      <td>71.5</td>\n    </tr>\n    <tr>\n      <td>200856</td>\n      <td>3353251</td>\n      <td>Male</td>\n      <td>73</td>\n      <td>102.0</td>\n    </tr>\n  </tbody>\n</table>\n<p>43899 rows × 4 columns</p>\n</div>"
     },
     "execution_count": 5,
     "metadata": {},
     "output_type": "execute_result"
    }
   ],
   "source": [
    "patient = patient.loc[patient['patientunitstayid'].isin(patientIds)]\n",
    "patient"
   ]
  },
  {
   "cell_type": "code",
   "execution_count": 6,
   "outputs": [
    {
     "data": {
      "text/plain": "       patientunitstayid\n0                 141227\n1                 141288\n2                 141289\n3                 141297\n4                 141304\n...                  ...\n43894            3353177\n43895            3353184\n43896            3353197\n43897            3353199\n43898            3353251\n\n[43899 rows x 1 columns]",
      "text/html": "<div>\n<style scoped>\n    .dataframe tbody tr th:only-of-type {\n        vertical-align: middle;\n    }\n\n    .dataframe tbody tr th {\n        vertical-align: top;\n    }\n\n    .dataframe thead th {\n        text-align: right;\n    }\n</style>\n<table border=\"1\" class=\"dataframe\">\n  <thead>\n    <tr style=\"text-align: right;\">\n      <th></th>\n      <th>patientunitstayid</th>\n    </tr>\n  </thead>\n  <tbody>\n    <tr>\n      <td>0</td>\n      <td>141227</td>\n    </tr>\n    <tr>\n      <td>1</td>\n      <td>141288</td>\n    </tr>\n    <tr>\n      <td>2</td>\n      <td>141289</td>\n    </tr>\n    <tr>\n      <td>3</td>\n      <td>141297</td>\n    </tr>\n    <tr>\n      <td>4</td>\n      <td>141304</td>\n    </tr>\n    <tr>\n      <td>...</td>\n      <td>...</td>\n    </tr>\n    <tr>\n      <td>43894</td>\n      <td>3353177</td>\n    </tr>\n    <tr>\n      <td>43895</td>\n      <td>3353184</td>\n    </tr>\n    <tr>\n      <td>43896</td>\n      <td>3353197</td>\n    </tr>\n    <tr>\n      <td>43897</td>\n      <td>3353199</td>\n    </tr>\n    <tr>\n      <td>43898</td>\n      <td>3353251</td>\n    </tr>\n  </tbody>\n</table>\n<p>43899 rows × 1 columns</p>\n</div>"
     },
     "execution_count": 6,
     "metadata": {},
     "output_type": "execute_result"
    }
   ],
   "source": [
    "newPatientIds = pd.DataFrame(patient['patientunitstayid'].unique())\n",
    "newPatientIds.rename(columns={0: 'patientunitstayid'}, inplace=True)\n",
    "newPatientIds"
   ],
   "metadata": {
    "collapsed": false,
    "pycharm": {
     "name": "#%%\n"
    }
   }
  },
  {
   "cell_type": "code",
   "execution_count": 7,
   "outputs": [],
   "source": [
    "path = \"../../eICU/training/\"\n",
    "newPatientIds.to_csv(path + \"patientIds.csv\", sep=',', index=False, encoding='utf-8')"
   ],
   "metadata": {
    "collapsed": false,
    "pycharm": {
     "name": "#%%\n"
    }
   }
  },
  {
   "cell_type": "markdown",
   "metadata": {},
   "source": [
    "#### Querying the dataframe to find all columns in the dataframe with has 'nan' or null values that fill an entire column"
   ]
  },
  {
   "cell_type": "code",
   "execution_count": 8,
   "metadata": {},
   "outputs": [
    {
     "data": {
      "text/plain": "Index([], dtype='object')"
     },
     "execution_count": 8,
     "metadata": {},
     "output_type": "execute_result"
    }
   ],
   "source": [
    "all_nan_cols = patient.columns[patient.isna().all()]\n",
    "all_nan_cols"
   ]
  },
  {
   "cell_type": "markdown",
   "metadata": {},
   "source": [
    "> `all_nan_cols` were empty, which means that all of our columns have useful data.\n",
    "This means that we must find nan values within the dataframe."
   ]
  },
  {
   "cell_type": "markdown",
   "metadata": {},
   "source": [
    "#### Querying the dataframe to find all columns in the dataframe which has 'nan' or null values that exist within useful data"
   ]
  },
  {
   "cell_type": "code",
   "execution_count": 9,
   "metadata": {},
   "outputs": [
    {
     "data": {
      "text/plain": "Index(['gender', 'admissionweight'], dtype='object')"
     },
     "execution_count": 9,
     "metadata": {},
     "output_type": "execute_result"
    }
   ],
   "source": [
    "all_nan_cols = patient.columns[patient.isna().any()]\n",
    "all_nan_cols"
   ]
  },
  {
   "cell_type": "markdown",
   "metadata": {},
   "source": [
    "> The columns \n",
    "`'gender', 'age', 'ethnicity', 'apacheadmissiondx', 'admissionheight', 'hospitaladmitsource', 'hospitaldischargelocation', 'hospitaldischargestatus', 'unitadmitsource', 'admissionweight', 'dischargeweight', 'unitdischargelocation', 'unitdischargestatus'` \n",
    "were identified by the `df.isna().any()` function as columns that have nan/null values existing within them."
   ]
  },
  {
   "cell_type": "markdown",
   "metadata": {},
   "source": [
    "#### Filling null gender values with `Unknown`"
   ]
  },
  {
   "cell_type": "code",
   "execution_count": 10,
   "metadata": {},
   "outputs": [
    {
     "name": "stderr",
     "output_type": "stream",
     "text": [
      "C:\\tools\\Anaconda3\\lib\\site-packages\\pandas\\core\\generic.py:6287: SettingWithCopyWarning: \n",
      "A value is trying to be set on a copy of a slice from a DataFrame\n",
      "\n",
      "See the caveats in the documentation: http://pandas.pydata.org/pandas-docs/stable/user_guide/indexing.html#returning-a-view-versus-a-copy\n",
      "  self._update_inplace(new_data)\n"
     ]
    }
   ],
   "source": [
    "patient['gender'].fillna('Unknown', inplace=True)"
   ]
  },
  {
   "cell_type": "markdown",
   "metadata": {},
   "source": [
    "#### Replacing String with numerical value"
   ]
  },
  {
   "cell_type": "code",
   "execution_count": 11,
   "metadata": {},
   "outputs": [
    {
     "name": "stderr",
     "output_type": "stream",
     "text": [
      "C:\\tools\\Anaconda3\\lib\\site-packages\\ipykernel_launcher.py:1: SettingWithCopyWarning: \n",
      "A value is trying to be set on a copy of a slice from a DataFrame.\n",
      "Try using .loc[row_indexer,col_indexer] = value instead\n",
      "\n",
      "See the caveats in the documentation: http://pandas.pydata.org/pandas-docs/stable/user_guide/indexing.html#returning-a-view-versus-a-copy\n",
      "  \"\"\"Entry point for launching an IPython kernel.\n",
      "C:\\tools\\Anaconda3\\lib\\site-packages\\ipykernel_launcher.py:2: SettingWithCopyWarning: \n",
      "A value is trying to be set on a copy of a slice from a DataFrame.\n",
      "Try using .loc[row_indexer,col_indexer] = value instead\n",
      "\n",
      "See the caveats in the documentation: http://pandas.pydata.org/pandas-docs/stable/user_guide/indexing.html#returning-a-view-versus-a-copy\n",
      "  \n"
     ]
    },
    {
     "data": {
      "text/plain": "array(['82', '61', '63', '70', '45', '78', '75', '65', '80', '58', '60',\n       '81', '72', '73', '67', '52', '68', '71', '69', '64', '74', '86',\n       '51', '89', '77', '49', '41', '53', '57', '46', '28', '66', '38',\n       '55', '76', '62', '20', '35', '59', '33', '87', '32', '54', '56',\n       '79', '44', '30', '84', '85', '47', '31', '48', '39', '88', '19',\n       '26', '50', '43', '40', '83', '29', '23', '37', '42', '22', '21',\n       '25', '27', '24', '34', '17', '16', '36', '18', '14', '12', '13',\n       '1', '15', '5', '3', '9', '11'], dtype=object)"
     },
     "execution_count": 11,
     "metadata": {},
     "output_type": "execute_result"
    }
   ],
   "source": [
    "patient['age'] = patient['age'].apply(lambda x : '89' if (x == '> 89') else x)\n",
    "patient['age'] = patient['age'].apply(lambda x : '1' if (x == '0') else x)\n",
    "\n",
    "patient.age.unique()"
   ]
  },
  {
   "cell_type": "markdown",
   "metadata": {},
   "source": [
    "#### Finding out how much null ages there are"
   ]
  },
  {
   "cell_type": "code",
   "execution_count": 12,
   "metadata": {},
   "outputs": [
    {
     "data": {
      "text/plain": "0"
     },
     "execution_count": 12,
     "metadata": {},
     "output_type": "execute_result"
    }
   ],
   "source": [
    "na = patient.age.isnull().sum(axis = 0)\n",
    "na"
   ]
  },
  {
   "cell_type": "markdown",
   "metadata": {},
   "source": [
    "we can drop these null values afterwards to test and play around with results"
   ]
  },
  {
   "cell_type": "markdown",
   "metadata": {},
   "source": [
    "#### Convert to Float, fill null values with the mean age, convert to integer"
   ]
  },
  {
   "cell_type": "code",
   "execution_count": 13,
   "metadata": {},
   "outputs": [],
   "source": [
    "patient = patient.astype({'age': float})"
   ]
  },
  {
   "cell_type": "code",
   "execution_count": 14,
   "metadata": {},
   "outputs": [],
   "source": [
    "import math\n",
    "\n",
    "patient['age'].fillna(math.floor(patient['age'].mean()), inplace=True)"
   ]
  },
  {
   "cell_type": "code",
   "execution_count": 15,
   "metadata": {},
   "outputs": [],
   "source": [
    "patient = patient.astype({'age': int})"
   ]
  },
  {
   "cell_type": "code",
   "execution_count": 16,
   "metadata": {},
   "outputs": [
    {
     "data": {
      "text/plain": "array([82, 61, 63, 70, 45, 78, 75, 65, 80, 58, 60, 81, 72, 73, 67, 52, 68,\n       71, 69, 64, 74, 86, 51, 89, 77, 49, 41, 53, 57, 46, 28, 66, 38, 55,\n       76, 62, 20, 35, 59, 33, 87, 32, 54, 56, 79, 44, 30, 84, 85, 47, 31,\n       48, 39, 88, 19, 26, 50, 43, 40, 83, 29, 23, 37, 42, 22, 21, 25, 27,\n       24, 34, 17, 16, 36, 18, 14, 12, 13,  1, 15,  5,  3,  9, 11],\n      dtype=int64)"
     },
     "execution_count": 16,
     "metadata": {},
     "output_type": "execute_result"
    }
   ],
   "source": [
    "patient['age'].unique()"
   ]
  },
  {
   "cell_type": "markdown",
   "metadata": {},
   "source": [
    "#### Using ages to fill in null admission weights"
   ]
  },
  {
   "cell_type": "code",
   "execution_count": 17,
   "metadata": {},
   "outputs": [
    {
     "data": {
      "text/plain": "1519"
     },
     "execution_count": 17,
     "metadata": {},
     "output_type": "execute_result"
    }
   ],
   "source": [
    "# set all admissionweight = 0 to null\n",
    "patient['admissionweight'] = patient['admissionweight'].replace({0:np.nan})\n",
    "na = patient.admissionweight.isnull().sum(axis = 0)\n",
    "na"
   ]
  },
  {
   "cell_type": "markdown",
   "metadata": {},
   "source": [
    "#### Females and associated weights:  \n",
    "    '<20', 116,  \n",
    "    '20-39', 167.6,  \n",
    "    '40-59', 176.4,  \n",
    "    '>60', 166.5  \n",
    "\n",
    "#### Male and associated weights:  \n",
    "    '<20', 116,  \n",
    "    '20-39', 196.9,  \n",
    "    '40-59', 200.9,  \n",
    "    '>60', 194.7  "
   ]
  },
  {
   "cell_type": "code",
   "execution_count": 18,
   "metadata": {},
   "outputs": [],
   "source": [
    "patient['admissionweight'] = np.where((patient['gender'] == 'Male') & (patient['age'] < 20) & (patient['admissionweight'].isnull()), 116, patient['admissionweight'])\n",
    "patient['admissionweight'] = np.where((patient['gender'] == 'Male') & (patient['age'] >= 20) & (patient['age'] <= 39) & (patient['admissionweight'].isnull()), 196.9, patient['admissionweight'])\n",
    "patient['admissionweight'] = np.where((patient['gender'] == 'Male') & (patient['age'] >= 40) & (patient['age'] <= 59) & (patient['admissionweight'].isnull()), 200.9, patient['admissionweight'])\n",
    "patient['admissionweight'] = np.where((patient['gender'] == 'Male') & (patient['age'] >= 60) & (patient['admissionweight'].isnull()), 194.7, patient['admissionweight'])"
   ]
  },
  {
   "cell_type": "markdown",
   "metadata": {},
   "source": [
    "#### Filling for Females"
   ]
  },
  {
   "cell_type": "code",
   "execution_count": 19,
   "metadata": {},
   "outputs": [],
   "source": [
    "patient['admissionweight'] = np.where((patient['gender'] == 'Female') & (patient['age'] < 20) & (patient['admissionweight'].isnull()), 116, patient['admissionweight'])\n",
    "patient['admissionweight'] = np.where((patient['gender'] == 'Female') & (patient['age'] >= 20) & (patient['age'] <= 39) & (patient['admissionweight'].isnull()), 167.6, patient['admissionweight'])\n",
    "patient['admissionweight'] = np.where((patient['gender'] == 'Female') & (patient['age'] >= 40) & (patient['age'] <= 59) & (patient['admissionweight'].isnull()), 176.4, patient['admissionweight'])\n",
    "patient['admissionweight'] = np.where((patient['gender'] == 'Female') & (patient['age'] >= 60) & (patient['admissionweight'].isnull()), 166.5, patient['admissionweight'])"
   ]
  },
  {
   "cell_type": "markdown",
   "metadata": {},
   "source": [
    "#### Filling for Unknown Genders"
   ]
  },
  {
   "cell_type": "code",
   "execution_count": 20,
   "metadata": {},
   "outputs": [],
   "source": [
    "patient['admissionweight'] = np.where((patient['gender'] == 'Unknown') & (patient['age'] < 20) & (patient['admissionweight'].isnull()), 116, patient['admissionweight'])\n",
    "patient['admissionweight'] = np.where((patient['gender'] == 'Unknown') & (patient['age'] >= 20) & (patient['age'] <= 39) & (patient['admissionweight'].isnull()), 196.9, patient['admissionweight'])\n",
    "patient['admissionweight'] = np.where((patient['gender'] == 'Unknown') & (patient['age'] >= 40) & (patient['age'] <= 59) & (patient['admissionweight'].isnull()), 200.9, patient['admissionweight'])\n",
    "patient['admissionweight'] = np.where((patient['gender'] == 'Unknown') & (patient['age'] >= 60) & (patient['admissionweight'].isnull()), 194.7, patient['admissionweight'])"
   ]
  },
  {
   "cell_type": "code",
   "execution_count": 21,
   "metadata": {},
   "outputs": [
    {
     "name": "stdout",
     "output_type": "stream",
     "text": [
      "Null values in patient admission weight:  0\n"
     ]
    },
    {
     "data": {
      "text/plain": "        patientunitstayid  gender  age  admissionweight\n8                  141227    Male   82             82.2\n19                 141288  Female   61            166.5\n20                 141289  Female   61            166.5\n22                 141297    Male   63            194.7\n23                 141304    Male   70            194.7\n...                   ...     ...  ...              ...\n200841            3353177    Male   65             64.9\n200842            3353184  Female   83             46.7\n200846            3353197  Female   66             71.5\n200848            3353199  Female   66             71.5\n200856            3353251    Male   73            102.0\n\n[43899 rows x 4 columns]",
      "text/html": "<div>\n<style scoped>\n    .dataframe tbody tr th:only-of-type {\n        vertical-align: middle;\n    }\n\n    .dataframe tbody tr th {\n        vertical-align: top;\n    }\n\n    .dataframe thead th {\n        text-align: right;\n    }\n</style>\n<table border=\"1\" class=\"dataframe\">\n  <thead>\n    <tr style=\"text-align: right;\">\n      <th></th>\n      <th>patientunitstayid</th>\n      <th>gender</th>\n      <th>age</th>\n      <th>admissionweight</th>\n    </tr>\n  </thead>\n  <tbody>\n    <tr>\n      <td>8</td>\n      <td>141227</td>\n      <td>Male</td>\n      <td>82</td>\n      <td>82.2</td>\n    </tr>\n    <tr>\n      <td>19</td>\n      <td>141288</td>\n      <td>Female</td>\n      <td>61</td>\n      <td>166.5</td>\n    </tr>\n    <tr>\n      <td>20</td>\n      <td>141289</td>\n      <td>Female</td>\n      <td>61</td>\n      <td>166.5</td>\n    </tr>\n    <tr>\n      <td>22</td>\n      <td>141297</td>\n      <td>Male</td>\n      <td>63</td>\n      <td>194.7</td>\n    </tr>\n    <tr>\n      <td>23</td>\n      <td>141304</td>\n      <td>Male</td>\n      <td>70</td>\n      <td>194.7</td>\n    </tr>\n    <tr>\n      <td>...</td>\n      <td>...</td>\n      <td>...</td>\n      <td>...</td>\n      <td>...</td>\n    </tr>\n    <tr>\n      <td>200841</td>\n      <td>3353177</td>\n      <td>Male</td>\n      <td>65</td>\n      <td>64.9</td>\n    </tr>\n    <tr>\n      <td>200842</td>\n      <td>3353184</td>\n      <td>Female</td>\n      <td>83</td>\n      <td>46.7</td>\n    </tr>\n    <tr>\n      <td>200846</td>\n      <td>3353197</td>\n      <td>Female</td>\n      <td>66</td>\n      <td>71.5</td>\n    </tr>\n    <tr>\n      <td>200848</td>\n      <td>3353199</td>\n      <td>Female</td>\n      <td>66</td>\n      <td>71.5</td>\n    </tr>\n    <tr>\n      <td>200856</td>\n      <td>3353251</td>\n      <td>Male</td>\n      <td>73</td>\n      <td>102.0</td>\n    </tr>\n  </tbody>\n</table>\n<p>43899 rows × 4 columns</p>\n</div>"
     },
     "execution_count": 21,
     "metadata": {},
     "output_type": "execute_result"
    }
   ],
   "source": [
    "print('Null values in patient admission weight: ', patient.admissionweight.isnull().sum(axis = 0))\n",
    "patient"
   ]
  },
  {
   "cell_type": "markdown",
   "metadata": {
    "pycharm": {
     "name": "#%% md\n"
    }
   },
   "source": [
    "#### Dropping irrelevant columns"
   ]
  },
  {
   "cell_type": "code",
   "execution_count": 22,
   "metadata": {
    "jupyter": {
     "outputs_hidden": false
    },
    "pycharm": {
     "name": "#%%\n"
    }
   },
   "outputs": [
    {
     "data": {
      "text/plain": "        patientunitstayid  admissionweight\n8                  141227             82.2\n19                 141288            166.5\n20                 141289            166.5\n22                 141297            194.7\n23                 141304            194.7\n...                   ...              ...\n200841            3353177             64.9\n200842            3353184             46.7\n200846            3353197             71.5\n200848            3353199             71.5\n200856            3353251            102.0\n\n[43899 rows x 2 columns]",
      "text/html": "<div>\n<style scoped>\n    .dataframe tbody tr th:only-of-type {\n        vertical-align: middle;\n    }\n\n    .dataframe tbody tr th {\n        vertical-align: top;\n    }\n\n    .dataframe thead th {\n        text-align: right;\n    }\n</style>\n<table border=\"1\" class=\"dataframe\">\n  <thead>\n    <tr style=\"text-align: right;\">\n      <th></th>\n      <th>patientunitstayid</th>\n      <th>admissionweight</th>\n    </tr>\n  </thead>\n  <tbody>\n    <tr>\n      <td>8</td>\n      <td>141227</td>\n      <td>82.2</td>\n    </tr>\n    <tr>\n      <td>19</td>\n      <td>141288</td>\n      <td>166.5</td>\n    </tr>\n    <tr>\n      <td>20</td>\n      <td>141289</td>\n      <td>166.5</td>\n    </tr>\n    <tr>\n      <td>22</td>\n      <td>141297</td>\n      <td>194.7</td>\n    </tr>\n    <tr>\n      <td>23</td>\n      <td>141304</td>\n      <td>194.7</td>\n    </tr>\n    <tr>\n      <td>...</td>\n      <td>...</td>\n      <td>...</td>\n    </tr>\n    <tr>\n      <td>200841</td>\n      <td>3353177</td>\n      <td>64.9</td>\n    </tr>\n    <tr>\n      <td>200842</td>\n      <td>3353184</td>\n      <td>46.7</td>\n    </tr>\n    <tr>\n      <td>200846</td>\n      <td>3353197</td>\n      <td>71.5</td>\n    </tr>\n    <tr>\n      <td>200848</td>\n      <td>3353199</td>\n      <td>71.5</td>\n    </tr>\n    <tr>\n      <td>200856</td>\n      <td>3353251</td>\n      <td>102.0</td>\n    </tr>\n  </tbody>\n</table>\n<p>43899 rows × 2 columns</p>\n</div>"
     },
     "execution_count": 22,
     "metadata": {},
     "output_type": "execute_result"
    }
   ],
   "source": [
    "patient = patient[['patientunitstayid', 'admissionweight']]\n",
    "patient = patient.drop_duplicates()\n",
    "patient"
   ]
  },
  {
   "cell_type": "markdown",
   "metadata": {},
   "source": [
    "#### Saving the Cleaned Patient DataFrame to a `csv` file"
   ]
  },
  {
   "cell_type": "code",
   "execution_count": 23,
   "metadata": {
    "pycharm": {
     "name": "#%%\n"
    }
   },
   "outputs": [],
   "source": [
    "path = \"../../eICU/training/\"\n",
    "patient.to_csv(path + \"patient.csv\", sep=',', index=False, encoding='utf-8')\n"
   ]
  }
 ],
 "metadata": {
  "kernelspec": {
   "display_name": "Python 3",
   "language": "python",
   "name": "python3"
  },
  "language_info": {
   "codemirror_mode": {
    "name": "ipython",
    "version": 3
   },
   "file_extension": ".py",
   "mimetype": "text/x-python",
   "name": "python",
   "nbconvert_exporter": "python",
   "pygments_lexer": "ipython3",
   "version": "3.6.9"
  }
 },
 "nbformat": 4,
 "nbformat_minor": 4
}