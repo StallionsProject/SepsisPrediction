{
 "cells": [
  {
   "cell_type": "code",
   "execution_count": 1,
   "metadata": {
    "pycharm": {
     "is_executing": false
    }
   },
   "outputs": [],
   "source": [
    "%load_ext autoreload\n",
    "%autoreload 2"
   ]
  },
  {
   "cell_type": "code",
   "execution_count": 2,
   "metadata": {
    "collapsed": false,
    "jupyter": {
     "outputs_hidden": false
    },
    "pycharm": {
     "is_executing": false,
     "name": "#%%\n"
    }
   },
   "outputs": [],
   "source": [
    "import pandas as pd\n",
    "import numpy as np"
   ]
  },
  {
   "cell_type": "code",
   "execution_count": 3,
   "metadata": {
    "collapsed": false,
    "jupyter": {
     "outputs_hidden": false
    },
    "pycharm": {
     "is_executing": false,
     "name": "#%%\n"
    }
   },
   "outputs": [],
   "source": [
    "database_type = \"/full\""
   ]
  },
  {
   "cell_type": "markdown",
   "metadata": {
    "pycharm": {
     "name": "#%% md\n"
    }
   },
   "source": [
    "The `patient` table includes general information about the patient admissions (for example, demographics, admission and discharge details). \n",
    "See: http://eicu-crd.mit.edu/eicutables/patient/"
   ]
  },
  {
   "cell_type": "markdown",
   "metadata": {},
   "source": [
    "#### Reading in lab dataset and keeping relevant columns to our study ."
   ]
  },
  {
   "cell_type": "code",
   "execution_count": 4,
   "metadata": {
    "collapsed": false,
    "jupyter": {
     "outputs_hidden": false
    },
    "pycharm": {
     "is_executing": false,
     "name": "#%%\n"
    }
   },
   "outputs": [
    {
     "data": {
      "text/plain": "      patientunitstayid  gender age  admissionweight\n0                141764  Female  87              NaN\n1                141765  Female  87             46.5\n2                143870    Male  76             77.5\n3                144815  Female  34             60.3\n4                145427    Male  61             91.7\n...                 ...     ...  ..              ...\n2515            3351763  Female  62            134.5\n2516            3352230    Male  41            127.0\n2517            3352231    Male  41            127.0\n2518            3352333    Male  72             68.3\n2519            3353113    Male  50             88.0\n\n[2520 rows x 4 columns]",
      "text/html": "<div>\n<style scoped>\n    .dataframe tbody tr th:only-of-type {\n        vertical-align: middle;\n    }\n\n    .dataframe tbody tr th {\n        vertical-align: top;\n    }\n\n    .dataframe thead th {\n        text-align: right;\n    }\n</style>\n<table border=\"1\" class=\"dataframe\">\n  <thead>\n    <tr style=\"text-align: right;\">\n      <th></th>\n      <th>patientunitstayid</th>\n      <th>gender</th>\n      <th>age</th>\n      <th>admissionweight</th>\n    </tr>\n  </thead>\n  <tbody>\n    <tr>\n      <td>0</td>\n      <td>141764</td>\n      <td>Female</td>\n      <td>87</td>\n      <td>NaN</td>\n    </tr>\n    <tr>\n      <td>1</td>\n      <td>141765</td>\n      <td>Female</td>\n      <td>87</td>\n      <td>46.5</td>\n    </tr>\n    <tr>\n      <td>2</td>\n      <td>143870</td>\n      <td>Male</td>\n      <td>76</td>\n      <td>77.5</td>\n    </tr>\n    <tr>\n      <td>3</td>\n      <td>144815</td>\n      <td>Female</td>\n      <td>34</td>\n      <td>60.3</td>\n    </tr>\n    <tr>\n      <td>4</td>\n      <td>145427</td>\n      <td>Male</td>\n      <td>61</td>\n      <td>91.7</td>\n    </tr>\n    <tr>\n      <td>...</td>\n      <td>...</td>\n      <td>...</td>\n      <td>...</td>\n      <td>...</td>\n    </tr>\n    <tr>\n      <td>2515</td>\n      <td>3351763</td>\n      <td>Female</td>\n      <td>62</td>\n      <td>134.5</td>\n    </tr>\n    <tr>\n      <td>2516</td>\n      <td>3352230</td>\n      <td>Male</td>\n      <td>41</td>\n      <td>127.0</td>\n    </tr>\n    <tr>\n      <td>2517</td>\n      <td>3352231</td>\n      <td>Male</td>\n      <td>41</td>\n      <td>127.0</td>\n    </tr>\n    <tr>\n      <td>2518</td>\n      <td>3352333</td>\n      <td>Male</td>\n      <td>72</td>\n      <td>68.3</td>\n    </tr>\n    <tr>\n      <td>2519</td>\n      <td>3353113</td>\n      <td>Male</td>\n      <td>50</td>\n      <td>88.0</td>\n    </tr>\n  </tbody>\n</table>\n<p>2520 rows × 4 columns</p>\n</div>"
     },
     "metadata": {},
     "output_type": "execute_result",
     "execution_count": 4
    }
   ],
   "source": [
    "columns = ['patientunitstayid', 'admissionweight', 'age', 'gender']\n",
    "patient = pd.read_csv('../../eICU' + database_type + '/patient.csv', usecols=columns)\n",
    "patient"
   ]
  },
  {
   "cell_type": "markdown",
   "metadata": {},
   "source": [
    "#### Querying the dataframe to find all columns in the dataframe with has 'nan' or null values that fill an entire column"
   ]
  },
  {
   "cell_type": "code",
   "execution_count": 5,
   "metadata": {
    "pycharm": {
     "is_executing": false
    }
   },
   "outputs": [
    {
     "data": {
      "text/plain": "Index([], dtype='object')"
     },
     "metadata": {},
     "output_type": "execute_result",
     "execution_count": 5
    }
   ],
   "source": [
    "all_nan_cols = patient.columns[patient.isna().all()]\n",
    "all_nan_cols"
   ]
  },
  {
   "cell_type": "markdown",
   "metadata": {},
   "source": [
    "> `all_nan_cols` were empty, which means that all of our columns have useful data.\n",
    "This means that we must find nan values within the dataframe."
   ]
  },
  {
   "cell_type": "markdown",
   "metadata": {},
   "source": [
    "#### Querying the dataframe to find all columns in the dataframe which has 'nan' or null values that exist within useful data"
   ]
  },
  {
   "cell_type": "code",
   "execution_count": 6,
   "metadata": {
    "pycharm": {
     "is_executing": false
    }
   },
   "outputs": [
    {
     "data": {
      "text/plain": "Index(['gender', 'age', 'admissionweight'], dtype='object')"
     },
     "metadata": {},
     "output_type": "execute_result",
     "execution_count": 6
    }
   ],
   "source": [
    "all_nan_cols = patient.columns[patient.isna().any()]\n",
    "all_nan_cols"
   ]
  },
  {
   "cell_type": "markdown",
   "metadata": {},
   "source": [
    "> The columns \n",
    "`'gender', 'age', 'ethnicity', 'apacheadmissiondx', 'admissionheight', 'hospitaladmitsource', 'hospitaldischargelocation', 'hospitaldischargestatus', 'unitadmitsource', 'admissionweight', 'dischargeweight', 'unitdischargelocation', 'unitdischargestatus'` \n",
    "were identified by the `df.isna().any()` function as columns that have nan/null values existing within them."
   ]
  },
  {
   "cell_type": "markdown",
   "metadata": {},
   "source": [
    "#### Filling null gender values with `Unknown`"
   ]
  },
  {
   "cell_type": "code",
   "execution_count": 7,
   "metadata": {
    "pycharm": {
     "is_executing": false
    }
   },
   "outputs": [],
   "source": [
    "patient['gender'].fillna('Unknown', inplace=True)"
   ]
  },
  {
   "cell_type": "markdown",
   "metadata": {},
   "source": [
    "#### Replacing String with numerical value"
   ]
  },
  {
   "cell_type": "code",
   "execution_count": 8,
   "metadata": {
    "pycharm": {
     "is_executing": false
    }
   },
   "outputs": [
    {
     "data": {
      "text/plain": "array(['87', '76', '34', '61', '55', '60', '28', '89', '59', '44', '66',\n       '41', '63', '57', '52', '23', '73', '39', '20', '29', '71', '18',\n       '83', '84', '47', '38', '46', '49', '81', '68', '51', '17', '85',\n       '56', '80', '48', '74', '16', '64', '75', '67', '72', '82', '77',\n       '78', '58', '88', '53', '54', '65', '69', '62', '50', '42', '32',\n       '25', '40', '43', '79', '70', '86', '30', '37', '26', '19', '31',\n       '21', '45', nan, '22', '27', '33', '35', '24', '36', '15'],\n      dtype=object)"
     },
     "metadata": {},
     "output_type": "execute_result",
     "execution_count": 8
    }
   ],
   "source": [
    "patient['age'] = patient['age'].apply(lambda x : '89' if (x == '> 89') else x)\n",
    "patient['age'] = patient['age'].apply(lambda x : '1' if (x == '0') else x)\n",
    "\n",
    "patient.age.unique()"
   ]
  },
  {
   "cell_type": "markdown",
   "metadata": {},
   "source": [
    "#### Finding out how much null ages there are"
   ]
  },
  {
   "cell_type": "code",
   "execution_count": 9,
   "metadata": {
    "pycharm": {
     "is_executing": false
    }
   },
   "outputs": [
    {
     "data": {
      "text/plain": "4"
     },
     "metadata": {},
     "output_type": "execute_result",
     "execution_count": 9
    }
   ],
   "source": [
    "na = patient.age.isnull().sum(axis = 0)\n",
    "na"
   ]
  },
  {
   "cell_type": "markdown",
   "metadata": {},
   "source": [
    "we can drop these null values afterwards to test and play around with results"
   ]
  },
  {
   "cell_type": "markdown",
   "metadata": {},
   "source": [
    "#### Convert to Float, fill null values with the mean age, convert to integer"
   ]
  },
  {
   "cell_type": "code",
   "execution_count": 10,
   "metadata": {
    "pycharm": {
     "is_executing": false
    }
   },
   "outputs": [],
   "source": [
    "patient = patient.astype({'age': float})"
   ]
  },
  {
   "cell_type": "code",
   "execution_count": 11,
   "metadata": {
    "pycharm": {
     "is_executing": false
    }
   },
   "outputs": [],
   "source": [
    "import math\n",
    "\n",
    "patient['age'].fillna(math.floor(patient['age'].mean()), inplace=True)"
   ]
  },
  {
   "cell_type": "code",
   "execution_count": 12,
   "metadata": {
    "pycharm": {
     "is_executing": false
    }
   },
   "outputs": [],
   "source": [
    "patient = patient.astype({'age': int})"
   ]
  },
  {
   "cell_type": "code",
   "execution_count": 13,
   "metadata": {
    "pycharm": {
     "is_executing": false
    }
   },
   "outputs": [
    {
     "data": {
      "text/plain": "array([87, 76, 34, 61, 55, 60, 28, 89, 59, 44, 66, 41, 63, 57, 52, 23, 73,\n       39, 20, 29, 71, 18, 83, 84, 47, 38, 46, 49, 81, 68, 51, 17, 85, 56,\n       80, 48, 74, 16, 64, 75, 67, 72, 82, 77, 78, 58, 88, 53, 54, 65, 69,\n       62, 50, 42, 32, 25, 40, 43, 79, 70, 86, 30, 37, 26, 19, 31, 21, 45,\n       22, 27, 33, 35, 24, 36, 15], dtype=int64)"
     },
     "metadata": {},
     "output_type": "execute_result",
     "execution_count": 13
    }
   ],
   "source": [
    "patient['age'].unique()"
   ]
  },
  {
   "cell_type": "markdown",
   "metadata": {},
   "source": [
    "#### Using ages to fill in null admission weights"
   ]
  },
  {
   "cell_type": "code",
   "execution_count": 14,
   "metadata": {
    "pycharm": {
     "is_executing": false
    }
   },
   "outputs": [
    {
     "data": {
      "text/plain": "198"
     },
     "metadata": {},
     "output_type": "execute_result",
     "execution_count": 14
    }
   ],
   "source": [
    "# set all admissionweight = 0 to null\n",
    "patient['admissionweight'] = patient['admissionweight'].replace({0:np.nan})\n",
    "na = patient.admissionweight.isnull().sum(axis = 0)\n",
    "na"
   ]
  },
  {
   "cell_type": "markdown",
   "metadata": {},
   "source": [
    "#### Females and associated weights:  \n",
    "    '<20', 116,  \n",
    "    '20-39', 167.6,  \n",
    "    '40-59', 176.4,  \n",
    "    '>60', 166.5  \n",
    "\n",
    "#### Male and associated weights:  \n",
    "    '<20', 116,  \n",
    "    '20-39', 196.9,  \n",
    "    '40-59', 200.9,  \n",
    "    '>60', 194.7  "
   ]
  },
  {
   "cell_type": "code",
   "execution_count": 15,
   "metadata": {
    "pycharm": {
     "is_executing": false
    }
   },
   "outputs": [],
   "source": [
    "patient['admissionweight'] = np.where((patient['gender'] == 'Male') & (patient['age'] < 20) & (patient['admissionweight'].isnull()), 116, patient['admissionweight'])\n",
    "patient['admissionweight'] = np.where((patient['gender'] == 'Male') & (patient['age'] >= 20) & (patient['age'] <= 39) & (patient['admissionweight'].isnull()), 196.9, patient['admissionweight'])\n",
    "patient['admissionweight'] = np.where((patient['gender'] == 'Male') & (patient['age'] >= 40) & (patient['age'] <= 59) & (patient['admissionweight'].isnull()), 200.9, patient['admissionweight'])\n",
    "patient['admissionweight'] = np.where((patient['gender'] == 'Male') & (patient['age'] >= 60) & (patient['admissionweight'].isnull()), 194.7, patient['admissionweight'])"
   ]
  },
  {
   "cell_type": "markdown",
   "metadata": {},
   "source": [
    "#### Filling for Females"
   ]
  },
  {
   "cell_type": "code",
   "execution_count": 16,
   "metadata": {
    "pycharm": {
     "is_executing": false
    }
   },
   "outputs": [],
   "source": [
    "patient['admissionweight'] = np.where((patient['gender'] == 'Female') & (patient['age'] < 20) & (patient['admissionweight'].isnull()), 116, patient['admissionweight'])\n",
    "patient['admissionweight'] = np.where((patient['gender'] == 'Female') & (patient['age'] >= 20) & (patient['age'] <= 39) & (patient['admissionweight'].isnull()), 167.6, patient['admissionweight'])\n",
    "patient['admissionweight'] = np.where((patient['gender'] == 'Female') & (patient['age'] >= 40) & (patient['age'] <= 59) & (patient['admissionweight'].isnull()), 176.4, patient['admissionweight'])\n",
    "patient['admissionweight'] = np.where((patient['gender'] == 'Female') & (patient['age'] >= 60) & (patient['admissionweight'].isnull()), 166.5, patient['admissionweight'])"
   ]
  },
  {
   "cell_type": "markdown",
   "metadata": {},
   "source": [
    "#### Filling for Unknown Genders"
   ]
  },
  {
   "cell_type": "code",
   "execution_count": 17,
   "metadata": {
    "pycharm": {
     "is_executing": false
    }
   },
   "outputs": [],
   "source": [
    "patient['admissionweight'] = np.where((patient['gender'] == 'Unknown') & (patient['age'] < 20) & (patient['admissionweight'].isnull()), 116, patient['admissionweight'])\n",
    "patient['admissionweight'] = np.where((patient['gender'] == 'Unknown') & (patient['age'] >= 20) & (patient['age'] <= 39) & (patient['admissionweight'].isnull()), 196.9, patient['admissionweight'])\n",
    "patient['admissionweight'] = np.where((patient['gender'] == 'Unknown') & (patient['age'] >= 40) & (patient['age'] <= 59) & (patient['admissionweight'].isnull()), 200.9, patient['admissionweight'])\n",
    "patient['admissionweight'] = np.where((patient['gender'] == 'Unknown') & (patient['age'] >= 60) & (patient['admissionweight'].isnull()), 194.7, patient['admissionweight'])"
   ]
  },
  {
   "cell_type": "code",
   "execution_count": 18,
   "metadata": {
    "pycharm": {
     "is_executing": false
    }
   },
   "outputs": [
    {
     "name": "stdout",
     "text": [
      "Null values in patient admission weight:  0\n"
     ],
     "output_type": "stream"
    },
    {
     "data": {
      "text/plain": "      patientunitstayid  gender  age  admissionweight\n0                141764  Female   87            166.5\n1                141765  Female   87             46.5\n2                143870    Male   76             77.5\n3                144815  Female   34             60.3\n4                145427    Male   61             91.7\n...                 ...     ...  ...              ...\n2515            3351763  Female   62            134.5\n2516            3352230    Male   41            127.0\n2517            3352231    Male   41            127.0\n2518            3352333    Male   72             68.3\n2519            3353113    Male   50             88.0\n\n[2520 rows x 4 columns]",
      "text/html": "<div>\n<style scoped>\n    .dataframe tbody tr th:only-of-type {\n        vertical-align: middle;\n    }\n\n    .dataframe tbody tr th {\n        vertical-align: top;\n    }\n\n    .dataframe thead th {\n        text-align: right;\n    }\n</style>\n<table border=\"1\" class=\"dataframe\">\n  <thead>\n    <tr style=\"text-align: right;\">\n      <th></th>\n      <th>patientunitstayid</th>\n      <th>gender</th>\n      <th>age</th>\n      <th>admissionweight</th>\n    </tr>\n  </thead>\n  <tbody>\n    <tr>\n      <td>0</td>\n      <td>141764</td>\n      <td>Female</td>\n      <td>87</td>\n      <td>166.5</td>\n    </tr>\n    <tr>\n      <td>1</td>\n      <td>141765</td>\n      <td>Female</td>\n      <td>87</td>\n      <td>46.5</td>\n    </tr>\n    <tr>\n      <td>2</td>\n      <td>143870</td>\n      <td>Male</td>\n      <td>76</td>\n      <td>77.5</td>\n    </tr>\n    <tr>\n      <td>3</td>\n      <td>144815</td>\n      <td>Female</td>\n      <td>34</td>\n      <td>60.3</td>\n    </tr>\n    <tr>\n      <td>4</td>\n      <td>145427</td>\n      <td>Male</td>\n      <td>61</td>\n      <td>91.7</td>\n    </tr>\n    <tr>\n      <td>...</td>\n      <td>...</td>\n      <td>...</td>\n      <td>...</td>\n      <td>...</td>\n    </tr>\n    <tr>\n      <td>2515</td>\n      <td>3351763</td>\n      <td>Female</td>\n      <td>62</td>\n      <td>134.5</td>\n    </tr>\n    <tr>\n      <td>2516</td>\n      <td>3352230</td>\n      <td>Male</td>\n      <td>41</td>\n      <td>127.0</td>\n    </tr>\n    <tr>\n      <td>2517</td>\n      <td>3352231</td>\n      <td>Male</td>\n      <td>41</td>\n      <td>127.0</td>\n    </tr>\n    <tr>\n      <td>2518</td>\n      <td>3352333</td>\n      <td>Male</td>\n      <td>72</td>\n      <td>68.3</td>\n    </tr>\n    <tr>\n      <td>2519</td>\n      <td>3353113</td>\n      <td>Male</td>\n      <td>50</td>\n      <td>88.0</td>\n    </tr>\n  </tbody>\n</table>\n<p>2520 rows × 4 columns</p>\n</div>"
     },
     "metadata": {},
     "output_type": "execute_result",
     "execution_count": 18
    }
   ],
   "source": [
    "print('Null values in patient admission weight: ', patient.admissionweight.isnull().sum(axis = 0))\n",
    "patient"
   ]
  },
  {
   "cell_type": "markdown",
   "metadata": {
    "pycharm": {
     "name": "#%% md\n"
    }
   },
   "source": [
    "#### Dropping irrelevant columns"
   ]
  },
  {
   "cell_type": "code",
   "execution_count": 19,
   "metadata": {
    "collapsed": false,
    "jupyter": {
     "outputs_hidden": false
    },
    "pycharm": {
     "is_executing": false,
     "name": "#%%\n"
    }
   },
   "outputs": [
    {
     "data": {
      "text/plain": "      patientunitstayid  admissionweight\n0                141764            166.5\n1                141765             46.5\n2                143870             77.5\n3                144815             60.3\n4                145427             91.7\n...                 ...              ...\n2515            3351763            134.5\n2516            3352230            127.0\n2517            3352231            127.0\n2518            3352333             68.3\n2519            3353113             88.0\n\n[2520 rows x 2 columns]",
      "text/html": "<div>\n<style scoped>\n    .dataframe tbody tr th:only-of-type {\n        vertical-align: middle;\n    }\n\n    .dataframe tbody tr th {\n        vertical-align: top;\n    }\n\n    .dataframe thead th {\n        text-align: right;\n    }\n</style>\n<table border=\"1\" class=\"dataframe\">\n  <thead>\n    <tr style=\"text-align: right;\">\n      <th></th>\n      <th>patientunitstayid</th>\n      <th>admissionweight</th>\n    </tr>\n  </thead>\n  <tbody>\n    <tr>\n      <td>0</td>\n      <td>141764</td>\n      <td>166.5</td>\n    </tr>\n    <tr>\n      <td>1</td>\n      <td>141765</td>\n      <td>46.5</td>\n    </tr>\n    <tr>\n      <td>2</td>\n      <td>143870</td>\n      <td>77.5</td>\n    </tr>\n    <tr>\n      <td>3</td>\n      <td>144815</td>\n      <td>60.3</td>\n    </tr>\n    <tr>\n      <td>4</td>\n      <td>145427</td>\n      <td>91.7</td>\n    </tr>\n    <tr>\n      <td>...</td>\n      <td>...</td>\n      <td>...</td>\n    </tr>\n    <tr>\n      <td>2515</td>\n      <td>3351763</td>\n      <td>134.5</td>\n    </tr>\n    <tr>\n      <td>2516</td>\n      <td>3352230</td>\n      <td>127.0</td>\n    </tr>\n    <tr>\n      <td>2517</td>\n      <td>3352231</td>\n      <td>127.0</td>\n    </tr>\n    <tr>\n      <td>2518</td>\n      <td>3352333</td>\n      <td>68.3</td>\n    </tr>\n    <tr>\n      <td>2519</td>\n      <td>3353113</td>\n      <td>88.0</td>\n    </tr>\n  </tbody>\n</table>\n<p>2520 rows × 2 columns</p>\n</div>"
     },
     "metadata": {},
     "output_type": "execute_result",
     "execution_count": 19
    }
   ],
   "source": [
    "patient = patient[['patientunitstayid', 'admissionweight']]\n",
    "patient.drop_duplicates()\n",
    "patient"
   ]
  },
  {
   "cell_type": "markdown",
   "metadata": {},
   "source": [
    "#### Saving the Cleaned Patient DataFrame to a `csv` file"
   ]
  },
  {
   "cell_type": "code",
   "execution_count": 20,
   "metadata": {
    "pycharm": {
     "is_executing": false
    }
   },
   "outputs": [],
   "source": [
    "path = \"../../eICU/training/\"\n",
    "patient.to_csv(path + \"patient.csv\", sep=',', index=False, encoding='utf-8')"
   ]
  }
 ],
 "metadata": {
  "kernelspec": {
   "display_name": "Python 3",
   "language": "python",
   "name": "python3"
  },
  "language_info": {
   "codemirror_mode": {
    "name": "ipython",
    "version": 3
   },
   "file_extension": ".py",
   "mimetype": "text/x-python",
   "name": "python",
   "nbconvert_exporter": "python",
   "pygments_lexer": "ipython3",
   "version": "3.7.4"
  },
  "pycharm": {
   "stem_cell": {
    "cell_type": "raw",
    "source": [],
    "metadata": {
     "collapsed": false
    }
   }
  }
 },
 "nbformat": 4,
 "nbformat_minor": 4
}