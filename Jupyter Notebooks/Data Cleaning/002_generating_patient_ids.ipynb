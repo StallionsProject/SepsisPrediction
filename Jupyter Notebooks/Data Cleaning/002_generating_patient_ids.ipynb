{
 "cells": [
  {
   "cell_type": "code",
   "execution_count": 1,
   "metadata": {},
   "outputs": [],
   "source": [
    "import pandas as pd"
   ]
  },
  {
   "cell_type": "code",
   "execution_count": 2,
   "metadata": {},
   "outputs": [],
   "source": [
    "databasePath = \"../../eICU/full/\"\n",
    "exportPath = \"../../eICU/training/\""
   ]
  },
  {
   "cell_type": "code",
   "execution_count": 3,
   "metadata": {
    "pycharm": {
     "name": "#%%\n"
    }
   },
   "outputs": [
    {
     "data": {
      "text/html": [
       "<div>\n",
       "<style scoped>\n",
       "    .dataframe tbody tr th:only-of-type {\n",
       "        vertical-align: middle;\n",
       "    }\n",
       "\n",
       "    .dataframe tbody tr th {\n",
       "        vertical-align: top;\n",
       "    }\n",
       "\n",
       "    .dataframe thead th {\n",
       "        text-align: right;\n",
       "    }\n",
       "</style>\n",
       "<table border=\"1\" class=\"dataframe\">\n",
       "  <thead>\n",
       "    <tr style=\"text-align: right;\">\n",
       "      <th></th>\n",
       "      <th>patientunitstayid</th>\n",
       "    </tr>\n",
       "  </thead>\n",
       "  <tbody>\n",
       "    <tr>\n",
       "      <th>0</th>\n",
       "      <td>141168</td>\n",
       "    </tr>\n",
       "    <tr>\n",
       "      <th>1</th>\n",
       "      <td>141203</td>\n",
       "    </tr>\n",
       "    <tr>\n",
       "      <th>2</th>\n",
       "      <td>141227</td>\n",
       "    </tr>\n",
       "    <tr>\n",
       "      <th>3</th>\n",
       "      <td>141229</td>\n",
       "    </tr>\n",
       "    <tr>\n",
       "      <th>4</th>\n",
       "      <td>141266</td>\n",
       "    </tr>\n",
       "    <tr>\n",
       "      <th>...</th>\n",
       "      <td>...</td>\n",
       "    </tr>\n",
       "    <tr>\n",
       "      <th>173104</th>\n",
       "      <td>3353235</td>\n",
       "    </tr>\n",
       "    <tr>\n",
       "      <th>173105</th>\n",
       "      <td>3353237</td>\n",
       "    </tr>\n",
       "    <tr>\n",
       "      <th>173106</th>\n",
       "      <td>3353251</td>\n",
       "    </tr>\n",
       "    <tr>\n",
       "      <th>173107</th>\n",
       "      <td>3353254</td>\n",
       "    </tr>\n",
       "    <tr>\n",
       "      <th>173108</th>\n",
       "      <td>3353263</td>\n",
       "    </tr>\n",
       "  </tbody>\n",
       "</table>\n",
       "<p>173109 rows × 1 columns</p>\n",
       "</div>"
      ],
      "text/plain": [
       "        patientunitstayid\n",
       "0                  141168\n",
       "1                  141203\n",
       "2                  141227\n",
       "3                  141229\n",
       "4                  141266\n",
       "...                   ...\n",
       "173104            3353235\n",
       "173105            3353237\n",
       "173106            3353251\n",
       "173107            3353254\n",
       "173108            3353263\n",
       "\n",
       "[173109 rows x 1 columns]"
      ]
     },
     "execution_count": 3,
     "metadata": {},
     "output_type": "execute_result"
    }
   ],
   "source": [
    "columns = ['patientunitstayid', 'diagnosis']\n",
    "diagnosis = pd.read_csv(exportPath +  'diagnosis.csv', usecols=columns)\n",
    "diagnosis = pd.DataFrame(diagnosis.patientunitstayid.unique())\n",
    "diagnosis.rename(columns={0: 'patientunitstayid'}, inplace=True)\n",
    "diagnosis"
   ]
  },
  {
   "cell_type": "code",
   "execution_count": 4,
   "metadata": {
    "pycharm": {
     "name": "#%%\n"
    }
   },
   "outputs": [],
   "source": [
    "diagnosis.to_csv(exportPath + \"patientIds.csv\", sep=',', index=False, encoding='utf-8')"
   ]
  }
 ],
 "metadata": {
  "kernelspec": {
   "display_name": "Python 3",
   "language": "python",
   "name": "python3"
  },
  "language_info": {
   "codemirror_mode": {
    "name": "ipython",
    "version": 3
   },
   "file_extension": ".py",
   "mimetype": "text/x-python",
   "name": "python",
   "nbconvert_exporter": "python",
   "pygments_lexer": "ipython3",
   "version": "3.6.9"
  }
 },
 "nbformat": 4,
 "nbformat_minor": 1
}
