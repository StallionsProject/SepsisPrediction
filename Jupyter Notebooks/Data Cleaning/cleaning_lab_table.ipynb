{
 "cells": [
  {
   "cell_type": "code",
   "execution_count": 1,
   "metadata": {
    "collapsed": true,
    "pycharm": {
     "is_executing": false
    }
   },
   "outputs": [],
   "source": [
    "%load_ext autoreload\n",
    "%autoreload 2"
   ]
  },
  {
   "cell_type": "code",
   "execution_count": 2,
   "outputs": [],
   "source": [
    "import pandas as pd\n",
    "import numpy as np"
   ],
   "metadata": {
    "collapsed": false,
    "pycharm": {
     "name": "#%%\n",
     "is_executing": false
    }
   }
  },
  {
   "cell_type": "code",
   "execution_count": 3,
   "outputs": [],
   "source": [
    "database_type = \"/full\""
   ],
   "metadata": {
    "collapsed": false,
    "pycharm": {
     "name": "#%%\n",
     "is_executing": false
    }
   }
  },
  {
   "cell_type": "markdown",
   "source": [
    "The `lab` table provides Laboratory tests that have have been mapped to a standard set of measurements. \n",
    "Unmapped measurements are recorded in the customLab table.\n",
    "See: http://eicu-crd.mit.edu/eicutables/lab/"
   ],
   "metadata": {
    "collapsed": false
   }
  },
  {
   "cell_type": "markdown",
   "source": [
    "#### Reading in lab dataset and keeping relevant columns to our study."
   ],
   "metadata": {
    "collapsed": false,
    "pycharm": {
     "name": "#%% md\n"
    }
   }
  },
  {
   "cell_type": "code",
   "execution_count": 4,
   "outputs": [
    {
     "data": {
      "text/plain": "          patientunitstayid  labresultoffset     labname  labresult\n0                    141168             2026  fibrinogen     177.00\n1                    141168             1133    PT - INR       2.50\n2                    141168             2026   magnesium       2.00\n3                    141168             1133          PT      26.60\n4                    141168             2141          pH       7.20\n...                     ...              ...         ...        ...\n39132526            3353263               -7  WBC x 1000       6.40\n39132527            3353263             1733         RBC       4.67\n39132528            3353263               -7      -monos      10.00\n39132529            3353263             1733  WBC x 1000       6.60\n39132530            3353263             1733         MCH      28.00\n\n[39132531 rows x 4 columns]",
      "text/html": "<div>\n<style scoped>\n    .dataframe tbody tr th:only-of-type {\n        vertical-align: middle;\n    }\n\n    .dataframe tbody tr th {\n        vertical-align: top;\n    }\n\n    .dataframe thead th {\n        text-align: right;\n    }\n</style>\n<table border=\"1\" class=\"dataframe\">\n  <thead>\n    <tr style=\"text-align: right;\">\n      <th></th>\n      <th>patientunitstayid</th>\n      <th>labresultoffset</th>\n      <th>labname</th>\n      <th>labresult</th>\n    </tr>\n  </thead>\n  <tbody>\n    <tr>\n      <td>0</td>\n      <td>141168</td>\n      <td>2026</td>\n      <td>fibrinogen</td>\n      <td>177.00</td>\n    </tr>\n    <tr>\n      <td>1</td>\n      <td>141168</td>\n      <td>1133</td>\n      <td>PT - INR</td>\n      <td>2.50</td>\n    </tr>\n    <tr>\n      <td>2</td>\n      <td>141168</td>\n      <td>2026</td>\n      <td>magnesium</td>\n      <td>2.00</td>\n    </tr>\n    <tr>\n      <td>3</td>\n      <td>141168</td>\n      <td>1133</td>\n      <td>PT</td>\n      <td>26.60</td>\n    </tr>\n    <tr>\n      <td>4</td>\n      <td>141168</td>\n      <td>2141</td>\n      <td>pH</td>\n      <td>7.20</td>\n    </tr>\n    <tr>\n      <td>...</td>\n      <td>...</td>\n      <td>...</td>\n      <td>...</td>\n      <td>...</td>\n    </tr>\n    <tr>\n      <td>39132526</td>\n      <td>3353263</td>\n      <td>-7</td>\n      <td>WBC x 1000</td>\n      <td>6.40</td>\n    </tr>\n    <tr>\n      <td>39132527</td>\n      <td>3353263</td>\n      <td>1733</td>\n      <td>RBC</td>\n      <td>4.67</td>\n    </tr>\n    <tr>\n      <td>39132528</td>\n      <td>3353263</td>\n      <td>-7</td>\n      <td>-monos</td>\n      <td>10.00</td>\n    </tr>\n    <tr>\n      <td>39132529</td>\n      <td>3353263</td>\n      <td>1733</td>\n      <td>WBC x 1000</td>\n      <td>6.60</td>\n    </tr>\n    <tr>\n      <td>39132530</td>\n      <td>3353263</td>\n      <td>1733</td>\n      <td>MCH</td>\n      <td>28.00</td>\n    </tr>\n  </tbody>\n</table>\n<p>39132531 rows × 4 columns</p>\n</div>"
     },
     "metadata": {},
     "output_type": "execute_result",
     "execution_count": 4
    }
   ],
   "source": [
    "columns = ['patientunitstayid', 'labresultoffset', 'labname', 'labresult']\n",
    "lab = pd.read_csv('../../eICU' + database_type + '/lab.csv', usecols=columns)\n",
    "lab"
   ],
   "metadata": {
    "collapsed": false,
    "pycharm": {
     "name": "#%%\n",
     "is_executing": false
    }
   }
  },
  {
   "cell_type": "markdown",
   "source": [
    "#### Keeping lab results relevant to diagnosing sepsis"
   ],
   "metadata": {
    "collapsed": false
   }
  },
  {
   "cell_type": "code",
   "execution_count": 5,
   "outputs": [],
   "source": [
    "# converting labname 'urinary creatinine to 'creatinine'\n",
    "lab.loc[lab['labname'].str.contains(\"urinary creatinine\"), 'labname'] = \"creatinine\"\n",
    "\n",
    "# Only keeping rows where labname is 'WBC x 1000', 'lactate', 'creatinine'\n",
    "lab_name = ['WBC x 1000', 'lactate', 'creatinine']\n",
    "lab = lab[lab.labname.isin(lab_name)]"
   ],
   "metadata": {
    "collapsed": false,
    "pycharm": {
     "name": "#%%\n",
     "is_executing": false
    }
   }
  },
  {
   "cell_type": "markdown",
   "source": [
    "#### Transposing Lab Names and their results into columns."
   ],
   "metadata": {
    "collapsed": false
   }
  },
  {
   "cell_type": "code",
   "execution_count": 6,
   "outputs": [],
   "source": [
    "# duplicating labs to transpose labresult and labname\n",
    "labc = lab.copy()\n",
    "labw = lab.copy()\n",
    "labl = lab.copy()\n",
    "\n",
    "labc = labc.loc[(labc['labname'].str.contains(\"creatinine\"))]\n",
    "labw = labw.loc[(labw['labname'].str.contains(\"WBC x 1000\"))]\n",
    "labl = labl.loc[(labl['labname'].str.contains(\"lactate\"))]\n",
    "\n",
    "# Transpose labresults and lab name to cols\n",
    "labc['creatinine'] = labc.apply(lambda x: x['labresult'] if x['labname'] == 'creatinine' else -1, axis=1)\n",
    "labw['wbcx1000'] = labw.apply(lambda x: x['labresult'] if x['labname'] == 'WBC x 1000' else -1, axis=1)\n",
    "labl['lactate'] = labl.apply(lambda x: x['labresult'] if x['labname'] == 'lactate' else -1, axis=1)\n",
    "\n",
    "labc = labc.drop(['labname', 'labresult'], axis = 1)\n",
    "labw = labw.drop(['labname', 'labresult'], axis = 1)\n",
    "labl = labl.drop(['labname', 'labresult'], axis = 1)"
   ],
   "metadata": {
    "collapsed": false,
    "pycharm": {
     "name": "#%%\n",
     "is_executing": false
    }
   }
  },
  {
   "cell_type": "markdown",
   "source": [
    "#### Merging Lab Dataframes into Final Lab Dataset"
   ],
   "metadata": {
    "collapsed": false
   }
  },
  {
   "cell_type": "code",
   "execution_count": 7,
   "outputs": [
    {
     "data": {
      "text/plain": "         patientunitstayid  labresultoffset  creatinine  wbcx1000  lactate\n0                   141168             1701      173.12       NaN      NaN\n1                   141168             2026        2.95      19.8     12.2\n2                   141168             1133        2.30      14.7      NaN\n3                   141168              516        1.95       9.8      NaN\n4                   141178             -280        0.70       7.6      NaN\n...                    ...              ...         ...       ...      ...\n1292236            3353254             5558        1.67      11.7      NaN\n1292237            3353254             4144        1.61       NaN      NaN\n1292238            3353254             -256        2.38      13.5      NaN\n1292239            3353263               -7        1.06       6.5      NaN\n1292240            3353263               -7        1.06       6.4      NaN\n\n[1292241 rows x 5 columns]",
      "text/html": "<div>\n<style scoped>\n    .dataframe tbody tr th:only-of-type {\n        vertical-align: middle;\n    }\n\n    .dataframe tbody tr th {\n        vertical-align: top;\n    }\n\n    .dataframe thead th {\n        text-align: right;\n    }\n</style>\n<table border=\"1\" class=\"dataframe\">\n  <thead>\n    <tr style=\"text-align: right;\">\n      <th></th>\n      <th>patientunitstayid</th>\n      <th>labresultoffset</th>\n      <th>creatinine</th>\n      <th>wbcx1000</th>\n      <th>lactate</th>\n    </tr>\n  </thead>\n  <tbody>\n    <tr>\n      <td>0</td>\n      <td>141168</td>\n      <td>1701</td>\n      <td>173.12</td>\n      <td>NaN</td>\n      <td>NaN</td>\n    </tr>\n    <tr>\n      <td>1</td>\n      <td>141168</td>\n      <td>2026</td>\n      <td>2.95</td>\n      <td>19.8</td>\n      <td>12.2</td>\n    </tr>\n    <tr>\n      <td>2</td>\n      <td>141168</td>\n      <td>1133</td>\n      <td>2.30</td>\n      <td>14.7</td>\n      <td>NaN</td>\n    </tr>\n    <tr>\n      <td>3</td>\n      <td>141168</td>\n      <td>516</td>\n      <td>1.95</td>\n      <td>9.8</td>\n      <td>NaN</td>\n    </tr>\n    <tr>\n      <td>4</td>\n      <td>141178</td>\n      <td>-280</td>\n      <td>0.70</td>\n      <td>7.6</td>\n      <td>NaN</td>\n    </tr>\n    <tr>\n      <td>...</td>\n      <td>...</td>\n      <td>...</td>\n      <td>...</td>\n      <td>...</td>\n      <td>...</td>\n    </tr>\n    <tr>\n      <td>1292236</td>\n      <td>3353254</td>\n      <td>5558</td>\n      <td>1.67</td>\n      <td>11.7</td>\n      <td>NaN</td>\n    </tr>\n    <tr>\n      <td>1292237</td>\n      <td>3353254</td>\n      <td>4144</td>\n      <td>1.61</td>\n      <td>NaN</td>\n      <td>NaN</td>\n    </tr>\n    <tr>\n      <td>1292238</td>\n      <td>3353254</td>\n      <td>-256</td>\n      <td>2.38</td>\n      <td>13.5</td>\n      <td>NaN</td>\n    </tr>\n    <tr>\n      <td>1292239</td>\n      <td>3353263</td>\n      <td>-7</td>\n      <td>1.06</td>\n      <td>6.5</td>\n      <td>NaN</td>\n    </tr>\n    <tr>\n      <td>1292240</td>\n      <td>3353263</td>\n      <td>-7</td>\n      <td>1.06</td>\n      <td>6.4</td>\n      <td>NaN</td>\n    </tr>\n  </tbody>\n</table>\n<p>1292241 rows × 5 columns</p>\n</div>"
     },
     "metadata": {},
     "output_type": "execute_result",
     "execution_count": 7
    }
   ],
   "source": [
    "# merge lab results dataframes\n",
    "finallab = labc.merge(labw, how = 'left', on = ['patientunitstayid', 'labresultoffset'])\n",
    "finallab = finallab.merge(labl, how = 'left', on = ['patientunitstayid', 'labresultoffset'])\n",
    "finallab.drop_duplicates()\n",
    "finallab"
   ],
   "metadata": {
    "collapsed": false,
    "pycharm": {
     "name": "#%% \n",
     "is_executing": false
    }
   }
  },
  {
   "cell_type": "markdown",
   "source": [
    "#### Saving the Cleaned Patient DataFrame to a `csv` file"
   ],
   "metadata": {
    "collapsed": false,
    "pycharm": {
     "name": "#%% md\n"
    }
   }
  },
  {
   "cell_type": "code",
   "execution_count": 8,
   "outputs": [],
   "source": [
    "path = \"../../eICU/training/\"\n",
    "finallab.to_csv(path + \"lab.csv\", sep=',', index=False, encoding='utf-8')\n"
   ],
   "metadata": {
    "collapsed": false,
    "pycharm": {
     "name": "#%%\n",
     "is_executing": false
    }
   }
  }
 ],
 "metadata": {
  "kernelspec": {
   "display_name": "Python 3",
   "language": "python",
   "name": "python3"
  },
  "language_info": {
   "codemirror_mode": {
    "name": "ipython",
    "version": 2
   },
   "file_extension": ".py",
   "mimetype": "text/x-python",
   "name": "python",
   "nbconvert_exporter": "python",
   "pygments_lexer": "ipython2",
   "version": "2.7.6"
  },
  "pycharm": {
   "stem_cell": {
    "cell_type": "raw",
    "source": [],
    "metadata": {
     "collapsed": false
    }
   }
  }
 },
 "nbformat": 4,
 "nbformat_minor": 0
}