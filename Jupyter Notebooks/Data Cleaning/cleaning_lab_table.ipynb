{
 "cells": [
  {
   "cell_type": "code",
   "execution_count": 1,
   "metadata": {
    "jupyter": {
     "outputs_hidden": false
    },
    "pycharm": {
     "name": "#%%\n"
    }
   },
   "outputs": [],
   "source": [
    "import pandas as pd"
   ]
  },
  {
   "cell_type": "code",
   "execution_count": 2,
   "metadata": {
    "jupyter": {
     "outputs_hidden": false
    },
    "pycharm": {
     "name": "#%%\n"
    }
   },
   "outputs": [],
   "source": [
    "database_type = \"/full\""
   ]
  },
  {
   "cell_type": "markdown",
   "metadata": {},
   "source": [
    "The `lab` table provides Laboratory tests that have have been mapped to a standard set of measurements. \n",
    "Unmapped measurements are recorded in the customLab table.\n",
    "See: http://eicu-crd.mit.edu/eicutables/lab/"
   ]
  },
  {
   "cell_type": "markdown",
   "metadata": {
    "pycharm": {
     "name": "#%% md\n"
    }
   },
   "source": [
    "#### Reading in lab dataset and keeping relevant columns to our study."
   ]
  },
  {
   "cell_type": "code",
   "execution_count": 3,
   "metadata": {
    "jupyter": {
     "outputs_hidden": false
    },
    "pycharm": {
     "name": "#%%\n"
    }
   },
   "outputs": [
    {
     "data": {
      "text/plain": "          patientunitstayid  labresultoffset     labname  labresult\n0                    141168             2026  fibrinogen     177.00\n1                    141168             1133    PT - INR       2.50\n2                    141168             2026   magnesium       2.00\n3                    141168             1133          PT      26.60\n4                    141168             2141          pH       7.20\n...                     ...              ...         ...        ...\n39132526            3353263               -7  WBC x 1000       6.40\n39132527            3353263             1733         RBC       4.67\n39132528            3353263               -7      -monos      10.00\n39132529            3353263             1733  WBC x 1000       6.60\n39132530            3353263             1733         MCH      28.00\n\n[39132531 rows x 4 columns]",
      "text/html": "<div>\n<style scoped>\n    .dataframe tbody tr th:only-of-type {\n        vertical-align: middle;\n    }\n\n    .dataframe tbody tr th {\n        vertical-align: top;\n    }\n\n    .dataframe thead th {\n        text-align: right;\n    }\n</style>\n<table border=\"1\" class=\"dataframe\">\n  <thead>\n    <tr style=\"text-align: right;\">\n      <th></th>\n      <th>patientunitstayid</th>\n      <th>labresultoffset</th>\n      <th>labname</th>\n      <th>labresult</th>\n    </tr>\n  </thead>\n  <tbody>\n    <tr>\n      <td>0</td>\n      <td>141168</td>\n      <td>2026</td>\n      <td>fibrinogen</td>\n      <td>177.00</td>\n    </tr>\n    <tr>\n      <td>1</td>\n      <td>141168</td>\n      <td>1133</td>\n      <td>PT - INR</td>\n      <td>2.50</td>\n    </tr>\n    <tr>\n      <td>2</td>\n      <td>141168</td>\n      <td>2026</td>\n      <td>magnesium</td>\n      <td>2.00</td>\n    </tr>\n    <tr>\n      <td>3</td>\n      <td>141168</td>\n      <td>1133</td>\n      <td>PT</td>\n      <td>26.60</td>\n    </tr>\n    <tr>\n      <td>4</td>\n      <td>141168</td>\n      <td>2141</td>\n      <td>pH</td>\n      <td>7.20</td>\n    </tr>\n    <tr>\n      <td>...</td>\n      <td>...</td>\n      <td>...</td>\n      <td>...</td>\n      <td>...</td>\n    </tr>\n    <tr>\n      <td>39132526</td>\n      <td>3353263</td>\n      <td>-7</td>\n      <td>WBC x 1000</td>\n      <td>6.40</td>\n    </tr>\n    <tr>\n      <td>39132527</td>\n      <td>3353263</td>\n      <td>1733</td>\n      <td>RBC</td>\n      <td>4.67</td>\n    </tr>\n    <tr>\n      <td>39132528</td>\n      <td>3353263</td>\n      <td>-7</td>\n      <td>-monos</td>\n      <td>10.00</td>\n    </tr>\n    <tr>\n      <td>39132529</td>\n      <td>3353263</td>\n      <td>1733</td>\n      <td>WBC x 1000</td>\n      <td>6.60</td>\n    </tr>\n    <tr>\n      <td>39132530</td>\n      <td>3353263</td>\n      <td>1733</td>\n      <td>MCH</td>\n      <td>28.00</td>\n    </tr>\n  </tbody>\n</table>\n<p>39132531 rows × 4 columns</p>\n</div>"
     },
     "execution_count": 3,
     "metadata": {},
     "output_type": "execute_result"
    }
   ],
   "source": [
    "columns = ['patientunitstayid', 'labresultoffset', 'labname', 'labresult']\n",
    "lab = pd.read_csv('../../eICU' + database_type + '/lab.csv', usecols=columns)\n",
    "lab"
   ]
  },
  {
   "cell_type": "code",
   "execution_count": 4,
   "outputs": [],
   "source": [
    "patientIds = pd.read_csv('../../eICU' + '/training' + '/patientIds.csv')\n",
    "patientIds = patientIds['patientunitstayid'].tolist()"
   ],
   "metadata": {
    "collapsed": false,
    "pycharm": {
     "name": "#%%\n"
    }
   }
  },
  {
   "cell_type": "code",
   "execution_count": 5,
   "outputs": [
    {
     "data": {
      "text/plain": "          patientunitstayid  labresultoffset          labname  labresult\n815                  141227              417        magnesium      2.000\n816                  141227             1467          lactate      1.200\n817                  141227              -13          -lymphs     15.000\n818                  141227              417        potassium      4.000\n819                  141227              -13             HCO3     11.000\n...                     ...              ...              ...        ...\n39132258            3353251             4049  bedside glucose    129.000\n39132259            3353251             1849              BUN     32.000\n39132260            3353251              310               pH      7.194\n39132261            3353251              409        potassium      4.400\n39132262            3353251             1849        anion gap     13.000\n\n[11254374 rows x 4 columns]",
      "text/html": "<div>\n<style scoped>\n    .dataframe tbody tr th:only-of-type {\n        vertical-align: middle;\n    }\n\n    .dataframe tbody tr th {\n        vertical-align: top;\n    }\n\n    .dataframe thead th {\n        text-align: right;\n    }\n</style>\n<table border=\"1\" class=\"dataframe\">\n  <thead>\n    <tr style=\"text-align: right;\">\n      <th></th>\n      <th>patientunitstayid</th>\n      <th>labresultoffset</th>\n      <th>labname</th>\n      <th>labresult</th>\n    </tr>\n  </thead>\n  <tbody>\n    <tr>\n      <td>815</td>\n      <td>141227</td>\n      <td>417</td>\n      <td>magnesium</td>\n      <td>2.000</td>\n    </tr>\n    <tr>\n      <td>816</td>\n      <td>141227</td>\n      <td>1467</td>\n      <td>lactate</td>\n      <td>1.200</td>\n    </tr>\n    <tr>\n      <td>817</td>\n      <td>141227</td>\n      <td>-13</td>\n      <td>-lymphs</td>\n      <td>15.000</td>\n    </tr>\n    <tr>\n      <td>818</td>\n      <td>141227</td>\n      <td>417</td>\n      <td>potassium</td>\n      <td>4.000</td>\n    </tr>\n    <tr>\n      <td>819</td>\n      <td>141227</td>\n      <td>-13</td>\n      <td>HCO3</td>\n      <td>11.000</td>\n    </tr>\n    <tr>\n      <td>...</td>\n      <td>...</td>\n      <td>...</td>\n      <td>...</td>\n      <td>...</td>\n    </tr>\n    <tr>\n      <td>39132258</td>\n      <td>3353251</td>\n      <td>4049</td>\n      <td>bedside glucose</td>\n      <td>129.000</td>\n    </tr>\n    <tr>\n      <td>39132259</td>\n      <td>3353251</td>\n      <td>1849</td>\n      <td>BUN</td>\n      <td>32.000</td>\n    </tr>\n    <tr>\n      <td>39132260</td>\n      <td>3353251</td>\n      <td>310</td>\n      <td>pH</td>\n      <td>7.194</td>\n    </tr>\n    <tr>\n      <td>39132261</td>\n      <td>3353251</td>\n      <td>409</td>\n      <td>potassium</td>\n      <td>4.400</td>\n    </tr>\n    <tr>\n      <td>39132262</td>\n      <td>3353251</td>\n      <td>1849</td>\n      <td>anion gap</td>\n      <td>13.000</td>\n    </tr>\n  </tbody>\n</table>\n<p>11254374 rows × 4 columns</p>\n</div>"
     },
     "execution_count": 5,
     "metadata": {},
     "output_type": "execute_result"
    }
   ],
   "source": [
    "lab = lab.loc[lab['patientunitstayid'].isin(patientIds)]\n",
    "lab"
   ],
   "metadata": {
    "collapsed": false,
    "pycharm": {
     "name": "#%%\n"
    }
   }
  },
  {
   "cell_type": "code",
   "execution_count": 6,
   "outputs": [
    {
     "data": {
      "text/plain": "       patientunitstayid\n0                 141227\n1                 141288\n2                 141289\n3                 141297\n4                 141304\n...                  ...\n43579            3353177\n43580            3353184\n43581            3353197\n43582            3353199\n43583            3353251\n\n[43584 rows x 1 columns]",
      "text/html": "<div>\n<style scoped>\n    .dataframe tbody tr th:only-of-type {\n        vertical-align: middle;\n    }\n\n    .dataframe tbody tr th {\n        vertical-align: top;\n    }\n\n    .dataframe thead th {\n        text-align: right;\n    }\n</style>\n<table border=\"1\" class=\"dataframe\">\n  <thead>\n    <tr style=\"text-align: right;\">\n      <th></th>\n      <th>patientunitstayid</th>\n    </tr>\n  </thead>\n  <tbody>\n    <tr>\n      <td>0</td>\n      <td>141227</td>\n    </tr>\n    <tr>\n      <td>1</td>\n      <td>141288</td>\n    </tr>\n    <tr>\n      <td>2</td>\n      <td>141289</td>\n    </tr>\n    <tr>\n      <td>3</td>\n      <td>141297</td>\n    </tr>\n    <tr>\n      <td>4</td>\n      <td>141304</td>\n    </tr>\n    <tr>\n      <td>...</td>\n      <td>...</td>\n    </tr>\n    <tr>\n      <td>43579</td>\n      <td>3353177</td>\n    </tr>\n    <tr>\n      <td>43580</td>\n      <td>3353184</td>\n    </tr>\n    <tr>\n      <td>43581</td>\n      <td>3353197</td>\n    </tr>\n    <tr>\n      <td>43582</td>\n      <td>3353199</td>\n    </tr>\n    <tr>\n      <td>43583</td>\n      <td>3353251</td>\n    </tr>\n  </tbody>\n</table>\n<p>43584 rows × 1 columns</p>\n</div>"
     },
     "execution_count": 6,
     "metadata": {},
     "output_type": "execute_result"
    }
   ],
   "source": [
    "newPatientIds = pd.DataFrame(lab['patientunitstayid'].unique())\n",
    "newPatientIds.rename(columns={0: 'patientunitstayid'}, inplace=True)\n",
    "newPatientIds"
   ],
   "metadata": {
    "collapsed": false,
    "pycharm": {
     "name": "#%%\n"
    }
   }
  },
  {
   "cell_type": "code",
   "execution_count": 7,
   "outputs": [],
   "source": [
    "path = \"../../eICU/training/\"\n",
    "newPatientIds.to_csv(path + \"patientIds.csv\", sep=',', index=False, encoding='utf-8')"
   ],
   "metadata": {
    "collapsed": false,
    "pycharm": {
     "name": "#%%\n"
    }
   }
  },
  {
   "cell_type": "code",
   "execution_count": 8,
   "outputs": [],
   "source": [
    "del newPatientIds, patientIds"
   ],
   "metadata": {
    "collapsed": false,
    "pycharm": {
     "name": "#%%\n"
    }
   }
  },
  {
   "cell_type": "markdown",
   "metadata": {},
   "source": [
    "#### Keeping lab results relevant to diagnosing sepsis"
   ]
  },
  {
   "cell_type": "code",
   "execution_count": 9,
   "metadata": {
    "jupyter": {
     "outputs_hidden": false
    },
    "pycharm": {
     "name": "#%%\n"
    }
   },
   "outputs": [
    {
     "name": "stderr",
     "output_type": "stream",
     "text": [
      "C:\\tools\\Anaconda3\\lib\\site-packages\\pandas\\core\\indexing.py:494: SettingWithCopyWarning: \n",
      "A value is trying to be set on a copy of a slice from a DataFrame.\n",
      "Try using .loc[row_indexer,col_indexer] = value instead\n",
      "\n",
      "See the caveats in the documentation: http://pandas.pydata.org/pandas-docs/stable/user_guide/indexing.html#returning-a-view-versus-a-copy\n",
      "  self.obj[item] = s\n"
     ]
    }
   ],
   "source": [
    "# converting labname 'urinary creatinine to 'creatinine'\n",
    "lab.loc[lab['labname'].str.contains(\"urinary creatinine\"), 'labname'] = \"creatinine\"\n",
    "\n",
    "# Only keeping rows where labname is 'WBC x 1000', 'lactate', 'creatinine'\n",
    "lab_name = ['WBC x 1000', 'lactate', 'creatinine']\n",
    "lab = lab[lab.labname.isin(lab_name)]"
   ]
  },
  {
   "cell_type": "markdown",
   "metadata": {},
   "source": [
    "#### Transposing Lab Names and their results into columns."
   ]
  },
  {
   "cell_type": "code",
   "execution_count": 10,
   "metadata": {
    "jupyter": {
     "outputs_hidden": false
    },
    "pycharm": {
     "name": "#%%\n"
    }
   },
   "outputs": [],
   "source": [
    "# duplicating labs to transpose labresult and labname\n",
    "labc = lab.copy()\n",
    "labw = lab.copy()\n",
    "labl = lab.copy()\n",
    "\n",
    "labc = labc.loc[(labc['labname'].str.contains(\"creatinine\"))]\n",
    "labw = labw.loc[(labw['labname'].str.contains(\"WBC x 1000\"))]\n",
    "labl = labl.loc[(labl['labname'].str.contains(\"lactate\"))]\n",
    "\n",
    "# Transpose labresults and lab name to cols\n",
    "labc['creatinine'] = labc.apply(lambda x: x['labresult'] if x['labname'] == 'creatinine' else -1, axis=1)\n",
    "labw['wbcx1000'] = labw.apply(lambda x: x['labresult'] if x['labname'] == 'WBC x 1000' else -1, axis=1)\n",
    "labl['lactate'] = labl.apply(lambda x: x['labresult'] if x['labname'] == 'lactate' else -1, axis=1)\n",
    "\n",
    "labc = labc.drop(['labname', 'labresult'], axis = 1)\n",
    "labw = labw.drop(['labname', 'labresult'], axis = 1)\n",
    "labl = labl.drop(['labname', 'labresult'], axis = 1)"
   ]
  },
  {
   "cell_type": "markdown",
   "metadata": {},
   "source": [
    "#### Merging Lab Dataframes into Final Lab Dataset"
   ]
  },
  {
   "cell_type": "code",
   "execution_count": 11,
   "metadata": {
    "jupyter": {
     "outputs_hidden": false
    },
    "pycharm": {
     "name": "#%% \n"
    }
   },
   "outputs": [
    {
     "data": {
      "text/plain": "        patientunitstayid  labresultoffset  creatinine  wbcx1000  lactate\n0                  141227             1362        1.90      42.7      NaN\n1                  141227            -1566        1.40      48.2      NaN\n2                  141227              -13        1.50      65.9      4.3\n3                  141227              937        1.60       NaN      NaN\n4                  141227             -128        1.40      47.7      NaN\n...                   ...              ...         ...       ...      ...\n363333            3353251             -217        1.81       NaN      NaN\n363334            3353251             5459        3.29      11.9      NaN\n363335            3353251             6868        3.35      13.0      NaN\n363336            3353251             1849        2.46      25.9      NaN\n363337            3353251              409        2.43       NaN      NaN\n\n[362344 rows x 5 columns]",
      "text/html": "<div>\n<style scoped>\n    .dataframe tbody tr th:only-of-type {\n        vertical-align: middle;\n    }\n\n    .dataframe tbody tr th {\n        vertical-align: top;\n    }\n\n    .dataframe thead th {\n        text-align: right;\n    }\n</style>\n<table border=\"1\" class=\"dataframe\">\n  <thead>\n    <tr style=\"text-align: right;\">\n      <th></th>\n      <th>patientunitstayid</th>\n      <th>labresultoffset</th>\n      <th>creatinine</th>\n      <th>wbcx1000</th>\n      <th>lactate</th>\n    </tr>\n  </thead>\n  <tbody>\n    <tr>\n      <td>0</td>\n      <td>141227</td>\n      <td>1362</td>\n      <td>1.90</td>\n      <td>42.7</td>\n      <td>NaN</td>\n    </tr>\n    <tr>\n      <td>1</td>\n      <td>141227</td>\n      <td>-1566</td>\n      <td>1.40</td>\n      <td>48.2</td>\n      <td>NaN</td>\n    </tr>\n    <tr>\n      <td>2</td>\n      <td>141227</td>\n      <td>-13</td>\n      <td>1.50</td>\n      <td>65.9</td>\n      <td>4.3</td>\n    </tr>\n    <tr>\n      <td>3</td>\n      <td>141227</td>\n      <td>937</td>\n      <td>1.60</td>\n      <td>NaN</td>\n      <td>NaN</td>\n    </tr>\n    <tr>\n      <td>4</td>\n      <td>141227</td>\n      <td>-128</td>\n      <td>1.40</td>\n      <td>47.7</td>\n      <td>NaN</td>\n    </tr>\n    <tr>\n      <td>...</td>\n      <td>...</td>\n      <td>...</td>\n      <td>...</td>\n      <td>...</td>\n      <td>...</td>\n    </tr>\n    <tr>\n      <td>363333</td>\n      <td>3353251</td>\n      <td>-217</td>\n      <td>1.81</td>\n      <td>NaN</td>\n      <td>NaN</td>\n    </tr>\n    <tr>\n      <td>363334</td>\n      <td>3353251</td>\n      <td>5459</td>\n      <td>3.29</td>\n      <td>11.9</td>\n      <td>NaN</td>\n    </tr>\n    <tr>\n      <td>363335</td>\n      <td>3353251</td>\n      <td>6868</td>\n      <td>3.35</td>\n      <td>13.0</td>\n      <td>NaN</td>\n    </tr>\n    <tr>\n      <td>363336</td>\n      <td>3353251</td>\n      <td>1849</td>\n      <td>2.46</td>\n      <td>25.9</td>\n      <td>NaN</td>\n    </tr>\n    <tr>\n      <td>363337</td>\n      <td>3353251</td>\n      <td>409</td>\n      <td>2.43</td>\n      <td>NaN</td>\n      <td>NaN</td>\n    </tr>\n  </tbody>\n</table>\n<p>362344 rows × 5 columns</p>\n</div>"
     },
     "execution_count": 11,
     "metadata": {},
     "output_type": "execute_result"
    }
   ],
   "source": [
    "# merge lab results dataframes\n",
    "finallab = labc.merge(labw, how = 'left', on = ['patientunitstayid', 'labresultoffset'])\n",
    "finallab = finallab.merge(labl, how = 'left', on = ['patientunitstayid', 'labresultoffset'])\n",
    "finallab = finallab.drop_duplicates()\n",
    "finallab"
   ]
  },
  {
   "cell_type": "markdown",
   "metadata": {
    "pycharm": {
     "name": "#%% md\n"
    }
   },
   "source": [
    "#### Saving the Cleaned Patient DataFrame to a `csv` file"
   ]
  },
  {
   "cell_type": "code",
   "execution_count": 12,
   "metadata": {
    "jupyter": {
     "outputs_hidden": false
    },
    "pycharm": {
     "name": "#%%\n"
    }
   },
   "outputs": [],
   "source": [
    "path = \"../../eICU/training/\"\n",
    "finallab.to_csv(path + \"lab.csv\", sep=',', index=False, encoding='utf-8')\n"
   ]
  }
 ],
 "metadata": {
  "kernelspec": {
   "display_name": "Python 3",
   "language": "python",
   "name": "python3"
  },
  "language_info": {
   "codemirror_mode": {
    "name": "ipython",
    "version": 3
   },
   "file_extension": ".py",
   "mimetype": "text/x-python",
   "name": "python",
   "nbconvert_exporter": "python",
   "pygments_lexer": "ipython3",
   "version": "3.6.9"
  }
 },
 "nbformat": 4,
 "nbformat_minor": 4
}