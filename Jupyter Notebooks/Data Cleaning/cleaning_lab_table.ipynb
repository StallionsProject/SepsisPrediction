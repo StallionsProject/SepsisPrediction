{
 "cells": [
  {
   "cell_type": "code",
   "execution_count": null,
   "metadata": {
    "collapsed": true
   },
   "outputs": [],
   "source": [
    "%load_ext autoreload\n",
    "%autoreload 2"
   ]
  },
  {
   "cell_type": "code",
   "execution_count": null,
   "outputs": [],
   "source": [
    "import pandas as pd\n",
    "import numpy as np"
   ],
   "metadata": {
    "collapsed": false,
    "pycharm": {
     "name": "#%%\n"
    }
   }
  },
  {
   "cell_type": "code",
   "execution_count": null,
   "outputs": [],
   "source": [
    "database_type = \"/full\""
   ],
   "metadata": {
    "collapsed": false,
    "pycharm": {
     "name": "#%%\n"
    }
   }
  },
  {
   "cell_type": "markdown",
   "source": [
    "The `lab` table provides Laboratory tests that have have been mapped to a standard set of measurements. \n",
    "Unmapped measurements are recorded in the customLab table.\n",
    "See: http://eicu-crd.mit.edu/eicutables/lab/"
   ],
   "metadata": {
    "collapsed": false
   }
  },
  {
   "cell_type": "markdown",
   "source": [
    "#### Reading in lab dataset and keeping relevant columns to our study."
   ],
   "metadata": {
    "collapsed": false,
    "pycharm": {
     "name": "#%% md\n"
    }
   }
  },
  {
   "cell_type": "code",
   "execution_count": null,
   "outputs": [],
   "source": [
    "lab = pd.read_csv('../eICU' + database_type + '/lab.csv')\n",
    "columns = ['patientunitstayid', 'labresultoffset', 'labname', 'labresult']\n",
    "lab = lab[columns]\n",
    "lab"
   ],
   "metadata": {
    "collapsed": false,
    "pycharm": {
     "name": "#%%\n"
    }
   }
  },
  {
   "cell_type": "markdown",
   "source": [
    "#### Keeping lab results relevant to diagnosing sepsis"
   ],
   "metadata": {
    "collapsed": false
   }
  },
  {
   "cell_type": "code",
   "execution_count": null,
   "outputs": [],
   "source": [
    "# converting labname 'urinary creatinine to 'creatinine'\n",
    "lab.loc[lab['labname'].str.contains(\"urinary creatinine\"), 'labname'] = \"creatinine\"\n",
    "\n",
    "# Only keeping rows where labname is 'WBC x 1000', 'lactate', 'creatinine'\n",
    "lab_name = ['WBC x 1000', 'lactate', 'creatinine']\n",
    "lab = lab[lab.labname.isin(lab_name)]"
   ],
   "metadata": {
    "collapsed": false,
    "pycharm": {
     "name": "#%%\n"
    }
   }
  },
  {
   "cell_type": "markdown",
   "source": [
    "#### Transposing Lab Names and their results into columns."
   ],
   "metadata": {
    "collapsed": false
   }
  },
  {
   "cell_type": "code",
   "execution_count": null,
   "outputs": [],
   "source": [
    "# duplicating labs to transpose labresult and labname\n",
    "labc = lab.copy()\n",
    "labw = lab.copy()\n",
    "labl = lab.copy()\n",
    "\n",
    "labc = labc.loc[(labc['labname'].str.contains(\"creatinine\"))]\n",
    "labw = labw.loc[(labw['labname'].str.contains(\"WBC x 1000\"))]\n",
    "labl = labl.loc[(labl['labname'].str.contains(\"lactate\"))]\n",
    "\n",
    "# Transpose labresults and lab name to cols\n",
    "labc['creatinine'] = labc.apply(lambda x: x['labresult'] if x['labname'] == 'creatinine' else -1, axis=1)\n",
    "labw['wbcx1000'] = labw.apply(lambda x: x['labresult'] if x['labname'] == 'WBC x 1000' else -1, axis=1)\n",
    "labl['lactate'] = labl.apply(lambda x: x['labresult'] if x['labname'] == 'lactate' else -1, axis=1)\n",
    "\n",
    "labc = labc.drop(['labname', 'labresult'], axis = 1)\n",
    "labw = labw.drop(['labname', 'labresult'], axis = 1)\n",
    "labl = labl.drop(['labname', 'labresult'], axis = 1)"
   ],
   "metadata": {
    "collapsed": false,
    "pycharm": {
     "name": "#%%\n"
    }
   }
  },
  {
   "cell_type": "markdown",
   "source": [
    "#### Merging Lab Dataframes into Final Lab Dataset"
   ],
   "metadata": {
    "collapsed": false
   }
  },
  {
   "cell_type": "code",
   "execution_count": null,
   "outputs": [],
   "source": [
    "# merge lab results dataframes\n",
    "finallab = labc.merge(labw, how = 'left', on = ['patientunitstayid', 'labresultoffset'])\n",
    "finallab = finallab.merge(labl, how = 'left', on = ['patientunitstayid', 'labresultoffset'])\n",
    "finallab.drop_duplicates()\n",
    "finallab"
   ],
   "metadata": {
    "collapsed": false,
    "pycharm": {
     "name": "#%% \n"
    }
   }
  },
  {
   "cell_type": "markdown",
   "source": [
    "#### Saving the Cleaned Patient DataFrame to a `csv` file"
   ],
   "metadata": {
    "collapsed": false,
    "pycharm": {
     "name": "#%% md\n"
    }
   }
  },
  {
   "cell_type": "code",
   "execution_count": null,
   "outputs": [],
   "source": [
    "path = \"../../eICU/training/\"\n",
    "finallab.to_csv(path + \"lab.csv\", sep=',', index=False, encoding='utf-8')\n"
   ],
   "metadata": {
    "collapsed": false,
    "pycharm": {
     "name": "#%%\n"
    }
   }
  }
 ],
 "metadata": {
  "kernelspec": {
   "display_name": "Python 3",
   "language": "python",
   "name": "python3"
  },
  "language_info": {
   "codemirror_mode": {
    "name": "ipython",
    "version": 2
   },
   "file_extension": ".py",
   "mimetype": "text/x-python",
   "name": "python",
   "nbconvert_exporter": "python",
   "pygments_lexer": "ipython2",
   "version": "2.7.6"
  },
  "pycharm": {
   "stem_cell": {
    "cell_type": "raw",
    "source": [],
    "metadata": {
     "collapsed": false
    }
   }
  }
 },
 "nbformat": 4,
 "nbformat_minor": 0
}