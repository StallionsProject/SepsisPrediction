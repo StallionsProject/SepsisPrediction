{
 "cells": [
  {
   "cell_type": "code",
   "execution_count": 1,
   "metadata": {},
   "outputs": [],
   "source": [
    "\n",
    "%load_ext autoreload\n",
    "%autoreload 2"
   ]
  },
  {
   "cell_type": "code",
   "execution_count": 2,
   "metadata": {
    "collapsed": false,
    "jupyter": {
     "outputs_hidden": false
    },
    "pycharm": {
     "name": "#%%\n"
    }
   },
   "outputs": [],
   "source": [
    "import pandas as pd\n",
    "import numpy as np"
   ]
  },
  {
   "cell_type": "code",
   "execution_count": 3,
   "metadata": {
    "collapsed": false,
    "jupyter": {
     "outputs_hidden": false
    },
    "pycharm": {
     "name": "#%%\n"
    }
   },
   "outputs": [],
   "source": [
    "database_type = \"/demo\""
   ]
  },
  {
   "cell_type": "markdown",
   "metadata": {},
   "source": [
    "The `lab` table provides Laboratory tests that have have been mapped to a standard set of measurements. \n",
    "Unmapped measurements are recorded in the customLab table.\n",
    "See: http://eicu-crd.mit.edu/eicutables/lab/"
   ]
  },
  {
   "cell_type": "markdown",
   "metadata": {
    "pycharm": {
     "name": "#%% md\n"
    }
   },
   "source": [
    "#### Reading in lab dataset and keeping relevant columns to our study."
   ]
  },
  {
   "cell_type": "code",
   "execution_count": 4,
   "metadata": {
    "collapsed": false,
    "jupyter": {
     "outputs_hidden": false
    },
    "pycharm": {
     "name": "#%%\n"
    }
   },
   "outputs": [
    {
     "data": {
      "text/plain": "        patientunitstayid  labresultoffset           labname  labresult\n0                 1754323             -647               Hct      38.30\n1                 1754323             -647  platelets x 1000     181.00\n2                 1754323             -647               RBC       4.86\n3                 1754323             -647            -monos       8.70\n4                 1754323             -647              MCHC      30.40\n...                   ...              ...               ...        ...\n434655            2754778             2041   bedside glucose      91.00\n434656            2754778               37      troponin - I       5.92\n434657            2754778               37               MCV      92.00\n434658            2754778              236   bedside glucose     119.00\n434659            2754778               37        creatinine       1.02\n\n[434660 rows x 4 columns]",
      "text/html": "<div>\n<style scoped>\n    .dataframe tbody tr th:only-of-type {\n        vertical-align: middle;\n    }\n\n    .dataframe tbody tr th {\n        vertical-align: top;\n    }\n\n    .dataframe thead th {\n        text-align: right;\n    }\n</style>\n<table border=\"1\" class=\"dataframe\">\n  <thead>\n    <tr style=\"text-align: right;\">\n      <th></th>\n      <th>patientunitstayid</th>\n      <th>labresultoffset</th>\n      <th>labname</th>\n      <th>labresult</th>\n    </tr>\n  </thead>\n  <tbody>\n    <tr>\n      <td>0</td>\n      <td>1754323</td>\n      <td>-647</td>\n      <td>Hct</td>\n      <td>38.30</td>\n    </tr>\n    <tr>\n      <td>1</td>\n      <td>1754323</td>\n      <td>-647</td>\n      <td>platelets x 1000</td>\n      <td>181.00</td>\n    </tr>\n    <tr>\n      <td>2</td>\n      <td>1754323</td>\n      <td>-647</td>\n      <td>RBC</td>\n      <td>4.86</td>\n    </tr>\n    <tr>\n      <td>3</td>\n      <td>1754323</td>\n      <td>-647</td>\n      <td>-monos</td>\n      <td>8.70</td>\n    </tr>\n    <tr>\n      <td>4</td>\n      <td>1754323</td>\n      <td>-647</td>\n      <td>MCHC</td>\n      <td>30.40</td>\n    </tr>\n    <tr>\n      <td>...</td>\n      <td>...</td>\n      <td>...</td>\n      <td>...</td>\n      <td>...</td>\n    </tr>\n    <tr>\n      <td>434655</td>\n      <td>2754778</td>\n      <td>2041</td>\n      <td>bedside glucose</td>\n      <td>91.00</td>\n    </tr>\n    <tr>\n      <td>434656</td>\n      <td>2754778</td>\n      <td>37</td>\n      <td>troponin - I</td>\n      <td>5.92</td>\n    </tr>\n    <tr>\n      <td>434657</td>\n      <td>2754778</td>\n      <td>37</td>\n      <td>MCV</td>\n      <td>92.00</td>\n    </tr>\n    <tr>\n      <td>434658</td>\n      <td>2754778</td>\n      <td>236</td>\n      <td>bedside glucose</td>\n      <td>119.00</td>\n    </tr>\n    <tr>\n      <td>434659</td>\n      <td>2754778</td>\n      <td>37</td>\n      <td>creatinine</td>\n      <td>1.02</td>\n    </tr>\n  </tbody>\n</table>\n<p>434660 rows × 4 columns</p>\n</div>"
     },
     "execution_count": 4,
     "metadata": {},
     "output_type": "execute_result"
    }
   ],
   "source": [
    "columns = ['patientunitstayid', 'labresultoffset', 'labname', 'labresult']\n",
    "lab = pd.read_csv('../../eICU' + database_type + '/lab.csv', usecols=columns)\n",
    "lab"
   ]
  },
  {
   "cell_type": "markdown",
   "metadata": {},
   "source": [
    "#### Keeping lab results relevant to diagnosing sepsis"
   ]
  },
  {
   "cell_type": "code",
   "execution_count": 5,
   "metadata": {
    "collapsed": false,
    "jupyter": {
     "outputs_hidden": false
    },
    "pycharm": {
     "name": "#%%\n"
    }
   },
   "outputs": [],
   "source": [
    "# converting labname 'urinary creatinine to 'creatinine'\n",
    "lab.loc[lab['labname'].str.contains(\"urinary creatinine\"), 'labname'] = \"creatinine\"\n",
    "\n",
    "# Only keeping rows where labname is 'WBC x 1000', 'lactate', 'creatinine'\n",
    "lab_name = ['WBC x 1000', 'lactate', 'creatinine']\n",
    "lab = lab[lab.labname.isin(lab_name)]"
   ]
  },
  {
   "cell_type": "markdown",
   "metadata": {},
   "source": [
    "#### Transposing Lab Names and their results into columns."
   ]
  },
  {
   "cell_type": "code",
   "execution_count": 6,
   "metadata": {
    "collapsed": false,
    "jupyter": {
     "outputs_hidden": false
    },
    "pycharm": {
     "name": "#%%\n"
    }
   },
   "outputs": [],
   "source": [
    "# duplicating labs to transpose labresult and labname\n",
    "labc = lab.copy()\n",
    "labw = lab.copy()\n",
    "labl = lab.copy()\n",
    "\n",
    "labc = labc.loc[(labc['labname'].str.contains(\"creatinine\"))]\n",
    "labw = labw.loc[(labw['labname'].str.contains(\"WBC x 1000\"))]\n",
    "labl = labl.loc[(labl['labname'].str.contains(\"lactate\"))]\n",
    "\n",
    "# Transpose labresults and lab name to cols\n",
    "labc['creatinine'] = labc.apply(lambda x: x['labresult'] if x['labname'] == 'creatinine' else -1, axis=1)\n",
    "labw['wbcx1000'] = labw.apply(lambda x: x['labresult'] if x['labname'] == 'WBC x 1000' else -1, axis=1)\n",
    "labl['lactate'] = labl.apply(lambda x: x['labresult'] if x['labname'] == 'lactate' else -1, axis=1)\n",
    "\n",
    "labc = labc.drop(['labname', 'labresult'], axis = 1)\n",
    "labw = labw.drop(['labname', 'labresult'], axis = 1)\n",
    "labl = labl.drop(['labname', 'labresult'], axis = 1)"
   ]
  },
  {
   "cell_type": "markdown",
   "metadata": {},
   "source": [
    "#### Merging Lab Dataframes into Final Lab Dataset"
   ]
  },
  {
   "cell_type": "code",
   "execution_count": 7,
   "metadata": {
    "collapsed": false,
    "jupyter": {
     "outputs_hidden": false
    },
    "pycharm": {
     "name": "#%% \n"
    }
   },
   "outputs": [
    {
     "data": {
      "text/plain": "       patientunitstayid  labresultoffset  creatinine  wbcx1000  lactate\n0                1754323             -647        0.90       5.4      NaN\n1                1754323              603        0.94      12.8      NaN\n2                1754323             3579        0.74       NaN      NaN\n3                1754323             2113        0.87       9.5      NaN\n4                1754323             5073        0.87       8.4      NaN\n...                  ...              ...         ...       ...      ...\n14764            2715137             1951        0.60       NaN      NaN\n14765            2715137              -29        0.60       NaN      NaN\n14766            2715137             1001        0.60       NaN      NaN\n14767            2754778             1282        1.05       6.7      NaN\n14768            2754778               37        1.02       7.9      NaN\n\n[14737 rows x 5 columns]",
      "text/html": "<div>\n<style scoped>\n    .dataframe tbody tr th:only-of-type {\n        vertical-align: middle;\n    }\n\n    .dataframe tbody tr th {\n        vertical-align: top;\n    }\n\n    .dataframe thead th {\n        text-align: right;\n    }\n</style>\n<table border=\"1\" class=\"dataframe\">\n  <thead>\n    <tr style=\"text-align: right;\">\n      <th></th>\n      <th>patientunitstayid</th>\n      <th>labresultoffset</th>\n      <th>creatinine</th>\n      <th>wbcx1000</th>\n      <th>lactate</th>\n    </tr>\n  </thead>\n  <tbody>\n    <tr>\n      <td>0</td>\n      <td>1754323</td>\n      <td>-647</td>\n      <td>0.90</td>\n      <td>5.4</td>\n      <td>NaN</td>\n    </tr>\n    <tr>\n      <td>1</td>\n      <td>1754323</td>\n      <td>603</td>\n      <td>0.94</td>\n      <td>12.8</td>\n      <td>NaN</td>\n    </tr>\n    <tr>\n      <td>2</td>\n      <td>1754323</td>\n      <td>3579</td>\n      <td>0.74</td>\n      <td>NaN</td>\n      <td>NaN</td>\n    </tr>\n    <tr>\n      <td>3</td>\n      <td>1754323</td>\n      <td>2113</td>\n      <td>0.87</td>\n      <td>9.5</td>\n      <td>NaN</td>\n    </tr>\n    <tr>\n      <td>4</td>\n      <td>1754323</td>\n      <td>5073</td>\n      <td>0.87</td>\n      <td>8.4</td>\n      <td>NaN</td>\n    </tr>\n    <tr>\n      <td>...</td>\n      <td>...</td>\n      <td>...</td>\n      <td>...</td>\n      <td>...</td>\n      <td>...</td>\n    </tr>\n    <tr>\n      <td>14764</td>\n      <td>2715137</td>\n      <td>1951</td>\n      <td>0.60</td>\n      <td>NaN</td>\n      <td>NaN</td>\n    </tr>\n    <tr>\n      <td>14765</td>\n      <td>2715137</td>\n      <td>-29</td>\n      <td>0.60</td>\n      <td>NaN</td>\n      <td>NaN</td>\n    </tr>\n    <tr>\n      <td>14766</td>\n      <td>2715137</td>\n      <td>1001</td>\n      <td>0.60</td>\n      <td>NaN</td>\n      <td>NaN</td>\n    </tr>\n    <tr>\n      <td>14767</td>\n      <td>2754778</td>\n      <td>1282</td>\n      <td>1.05</td>\n      <td>6.7</td>\n      <td>NaN</td>\n    </tr>\n    <tr>\n      <td>14768</td>\n      <td>2754778</td>\n      <td>37</td>\n      <td>1.02</td>\n      <td>7.9</td>\n      <td>NaN</td>\n    </tr>\n  </tbody>\n</table>\n<p>14737 rows × 5 columns</p>\n</div>"
     },
     "execution_count": 7,
     "metadata": {},
     "output_type": "execute_result"
    }
   ],
   "source": [
    "# merge lab results dataframes\n",
    "finallab = labc.merge(labw, how = 'left', on = ['patientunitstayid', 'labresultoffset'])\n",
    "finallab = finallab.merge(labl, how = 'left', on = ['patientunitstayid', 'labresultoffset'])\n",
    "finallab = finallab.drop_duplicates()\n",
    "finallab"
   ]
  },
  {
   "cell_type": "markdown",
   "metadata": {
    "pycharm": {
     "name": "#%% md\n"
    }
   },
   "source": [
    "#### Saving the Cleaned Patient DataFrame to a `csv` file"
   ]
  },
  {
   "cell_type": "code",
   "execution_count": 8,
   "metadata": {
    "collapsed": false,
    "jupyter": {
     "outputs_hidden": false
    },
    "pycharm": {
     "name": "#%%\n"
    }
   },
   "outputs": [],
   "source": [
    "path = \"../../eICU/training/\"\n",
    "finallab.to_csv(path + \"lab.csv\", sep=',', index=False, encoding='utf-8')"
   ]
  },
  {
   "cell_type": "code",
   "execution_count": 8,
   "metadata": {},
   "outputs": [],
   "source": []
  }
 ],
 "metadata": {
  "kernelspec": {
   "display_name": "Python 3",
   "language": "python",
   "name": "python3"
  },
  "language_info": {
   "codemirror_mode": {
    "name": "ipython",
    "version": 3
   },
   "file_extension": ".py",
   "mimetype": "text/x-python",
   "name": "python",
   "nbconvert_exporter": "python",
   "pygments_lexer": "ipython3",
   "version": "3.7.4"
  },
  "pycharm": {
   "stem_cell": {
    "cell_type": "raw",
    "source": [],
    "metadata": {
     "collapsed": false
    }
   }
  }
 },
 "nbformat": 4,
 "nbformat_minor": 4
}