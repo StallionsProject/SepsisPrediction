{
 "cells": [
  {
   "cell_type": "code",
   "execution_count": 1,
   "outputs": [],
   "source": [
    "%load_ext autoreload\n",
    "%autoreload 2"
   ],
   "metadata": {
    "collapsed": false,
    "pycharm": {
     "name": "#%%\n"
    }
   }
  },
  {
   "cell_type": "code",
   "execution_count": 2,
   "outputs": [],
   "source": [
    "import pandas as pd"
   ],
   "metadata": {
    "collapsed": false,
    "pycharm": {
     "name": "#%%\n"
    }
   }
  },
  {
   "cell_type": "code",
   "execution_count": 3,
   "outputs": [],
   "source": [
    "database_type = \"/full\""
   ],
   "metadata": {
    "collapsed": false,
    "pycharm": {
     "name": "#%%\n"
    }
   }
  },
  {
   "cell_type": "code",
   "execution_count": 4,
   "outputs": [
    {
     "data": {
      "text/plain": "        patientunitstayid  diagnosis\n0                  141168          0\n1                  141168          0\n2                  141203          0\n3                  141203          0\n4                  141227          1\n...                   ...        ...\n580430            3353251          1\n580431            3353251          1\n580432            3353251          1\n580433            3353254          0\n580434            3353263          0\n\n[580435 rows x 2 columns]",
      "text/html": "<div>\n<style scoped>\n    .dataframe tbody tr th:only-of-type {\n        vertical-align: middle;\n    }\n\n    .dataframe tbody tr th {\n        vertical-align: top;\n    }\n\n    .dataframe thead th {\n        text-align: right;\n    }\n</style>\n<table border=\"1\" class=\"dataframe\">\n  <thead>\n    <tr style=\"text-align: right;\">\n      <th></th>\n      <th>patientunitstayid</th>\n      <th>diagnosis</th>\n    </tr>\n  </thead>\n  <tbody>\n    <tr>\n      <td>0</td>\n      <td>141168</td>\n      <td>0</td>\n    </tr>\n    <tr>\n      <td>1</td>\n      <td>141168</td>\n      <td>0</td>\n    </tr>\n    <tr>\n      <td>2</td>\n      <td>141203</td>\n      <td>0</td>\n    </tr>\n    <tr>\n      <td>3</td>\n      <td>141203</td>\n      <td>0</td>\n    </tr>\n    <tr>\n      <td>4</td>\n      <td>141227</td>\n      <td>1</td>\n    </tr>\n    <tr>\n      <td>...</td>\n      <td>...</td>\n      <td>...</td>\n    </tr>\n    <tr>\n      <td>580430</td>\n      <td>3353251</td>\n      <td>1</td>\n    </tr>\n    <tr>\n      <td>580431</td>\n      <td>3353251</td>\n      <td>1</td>\n    </tr>\n    <tr>\n      <td>580432</td>\n      <td>3353251</td>\n      <td>1</td>\n    </tr>\n    <tr>\n      <td>580433</td>\n      <td>3353254</td>\n      <td>0</td>\n    </tr>\n    <tr>\n      <td>580434</td>\n      <td>3353263</td>\n      <td>0</td>\n    </tr>\n  </tbody>\n</table>\n<p>580435 rows × 2 columns</p>\n</div>"
     },
     "execution_count": 4,
     "metadata": {},
     "output_type": "execute_result"
    }
   ],
   "source": [
    "columns = ['patientunitstayid', 'diagnosis']\n",
    "diagnosis = pd.read_csv('../../eICU' + '/training' + '/diagnosis.csv', usecols=columns)\n",
    "diagnosis"
   ],
   "metadata": {
    "collapsed": false,
    "pycharm": {
     "name": "#%%\n"
    }
   }
  },
  {
   "cell_type": "code",
   "execution_count": 5,
   "outputs": [],
   "source": [
    "df_sepsis = diagnosis[diagnosis.diagnosis==1]\n",
    "df_sepsis = pd.DataFrame(df_sepsis.patientunitstayid.unique())"
   ],
   "metadata": {
    "collapsed": false,
    "pycharm": {
     "name": "#%%\n"
    }
   }
  },
  {
   "cell_type": "code",
   "execution_count": 6,
   "outputs": [],
   "source": [
    "df_not_sepsis = diagnosis[diagnosis.diagnosis==0]\n",
    "df_not_sepsis = pd.DataFrame(df_not_sepsis.patientunitstayid.unique())\n",
    "df_not_sepsis = df_not_sepsis.sample(n=len(df_sepsis))"
   ],
   "metadata": {
    "collapsed": false,
    "pycharm": {
     "name": "#%%\n"
    }
   }
  },
  {
   "cell_type": "code",
   "execution_count": 7,
   "outputs": [
    {
     "data": {
      "text/plain": "        patientunitstayid\n0                  141227\n1                  141288\n2                  141289\n3                  141297\n4                  141304\n...                   ...\n86333             1710577\n58232             1156582\n65687             1342048\n167216            3243689\n153028            3096179\n\n[46958 rows x 1 columns]",
      "text/html": "<div>\n<style scoped>\n    .dataframe tbody tr th:only-of-type {\n        vertical-align: middle;\n    }\n\n    .dataframe tbody tr th {\n        vertical-align: top;\n    }\n\n    .dataframe thead th {\n        text-align: right;\n    }\n</style>\n<table border=\"1\" class=\"dataframe\">\n  <thead>\n    <tr style=\"text-align: right;\">\n      <th></th>\n      <th>patientunitstayid</th>\n    </tr>\n  </thead>\n  <tbody>\n    <tr>\n      <td>0</td>\n      <td>141227</td>\n    </tr>\n    <tr>\n      <td>1</td>\n      <td>141288</td>\n    </tr>\n    <tr>\n      <td>2</td>\n      <td>141289</td>\n    </tr>\n    <tr>\n      <td>3</td>\n      <td>141297</td>\n    </tr>\n    <tr>\n      <td>4</td>\n      <td>141304</td>\n    </tr>\n    <tr>\n      <td>...</td>\n      <td>...</td>\n    </tr>\n    <tr>\n      <td>86333</td>\n      <td>1710577</td>\n    </tr>\n    <tr>\n      <td>58232</td>\n      <td>1156582</td>\n    </tr>\n    <tr>\n      <td>65687</td>\n      <td>1342048</td>\n    </tr>\n    <tr>\n      <td>167216</td>\n      <td>3243689</td>\n    </tr>\n    <tr>\n      <td>153028</td>\n      <td>3096179</td>\n    </tr>\n  </tbody>\n</table>\n<p>46958 rows × 1 columns</p>\n</div>"
     },
     "execution_count": 7,
     "metadata": {},
     "output_type": "execute_result"
    }
   ],
   "source": [
    "df_sepsis = df_sepsis.append(df_not_sepsis)\n",
    "df_sepsis.rename(columns={0: 'patientunitstayid'}, inplace=True)\n",
    "df_sepsis"
   ],
   "metadata": {
    "collapsed": false,
    "pycharm": {
     "name": "#%%\n"
    }
   }
  },
  {
   "cell_type": "code",
   "execution_count": 8,
   "outputs": [],
   "source": [
    "path = \"../../eICU/training/\"\n",
    "df_sepsis.to_csv(path + \"patientIds.csv\", sep=',', index=False, encoding='utf-8')\n"
   ],
   "metadata": {
    "collapsed": false,
    "pycharm": {
     "name": "#%%\n"
    }
   }
  }
 ],
 "metadata": {
  "kernelspec": {
   "display_name": "Python 3",
   "language": "python",
   "name": "python3"
  },
  "language_info": {
   "codemirror_mode": {
    "name": "ipython",
    "version": 2
   },
   "file_extension": ".py",
   "mimetype": "text/x-python",
   "name": "python",
   "nbconvert_exporter": "python",
   "pygments_lexer": "ipython2",
   "version": "2.7.6"
  }
 },
 "nbformat": 4,
 "nbformat_minor": 0
}