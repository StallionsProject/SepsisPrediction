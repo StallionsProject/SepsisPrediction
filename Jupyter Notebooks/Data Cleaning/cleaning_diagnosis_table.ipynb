{
 "cells": [
  {
   "cell_type": "code",
   "execution_count": 33,
   "metadata": {
    "pycharm": {
     "is_executing": false
    }
   },
   "outputs": [
    {
     "name": "stdout",
     "output_type": "stream",
     "text": [
      "The autoreload extension is already loaded. To reload it, use:\n",
      "  %reload_ext autoreload\n"
     ]
    }
   ],
   "source": [
    "%load_ext autoreload\n",
    "%autoreload 2"
   ]
  },
  {
   "cell_type": "code",
   "execution_count": 34,
   "metadata": {
    "pycharm": {
     "is_executing": false
    }
   },
   "outputs": [],
   "source": [
    "import pandas as pd\n",
    "import numpy as np"
   ]
  },
  {
   "cell_type": "code",
   "execution_count": 35,
   "metadata": {
    "pycharm": {
     "is_executing": false
    }
   },
   "outputs": [],
   "source": [
    "database_type = \"/demo\""
   ]
  },
  {
   "cell_type": "markdown",
   "metadata": {},
   "source": [
    "The `diagnosis` table provides Patient diagnosis recorded in the active diagnosis table. \n",
    "Sequence does indicate relative severity. diagnosisPriority is not required."
   ]
  },
  {
   "cell_type": "markdown",
   "metadata": {},
   "source": [
    "#### Reading in diagnosis dataset and keeping relevant columns to our study."
   ]
  },
  {
   "cell_type": "code",
   "execution_count": 36,
   "metadata": {
    "pycharm": {
     "is_executing": false
    }
   },
   "outputs": [
    {
     "data": {
      "text/html": [
       "<div>\n",
       "<style scoped>\n",
       "    .dataframe tbody tr th:only-of-type {\n",
       "        vertical-align: middle;\n",
       "    }\n",
       "\n",
       "    .dataframe tbody tr th {\n",
       "        vertical-align: top;\n",
       "    }\n",
       "\n",
       "    .dataframe thead th {\n",
       "        text-align: right;\n",
       "    }\n",
       "</style>\n",
       "<table border=\"1\" class=\"dataframe\">\n",
       "  <thead>\n",
       "    <tr style=\"text-align: right;\">\n",
       "      <th></th>\n",
       "      <th>patientunitstayid</th>\n",
       "      <th>diagnosisoffset</th>\n",
       "      <th>diagnosisstring</th>\n",
       "    </tr>\n",
       "  </thead>\n",
       "  <tbody>\n",
       "    <tr>\n",
       "      <td>0</td>\n",
       "      <td>346380</td>\n",
       "      <td>5028</td>\n",
       "      <td>cardiovascular|ventricular disorders|hypertension</td>\n",
       "    </tr>\n",
       "    <tr>\n",
       "      <td>1</td>\n",
       "      <td>346380</td>\n",
       "      <td>685</td>\n",
       "      <td>neurologic|altered mental status / pain|change...</td>\n",
       "    </tr>\n",
       "    <tr>\n",
       "      <td>2</td>\n",
       "      <td>346380</td>\n",
       "      <td>5035</td>\n",
       "      <td>cardiovascular|shock / hypotension|hypotension</td>\n",
       "    </tr>\n",
       "    <tr>\n",
       "      <td>3</td>\n",
       "      <td>346380</td>\n",
       "      <td>5035</td>\n",
       "      <td>neurologic|altered mental status / pain|schizo...</td>\n",
       "    </tr>\n",
       "    <tr>\n",
       "      <td>4</td>\n",
       "      <td>346380</td>\n",
       "      <td>5028</td>\n",
       "      <td>pulmonary|disorders of vasculature|pulmonary e...</td>\n",
       "    </tr>\n",
       "    <tr>\n",
       "      <td>...</td>\n",
       "      <td>...</td>\n",
       "      <td>...</td>\n",
       "      <td>...</td>\n",
       "    </tr>\n",
       "    <tr>\n",
       "      <td>24973</td>\n",
       "      <td>3158501</td>\n",
       "      <td>11</td>\n",
       "      <td>neurologic|altered mental status / pain|enceph...</td>\n",
       "    </tr>\n",
       "    <tr>\n",
       "      <td>24974</td>\n",
       "      <td>3158501</td>\n",
       "      <td>11</td>\n",
       "      <td>hematology|white blood cell disorders|leukocyt...</td>\n",
       "    </tr>\n",
       "    <tr>\n",
       "      <td>24975</td>\n",
       "      <td>3158501</td>\n",
       "      <td>11</td>\n",
       "      <td>pulmonary|disorders of acid base|respiratory a...</td>\n",
       "    </tr>\n",
       "    <tr>\n",
       "      <td>24976</td>\n",
       "      <td>3158501</td>\n",
       "      <td>11</td>\n",
       "      <td>neurologic|altered mental status / pain|delirium</td>\n",
       "    </tr>\n",
       "    <tr>\n",
       "      <td>24977</td>\n",
       "      <td>3173599</td>\n",
       "      <td>36</td>\n",
       "      <td>cardiovascular|chest pain / ASHD|acute coronar...</td>\n",
       "    </tr>\n",
       "  </tbody>\n",
       "</table>\n",
       "<p>24978 rows × 3 columns</p>\n",
       "</div>"
      ],
      "text/plain": [
       "       patientunitstayid  diagnosisoffset  \\\n",
       "0                 346380             5028   \n",
       "1                 346380              685   \n",
       "2                 346380             5035   \n",
       "3                 346380             5035   \n",
       "4                 346380             5028   \n",
       "...                  ...              ...   \n",
       "24973            3158501               11   \n",
       "24974            3158501               11   \n",
       "24975            3158501               11   \n",
       "24976            3158501               11   \n",
       "24977            3173599               36   \n",
       "\n",
       "                                         diagnosisstring  \n",
       "0      cardiovascular|ventricular disorders|hypertension  \n",
       "1      neurologic|altered mental status / pain|change...  \n",
       "2         cardiovascular|shock / hypotension|hypotension  \n",
       "3      neurologic|altered mental status / pain|schizo...  \n",
       "4      pulmonary|disorders of vasculature|pulmonary e...  \n",
       "...                                                  ...  \n",
       "24973  neurologic|altered mental status / pain|enceph...  \n",
       "24974  hematology|white blood cell disorders|leukocyt...  \n",
       "24975  pulmonary|disorders of acid base|respiratory a...  \n",
       "24976   neurologic|altered mental status / pain|delirium  \n",
       "24977  cardiovascular|chest pain / ASHD|acute coronar...  \n",
       "\n",
       "[24978 rows x 3 columns]"
      ]
     },
     "execution_count": 36,
     "metadata": {},
     "output_type": "execute_result"
    }
   ],
   "source": [
    "columns = ['patientunitstayid', 'diagnosisoffset', 'diagnosisstring']\n",
    "diagnosis = pd.read_csv('../../eICU' + database_type + '/diagnosis.csv', usecols=columns)\n",
    "diagnosis"
   ]
  },
  {
   "cell_type": "code",
   "execution_count": 37,
   "metadata": {
    "pycharm": {
     "is_executing": false
    }
   },
   "outputs": [
    {
     "data": {
      "text/html": [
       "<div>\n",
       "<style scoped>\n",
       "    .dataframe tbody tr th:only-of-type {\n",
       "        vertical-align: middle;\n",
       "    }\n",
       "\n",
       "    .dataframe tbody tr th {\n",
       "        vertical-align: top;\n",
       "    }\n",
       "\n",
       "    .dataframe thead th {\n",
       "        text-align: right;\n",
       "    }\n",
       "</style>\n",
       "<table border=\"1\" class=\"dataframe\">\n",
       "  <thead>\n",
       "    <tr style=\"text-align: right;\">\n",
       "      <th></th>\n",
       "      <th>patientunitstayid</th>\n",
       "      <th>diagnosisoffset</th>\n",
       "      <th>diagnosisstring</th>\n",
       "      <th>diagnosis</th>\n",
       "    </tr>\n",
       "  </thead>\n",
       "  <tbody>\n",
       "    <tr>\n",
       "      <td>0</td>\n",
       "      <td>346380</td>\n",
       "      <td>5028</td>\n",
       "      <td>cardiovascular|ventricular disorders|hypertension</td>\n",
       "      <td>0</td>\n",
       "    </tr>\n",
       "    <tr>\n",
       "      <td>1</td>\n",
       "      <td>346380</td>\n",
       "      <td>685</td>\n",
       "      <td>neurologic|altered mental status / pain|change...</td>\n",
       "      <td>0</td>\n",
       "    </tr>\n",
       "    <tr>\n",
       "      <td>2</td>\n",
       "      <td>346380</td>\n",
       "      <td>5035</td>\n",
       "      <td>cardiovascular|shock / hypotension|hypotension</td>\n",
       "      <td>0</td>\n",
       "    </tr>\n",
       "    <tr>\n",
       "      <td>3</td>\n",
       "      <td>346380</td>\n",
       "      <td>5035</td>\n",
       "      <td>neurologic|altered mental status / pain|schizo...</td>\n",
       "      <td>0</td>\n",
       "    </tr>\n",
       "    <tr>\n",
       "      <td>4</td>\n",
       "      <td>346380</td>\n",
       "      <td>5028</td>\n",
       "      <td>pulmonary|disorders of vasculature|pulmonary e...</td>\n",
       "      <td>0</td>\n",
       "    </tr>\n",
       "    <tr>\n",
       "      <td>...</td>\n",
       "      <td>...</td>\n",
       "      <td>...</td>\n",
       "      <td>...</td>\n",
       "      <td>...</td>\n",
       "    </tr>\n",
       "    <tr>\n",
       "      <td>24973</td>\n",
       "      <td>3158501</td>\n",
       "      <td>11</td>\n",
       "      <td>neurologic|altered mental status / pain|enceph...</td>\n",
       "      <td>0</td>\n",
       "    </tr>\n",
       "    <tr>\n",
       "      <td>24974</td>\n",
       "      <td>3158501</td>\n",
       "      <td>11</td>\n",
       "      <td>hematology|white blood cell disorders|leukocyt...</td>\n",
       "      <td>0</td>\n",
       "    </tr>\n",
       "    <tr>\n",
       "      <td>24975</td>\n",
       "      <td>3158501</td>\n",
       "      <td>11</td>\n",
       "      <td>pulmonary|disorders of acid base|respiratory a...</td>\n",
       "      <td>0</td>\n",
       "    </tr>\n",
       "    <tr>\n",
       "      <td>24976</td>\n",
       "      <td>3158501</td>\n",
       "      <td>11</td>\n",
       "      <td>neurologic|altered mental status / pain|delirium</td>\n",
       "      <td>0</td>\n",
       "    </tr>\n",
       "    <tr>\n",
       "      <td>24977</td>\n",
       "      <td>3173599</td>\n",
       "      <td>36</td>\n",
       "      <td>cardiovascular|chest pain / ASHD|acute coronar...</td>\n",
       "      <td>0</td>\n",
       "    </tr>\n",
       "  </tbody>\n",
       "</table>\n",
       "<p>24978 rows × 4 columns</p>\n",
       "</div>"
      ],
      "text/plain": [
       "       patientunitstayid  diagnosisoffset  \\\n",
       "0                 346380             5028   \n",
       "1                 346380              685   \n",
       "2                 346380             5035   \n",
       "3                 346380             5035   \n",
       "4                 346380             5028   \n",
       "...                  ...              ...   \n",
       "24973            3158501               11   \n",
       "24974            3158501               11   \n",
       "24975            3158501               11   \n",
       "24976            3158501               11   \n",
       "24977            3173599               36   \n",
       "\n",
       "                                         diagnosisstring  diagnosis  \n",
       "0      cardiovascular|ventricular disorders|hypertension          0  \n",
       "1      neurologic|altered mental status / pain|change...          0  \n",
       "2         cardiovascular|shock / hypotension|hypotension          0  \n",
       "3      neurologic|altered mental status / pain|schizo...          0  \n",
       "4      pulmonary|disorders of vasculature|pulmonary e...          0  \n",
       "...                                                  ...        ...  \n",
       "24973  neurologic|altered mental status / pain|enceph...          0  \n",
       "24974  hematology|white blood cell disorders|leukocyt...          0  \n",
       "24975  pulmonary|disorders of acid base|respiratory a...          0  \n",
       "24976   neurologic|altered mental status / pain|delirium          0  \n",
       "24977  cardiovascular|chest pain / ASHD|acute coronar...          0  \n",
       "\n",
       "[24978 rows x 4 columns]"
      ]
     },
     "execution_count": 37,
     "metadata": {},
     "output_type": "execute_result"
    }
   ],
   "source": [
    "diagnosis['diagnosis'] = diagnosis.apply(lambda x: 1 if 'sepsis' in x['diagnosisstring'] else 0, axis=1)\n",
    "diagnosis"
   ]
  },
  {
   "cell_type": "code",
   "execution_count": 38,
   "metadata": {
    "pycharm": {
     "is_executing": false
    }
   },
   "outputs": [
    {
     "data": {
      "text/html": [
       "<div>\n",
       "<style scoped>\n",
       "    .dataframe tbody tr th:only-of-type {\n",
       "        vertical-align: middle;\n",
       "    }\n",
       "\n",
       "    .dataframe tbody tr th {\n",
       "        vertical-align: top;\n",
       "    }\n",
       "\n",
       "    .dataframe thead th {\n",
       "        text-align: right;\n",
       "    }\n",
       "</style>\n",
       "<table border=\"1\" class=\"dataframe\">\n",
       "  <thead>\n",
       "    <tr style=\"text-align: right;\">\n",
       "      <th></th>\n",
       "      <th>patientunitstayid</th>\n",
       "      <th>diagnosisoffset</th>\n",
       "      <th>diagnosis</th>\n",
       "    </tr>\n",
       "  </thead>\n",
       "  <tbody>\n",
       "    <tr>\n",
       "      <td>0</td>\n",
       "      <td>346380</td>\n",
       "      <td>5028</td>\n",
       "      <td>0</td>\n",
       "    </tr>\n",
       "    <tr>\n",
       "      <td>1</td>\n",
       "      <td>346380</td>\n",
       "      <td>685</td>\n",
       "      <td>0</td>\n",
       "    </tr>\n",
       "    <tr>\n",
       "      <td>2</td>\n",
       "      <td>346380</td>\n",
       "      <td>5035</td>\n",
       "      <td>0</td>\n",
       "    </tr>\n",
       "    <tr>\n",
       "      <td>17</td>\n",
       "      <td>346380</td>\n",
       "      <td>2255</td>\n",
       "      <td>0</td>\n",
       "    </tr>\n",
       "    <tr>\n",
       "      <td>24</td>\n",
       "      <td>346380</td>\n",
       "      <td>481</td>\n",
       "      <td>0</td>\n",
       "    </tr>\n",
       "    <tr>\n",
       "      <td>...</td>\n",
       "      <td>...</td>\n",
       "      <td>...</td>\n",
       "      <td>...</td>\n",
       "    </tr>\n",
       "    <tr>\n",
       "      <td>24970</td>\n",
       "      <td>3139532</td>\n",
       "      <td>9847</td>\n",
       "      <td>0</td>\n",
       "    </tr>\n",
       "    <tr>\n",
       "      <td>24971</td>\n",
       "      <td>3139532</td>\n",
       "      <td>11275</td>\n",
       "      <td>0</td>\n",
       "    </tr>\n",
       "    <tr>\n",
       "      <td>24972</td>\n",
       "      <td>3139532</td>\n",
       "      <td>5656</td>\n",
       "      <td>0</td>\n",
       "    </tr>\n",
       "    <tr>\n",
       "      <td>24973</td>\n",
       "      <td>3158501</td>\n",
       "      <td>11</td>\n",
       "      <td>0</td>\n",
       "    </tr>\n",
       "    <tr>\n",
       "      <td>24977</td>\n",
       "      <td>3173599</td>\n",
       "      <td>36</td>\n",
       "      <td>0</td>\n",
       "    </tr>\n",
       "  </tbody>\n",
       "</table>\n",
       "<p>6357 rows × 3 columns</p>\n",
       "</div>"
      ],
      "text/plain": [
       "       patientunitstayid  diagnosisoffset  diagnosis\n",
       "0                 346380             5028          0\n",
       "1                 346380              685          0\n",
       "2                 346380             5035          0\n",
       "17                346380             2255          0\n",
       "24                346380              481          0\n",
       "...                  ...              ...        ...\n",
       "24970            3139532             9847          0\n",
       "24971            3139532            11275          0\n",
       "24972            3139532             5656          0\n",
       "24973            3158501               11          0\n",
       "24977            3173599               36          0\n",
       "\n",
       "[6357 rows x 3 columns]"
      ]
     },
     "execution_count": 38,
     "metadata": {},
     "output_type": "execute_result"
    }
   ],
   "source": [
    "diagnosis = diagnosis.drop('diagnosisstring', axis = 1)\n",
    "diagnosis = diagnosis.drop_duplicates()\n",
    "diagnosis"
   ]
  },
  {
   "cell_type": "code",
   "execution_count": 39,
   "metadata": {
    "collapsed": false,
    "jupyter": {
     "outputs_hidden": false
    },
    "pycharm": {
     "is_executing": false,
     "name": "#%%\n"
    }
   },
   "outputs": [],
   "source": [
    "path = \"../../eICU/training/\"\n",
    "diagnosis.to_csv(path + \"diagnosis.csv\", sep=',', index=False, encoding='utf-8')\n"
   ]
  },
  {
   "cell_type": "code",
   "execution_count": null,
   "metadata": {},
   "outputs": [],
   "source": []
  }
 ],
 "metadata": {
  "kernelspec": {
   "display_name": "Python 3",
   "language": "python",
   "name": "python3"
  },
  "language_info": {
   "codemirror_mode": {
    "name": "ipython",
    "version": 3
   },
   "file_extension": ".py",
   "mimetype": "text/x-python",
   "name": "python",
   "nbconvert_exporter": "python",
   "pygments_lexer": "ipython3",
   "version": "3.7.4"
  },
  "pycharm": {
   "stem_cell": {
    "cell_type": "raw",
    "metadata": {
     "collapsed": false
    },
    "source": []
   }
  }
 },
 "nbformat": 4,
 "nbformat_minor": 4
}
