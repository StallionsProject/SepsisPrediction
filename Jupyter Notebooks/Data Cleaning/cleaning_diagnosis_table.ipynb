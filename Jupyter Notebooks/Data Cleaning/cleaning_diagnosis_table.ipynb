{
 "cells": [
  {
   "cell_type": "code",
   "execution_count": 1,
   "metadata": {
    "pycharm": {
     "is_executing": false
    }
   },
   "outputs": [],
   "source": [
    "%load_ext autoreload\n",
    "%autoreload 2"
   ]
  },
  {
   "cell_type": "code",
   "execution_count": 2,
   "metadata": {
    "pycharm": {
     "is_executing": false
    }
   },
   "outputs": [],
   "source": [
    "import pandas as pd\n",
    "import numpy as np"
   ]
  },
  {
   "cell_type": "code",
   "execution_count": 3,
   "metadata": {
    "pycharm": {
     "is_executing": false
    }
   },
   "outputs": [],
   "source": [
    "database_type = \"/demo\""
   ]
  },
  {
   "cell_type": "markdown",
   "metadata": {},
   "source": [
    "The `diagnosis` table provides Patient diagnosis recorded in the active diagnosis table. \n",
    "Sequence does indicate relative severity. diagnosisPriority is not required."
   ]
  },
  {
   "cell_type": "markdown",
   "metadata": {},
   "source": [
    "#### Reading in diagnosis dataset and keeping relevant columns to our study."
   ]
  },
  {
   "cell_type": "code",
   "execution_count": 4,
   "metadata": {
    "pycharm": {
     "is_executing": false
    }
   },
   "outputs": [
    {
     "data": {
      "text/plain": "       patientunitstayid  diagnosisoffset  \\\n0                 346380             5028   \n1                 346380              685   \n2                 346380             5035   \n3                 346380             5035   \n4                 346380             5028   \n...                  ...              ...   \n24973            3158501               11   \n24974            3158501               11   \n24975            3158501               11   \n24976            3158501               11   \n24977            3173599               36   \n\n                                         diagnosisstring  \n0      cardiovascular|ventricular disorders|hypertension  \n1      neurologic|altered mental status / pain|change...  \n2         cardiovascular|shock / hypotension|hypotension  \n3      neurologic|altered mental status / pain|schizo...  \n4      pulmonary|disorders of vasculature|pulmonary e...  \n...                                                  ...  \n24973  neurologic|altered mental status / pain|enceph...  \n24974  hematology|white blood cell disorders|leukocyt...  \n24975  pulmonary|disorders of acid base|respiratory a...  \n24976   neurologic|altered mental status / pain|delirium  \n24977  cardiovascular|chest pain / ASHD|acute coronar...  \n\n[24978 rows x 3 columns]",
      "text/html": "<div>\n<style scoped>\n    .dataframe tbody tr th:only-of-type {\n        vertical-align: middle;\n    }\n\n    .dataframe tbody tr th {\n        vertical-align: top;\n    }\n\n    .dataframe thead th {\n        text-align: right;\n    }\n</style>\n<table border=\"1\" class=\"dataframe\">\n  <thead>\n    <tr style=\"text-align: right;\">\n      <th></th>\n      <th>patientunitstayid</th>\n      <th>diagnosisoffset</th>\n      <th>diagnosisstring</th>\n    </tr>\n  </thead>\n  <tbody>\n    <tr>\n      <td>0</td>\n      <td>346380</td>\n      <td>5028</td>\n      <td>cardiovascular|ventricular disorders|hypertension</td>\n    </tr>\n    <tr>\n      <td>1</td>\n      <td>346380</td>\n      <td>685</td>\n      <td>neurologic|altered mental status / pain|change...</td>\n    </tr>\n    <tr>\n      <td>2</td>\n      <td>346380</td>\n      <td>5035</td>\n      <td>cardiovascular|shock / hypotension|hypotension</td>\n    </tr>\n    <tr>\n      <td>3</td>\n      <td>346380</td>\n      <td>5035</td>\n      <td>neurologic|altered mental status / pain|schizo...</td>\n    </tr>\n    <tr>\n      <td>4</td>\n      <td>346380</td>\n      <td>5028</td>\n      <td>pulmonary|disorders of vasculature|pulmonary e...</td>\n    </tr>\n    <tr>\n      <td>...</td>\n      <td>...</td>\n      <td>...</td>\n      <td>...</td>\n    </tr>\n    <tr>\n      <td>24973</td>\n      <td>3158501</td>\n      <td>11</td>\n      <td>neurologic|altered mental status / pain|enceph...</td>\n    </tr>\n    <tr>\n      <td>24974</td>\n      <td>3158501</td>\n      <td>11</td>\n      <td>hematology|white blood cell disorders|leukocyt...</td>\n    </tr>\n    <tr>\n      <td>24975</td>\n      <td>3158501</td>\n      <td>11</td>\n      <td>pulmonary|disorders of acid base|respiratory a...</td>\n    </tr>\n    <tr>\n      <td>24976</td>\n      <td>3158501</td>\n      <td>11</td>\n      <td>neurologic|altered mental status / pain|delirium</td>\n    </tr>\n    <tr>\n      <td>24977</td>\n      <td>3173599</td>\n      <td>36</td>\n      <td>cardiovascular|chest pain / ASHD|acute coronar...</td>\n    </tr>\n  </tbody>\n</table>\n<p>24978 rows × 3 columns</p>\n</div>"
     },
     "metadata": {},
     "output_type": "execute_result",
     "execution_count": 4
    }
   ],
   "source": [
    "columns = ['patientunitstayid', 'diagnosisoffset', 'diagnosisstring']\n",
    "diagnosis = pd.read_csv('../../eICU' + database_type + '/diagnosis.csv', usecols=columns)\n",
    "diagnosis"
   ]
  },
  {
   "cell_type": "code",
   "execution_count": 5,
   "metadata": {
    "pycharm": {
     "is_executing": false
    }
   },
   "outputs": [
    {
     "data": {
      "text/plain": "       patientunitstayid  diagnosisoffset  \\\n0                 346380             5028   \n1                 346380              685   \n2                 346380             5035   \n3                 346380             5035   \n4                 346380             5028   \n...                  ...              ...   \n24973            3158501               11   \n24974            3158501               11   \n24975            3158501               11   \n24976            3158501               11   \n24977            3173599               36   \n\n                                         diagnosisstring  diagnosis  \n0      cardiovascular|ventricular disorders|hypertension          0  \n1      neurologic|altered mental status / pain|change...          0  \n2         cardiovascular|shock / hypotension|hypotension          0  \n3      neurologic|altered mental status / pain|schizo...          0  \n4      pulmonary|disorders of vasculature|pulmonary e...          0  \n...                                                  ...        ...  \n24973  neurologic|altered mental status / pain|enceph...          0  \n24974  hematology|white blood cell disorders|leukocyt...          0  \n24975  pulmonary|disorders of acid base|respiratory a...          0  \n24976   neurologic|altered mental status / pain|delirium          0  \n24977  cardiovascular|chest pain / ASHD|acute coronar...          0  \n\n[24978 rows x 4 columns]",
      "text/html": "<div>\n<style scoped>\n    .dataframe tbody tr th:only-of-type {\n        vertical-align: middle;\n    }\n\n    .dataframe tbody tr th {\n        vertical-align: top;\n    }\n\n    .dataframe thead th {\n        text-align: right;\n    }\n</style>\n<table border=\"1\" class=\"dataframe\">\n  <thead>\n    <tr style=\"text-align: right;\">\n      <th></th>\n      <th>patientunitstayid</th>\n      <th>diagnosisoffset</th>\n      <th>diagnosisstring</th>\n      <th>diagnosis</th>\n    </tr>\n  </thead>\n  <tbody>\n    <tr>\n      <td>0</td>\n      <td>346380</td>\n      <td>5028</td>\n      <td>cardiovascular|ventricular disorders|hypertension</td>\n      <td>0</td>\n    </tr>\n    <tr>\n      <td>1</td>\n      <td>346380</td>\n      <td>685</td>\n      <td>neurologic|altered mental status / pain|change...</td>\n      <td>0</td>\n    </tr>\n    <tr>\n      <td>2</td>\n      <td>346380</td>\n      <td>5035</td>\n      <td>cardiovascular|shock / hypotension|hypotension</td>\n      <td>0</td>\n    </tr>\n    <tr>\n      <td>3</td>\n      <td>346380</td>\n      <td>5035</td>\n      <td>neurologic|altered mental status / pain|schizo...</td>\n      <td>0</td>\n    </tr>\n    <tr>\n      <td>4</td>\n      <td>346380</td>\n      <td>5028</td>\n      <td>pulmonary|disorders of vasculature|pulmonary e...</td>\n      <td>0</td>\n    </tr>\n    <tr>\n      <td>...</td>\n      <td>...</td>\n      <td>...</td>\n      <td>...</td>\n      <td>...</td>\n    </tr>\n    <tr>\n      <td>24973</td>\n      <td>3158501</td>\n      <td>11</td>\n      <td>neurologic|altered mental status / pain|enceph...</td>\n      <td>0</td>\n    </tr>\n    <tr>\n      <td>24974</td>\n      <td>3158501</td>\n      <td>11</td>\n      <td>hematology|white blood cell disorders|leukocyt...</td>\n      <td>0</td>\n    </tr>\n    <tr>\n      <td>24975</td>\n      <td>3158501</td>\n      <td>11</td>\n      <td>pulmonary|disorders of acid base|respiratory a...</td>\n      <td>0</td>\n    </tr>\n    <tr>\n      <td>24976</td>\n      <td>3158501</td>\n      <td>11</td>\n      <td>neurologic|altered mental status / pain|delirium</td>\n      <td>0</td>\n    </tr>\n    <tr>\n      <td>24977</td>\n      <td>3173599</td>\n      <td>36</td>\n      <td>cardiovascular|chest pain / ASHD|acute coronar...</td>\n      <td>0</td>\n    </tr>\n  </tbody>\n</table>\n<p>24978 rows × 4 columns</p>\n</div>"
     },
     "metadata": {},
     "output_type": "execute_result",
     "execution_count": 5
    }
   ],
   "source": [
    "diagnosis['diagnosis'] = diagnosis.apply(lambda x: 1 if 'sepsis' in x['diagnosisstring'] else 0, axis=1)\n",
    "diagnosis"
   ]
  },
  {
   "cell_type": "code",
   "execution_count": 6,
   "metadata": {
    "pycharm": {
     "is_executing": false
    }
   },
   "outputs": [
    {
     "data": {
      "text/plain": "       patientunitstayid  diagnosisoffset  diagnosis\n0                 346380             5028          0\n1                 346380              685          0\n2                 346380             5035          0\n3                 346380             5035          0\n4                 346380             5028          0\n...                  ...              ...        ...\n24973            3158501               11          0\n24974            3158501               11          0\n24975            3158501               11          0\n24976            3158501               11          0\n24977            3173599               36          0\n\n[24978 rows x 3 columns]",
      "text/html": "<div>\n<style scoped>\n    .dataframe tbody tr th:only-of-type {\n        vertical-align: middle;\n    }\n\n    .dataframe tbody tr th {\n        vertical-align: top;\n    }\n\n    .dataframe thead th {\n        text-align: right;\n    }\n</style>\n<table border=\"1\" class=\"dataframe\">\n  <thead>\n    <tr style=\"text-align: right;\">\n      <th></th>\n      <th>patientunitstayid</th>\n      <th>diagnosisoffset</th>\n      <th>diagnosis</th>\n    </tr>\n  </thead>\n  <tbody>\n    <tr>\n      <td>0</td>\n      <td>346380</td>\n      <td>5028</td>\n      <td>0</td>\n    </tr>\n    <tr>\n      <td>1</td>\n      <td>346380</td>\n      <td>685</td>\n      <td>0</td>\n    </tr>\n    <tr>\n      <td>2</td>\n      <td>346380</td>\n      <td>5035</td>\n      <td>0</td>\n    </tr>\n    <tr>\n      <td>3</td>\n      <td>346380</td>\n      <td>5035</td>\n      <td>0</td>\n    </tr>\n    <tr>\n      <td>4</td>\n      <td>346380</td>\n      <td>5028</td>\n      <td>0</td>\n    </tr>\n    <tr>\n      <td>...</td>\n      <td>...</td>\n      <td>...</td>\n      <td>...</td>\n    </tr>\n    <tr>\n      <td>24973</td>\n      <td>3158501</td>\n      <td>11</td>\n      <td>0</td>\n    </tr>\n    <tr>\n      <td>24974</td>\n      <td>3158501</td>\n      <td>11</td>\n      <td>0</td>\n    </tr>\n    <tr>\n      <td>24975</td>\n      <td>3158501</td>\n      <td>11</td>\n      <td>0</td>\n    </tr>\n    <tr>\n      <td>24976</td>\n      <td>3158501</td>\n      <td>11</td>\n      <td>0</td>\n    </tr>\n    <tr>\n      <td>24977</td>\n      <td>3173599</td>\n      <td>36</td>\n      <td>0</td>\n    </tr>\n  </tbody>\n</table>\n<p>24978 rows × 3 columns</p>\n</div>"
     },
     "metadata": {},
     "output_type": "execute_result",
     "execution_count": 6
    }
   ],
   "source": [
    "diagnosis = diagnosis.drop('diagnosisstring', axis = 1)\n",
    "diagnosis.drop_duplicates()\n",
    "diagnosis"
   ]
  },
  {
   "cell_type": "code",
   "execution_count": 7,
   "outputs": [],
   "source": [
    "path = \"../../eICU/training/\"\n",
    "diagnosis.to_csv(path + \"diagnosis.csv\", sep=',', index=False, encoding='utf-8')\n"
   ],
   "metadata": {
    "collapsed": false,
    "pycharm": {
     "name": "#%%\n",
     "is_executing": false
    }
   }
  }
 ],
 "metadata": {
  "kernelspec": {
   "display_name": "Python 3",
   "language": "python",
   "name": "python3"
  },
  "language_info": {
   "codemirror_mode": {
    "name": "ipython",
    "version": 3
   },
   "file_extension": ".py",
   "mimetype": "text/x-python",
   "name": "python",
   "nbconvert_exporter": "python",
   "pygments_lexer": "ipython3",
   "version": "3.7.4"
  },
  "pycharm": {
   "stem_cell": {
    "cell_type": "raw",
    "source": [],
    "metadata": {
     "collapsed": false
    }
   }
  }
 },
 "nbformat": 4,
 "nbformat_minor": 4
}