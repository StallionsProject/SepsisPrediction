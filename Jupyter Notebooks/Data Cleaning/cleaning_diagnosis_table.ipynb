{
 "cells": [
  {
   "cell_type": "code",
   "execution_count": 1,
   "metadata": {
    "pycharm": {
     "is_executing": false
    }
   },
   "outputs": [],
   "source": [
    "%load_ext autoreload\n",
    "%autoreload 2"
   ]
  },
  {
   "cell_type": "code",
   "execution_count": 2,
   "metadata": {
    "pycharm": {
     "is_executing": false
    }
   },
   "outputs": [],
   "source": [
    "import pandas as pd\n",
    "import numpy as np"
   ]
  },
  {
   "cell_type": "code",
   "execution_count": 3,
   "metadata": {
    "pycharm": {
     "is_executing": false
    }
   },
   "outputs": [],
   "source": [
    "database_type = \"/full\""
   ]
  },
  {
   "cell_type": "markdown",
   "metadata": {},
   "source": [
    "The `diagnosis` table provides Patient diagnosis recorded in the active diagnosis table. \n",
    "Sequence does indicate relative severity. diagnosisPriority is not required."
   ]
  },
  {
   "cell_type": "markdown",
   "metadata": {},
   "source": [
    "#### Reading in diagnosis dataset and keeping relevant columns to our study."
   ]
  },
  {
   "cell_type": "code",
   "execution_count": 4,
   "metadata": {
    "pycharm": {
     "is_executing": false
    }
   },
   "outputs": [
    {
     "data": {
      "text/plain": "         patientunitstayid  diagnosisoffset  \\\n0                   141168               72   \n1                   141168              118   \n2                   141168               72   \n3                   141168              118   \n4                   141168              118   \n...                    ...              ...   \n2710667            3353251            11304   \n2710668            3353251             4080   \n2710669            3353254               41   \n2710670            3353254               41   \n2710671            3353263              100   \n\n                                           diagnosisstring  \n0        cardiovascular|chest pain / ASHD|coronary arte...  \n1        cardiovascular|ventricular disorders|cardiomyo...  \n2                  pulmonary|disorders of the airways|COPD  \n3                  pulmonary|disorders of the airways|COPD  \n4        cardiovascular|ventricular disorders|congestiv...  \n...                                                    ...  \n2710667  renal|disorder of urinary tract / renal system...  \n2710668          cardiovascular|shock / hypotension|sepsis  \n2710669  renal|disorder of kidney|acute renal failure|d...  \n2710670  gastrointestinal|GI bleeding / PUD|lower GI bl...  \n2710671  pulmonary|disorders of vasculature|pulmonary e...  \n\n[2710672 rows x 3 columns]",
      "text/html": "<div>\n<style scoped>\n    .dataframe tbody tr th:only-of-type {\n        vertical-align: middle;\n    }\n\n    .dataframe tbody tr th {\n        vertical-align: top;\n    }\n\n    .dataframe thead th {\n        text-align: right;\n    }\n</style>\n<table border=\"1\" class=\"dataframe\">\n  <thead>\n    <tr style=\"text-align: right;\">\n      <th></th>\n      <th>patientunitstayid</th>\n      <th>diagnosisoffset</th>\n      <th>diagnosisstring</th>\n    </tr>\n  </thead>\n  <tbody>\n    <tr>\n      <td>0</td>\n      <td>141168</td>\n      <td>72</td>\n      <td>cardiovascular|chest pain / ASHD|coronary arte...</td>\n    </tr>\n    <tr>\n      <td>1</td>\n      <td>141168</td>\n      <td>118</td>\n      <td>cardiovascular|ventricular disorders|cardiomyo...</td>\n    </tr>\n    <tr>\n      <td>2</td>\n      <td>141168</td>\n      <td>72</td>\n      <td>pulmonary|disorders of the airways|COPD</td>\n    </tr>\n    <tr>\n      <td>3</td>\n      <td>141168</td>\n      <td>118</td>\n      <td>pulmonary|disorders of the airways|COPD</td>\n    </tr>\n    <tr>\n      <td>4</td>\n      <td>141168</td>\n      <td>118</td>\n      <td>cardiovascular|ventricular disorders|congestiv...</td>\n    </tr>\n    <tr>\n      <td>...</td>\n      <td>...</td>\n      <td>...</td>\n      <td>...</td>\n    </tr>\n    <tr>\n      <td>2710667</td>\n      <td>3353251</td>\n      <td>11304</td>\n      <td>renal|disorder of urinary tract / renal system...</td>\n    </tr>\n    <tr>\n      <td>2710668</td>\n      <td>3353251</td>\n      <td>4080</td>\n      <td>cardiovascular|shock / hypotension|sepsis</td>\n    </tr>\n    <tr>\n      <td>2710669</td>\n      <td>3353254</td>\n      <td>41</td>\n      <td>renal|disorder of kidney|acute renal failure|d...</td>\n    </tr>\n    <tr>\n      <td>2710670</td>\n      <td>3353254</td>\n      <td>41</td>\n      <td>gastrointestinal|GI bleeding / PUD|lower GI bl...</td>\n    </tr>\n    <tr>\n      <td>2710671</td>\n      <td>3353263</td>\n      <td>100</td>\n      <td>pulmonary|disorders of vasculature|pulmonary e...</td>\n    </tr>\n  </tbody>\n</table>\n<p>2710672 rows × 3 columns</p>\n</div>"
     },
     "metadata": {},
     "output_type": "execute_result",
     "execution_count": 4
    }
   ],
   "source": [
    "columns = ['patientunitstayid', 'diagnosisoffset', 'diagnosisstring']\n",
    "diagnosis = pd.read_csv('../../eICU' + database_type + '/diagnosis.csv', usecols=columns)\n",
    "diagnosis"
   ]
  },
  {
   "cell_type": "code",
   "execution_count": 5,
   "metadata": {
    "pycharm": {
     "is_executing": false
    }
   },
   "outputs": [
    {
     "data": {
      "text/plain": "         patientunitstayid  diagnosisoffset  \\\n0                   141168               72   \n1                   141168              118   \n2                   141168               72   \n3                   141168              118   \n4                   141168              118   \n...                    ...              ...   \n2710667            3353251            11304   \n2710668            3353251             4080   \n2710669            3353254               41   \n2710670            3353254               41   \n2710671            3353263              100   \n\n                                           diagnosisstring  diagnosis  \n0        cardiovascular|chest pain / ASHD|coronary arte...          0  \n1        cardiovascular|ventricular disorders|cardiomyo...          0  \n2                  pulmonary|disorders of the airways|COPD          0  \n3                  pulmonary|disorders of the airways|COPD          0  \n4        cardiovascular|ventricular disorders|congestiv...          0  \n...                                                    ...        ...  \n2710667  renal|disorder of urinary tract / renal system...          0  \n2710668          cardiovascular|shock / hypotension|sepsis          1  \n2710669  renal|disorder of kidney|acute renal failure|d...          0  \n2710670  gastrointestinal|GI bleeding / PUD|lower GI bl...          0  \n2710671  pulmonary|disorders of vasculature|pulmonary e...          0  \n\n[2710672 rows x 4 columns]",
      "text/html": "<div>\n<style scoped>\n    .dataframe tbody tr th:only-of-type {\n        vertical-align: middle;\n    }\n\n    .dataframe tbody tr th {\n        vertical-align: top;\n    }\n\n    .dataframe thead th {\n        text-align: right;\n    }\n</style>\n<table border=\"1\" class=\"dataframe\">\n  <thead>\n    <tr style=\"text-align: right;\">\n      <th></th>\n      <th>patientunitstayid</th>\n      <th>diagnosisoffset</th>\n      <th>diagnosisstring</th>\n      <th>diagnosis</th>\n    </tr>\n  </thead>\n  <tbody>\n    <tr>\n      <td>0</td>\n      <td>141168</td>\n      <td>72</td>\n      <td>cardiovascular|chest pain / ASHD|coronary arte...</td>\n      <td>0</td>\n    </tr>\n    <tr>\n      <td>1</td>\n      <td>141168</td>\n      <td>118</td>\n      <td>cardiovascular|ventricular disorders|cardiomyo...</td>\n      <td>0</td>\n    </tr>\n    <tr>\n      <td>2</td>\n      <td>141168</td>\n      <td>72</td>\n      <td>pulmonary|disorders of the airways|COPD</td>\n      <td>0</td>\n    </tr>\n    <tr>\n      <td>3</td>\n      <td>141168</td>\n      <td>118</td>\n      <td>pulmonary|disorders of the airways|COPD</td>\n      <td>0</td>\n    </tr>\n    <tr>\n      <td>4</td>\n      <td>141168</td>\n      <td>118</td>\n      <td>cardiovascular|ventricular disorders|congestiv...</td>\n      <td>0</td>\n    </tr>\n    <tr>\n      <td>...</td>\n      <td>...</td>\n      <td>...</td>\n      <td>...</td>\n      <td>...</td>\n    </tr>\n    <tr>\n      <td>2710667</td>\n      <td>3353251</td>\n      <td>11304</td>\n      <td>renal|disorder of urinary tract / renal system...</td>\n      <td>0</td>\n    </tr>\n    <tr>\n      <td>2710668</td>\n      <td>3353251</td>\n      <td>4080</td>\n      <td>cardiovascular|shock / hypotension|sepsis</td>\n      <td>1</td>\n    </tr>\n    <tr>\n      <td>2710669</td>\n      <td>3353254</td>\n      <td>41</td>\n      <td>renal|disorder of kidney|acute renal failure|d...</td>\n      <td>0</td>\n    </tr>\n    <tr>\n      <td>2710670</td>\n      <td>3353254</td>\n      <td>41</td>\n      <td>gastrointestinal|GI bleeding / PUD|lower GI bl...</td>\n      <td>0</td>\n    </tr>\n    <tr>\n      <td>2710671</td>\n      <td>3353263</td>\n      <td>100</td>\n      <td>pulmonary|disorders of vasculature|pulmonary e...</td>\n      <td>0</td>\n    </tr>\n  </tbody>\n</table>\n<p>2710672 rows × 4 columns</p>\n</div>"
     },
     "metadata": {},
     "output_type": "execute_result",
     "execution_count": 5
    }
   ],
   "source": [
    "diagnosis['diagnosis'] = diagnosis.apply(lambda x: 1 if 'sepsis' in x['diagnosisstring'] else 0, axis=1)\n",
    "diagnosis"
   ]
  },
  {
   "cell_type": "code",
   "execution_count": 6,
   "metadata": {
    "pycharm": {
     "is_executing": false
    }
   },
   "outputs": [
    {
     "data": {
      "text/plain": "         patientunitstayid  diagnosisoffset  diagnosis\n0                   141168               72          0\n1                   141168              118          0\n2                   141168               72          0\n3                   141168              118          0\n4                   141168              118          0\n...                    ...              ...        ...\n2710667            3353251            11304          0\n2710668            3353251             4080          1\n2710669            3353254               41          0\n2710670            3353254               41          0\n2710671            3353263              100          0\n\n[2710672 rows x 3 columns]",
      "text/html": "<div>\n<style scoped>\n    .dataframe tbody tr th:only-of-type {\n        vertical-align: middle;\n    }\n\n    .dataframe tbody tr th {\n        vertical-align: top;\n    }\n\n    .dataframe thead th {\n        text-align: right;\n    }\n</style>\n<table border=\"1\" class=\"dataframe\">\n  <thead>\n    <tr style=\"text-align: right;\">\n      <th></th>\n      <th>patientunitstayid</th>\n      <th>diagnosisoffset</th>\n      <th>diagnosis</th>\n    </tr>\n  </thead>\n  <tbody>\n    <tr>\n      <td>0</td>\n      <td>141168</td>\n      <td>72</td>\n      <td>0</td>\n    </tr>\n    <tr>\n      <td>1</td>\n      <td>141168</td>\n      <td>118</td>\n      <td>0</td>\n    </tr>\n    <tr>\n      <td>2</td>\n      <td>141168</td>\n      <td>72</td>\n      <td>0</td>\n    </tr>\n    <tr>\n      <td>3</td>\n      <td>141168</td>\n      <td>118</td>\n      <td>0</td>\n    </tr>\n    <tr>\n      <td>4</td>\n      <td>141168</td>\n      <td>118</td>\n      <td>0</td>\n    </tr>\n    <tr>\n      <td>...</td>\n      <td>...</td>\n      <td>...</td>\n      <td>...</td>\n    </tr>\n    <tr>\n      <td>2710667</td>\n      <td>3353251</td>\n      <td>11304</td>\n      <td>0</td>\n    </tr>\n    <tr>\n      <td>2710668</td>\n      <td>3353251</td>\n      <td>4080</td>\n      <td>1</td>\n    </tr>\n    <tr>\n      <td>2710669</td>\n      <td>3353254</td>\n      <td>41</td>\n      <td>0</td>\n    </tr>\n    <tr>\n      <td>2710670</td>\n      <td>3353254</td>\n      <td>41</td>\n      <td>0</td>\n    </tr>\n    <tr>\n      <td>2710671</td>\n      <td>3353263</td>\n      <td>100</td>\n      <td>0</td>\n    </tr>\n  </tbody>\n</table>\n<p>2710672 rows × 3 columns</p>\n</div>"
     },
     "metadata": {},
     "output_type": "execute_result",
     "execution_count": 6
    }
   ],
   "source": [
    "diagnosis = diagnosis.drop('diagnosisstring', axis = 1)\n",
    "diagnosis"
   ]
  },
  {
   "cell_type": "code",
   "execution_count": 7,
   "outputs": [],
   "source": [
    "path = \"../../eICU/training/\"\n",
    "diagnosis.to_csv(path + \"diagnosis.csv\", sep=',', index=False, encoding='utf-8')\n"
   ],
   "metadata": {
    "collapsed": false,
    "pycharm": {
     "name": "#%%\n",
     "is_executing": false
    }
   }
  }
 ],
 "metadata": {
  "kernelspec": {
   "display_name": "Python 3",
   "language": "python",
   "name": "python3"
  },
  "language_info": {
   "codemirror_mode": {
    "name": "ipython",
    "version": 3
   },
   "file_extension": ".py",
   "mimetype": "text/x-python",
   "name": "python",
   "nbconvert_exporter": "python",
   "pygments_lexer": "ipython3",
   "version": "3.7.4"
  },
  "pycharm": {
   "stem_cell": {
    "cell_type": "raw",
    "source": [],
    "metadata": {
     "collapsed": false
    }
   }
  }
 },
 "nbformat": 4,
 "nbformat_minor": 4
}