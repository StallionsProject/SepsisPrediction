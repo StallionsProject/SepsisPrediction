{
 "cells": [
  {
   "cell_type": "code",
   "execution_count": 1,
   "metadata": {
    "jupyter": {
     "outputs_hidden": false
    },
    "pycharm": {
     "name": "#%%\n"
    }
   },
   "outputs": [],
   "source": [
    "import pandas as pd"
   ]
  },
  {
   "cell_type": "markdown",
   "metadata": {},
   "source": [
    "The `intakeOutput` table provides Intake and output recorded for patients entered from the nursing flowsheet.\n",
    "See: http://eicu-crd.mit.edu/eicutables/intakeOutput/\n",
    "\n",
    "Urine output is measured in mL/kg.\n",
    "Urine output in mL/ Patient weight in kg."
   ]
  },
  {
   "cell_type": "markdown",
   "metadata": {
    "pycharm": {
     "name": "#%% md\n"
    }
   },
   "source": [
    "#### Reading in lab dataset and keeping relevant columns to our study ."
   ]
  },
  {
   "cell_type": "code",
   "execution_count": 2,
   "metadata": {
    "pycharm": {
     "name": "#%%\n"
    }
   },
   "outputs": [],
   "source": [
    "databasePath = \"../../eICU/full/\"\n",
    "exportPath = \"../../eICU/training/\""
   ]
  },
  {
   "cell_type": "code",
   "execution_count": 3,
   "metadata": {
    "jupyter": {
     "outputs_hidden": false
    },
    "pycharm": {
     "name": "#%%\n"
    }
   },
   "outputs": [
    {
     "data": {
      "text/html": [
       "<div>\n",
       "<style scoped>\n",
       "    .dataframe tbody tr th:only-of-type {\n",
       "        vertical-align: middle;\n",
       "    }\n",
       "\n",
       "    .dataframe tbody tr th {\n",
       "        vertical-align: top;\n",
       "    }\n",
       "\n",
       "    .dataframe thead th {\n",
       "        text-align: right;\n",
       "    }\n",
       "</style>\n",
       "<table border=\"1\" class=\"dataframe\">\n",
       "  <thead>\n",
       "    <tr style=\"text-align: right;\">\n",
       "      <th></th>\n",
       "      <th>patientunitstayid</th>\n",
       "      <th>intakeoutputoffset</th>\n",
       "      <th>intaketotal</th>\n",
       "      <th>outputtotal</th>\n",
       "      <th>celllabel</th>\n",
       "    </tr>\n",
       "  </thead>\n",
       "  <tbody>\n",
       "    <tr>\n",
       "      <th>0</th>\n",
       "      <td>205505</td>\n",
       "      <td>661</td>\n",
       "      <td>0.00</td>\n",
       "      <td>0.0</td>\n",
       "      <td>Bodyweight (lb)</td>\n",
       "    </tr>\n",
       "    <tr>\n",
       "      <th>1</th>\n",
       "      <td>205505</td>\n",
       "      <td>661</td>\n",
       "      <td>0.00</td>\n",
       "      <td>0.0</td>\n",
       "      <td>Bodyweight (kg)</td>\n",
       "    </tr>\n",
       "    <tr>\n",
       "      <th>2</th>\n",
       "      <td>150708</td>\n",
       "      <td>3523</td>\n",
       "      <td>727.00</td>\n",
       "      <td>0.0</td>\n",
       "      <td>P.O.</td>\n",
       "    </tr>\n",
       "    <tr>\n",
       "      <th>3</th>\n",
       "      <td>150708</td>\n",
       "      <td>3523</td>\n",
       "      <td>727.00</td>\n",
       "      <td>0.0</td>\n",
       "      <td>Volume (mL)-sodium chloride 0.9 % flush IVPB 5...</td>\n",
       "    </tr>\n",
       "    <tr>\n",
       "      <th>4</th>\n",
       "      <td>158159</td>\n",
       "      <td>24801</td>\n",
       "      <td>120.00</td>\n",
       "      <td>0.0</td>\n",
       "      <td>P.O.</td>\n",
       "    </tr>\n",
       "    <tr>\n",
       "      <th>...</th>\n",
       "      <td>...</td>\n",
       "      <td>...</td>\n",
       "      <td>...</td>\n",
       "      <td>...</td>\n",
       "      <td>...</td>\n",
       "    </tr>\n",
       "    <tr>\n",
       "      <th>12030284</th>\n",
       "      <td>3335854</td>\n",
       "      <td>1140</td>\n",
       "      <td>152.10</td>\n",
       "      <td>0.0</td>\n",
       "      <td>Crystalloids</td>\n",
       "    </tr>\n",
       "    <tr>\n",
       "      <th>12030285</th>\n",
       "      <td>3334548</td>\n",
       "      <td>766</td>\n",
       "      <td>340.00</td>\n",
       "      <td>350.0</td>\n",
       "      <td>Crystalloids</td>\n",
       "    </tr>\n",
       "    <tr>\n",
       "      <th>12030286</th>\n",
       "      <td>3330152</td>\n",
       "      <td>5102</td>\n",
       "      <td>300.00</td>\n",
       "      <td>0.0</td>\n",
       "      <td>Nutrition Total</td>\n",
       "    </tr>\n",
       "    <tr>\n",
       "      <th>12030287</th>\n",
       "      <td>3327194</td>\n",
       "      <td>3834</td>\n",
       "      <td>101.18</td>\n",
       "      <td>55.0</td>\n",
       "      <td>Crystalloids</td>\n",
       "    </tr>\n",
       "    <tr>\n",
       "      <th>12030288</th>\n",
       "      <td>3327194</td>\n",
       "      <td>3834</td>\n",
       "      <td>101.18</td>\n",
       "      <td>55.0</td>\n",
       "      <td>OtherDrainTotal</td>\n",
       "    </tr>\n",
       "  </tbody>\n",
       "</table>\n",
       "<p>12030289 rows × 5 columns</p>\n",
       "</div>"
      ],
      "text/plain": [
       "          patientunitstayid  intakeoutputoffset  intaketotal  outputtotal  \\\n",
       "0                    205505                 661         0.00          0.0   \n",
       "1                    205505                 661         0.00          0.0   \n",
       "2                    150708                3523       727.00          0.0   \n",
       "3                    150708                3523       727.00          0.0   \n",
       "4                    158159               24801       120.00          0.0   \n",
       "...                     ...                 ...          ...          ...   \n",
       "12030284            3335854                1140       152.10          0.0   \n",
       "12030285            3334548                 766       340.00        350.0   \n",
       "12030286            3330152                5102       300.00          0.0   \n",
       "12030287            3327194                3834       101.18         55.0   \n",
       "12030288            3327194                3834       101.18         55.0   \n",
       "\n",
       "                                                  celllabel  \n",
       "0                                           Bodyweight (lb)  \n",
       "1                                           Bodyweight (kg)  \n",
       "2                                                      P.O.  \n",
       "3         Volume (mL)-sodium chloride 0.9 % flush IVPB 5...  \n",
       "4                                                      P.O.  \n",
       "...                                                     ...  \n",
       "12030284                                       Crystalloids  \n",
       "12030285                                       Crystalloids  \n",
       "12030286                                    Nutrition Total  \n",
       "12030287                                       Crystalloids  \n",
       "12030288                                    OtherDrainTotal  \n",
       "\n",
       "[12030289 rows x 5 columns]"
      ]
     },
     "execution_count": 3,
     "metadata": {},
     "output_type": "execute_result"
    }
   ],
   "source": [
    "columns = ['patientunitstayid', 'intakeoutputoffset', 'intaketotal', 'outputtotal', 'celllabel']\n",
    "intakeOutput = pd.read_csv(databasePath + '/intakeOutput.csv', usecols=columns)\n",
    "intakeOutput"
   ]
  },
  {
   "cell_type": "markdown",
   "metadata": {},
   "source": [
    "#### Reading in patient ids to keep"
   ]
  },
  {
   "cell_type": "code",
   "execution_count": 4,
   "metadata": {
    "pycharm": {
     "name": "#%%\n"
    }
   },
   "outputs": [],
   "source": [
    "patientIds = pd.read_csv(exportPath + '/patientIds.csv')\n",
    "patientIds = patientIds['patientunitstayid'].tolist()"
   ]
  },
  {
   "cell_type": "markdown",
   "metadata": {},
   "source": [
    "#### Keeping patient ids from lab table that exist in patient id file"
   ]
  },
  {
   "cell_type": "code",
   "execution_count": 5,
   "metadata": {
    "pycharm": {
     "name": "#%%\n"
    }
   },
   "outputs": [
    {
     "data": {
      "text/html": [
       "<div>\n",
       "<style scoped>\n",
       "    .dataframe tbody tr th:only-of-type {\n",
       "        vertical-align: middle;\n",
       "    }\n",
       "\n",
       "    .dataframe tbody tr th {\n",
       "        vertical-align: top;\n",
       "    }\n",
       "\n",
       "    .dataframe thead th {\n",
       "        text-align: right;\n",
       "    }\n",
       "</style>\n",
       "<table border=\"1\" class=\"dataframe\">\n",
       "  <thead>\n",
       "    <tr style=\"text-align: right;\">\n",
       "      <th></th>\n",
       "      <th>patientunitstayid</th>\n",
       "      <th>intakeoutputoffset</th>\n",
       "      <th>intaketotal</th>\n",
       "      <th>outputtotal</th>\n",
       "      <th>celllabel</th>\n",
       "    </tr>\n",
       "  </thead>\n",
       "  <tbody>\n",
       "    <tr>\n",
       "      <th>0</th>\n",
       "      <td>205505</td>\n",
       "      <td>661</td>\n",
       "      <td>0.00</td>\n",
       "      <td>0.0</td>\n",
       "      <td>Bodyweight (lb)</td>\n",
       "    </tr>\n",
       "    <tr>\n",
       "      <th>1</th>\n",
       "      <td>205505</td>\n",
       "      <td>661</td>\n",
       "      <td>0.00</td>\n",
       "      <td>0.0</td>\n",
       "      <td>Bodyweight (kg)</td>\n",
       "    </tr>\n",
       "    <tr>\n",
       "      <th>2</th>\n",
       "      <td>150708</td>\n",
       "      <td>3523</td>\n",
       "      <td>727.00</td>\n",
       "      <td>0.0</td>\n",
       "      <td>P.O.</td>\n",
       "    </tr>\n",
       "    <tr>\n",
       "      <th>3</th>\n",
       "      <td>150708</td>\n",
       "      <td>3523</td>\n",
       "      <td>727.00</td>\n",
       "      <td>0.0</td>\n",
       "      <td>Volume (mL)-sodium chloride 0.9 % flush IVPB 5...</td>\n",
       "    </tr>\n",
       "    <tr>\n",
       "      <th>7</th>\n",
       "      <td>200733</td>\n",
       "      <td>7223</td>\n",
       "      <td>240.00</td>\n",
       "      <td>0.0</td>\n",
       "      <td>P.O.</td>\n",
       "    </tr>\n",
       "    <tr>\n",
       "      <th>...</th>\n",
       "      <td>...</td>\n",
       "      <td>...</td>\n",
       "      <td>...</td>\n",
       "      <td>...</td>\n",
       "      <td>...</td>\n",
       "    </tr>\n",
       "    <tr>\n",
       "      <th>12030284</th>\n",
       "      <td>3335854</td>\n",
       "      <td>1140</td>\n",
       "      <td>152.10</td>\n",
       "      <td>0.0</td>\n",
       "      <td>Crystalloids</td>\n",
       "    </tr>\n",
       "    <tr>\n",
       "      <th>12030285</th>\n",
       "      <td>3334548</td>\n",
       "      <td>766</td>\n",
       "      <td>340.00</td>\n",
       "      <td>350.0</td>\n",
       "      <td>Crystalloids</td>\n",
       "    </tr>\n",
       "    <tr>\n",
       "      <th>12030286</th>\n",
       "      <td>3330152</td>\n",
       "      <td>5102</td>\n",
       "      <td>300.00</td>\n",
       "      <td>0.0</td>\n",
       "      <td>Nutrition Total</td>\n",
       "    </tr>\n",
       "    <tr>\n",
       "      <th>12030287</th>\n",
       "      <td>3327194</td>\n",
       "      <td>3834</td>\n",
       "      <td>101.18</td>\n",
       "      <td>55.0</td>\n",
       "      <td>Crystalloids</td>\n",
       "    </tr>\n",
       "    <tr>\n",
       "      <th>12030288</th>\n",
       "      <td>3327194</td>\n",
       "      <td>3834</td>\n",
       "      <td>101.18</td>\n",
       "      <td>55.0</td>\n",
       "      <td>OtherDrainTotal</td>\n",
       "    </tr>\n",
       "  </tbody>\n",
       "</table>\n",
       "<p>11288383 rows × 5 columns</p>\n",
       "</div>"
      ],
      "text/plain": [
       "          patientunitstayid  intakeoutputoffset  intaketotal  outputtotal  \\\n",
       "0                    205505                 661         0.00          0.0   \n",
       "1                    205505                 661         0.00          0.0   \n",
       "2                    150708                3523       727.00          0.0   \n",
       "3                    150708                3523       727.00          0.0   \n",
       "7                    200733                7223       240.00          0.0   \n",
       "...                     ...                 ...          ...          ...   \n",
       "12030284            3335854                1140       152.10          0.0   \n",
       "12030285            3334548                 766       340.00        350.0   \n",
       "12030286            3330152                5102       300.00          0.0   \n",
       "12030287            3327194                3834       101.18         55.0   \n",
       "12030288            3327194                3834       101.18         55.0   \n",
       "\n",
       "                                                  celllabel  \n",
       "0                                           Bodyweight (lb)  \n",
       "1                                           Bodyweight (kg)  \n",
       "2                                                      P.O.  \n",
       "3         Volume (mL)-sodium chloride 0.9 % flush IVPB 5...  \n",
       "7                                                      P.O.  \n",
       "...                                                     ...  \n",
       "12030284                                       Crystalloids  \n",
       "12030285                                       Crystalloids  \n",
       "12030286                                    Nutrition Total  \n",
       "12030287                                       Crystalloids  \n",
       "12030288                                    OtherDrainTotal  \n",
       "\n",
       "[11288383 rows x 5 columns]"
      ]
     },
     "execution_count": 5,
     "metadata": {},
     "output_type": "execute_result"
    }
   ],
   "source": [
    "intakeOutput = intakeOutput.loc[intakeOutput['patientunitstayid'].isin(patientIds)]\n",
    "intakeOutput"
   ]
  },
  {
   "cell_type": "markdown",
   "metadata": {},
   "source": [
    "#### Updating patient ids with patient ids that remain from dataset"
   ]
  },
  {
   "cell_type": "code",
   "execution_count": 6,
   "metadata": {
    "pycharm": {
     "name": "#%%\n"
    }
   },
   "outputs": [
    {
     "data": {
      "text/html": [
       "<div>\n",
       "<style scoped>\n",
       "    .dataframe tbody tr th:only-of-type {\n",
       "        vertical-align: middle;\n",
       "    }\n",
       "\n",
       "    .dataframe tbody tr th {\n",
       "        vertical-align: top;\n",
       "    }\n",
       "\n",
       "    .dataframe thead th {\n",
       "        text-align: right;\n",
       "    }\n",
       "</style>\n",
       "<table border=\"1\" class=\"dataframe\">\n",
       "  <thead>\n",
       "    <tr style=\"text-align: right;\">\n",
       "      <th></th>\n",
       "      <th>patientunitstayid</th>\n",
       "    </tr>\n",
       "  </thead>\n",
       "  <tbody>\n",
       "    <tr>\n",
       "      <th>0</th>\n",
       "      <td>205505</td>\n",
       "    </tr>\n",
       "    <tr>\n",
       "      <th>1</th>\n",
       "      <td>150708</td>\n",
       "    </tr>\n",
       "    <tr>\n",
       "      <th>2</th>\n",
       "      <td>200733</td>\n",
       "    </tr>\n",
       "    <tr>\n",
       "      <th>3</th>\n",
       "      <td>235783</td>\n",
       "    </tr>\n",
       "    <tr>\n",
       "      <th>4</th>\n",
       "      <td>178962</td>\n",
       "    </tr>\n",
       "    <tr>\n",
       "      <th>...</th>\n",
       "      <td>...</td>\n",
       "    </tr>\n",
       "    <tr>\n",
       "      <th>158084</th>\n",
       "      <td>3351044</td>\n",
       "    </tr>\n",
       "    <tr>\n",
       "      <th>158085</th>\n",
       "      <td>3342617</td>\n",
       "    </tr>\n",
       "    <tr>\n",
       "      <th>158086</th>\n",
       "      <td>3348452</td>\n",
       "    </tr>\n",
       "    <tr>\n",
       "      <th>158087</th>\n",
       "      <td>3331034</td>\n",
       "    </tr>\n",
       "    <tr>\n",
       "      <th>158088</th>\n",
       "      <td>3332812</td>\n",
       "    </tr>\n",
       "  </tbody>\n",
       "</table>\n",
       "<p>158089 rows × 1 columns</p>\n",
       "</div>"
      ],
      "text/plain": [
       "        patientunitstayid\n",
       "0                  205505\n",
       "1                  150708\n",
       "2                  200733\n",
       "3                  235783\n",
       "4                  178962\n",
       "...                   ...\n",
       "158084            3351044\n",
       "158085            3342617\n",
       "158086            3348452\n",
       "158087            3331034\n",
       "158088            3332812\n",
       "\n",
       "[158089 rows x 1 columns]"
      ]
     },
     "execution_count": 6,
     "metadata": {},
     "output_type": "execute_result"
    }
   ],
   "source": [
    "newPatientIds = pd.DataFrame(intakeOutput['patientunitstayid'].unique())\n",
    "newPatientIds.rename(columns={0: 'patientunitstayid'}, inplace=True)\n",
    "newPatientIds"
   ]
  },
  {
   "cell_type": "code",
   "execution_count": 7,
   "metadata": {
    "pycharm": {
     "name": "#%%\n"
    }
   },
   "outputs": [],
   "source": [
    "newPatientIds.to_csv(exportPath + \"patientIds.csv\", sep=',', index=False, encoding='utf-8')"
   ]
  },
  {
   "cell_type": "markdown",
   "metadata": {
    "pycharm": {
     "name": "#%% md\n"
    }
   },
   "source": [
    "#### Reading in cleaned patient data"
   ]
  },
  {
   "cell_type": "code",
   "execution_count": 8,
   "metadata": {
    "jupyter": {
     "outputs_hidden": false
    },
    "pycharm": {
     "name": "#%%\n"
    }
   },
   "outputs": [
    {
     "data": {
      "text/html": [
       "<div>\n",
       "<style scoped>\n",
       "    .dataframe tbody tr th:only-of-type {\n",
       "        vertical-align: middle;\n",
       "    }\n",
       "\n",
       "    .dataframe tbody tr th {\n",
       "        vertical-align: top;\n",
       "    }\n",
       "\n",
       "    .dataframe thead th {\n",
       "        text-align: right;\n",
       "    }\n",
       "</style>\n",
       "<table border=\"1\" class=\"dataframe\">\n",
       "  <thead>\n",
       "    <tr style=\"text-align: right;\">\n",
       "      <th></th>\n",
       "      <th>patientunitstayid</th>\n",
       "      <th>admissionweight</th>\n",
       "    </tr>\n",
       "  </thead>\n",
       "  <tbody>\n",
       "    <tr>\n",
       "      <th>0</th>\n",
       "      <td>141168</td>\n",
       "      <td>84.3</td>\n",
       "    </tr>\n",
       "    <tr>\n",
       "      <th>1</th>\n",
       "      <td>141203</td>\n",
       "      <td>70.2</td>\n",
       "    </tr>\n",
       "    <tr>\n",
       "      <th>2</th>\n",
       "      <td>141227</td>\n",
       "      <td>82.2</td>\n",
       "    </tr>\n",
       "    <tr>\n",
       "      <th>3</th>\n",
       "      <td>141229</td>\n",
       "      <td>89.8</td>\n",
       "    </tr>\n",
       "    <tr>\n",
       "      <th>4</th>\n",
       "      <td>141266</td>\n",
       "      <td>120.4</td>\n",
       "    </tr>\n",
       "    <tr>\n",
       "      <th>...</th>\n",
       "      <td>...</td>\n",
       "      <td>...</td>\n",
       "    </tr>\n",
       "    <tr>\n",
       "      <th>173104</th>\n",
       "      <td>3353235</td>\n",
       "      <td>90.0</td>\n",
       "    </tr>\n",
       "    <tr>\n",
       "      <th>173105</th>\n",
       "      <td>3353237</td>\n",
       "      <td>78.4</td>\n",
       "    </tr>\n",
       "    <tr>\n",
       "      <th>173106</th>\n",
       "      <td>3353251</td>\n",
       "      <td>102.0</td>\n",
       "    </tr>\n",
       "    <tr>\n",
       "      <th>173107</th>\n",
       "      <td>3353254</td>\n",
       "      <td>83.9</td>\n",
       "    </tr>\n",
       "    <tr>\n",
       "      <th>173108</th>\n",
       "      <td>3353263</td>\n",
       "      <td>100.8</td>\n",
       "    </tr>\n",
       "  </tbody>\n",
       "</table>\n",
       "<p>173109 rows × 2 columns</p>\n",
       "</div>"
      ],
      "text/plain": [
       "        patientunitstayid  admissionweight\n",
       "0                  141168             84.3\n",
       "1                  141203             70.2\n",
       "2                  141227             82.2\n",
       "3                  141229             89.8\n",
       "4                  141266            120.4\n",
       "...                   ...              ...\n",
       "173104            3353235             90.0\n",
       "173105            3353237             78.4\n",
       "173106            3353251            102.0\n",
       "173107            3353254             83.9\n",
       "173108            3353263            100.8\n",
       "\n",
       "[173109 rows x 2 columns]"
      ]
     },
     "execution_count": 8,
     "metadata": {},
     "output_type": "execute_result"
    }
   ],
   "source": [
    "patient = pd.read_csv(exportPath + 'patient.csv')\n",
    "patient"
   ]
  },
  {
   "cell_type": "markdown",
   "metadata": {
    "pycharm": {
     "name": "#%% md\n"
    }
   },
   "source": [
    "#### Filtering out reading pertaining to urine output "
   ]
  },
  {
   "cell_type": "code",
   "execution_count": 9,
   "metadata": {
    "jupyter": {
     "outputs_hidden": false
    },
    "pycharm": {
     "name": "#%%\n"
    }
   },
   "outputs": [
    {
     "data": {
      "text/html": [
       "<div>\n",
       "<style scoped>\n",
       "    .dataframe tbody tr th:only-of-type {\n",
       "        vertical-align: middle;\n",
       "    }\n",
       "\n",
       "    .dataframe tbody tr th {\n",
       "        vertical-align: top;\n",
       "    }\n",
       "\n",
       "    .dataframe thead th {\n",
       "        text-align: right;\n",
       "    }\n",
       "</style>\n",
       "<table border=\"1\" class=\"dataframe\">\n",
       "  <thead>\n",
       "    <tr style=\"text-align: right;\">\n",
       "      <th></th>\n",
       "      <th>patientunitstayid</th>\n",
       "      <th>intakeoutputoffset</th>\n",
       "      <th>intaketotal</th>\n",
       "      <th>outputtotal</th>\n",
       "      <th>celllabel</th>\n",
       "    </tr>\n",
       "  </thead>\n",
       "  <tbody>\n",
       "    <tr>\n",
       "      <th>10</th>\n",
       "      <td>178962</td>\n",
       "      <td>-1507</td>\n",
       "      <td>240.0</td>\n",
       "      <td>400.0</td>\n",
       "      <td>Urine</td>\n",
       "    </tr>\n",
       "    <tr>\n",
       "      <th>29</th>\n",
       "      <td>162156</td>\n",
       "      <td>129</td>\n",
       "      <td>100.0</td>\n",
       "      <td>0.0</td>\n",
       "      <td>Urine</td>\n",
       "    </tr>\n",
       "    <tr>\n",
       "      <th>34</th>\n",
       "      <td>202558</td>\n",
       "      <td>-891</td>\n",
       "      <td>0.0</td>\n",
       "      <td>100.0</td>\n",
       "      <td>Urine</td>\n",
       "    </tr>\n",
       "    <tr>\n",
       "      <th>47</th>\n",
       "      <td>237097</td>\n",
       "      <td>5850</td>\n",
       "      <td>240.0</td>\n",
       "      <td>250.0</td>\n",
       "      <td>Urine</td>\n",
       "    </tr>\n",
       "    <tr>\n",
       "      <th>53</th>\n",
       "      <td>192734</td>\n",
       "      <td>1523</td>\n",
       "      <td>636.0</td>\n",
       "      <td>150.0</td>\n",
       "      <td>Urine</td>\n",
       "    </tr>\n",
       "    <tr>\n",
       "      <th>...</th>\n",
       "      <td>...</td>\n",
       "      <td>...</td>\n",
       "      <td>...</td>\n",
       "      <td>...</td>\n",
       "      <td>...</td>\n",
       "    </tr>\n",
       "    <tr>\n",
       "      <th>12030268</th>\n",
       "      <td>3339291</td>\n",
       "      <td>3337</td>\n",
       "      <td>0.0</td>\n",
       "      <td>400.0</td>\n",
       "      <td>Urine</td>\n",
       "    </tr>\n",
       "    <tr>\n",
       "      <th>12030273</th>\n",
       "      <td>3326946</td>\n",
       "      <td>1501</td>\n",
       "      <td>0.0</td>\n",
       "      <td>400.0</td>\n",
       "      <td>Urine</td>\n",
       "    </tr>\n",
       "    <tr>\n",
       "      <th>12030278</th>\n",
       "      <td>3336512</td>\n",
       "      <td>1710</td>\n",
       "      <td>100.0</td>\n",
       "      <td>230.0</td>\n",
       "      <td>Urine</td>\n",
       "    </tr>\n",
       "    <tr>\n",
       "      <th>12030279</th>\n",
       "      <td>3347200</td>\n",
       "      <td>12668</td>\n",
       "      <td>0.0</td>\n",
       "      <td>750.0</td>\n",
       "      <td>Urine</td>\n",
       "    </tr>\n",
       "    <tr>\n",
       "      <th>12030280</th>\n",
       "      <td>3348026</td>\n",
       "      <td>1528</td>\n",
       "      <td>0.0</td>\n",
       "      <td>225.0</td>\n",
       "      <td>Urine</td>\n",
       "    </tr>\n",
       "  </tbody>\n",
       "</table>\n",
       "<p>3160138 rows × 5 columns</p>\n",
       "</div>"
      ],
      "text/plain": [
       "          patientunitstayid  intakeoutputoffset  intaketotal  outputtotal  \\\n",
       "10                   178962               -1507        240.0        400.0   \n",
       "29                   162156                 129        100.0          0.0   \n",
       "34                   202558                -891          0.0        100.0   \n",
       "47                   237097                5850        240.0        250.0   \n",
       "53                   192734                1523        636.0        150.0   \n",
       "...                     ...                 ...          ...          ...   \n",
       "12030268            3339291                3337          0.0        400.0   \n",
       "12030273            3326946                1501          0.0        400.0   \n",
       "12030278            3336512                1710        100.0        230.0   \n",
       "12030279            3347200               12668          0.0        750.0   \n",
       "12030280            3348026                1528          0.0        225.0   \n",
       "\n",
       "         celllabel  \n",
       "10           Urine  \n",
       "29           Urine  \n",
       "34           Urine  \n",
       "47           Urine  \n",
       "53           Urine  \n",
       "...            ...  \n",
       "12030268     Urine  \n",
       "12030273     Urine  \n",
       "12030278     Urine  \n",
       "12030279     Urine  \n",
       "12030280     Urine  \n",
       "\n",
       "[3160138 rows x 5 columns]"
      ]
     },
     "execution_count": 9,
     "metadata": {},
     "output_type": "execute_result"
    }
   ],
   "source": [
    "intakeOutputUrine = intakeOutput.loc[(intakeOutput['celllabel'].str.contains(\"Urine\"))]\n",
    "intakeOutputUrine"
   ]
  },
  {
   "cell_type": "markdown",
   "metadata": {
    "pycharm": {
     "name": "#%% md\n"
    }
   },
   "source": [
    "#### Merging on patient table to get patient weight"
   ]
  },
  {
   "cell_type": "code",
   "execution_count": 10,
   "metadata": {
    "jupyter": {
     "outputs_hidden": false
    },
    "pycharm": {
     "name": "#%%\n"
    }
   },
   "outputs": [],
   "source": [
    "intakeOutputUrine = pd.DataFrame.merge(patient, intakeOutputUrine, on='patientunitstayid')"
   ]
  },
  {
   "cell_type": "markdown",
   "metadata": {
    "pycharm": {
     "name": "#%% md\n"
    }
   },
   "source": [
    "#### Calculating patient urine output by dividing urine output in mL by the patient weight"
   ]
  },
  {
   "cell_type": "code",
   "execution_count": 11,
   "metadata": {
    "jupyter": {
     "outputs_hidden": false
    },
    "pycharm": {
     "name": "#%%\n"
    }
   },
   "outputs": [],
   "source": [
    "intakeOutputUrine['urineoutputbyweight'] = intakeOutputUrine.apply(lambda x: x['outputtotal'] / x['admissionweight'], axis=1)"
   ]
  },
  {
   "cell_type": "markdown",
   "metadata": {
    "pycharm": {
     "name": "#%% md\n"
    }
   },
   "source": [
    "#### Dropping irrelevant columns to study."
   ]
  },
  {
   "cell_type": "code",
   "execution_count": 12,
   "metadata": {
    "jupyter": {
     "outputs_hidden": false
    },
    "pycharm": {
     "name": "#%%\n"
    }
   },
   "outputs": [
    {
     "data": {
      "text/html": [
       "<div>\n",
       "<style scoped>\n",
       "    .dataframe tbody tr th:only-of-type {\n",
       "        vertical-align: middle;\n",
       "    }\n",
       "\n",
       "    .dataframe tbody tr th {\n",
       "        vertical-align: top;\n",
       "    }\n",
       "\n",
       "    .dataframe thead th {\n",
       "        text-align: right;\n",
       "    }\n",
       "</style>\n",
       "<table border=\"1\" class=\"dataframe\">\n",
       "  <thead>\n",
       "    <tr style=\"text-align: right;\">\n",
       "      <th></th>\n",
       "      <th>patientunitstayid</th>\n",
       "      <th>intakeoutputoffset</th>\n",
       "      <th>urineoutputbyweight</th>\n",
       "    </tr>\n",
       "  </thead>\n",
       "  <tbody>\n",
       "    <tr>\n",
       "      <th>0</th>\n",
       "      <td>141227</td>\n",
       "      <td>-1893</td>\n",
       "      <td>2.433090</td>\n",
       "    </tr>\n",
       "    <tr>\n",
       "      <th>1</th>\n",
       "      <td>141227</td>\n",
       "      <td>-1663</td>\n",
       "      <td>2.433090</td>\n",
       "    </tr>\n",
       "    <tr>\n",
       "      <th>2</th>\n",
       "      <td>141227</td>\n",
       "      <td>-1773</td>\n",
       "      <td>2.433090</td>\n",
       "    </tr>\n",
       "    <tr>\n",
       "      <th>3</th>\n",
       "      <td>141227</td>\n",
       "      <td>-1351</td>\n",
       "      <td>2.433090</td>\n",
       "    </tr>\n",
       "    <tr>\n",
       "      <th>4</th>\n",
       "      <td>141229</td>\n",
       "      <td>3430</td>\n",
       "      <td>4.454343</td>\n",
       "    </tr>\n",
       "    <tr>\n",
       "      <th>...</th>\n",
       "      <td>...</td>\n",
       "      <td>...</td>\n",
       "      <td>...</td>\n",
       "    </tr>\n",
       "    <tr>\n",
       "      <th>3160133</th>\n",
       "      <td>3353254</td>\n",
       "      <td>4169</td>\n",
       "      <td>19.070322</td>\n",
       "    </tr>\n",
       "    <tr>\n",
       "      <th>3160134</th>\n",
       "      <td>3353254</td>\n",
       "      <td>5326</td>\n",
       "      <td>4.767580</td>\n",
       "    </tr>\n",
       "    <tr>\n",
       "      <th>3160135</th>\n",
       "      <td>3353254</td>\n",
       "      <td>2626</td>\n",
       "      <td>10.131108</td>\n",
       "    </tr>\n",
       "    <tr>\n",
       "      <th>3160136</th>\n",
       "      <td>3353254</td>\n",
       "      <td>3101</td>\n",
       "      <td>15.494636</td>\n",
       "    </tr>\n",
       "    <tr>\n",
       "      <th>3160137</th>\n",
       "      <td>3353254</td>\n",
       "      <td>1414</td>\n",
       "      <td>0.357569</td>\n",
       "    </tr>\n",
       "  </tbody>\n",
       "</table>\n",
       "<p>3158479 rows × 3 columns</p>\n",
       "</div>"
      ],
      "text/plain": [
       "         patientunitstayid  intakeoutputoffset  urineoutputbyweight\n",
       "0                   141227               -1893             2.433090\n",
       "1                   141227               -1663             2.433090\n",
       "2                   141227               -1773             2.433090\n",
       "3                   141227               -1351             2.433090\n",
       "4                   141229                3430             4.454343\n",
       "...                    ...                 ...                  ...\n",
       "3160133            3353254                4169            19.070322\n",
       "3160134            3353254                5326             4.767580\n",
       "3160135            3353254                2626            10.131108\n",
       "3160136            3353254                3101            15.494636\n",
       "3160137            3353254                1414             0.357569\n",
       "\n",
       "[3158479 rows x 3 columns]"
      ]
     },
     "execution_count": 12,
     "metadata": {},
     "output_type": "execute_result"
    }
   ],
   "source": [
    "intakeOutputUrine = intakeOutputUrine[['patientunitstayid','intakeoutputoffset', 'urineoutputbyweight']]\n",
    "intakeOutputUrine = intakeOutputUrine.drop_duplicates()\n",
    "intakeOutputUrine"
   ]
  },
  {
   "cell_type": "markdown",
   "metadata": {},
   "source": [
    "#### Saving the intakeOutputUrine DataFrame to a `csv` file"
   ]
  },
  {
   "cell_type": "code",
   "execution_count": 13,
   "metadata": {
    "jupyter": {
     "outputs_hidden": false
    },
    "pycharm": {
     "name": "#%%\n"
    }
   },
   "outputs": [],
   "source": [
    "intakeOutputUrine.to_csv(exportPath + \"intakeOutputUrine.csv\", sep=',', index=False, encoding='utf-8')"
   ]
  }
 ],
 "metadata": {
  "kernelspec": {
   "display_name": "Python 3",
   "language": "python",
   "name": "python3"
  },
  "language_info": {
   "codemirror_mode": {
    "name": "ipython",
    "version": 3
   },
   "file_extension": ".py",
   "mimetype": "text/x-python",
   "name": "python",
   "nbconvert_exporter": "python",
   "pygments_lexer": "ipython3",
   "version": "3.6.9"
  }
 },
 "nbformat": 4,
 "nbformat_minor": 4
}
