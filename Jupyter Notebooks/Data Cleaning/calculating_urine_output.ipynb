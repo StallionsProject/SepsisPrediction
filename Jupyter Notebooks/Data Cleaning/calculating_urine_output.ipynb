{
 "cells": [
  {
   "cell_type": "code",
   "execution_count": 1,
   "metadata": {
    "pycharm": {
     "is_executing": false
    }
   },
   "outputs": [],
   "source": [
    "%load_ext autoreload\n",
    "%autoreload 2"
   ]
  },
  {
   "cell_type": "code",
   "execution_count": 2,
   "metadata": {
    "collapsed": false,
    "jupyter": {
     "outputs_hidden": false
    },
    "pycharm": {
     "is_executing": false,
     "name": "#%%\n"
    }
   },
   "outputs": [],
   "source": [
    "import pandas as pd\n",
    "import numpy as np"
   ]
  },
  {
   "cell_type": "code",
   "execution_count": 3,
   "metadata": {
    "collapsed": false,
    "jupyter": {
     "outputs_hidden": false
    },
    "pycharm": {
     "is_executing": false,
     "name": "#%%\n"
    }
   },
   "outputs": [],
   "source": [
    "database_type = \"/full\""
   ]
  },
  {
   "cell_type": "markdown",
   "metadata": {},
   "source": [
    "The `intakeOutput` table provides Intake and output recorded for patients entered from the nursing flowsheet.\n",
    "See: http://eicu-crd.mit.edu/eicutables/intakeOutput/\n",
    "\n",
    "Urine output is measured in mL/kg.\n",
    "Urine output in mL/ Patient weight in kg."
   ]
  },
  {
   "cell_type": "markdown",
   "metadata": {
    "pycharm": {
     "name": "#%% md\n"
    }
   },
   "source": [
    "#### Reading in lab dataset and keeping relevant columns to our study ."
   ]
  },
  {
   "cell_type": "code",
   "execution_count": 4,
   "metadata": {
    "collapsed": false,
    "jupyter": {
     "outputs_hidden": false
    },
    "pycharm": {
     "is_executing": false,
     "name": "#%%\n"
    }
   },
   "outputs": [
    {
     "data": {
      "text/plain": "          patientunitstayid  intakeoutputoffset  intaketotal  outputtotal  \\\n0                    205505                 661         0.00          0.0   \n1                    205505                 661         0.00          0.0   \n2                    150708                3523       727.00          0.0   \n3                    150708                3523       727.00          0.0   \n4                    158159               24801       120.00          0.0   \n...                     ...                 ...          ...          ...   \n12030284            3335854                1140       152.10          0.0   \n12030285            3334548                 766       340.00        350.0   \n12030286            3330152                5102       300.00          0.0   \n12030287            3327194                3834       101.18         55.0   \n12030288            3327194                3834       101.18         55.0   \n\n                                                  celllabel  \n0                                           Bodyweight (lb)  \n1                                           Bodyweight (kg)  \n2                                                      P.O.  \n3         Volume (mL)-sodium chloride 0.9 % flush IVPB 5...  \n4                                                      P.O.  \n...                                                     ...  \n12030284                                       Crystalloids  \n12030285                                       Crystalloids  \n12030286                                    Nutrition Total  \n12030287                                       Crystalloids  \n12030288                                    OtherDrainTotal  \n\n[12030289 rows x 5 columns]",
      "text/html": "<div>\n<style scoped>\n    .dataframe tbody tr th:only-of-type {\n        vertical-align: middle;\n    }\n\n    .dataframe tbody tr th {\n        vertical-align: top;\n    }\n\n    .dataframe thead th {\n        text-align: right;\n    }\n</style>\n<table border=\"1\" class=\"dataframe\">\n  <thead>\n    <tr style=\"text-align: right;\">\n      <th></th>\n      <th>patientunitstayid</th>\n      <th>intakeoutputoffset</th>\n      <th>intaketotal</th>\n      <th>outputtotal</th>\n      <th>celllabel</th>\n    </tr>\n  </thead>\n  <tbody>\n    <tr>\n      <td>0</td>\n      <td>205505</td>\n      <td>661</td>\n      <td>0.00</td>\n      <td>0.0</td>\n      <td>Bodyweight (lb)</td>\n    </tr>\n    <tr>\n      <td>1</td>\n      <td>205505</td>\n      <td>661</td>\n      <td>0.00</td>\n      <td>0.0</td>\n      <td>Bodyweight (kg)</td>\n    </tr>\n    <tr>\n      <td>2</td>\n      <td>150708</td>\n      <td>3523</td>\n      <td>727.00</td>\n      <td>0.0</td>\n      <td>P.O.</td>\n    </tr>\n    <tr>\n      <td>3</td>\n      <td>150708</td>\n      <td>3523</td>\n      <td>727.00</td>\n      <td>0.0</td>\n      <td>Volume (mL)-sodium chloride 0.9 % flush IVPB 5...</td>\n    </tr>\n    <tr>\n      <td>4</td>\n      <td>158159</td>\n      <td>24801</td>\n      <td>120.00</td>\n      <td>0.0</td>\n      <td>P.O.</td>\n    </tr>\n    <tr>\n      <td>...</td>\n      <td>...</td>\n      <td>...</td>\n      <td>...</td>\n      <td>...</td>\n      <td>...</td>\n    </tr>\n    <tr>\n      <td>12030284</td>\n      <td>3335854</td>\n      <td>1140</td>\n      <td>152.10</td>\n      <td>0.0</td>\n      <td>Crystalloids</td>\n    </tr>\n    <tr>\n      <td>12030285</td>\n      <td>3334548</td>\n      <td>766</td>\n      <td>340.00</td>\n      <td>350.0</td>\n      <td>Crystalloids</td>\n    </tr>\n    <tr>\n      <td>12030286</td>\n      <td>3330152</td>\n      <td>5102</td>\n      <td>300.00</td>\n      <td>0.0</td>\n      <td>Nutrition Total</td>\n    </tr>\n    <tr>\n      <td>12030287</td>\n      <td>3327194</td>\n      <td>3834</td>\n      <td>101.18</td>\n      <td>55.0</td>\n      <td>Crystalloids</td>\n    </tr>\n    <tr>\n      <td>12030288</td>\n      <td>3327194</td>\n      <td>3834</td>\n      <td>101.18</td>\n      <td>55.0</td>\n      <td>OtherDrainTotal</td>\n    </tr>\n  </tbody>\n</table>\n<p>12030289 rows × 5 columns</p>\n</div>"
     },
     "metadata": {},
     "output_type": "execute_result",
     "execution_count": 4
    }
   ],
   "source": [
    "columns = ['patientunitstayid', 'intakeoutputoffset', 'intaketotal', 'outputtotal', 'celllabel']\n",
    "intakeOutput = pd.read_csv('../../eICU' + database_type + '/intakeOutput.csv', usecols=columns)\n",
    "intakeOutput"
   ]
  },
  {
   "cell_type": "markdown",
   "metadata": {
    "pycharm": {
     "name": "#%% md\n"
    }
   },
   "source": [
    "#### Reading in cleaned patient data"
   ]
  },
  {
   "cell_type": "code",
   "execution_count": 5,
   "metadata": {
    "collapsed": false,
    "jupyter": {
     "outputs_hidden": false
    },
    "pycharm": {
     "is_executing": false,
     "name": "#%%\n"
    }
   },
   "outputs": [
    {
     "data": {
      "text/plain": "        patientunitstayid  admissionweight\n0                  141168             84.3\n1                  141178             54.4\n2                  141179            176.4\n3                  141194             73.9\n4                  141196            194.7\n...                   ...              ...\n200854            3353235             90.0\n200855            3353237             78.4\n200856            3353251            102.0\n200857            3353254             83.9\n200858            3353263            100.8\n\n[200859 rows x 2 columns]",
      "text/html": "<div>\n<style scoped>\n    .dataframe tbody tr th:only-of-type {\n        vertical-align: middle;\n    }\n\n    .dataframe tbody tr th {\n        vertical-align: top;\n    }\n\n    .dataframe thead th {\n        text-align: right;\n    }\n</style>\n<table border=\"1\" class=\"dataframe\">\n  <thead>\n    <tr style=\"text-align: right;\">\n      <th></th>\n      <th>patientunitstayid</th>\n      <th>admissionweight</th>\n    </tr>\n  </thead>\n  <tbody>\n    <tr>\n      <td>0</td>\n      <td>141168</td>\n      <td>84.3</td>\n    </tr>\n    <tr>\n      <td>1</td>\n      <td>141178</td>\n      <td>54.4</td>\n    </tr>\n    <tr>\n      <td>2</td>\n      <td>141179</td>\n      <td>176.4</td>\n    </tr>\n    <tr>\n      <td>3</td>\n      <td>141194</td>\n      <td>73.9</td>\n    </tr>\n    <tr>\n      <td>4</td>\n      <td>141196</td>\n      <td>194.7</td>\n    </tr>\n    <tr>\n      <td>...</td>\n      <td>...</td>\n      <td>...</td>\n    </tr>\n    <tr>\n      <td>200854</td>\n      <td>3353235</td>\n      <td>90.0</td>\n    </tr>\n    <tr>\n      <td>200855</td>\n      <td>3353237</td>\n      <td>78.4</td>\n    </tr>\n    <tr>\n      <td>200856</td>\n      <td>3353251</td>\n      <td>102.0</td>\n    </tr>\n    <tr>\n      <td>200857</td>\n      <td>3353254</td>\n      <td>83.9</td>\n    </tr>\n    <tr>\n      <td>200858</td>\n      <td>3353263</td>\n      <td>100.8</td>\n    </tr>\n  </tbody>\n</table>\n<p>200859 rows × 2 columns</p>\n</div>"
     },
     "metadata": {},
     "output_type": "execute_result",
     "execution_count": 5
    }
   ],
   "source": [
    "patient = pd.read_csv('../../eICU/training/patient.csv')\n",
    "patient"
   ]
  },
  {
   "cell_type": "markdown",
   "metadata": {
    "pycharm": {
     "name": "#%% md\n"
    }
   },
   "source": [
    "#### Filtering out reading pertaining to urine output "
   ]
  },
  {
   "cell_type": "code",
   "execution_count": 6,
   "metadata": {
    "collapsed": false,
    "jupyter": {
     "outputs_hidden": false
    },
    "pycharm": {
     "is_executing": false,
     "name": "#%%\n"
    }
   },
   "outputs": [
    {
     "data": {
      "text/plain": "          patientunitstayid  intakeoutputoffset  intaketotal  outputtotal  \\\n10                   178962               -1507        240.0        400.0   \n29                   162156                 129        100.0          0.0   \n33                   184045                9859          0.0        300.0   \n34                   202558                -891          0.0        100.0   \n47                   237097                5850        240.0        250.0   \n...                     ...                 ...          ...          ...   \n12030268            3339291                3337          0.0        400.0   \n12030273            3326946                1501          0.0        400.0   \n12030278            3336512                1710        100.0        230.0   \n12030279            3347200               12668          0.0        750.0   \n12030280            3348026                1528          0.0        225.0   \n\n         celllabel  \n10           Urine  \n29           Urine  \n33           Urine  \n34           Urine  \n47           Urine  \n...            ...  \n12030268     Urine  \n12030273     Urine  \n12030278     Urine  \n12030279     Urine  \n12030280     Urine  \n\n[3331681 rows x 5 columns]",
      "text/html": "<div>\n<style scoped>\n    .dataframe tbody tr th:only-of-type {\n        vertical-align: middle;\n    }\n\n    .dataframe tbody tr th {\n        vertical-align: top;\n    }\n\n    .dataframe thead th {\n        text-align: right;\n    }\n</style>\n<table border=\"1\" class=\"dataframe\">\n  <thead>\n    <tr style=\"text-align: right;\">\n      <th></th>\n      <th>patientunitstayid</th>\n      <th>intakeoutputoffset</th>\n      <th>intaketotal</th>\n      <th>outputtotal</th>\n      <th>celllabel</th>\n    </tr>\n  </thead>\n  <tbody>\n    <tr>\n      <td>10</td>\n      <td>178962</td>\n      <td>-1507</td>\n      <td>240.0</td>\n      <td>400.0</td>\n      <td>Urine</td>\n    </tr>\n    <tr>\n      <td>29</td>\n      <td>162156</td>\n      <td>129</td>\n      <td>100.0</td>\n      <td>0.0</td>\n      <td>Urine</td>\n    </tr>\n    <tr>\n      <td>33</td>\n      <td>184045</td>\n      <td>9859</td>\n      <td>0.0</td>\n      <td>300.0</td>\n      <td>Urine</td>\n    </tr>\n    <tr>\n      <td>34</td>\n      <td>202558</td>\n      <td>-891</td>\n      <td>0.0</td>\n      <td>100.0</td>\n      <td>Urine</td>\n    </tr>\n    <tr>\n      <td>47</td>\n      <td>237097</td>\n      <td>5850</td>\n      <td>240.0</td>\n      <td>250.0</td>\n      <td>Urine</td>\n    </tr>\n    <tr>\n      <td>...</td>\n      <td>...</td>\n      <td>...</td>\n      <td>...</td>\n      <td>...</td>\n      <td>...</td>\n    </tr>\n    <tr>\n      <td>12030268</td>\n      <td>3339291</td>\n      <td>3337</td>\n      <td>0.0</td>\n      <td>400.0</td>\n      <td>Urine</td>\n    </tr>\n    <tr>\n      <td>12030273</td>\n      <td>3326946</td>\n      <td>1501</td>\n      <td>0.0</td>\n      <td>400.0</td>\n      <td>Urine</td>\n    </tr>\n    <tr>\n      <td>12030278</td>\n      <td>3336512</td>\n      <td>1710</td>\n      <td>100.0</td>\n      <td>230.0</td>\n      <td>Urine</td>\n    </tr>\n    <tr>\n      <td>12030279</td>\n      <td>3347200</td>\n      <td>12668</td>\n      <td>0.0</td>\n      <td>750.0</td>\n      <td>Urine</td>\n    </tr>\n    <tr>\n      <td>12030280</td>\n      <td>3348026</td>\n      <td>1528</td>\n      <td>0.0</td>\n      <td>225.0</td>\n      <td>Urine</td>\n    </tr>\n  </tbody>\n</table>\n<p>3331681 rows × 5 columns</p>\n</div>"
     },
     "metadata": {},
     "output_type": "execute_result",
     "execution_count": 6
    }
   ],
   "source": [
    "intakeOutputUrine = intakeOutput.loc[(intakeOutput['celllabel'].str.contains(\"Urine\"))]\n",
    "intakeOutputUrine"
   ]
  },
  {
   "cell_type": "markdown",
   "metadata": {
    "pycharm": {
     "name": "#%% md\n"
    }
   },
   "source": [
    "#### Merging on patient table to get patient weight"
   ]
  },
  {
   "cell_type": "code",
   "execution_count": 7,
   "metadata": {
    "collapsed": false,
    "jupyter": {
     "outputs_hidden": false
    },
    "pycharm": {
     "is_executing": false,
     "name": "#%%\n"
    }
   },
   "outputs": [],
   "source": [
    "intakeOutputUrine = pd.DataFrame.merge(patient, intakeOutputUrine, on='patientunitstayid')"
   ]
  },
  {
   "cell_type": "markdown",
   "metadata": {
    "pycharm": {
     "name": "#%% md\n"
    }
   },
   "source": [
    "#### Calculating patient urine output by diving urine output in mL by the patient weight"
   ]
  },
  {
   "cell_type": "code",
   "execution_count": 8,
   "metadata": {
    "collapsed": false,
    "jupyter": {
     "outputs_hidden": false
    },
    "pycharm": {
     "is_executing": false,
     "name": "#%%\n"
    }
   },
   "outputs": [],
   "source": [
    "intakeOutputUrine['urineoutputbyweight'] = intakeOutputUrine.apply(lambda x: x['outputtotal'] / x['admissionweight'], axis=1)"
   ]
  },
  {
   "cell_type": "markdown",
   "metadata": {
    "pycharm": {
     "name": "#%% md\n"
    }
   },
   "source": [
    "#### Dropping irrelevant columns to study."
   ]
  },
  {
   "cell_type": "code",
   "execution_count": 9,
   "metadata": {
    "collapsed": false,
    "jupyter": {
     "outputs_hidden": false
    },
    "pycharm": {
     "is_executing": false,
     "name": "#%%\n"
    }
   },
   "outputs": [
    {
     "data": {
      "text/plain": "         patientunitstayid  intakeoutputoffset  urineoutputbyweight\n0                   141179                1420             3.968254\n1                   141179                 933             2.834467\n2                   141179                1703             5.668934\n3                   141179                 678             3.968254\n4                   141194               12201             1.353180\n...                    ...                 ...                  ...\n3331676            3353254                4169            19.070322\n3331677            3353254                5326             4.767580\n3331678            3353254                2626            10.131108\n3331679            3353254                3101            15.494636\n3331680            3353254                1414             0.357569\n\n[3331681 rows x 3 columns]",
      "text/html": "<div>\n<style scoped>\n    .dataframe tbody tr th:only-of-type {\n        vertical-align: middle;\n    }\n\n    .dataframe tbody tr th {\n        vertical-align: top;\n    }\n\n    .dataframe thead th {\n        text-align: right;\n    }\n</style>\n<table border=\"1\" class=\"dataframe\">\n  <thead>\n    <tr style=\"text-align: right;\">\n      <th></th>\n      <th>patientunitstayid</th>\n      <th>intakeoutputoffset</th>\n      <th>urineoutputbyweight</th>\n    </tr>\n  </thead>\n  <tbody>\n    <tr>\n      <td>0</td>\n      <td>141179</td>\n      <td>1420</td>\n      <td>3.968254</td>\n    </tr>\n    <tr>\n      <td>1</td>\n      <td>141179</td>\n      <td>933</td>\n      <td>2.834467</td>\n    </tr>\n    <tr>\n      <td>2</td>\n      <td>141179</td>\n      <td>1703</td>\n      <td>5.668934</td>\n    </tr>\n    <tr>\n      <td>3</td>\n      <td>141179</td>\n      <td>678</td>\n      <td>3.968254</td>\n    </tr>\n    <tr>\n      <td>4</td>\n      <td>141194</td>\n      <td>12201</td>\n      <td>1.353180</td>\n    </tr>\n    <tr>\n      <td>...</td>\n      <td>...</td>\n      <td>...</td>\n      <td>...</td>\n    </tr>\n    <tr>\n      <td>3331676</td>\n      <td>3353254</td>\n      <td>4169</td>\n      <td>19.070322</td>\n    </tr>\n    <tr>\n      <td>3331677</td>\n      <td>3353254</td>\n      <td>5326</td>\n      <td>4.767580</td>\n    </tr>\n    <tr>\n      <td>3331678</td>\n      <td>3353254</td>\n      <td>2626</td>\n      <td>10.131108</td>\n    </tr>\n    <tr>\n      <td>3331679</td>\n      <td>3353254</td>\n      <td>3101</td>\n      <td>15.494636</td>\n    </tr>\n    <tr>\n      <td>3331680</td>\n      <td>3353254</td>\n      <td>1414</td>\n      <td>0.357569</td>\n    </tr>\n  </tbody>\n</table>\n<p>3331681 rows × 3 columns</p>\n</div>"
     },
     "metadata": {},
     "output_type": "execute_result",
     "execution_count": 9
    }
   ],
   "source": [
    "intakeOutputUrine = intakeOutputUrine[['patientunitstayid','intakeoutputoffset', 'urineoutputbyweight']]\n",
    "intakeOutputUrine"
   ]
  },
  {
   "cell_type": "markdown",
   "metadata": {},
   "source": [
    "#### Saving the intakeOutputUrine DataFrame to a `csv` file"
   ]
  },
  {
   "cell_type": "code",
   "execution_count": 10,
   "metadata": {
    "pycharm": {
     "is_executing": false
    }
   },
   "outputs": [
    {
     "data": {
      "text/plain": "         patientunitstayid  intakeoutputoffset  urineoutputbyweight\n0                   141179                1420             3.968254\n1                   141179                 933             2.834467\n2                   141179                1703             5.668934\n3                   141179                 678             3.968254\n4                   141194               12201             1.353180\n...                    ...                 ...                  ...\n3331676            3353254                4169            19.070322\n3331677            3353254                5326             4.767580\n3331678            3353254                2626            10.131108\n3331679            3353254                3101            15.494636\n3331680            3353254                1414             0.357569\n\n[3331681 rows x 3 columns]",
      "text/html": "<div>\n<style scoped>\n    .dataframe tbody tr th:only-of-type {\n        vertical-align: middle;\n    }\n\n    .dataframe tbody tr th {\n        vertical-align: top;\n    }\n\n    .dataframe thead th {\n        text-align: right;\n    }\n</style>\n<table border=\"1\" class=\"dataframe\">\n  <thead>\n    <tr style=\"text-align: right;\">\n      <th></th>\n      <th>patientunitstayid</th>\n      <th>intakeoutputoffset</th>\n      <th>urineoutputbyweight</th>\n    </tr>\n  </thead>\n  <tbody>\n    <tr>\n      <td>0</td>\n      <td>141179</td>\n      <td>1420</td>\n      <td>3.968254</td>\n    </tr>\n    <tr>\n      <td>1</td>\n      <td>141179</td>\n      <td>933</td>\n      <td>2.834467</td>\n    </tr>\n    <tr>\n      <td>2</td>\n      <td>141179</td>\n      <td>1703</td>\n      <td>5.668934</td>\n    </tr>\n    <tr>\n      <td>3</td>\n      <td>141179</td>\n      <td>678</td>\n      <td>3.968254</td>\n    </tr>\n    <tr>\n      <td>4</td>\n      <td>141194</td>\n      <td>12201</td>\n      <td>1.353180</td>\n    </tr>\n    <tr>\n      <td>...</td>\n      <td>...</td>\n      <td>...</td>\n      <td>...</td>\n    </tr>\n    <tr>\n      <td>3331676</td>\n      <td>3353254</td>\n      <td>4169</td>\n      <td>19.070322</td>\n    </tr>\n    <tr>\n      <td>3331677</td>\n      <td>3353254</td>\n      <td>5326</td>\n      <td>4.767580</td>\n    </tr>\n    <tr>\n      <td>3331678</td>\n      <td>3353254</td>\n      <td>2626</td>\n      <td>10.131108</td>\n    </tr>\n    <tr>\n      <td>3331679</td>\n      <td>3353254</td>\n      <td>3101</td>\n      <td>15.494636</td>\n    </tr>\n    <tr>\n      <td>3331680</td>\n      <td>3353254</td>\n      <td>1414</td>\n      <td>0.357569</td>\n    </tr>\n  </tbody>\n</table>\n<p>3331681 rows × 3 columns</p>\n</div>"
     },
     "metadata": {},
     "output_type": "execute_result",
     "execution_count": 10
    }
   ],
   "source": [
    "intakeOutputUrine"
   ]
  },
  {
   "cell_type": "code",
   "execution_count": 11,
   "metadata": {
    "collapsed": false,
    "jupyter": {
     "outputs_hidden": false
    },
    "pycharm": {
     "is_executing": false,
     "name": "#%%\n"
    }
   },
   "outputs": [],
   "source": [
    "path = \"../../eICU/training/\"\n",
    "intakeOutputUrine.to_csv(path + \"intakeOutputUrine.csv\", sep=',', index=False, encoding='utf-8')"
   ]
  },
  {
   "cell_type": "code",
   "execution_count": 11,
   "metadata": {
    "pycharm": {
     "is_executing": false
    }
   },
   "outputs": [],
   "source": []
  }
 ],
 "metadata": {
  "kernelspec": {
   "display_name": "Python 3",
   "language": "python",
   "name": "python3"
  },
  "language_info": {
   "codemirror_mode": {
    "name": "ipython",
    "version": 3
   },
   "file_extension": ".py",
   "mimetype": "text/x-python",
   "name": "python",
   "nbconvert_exporter": "python",
   "pygments_lexer": "ipython3",
   "version": "3.7.4"
  },
  "pycharm": {
   "stem_cell": {
    "cell_type": "raw",
    "metadata": {
     "collapsed": false
    },
    "source": []
   }
  }
 },
 "nbformat": 4,
 "nbformat_minor": 4
}