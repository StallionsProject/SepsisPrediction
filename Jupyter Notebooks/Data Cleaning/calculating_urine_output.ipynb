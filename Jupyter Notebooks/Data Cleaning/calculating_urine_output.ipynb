{
 "cells": [
  {
   "cell_type": "code",
   "execution_count": 1,
   "metadata": {
    "pycharm": {
     "is_executing": false
    }
   },
   "outputs": [],
   "source": [
    "%load_ext autoreload\n",
    "%autoreload 2"
   ]
  },
  {
   "cell_type": "code",
   "execution_count": 2,
   "metadata": {
    "collapsed": false,
    "jupyter": {
     "outputs_hidden": false
    },
    "pycharm": {
     "is_executing": false,
     "name": "#%%\n"
    }
   },
   "outputs": [],
   "source": [
    "import pandas as pd\n",
    "import numpy as np"
   ]
  },
  {
   "cell_type": "code",
   "execution_count": 3,
   "metadata": {
    "collapsed": false,
    "jupyter": {
     "outputs_hidden": false
    },
    "pycharm": {
     "is_executing": false,
     "name": "#%%\n"
    }
   },
   "outputs": [],
   "source": [
    "database_type = \"/demo\""
   ]
  },
  {
   "cell_type": "markdown",
   "metadata": {},
   "source": [
    "The `intakeOutput` table provides Intake and output recorded for patients entered from the nursing flowsheet.\n",
    "See: http://eicu-crd.mit.edu/eicutables/intakeOutput/\n",
    "\n",
    "Urine output is measured in mL/kg.\n",
    "Urine output in mL/ Patient weight in kg."
   ]
  },
  {
   "cell_type": "markdown",
   "metadata": {
    "pycharm": {
     "name": "#%% md\n"
    }
   },
   "source": [
    "#### Reading in lab dataset and keeping relevant columns to our study ."
   ]
  },
  {
   "cell_type": "code",
   "execution_count": 4,
   "metadata": {
    "collapsed": false,
    "jupyter": {
     "outputs_hidden": false
    },
    "pycharm": {
     "is_executing": false,
     "name": "#%%\n"
    }
   },
   "outputs": [
    {
     "data": {
      "text/plain": "        patientunitstayid  intakeoutputoffset  intaketotal  outputtotal  \\\n0                  147307                -394         0.00          0.0   \n1                  147307                -394         0.00          0.0   \n2                  211715                1533       120.00          0.0   \n3                  219981                6504       120.00          0.0   \n4                  158057                 624         0.00          0.0   \n...                   ...                 ...          ...          ...   \n100461            3348409                1930        68.75          0.0   \n100462            3329305                1366       150.00        150.0   \n100463            3346866                2980       480.00        350.0   \n100464            3346866                2980       480.00        350.0   \n100465            3352333                3360         1.00          0.0   \n\n              celllabel  \n0       Bodyweight (lb)  \n1       Bodyweight (kg)  \n2                  P.O.  \n3                  P.O.  \n4       Bodyweight (lb)  \n...                 ...  \n100461     Crystalloids  \n100462     Crystalloids  \n100463             P.O.  \n100464            Urine  \n100465     Crystalloids  \n\n[100466 rows x 5 columns]",
      "text/html": "<div>\n<style scoped>\n    .dataframe tbody tr th:only-of-type {\n        vertical-align: middle;\n    }\n\n    .dataframe tbody tr th {\n        vertical-align: top;\n    }\n\n    .dataframe thead th {\n        text-align: right;\n    }\n</style>\n<table border=\"1\" class=\"dataframe\">\n  <thead>\n    <tr style=\"text-align: right;\">\n      <th></th>\n      <th>patientunitstayid</th>\n      <th>intakeoutputoffset</th>\n      <th>intaketotal</th>\n      <th>outputtotal</th>\n      <th>celllabel</th>\n    </tr>\n  </thead>\n  <tbody>\n    <tr>\n      <td>0</td>\n      <td>147307</td>\n      <td>-394</td>\n      <td>0.00</td>\n      <td>0.0</td>\n      <td>Bodyweight (lb)</td>\n    </tr>\n    <tr>\n      <td>1</td>\n      <td>147307</td>\n      <td>-394</td>\n      <td>0.00</td>\n      <td>0.0</td>\n      <td>Bodyweight (kg)</td>\n    </tr>\n    <tr>\n      <td>2</td>\n      <td>211715</td>\n      <td>1533</td>\n      <td>120.00</td>\n      <td>0.0</td>\n      <td>P.O.</td>\n    </tr>\n    <tr>\n      <td>3</td>\n      <td>219981</td>\n      <td>6504</td>\n      <td>120.00</td>\n      <td>0.0</td>\n      <td>P.O.</td>\n    </tr>\n    <tr>\n      <td>4</td>\n      <td>158057</td>\n      <td>624</td>\n      <td>0.00</td>\n      <td>0.0</td>\n      <td>Bodyweight (lb)</td>\n    </tr>\n    <tr>\n      <td>...</td>\n      <td>...</td>\n      <td>...</td>\n      <td>...</td>\n      <td>...</td>\n      <td>...</td>\n    </tr>\n    <tr>\n      <td>100461</td>\n      <td>3348409</td>\n      <td>1930</td>\n      <td>68.75</td>\n      <td>0.0</td>\n      <td>Crystalloids</td>\n    </tr>\n    <tr>\n      <td>100462</td>\n      <td>3329305</td>\n      <td>1366</td>\n      <td>150.00</td>\n      <td>150.0</td>\n      <td>Crystalloids</td>\n    </tr>\n    <tr>\n      <td>100463</td>\n      <td>3346866</td>\n      <td>2980</td>\n      <td>480.00</td>\n      <td>350.0</td>\n      <td>P.O.</td>\n    </tr>\n    <tr>\n      <td>100464</td>\n      <td>3346866</td>\n      <td>2980</td>\n      <td>480.00</td>\n      <td>350.0</td>\n      <td>Urine</td>\n    </tr>\n    <tr>\n      <td>100465</td>\n      <td>3352333</td>\n      <td>3360</td>\n      <td>1.00</td>\n      <td>0.0</td>\n      <td>Crystalloids</td>\n    </tr>\n  </tbody>\n</table>\n<p>100466 rows × 5 columns</p>\n</div>"
     },
     "metadata": {},
     "output_type": "execute_result",
     "execution_count": 4
    }
   ],
   "source": [
    "columns = ['patientunitstayid', 'intakeoutputoffset', 'intaketotal', 'outputtotal', 'celllabel']\n",
    "intakeOutput = pd.read_csv('../../eICU' + database_type + '/intakeOutput.csv', usecols=columns)\n",
    "intakeOutput"
   ]
  },
  {
   "cell_type": "markdown",
   "metadata": {
    "pycharm": {
     "name": "#%% md\n"
    }
   },
   "source": [
    "#### Reading in cleaned patient data"
   ]
  },
  {
   "cell_type": "code",
   "execution_count": 5,
   "metadata": {
    "collapsed": false,
    "jupyter": {
     "outputs_hidden": false
    },
    "pycharm": {
     "is_executing": false,
     "name": "#%%\n"
    }
   },
   "outputs": [
    {
     "data": {
      "text/plain": "      patientunitstayid  admissionweight\n0                141764            166.5\n1                141765             46.5\n2                143870             77.5\n3                144815             60.3\n4                145427             91.7\n...                 ...              ...\n2515            3351763            134.5\n2516            3352230            127.0\n2517            3352231            127.0\n2518            3352333             68.3\n2519            3353113             88.0\n\n[2520 rows x 2 columns]",
      "text/html": "<div>\n<style scoped>\n    .dataframe tbody tr th:only-of-type {\n        vertical-align: middle;\n    }\n\n    .dataframe tbody tr th {\n        vertical-align: top;\n    }\n\n    .dataframe thead th {\n        text-align: right;\n    }\n</style>\n<table border=\"1\" class=\"dataframe\">\n  <thead>\n    <tr style=\"text-align: right;\">\n      <th></th>\n      <th>patientunitstayid</th>\n      <th>admissionweight</th>\n    </tr>\n  </thead>\n  <tbody>\n    <tr>\n      <td>0</td>\n      <td>141764</td>\n      <td>166.5</td>\n    </tr>\n    <tr>\n      <td>1</td>\n      <td>141765</td>\n      <td>46.5</td>\n    </tr>\n    <tr>\n      <td>2</td>\n      <td>143870</td>\n      <td>77.5</td>\n    </tr>\n    <tr>\n      <td>3</td>\n      <td>144815</td>\n      <td>60.3</td>\n    </tr>\n    <tr>\n      <td>4</td>\n      <td>145427</td>\n      <td>91.7</td>\n    </tr>\n    <tr>\n      <td>...</td>\n      <td>...</td>\n      <td>...</td>\n    </tr>\n    <tr>\n      <td>2515</td>\n      <td>3351763</td>\n      <td>134.5</td>\n    </tr>\n    <tr>\n      <td>2516</td>\n      <td>3352230</td>\n      <td>127.0</td>\n    </tr>\n    <tr>\n      <td>2517</td>\n      <td>3352231</td>\n      <td>127.0</td>\n    </tr>\n    <tr>\n      <td>2518</td>\n      <td>3352333</td>\n      <td>68.3</td>\n    </tr>\n    <tr>\n      <td>2519</td>\n      <td>3353113</td>\n      <td>88.0</td>\n    </tr>\n  </tbody>\n</table>\n<p>2520 rows × 2 columns</p>\n</div>"
     },
     "metadata": {},
     "output_type": "execute_result",
     "execution_count": 5
    }
   ],
   "source": [
    "patient = pd.read_csv('../../eICU/training/patient.csv')\n",
    "patient"
   ]
  },
  {
   "cell_type": "markdown",
   "metadata": {
    "pycharm": {
     "name": "#%% md\n"
    }
   },
   "source": [
    "#### Filtering out reading pertaining to urine output "
   ]
  },
  {
   "cell_type": "code",
   "execution_count": 6,
   "metadata": {
    "collapsed": false,
    "jupyter": {
     "outputs_hidden": false
    },
    "pycharm": {
     "is_executing": false,
     "name": "#%%\n"
    }
   },
   "outputs": [
    {
     "data": {
      "text/plain": "        patientunitstayid  intakeoutputoffset  intaketotal  outputtotal  \\\n11                 176504                1239       771.02        150.0   \n18                 144815                 773         0.00        700.0   \n20                 239655                3010         0.00        300.0   \n21                 167186                -821         0.00        400.0   \n32                 210641                 306         0.00        200.0   \n...                   ...                 ...          ...          ...   \n100448            3352333                 900        75.00         45.0   \n100453            3329305                1366       150.00        150.0   \n100455            3334456                2027       125.00         70.0   \n100459            3348409                1815       125.00        125.0   \n100464            3346866                2980       480.00        350.0   \n\n       celllabel  \n11         Urine  \n18         Urine  \n20         Urine  \n21         Urine  \n32         Urine  \n...          ...  \n100448     Urine  \n100453     Urine  \n100455     Urine  \n100459     Urine  \n100464     Urine  \n\n[33202 rows x 5 columns]",
      "text/html": "<div>\n<style scoped>\n    .dataframe tbody tr th:only-of-type {\n        vertical-align: middle;\n    }\n\n    .dataframe tbody tr th {\n        vertical-align: top;\n    }\n\n    .dataframe thead th {\n        text-align: right;\n    }\n</style>\n<table border=\"1\" class=\"dataframe\">\n  <thead>\n    <tr style=\"text-align: right;\">\n      <th></th>\n      <th>patientunitstayid</th>\n      <th>intakeoutputoffset</th>\n      <th>intaketotal</th>\n      <th>outputtotal</th>\n      <th>celllabel</th>\n    </tr>\n  </thead>\n  <tbody>\n    <tr>\n      <td>11</td>\n      <td>176504</td>\n      <td>1239</td>\n      <td>771.02</td>\n      <td>150.0</td>\n      <td>Urine</td>\n    </tr>\n    <tr>\n      <td>18</td>\n      <td>144815</td>\n      <td>773</td>\n      <td>0.00</td>\n      <td>700.0</td>\n      <td>Urine</td>\n    </tr>\n    <tr>\n      <td>20</td>\n      <td>239655</td>\n      <td>3010</td>\n      <td>0.00</td>\n      <td>300.0</td>\n      <td>Urine</td>\n    </tr>\n    <tr>\n      <td>21</td>\n      <td>167186</td>\n      <td>-821</td>\n      <td>0.00</td>\n      <td>400.0</td>\n      <td>Urine</td>\n    </tr>\n    <tr>\n      <td>32</td>\n      <td>210641</td>\n      <td>306</td>\n      <td>0.00</td>\n      <td>200.0</td>\n      <td>Urine</td>\n    </tr>\n    <tr>\n      <td>...</td>\n      <td>...</td>\n      <td>...</td>\n      <td>...</td>\n      <td>...</td>\n      <td>...</td>\n    </tr>\n    <tr>\n      <td>100448</td>\n      <td>3352333</td>\n      <td>900</td>\n      <td>75.00</td>\n      <td>45.0</td>\n      <td>Urine</td>\n    </tr>\n    <tr>\n      <td>100453</td>\n      <td>3329305</td>\n      <td>1366</td>\n      <td>150.00</td>\n      <td>150.0</td>\n      <td>Urine</td>\n    </tr>\n    <tr>\n      <td>100455</td>\n      <td>3334456</td>\n      <td>2027</td>\n      <td>125.00</td>\n      <td>70.0</td>\n      <td>Urine</td>\n    </tr>\n    <tr>\n      <td>100459</td>\n      <td>3348409</td>\n      <td>1815</td>\n      <td>125.00</td>\n      <td>125.0</td>\n      <td>Urine</td>\n    </tr>\n    <tr>\n      <td>100464</td>\n      <td>3346866</td>\n      <td>2980</td>\n      <td>480.00</td>\n      <td>350.0</td>\n      <td>Urine</td>\n    </tr>\n  </tbody>\n</table>\n<p>33202 rows × 5 columns</p>\n</div>"
     },
     "metadata": {},
     "output_type": "execute_result",
     "execution_count": 6
    }
   ],
   "source": [
    "intakeOutputUrine = intakeOutput.loc[(intakeOutput['celllabel'].str.contains(\"Urine\"))]\n",
    "intakeOutputUrine"
   ]
  },
  {
   "cell_type": "markdown",
   "metadata": {
    "pycharm": {
     "name": "#%% md\n"
    }
   },
   "source": [
    "#### Merging on patient table to get patient weight"
   ]
  },
  {
   "cell_type": "code",
   "execution_count": 7,
   "metadata": {
    "collapsed": false,
    "jupyter": {
     "outputs_hidden": false
    },
    "pycharm": {
     "is_executing": false,
     "name": "#%%\n"
    }
   },
   "outputs": [],
   "source": [
    "intakeOutputUrine = pd.DataFrame.merge(patient, intakeOutputUrine, on='patientunitstayid')"
   ]
  },
  {
   "cell_type": "markdown",
   "metadata": {
    "pycharm": {
     "name": "#%% md\n"
    }
   },
   "source": [
    "#### Calculating patient urine output by diving urine output in mL by the patient weight"
   ]
  },
  {
   "cell_type": "code",
   "execution_count": 8,
   "metadata": {
    "collapsed": false,
    "jupyter": {
     "outputs_hidden": false
    },
    "pycharm": {
     "is_executing": false,
     "name": "#%%\n"
    }
   },
   "outputs": [],
   "source": [
    "intakeOutputUrine['urineoutputbyweight'] = intakeOutputUrine.apply(lambda x: x['outputtotal'] / x['admissionweight'], axis=1)"
   ]
  },
  {
   "cell_type": "markdown",
   "metadata": {
    "pycharm": {
     "name": "#%% md\n"
    }
   },
   "source": [
    "#### Dropping irrelevant columns to study."
   ]
  },
  {
   "cell_type": "code",
   "execution_count": 9,
   "metadata": {
    "collapsed": false,
    "jupyter": {
     "outputs_hidden": false
    },
    "pycharm": {
     "is_executing": false,
     "name": "#%%\n"
    }
   },
   "outputs": [
    {
     "data": {
      "text/plain": "       patientunitstayid  intakeoutputoffset  urineoutputbyweight\n0                 141764                 -14             3.003003\n1                 141765                1401            12.903226\n2                 141765                 556            10.752688\n3                 141765                1936            10.752688\n4                 141765                2056            11.827957\n...                  ...                 ...                  ...\n33197            3353113                1869             2.556818\n33198            3353113                1089             0.284091\n33199            3353113                2169             1.136364\n33200            3353113                2109             1.363636\n33201            3353113                1689             0.340909\n\n[33202 rows x 3 columns]",
      "text/html": "<div>\n<style scoped>\n    .dataframe tbody tr th:only-of-type {\n        vertical-align: middle;\n    }\n\n    .dataframe tbody tr th {\n        vertical-align: top;\n    }\n\n    .dataframe thead th {\n        text-align: right;\n    }\n</style>\n<table border=\"1\" class=\"dataframe\">\n  <thead>\n    <tr style=\"text-align: right;\">\n      <th></th>\n      <th>patientunitstayid</th>\n      <th>intakeoutputoffset</th>\n      <th>urineoutputbyweight</th>\n    </tr>\n  </thead>\n  <tbody>\n    <tr>\n      <td>0</td>\n      <td>141764</td>\n      <td>-14</td>\n      <td>3.003003</td>\n    </tr>\n    <tr>\n      <td>1</td>\n      <td>141765</td>\n      <td>1401</td>\n      <td>12.903226</td>\n    </tr>\n    <tr>\n      <td>2</td>\n      <td>141765</td>\n      <td>556</td>\n      <td>10.752688</td>\n    </tr>\n    <tr>\n      <td>3</td>\n      <td>141765</td>\n      <td>1936</td>\n      <td>10.752688</td>\n    </tr>\n    <tr>\n      <td>4</td>\n      <td>141765</td>\n      <td>2056</td>\n      <td>11.827957</td>\n    </tr>\n    <tr>\n      <td>...</td>\n      <td>...</td>\n      <td>...</td>\n      <td>...</td>\n    </tr>\n    <tr>\n      <td>33197</td>\n      <td>3353113</td>\n      <td>1869</td>\n      <td>2.556818</td>\n    </tr>\n    <tr>\n      <td>33198</td>\n      <td>3353113</td>\n      <td>1089</td>\n      <td>0.284091</td>\n    </tr>\n    <tr>\n      <td>33199</td>\n      <td>3353113</td>\n      <td>2169</td>\n      <td>1.136364</td>\n    </tr>\n    <tr>\n      <td>33200</td>\n      <td>3353113</td>\n      <td>2109</td>\n      <td>1.363636</td>\n    </tr>\n    <tr>\n      <td>33201</td>\n      <td>3353113</td>\n      <td>1689</td>\n      <td>0.340909</td>\n    </tr>\n  </tbody>\n</table>\n<p>33202 rows × 3 columns</p>\n</div>"
     },
     "metadata": {},
     "output_type": "execute_result",
     "execution_count": 9
    }
   ],
   "source": [
    "intakeOutputUrine = intakeOutputUrine[['patientunitstayid','intakeoutputoffset', 'urineoutputbyweight']]\n",
    "intakeOutputUrine.drop_duplicates()\n",
    "intakeOutputUrine"
   ]
  },
  {
   "cell_type": "markdown",
   "metadata": {},
   "source": [
    "#### Saving the intakeOutputUrine DataFrame to a `csv` file"
   ]
  },
  {
   "cell_type": "code",
   "execution_count": 10,
   "metadata": {
    "collapsed": false,
    "jupyter": {
     "outputs_hidden": false
    },
    "pycharm": {
     "is_executing": false,
     "name": "#%%\n"
    }
   },
   "outputs": [],
   "source": [
    "path = \"../../eICU/training/\"\n",
    "intakeOutputUrine.to_csv(path + \"intakeOutputUrine.csv\", sep=',', index=False, encoding='utf-8')\n"
   ]
  }
 ],
 "metadata": {
  "kernelspec": {
   "display_name": "Python 3",
   "language": "python",
   "name": "python3"
  },
  "language_info": {
   "codemirror_mode": {
    "name": "ipython",
    "version": 3
   },
   "file_extension": ".py",
   "mimetype": "text/x-python",
   "name": "python",
   "nbconvert_exporter": "python",
   "pygments_lexer": "ipython3",
   "version": "3.7.4"
  },
  "pycharm": {
   "stem_cell": {
    "cell_type": "raw",
    "source": [],
    "metadata": {
     "collapsed": false
    }
   }
  }
 },
 "nbformat": 4,
 "nbformat_minor": 4
}