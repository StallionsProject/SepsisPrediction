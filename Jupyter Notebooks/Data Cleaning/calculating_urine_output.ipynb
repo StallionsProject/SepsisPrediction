{
 "cells": [
  {
   "cell_type": "code",
   "execution_count": 1,
   "metadata": {
    "jupyter": {
     "outputs_hidden": false
    },
    "pycharm": {
     "name": "#%%\n"
    }
   },
   "outputs": [],
   "source": [
    "import pandas as pd"
   ]
  },
  {
   "cell_type": "code",
   "execution_count": 2,
   "metadata": {
    "jupyter": {
     "outputs_hidden": false
    },
    "pycharm": {
     "name": "#%%\n"
    }
   },
   "outputs": [],
   "source": [
    "database_type = \"/full\""
   ]
  },
  {
   "cell_type": "markdown",
   "metadata": {},
   "source": [
    "The `intakeOutput` table provides Intake and output recorded for patients entered from the nursing flowsheet.\n",
    "See: http://eicu-crd.mit.edu/eicutables/intakeOutput/\n",
    "\n",
    "Urine output is measured in mL/kg.\n",
    "Urine output in mL/ Patient weight in kg."
   ]
  },
  {
   "cell_type": "markdown",
   "metadata": {
    "pycharm": {
     "name": "#%% md\n"
    }
   },
   "source": [
    "#### Reading in lab dataset and keeping relevant columns to our study ."
   ]
  },
  {
   "cell_type": "code",
   "execution_count": 3,
   "metadata": {
    "jupyter": {
     "outputs_hidden": false
    },
    "pycharm": {
     "name": "#%%\n"
    }
   },
   "outputs": [
    {
     "data": {
      "text/plain": "          patientunitstayid  intakeoutputoffset  intaketotal  outputtotal  \\\n0                    205505                 661         0.00          0.0   \n1                    205505                 661         0.00          0.0   \n2                    150708                3523       727.00          0.0   \n3                    150708                3523       727.00          0.0   \n4                    158159               24801       120.00          0.0   \n...                     ...                 ...          ...          ...   \n12030284            3335854                1140       152.10          0.0   \n12030285            3334548                 766       340.00        350.0   \n12030286            3330152                5102       300.00          0.0   \n12030287            3327194                3834       101.18         55.0   \n12030288            3327194                3834       101.18         55.0   \n\n                                                  celllabel  \n0                                           Bodyweight (lb)  \n1                                           Bodyweight (kg)  \n2                                                      P.O.  \n3         Volume (mL)-sodium chloride 0.9 % flush IVPB 5...  \n4                                                      P.O.  \n...                                                     ...  \n12030284                                       Crystalloids  \n12030285                                       Crystalloids  \n12030286                                    Nutrition Total  \n12030287                                       Crystalloids  \n12030288                                    OtherDrainTotal  \n\n[12030289 rows x 5 columns]",
      "text/html": "<div>\n<style scoped>\n    .dataframe tbody tr th:only-of-type {\n        vertical-align: middle;\n    }\n\n    .dataframe tbody tr th {\n        vertical-align: top;\n    }\n\n    .dataframe thead th {\n        text-align: right;\n    }\n</style>\n<table border=\"1\" class=\"dataframe\">\n  <thead>\n    <tr style=\"text-align: right;\">\n      <th></th>\n      <th>patientunitstayid</th>\n      <th>intakeoutputoffset</th>\n      <th>intaketotal</th>\n      <th>outputtotal</th>\n      <th>celllabel</th>\n    </tr>\n  </thead>\n  <tbody>\n    <tr>\n      <td>0</td>\n      <td>205505</td>\n      <td>661</td>\n      <td>0.00</td>\n      <td>0.0</td>\n      <td>Bodyweight (lb)</td>\n    </tr>\n    <tr>\n      <td>1</td>\n      <td>205505</td>\n      <td>661</td>\n      <td>0.00</td>\n      <td>0.0</td>\n      <td>Bodyweight (kg)</td>\n    </tr>\n    <tr>\n      <td>2</td>\n      <td>150708</td>\n      <td>3523</td>\n      <td>727.00</td>\n      <td>0.0</td>\n      <td>P.O.</td>\n    </tr>\n    <tr>\n      <td>3</td>\n      <td>150708</td>\n      <td>3523</td>\n      <td>727.00</td>\n      <td>0.0</td>\n      <td>Volume (mL)-sodium chloride 0.9 % flush IVPB 5...</td>\n    </tr>\n    <tr>\n      <td>4</td>\n      <td>158159</td>\n      <td>24801</td>\n      <td>120.00</td>\n      <td>0.0</td>\n      <td>P.O.</td>\n    </tr>\n    <tr>\n      <td>...</td>\n      <td>...</td>\n      <td>...</td>\n      <td>...</td>\n      <td>...</td>\n      <td>...</td>\n    </tr>\n    <tr>\n      <td>12030284</td>\n      <td>3335854</td>\n      <td>1140</td>\n      <td>152.10</td>\n      <td>0.0</td>\n      <td>Crystalloids</td>\n    </tr>\n    <tr>\n      <td>12030285</td>\n      <td>3334548</td>\n      <td>766</td>\n      <td>340.00</td>\n      <td>350.0</td>\n      <td>Crystalloids</td>\n    </tr>\n    <tr>\n      <td>12030286</td>\n      <td>3330152</td>\n      <td>5102</td>\n      <td>300.00</td>\n      <td>0.0</td>\n      <td>Nutrition Total</td>\n    </tr>\n    <tr>\n      <td>12030287</td>\n      <td>3327194</td>\n      <td>3834</td>\n      <td>101.18</td>\n      <td>55.0</td>\n      <td>Crystalloids</td>\n    </tr>\n    <tr>\n      <td>12030288</td>\n      <td>3327194</td>\n      <td>3834</td>\n      <td>101.18</td>\n      <td>55.0</td>\n      <td>OtherDrainTotal</td>\n    </tr>\n  </tbody>\n</table>\n<p>12030289 rows × 5 columns</p>\n</div>"
     },
     "execution_count": 3,
     "metadata": {},
     "output_type": "execute_result"
    }
   ],
   "source": [
    "columns = ['patientunitstayid', 'intakeoutputoffset', 'intaketotal', 'outputtotal', 'celllabel']\n",
    "intakeOutput = pd.read_csv('../../eICU' + database_type + '/intakeOutput.csv', usecols=columns)\n",
    "intakeOutput"
   ]
  },
  {
   "cell_type": "code",
   "execution_count": 4,
   "outputs": [],
   "source": [
    "patientIds = pd.read_csv('../../eICU' + '/training' + '/patientIds.csv')\n",
    "patientIds = patientIds['patientunitstayid'].tolist()"
   ],
   "metadata": {
    "collapsed": false,
    "pycharm": {
     "name": "#%%\n"
    }
   }
  },
  {
   "cell_type": "code",
   "execution_count": 5,
   "outputs": [
    {
     "data": {
      "text/plain": "          patientunitstayid  intakeoutputoffset  intaketotal  outputtotal  \\\n2                    150708                3523       727.00          0.0   \n3                    150708                3523       727.00          0.0   \n17                   178592                4211       240.00          0.0   \n18                   153118               20506         0.00        300.0   \n22                   216156               13810         0.00        151.0   \n...                     ...                 ...          ...          ...   \n12030277            3336512                1710       100.00        230.0   \n12030278            3336512                1710       100.00        230.0   \n12030279            3347200               12668         0.00        750.0   \n12030287            3327194                3834       101.18         55.0   \n12030288            3327194                3834       101.18         55.0   \n\n                                                  celllabel  \n2                                                      P.O.  \n3         Volume (mL)-sodium chloride 0.9 % flush IVPB 5...  \n17                                                     P.O.  \n18                             Output (ml)-Nephrostomy Left  \n22        EVD Output (ml)-ICP/External Ventricular Drain...  \n...                                                     ...  \n12030277                                       Crystalloids  \n12030278                                              Urine  \n12030279                                              Urine  \n12030287                                       Crystalloids  \n12030288                                    OtherDrainTotal  \n\n[3888581 rows x 5 columns]",
      "text/html": "<div>\n<style scoped>\n    .dataframe tbody tr th:only-of-type {\n        vertical-align: middle;\n    }\n\n    .dataframe tbody tr th {\n        vertical-align: top;\n    }\n\n    .dataframe thead th {\n        text-align: right;\n    }\n</style>\n<table border=\"1\" class=\"dataframe\">\n  <thead>\n    <tr style=\"text-align: right;\">\n      <th></th>\n      <th>patientunitstayid</th>\n      <th>intakeoutputoffset</th>\n      <th>intaketotal</th>\n      <th>outputtotal</th>\n      <th>celllabel</th>\n    </tr>\n  </thead>\n  <tbody>\n    <tr>\n      <td>2</td>\n      <td>150708</td>\n      <td>3523</td>\n      <td>727.00</td>\n      <td>0.0</td>\n      <td>P.O.</td>\n    </tr>\n    <tr>\n      <td>3</td>\n      <td>150708</td>\n      <td>3523</td>\n      <td>727.00</td>\n      <td>0.0</td>\n      <td>Volume (mL)-sodium chloride 0.9 % flush IVPB 5...</td>\n    </tr>\n    <tr>\n      <td>17</td>\n      <td>178592</td>\n      <td>4211</td>\n      <td>240.00</td>\n      <td>0.0</td>\n      <td>P.O.</td>\n    </tr>\n    <tr>\n      <td>18</td>\n      <td>153118</td>\n      <td>20506</td>\n      <td>0.00</td>\n      <td>300.0</td>\n      <td>Output (ml)-Nephrostomy Left</td>\n    </tr>\n    <tr>\n      <td>22</td>\n      <td>216156</td>\n      <td>13810</td>\n      <td>0.00</td>\n      <td>151.0</td>\n      <td>EVD Output (ml)-ICP/External Ventricular Drain...</td>\n    </tr>\n    <tr>\n      <td>...</td>\n      <td>...</td>\n      <td>...</td>\n      <td>...</td>\n      <td>...</td>\n      <td>...</td>\n    </tr>\n    <tr>\n      <td>12030277</td>\n      <td>3336512</td>\n      <td>1710</td>\n      <td>100.00</td>\n      <td>230.0</td>\n      <td>Crystalloids</td>\n    </tr>\n    <tr>\n      <td>12030278</td>\n      <td>3336512</td>\n      <td>1710</td>\n      <td>100.00</td>\n      <td>230.0</td>\n      <td>Urine</td>\n    </tr>\n    <tr>\n      <td>12030279</td>\n      <td>3347200</td>\n      <td>12668</td>\n      <td>0.00</td>\n      <td>750.0</td>\n      <td>Urine</td>\n    </tr>\n    <tr>\n      <td>12030287</td>\n      <td>3327194</td>\n      <td>3834</td>\n      <td>101.18</td>\n      <td>55.0</td>\n      <td>Crystalloids</td>\n    </tr>\n    <tr>\n      <td>12030288</td>\n      <td>3327194</td>\n      <td>3834</td>\n      <td>101.18</td>\n      <td>55.0</td>\n      <td>OtherDrainTotal</td>\n    </tr>\n  </tbody>\n</table>\n<p>3888581 rows × 5 columns</p>\n</div>"
     },
     "execution_count": 5,
     "metadata": {},
     "output_type": "execute_result"
    }
   ],
   "source": [
    "intakeOutput = intakeOutput.loc[intakeOutput['patientunitstayid'].isin(patientIds)]\n",
    "intakeOutput"
   ],
   "metadata": {
    "collapsed": false,
    "pycharm": {
     "name": "#%%\n"
    }
   }
  },
  {
   "cell_type": "code",
   "execution_count": 6,
   "outputs": [
    {
     "data": {
      "text/plain": "       patientunitstayid\n0                 150708\n1                 178592\n2                 153118\n3                 216156\n4                 214103\n...                  ...\n40044            3327254\n40045            3353038\n40046            3337644\n40047            3329996\n40048            3332812\n\n[40049 rows x 1 columns]",
      "text/html": "<div>\n<style scoped>\n    .dataframe tbody tr th:only-of-type {\n        vertical-align: middle;\n    }\n\n    .dataframe tbody tr th {\n        vertical-align: top;\n    }\n\n    .dataframe thead th {\n        text-align: right;\n    }\n</style>\n<table border=\"1\" class=\"dataframe\">\n  <thead>\n    <tr style=\"text-align: right;\">\n      <th></th>\n      <th>patientunitstayid</th>\n    </tr>\n  </thead>\n  <tbody>\n    <tr>\n      <td>0</td>\n      <td>150708</td>\n    </tr>\n    <tr>\n      <td>1</td>\n      <td>178592</td>\n    </tr>\n    <tr>\n      <td>2</td>\n      <td>153118</td>\n    </tr>\n    <tr>\n      <td>3</td>\n      <td>216156</td>\n    </tr>\n    <tr>\n      <td>4</td>\n      <td>214103</td>\n    </tr>\n    <tr>\n      <td>...</td>\n      <td>...</td>\n    </tr>\n    <tr>\n      <td>40044</td>\n      <td>3327254</td>\n    </tr>\n    <tr>\n      <td>40045</td>\n      <td>3353038</td>\n    </tr>\n    <tr>\n      <td>40046</td>\n      <td>3337644</td>\n    </tr>\n    <tr>\n      <td>40047</td>\n      <td>3329996</td>\n    </tr>\n    <tr>\n      <td>40048</td>\n      <td>3332812</td>\n    </tr>\n  </tbody>\n</table>\n<p>40049 rows × 1 columns</p>\n</div>"
     },
     "execution_count": 6,
     "metadata": {},
     "output_type": "execute_result"
    }
   ],
   "source": [
    "newPatientIds = pd.DataFrame(intakeOutput['patientunitstayid'].unique())\n",
    "newPatientIds.rename(columns={0: 'patientunitstayid'}, inplace=True)\n",
    "newPatientIds"
   ],
   "metadata": {
    "collapsed": false,
    "pycharm": {
     "name": "#%%\n"
    }
   }
  },
  {
   "cell_type": "code",
   "execution_count": 7,
   "outputs": [],
   "source": [
    "path = \"../../eICU/training/\"\n",
    "newPatientIds.to_csv(path + \"patientIds.csv\", sep=',', index=False, encoding='utf-8')"
   ],
   "metadata": {
    "collapsed": false,
    "pycharm": {
     "name": "#%%\n"
    }
   }
  },
  {
   "cell_type": "markdown",
   "metadata": {
    "pycharm": {
     "name": "#%% md\n"
    }
   },
   "source": [
    "#### Reading in cleaned patient data"
   ]
  },
  {
   "cell_type": "code",
   "execution_count": 8,
   "metadata": {
    "jupyter": {
     "outputs_hidden": false
    },
    "pycharm": {
     "name": "#%%\n"
    }
   },
   "outputs": [
    {
     "data": {
      "text/plain": "       patientunitstayid  admissionweight\n0                 141227             82.2\n1                 141288            166.5\n2                 141289            166.5\n3                 141297            194.7\n4                 141304            194.7\n...                  ...              ...\n43894            3353177             64.9\n43895            3353184             46.7\n43896            3353197             71.5\n43897            3353199             71.5\n43898            3353251            102.0\n\n[43899 rows x 2 columns]",
      "text/html": "<div>\n<style scoped>\n    .dataframe tbody tr th:only-of-type {\n        vertical-align: middle;\n    }\n\n    .dataframe tbody tr th {\n        vertical-align: top;\n    }\n\n    .dataframe thead th {\n        text-align: right;\n    }\n</style>\n<table border=\"1\" class=\"dataframe\">\n  <thead>\n    <tr style=\"text-align: right;\">\n      <th></th>\n      <th>patientunitstayid</th>\n      <th>admissionweight</th>\n    </tr>\n  </thead>\n  <tbody>\n    <tr>\n      <td>0</td>\n      <td>141227</td>\n      <td>82.2</td>\n    </tr>\n    <tr>\n      <td>1</td>\n      <td>141288</td>\n      <td>166.5</td>\n    </tr>\n    <tr>\n      <td>2</td>\n      <td>141289</td>\n      <td>166.5</td>\n    </tr>\n    <tr>\n      <td>3</td>\n      <td>141297</td>\n      <td>194.7</td>\n    </tr>\n    <tr>\n      <td>4</td>\n      <td>141304</td>\n      <td>194.7</td>\n    </tr>\n    <tr>\n      <td>...</td>\n      <td>...</td>\n      <td>...</td>\n    </tr>\n    <tr>\n      <td>43894</td>\n      <td>3353177</td>\n      <td>64.9</td>\n    </tr>\n    <tr>\n      <td>43895</td>\n      <td>3353184</td>\n      <td>46.7</td>\n    </tr>\n    <tr>\n      <td>43896</td>\n      <td>3353197</td>\n      <td>71.5</td>\n    </tr>\n    <tr>\n      <td>43897</td>\n      <td>3353199</td>\n      <td>71.5</td>\n    </tr>\n    <tr>\n      <td>43898</td>\n      <td>3353251</td>\n      <td>102.0</td>\n    </tr>\n  </tbody>\n</table>\n<p>43899 rows × 2 columns</p>\n</div>"
     },
     "execution_count": 8,
     "metadata": {},
     "output_type": "execute_result"
    }
   ],
   "source": [
    "patient = pd.read_csv('../../eICU/training/patient.csv')\n",
    "patient"
   ]
  },
  {
   "cell_type": "markdown",
   "metadata": {
    "pycharm": {
     "name": "#%% md\n"
    }
   },
   "source": [
    "#### Filtering out reading pertaining to urine output "
   ]
  },
  {
   "cell_type": "code",
   "execution_count": 9,
   "metadata": {
    "jupyter": {
     "outputs_hidden": false
    },
    "pycharm": {
     "name": "#%%\n"
    }
   },
   "outputs": [
    {
     "data": {
      "text/plain": "          patientunitstayid  intakeoutputoffset  intaketotal  outputtotal  \\\n89                   201456               -1472        120.0        300.0   \n105                  236993                2714          0.0        100.0   \n116                  158074                 924          0.0        200.0   \n123                  214017                1554          0.0        100.0   \n175                  181491                 769          0.0        280.0   \n...                     ...                 ...          ...          ...   \n12030240            3341064               34163        168.0         15.0   \n12030252            3331141                2841          0.0         90.0   \n12030260            3343420               13681          0.0        225.0   \n12030278            3336512                1710        100.0        230.0   \n12030279            3347200               12668          0.0        750.0   \n\n         celllabel  \n89           Urine  \n105          Urine  \n116          Urine  \n123          Urine  \n175          Urine  \n...            ...  \n12030240     Urine  \n12030252     Urine  \n12030260     Urine  \n12030278     Urine  \n12030279     Urine  \n\n[941335 rows x 5 columns]",
      "text/html": "<div>\n<style scoped>\n    .dataframe tbody tr th:only-of-type {\n        vertical-align: middle;\n    }\n\n    .dataframe tbody tr th {\n        vertical-align: top;\n    }\n\n    .dataframe thead th {\n        text-align: right;\n    }\n</style>\n<table border=\"1\" class=\"dataframe\">\n  <thead>\n    <tr style=\"text-align: right;\">\n      <th></th>\n      <th>patientunitstayid</th>\n      <th>intakeoutputoffset</th>\n      <th>intaketotal</th>\n      <th>outputtotal</th>\n      <th>celllabel</th>\n    </tr>\n  </thead>\n  <tbody>\n    <tr>\n      <td>89</td>\n      <td>201456</td>\n      <td>-1472</td>\n      <td>120.0</td>\n      <td>300.0</td>\n      <td>Urine</td>\n    </tr>\n    <tr>\n      <td>105</td>\n      <td>236993</td>\n      <td>2714</td>\n      <td>0.0</td>\n      <td>100.0</td>\n      <td>Urine</td>\n    </tr>\n    <tr>\n      <td>116</td>\n      <td>158074</td>\n      <td>924</td>\n      <td>0.0</td>\n      <td>200.0</td>\n      <td>Urine</td>\n    </tr>\n    <tr>\n      <td>123</td>\n      <td>214017</td>\n      <td>1554</td>\n      <td>0.0</td>\n      <td>100.0</td>\n      <td>Urine</td>\n    </tr>\n    <tr>\n      <td>175</td>\n      <td>181491</td>\n      <td>769</td>\n      <td>0.0</td>\n      <td>280.0</td>\n      <td>Urine</td>\n    </tr>\n    <tr>\n      <td>...</td>\n      <td>...</td>\n      <td>...</td>\n      <td>...</td>\n      <td>...</td>\n      <td>...</td>\n    </tr>\n    <tr>\n      <td>12030240</td>\n      <td>3341064</td>\n      <td>34163</td>\n      <td>168.0</td>\n      <td>15.0</td>\n      <td>Urine</td>\n    </tr>\n    <tr>\n      <td>12030252</td>\n      <td>3331141</td>\n      <td>2841</td>\n      <td>0.0</td>\n      <td>90.0</td>\n      <td>Urine</td>\n    </tr>\n    <tr>\n      <td>12030260</td>\n      <td>3343420</td>\n      <td>13681</td>\n      <td>0.0</td>\n      <td>225.0</td>\n      <td>Urine</td>\n    </tr>\n    <tr>\n      <td>12030278</td>\n      <td>3336512</td>\n      <td>1710</td>\n      <td>100.0</td>\n      <td>230.0</td>\n      <td>Urine</td>\n    </tr>\n    <tr>\n      <td>12030279</td>\n      <td>3347200</td>\n      <td>12668</td>\n      <td>0.0</td>\n      <td>750.0</td>\n      <td>Urine</td>\n    </tr>\n  </tbody>\n</table>\n<p>941335 rows × 5 columns</p>\n</div>"
     },
     "execution_count": 9,
     "metadata": {},
     "output_type": "execute_result"
    }
   ],
   "source": [
    "intakeOutputUrine = intakeOutput.loc[(intakeOutput['celllabel'].str.contains(\"Urine\"))]\n",
    "intakeOutputUrine"
   ]
  },
  {
   "cell_type": "markdown",
   "metadata": {
    "pycharm": {
     "name": "#%% md\n"
    }
   },
   "source": [
    "#### Merging on patient table to get patient weight"
   ]
  },
  {
   "cell_type": "code",
   "execution_count": 10,
   "metadata": {
    "jupyter": {
     "outputs_hidden": false
    },
    "pycharm": {
     "name": "#%%\n"
    }
   },
   "outputs": [],
   "source": [
    "intakeOutputUrine = pd.DataFrame.merge(patient, intakeOutputUrine, on='patientunitstayid')"
   ]
  },
  {
   "cell_type": "markdown",
   "metadata": {
    "pycharm": {
     "name": "#%% md\n"
    }
   },
   "source": [
    "#### Calculating patient urine output by diving urine output in mL by the patient weight"
   ]
  },
  {
   "cell_type": "code",
   "execution_count": 11,
   "metadata": {
    "jupyter": {
     "outputs_hidden": false
    },
    "pycharm": {
     "name": "#%%\n"
    }
   },
   "outputs": [],
   "source": [
    "intakeOutputUrine['urineoutputbyweight'] = intakeOutputUrine.apply(lambda x: x['outputtotal'] / x['admissionweight'], axis=1)"
   ]
  },
  {
   "cell_type": "markdown",
   "metadata": {
    "pycharm": {
     "name": "#%% md\n"
    }
   },
   "source": [
    "#### Dropping irrelevant columns to study."
   ]
  },
  {
   "cell_type": "code",
   "execution_count": 12,
   "metadata": {
    "jupyter": {
     "outputs_hidden": false
    },
    "pycharm": {
     "name": "#%%\n"
    }
   },
   "outputs": [
    {
     "data": {
      "text/plain": "        patientunitstayid  intakeoutputoffset  urineoutputbyweight\n0                  141227               -1893             2.433090\n1                  141227               -1663             2.433090\n2                  141227               -1773             2.433090\n3                  141227               -1351             2.433090\n4                  141288                2737             6.006006\n...                   ...                 ...                  ...\n941330            3353251               13543             1.078431\n941331            3353251               12163             0.735294\n941332            3353251                4363             3.431373\n941333            3353251                3223             0.343137\n941334            3353251               12223             0.735294\n\n[940979 rows x 3 columns]",
      "text/html": "<div>\n<style scoped>\n    .dataframe tbody tr th:only-of-type {\n        vertical-align: middle;\n    }\n\n    .dataframe tbody tr th {\n        vertical-align: top;\n    }\n\n    .dataframe thead th {\n        text-align: right;\n    }\n</style>\n<table border=\"1\" class=\"dataframe\">\n  <thead>\n    <tr style=\"text-align: right;\">\n      <th></th>\n      <th>patientunitstayid</th>\n      <th>intakeoutputoffset</th>\n      <th>urineoutputbyweight</th>\n    </tr>\n  </thead>\n  <tbody>\n    <tr>\n      <td>0</td>\n      <td>141227</td>\n      <td>-1893</td>\n      <td>2.433090</td>\n    </tr>\n    <tr>\n      <td>1</td>\n      <td>141227</td>\n      <td>-1663</td>\n      <td>2.433090</td>\n    </tr>\n    <tr>\n      <td>2</td>\n      <td>141227</td>\n      <td>-1773</td>\n      <td>2.433090</td>\n    </tr>\n    <tr>\n      <td>3</td>\n      <td>141227</td>\n      <td>-1351</td>\n      <td>2.433090</td>\n    </tr>\n    <tr>\n      <td>4</td>\n      <td>141288</td>\n      <td>2737</td>\n      <td>6.006006</td>\n    </tr>\n    <tr>\n      <td>...</td>\n      <td>...</td>\n      <td>...</td>\n      <td>...</td>\n    </tr>\n    <tr>\n      <td>941330</td>\n      <td>3353251</td>\n      <td>13543</td>\n      <td>1.078431</td>\n    </tr>\n    <tr>\n      <td>941331</td>\n      <td>3353251</td>\n      <td>12163</td>\n      <td>0.735294</td>\n    </tr>\n    <tr>\n      <td>941332</td>\n      <td>3353251</td>\n      <td>4363</td>\n      <td>3.431373</td>\n    </tr>\n    <tr>\n      <td>941333</td>\n      <td>3353251</td>\n      <td>3223</td>\n      <td>0.343137</td>\n    </tr>\n    <tr>\n      <td>941334</td>\n      <td>3353251</td>\n      <td>12223</td>\n      <td>0.735294</td>\n    </tr>\n  </tbody>\n</table>\n<p>940979 rows × 3 columns</p>\n</div>"
     },
     "execution_count": 12,
     "metadata": {},
     "output_type": "execute_result"
    }
   ],
   "source": [
    "intakeOutputUrine = intakeOutputUrine[['patientunitstayid','intakeoutputoffset', 'urineoutputbyweight']]\n",
    "intakeOutputUrine = intakeOutputUrine.drop_duplicates()\n",
    "intakeOutputUrine"
   ]
  },
  {
   "cell_type": "markdown",
   "metadata": {},
   "source": [
    "#### Saving the intakeOutputUrine DataFrame to a `csv` file"
   ]
  },
  {
   "cell_type": "code",
   "execution_count": 13,
   "metadata": {
    "jupyter": {
     "outputs_hidden": false
    },
    "pycharm": {
     "name": "#%%\n"
    }
   },
   "outputs": [],
   "source": [
    "path = \"../../eICU/training/\"\n",
    "intakeOutputUrine.to_csv(path + \"intakeOutputUrine.csv\", sep=',', index=False, encoding='utf-8')"
   ]
  }
 ],
 "metadata": {
  "kernelspec": {
   "display_name": "Python 3",
   "language": "python",
   "name": "python3"
  },
  "language_info": {
   "codemirror_mode": {
    "name": "ipython",
    "version": 3
   },
   "file_extension": ".py",
   "mimetype": "text/x-python",
   "name": "python",
   "nbconvert_exporter": "python",
   "pygments_lexer": "ipython3",
   "version": "3.6.9"
  }
 },
 "nbformat": 4,
 "nbformat_minor": 4
}