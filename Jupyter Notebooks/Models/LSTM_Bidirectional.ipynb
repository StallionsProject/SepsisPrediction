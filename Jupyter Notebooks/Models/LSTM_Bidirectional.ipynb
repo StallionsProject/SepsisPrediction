{
 "cells": [
  {
   "cell_type": "code",
   "execution_count": 1,
   "metadata": {
    "colab": {
     "base_uri": "https://localhost:8080/",
     "height": 34
    },
    "colab_type": "code",
    "executionInfo": {
     "elapsed": 788,
     "status": "ok",
     "timestamp": 1585006914709,
     "user": {
      "displayName": "Sanjay Santokee",
      "photoUrl": "https://lh3.googleusercontent.com/a-/AOh14GhqDug-Fb8yTQhdQLkG95pLTG6u5zKa38-aSHB89Q=s64",
      "userId": "10907220550417657633"
     },
     "user_tz": 180
    },
    "id": "D1J15Vh_1Jih",
    "outputId": "c30e86fa-00ef-49e8-edd5-3e08160a00c9"
   },
   "outputs": [
    {
     "name": "stdout",
     "output_type": "stream",
     "text": [
      "TensorFlow 2.x selected.\n"
     ]
    }
   ],
   "source": [
    "try:\n",
    "  # %tensorflow_version only exists in Colab.\n",
    "  %tensorflow_version 2.x\n",
    "except Exception:\n",
    "  pass\n"
   ]
  },
  {
   "cell_type": "code",
   "execution_count": 2,
   "metadata": {
    "colab": {
     "base_uri": "https://localhost:8080/",
     "height": 34
    },
    "colab_type": "code",
    "executionInfo": {
     "elapsed": 2555,
     "status": "ok",
     "timestamp": 1585006916515,
     "user": {
      "displayName": "Sanjay Santokee",
      "photoUrl": "https://lh3.googleusercontent.com/a-/AOh14GhqDug-Fb8yTQhdQLkG95pLTG6u5zKa38-aSHB89Q=s64",
      "userId": "10907220550417657633"
     },
     "user_tz": 180
    },
    "id": "BOjujz601HcS",
    "outputId": "54f9881f-5423-442a-8cf1-1812b65ee7d7"
   },
   "outputs": [
    {
     "name": "stdout",
     "output_type": "stream",
     "text": [
      "2.1.0\n"
     ]
    }
   ],
   "source": [
    "import tensorflow as tf\n",
    "import numpy as np\n",
    "import matplotlib.pyplot as plt\n",
    "print(tf.__version__)"
   ]
  },
  {
   "cell_type": "code",
   "execution_count": null,
   "metadata": {
    "colab": {},
    "colab_type": "code",
    "id": "Zswl7jRtGzkk"
   },
   "outputs": [],
   "source": [
    "def plot_series(time, series, format=\"-\", start=0, end=None):\n",
    "    plt.plot(time[start:end], series[start:end], format)\n",
    "    plt.xlabel(\"Time\")\n",
    "    plt.ylabel(\"Value\")\n",
    "    plt.grid(True)\n",
    "\n",
    "def trend(time, slope=0):\n",
    "    return slope * time\n",
    "\n",
    "def seasonal_pattern(season_time):\n",
    "    \"\"\"Just an arbitrary pattern, you can change it if you wish\"\"\"\n",
    "    return np.where(season_time < 0.4,\n",
    "                    np.cos(season_time * 2 * np.pi),\n",
    "                    1 / np.exp(3 * season_time))\n",
    "\n",
    "def seasonality(time, period, amplitude=1, phase=0):\n",
    "    \"\"\"Repeats the same pattern at each period\"\"\"\n",
    "    season_time = ((time + phase) % period) / period\n",
    "    return amplitude * seasonal_pattern(season_time)\n",
    "\n",
    "def noise(time, noise_level=1, seed=None):\n",
    "    rnd = np.random.RandomState(seed)\n",
    "    return rnd.randn(len(time)) * noise_level\n",
    "\n",
    "time = np.arange(4 * 365 + 1, dtype=\"float32\")\n",
    "baseline = 10\n",
    "series = trend(time, 0.1)  \n",
    "baseline = 10\n",
    "amplitude = 40\n",
    "slope = 0.05\n",
    "noise_level = 5\n",
    "\n",
    "# Create the series\n",
    "series = baseline + trend(time, slope) + seasonality(time, period=365, amplitude=amplitude)\n",
    "# Update with noise\n",
    "series += noise(time, noise_level, seed=42)\n",
    "\n",
    "split_time = 1000\n",
    "time_train = time[:split_time]\n",
    "x_train = series[:split_time]\n",
    "time_valid = time[split_time:]\n",
    "x_valid = series[split_time:]\n",
    "\n",
    "window_size = 20\n",
    "batch_size = 32\n",
    "shuffle_buffer_size = 1000"
   ]
  },
  {
   "cell_type": "code",
   "execution_count": null,
   "metadata": {
    "colab": {},
    "colab_type": "code",
    "id": "4sTTIOCbyShY"
   },
   "outputs": [],
   "source": [
    "def windowed_dataset(series, window_size, batch_size, shuffle_buffer):\n",
    "  dataset = tf.data.Dataset.from_tensor_slices(series)\n",
    "  dataset = dataset.window(window_size + 1, shift=1, drop_remainder=True)\n",
    "  dataset = dataset.flat_map(lambda window: window.batch(window_size + 1))\n",
    "  dataset = dataset.shuffle(shuffle_buffer).map(lambda window: (window[:-1], window[-1]))\n",
    "  dataset = dataset.batch(batch_size).prefetch(1)\n",
    "  return dataset"
   ]
  },
  {
   "cell_type": "code",
   "execution_count": 5,
   "metadata": {
    "colab": {
     "base_uri": "https://localhost:8080/",
     "height": 1000
    },
    "colab_type": "code",
    "executionInfo": {
     "elapsed": 74189,
     "status": "ok",
     "timestamp": 1585006988226,
     "user": {
      "displayName": "Sanjay Santokee",
      "photoUrl": "https://lh3.googleusercontent.com/a-/AOh14GhqDug-Fb8yTQhdQLkG95pLTG6u5zKa38-aSHB89Q=s64",
      "userId": "10907220550417657633"
     },
     "user_tz": 180
    },
    "id": "A1Hl39rklkLm",
    "outputId": "c02a257d-de32-49fd-9837-2bb851e289c0"
   },
   "outputs": [
    {
     "name": "stdout",
     "output_type": "stream",
     "text": [
      "Epoch 1/100\n",
      "31/31 [==============================] - 10s 336ms/step - loss: 21.4956 - mae: 22.0115\n",
      "Epoch 2/100\n",
      "31/31 [==============================] - 1s 18ms/step - loss: 21.1128 - mae: 21.6440\n",
      "Epoch 3/100\n",
      "31/31 [==============================] - 1s 17ms/step - loss: 20.7468 - mae: 21.2278\n",
      "Epoch 4/100\n",
      "31/31 [==============================] - 1s 17ms/step - loss: 20.3564 - mae: 20.7739\n",
      "Epoch 5/100\n",
      "31/31 [==============================] - 1s 18ms/step - loss: 19.7907 - mae: 20.2843\n",
      "Epoch 6/100\n",
      "31/31 [==============================] - 1s 17ms/step - loss: 19.1428 - mae: 19.6776\n",
      "Epoch 7/100\n",
      "31/31 [==============================] - 1s 17ms/step - loss: 18.2205 - mae: 18.7308\n",
      "Epoch 8/100\n",
      "31/31 [==============================] - 1s 17ms/step - loss: 17.5280 - mae: 17.9757\n",
      "Epoch 9/100\n",
      "31/31 [==============================] - 1s 18ms/step - loss: 17.1315 - mae: 17.6581\n",
      "Epoch 10/100\n",
      "31/31 [==============================] - 1s 17ms/step - loss: 16.8294 - mae: 17.3457\n",
      "Epoch 11/100\n",
      "31/31 [==============================] - 1s 17ms/step - loss: 16.5175 - mae: 17.0459\n",
      "Epoch 12/100\n",
      "31/31 [==============================] - 1s 17ms/step - loss: 16.2835 - mae: 16.7529\n",
      "Epoch 13/100\n",
      "31/31 [==============================] - 1s 17ms/step - loss: 15.9576 - mae: 16.4573\n",
      "Epoch 14/100\n",
      "31/31 [==============================] - 1s 17ms/step - loss: 15.6444 - mae: 16.1587\n",
      "Epoch 15/100\n",
      "31/31 [==============================] - 1s 18ms/step - loss: 15.3548 - mae: 15.8571\n",
      "Epoch 16/100\n",
      "31/31 [==============================] - 1s 17ms/step - loss: 15.0615 - mae: 15.5765\n",
      "Epoch 17/100\n",
      "31/31 [==============================] - 1s 16ms/step - loss: 14.8060 - mae: 15.2950\n",
      "Epoch 18/100\n",
      "31/31 [==============================] - 1s 17ms/step - loss: 14.5474 - mae: 15.0164\n",
      "Epoch 19/100\n",
      "31/31 [==============================] - 1s 17ms/step - loss: 14.2308 - mae: 14.7612\n",
      "Epoch 20/100\n",
      "31/31 [==============================] - 1s 17ms/step - loss: 14.0179 - mae: 14.5354\n",
      "Epoch 21/100\n",
      "31/31 [==============================] - 1s 17ms/step - loss: 13.8130 - mae: 14.3081\n",
      "Epoch 22/100\n",
      "31/31 [==============================] - 1s 18ms/step - loss: 13.5935 - mae: 14.1062\n",
      "Epoch 23/100\n",
      "31/31 [==============================] - 1s 17ms/step - loss: 13.3985 - mae: 13.8858\n",
      "Epoch 24/100\n",
      "31/31 [==============================] - 1s 17ms/step - loss: 13.2187 - mae: 13.7037\n",
      "Epoch 25/100\n",
      "31/31 [==============================] - 1s 18ms/step - loss: 12.9267 - mae: 13.4526\n",
      "Epoch 26/100\n",
      "31/31 [==============================] - 1s 16ms/step - loss: 12.7290 - mae: 13.2327\n",
      "Epoch 27/100\n",
      "31/31 [==============================] - 0s 16ms/step - loss: 12.4543 - mae: 12.9716\n",
      "Epoch 28/100\n",
      "31/31 [==============================] - 1s 18ms/step - loss: 12.2231 - mae: 12.7095\n",
      "Epoch 29/100\n",
      "31/31 [==============================] - 1s 17ms/step - loss: 12.3309 - mae: 12.8460\n",
      "Epoch 30/100\n",
      "31/31 [==============================] - 1s 17ms/step - loss: 11.8069 - mae: 12.3121\n",
      "Epoch 31/100\n",
      "31/31 [==============================] - 1s 16ms/step - loss: 11.3216 - mae: 11.8148\n",
      "Epoch 32/100\n",
      "31/31 [==============================] - 1s 17ms/step - loss: 11.0173 - mae: 11.4830\n",
      "Epoch 33/100\n",
      "31/31 [==============================] - 0s 16ms/step - loss: 10.6577 - mae: 11.1361\n",
      "Epoch 34/100\n",
      "31/31 [==============================] - 1s 18ms/step - loss: 10.8242 - mae: 11.3007\n",
      "Epoch 35/100\n",
      "31/31 [==============================] - 1s 16ms/step - loss: 10.9697 - mae: 11.4607\n",
      "Epoch 36/100\n",
      "31/31 [==============================] - 1s 16ms/step - loss: 10.4873 - mae: 10.9636\n",
      "Epoch 37/100\n",
      "31/31 [==============================] - 1s 16ms/step - loss: 10.0051 - mae: 10.4892\n",
      "Epoch 38/100\n",
      "31/31 [==============================] - 1s 18ms/step - loss: 9.5181 - mae: 10.0283\n",
      "Epoch 39/100\n",
      "31/31 [==============================] - 1s 17ms/step - loss: 9.0591 - mae: 9.5461\n",
      "Epoch 40/100\n",
      "31/31 [==============================] - 1s 17ms/step - loss: 8.6498 - mae: 9.1358\n",
      "Epoch 41/100\n",
      "31/31 [==============================] - 1s 16ms/step - loss: 8.2329 - mae: 8.7356\n",
      "Epoch 42/100\n",
      "31/31 [==============================] - 1s 17ms/step - loss: 7.9299 - mae: 8.4081\n",
      "Epoch 43/100\n",
      "31/31 [==============================] - 1s 17ms/step - loss: 7.6007 - mae: 8.1137\n",
      "Epoch 44/100\n",
      "31/31 [==============================] - 1s 17ms/step - loss: 7.3032 - mae: 7.8033\n",
      "Epoch 45/100\n",
      "31/31 [==============================] - 1s 17ms/step - loss: 7.0877 - mae: 7.5770\n",
      "Epoch 46/100\n",
      "31/31 [==============================] - 1s 18ms/step - loss: 6.8843 - mae: 7.3933\n",
      "Epoch 47/100\n",
      "31/31 [==============================] - 1s 17ms/step - loss: 6.6226 - mae: 7.0771\n",
      "Epoch 48/100\n",
      "31/31 [==============================] - 1s 16ms/step - loss: 6.4349 - mae: 6.9074\n",
      "Epoch 49/100\n",
      "31/31 [==============================] - 1s 17ms/step - loss: 6.3954 - mae: 6.8757\n",
      "Epoch 50/100\n",
      "31/31 [==============================] - 1s 17ms/step - loss: 6.0277 - mae: 6.5164\n",
      "Epoch 51/100\n",
      "31/31 [==============================] - 1s 17ms/step - loss: 5.8894 - mae: 6.3634\n",
      "Epoch 52/100\n",
      "31/31 [==============================] - 1s 17ms/step - loss: 5.7521 - mae: 6.2421\n",
      "Epoch 53/100\n",
      "31/31 [==============================] - 0s 16ms/step - loss: 5.6553 - mae: 6.1419\n",
      "Epoch 54/100\n",
      "31/31 [==============================] - 0s 16ms/step - loss: 5.4473 - mae: 5.9468\n",
      "Epoch 55/100\n",
      "31/31 [==============================] - 1s 17ms/step - loss: 5.4122 - mae: 5.9006\n",
      "Epoch 56/100\n",
      "31/31 [==============================] - 1s 17ms/step - loss: 5.2623 - mae: 5.7471\n",
      "Epoch 57/100\n",
      "31/31 [==============================] - 1s 17ms/step - loss: 5.3106 - mae: 5.7881\n",
      "Epoch 58/100\n",
      "31/31 [==============================] - 1s 18ms/step - loss: 5.1929 - mae: 5.6591\n",
      "Epoch 59/100\n",
      "31/31 [==============================] - 1s 17ms/step - loss: 5.2541 - mae: 5.7545\n",
      "Epoch 60/100\n",
      "31/31 [==============================] - 1s 16ms/step - loss: 5.1063 - mae: 5.5567\n",
      "Epoch 61/100\n",
      "31/31 [==============================] - 1s 18ms/step - loss: 4.9472 - mae: 5.4250\n",
      "Epoch 62/100\n",
      "31/31 [==============================] - 1s 17ms/step - loss: 5.0917 - mae: 5.5808\n",
      "Epoch 63/100\n",
      "31/31 [==============================] - 1s 17ms/step - loss: 5.1680 - mae: 5.6630\n",
      "Epoch 64/100\n",
      "31/31 [==============================] - 1s 18ms/step - loss: 5.0575 - mae: 5.5312\n",
      "Epoch 65/100\n",
      "31/31 [==============================] - 1s 18ms/step - loss: 4.9006 - mae: 5.3900\n",
      "Epoch 66/100\n",
      "31/31 [==============================] - 1s 18ms/step - loss: 5.2746 - mae: 5.7638\n",
      "Epoch 67/100\n",
      "31/31 [==============================] - 1s 18ms/step - loss: 5.2607 - mae: 5.7446\n",
      "Epoch 68/100\n",
      "31/31 [==============================] - 1s 17ms/step - loss: 5.2218 - mae: 5.7233\n",
      "Epoch 69/100\n",
      "31/31 [==============================] - 1s 18ms/step - loss: 5.3456 - mae: 5.8346\n",
      "Epoch 70/100\n",
      "31/31 [==============================] - 1s 19ms/step - loss: 6.1691 - mae: 6.6382\n",
      "Epoch 71/100\n",
      "31/31 [==============================] - 1s 18ms/step - loss: 4.9526 - mae: 5.4137\n",
      "Epoch 72/100\n",
      "31/31 [==============================] - 1s 18ms/step - loss: 5.5657 - mae: 6.0633\n",
      "Epoch 73/100\n",
      "31/31 [==============================] - 1s 17ms/step - loss: 5.3436 - mae: 5.8209\n",
      "Epoch 74/100\n",
      "31/31 [==============================] - 1s 18ms/step - loss: 6.7311 - mae: 7.1983\n",
      "Epoch 75/100\n",
      "31/31 [==============================] - 1s 17ms/step - loss: 5.7492 - mae: 6.2193\n",
      "Epoch 76/100\n",
      "31/31 [==============================] - 1s 18ms/step - loss: 5.2818 - mae: 5.7818\n",
      "Epoch 77/100\n",
      "31/31 [==============================] - 1s 17ms/step - loss: 5.6425 - mae: 6.0995\n",
      "Epoch 78/100\n",
      "31/31 [==============================] - 1s 17ms/step - loss: 7.3175 - mae: 7.8347\n",
      "Epoch 79/100\n",
      "31/31 [==============================] - 1s 17ms/step - loss: 7.1590 - mae: 7.6353\n",
      "Epoch 80/100\n",
      "31/31 [==============================] - 1s 17ms/step - loss: 5.2885 - mae: 5.7796\n",
      "Epoch 81/100\n",
      "31/31 [==============================] - 1s 17ms/step - loss: 5.4822 - mae: 5.9677\n",
      "Epoch 82/100\n",
      "31/31 [==============================] - 1s 18ms/step - loss: 6.7601 - mae: 7.2446\n",
      "Epoch 83/100\n",
      "31/31 [==============================] - 1s 18ms/step - loss: 6.2718 - mae: 6.7460\n",
      "Epoch 84/100\n",
      "31/31 [==============================] - 1s 17ms/step - loss: 7.5164 - mae: 8.0019\n",
      "Epoch 85/100\n",
      "31/31 [==============================] - 1s 18ms/step - loss: 8.5435 - mae: 9.0290\n",
      "Epoch 86/100\n",
      "31/31 [==============================] - 1s 16ms/step - loss: 6.3990 - mae: 6.8505\n",
      "Epoch 87/100\n",
      "31/31 [==============================] - 1s 17ms/step - loss: 6.8739 - mae: 7.3729\n",
      "Epoch 88/100\n",
      "31/31 [==============================] - 1s 16ms/step - loss: 6.9440 - mae: 7.4645\n",
      "Epoch 89/100\n",
      "31/31 [==============================] - 1s 17ms/step - loss: 5.7347 - mae: 6.2071\n",
      "Epoch 90/100\n",
      "31/31 [==============================] - 1s 17ms/step - loss: 6.5328 - mae: 7.0147\n",
      "Epoch 91/100\n",
      "31/31 [==============================] - 1s 17ms/step - loss: 9.1667 - mae: 9.6334\n",
      "Epoch 92/100\n",
      "31/31 [==============================] - 1s 16ms/step - loss: 9.1487 - mae: 9.6960\n",
      "Epoch 93/100\n",
      "31/31 [==============================] - 1s 17ms/step - loss: 9.1058 - mae: 9.6064\n",
      "Epoch 94/100\n",
      "31/31 [==============================] - 1s 17ms/step - loss: 8.6748 - mae: 9.1999\n",
      "Epoch 95/100\n",
      "31/31 [==============================] - 1s 17ms/step - loss: 8.4982 - mae: 8.9723\n",
      "Epoch 96/100\n",
      "31/31 [==============================] - 0s 16ms/step - loss: 7.1676 - mae: 7.6561\n",
      "Epoch 97/100\n",
      "31/31 [==============================] - 1s 18ms/step - loss: 9.4725 - mae: 9.9320\n",
      "Epoch 98/100\n",
      "31/31 [==============================] - 1s 17ms/step - loss: 9.3080 - mae: 9.8532\n",
      "Epoch 99/100\n",
      "31/31 [==============================] - 1s 17ms/step - loss: 12.4675 - mae: 13.0500\n",
      "Epoch 100/100\n",
      "31/31 [==============================] - 1s 17ms/step - loss: 13.9109 - mae: 14.4005\n"
     ]
    }
   ],
   "source": [
    "tf.keras.backend.clear_session()\n",
    "tf.random.set_seed(51)\n",
    "np.random.seed(51)\n",
    "\n",
    "tf.keras.backend.clear_session()\n",
    "dataset = windowed_dataset(x_train, window_size, batch_size, shuffle_buffer_size)\n",
    "\n",
    "model = tf.keras.models.Sequential([\n",
    "  tf.keras.layers.Lambda(lambda x: tf.expand_dims(x, axis=-1),\n",
    "                      input_shape=[None]),\n",
    "    tf.keras.layers.Bidirectional(tf.keras.layers.LSTM(32, return_sequences=True)),\n",
    "  tf.keras.layers.Bidirectional(tf.keras.layers.LSTM(32)),\n",
    "  tf.keras.layers.Dense(1),\n",
    "  tf.keras.layers.Lambda(lambda x: x * 100.0)\n",
    "])\n",
    "\n",
    "lr_schedule = tf.keras.callbacks.LearningRateScheduler(\n",
    "    lambda epoch: 1e-8 * 10**(epoch / 20))\n",
    "optimizer = tf.keras.optimizers.SGD(lr=1e-8, momentum=0.9)\n",
    "model.compile(loss=tf.keras.losses.Huber(),\n",
    "              optimizer=optimizer,\n",
    "              metrics=[\"mae\"])\n",
    "history = model.fit(dataset, epochs=100, callbacks=[lr_schedule])"
   ]
  },
  {
   "cell_type": "code",
   "execution_count": 6,
   "metadata": {
    "colab": {
     "base_uri": "https://localhost:8080/",
     "height": 290
    },
    "colab_type": "code",
    "executionInfo": {
     "elapsed": 74694,
     "status": "ok",
     "timestamp": 1585006988790,
     "user": {
      "displayName": "Sanjay Santokee",
      "photoUrl": "https://lh3.googleusercontent.com/a-/AOh14GhqDug-Fb8yTQhdQLkG95pLTG6u5zKa38-aSHB89Q=s64",
      "userId": "10907220550417657633"
     },
     "user_tz": 180
    },
    "id": "AkBsrsXMzoWR",
    "outputId": "2bd06e43-7bf0-4e46-b321-8aa4267d41ed"
   },
   "outputs": [
    {
     "data": {
      "text/plain": [
       "(1e-08, 0.0001, 0.0, 30.0)"
      ]
     },
     "execution_count": 6,
     "metadata": {
      "tags": []
     },
     "output_type": "execute_result"
    },
    {
     "data": {
      "image/png": "[encoded data removed]",
      "text/plain": [
       "<Figure size 432x288 with 1 Axes>"
      ]
     },
     "metadata": {
      "tags": []
     },
     "output_type": "display_data"
    }
   ],
   "source": [
    "plt.semilogx(history.history[\"lr\"], history.history[\"loss\"])\n",
    "plt.axis([1e-8, 1e-4, 0, 30])"
   ]
  },
  {
   "cell_type": "code",
   "execution_count": null,
   "metadata": {
    "colab": {},
    "colab_type": "code",
    "id": "4uh-97bpLZCA"
   },
   "outputs": [],
   "source": [
    "tf.keras.backend.clear_session()\n",
    "tf.random.set_seed(51)\n",
    "np.random.seed(51)\n",
    "\n",
    "tf.keras.backend.clear_session()\n",
    "dataset = windowed_dataset(x_train, window_size, batch_size, shuffle_buffer_size)\n",
    "\n",
    "model = tf.keras.models.Sequential([\n",
    "  tf.keras.layers.Lambda(lambda x: tf.expand_dims(x, axis=-1),\n",
    "                      input_shape=[None]),\n",
    "   tf.keras.layers.Bidirectional(tf.keras.layers.LSTM(32, return_sequences=True)),\n",
    "  tf.keras.layers.Bidirectional(tf.keras.layers.LSTM(32)),\n",
    "  tf.keras.layers.Dense(1),\n",
    "  tf.keras.layers.Lambda(lambda x: x * 100.0)\n",
    "])\n",
    "\n",
    "\n",
    "model.compile(loss=\"mse\", optimizer=tf.keras.optimizers.SGD(lr=1e-5, momentum=0.9),metrics=[\"mae\"])\n",
    "history = model.fit(dataset,epochs=500,verbose=0)"
   ]
  },
  {
   "cell_type": "code",
   "execution_count": 8,
   "metadata": {
    "colab": {
     "base_uri": "https://localhost:8080/",
     "height": 388
    },
    "colab_type": "code",
    "executionInfo": {
     "elapsed": 358215,
     "status": "ok",
     "timestamp": 1585007272548,
     "user": {
      "displayName": "Sanjay Santokee",
      "photoUrl": "https://lh3.googleusercontent.com/a-/AOh14GhqDug-Fb8yTQhdQLkG95pLTG6u5zKa38-aSHB89Q=s64",
      "userId": "10907220550417657633"
     },
     "user_tz": 180
    },
    "id": "icGDaND7z0ne",
    "outputId": "909a2981-a891-476a-8277-cdc7cb6eccf1"
   },
   "outputs": [
    {
     "data": {
      "image/png": "[encoded data removed]",
      "text/plain": [
       "<Figure size 720x432 with 1 Axes>"
      ]
     },
     "metadata": {
      "tags": []
     },
     "output_type": "display_data"
    }
   ],
   "source": [
    "forecast = []\n",
    "results = []\n",
    "for time in range(len(series) - window_size):\n",
    "  forecast.append(model.predict(series[time:time + window_size][np.newaxis]))\n",
    "\n",
    "forecast = forecast[split_time-window_size:]\n",
    "results = np.array(forecast)[:, 0, 0]\n",
    "\n",
    "\n",
    "plt.figure(figsize=(10, 6))\n",
    "\n",
    "plot_series(time_valid, x_valid)\n",
    "plot_series(time_valid, results)"
   ]
  },
  {
   "cell_type": "code",
   "execution_count": 9,
   "metadata": {
    "colab": {
     "base_uri": "https://localhost:8080/",
     "height": 34
    },
    "colab_type": "code",
    "executionInfo": {
     "elapsed": 357727,
     "status": "ok",
     "timestamp": 1585007272551,
     "user": {
      "displayName": "Sanjay Santokee",
      "photoUrl": "https://lh3.googleusercontent.com/a-/AOh14GhqDug-Fb8yTQhdQLkG95pLTG6u5zKa38-aSHB89Q=s64",
      "userId": "10907220550417657633"
     },
     "user_tz": 180
    },
    "id": "KfPeqI7rz4LD",
    "outputId": "ab7c39f0-0df9-4044-f102-8da22610c58b"
   },
   "outputs": [
    {
     "data": {
      "text/plain": [
       "6.5836177"
      ]
     },
     "execution_count": 9,
     "metadata": {
      "tags": []
     },
     "output_type": "execute_result"
    }
   ],
   "source": [
    "tf.keras.metrics.mean_absolute_error(x_valid, results).numpy()"
   ]
  },
  {
   "cell_type": "code",
   "execution_count": 10,
   "metadata": {
    "colab": {
     "base_uri": "https://localhost:8080/",
     "height": 607
    },
    "colab_type": "code",
    "executionInfo": {
     "elapsed": 357866,
     "status": "ok",
     "timestamp": 1585007272796,
     "user": {
      "displayName": "Sanjay Santokee",
      "photoUrl": "https://lh3.googleusercontent.com/a-/AOh14GhqDug-Fb8yTQhdQLkG95pLTG6u5zKa38-aSHB89Q=s64",
      "userId": "10907220550417657633"
     },
     "user_tz": 180
    },
    "id": "JUsdZB_tzDLe",
    "outputId": "c750d27c-2d93-49b0-9fd4-83bd44091223"
   },
   "outputs": [
    {
     "data": {
      "text/plain": [
       "<Figure size 432x288 with 0 Axes>"
      ]
     },
     "execution_count": 10,
     "metadata": {
      "tags": []
     },
     "output_type": "execute_result"
    },
    {
     "data": {
      "image/png": "[encoded data removed]",
      "text/plain": [
       "<Figure size 432x288 with 1 Axes>"
      ]
     },
     "metadata": {
      "tags": []
     },
     "output_type": "display_data"
    },
    {
     "data": {
      "image/png": "[encoded data removed]",
      "text/plain": [
       "<Figure size 432x288 with 1 Axes>"
      ]
     },
     "metadata": {
      "tags": []
     },
     "output_type": "display_data"
    },
    {
     "data": {
      "text/plain": [
       "<Figure size 432x288 with 0 Axes>"
      ]
     },
     "metadata": {
      "tags": []
     },
     "output_type": "display_data"
    }
   ],
   "source": [
    "import matplotlib.image  as mpimg\n",
    "import matplotlib.pyplot as plt\n",
    "\n",
    "#-----------------------------------------------------------\n",
    "# Retrieve a list of list results on training and test data\n",
    "# sets for each training epoch\n",
    "#-----------------------------------------------------------\n",
    "mae=history.history['mae']\n",
    "loss=history.history['loss']\n",
    "\n",
    "epochs=range(len(loss)) # Get number of epochs\n",
    "\n",
    "#------------------------------------------------\n",
    "# Plot MAE and Loss\n",
    "#------------------------------------------------\n",
    "plt.plot(epochs, mae, 'r')\n",
    "plt.plot(epochs, loss, 'b')\n",
    "plt.title('MAE and Loss')\n",
    "plt.xlabel(\"Epochs\")\n",
    "plt.ylabel(\"Accuracy\")\n",
    "plt.legend([\"MAE\", \"Loss\"])\n",
    "\n",
    "plt.figure()\n",
    "\n",
    "epochs_zoom = epochs[200:]\n",
    "mae_zoom = mae[200:]\n",
    "loss_zoom = loss[200:]\n",
    "\n",
    "#------------------------------------------------\n",
    "# Plot Zoomed MAE and Loss\n",
    "#------------------------------------------------\n",
    "plt.plot(epochs_zoom, mae_zoom, 'r')\n",
    "plt.plot(epochs_zoom, loss_zoom, 'b')\n",
    "plt.title('MAE and Loss')\n",
    "plt.xlabel(\"Epochs\")\n",
    "plt.ylabel(\"Accuracy\")\n",
    "plt.legend([\"MAE\", \"Loss\"])\n",
    "\n",
    "plt.figure()"
   ]
  },
  {
   "cell_type": "code",
   "execution_count": 11,
   "metadata": {
    "colab": {
     "base_uri": "https://localhost:8080/",
     "height": 34
    },
    "colab_type": "code",
    "executionInfo": {
     "elapsed": 409355,
     "status": "ok",
     "timestamp": 1585007324402,
     "user": {
      "displayName": "Sanjay Santokee",
      "photoUrl": "https://lh3.googleusercontent.com/a-/AOh14GhqDug-Fb8yTQhdQLkG95pLTG6u5zKa38-aSHB89Q=s64",
      "userId": "10907220550417657633"
     },
     "user_tz": 180
    },
    "id": "3CGaYFxXNEAK",
    "outputId": "f2905cc1-5005-4b34-a0bb-6e82763c6674"
   },
   "outputs": [
    {
     "data": {
      "text/plain": [
       "<tensorflow.python.keras.callbacks.History at 0x7fbbf81e49e8>"
      ]
     },
     "execution_count": 11,
     "metadata": {
      "tags": []
     },
     "output_type": "execute_result"
    }
   ],
   "source": [
    "tf.keras.backend.clear_session()\n",
    "dataset = windowed_dataset(x_train, window_size, batch_size, shuffle_buffer_size)\n",
    "\n",
    "model = tf.keras.models.Sequential([\n",
    "  tf.keras.layers.Lambda(lambda x: tf.expand_dims(x, axis=-1),\n",
    "                      input_shape=[None]),\n",
    "  tf.keras.layers.Bidirectional(tf.keras.layers.LSTM(32, return_sequences=True)),\n",
    "  tf.keras.layers.Bidirectional(tf.keras.layers.LSTM(32)),\n",
    "  tf.keras.layers.Dense(1),\n",
    "  tf.keras.layers.Lambda(lambda x: x * 100.0)\n",
    "])\n",
    "\n",
    "\n",
    "model.compile(loss=\"mse\", optimizer=tf.keras.optimizers.SGD(lr=1e-6, momentum=0.9))\n",
    "model.fit(dataset,epochs=100, verbose=0)"
   ]
  },
  {
   "cell_type": "code",
   "execution_count": 12,
   "metadata": {
    "colab": {
     "base_uri": "https://localhost:8080/",
     "height": 1000
    },
    "colab_type": "code",
    "executionInfo": {
     "elapsed": 485407,
     "status": "ok",
     "timestamp": 1585007400595,
     "user": {
      "displayName": "Sanjay Santokee",
      "photoUrl": "https://lh3.googleusercontent.com/a-/AOh14GhqDug-Fb8yTQhdQLkG95pLTG6u5zKa38-aSHB89Q=s64",
      "userId": "10907220550417657633"
     },
     "user_tz": 180
    },
    "id": "FJ3R8ysauz9e",
    "outputId": "3efa4d76-3bed-4f82-fe6a-44fbe3e5a35a"
   },
   "outputs": [
    {
     "name": "stdout",
     "output_type": "stream",
     "text": [
      "Epoch 1/100\n",
      "31/31 [==============================] - 7s 226ms/step - loss: 637.1586\n",
      "Epoch 2/100\n",
      "31/31 [==============================] - 1s 22ms/step - loss: 120.7467\n",
      "Epoch 3/100\n",
      "31/31 [==============================] - 1s 22ms/step - loss: 92.0421\n",
      "Epoch 4/100\n",
      "31/31 [==============================] - 1s 21ms/step - loss: 88.8774\n",
      "Epoch 5/100\n",
      "31/31 [==============================] - 1s 22ms/step - loss: 82.8891\n",
      "Epoch 6/100\n",
      "31/31 [==============================] - 1s 22ms/step - loss: 75.1178\n",
      "Epoch 7/100\n",
      "31/31 [==============================] - 1s 22ms/step - loss: 68.2410\n",
      "Epoch 8/100\n",
      "31/31 [==============================] - 1s 22ms/step - loss: 64.0717\n",
      "Epoch 9/100\n",
      "31/31 [==============================] - 1s 22ms/step - loss: 66.8050\n",
      "Epoch 10/100\n",
      "31/31 [==============================] - 1s 21ms/step - loss: 65.6130\n",
      "Epoch 11/100\n",
      "31/31 [==============================] - 1s 22ms/step - loss: 62.4817\n",
      "Epoch 12/100\n",
      "31/31 [==============================] - 1s 21ms/step - loss: 58.0539\n",
      "Epoch 13/100\n",
      "31/31 [==============================] - 1s 21ms/step - loss: 56.7337\n",
      "Epoch 14/100\n",
      "31/31 [==============================] - 1s 21ms/step - loss: 63.3188\n",
      "Epoch 15/100\n",
      "31/31 [==============================] - 1s 22ms/step - loss: 53.8104\n",
      "Epoch 16/100\n",
      "31/31 [==============================] - 1s 21ms/step - loss: 52.0592\n",
      "Epoch 17/100\n",
      "31/31 [==============================] - 1s 21ms/step - loss: 61.3058\n",
      "Epoch 18/100\n",
      "31/31 [==============================] - 1s 22ms/step - loss: 58.2703\n",
      "Epoch 19/100\n",
      "31/31 [==============================] - 1s 21ms/step - loss: 57.2809\n",
      "Epoch 20/100\n",
      "31/31 [==============================] - 1s 22ms/step - loss: 58.6535\n",
      "Epoch 21/100\n",
      "31/31 [==============================] - 1s 22ms/step - loss: 54.4717\n",
      "Epoch 22/100\n",
      "31/31 [==============================] - 1s 22ms/step - loss: 48.7803\n",
      "Epoch 23/100\n",
      "31/31 [==============================] - 1s 21ms/step - loss: 55.6806\n",
      "Epoch 24/100\n",
      "31/31 [==============================] - 1s 22ms/step - loss: 50.8445\n",
      "Epoch 25/100\n",
      "31/31 [==============================] - 1s 22ms/step - loss: 57.6165\n",
      "Epoch 26/100\n",
      "31/31 [==============================] - 1s 22ms/step - loss: 48.5368\n",
      "Epoch 27/100\n",
      "31/31 [==============================] - 1s 21ms/step - loss: 54.0821\n",
      "Epoch 28/100\n",
      "31/31 [==============================] - 1s 21ms/step - loss: 54.7942\n",
      "Epoch 29/100\n",
      "31/31 [==============================] - 1s 22ms/step - loss: 54.4730\n",
      "Epoch 30/100\n",
      "31/31 [==============================] - 1s 21ms/step - loss: 47.6561\n",
      "Epoch 31/100\n",
      "31/31 [==============================] - 1s 22ms/step - loss: 49.3290\n",
      "Epoch 32/100\n",
      "31/31 [==============================] - 1s 22ms/step - loss: 53.4109\n",
      "Epoch 33/100\n",
      "31/31 [==============================] - 1s 22ms/step - loss: 56.7651\n",
      "Epoch 34/100\n",
      "31/31 [==============================] - 1s 21ms/step - loss: 48.0158\n",
      "Epoch 35/100\n",
      "31/31 [==============================] - 1s 21ms/step - loss: 49.5926\n",
      "Epoch 36/100\n",
      "31/31 [==============================] - 1s 21ms/step - loss: 47.7899\n",
      "Epoch 37/100\n",
      "31/31 [==============================] - 1s 22ms/step - loss: 47.4737\n",
      "Epoch 38/100\n",
      "31/31 [==============================] - 1s 21ms/step - loss: 52.5842\n",
      "Epoch 39/100\n",
      "31/31 [==============================] - 1s 22ms/step - loss: 47.1467\n",
      "Epoch 40/100\n",
      "31/31 [==============================] - 1s 21ms/step - loss: 47.2574\n",
      "Epoch 41/100\n",
      "31/31 [==============================] - 1s 22ms/step - loss: 48.6427\n",
      "Epoch 42/100\n",
      "31/31 [==============================] - 1s 22ms/step - loss: 45.7209\n",
      "Epoch 43/100\n",
      "31/31 [==============================] - 1s 22ms/step - loss: 49.3340\n",
      "Epoch 44/100\n",
      "31/31 [==============================] - 1s 22ms/step - loss: 48.8234\n",
      "Epoch 45/100\n",
      "31/31 [==============================] - 1s 23ms/step - loss: 51.0316\n",
      "Epoch 46/100\n",
      "31/31 [==============================] - 1s 22ms/step - loss: 48.2925\n",
      "Epoch 47/100\n",
      "31/31 [==============================] - 1s 23ms/step - loss: 51.5021\n",
      "Epoch 48/100\n",
      "31/31 [==============================] - 1s 22ms/step - loss: 50.1960\n",
      "Epoch 49/100\n",
      "31/31 [==============================] - 1s 22ms/step - loss: 45.3440\n",
      "Epoch 50/100\n",
      "31/31 [==============================] - 1s 22ms/step - loss: 44.7303\n",
      "Epoch 51/100\n",
      "31/31 [==============================] - 1s 22ms/step - loss: 45.7743\n",
      "Epoch 52/100\n",
      "31/31 [==============================] - 1s 22ms/step - loss: 48.9895\n",
      "Epoch 53/100\n",
      "31/31 [==============================] - 1s 22ms/step - loss: 50.3004\n",
      "Epoch 54/100\n",
      "31/31 [==============================] - 1s 23ms/step - loss: 50.0641\n",
      "Epoch 55/100\n",
      "31/31 [==============================] - 1s 21ms/step - loss: 44.2844\n",
      "Epoch 56/100\n",
      "31/31 [==============================] - 1s 23ms/step - loss: 47.2650\n",
      "Epoch 57/100\n",
      "31/31 [==============================] - 1s 21ms/step - loss: 46.3613\n",
      "Epoch 58/100\n",
      "31/31 [==============================] - 1s 21ms/step - loss: 45.9513\n",
      "Epoch 59/100\n",
      "31/31 [==============================] - 1s 21ms/step - loss: 44.9608\n",
      "Epoch 60/100\n",
      "31/31 [==============================] - 1s 21ms/step - loss: 45.1587\n",
      "Epoch 61/100\n",
      "31/31 [==============================] - 1s 22ms/step - loss: 46.1001\n",
      "Epoch 62/100\n",
      "31/31 [==============================] - 1s 21ms/step - loss: 46.4803\n",
      "Epoch 63/100\n",
      "31/31 [==============================] - 1s 21ms/step - loss: 46.5752\n",
      "Epoch 64/100\n",
      "31/31 [==============================] - 1s 22ms/step - loss: 45.0881\n",
      "Epoch 65/100\n",
      "31/31 [==============================] - 1s 22ms/step - loss: 44.4727\n",
      "Epoch 66/100\n",
      "31/31 [==============================] - 1s 22ms/step - loss: 43.8191\n",
      "Epoch 67/100\n",
      "31/31 [==============================] - 1s 23ms/step - loss: 43.3888\n",
      "Epoch 68/100\n",
      "31/31 [==============================] - 1s 22ms/step - loss: 44.2794\n",
      "Epoch 69/100\n",
      "31/31 [==============================] - 1s 23ms/step - loss: 48.7658\n",
      "Epoch 70/100\n",
      "31/31 [==============================] - 1s 22ms/step - loss: 49.2290\n",
      "Epoch 71/100\n",
      "31/31 [==============================] - 1s 22ms/step - loss: 47.9089\n",
      "Epoch 72/100\n",
      "31/31 [==============================] - 1s 23ms/step - loss: 43.4049\n",
      "Epoch 73/100\n",
      "31/31 [==============================] - 1s 22ms/step - loss: 46.7734\n",
      "Epoch 74/100\n",
      "31/31 [==============================] - 1s 22ms/step - loss: 45.2176\n",
      "Epoch 75/100\n",
      "31/31 [==============================] - 1s 21ms/step - loss: 43.4735\n",
      "Epoch 76/100\n",
      "31/31 [==============================] - 1s 23ms/step - loss: 46.5729\n",
      "Epoch 77/100\n",
      "31/31 [==============================] - 1s 21ms/step - loss: 46.2850\n",
      "Epoch 78/100\n",
      "31/31 [==============================] - 1s 21ms/step - loss: 44.9241\n",
      "Epoch 79/100\n",
      "31/31 [==============================] - 1s 22ms/step - loss: 44.4036\n",
      "Epoch 80/100\n",
      "31/31 [==============================] - 1s 22ms/step - loss: 44.3938\n",
      "Epoch 81/100\n",
      "31/31 [==============================] - 1s 21ms/step - loss: 50.9530\n",
      "Epoch 82/100\n",
      "31/31 [==============================] - 1s 23ms/step - loss: 52.1953\n",
      "Epoch 83/100\n",
      "31/31 [==============================] - 1s 23ms/step - loss: 45.2116\n",
      "Epoch 84/100\n",
      "31/31 [==============================] - 1s 23ms/step - loss: 45.1946\n",
      "Epoch 85/100\n",
      "31/31 [==============================] - 1s 23ms/step - loss: 46.0932\n",
      "Epoch 86/100\n",
      "31/31 [==============================] - 1s 23ms/step - loss: 44.4736\n",
      "Epoch 87/100\n",
      "31/31 [==============================] - 1s 23ms/step - loss: 43.7276\n",
      "Epoch 88/100\n",
      "31/31 [==============================] - 1s 23ms/step - loss: 51.4227\n",
      "Epoch 89/100\n",
      "31/31 [==============================] - 1s 23ms/step - loss: 45.9021\n",
      "Epoch 90/100\n",
      "31/31 [==============================] - 1s 23ms/step - loss: 48.7337\n",
      "Epoch 91/100\n",
      "31/31 [==============================] - 1s 23ms/step - loss: 44.8213\n",
      "Epoch 92/100\n",
      "31/31 [==============================] - 1s 23ms/step - loss: 53.9012\n",
      "Epoch 93/100\n",
      "31/31 [==============================] - 1s 23ms/step - loss: 44.0955\n",
      "Epoch 94/100\n",
      "31/31 [==============================] - 1s 23ms/step - loss: 44.1300\n",
      "Epoch 95/100\n",
      "31/31 [==============================] - 1s 23ms/step - loss: 45.7455\n",
      "Epoch 96/100\n",
      "31/31 [==============================] - 1s 23ms/step - loss: 44.4551\n",
      "Epoch 97/100\n",
      "31/31 [==============================] - 1s 22ms/step - loss: 44.4199\n",
      "Epoch 98/100\n",
      "31/31 [==============================] - 1s 22ms/step - loss: 43.7962\n",
      "Epoch 99/100\n",
      "31/31 [==============================] - 1s 22ms/step - loss: 44.4305\n",
      "Epoch 100/100\n",
      "31/31 [==============================] - 1s 22ms/step - loss: 45.0547\n"
     ]
    },
    {
     "data": {
      "text/plain": [
       "<tensorflow.python.keras.callbacks.History at 0x7fbbd2a4b9b0>"
      ]
     },
     "execution_count": 12,
     "metadata": {
      "tags": []
     },
     "output_type": "execute_result"
    }
   ],
   "source": [
    "tf.keras.backend.clear_session()\n",
    "dataset = windowed_dataset(x_train, window_size, batch_size, shuffle_buffer_size)\n",
    "\n",
    "model = tf.keras.models.Sequential([\n",
    "  tf.keras.layers.Lambda(lambda x: tf.expand_dims(x, axis=-1),\n",
    "                      input_shape=[None]),\n",
    "  tf.keras.layers.Bidirectional(tf.keras.layers.LSTM(32, return_sequences=True)),\n",
    "  tf.keras.layers.Bidirectional(tf.keras.layers.LSTM(32, return_sequences=True)),\n",
    "  tf.keras.layers.Bidirectional(tf.keras.layers.LSTM(32)),\n",
    "  tf.keras.layers.Dense(1),\n",
    "  tf.keras.layers.Lambda(lambda x: x * 100.0)\n",
    "])\n",
    "\n",
    "\n",
    "model.compile(loss=\"mse\", optimizer=tf.keras.optimizers.SGD(lr=1e-6, momentum=0.9))\n",
    "model.fit(dataset,epochs=100)"
   ]
  }
 ],
 "metadata": {
  "accelerator": "GPU",
  "colab": {
   "collapsed_sections": [],
   "name": "S+P Week 3 Lesson 4 - LSTM.ipynb",
   "provenance": [
    {
     "file_id": "https://github.com/lmoroney/dlaicourse/blob/master/TensorFlow%20In%20Practice/Course%204%20-%20S%2BP/S%2BP%20Week%203%20Lesson%204%20-%20LSTM.ipynb",
     "timestamp": 1585006738415
    },
    {
     "file_id": "1M3Wn2-1epbDKQOcvYOepgi-pZSoOwwZN",
     "timestamp": 1561934268786
    },
    {
     "file_id": "1sGBr5jgLCXxWhNXC1ddMuxATeaYP8acr",
     "timestamp": 1561871087124
    },
    {
     "file_id": "1w4NClM1RKEfzmeK8uVGrTtxPt0NJmUhf",
     "timestamp": 1561778911582
    }
   ]
  },
  "kernelspec": {
   "display_name": "Python 3",
   "language": "python",
   "name": "python3"
  },
  "language_info": {
   "codemirror_mode": {
    "name": "ipython",
    "version": 3
   },
   "file_extension": ".py",
   "mimetype": "text/x-python",
   "name": "python",
   "nbconvert_exporter": "python",
   "pygments_lexer": "ipython3",
   "version": "3.7.4"
  }
 },
 "nbformat": 4,
 "nbformat_minor": 4
}
