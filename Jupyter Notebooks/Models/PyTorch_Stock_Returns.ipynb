{
 "cells": [
  {
   "cell_type": "code",
   "execution_count": 1,
   "metadata": {
    "colab": {},
    "colab_type": "code",
    "id": "3YERLTJjD4kk"
   },
   "outputs": [],
   "source": [
    "import torch\n",
    "import torch.nn as nn\n",
    "import numpy as np\n",
    "import pandas as pd\n",
    "import matplotlib.pyplot as plt\n",
    "from sklearn.preprocessing import StandardScaler"
   ]
  },
  {
   "cell_type": "markdown",
   "metadata": {
    "colab_type": "text",
    "id": "7JQ-aWBwH6zM"
   },
   "source": [
    "# Part 1: Price Prediction"
   ]
  },
  {
   "cell_type": "code",
   "execution_count": 11,
   "metadata": {
    "colab": {},
    "colab_type": "code",
    "id": "0ARJutSvD772"
   },
   "outputs": [],
   "source": [
    "# yes, you can read dataframes from URLs!\n",
    "df = pd.read_csv('https://raw.githubusercontent.com/lazyprogrammer/machine_learning_examples/master/tf2.0/sbux.csv')"
   ]
  },
  {
   "cell_type": "code",
   "execution_count": 12,
   "metadata": {
    "colab": {
     "base_uri": "https://localhost:8080/",
     "height": 204
    },
    "colab_type": "code",
    "id": "2Enitd48EA1e",
    "outputId": "44eca8ef-44d5-4631-d895-e1ad61ee4fc2"
   },
   "outputs": [
    {
     "data": {
      "text/html": [
       "<div>\n",
       "<style scoped>\n",
       "    .dataframe tbody tr th:only-of-type {\n",
       "        vertical-align: middle;\n",
       "    }\n",
       "\n",
       "    .dataframe tbody tr th {\n",
       "        vertical-align: top;\n",
       "    }\n",
       "\n",
       "    .dataframe thead th {\n",
       "        text-align: right;\n",
       "    }\n",
       "</style>\n",
       "<table border=\"1\" class=\"dataframe\">\n",
       "  <thead>\n",
       "    <tr style=\"text-align: right;\">\n",
       "      <th></th>\n",
       "      <th>date</th>\n",
       "      <th>open</th>\n",
       "      <th>high</th>\n",
       "      <th>low</th>\n",
       "      <th>close</th>\n",
       "      <th>volume</th>\n",
       "      <th>Name</th>\n",
       "    </tr>\n",
       "  </thead>\n",
       "  <tbody>\n",
       "    <tr>\n",
       "      <th>0</th>\n",
       "      <td>2013-02-08</td>\n",
       "      <td>27.920</td>\n",
       "      <td>28.325</td>\n",
       "      <td>27.920</td>\n",
       "      <td>28.185</td>\n",
       "      <td>7146296</td>\n",
       "      <td>SBUX</td>\n",
       "    </tr>\n",
       "    <tr>\n",
       "      <th>1</th>\n",
       "      <td>2013-02-11</td>\n",
       "      <td>28.260</td>\n",
       "      <td>28.260</td>\n",
       "      <td>27.930</td>\n",
       "      <td>28.070</td>\n",
       "      <td>5457354</td>\n",
       "      <td>SBUX</td>\n",
       "    </tr>\n",
       "    <tr>\n",
       "      <th>2</th>\n",
       "      <td>2013-02-12</td>\n",
       "      <td>28.000</td>\n",
       "      <td>28.275</td>\n",
       "      <td>27.975</td>\n",
       "      <td>28.130</td>\n",
       "      <td>8665592</td>\n",
       "      <td>SBUX</td>\n",
       "    </tr>\n",
       "    <tr>\n",
       "      <th>3</th>\n",
       "      <td>2013-02-13</td>\n",
       "      <td>28.230</td>\n",
       "      <td>28.230</td>\n",
       "      <td>27.750</td>\n",
       "      <td>27.915</td>\n",
       "      <td>7022056</td>\n",
       "      <td>SBUX</td>\n",
       "    </tr>\n",
       "    <tr>\n",
       "      <th>4</th>\n",
       "      <td>2013-02-14</td>\n",
       "      <td>27.765</td>\n",
       "      <td>27.905</td>\n",
       "      <td>27.675</td>\n",
       "      <td>27.775</td>\n",
       "      <td>8899188</td>\n",
       "      <td>SBUX</td>\n",
       "    </tr>\n",
       "  </tbody>\n",
       "</table>\n",
       "</div>"
      ],
      "text/plain": [
       "         date    open    high     low   close   volume  Name\n",
       "0  2013-02-08  27.920  28.325  27.920  28.185  7146296  SBUX\n",
       "1  2013-02-11  28.260  28.260  27.930  28.070  5457354  SBUX\n",
       "2  2013-02-12  28.000  28.275  27.975  28.130  8665592  SBUX\n",
       "3  2013-02-13  28.230  28.230  27.750  27.915  7022056  SBUX\n",
       "4  2013-02-14  27.765  27.905  27.675  27.775  8899188  SBUX"
      ]
     },
     "execution_count": 12,
     "metadata": {},
     "output_type": "execute_result"
    }
   ],
   "source": [
    "df.head()"
   ]
  },
  {
   "cell_type": "code",
   "execution_count": 13,
   "metadata": {
    "colab": {
     "base_uri": "https://localhost:8080/",
     "height": 204
    },
    "colab_type": "code",
    "id": "kCITTItVECqS",
    "outputId": "dade9bc9-6c6e-4b63-910d-2f455172b755"
   },
   "outputs": [
    {
     "data": {
      "text/html": [
       "<div>\n",
       "<style scoped>\n",
       "    .dataframe tbody tr th:only-of-type {\n",
       "        vertical-align: middle;\n",
       "    }\n",
       "\n",
       "    .dataframe tbody tr th {\n",
       "        vertical-align: top;\n",
       "    }\n",
       "\n",
       "    .dataframe thead th {\n",
       "        text-align: right;\n",
       "    }\n",
       "</style>\n",
       "<table border=\"1\" class=\"dataframe\">\n",
       "  <thead>\n",
       "    <tr style=\"text-align: right;\">\n",
       "      <th></th>\n",
       "      <th>date</th>\n",
       "      <th>open</th>\n",
       "      <th>high</th>\n",
       "      <th>low</th>\n",
       "      <th>close</th>\n",
       "      <th>volume</th>\n",
       "      <th>Name</th>\n",
       "    </tr>\n",
       "  </thead>\n",
       "  <tbody>\n",
       "    <tr>\n",
       "      <th>1254</th>\n",
       "      <td>2018-02-01</td>\n",
       "      <td>56.280</td>\n",
       "      <td>56.42</td>\n",
       "      <td>55.89</td>\n",
       "      <td>56.00</td>\n",
       "      <td>14690146</td>\n",
       "      <td>SBUX</td>\n",
       "    </tr>\n",
       "    <tr>\n",
       "      <th>1255</th>\n",
       "      <td>2018-02-02</td>\n",
       "      <td>55.900</td>\n",
       "      <td>56.32</td>\n",
       "      <td>55.70</td>\n",
       "      <td>55.77</td>\n",
       "      <td>15358909</td>\n",
       "      <td>SBUX</td>\n",
       "    </tr>\n",
       "    <tr>\n",
       "      <th>1256</th>\n",
       "      <td>2018-02-05</td>\n",
       "      <td>55.530</td>\n",
       "      <td>56.26</td>\n",
       "      <td>54.57</td>\n",
       "      <td>54.69</td>\n",
       "      <td>16059955</td>\n",
       "      <td>SBUX</td>\n",
       "    </tr>\n",
       "    <tr>\n",
       "      <th>1257</th>\n",
       "      <td>2018-02-06</td>\n",
       "      <td>53.685</td>\n",
       "      <td>56.06</td>\n",
       "      <td>53.56</td>\n",
       "      <td>55.61</td>\n",
       "      <td>17415065</td>\n",
       "      <td>SBUX</td>\n",
       "    </tr>\n",
       "    <tr>\n",
       "      <th>1258</th>\n",
       "      <td>2018-02-07</td>\n",
       "      <td>55.080</td>\n",
       "      <td>55.43</td>\n",
       "      <td>54.44</td>\n",
       "      <td>54.46</td>\n",
       "      <td>13927022</td>\n",
       "      <td>SBUX</td>\n",
       "    </tr>\n",
       "  </tbody>\n",
       "</table>\n",
       "</div>"
      ],
      "text/plain": [
       "            date    open   high    low  close    volume  Name\n",
       "1254  2018-02-01  56.280  56.42  55.89  56.00  14690146  SBUX\n",
       "1255  2018-02-02  55.900  56.32  55.70  55.77  15358909  SBUX\n",
       "1256  2018-02-05  55.530  56.26  54.57  54.69  16059955  SBUX\n",
       "1257  2018-02-06  53.685  56.06  53.56  55.61  17415065  SBUX\n",
       "1258  2018-02-07  55.080  55.43  54.44  54.46  13927022  SBUX"
      ]
     },
     "execution_count": 13,
     "metadata": {},
     "output_type": "execute_result"
    }
   ],
   "source": [
    "df.tail()"
   ]
  },
  {
   "cell_type": "code",
   "execution_count": 14,
   "metadata": {
    "colab": {},
    "colab_type": "code",
    "id": "lvZLvhINEEXm"
   },
   "outputs": [],
   "source": [
    "# Start by doing the WRONG thing - trying to predict the price itself\n",
    "series = df['close'].values.reshape(-1, 1)"
   ]
  },
  {
   "cell_type": "code",
   "execution_count": 15,
   "metadata": {
    "colab": {},
    "colab_type": "code",
    "id": "sJlZEBuhEIhx"
   },
   "outputs": [],
   "source": [
    "# Normalize the data\n",
    "# Note: I didn't think about where the true boundary is, this is just approx.\n",
    "scaler = StandardScaler()\n",
    "scaler.fit(series[:len(series) // 2])\n",
    "series = scaler.transform(series).flatten()"
   ]
  },
  {
   "cell_type": "code",
   "execution_count": 16,
   "metadata": {
    "colab": {
     "base_uri": "https://localhost:8080/",
     "height": 34
    },
    "colab_type": "code",
    "id": "lFWSq_z-EKp6",
    "outputId": "1651f2e6-5250-4b20-bbed-5f89251840a6"
   },
   "outputs": [
    {
     "name": "stdout",
     "output_type": "stream",
     "text": [
      "X.shape (1239, 20, 1) Y.shape (1239, 1)\n"
     ]
    }
   ],
   "source": [
    "### build the dataset\n",
    "# let's see if we can use T past values to predict the next value\n",
    "T = 20\n",
    "D = 1\n",
    "X = []\n",
    "Y = []\n",
    "for t in range(len(series) - T):\n",
    "  x = series[t:t+T]\n",
    "  X.append(x)\n",
    "  y = series[t+T]\n",
    "  Y.append(y)\n",
    "\n",
    "X = np.array(X).reshape(-1, T, 1) # Now the data should be N x T x D\n",
    "Y = np.array(Y).reshape(-1, 1)\n",
    "N = len(X)\n",
    "print(\"X.shape\", X.shape, \"Y.shape\", Y.shape)"
   ]
  },
  {
   "cell_type": "code",
   "execution_count": 4,
   "metadata": {
    "colab": {},
    "colab_type": "code",
    "id": "ejA41yIHEMMs"
   },
   "outputs": [],
   "source": [
    "### try autoregressive RNN model\n",
    "class RNN(nn.Module):\n",
    "  def __init__(self, n_inputs, n_hidden, n_rnnlayers, n_outputs):\n",
    "    super(RNN, self).__init__()\n",
    "    self.D = n_inputs\n",
    "    self.M = n_hidden\n",
    "    self.K = n_outputs\n",
    "    self.L = n_rnnlayers\n",
    "\n",
    "    self.rnn = nn.LSTM(\n",
    "        input_size=self.D,\n",
    "        hidden_size=self.M,\n",
    "        num_layers=self.L,\n",
    "        batch_first=True)\n",
    "    self.fc = nn.Linear(self.M, self.K)\n",
    "  \n",
    "  def forward(self, X):\n",
    "    # initial hidden states\n",
    "    h0 = torch.zeros(self.L, X.size(0), self.M).to(device)\n",
    "    c0 = torch.zeros(self.L, X.size(0), self.M).to(device)\n",
    "\n",
    "    # get RNN unit output\n",
    "    out, _ = self.rnn(X, (h0, c0))\n",
    "\n",
    "    # we only want h(T) at the final time step\n",
    "    out = self.fc(out[:, -1, :])\n",
    "    return out"
   ]
  },
  {
   "cell_type": "code",
   "execution_count": 3,
   "metadata": {
    "colab": {},
    "colab_type": "code",
    "id": "hxjVvws8EUfr"
   },
   "outputs": [],
   "source": [
    "model = RNN(1, 5, 1, 1)"
   ]
  },
  {
   "cell_type": "code",
   "execution_count": 5,
   "metadata": {
    "colab": {
     "base_uri": "https://localhost:8080/",
     "height": 102
    },
    "colab_type": "code",
    "id": "7zL5f7KWEcVw",
    "outputId": "4680ee2a-4550-4651-a833-3c86341da2bc"
   },
   "outputs": [
    {
     "name": "stdout",
     "output_type": "stream",
     "text": [
      "cuda:0\n"
     ]
    }
   ],
   "source": [
    "device = torch.device(\"cuda:0\" if torch.cuda.is_available() else \"cpu\")\n",
    "print(device)\n",
    "# model.to(device)"
   ]
  },
  {
   "cell_type": "code",
   "execution_count": 20,
   "metadata": {
    "colab": {},
    "colab_type": "code",
    "id": "h8Qlpc1sEvcA"
   },
   "outputs": [],
   "source": [
    "# Loss and optimizer\n",
    "criterion = nn.MSELoss()\n",
    "optimizer = torch.optim.Adam(model.parameters(), lr=0.1)"
   ]
  },
  {
   "cell_type": "code",
   "execution_count": 6,
   "metadata": {
    "colab": {},
    "colab_type": "code",
    "id": "SbUEPOnZE1c9"
   },
   "outputs": [],
   "source": [
    "# Training\n",
    "def full_gd(model,\n",
    "            criterion,\n",
    "            optimizer,\n",
    "            X_train,\n",
    "            y_train,\n",
    "            X_test,\n",
    "            y_test,\n",
    "            epochs=200):\n",
    "\n",
    "  # Stuff to store\n",
    "  train_losses = np.zeros(epochs)\n",
    "  test_losses = np.zeros(epochs)\n",
    "\n",
    "  for it in range(epochs):\n",
    "    # zero the parameter gradients\n",
    "    optimizer.zero_grad()\n",
    "\n",
    "    # Forward pass\n",
    "    outputs = model(X_train)\n",
    "    loss = criterion(outputs, y_train)\n",
    "      \n",
    "    # Backward and optimize\n",
    "    loss.backward()\n",
    "    optimizer.step()\n",
    "\n",
    "    # Save losses\n",
    "    train_losses[it] = loss.item()\n",
    "\n",
    "    # Test loss\n",
    "    test_outputs = model(X_test)\n",
    "    test_loss = criterion(test_outputs, y_test)\n",
    "    test_losses[it] = test_loss.item()\n",
    "      \n",
    "    if (it + 1) % 5 == 0:\n",
    "      print(f'Epoch {it+1}/{epochs}, Train Loss: {loss.item():.4f}, Test Loss: {test_loss.item():.4f}')\n",
    "  \n",
    "  return train_losses, test_losses"
   ]
  },
  {
   "cell_type": "code",
   "execution_count": 22,
   "metadata": {
    "colab": {},
    "colab_type": "code",
    "id": "lnQkAXuxE8G5"
   },
   "outputs": [],
   "source": [
    "# Make inputs and targets\n",
    "X_train = torch.from_numpy(X[:-N//2].astype(np.float32))\n",
    "y_train = torch.from_numpy(Y[:-N//2].astype(np.float32))\n",
    "X_test = torch.from_numpy(X[-N//2:].astype(np.float32))\n",
    "y_test = torch.from_numpy(Y[-N//2:].astype(np.float32))"
   ]
  },
  {
   "cell_type": "code",
   "execution_count": 23,
   "metadata": {
    "colab": {},
    "colab_type": "code",
    "id": "QM8yEi78E_RG"
   },
   "outputs": [],
   "source": [
    "# move data to GPU\n",
    "X_train, y_train = X_train.to(device), y_train.to(device)\n",
    "X_test, y_test = X_test.to(device), y_test.to(device)"
   ]
  },
  {
   "cell_type": "code",
   "execution_count": 24,
   "metadata": {
    "colab": {
     "base_uri": "https://localhost:8080/",
     "height": 697
    },
    "colab_type": "code",
    "id": "eeU5KgjXFA7S",
    "outputId": "e8438fd3-53ff-441b-c969-cf54563fcfe9"
   },
   "outputs": [
    {
     "name": "stdout",
     "output_type": "stream",
     "text": [
      "Epoch 5/200, Train Loss: 0.4164, Test Loss: 2.2982\n",
      "Epoch 10/200, Train Loss: 0.2037, Test Loss: 0.2521\n",
      "Epoch 15/200, Train Loss: 0.0859, Test Loss: 0.6055\n",
      "Epoch 20/200, Train Loss: 0.0163, Test Loss: 0.1434\n",
      "Epoch 25/200, Train Loss: 0.0158, Test Loss: 0.1056\n",
      "Epoch 30/200, Train Loss: 0.0169, Test Loss: 0.1386\n",
      "Epoch 35/200, Train Loss: 0.0124, Test Loss: 0.0352\n",
      "Epoch 40/200, Train Loss: 0.0082, Test Loss: 0.0504\n",
      "Epoch 45/200, Train Loss: 0.0063, Test Loss: 0.0230\n",
      "Epoch 50/200, Train Loss: 0.0060, Test Loss: 0.0301\n",
      "Epoch 55/200, Train Loss: 0.0059, Test Loss: 0.0223\n",
      "Epoch 60/200, Train Loss: 0.0060, Test Loss: 0.0235\n",
      "Epoch 65/200, Train Loss: 0.0059, Test Loss: 0.0332\n",
      "Epoch 70/200, Train Loss: 0.0057, Test Loss: 0.0227\n",
      "Epoch 75/200, Train Loss: 0.0056, Test Loss: 0.0274\n",
      "Epoch 80/200, Train Loss: 0.0055, Test Loss: 0.0232\n",
      "Epoch 85/200, Train Loss: 0.0055, Test Loss: 0.0253\n",
      "Epoch 90/200, Train Loss: 0.0054, Test Loss: 0.0240\n",
      "Epoch 95/200, Train Loss: 0.0054, Test Loss: 0.0255\n",
      "Epoch 100/200, Train Loss: 0.0054, Test Loss: 0.0230\n",
      "Epoch 105/200, Train Loss: 0.0053, Test Loss: 0.0235\n",
      "Epoch 110/200, Train Loss: 0.0053, Test Loss: 0.0215\n",
      "Epoch 115/200, Train Loss: 0.0053, Test Loss: 0.0219\n",
      "Epoch 120/200, Train Loss: 0.0053, Test Loss: 0.0209\n",
      "Epoch 125/200, Train Loss: 0.0053, Test Loss: 0.0209\n",
      "Epoch 130/200, Train Loss: 0.0052, Test Loss: 0.0199\n",
      "Epoch 135/200, Train Loss: 0.0052, Test Loss: 0.0198\n",
      "Epoch 140/200, Train Loss: 0.0052, Test Loss: 0.0193\n",
      "Epoch 145/200, Train Loss: 0.0052, Test Loss: 0.0190\n",
      "Epoch 150/200, Train Loss: 0.0052, Test Loss: 0.0187\n",
      "Epoch 155/200, Train Loss: 0.0052, Test Loss: 0.0183\n",
      "Epoch 160/200, Train Loss: 0.0052, Test Loss: 0.0181\n",
      "Epoch 165/200, Train Loss: 0.0052, Test Loss: 0.0177\n",
      "Epoch 170/200, Train Loss: 0.0052, Test Loss: 0.0175\n",
      "Epoch 175/200, Train Loss: 0.0052, Test Loss: 0.0172\n",
      "Epoch 180/200, Train Loss: 0.0052, Test Loss: 0.0169\n",
      "Epoch 185/200, Train Loss: 0.0052, Test Loss: 0.0167\n",
      "Epoch 190/200, Train Loss: 0.0051, Test Loss: 0.0165\n",
      "Epoch 195/200, Train Loss: 0.0051, Test Loss: 0.0163\n",
      "Epoch 200/200, Train Loss: 0.0051, Test Loss: 0.0161\n"
     ]
    }
   ],
   "source": [
    "train_losses, test_losses = full_gd(model,\n",
    "                                    criterion,\n",
    "                                    optimizer,\n",
    "                                    X_train,\n",
    "                                    y_train,\n",
    "                                    X_test,\n",
    "                                    y_test)"
   ]
  },
  {
   "cell_type": "code",
   "execution_count": 25,
   "metadata": {
    "colab": {
     "base_uri": "https://localhost:8080/",
     "height": 265
    },
    "colab_type": "code",
    "id": "TA9ZKt4aFIGO",
    "outputId": "a893539f-a28e-4370-b07a-0d757cfae672"
   },
   "outputs": [
    {
     "data": {
      "image/png": "[encoded data removed]",
      "text/plain": [
       "<Figure size 432x288 with 1 Axes>"
      ]
     },
     "metadata": {
      "needs_background": "light"
     },
     "output_type": "display_data"
    }
   ],
   "source": [
    "# Plot the train loss and test loss per iteration\n",
    "plt.plot(train_losses, label='train loss')\n",
    "plt.plot(test_losses, label='test loss')\n",
    "plt.legend()\n",
    "plt.show()"
   ]
  },
  {
   "cell_type": "code",
   "execution_count": 26,
   "metadata": {
    "colab": {},
    "colab_type": "code",
    "id": "1vAQGe6JFSM9"
   },
   "outputs": [],
   "source": [
    "# One-step forecast using true targets\n",
    "validation_target = Y\n",
    "validation_predictions = []\n",
    "\n",
    "# index of first validation input\n",
    "i = 0\n",
    "\n",
    "X_on_device = torch.from_numpy(X.astype(np.float32)).to(device)\n",
    "\n",
    "while len(validation_predictions) < len(validation_target):\n",
    "  input_ = X_on_device[i].reshape(1, T, 1)\n",
    "  p = model(input_)[0,0].item() # 1x1 array -> scalar\n",
    "  i += 1\n",
    "  \n",
    "  # update the predictions list\n",
    "  validation_predictions.append(p)"
   ]
  },
  {
   "cell_type": "code",
   "execution_count": 27,
   "metadata": {
    "colab": {
     "base_uri": "https://localhost:8080/",
     "height": 282
    },
    "colab_type": "code",
    "id": "WmlRrKo8FU9d",
    "outputId": "dd45ebf3-7c3f-4e9b-dff2-9503d77f1cca"
   },
   "outputs": [
    {
     "data": {
      "text/plain": [
       "<matplotlib.legend.Legend at 0x2ca0a23c288>"
      ]
     },
     "execution_count": 27,
     "metadata": {},
     "output_type": "execute_result"
    },
    {
     "data": {
      "image/png": "[encoded data removed]",
      "text/plain": [
       "<Figure size 432x288 with 1 Axes>"
      ]
     },
     "metadata": {
      "needs_background": "light"
     },
     "output_type": "display_data"
    }
   ],
   "source": [
    "plt.plot(validation_target, label='forecast target')\n",
    "plt.plot(validation_predictions, label='forecast prediction')\n",
    "plt.legend()"
   ]
  },
  {
   "cell_type": "code",
   "execution_count": 28,
   "metadata": {
    "colab": {},
    "colab_type": "code",
    "id": "o_nIYq4tGU4g"
   },
   "outputs": [],
   "source": [
    "# Multi-step forecast\n",
    "validation_target = Y[-N//2:]\n",
    "validation_predictions = []\n",
    "\n",
    "# last train input\n",
    "last_x = X_test[0].view(T)\n",
    "\n",
    "while len(validation_predictions) < len(validation_target):\n",
    "  input_ = last_x.reshape(1, T, 1)\n",
    "  p = model(input_)\n",
    "  # [0,0] # 1x1 array -> scalar\n",
    "  \n",
    "  # update the predictions list\n",
    "  validation_predictions.append(p[0,0].item())\n",
    "  \n",
    "  # make the new input\n",
    "  last_x = torch.cat((last_x[1:], p[0]))"
   ]
  },
  {
   "cell_type": "code",
   "execution_count": 29,
   "metadata": {
    "colab": {
     "base_uri": "https://localhost:8080/",
     "height": 282
    },
    "colab_type": "code",
    "id": "rc-qBmQlGs7-",
    "outputId": "f59c596a-920c-4f80-cd2b-8b19f7abfba4"
   },
   "outputs": [
    {
     "data": {
      "text/plain": [
       "<matplotlib.legend.Legend at 0x2ca1e74ff48>"
      ]
     },
     "execution_count": 29,
     "metadata": {},
     "output_type": "execute_result"
    },
    {
     "data": {
      "image/png": "[encoded data removed]",
      "text/plain": [
       "<Figure size 432x288 with 1 Axes>"
      ]
     },
     "metadata": {
      "needs_background": "light"
     },
     "output_type": "display_data"
    }
   ],
   "source": [
    "plt.plot(validation_target, label='forecast target')\n",
    "plt.plot(validation_predictions, label='forecast prediction')\n",
    "plt.legend()"
   ]
  },
  {
   "cell_type": "markdown",
   "metadata": {
    "colab_type": "text",
    "id": "tHOwz6LxH4RJ"
   },
   "source": [
    "# Part 2: Returns"
   ]
  },
  {
   "cell_type": "code",
   "execution_count": 30,
   "metadata": {
    "colab": {},
    "colab_type": "code",
    "id": "xBjrWdZmG0KL"
   },
   "outputs": [],
   "source": [
    "# calculate returns by first shifting the data\n",
    "df['PrevClose'] = df['close'].shift(1) # move everything up 1\n",
    "\n",
    "# so now it's like\n",
    "# close / prev close\n",
    "# x[2] x[1]\n",
    "# x[3] x[2]\n",
    "# x[4] x[3]\n",
    "# ...\n",
    "# x[t] x[t-1]"
   ]
  },
  {
   "cell_type": "code",
   "execution_count": 31,
   "metadata": {
    "colab": {
     "base_uri": "https://localhost:8080/",
     "height": 204
    },
    "colab_type": "code",
    "id": "a_JMC6A9G2Sr",
    "outputId": "401c7d17-b431-4ef8-958f-5cd28238b5eb"
   },
   "outputs": [
    {
     "data": {
      "text/html": [
       "<div>\n",
       "<style scoped>\n",
       "    .dataframe tbody tr th:only-of-type {\n",
       "        vertical-align: middle;\n",
       "    }\n",
       "\n",
       "    .dataframe tbody tr th {\n",
       "        vertical-align: top;\n",
       "    }\n",
       "\n",
       "    .dataframe thead th {\n",
       "        text-align: right;\n",
       "    }\n",
       "</style>\n",
       "<table border=\"1\" class=\"dataframe\">\n",
       "  <thead>\n",
       "    <tr style=\"text-align: right;\">\n",
       "      <th></th>\n",
       "      <th>date</th>\n",
       "      <th>open</th>\n",
       "      <th>high</th>\n",
       "      <th>low</th>\n",
       "      <th>close</th>\n",
       "      <th>volume</th>\n",
       "      <th>Name</th>\n",
       "      <th>PrevClose</th>\n",
       "    </tr>\n",
       "  </thead>\n",
       "  <tbody>\n",
       "    <tr>\n",
       "      <th>0</th>\n",
       "      <td>2013-02-08</td>\n",
       "      <td>27.920</td>\n",
       "      <td>28.325</td>\n",
       "      <td>27.920</td>\n",
       "      <td>28.185</td>\n",
       "      <td>7146296</td>\n",
       "      <td>SBUX</td>\n",
       "      <td>NaN</td>\n",
       "    </tr>\n",
       "    <tr>\n",
       "      <th>1</th>\n",
       "      <td>2013-02-11</td>\n",
       "      <td>28.260</td>\n",
       "      <td>28.260</td>\n",
       "      <td>27.930</td>\n",
       "      <td>28.070</td>\n",
       "      <td>5457354</td>\n",
       "      <td>SBUX</td>\n",
       "      <td>28.185</td>\n",
       "    </tr>\n",
       "    <tr>\n",
       "      <th>2</th>\n",
       "      <td>2013-02-12</td>\n",
       "      <td>28.000</td>\n",
       "      <td>28.275</td>\n",
       "      <td>27.975</td>\n",
       "      <td>28.130</td>\n",
       "      <td>8665592</td>\n",
       "      <td>SBUX</td>\n",
       "      <td>28.070</td>\n",
       "    </tr>\n",
       "    <tr>\n",
       "      <th>3</th>\n",
       "      <td>2013-02-13</td>\n",
       "      <td>28.230</td>\n",
       "      <td>28.230</td>\n",
       "      <td>27.750</td>\n",
       "      <td>27.915</td>\n",
       "      <td>7022056</td>\n",
       "      <td>SBUX</td>\n",
       "      <td>28.130</td>\n",
       "    </tr>\n",
       "    <tr>\n",
       "      <th>4</th>\n",
       "      <td>2013-02-14</td>\n",
       "      <td>27.765</td>\n",
       "      <td>27.905</td>\n",
       "      <td>27.675</td>\n",
       "      <td>27.775</td>\n",
       "      <td>8899188</td>\n",
       "      <td>SBUX</td>\n",
       "      <td>27.915</td>\n",
       "    </tr>\n",
       "  </tbody>\n",
       "</table>\n",
       "</div>"
      ],
      "text/plain": [
       "         date    open    high     low   close   volume  Name  PrevClose\n",
       "0  2013-02-08  27.920  28.325  27.920  28.185  7146296  SBUX        NaN\n",
       "1  2013-02-11  28.260  28.260  27.930  28.070  5457354  SBUX     28.185\n",
       "2  2013-02-12  28.000  28.275  27.975  28.130  8665592  SBUX     28.070\n",
       "3  2013-02-13  28.230  28.230  27.750  27.915  7022056  SBUX     28.130\n",
       "4  2013-02-14  27.765  27.905  27.675  27.775  8899188  SBUX     27.915"
      ]
     },
     "execution_count": 31,
     "metadata": {},
     "output_type": "execute_result"
    }
   ],
   "source": [
    "df.head()"
   ]
  },
  {
   "cell_type": "code",
   "execution_count": 32,
   "metadata": {
    "colab": {},
    "colab_type": "code",
    "id": "PynKcwMFG4Ur"
   },
   "outputs": [],
   "source": [
    "# then the return is\n",
    "# (x[t] - x[t-1]) / x[t-1]\n",
    "df['Return'] = (df['close'] - df['PrevClose']) / df['PrevClose']"
   ]
  },
  {
   "cell_type": "code",
   "execution_count": 33,
   "metadata": {
    "colab": {
     "base_uri": "https://localhost:8080/",
     "height": 204
    },
    "colab_type": "code",
    "id": "vNkf8pYWG6gK",
    "outputId": "6bf74e2c-7a1a-4156-bc1f-50b681356ca3"
   },
   "outputs": [
    {
     "data": {
      "text/html": [
       "<div>\n",
       "<style scoped>\n",
       "    .dataframe tbody tr th:only-of-type {\n",
       "        vertical-align: middle;\n",
       "    }\n",
       "\n",
       "    .dataframe tbody tr th {\n",
       "        vertical-align: top;\n",
       "    }\n",
       "\n",
       "    .dataframe thead th {\n",
       "        text-align: right;\n",
       "    }\n",
       "</style>\n",
       "<table border=\"1\" class=\"dataframe\">\n",
       "  <thead>\n",
       "    <tr style=\"text-align: right;\">\n",
       "      <th></th>\n",
       "      <th>date</th>\n",
       "      <th>open</th>\n",
       "      <th>high</th>\n",
       "      <th>low</th>\n",
       "      <th>close</th>\n",
       "      <th>volume</th>\n",
       "      <th>Name</th>\n",
       "      <th>PrevClose</th>\n",
       "      <th>Return</th>\n",
       "    </tr>\n",
       "  </thead>\n",
       "  <tbody>\n",
       "    <tr>\n",
       "      <th>0</th>\n",
       "      <td>2013-02-08</td>\n",
       "      <td>27.920</td>\n",
       "      <td>28.325</td>\n",
       "      <td>27.920</td>\n",
       "      <td>28.185</td>\n",
       "      <td>7146296</td>\n",
       "      <td>SBUX</td>\n",
       "      <td>NaN</td>\n",
       "      <td>NaN</td>\n",
       "    </tr>\n",
       "    <tr>\n",
       "      <th>1</th>\n",
       "      <td>2013-02-11</td>\n",
       "      <td>28.260</td>\n",
       "      <td>28.260</td>\n",
       "      <td>27.930</td>\n",
       "      <td>28.070</td>\n",
       "      <td>5457354</td>\n",
       "      <td>SBUX</td>\n",
       "      <td>28.185</td>\n",
       "      <td>-0.004080</td>\n",
       "    </tr>\n",
       "    <tr>\n",
       "      <th>2</th>\n",
       "      <td>2013-02-12</td>\n",
       "      <td>28.000</td>\n",
       "      <td>28.275</td>\n",
       "      <td>27.975</td>\n",
       "      <td>28.130</td>\n",
       "      <td>8665592</td>\n",
       "      <td>SBUX</td>\n",
       "      <td>28.070</td>\n",
       "      <td>0.002138</td>\n",
       "    </tr>\n",
       "    <tr>\n",
       "      <th>3</th>\n",
       "      <td>2013-02-13</td>\n",
       "      <td>28.230</td>\n",
       "      <td>28.230</td>\n",
       "      <td>27.750</td>\n",
       "      <td>27.915</td>\n",
       "      <td>7022056</td>\n",
       "      <td>SBUX</td>\n",
       "      <td>28.130</td>\n",
       "      <td>-0.007643</td>\n",
       "    </tr>\n",
       "    <tr>\n",
       "      <th>4</th>\n",
       "      <td>2013-02-14</td>\n",
       "      <td>27.765</td>\n",
       "      <td>27.905</td>\n",
       "      <td>27.675</td>\n",
       "      <td>27.775</td>\n",
       "      <td>8899188</td>\n",
       "      <td>SBUX</td>\n",
       "      <td>27.915</td>\n",
       "      <td>-0.005015</td>\n",
       "    </tr>\n",
       "  </tbody>\n",
       "</table>\n",
       "</div>"
      ],
      "text/plain": [
       "         date    open    high     low   close   volume  Name  PrevClose  \\\n",
       "0  2013-02-08  27.920  28.325  27.920  28.185  7146296  SBUX        NaN   \n",
       "1  2013-02-11  28.260  28.260  27.930  28.070  5457354  SBUX     28.185   \n",
       "2  2013-02-12  28.000  28.275  27.975  28.130  8665592  SBUX     28.070   \n",
       "3  2013-02-13  28.230  28.230  27.750  27.915  7022056  SBUX     28.130   \n",
       "4  2013-02-14  27.765  27.905  27.675  27.775  8899188  SBUX     27.915   \n",
       "\n",
       "     Return  \n",
       "0       NaN  \n",
       "1 -0.004080  \n",
       "2  0.002138  \n",
       "3 -0.007643  \n",
       "4 -0.005015  "
      ]
     },
     "execution_count": 33,
     "metadata": {},
     "output_type": "execute_result"
    }
   ],
   "source": [
    "df.head()"
   ]
  },
  {
   "cell_type": "code",
   "execution_count": 34,
   "metadata": {
    "colab": {
     "base_uri": "https://localhost:8080/",
     "height": 265
    },
    "colab_type": "code",
    "id": "LXD_mqvRoaP5",
    "outputId": "18a7a344-2a1e-467f-f111-c9d1510e350b"
   },
   "outputs": [
    {
     "data": {
      "image/png": "[encoded data removed]",
      "text/plain": [
       "<Figure size 432x288 with 1 Axes>"
      ]
     },
     "metadata": {
      "needs_background": "light"
     },
     "output_type": "display_data"
    }
   ],
   "source": [
    "plt.plot(df['Return']);"
   ]
  },
  {
   "cell_type": "code",
   "execution_count": 35,
   "metadata": {
    "colab": {
     "base_uri": "https://localhost:8080/",
     "height": 282
    },
    "colab_type": "code",
    "id": "ePCjxG3WG8O5",
    "outputId": "de8d11a0-2394-4bb7-d50b-8648033c8048"
   },
   "outputs": [
    {
     "data": {
      "text/plain": [
       "<matplotlib.axes._subplots.AxesSubplot at 0x2ca1e7303c8>"
      ]
     },
     "execution_count": 35,
     "metadata": {},
     "output_type": "execute_result"
    },
    {
     "data": {
      "image/png": "[encoded data removed]",
      "text/plain": [
       "<Figure size 432x288 with 1 Axes>"
      ]
     },
     "metadata": {
      "needs_background": "light"
     },
     "output_type": "display_data"
    }
   ],
   "source": [
    "# Now let's try an LSTM to predict returns\n",
    "df['Return'].hist()"
   ]
  },
  {
   "cell_type": "code",
   "execution_count": 36,
   "metadata": {
    "colab": {},
    "colab_type": "code",
    "id": "7bpSyngPG-4d"
   },
   "outputs": [],
   "source": [
    "series = df['Return'].values[1:].reshape(-1, 1)\n",
    "\n",
    "# Normalize the data\n",
    "# Note: I didn't think about where the true boundary is, this is just approx.\n",
    "scaler = StandardScaler()\n",
    "scaler.fit(series[:len(series) // 2])\n",
    "series = scaler.transform(series).flatten()"
   ]
  },
  {
   "cell_type": "code",
   "execution_count": 37,
   "metadata": {
    "colab": {
     "base_uri": "https://localhost:8080/",
     "height": 34
    },
    "colab_type": "code",
    "id": "l2WJxImAHBdc",
    "outputId": "39ec057e-3c4c-4477-f149-869ea8886834"
   },
   "outputs": [
    {
     "name": "stdout",
     "output_type": "stream",
     "text": [
      "X.shape (1238, 20, 1) Y.shape (1238, 1)\n"
     ]
    }
   ],
   "source": [
    "### build the dataset\n",
    "# let's see if we can use T past values to predict the next value\n",
    "T = 20\n",
    "D = 1\n",
    "X = []\n",
    "Y = []\n",
    "for t in range(len(series) - T):\n",
    "  x = series[t:t+T]\n",
    "  X.append(x)\n",
    "  y = series[t+T]\n",
    "  Y.append(y)\n",
    "\n",
    "X = np.array(X).reshape(-1, T, 1) # Now the data should be N x T x D\n",
    "Y = np.array(Y).reshape(-1, 1)\n",
    "N = len(X)\n",
    "print(\"X.shape\", X.shape, \"Y.shape\", Y.shape)"
   ]
  },
  {
   "cell_type": "code",
   "execution_count": 38,
   "metadata": {
    "colab": {
     "base_uri": "https://localhost:8080/",
     "height": 85
    },
    "colab_type": "code",
    "id": "HAwpOxy_HF_6",
    "outputId": "15952d6e-45bf-4def-90fb-103329560ae6"
   },
   "outputs": [
    {
     "data": {
      "text/plain": [
       "RNN(\n",
       "  (rnn): LSTM(1, 5, batch_first=True)\n",
       "  (fc): Linear(in_features=5, out_features=1, bias=True)\n",
       ")"
      ]
     },
     "execution_count": 38,
     "metadata": {},
     "output_type": "execute_result"
    }
   ],
   "source": [
    "### try autoregressive RNN model\n",
    "model = RNN(1, 5, 1, 1)\n",
    "model.to(device)"
   ]
  },
  {
   "cell_type": "code",
   "execution_count": 39,
   "metadata": {
    "colab": {},
    "colab_type": "code",
    "id": "iR1GzyxHHNp6"
   },
   "outputs": [],
   "source": [
    "# Loss and optimizer\n",
    "criterion = nn.MSELoss()\n",
    "optimizer = torch.optim.Adam(model.parameters(), lr=0.01)"
   ]
  },
  {
   "cell_type": "code",
   "execution_count": 40,
   "metadata": {
    "colab": {},
    "colab_type": "code",
    "id": "h7cIJyaWHSoM"
   },
   "outputs": [],
   "source": [
    "# Make inputs and targets\n",
    "X_train = torch.from_numpy(X[:-N//2].astype(np.float32))\n",
    "y_train = torch.from_numpy(Y[:-N//2].astype(np.float32))\n",
    "X_test = torch.from_numpy(X[-N//2:].astype(np.float32))\n",
    "y_test = torch.from_numpy(Y[-N//2:].astype(np.float32))"
   ]
  },
  {
   "cell_type": "code",
   "execution_count": 41,
   "metadata": {
    "colab": {},
    "colab_type": "code",
    "id": "YDapFNV3HVJ7"
   },
   "outputs": [],
   "source": [
    "# move data to GPU\n",
    "X_train, y_train = X_train.to(device), y_train.to(device)\n",
    "X_test, y_test = X_test.to(device), y_test.to(device)"
   ]
  },
  {
   "cell_type": "code",
   "execution_count": 42,
   "metadata": {
    "colab": {
     "base_uri": "https://localhost:8080/",
     "height": 697
    },
    "colab_type": "code",
    "id": "WEgfpWY8HXSh",
    "outputId": "b5d88d6a-6951-4a11-ac19-e700ffd259cf"
   },
   "outputs": [
    {
     "name": "stdout",
     "output_type": "stream",
     "text": [
      "Epoch 5/200, Train Loss: 1.0700, Test Loss: 1.0729\n",
      "Epoch 10/200, Train Loss: 1.0507, Test Loss: 1.0783\n",
      "Epoch 15/200, Train Loss: 1.0535, Test Loss: 1.0857\n",
      "Epoch 20/200, Train Loss: 1.0483, Test Loss: 1.0753\n",
      "Epoch 25/200, Train Loss: 1.0467, Test Loss: 1.0705\n",
      "Epoch 30/200, Train Loss: 1.0455, Test Loss: 1.0712\n",
      "Epoch 35/200, Train Loss: 1.0430, Test Loss: 1.0757\n",
      "Epoch 40/200, Train Loss: 1.0417, Test Loss: 1.0816\n",
      "Epoch 45/200, Train Loss: 1.0407, Test Loss: 1.0835\n",
      "Epoch 50/200, Train Loss: 1.0393, Test Loss: 1.0819\n",
      "Epoch 55/200, Train Loss: 1.0382, Test Loss: 1.0825\n",
      "Epoch 60/200, Train Loss: 1.0367, Test Loss: 1.0861\n",
      "Epoch 65/200, Train Loss: 1.0351, Test Loss: 1.0881\n",
      "Epoch 70/200, Train Loss: 1.0334, Test Loss: 1.0882\n",
      "Epoch 75/200, Train Loss: 1.0314, Test Loss: 1.0919\n",
      "Epoch 80/200, Train Loss: 1.0291, Test Loss: 1.0944\n",
      "Epoch 85/200, Train Loss: 1.0263, Test Loss: 1.0983\n",
      "Epoch 90/200, Train Loss: 1.0230, Test Loss: 1.1019\n",
      "Epoch 95/200, Train Loss: 1.0189, Test Loss: 1.1072\n",
      "Epoch 100/200, Train Loss: 1.0136, Test Loss: 1.1133\n",
      "Epoch 105/200, Train Loss: 1.0066, Test Loss: 1.1229\n",
      "Epoch 110/200, Train Loss: 0.9977, Test Loss: 1.1419\n",
      "Epoch 115/200, Train Loss: 0.9862, Test Loss: 1.1728\n",
      "Epoch 120/200, Train Loss: 0.9720, Test Loss: 1.2061\n",
      "Epoch 125/200, Train Loss: 0.9658, Test Loss: 1.2421\n",
      "Epoch 130/200, Train Loss: 0.9578, Test Loss: 1.2399\n",
      "Epoch 135/200, Train Loss: 0.9520, Test Loss: 1.2595\n",
      "Epoch 140/200, Train Loss: 0.9459, Test Loss: 1.2919\n",
      "Epoch 145/200, Train Loss: 0.9404, Test Loss: 1.3113\n",
      "Epoch 150/200, Train Loss: 0.9341, Test Loss: 1.3243\n",
      "Epoch 155/200, Train Loss: 0.9276, Test Loss: 1.3464\n",
      "Epoch 160/200, Train Loss: 0.9209, Test Loss: 1.3662\n",
      "Epoch 165/200, Train Loss: 0.9152, Test Loss: 1.3913\n",
      "Epoch 170/200, Train Loss: 0.9116, Test Loss: 1.3954\n",
      "Epoch 175/200, Train Loss: 0.9088, Test Loss: 1.4045\n",
      "Epoch 180/200, Train Loss: 0.9069, Test Loss: 1.4179\n",
      "Epoch 185/200, Train Loss: 0.8986, Test Loss: 1.4260\n",
      "Epoch 190/200, Train Loss: 0.8961, Test Loss: 1.4233\n",
      "Epoch 195/200, Train Loss: 0.8883, Test Loss: 1.4252\n",
      "Epoch 200/200, Train Loss: 0.8916, Test Loss: 1.4474\n"
     ]
    }
   ],
   "source": [
    "train_losses, test_losses = full_gd(model,\n",
    "                                    criterion,\n",
    "                                    optimizer,\n",
    "                                    X_train,\n",
    "                                    y_train,\n",
    "                                    X_test,\n",
    "                                    y_test)"
   ]
  },
  {
   "cell_type": "code",
   "execution_count": 43,
   "metadata": {
    "colab": {
     "base_uri": "https://localhost:8080/",
     "height": 265
    },
    "colab_type": "code",
    "id": "4kmEBf1DHbIh",
    "outputId": "1cefc3ca-aa73-4f07-948d-511ed5171475"
   },
   "outputs": [
    {
     "data": {
      "image/png": "[encoded data removed]",
      "text/plain": [
       "<Figure size 432x288 with 1 Axes>"
      ]
     },
     "metadata": {
      "needs_background": "light"
     },
     "output_type": "display_data"
    }
   ],
   "source": [
    "# Plot the train loss and test loss per iteration\n",
    "plt.plot(train_losses, label='train loss')\n",
    "plt.plot(test_losses, label='test loss')\n",
    "plt.legend()\n",
    "plt.show()"
   ]
  },
  {
   "cell_type": "code",
   "execution_count": 44,
   "metadata": {
    "colab": {},
    "colab_type": "code",
    "id": "Fkr8I84dHip4"
   },
   "outputs": [],
   "source": [
    "# One-step forecast using true targets\n",
    "validation_target = Y\n",
    "validation_predictions = []\n",
    "\n",
    "# index of first validation input\n",
    "i = 0\n",
    "\n",
    "X_on_device = torch.from_numpy(X.astype(np.float32)).to(device)\n",
    "\n",
    "while len(validation_predictions) < len(validation_target):\n",
    "  input_ = X_on_device[i].reshape(1, T, 1)\n",
    "  p = model(input_)[0,0].item() # 1x1 array -> scalar\n",
    "  i += 1\n",
    "  \n",
    "  # update the predictions list\n",
    "  validation_predictions.append(p)"
   ]
  },
  {
   "cell_type": "code",
   "execution_count": 45,
   "metadata": {
    "colab": {
     "base_uri": "https://localhost:8080/",
     "height": 282
    },
    "colab_type": "code",
    "id": "pcLxuoUkHk1M",
    "outputId": "5160afca-bb4a-4ffe-d39d-1d042d23a6a3"
   },
   "outputs": [
    {
     "data": {
      "text/plain": [
       "<matplotlib.legend.Legend at 0x2ca28dfe988>"
      ]
     },
     "execution_count": 45,
     "metadata": {},
     "output_type": "execute_result"
    },
    {
     "data": {
      "image/png": "[encoded data removed]",
      "text/plain": [
       "<Figure size 432x288 with 1 Axes>"
      ]
     },
     "metadata": {
      "needs_background": "light"
     },
     "output_type": "display_data"
    }
   ],
   "source": [
    "plt.plot(validation_target, label='forecast target')\n",
    "plt.plot(validation_predictions, label='forecast prediction')\n",
    "plt.legend()"
   ]
  },
  {
   "cell_type": "code",
   "execution_count": 46,
   "metadata": {
    "colab": {},
    "colab_type": "code",
    "id": "XvoMGhXrHpuT"
   },
   "outputs": [],
   "source": [
    "# Multi-step forecast\n",
    "validation_target = Y[-N//2:]\n",
    "validation_predictions = []\n",
    "\n",
    "# last train input\n",
    "last_x = X_test[0].view(T)\n",
    "\n",
    "while len(validation_predictions) < len(validation_target):\n",
    "  input_ = last_x.reshape(1, T, 1)\n",
    "  p = model(input_)\n",
    "  # [0,0] # 1x1 array -> scalar\n",
    "  \n",
    "  # update the predictions list\n",
    "  validation_predictions.append(p[0,0].item())\n",
    "  \n",
    "  # make the new input\n",
    "  last_x = torch.cat((last_x[1:], p[0]))"
   ]
  },
  {
   "cell_type": "code",
   "execution_count": 47,
   "metadata": {
    "colab": {
     "base_uri": "https://localhost:8080/",
     "height": 282
    },
    "colab_type": "code",
    "id": "WnYmGBvwHsqs",
    "outputId": "5f69d066-8732-44ae-c85d-4fee7b8cbc5d"
   },
   "outputs": [
    {
     "data": {
      "text/plain": [
       "<matplotlib.legend.Legend at 0x2ca28dfed08>"
      ]
     },
     "execution_count": 47,
     "metadata": {},
     "output_type": "execute_result"
    },
    {
     "data": {
      "image/png": "[encoded data removed]",
      "text/plain": [
       "<Figure size 432x288 with 1 Axes>"
      ]
     },
     "metadata": {
      "needs_background": "light"
     },
     "output_type": "display_data"
    }
   ],
   "source": [
    "plt.plot(validation_target, label='forecast target')\n",
    "plt.plot(validation_predictions, label='forecast prediction')\n",
    "plt.legend()"
   ]
  },
  {
   "cell_type": "markdown",
   "metadata": {
    "colab_type": "text",
    "id": "mLVRD2tmHxoJ"
   },
   "source": [
    "# Part 3: Binary Classification"
   ]
  },
  {
   "cell_type": "code",
   "execution_count": 7,
   "metadata": {},
   "outputs": [
    {
     "data": {
      "text/html": [
       "<div>\n",
       "<style scoped>\n",
       "    .dataframe tbody tr th:only-of-type {\n",
       "        vertical-align: middle;\n",
       "    }\n",
       "\n",
       "    .dataframe tbody tr th {\n",
       "        vertical-align: top;\n",
       "    }\n",
       "\n",
       "    .dataframe thead th {\n",
       "        text-align: right;\n",
       "    }\n",
       "</style>\n",
       "<table border=\"1\" class=\"dataframe\">\n",
       "  <thead>\n",
       "    <tr style=\"text-align: right;\">\n",
       "      <th></th>\n",
       "      <th>patientunitstayid</th>\n",
       "      <th>observationoffset</th>\n",
       "      <th>temperature</th>\n",
       "      <th>heartrate</th>\n",
       "      <th>respiration</th>\n",
       "      <th>systemicsystolic</th>\n",
       "      <th>creatinine</th>\n",
       "      <th>wbcx1000</th>\n",
       "      <th>lactate</th>\n",
       "      <th>urineoutputbyweight</th>\n",
       "      <th>diagnosis</th>\n",
       "    </tr>\n",
       "  </thead>\n",
       "  <tbody>\n",
       "    <tr>\n",
       "      <th>0</th>\n",
       "      <td>143870</td>\n",
       "      <td>7.0</td>\n",
       "      <td>37.132325</td>\n",
       "      <td>44.0</td>\n",
       "      <td>86.0</td>\n",
       "      <td>111.000000</td>\n",
       "      <td>0.89</td>\n",
       "      <td>11.7</td>\n",
       "      <td>2.30671</td>\n",
       "      <td>3.870968</td>\n",
       "      <td>0.0</td>\n",
       "    </tr>\n",
       "    <tr>\n",
       "      <th>1</th>\n",
       "      <td>143870</td>\n",
       "      <td>10.0</td>\n",
       "      <td>37.132325</td>\n",
       "      <td>43.0</td>\n",
       "      <td>80.5</td>\n",
       "      <td>112.500000</td>\n",
       "      <td>0.89</td>\n",
       "      <td>11.7</td>\n",
       "      <td>2.30671</td>\n",
       "      <td>3.870968</td>\n",
       "      <td>0.0</td>\n",
       "    </tr>\n",
       "    <tr>\n",
       "      <th>2</th>\n",
       "      <td>143870</td>\n",
       "      <td>12.0</td>\n",
       "      <td>37.132325</td>\n",
       "      <td>42.0</td>\n",
       "      <td>75.0</td>\n",
       "      <td>114.000000</td>\n",
       "      <td>0.89</td>\n",
       "      <td>11.7</td>\n",
       "      <td>2.30671</td>\n",
       "      <td>3.870968</td>\n",
       "      <td>0.0</td>\n",
       "    </tr>\n",
       "    <tr>\n",
       "      <th>3</th>\n",
       "      <td>143870</td>\n",
       "      <td>17.0</td>\n",
       "      <td>37.132325</td>\n",
       "      <td>41.0</td>\n",
       "      <td>78.0</td>\n",
       "      <td>113.000000</td>\n",
       "      <td>0.89</td>\n",
       "      <td>11.7</td>\n",
       "      <td>2.30671</td>\n",
       "      <td>3.870968</td>\n",
       "      <td>0.0</td>\n",
       "    </tr>\n",
       "    <tr>\n",
       "      <th>4</th>\n",
       "      <td>143870</td>\n",
       "      <td>22.0</td>\n",
       "      <td>37.132325</td>\n",
       "      <td>41.0</td>\n",
       "      <td>73.0</td>\n",
       "      <td>113.000000</td>\n",
       "      <td>0.89</td>\n",
       "      <td>11.7</td>\n",
       "      <td>2.30671</td>\n",
       "      <td>3.870968</td>\n",
       "      <td>0.0</td>\n",
       "    </tr>\n",
       "    <tr>\n",
       "      <th>...</th>\n",
       "      <td>...</td>\n",
       "      <td>...</td>\n",
       "      <td>...</td>\n",
       "      <td>...</td>\n",
       "      <td>...</td>\n",
       "      <td>...</td>\n",
       "      <td>...</td>\n",
       "      <td>...</td>\n",
       "      <td>...</td>\n",
       "      <td>...</td>\n",
       "      <td>...</td>\n",
       "    </tr>\n",
       "    <tr>\n",
       "      <th>1230089</th>\n",
       "      <td>3353113</td>\n",
       "      <td>2671.0</td>\n",
       "      <td>37.132325</td>\n",
       "      <td>87.0</td>\n",
       "      <td>27.0</td>\n",
       "      <td>125.654566</td>\n",
       "      <td>0.57</td>\n",
       "      <td>5.0</td>\n",
       "      <td>1.80000</td>\n",
       "      <td>0.852273</td>\n",
       "      <td>0.0</td>\n",
       "    </tr>\n",
       "    <tr>\n",
       "      <th>1230090</th>\n",
       "      <td>3353113</td>\n",
       "      <td>2676.0</td>\n",
       "      <td>37.132325</td>\n",
       "      <td>85.0</td>\n",
       "      <td>27.0</td>\n",
       "      <td>125.654566</td>\n",
       "      <td>0.57</td>\n",
       "      <td>5.0</td>\n",
       "      <td>1.80000</td>\n",
       "      <td>0.852273</td>\n",
       "      <td>0.0</td>\n",
       "    </tr>\n",
       "    <tr>\n",
       "      <th>1230091</th>\n",
       "      <td>3353113</td>\n",
       "      <td>2681.0</td>\n",
       "      <td>37.132325</td>\n",
       "      <td>84.0</td>\n",
       "      <td>26.0</td>\n",
       "      <td>125.654566</td>\n",
       "      <td>0.57</td>\n",
       "      <td>5.0</td>\n",
       "      <td>1.80000</td>\n",
       "      <td>0.852273</td>\n",
       "      <td>0.0</td>\n",
       "    </tr>\n",
       "    <tr>\n",
       "      <th>1230092</th>\n",
       "      <td>3353113</td>\n",
       "      <td>2686.0</td>\n",
       "      <td>37.132325</td>\n",
       "      <td>84.0</td>\n",
       "      <td>25.0</td>\n",
       "      <td>125.654566</td>\n",
       "      <td>0.57</td>\n",
       "      <td>5.0</td>\n",
       "      <td>1.80000</td>\n",
       "      <td>0.852273</td>\n",
       "      <td>0.0</td>\n",
       "    </tr>\n",
       "    <tr>\n",
       "      <th>1230093</th>\n",
       "      <td>3353113</td>\n",
       "      <td>2691.0</td>\n",
       "      <td>37.132325</td>\n",
       "      <td>84.0</td>\n",
       "      <td>25.0</td>\n",
       "      <td>125.654566</td>\n",
       "      <td>0.57</td>\n",
       "      <td>5.0</td>\n",
       "      <td>1.80000</td>\n",
       "      <td>0.852273</td>\n",
       "      <td>0.0</td>\n",
       "    </tr>\n",
       "  </tbody>\n",
       "</table>\n",
       "<p>1230094 rows × 11 columns</p>\n",
       "</div>"
      ],
      "text/plain": [
       "         patientunitstayid  observationoffset  temperature  heartrate  \\\n",
       "0                   143870                7.0    37.132325       44.0   \n",
       "1                   143870               10.0    37.132325       43.0   \n",
       "2                   143870               12.0    37.132325       42.0   \n",
       "3                   143870               17.0    37.132325       41.0   \n",
       "4                   143870               22.0    37.132325       41.0   \n",
       "...                    ...                ...          ...        ...   \n",
       "1230089            3353113             2671.0    37.132325       87.0   \n",
       "1230090            3353113             2676.0    37.132325       85.0   \n",
       "1230091            3353113             2681.0    37.132325       84.0   \n",
       "1230092            3353113             2686.0    37.132325       84.0   \n",
       "1230093            3353113             2691.0    37.132325       84.0   \n",
       "\n",
       "         respiration  systemicsystolic  creatinine  wbcx1000  lactate  \\\n",
       "0               86.0        111.000000        0.89      11.7  2.30671   \n",
       "1               80.5        112.500000        0.89      11.7  2.30671   \n",
       "2               75.0        114.000000        0.89      11.7  2.30671   \n",
       "3               78.0        113.000000        0.89      11.7  2.30671   \n",
       "4               73.0        113.000000        0.89      11.7  2.30671   \n",
       "...              ...               ...         ...       ...      ...   \n",
       "1230089         27.0        125.654566        0.57       5.0  1.80000   \n",
       "1230090         27.0        125.654566        0.57       5.0  1.80000   \n",
       "1230091         26.0        125.654566        0.57       5.0  1.80000   \n",
       "1230092         25.0        125.654566        0.57       5.0  1.80000   \n",
       "1230093         25.0        125.654566        0.57       5.0  1.80000   \n",
       "\n",
       "         urineoutputbyweight  diagnosis  \n",
       "0                   3.870968        0.0  \n",
       "1                   3.870968        0.0  \n",
       "2                   3.870968        0.0  \n",
       "3                   3.870968        0.0  \n",
       "4                   3.870968        0.0  \n",
       "...                      ...        ...  \n",
       "1230089             0.852273        0.0  \n",
       "1230090             0.852273        0.0  \n",
       "1230091             0.852273        0.0  \n",
       "1230092             0.852273        0.0  \n",
       "1230093             0.852273        0.0  \n",
       "\n",
       "[1230094 rows x 11 columns]"
      ]
     },
     "execution_count": 7,
     "metadata": {},
     "output_type": "execute_result"
    }
   ],
   "source": [
    "df = pd.read_csv('../../eICU/training/finalData.csv')\n",
    "df"
   ]
  },
  {
   "cell_type": "code",
   "execution_count": 8,
   "metadata": {
    "colab": {},
    "colab_type": "code",
    "id": "Bndx3QO5HuR9"
   },
   "outputs": [],
   "source": [
    "# Now turn the full data into numpy arrays\n",
    "\n",
    "# Not yet in the final \"X\" format!\n",
    "input_data = df[['temperature', 'heartrate', 'respiration', 'systemicsystolic', 'creatinine', 'wbcx1000', 'lactate', 'urineoutputbyweight']].values\n",
    "targets = df['diagnosis'].values"
   ]
  },
  {
   "cell_type": "code",
   "execution_count": 9,
   "metadata": {
    "colab": {},
    "colab_type": "code",
    "id": "pwdN0u8mH_GN"
   },
   "outputs": [
    {
     "data": {
      "text/plain": [
       "8"
      ]
     },
     "execution_count": 9,
     "metadata": {},
     "output_type": "execute_result"
    }
   ],
   "source": [
    "# Now make the actual data which will go into the neural network\n",
    "T = 10 # the number of time steps to look at to make a prediction for the next day\n",
    "D = input_data.shape[1]\n",
    "N = len(input_data) - T # (e.g. if T=10 and you have 11 data points then you'd only have 1 sample)\n",
    "D"
   ]
  },
  {
   "cell_type": "code",
   "execution_count": 10,
   "metadata": {
    "colab": {},
    "colab_type": "code",
    "id": "8ivu7w3yIFcu"
   },
   "outputs": [],
   "source": [
    "# normalize the inputs\n",
    "Ntrain = len(input_data) * 2 // 3\n",
    "scaler = StandardScaler()\n",
    "scaler.fit(input_data[:Ntrain + T - 1])\n",
    "input_data = scaler.transform(input_data)"
   ]
  },
  {
   "cell_type": "code",
   "execution_count": 11,
   "metadata": {
    "colab": {},
    "colab_type": "code",
    "id": "3S0TJMWHIG68"
   },
   "outputs": [],
   "source": [
    "# Setup X_train and Y_train\n",
    "X_train = np.zeros((Ntrain, T, D))\n",
    "Y_train = np.zeros((Ntrain, 1))\n",
    "\n",
    "for t in range(Ntrain):\n",
    "  X_train[t, :, :] = input_data[t:t+T]\n",
    "  Y_train[t] = (targets[t+T] > 0)"
   ]
  },
  {
   "cell_type": "code",
   "execution_count": 12,
   "metadata": {
    "colab": {},
    "colab_type": "code",
    "id": "v5OPoVZnIIoq"
   },
   "outputs": [],
   "source": [
    "# Setup X_test and Y_test\n",
    "X_test = np.zeros((N - Ntrain, T, D))\n",
    "Y_test = np.zeros((N - Ntrain, 1))\n",
    "\n",
    "for u in range(N - Ntrain):\n",
    "  # u counts from 0...(N - Ntrain)\n",
    "  # t counts from Ntrain...N\n",
    "  t = u + Ntrain\n",
    "  X_test[u, :, :] = input_data[t:t+T]\n",
    "  Y_test[u] = (targets[t+T] > 0)"
   ]
  },
  {
   "cell_type": "code",
   "execution_count": 13,
   "metadata": {
    "colab": {
     "base_uri": "https://localhost:8080/"
    },
    "colab_type": "code",
    "id": "TTXdPZW9ILDP",
    "outputId": "b5f4e8c1-7915-4e06-d5fd-abb3489b7b16"
   },
   "outputs": [
    {
     "data": {
      "text/plain": [
       "RNN(\n",
       "  (rnn): LSTM(8, 5, num_layers=2, batch_first=True)\n",
       "  (fc): Linear(in_features=5, out_features=1, bias=True)\n",
       ")"
      ]
     },
     "execution_count": 13,
     "metadata": {},
     "output_type": "execute_result"
    }
   ],
   "source": [
    "# make the RNN\n",
    "model = RNN(8, 5, 2, 1)\n",
    "model.to(device)"
   ]
  },
  {
   "cell_type": "code",
   "execution_count": 14,
   "metadata": {
    "colab": {},
    "colab_type": "code",
    "id": "tkNDPzSgIPT8"
   },
   "outputs": [],
   "source": [
    "# Loss and optimizer - it's classification now!\n",
    "criterion = nn.BCEWithLogitsLoss()\n",
    "optimizer = torch.optim.Adam(model.parameters(), lr=0.01)"
   ]
  },
  {
   "cell_type": "code",
   "execution_count": 15,
   "metadata": {
    "colab": {},
    "colab_type": "code",
    "id": "kthbTpgqIab5"
   },
   "outputs": [],
   "source": [
    "# Make inputs and targets\n",
    "X_train = torch.from_numpy(X_train.astype(np.float32))\n",
    "y_train = torch.from_numpy(Y_train.astype(np.float32))\n",
    "X_test = torch.from_numpy(X_test.astype(np.float32))\n",
    "y_test = torch.from_numpy(Y_test.astype(np.float32))"
   ]
  },
  {
   "cell_type": "code",
   "execution_count": 16,
   "metadata": {
    "colab": {},
    "colab_type": "code",
    "id": "acXZJ9gOIhTI"
   },
   "outputs": [],
   "source": [
    "# move data to GPU\n",
    "X_train, y_train = X_train.to(device), y_train.to(device)\n",
    "X_test, y_test = X_test.to(device), y_test.to(device)"
   ]
  },
  {
   "cell_type": "code",
   "execution_count": 30,
   "metadata": {},
   "outputs": [],
   "source": [
    "torch.cuda.empty_cache()"
   ]
  },
  {
   "cell_type": "code",
   "execution_count": 20,
   "metadata": {
    "colab": {
     "base_uri": "https://localhost:8080/"
    },
    "colab_type": "code",
    "id": "He5Z5-z_IjiZ",
    "outputId": "7cb40cb5-87ed-4624-dc91-51bd5c613ae7"
   },
   "outputs": [
    {
     "name": "stdout",
     "output_type": "stream",
     "text": [
      "Epoch 5/1000, Train Loss: 0.0159, Test Loss: 0.0161\n",
      "Epoch 10/1000, Train Loss: 0.0150, Test Loss: 0.0153\n",
      "Epoch 15/1000, Train Loss: 0.0142, Test Loss: 0.0145\n",
      "Epoch 20/1000, Train Loss: 0.0135, Test Loss: 0.0138\n",
      "Epoch 25/1000, Train Loss: 0.0128, Test Loss: 0.0132\n",
      "Epoch 30/1000, Train Loss: 0.0122, Test Loss: 0.0126\n",
      "Epoch 35/1000, Train Loss: 0.0117, Test Loss: 0.0121\n",
      "Epoch 40/1000, Train Loss: 0.0112, Test Loss: 0.0116\n",
      "Epoch 45/1000, Train Loss: 0.0107, Test Loss: 0.0111\n",
      "Epoch 50/1000, Train Loss: 0.0103, Test Loss: 0.0107\n",
      "Epoch 55/1000, Train Loss: 0.0099, Test Loss: 0.0103\n",
      "Epoch 60/1000, Train Loss: 0.0095, Test Loss: 0.0100\n",
      "Epoch 65/1000, Train Loss: 0.0092, Test Loss: 0.0096\n",
      "Epoch 70/1000, Train Loss: 0.0088, Test Loss: 0.0093\n",
      "Epoch 75/1000, Train Loss: 0.0085, Test Loss: 0.0090\n",
      "Epoch 80/1000, Train Loss: 0.0082, Test Loss: 0.0087\n",
      "Epoch 85/1000, Train Loss: 0.0080, Test Loss: 0.0085\n",
      "Epoch 90/1000, Train Loss: 0.0077, Test Loss: 0.0083\n",
      "Epoch 95/1000, Train Loss: 0.0075, Test Loss: 0.0080\n",
      "Epoch 100/1000, Train Loss: 0.0073, Test Loss: 0.0078\n",
      "Epoch 105/1000, Train Loss: 0.0071, Test Loss: 0.0076\n",
      "Epoch 110/1000, Train Loss: 0.0069, Test Loss: 0.0074\n",
      "Epoch 115/1000, Train Loss: 0.0067, Test Loss: 0.0072\n",
      "Epoch 120/1000, Train Loss: 0.0065, Test Loss: 0.0071\n",
      "Epoch 125/1000, Train Loss: 0.0064, Test Loss: 0.0069\n",
      "Epoch 130/1000, Train Loss: 0.0062, Test Loss: 0.0068\n",
      "Epoch 135/1000, Train Loss: 0.0060, Test Loss: 0.0066\n",
      "Epoch 140/1000, Train Loss: 0.0059, Test Loss: 0.0065\n",
      "Epoch 145/1000, Train Loss: 0.0058, Test Loss: 0.0063\n",
      "Epoch 150/1000, Train Loss: 0.0056, Test Loss: 0.0062\n",
      "Epoch 155/1000, Train Loss: 0.0055, Test Loss: 0.0061\n",
      "Epoch 160/1000, Train Loss: 0.0054, Test Loss: 0.0060\n",
      "Epoch 165/1000, Train Loss: 0.0053, Test Loss: 0.0059\n",
      "Epoch 170/1000, Train Loss: 0.0052, Test Loss: 0.0058\n",
      "Epoch 175/1000, Train Loss: 0.0051, Test Loss: 0.0057\n",
      "Epoch 180/1000, Train Loss: 0.0050, Test Loss: 0.0056\n",
      "Epoch 185/1000, Train Loss: 0.0049, Test Loss: 0.0055\n",
      "Epoch 190/1000, Train Loss: 0.0048, Test Loss: 0.0054\n",
      "Epoch 195/1000, Train Loss: 0.0047, Test Loss: 0.0053\n",
      "Epoch 200/1000, Train Loss: 0.0046, Test Loss: 0.0052\n",
      "Epoch 205/1000, Train Loss: 0.0045, Test Loss: 0.0052\n",
      "Epoch 210/1000, Train Loss: 0.0045, Test Loss: 0.0051\n",
      "Epoch 215/1000, Train Loss: 0.0044, Test Loss: 0.0050\n",
      "Epoch 220/1000, Train Loss: 0.0043, Test Loss: 0.0050\n",
      "Epoch 225/1000, Train Loss: 0.0042, Test Loss: 0.0049\n",
      "Epoch 230/1000, Train Loss: 0.0042, Test Loss: 0.0048\n",
      "Epoch 235/1000, Train Loss: 0.0041, Test Loss: 0.0048\n",
      "Epoch 240/1000, Train Loss: 0.0041, Test Loss: 0.0047\n",
      "Epoch 245/1000, Train Loss: 0.0040, Test Loss: 0.0046\n",
      "Epoch 250/1000, Train Loss: 0.0039, Test Loss: 0.0046\n",
      "Epoch 255/1000, Train Loss: 0.0039, Test Loss: 0.0045\n",
      "Epoch 260/1000, Train Loss: 0.0038, Test Loss: 0.0045\n",
      "Epoch 265/1000, Train Loss: 0.0038, Test Loss: 0.0044\n",
      "Epoch 270/1000, Train Loss: 0.0037, Test Loss: 0.0044\n",
      "Epoch 275/1000, Train Loss: 0.0037, Test Loss: 0.0043\n",
      "Epoch 280/1000, Train Loss: 0.0036, Test Loss: 0.0043\n",
      "Epoch 285/1000, Train Loss: 0.0036, Test Loss: 0.0043\n",
      "Epoch 290/1000, Train Loss: 0.0035, Test Loss: 0.0042\n",
      "Epoch 295/1000, Train Loss: 0.0035, Test Loss: 0.0042\n",
      "Epoch 300/1000, Train Loss: 0.0035, Test Loss: 0.0041\n",
      "Epoch 305/1000, Train Loss: 0.0034, Test Loss: 0.0041\n",
      "Epoch 310/1000, Train Loss: 0.0034, Test Loss: 0.0041\n",
      "Epoch 315/1000, Train Loss: 0.0033, Test Loss: 0.0040\n",
      "Epoch 320/1000, Train Loss: 0.0033, Test Loss: 0.0040\n",
      "Epoch 325/1000, Train Loss: 0.0033, Test Loss: 0.0040\n",
      "Epoch 330/1000, Train Loss: 0.0032, Test Loss: 0.0039\n",
      "Epoch 335/1000, Train Loss: 0.0032, Test Loss: 0.0039\n",
      "Epoch 340/1000, Train Loss: 0.0032, Test Loss: 0.0039\n",
      "Epoch 345/1000, Train Loss: 0.0031, Test Loss: 0.0038\n",
      "Epoch 350/1000, Train Loss: 0.0031, Test Loss: 0.0038\n",
      "Epoch 355/1000, Train Loss: 0.0031, Test Loss: 0.0038\n",
      "Epoch 360/1000, Train Loss: 0.0030, Test Loss: 0.0038\n",
      "Epoch 365/1000, Train Loss: 0.0030, Test Loss: 0.0037\n",
      "Epoch 370/1000, Train Loss: 0.0030, Test Loss: 0.0037\n",
      "Epoch 375/1000, Train Loss: 0.0030, Test Loss: 0.0037\n",
      "Epoch 380/1000, Train Loss: 0.0029, Test Loss: 0.0037\n",
      "Epoch 385/1000, Train Loss: 0.0029, Test Loss: 0.0036\n",
      "Epoch 390/1000, Train Loss: 0.0029, Test Loss: 0.0036\n",
      "Epoch 395/1000, Train Loss: 0.0029, Test Loss: 0.0036\n",
      "Epoch 400/1000, Train Loss: 0.0028, Test Loss: 0.0036\n",
      "Epoch 405/1000, Train Loss: 0.0028, Test Loss: 0.0035\n",
      "Epoch 410/1000, Train Loss: 0.0028, Test Loss: 0.0035\n",
      "Epoch 415/1000, Train Loss: 0.0028, Test Loss: 0.0035\n",
      "Epoch 420/1000, Train Loss: 0.0028, Test Loss: 0.0035\n",
      "Epoch 425/1000, Train Loss: 0.0027, Test Loss: 0.0035\n",
      "Epoch 430/1000, Train Loss: 0.0027, Test Loss: 0.0035\n",
      "Epoch 435/1000, Train Loss: 0.0027, Test Loss: 0.0034\n",
      "Epoch 440/1000, Train Loss: 0.0027, Test Loss: 0.0034\n",
      "Epoch 445/1000, Train Loss: 0.0027, Test Loss: 0.0034\n",
      "Epoch 450/1000, Train Loss: 0.0026, Test Loss: 0.0034\n",
      "Epoch 455/1000, Train Loss: 0.0026, Test Loss: 0.0034\n",
      "Epoch 460/1000, Train Loss: 0.0026, Test Loss: 0.0034\n",
      "Epoch 465/1000, Train Loss: 0.0026, Test Loss: 0.0033\n",
      "Epoch 470/1000, Train Loss: 0.0026, Test Loss: 0.0033\n",
      "Epoch 475/1000, Train Loss: 0.0026, Test Loss: 0.0033\n",
      "Epoch 480/1000, Train Loss: 0.0025, Test Loss: 0.0033\n",
      "Epoch 485/1000, Train Loss: 0.0025, Test Loss: 0.0033\n",
      "Epoch 490/1000, Train Loss: 0.0025, Test Loss: 0.0033\n",
      "Epoch 495/1000, Train Loss: 0.0025, Test Loss: 0.0033\n",
      "Epoch 500/1000, Train Loss: 0.0025, Test Loss: 0.0032\n",
      "Epoch 505/1000, Train Loss: 0.0025, Test Loss: 0.0032\n",
      "Epoch 510/1000, Train Loss: 0.0025, Test Loss: 0.0032\n",
      "Epoch 515/1000, Train Loss: 0.0024, Test Loss: 0.0032\n",
      "Epoch 520/1000, Train Loss: 0.0024, Test Loss: 0.0032\n",
      "Epoch 525/1000, Train Loss: 0.0024, Test Loss: 0.0032\n",
      "Epoch 530/1000, Train Loss: 0.0024, Test Loss: 0.0032\n",
      "Epoch 535/1000, Train Loss: 0.0024, Test Loss: 0.0032\n",
      "Epoch 540/1000, Train Loss: 0.0024, Test Loss: 0.0031\n",
      "Epoch 545/1000, Train Loss: 0.0024, Test Loss: 0.0031\n",
      "Epoch 550/1000, Train Loss: 0.0024, Test Loss: 0.0031\n",
      "Epoch 555/1000, Train Loss: 0.0023, Test Loss: 0.0031\n",
      "Epoch 560/1000, Train Loss: 0.0023, Test Loss: 0.0031\n",
      "Epoch 565/1000, Train Loss: 0.0023, Test Loss: 0.0031\n",
      "Epoch 570/1000, Train Loss: 0.0023, Test Loss: 0.0031\n",
      "Epoch 575/1000, Train Loss: 0.0023, Test Loss: 0.0031\n",
      "Epoch 580/1000, Train Loss: 0.0023, Test Loss: 0.0031\n",
      "Epoch 585/1000, Train Loss: 0.0023, Test Loss: 0.0031\n",
      "Epoch 590/1000, Train Loss: 0.0023, Test Loss: 0.0031\n",
      "Epoch 595/1000, Train Loss: 0.0023, Test Loss: 0.0030\n",
      "Epoch 600/1000, Train Loss: 0.0022, Test Loss: 0.0030\n",
      "Epoch 605/1000, Train Loss: 0.0022, Test Loss: 0.0030\n",
      "Epoch 610/1000, Train Loss: 0.0022, Test Loss: 0.0030\n",
      "Epoch 615/1000, Train Loss: 0.0022, Test Loss: 0.0030\n",
      "Epoch 620/1000, Train Loss: 0.0022, Test Loss: 0.0030\n",
      "Epoch 625/1000, Train Loss: 0.0022, Test Loss: 0.0030\n",
      "Epoch 630/1000, Train Loss: 0.0022, Test Loss: 0.0030\n",
      "Epoch 635/1000, Train Loss: 0.0022, Test Loss: 0.0030\n",
      "Epoch 640/1000, Train Loss: 0.0022, Test Loss: 0.0030\n",
      "Epoch 645/1000, Train Loss: 0.0022, Test Loss: 0.0030\n",
      "Epoch 650/1000, Train Loss: 0.0022, Test Loss: 0.0030\n",
      "Epoch 655/1000, Train Loss: 0.0022, Test Loss: 0.0030\n",
      "Epoch 660/1000, Train Loss: 0.0021, Test Loss: 0.0029\n",
      "Epoch 665/1000, Train Loss: 0.0021, Test Loss: 0.0029\n",
      "Epoch 670/1000, Train Loss: 0.0021, Test Loss: 0.0029\n",
      "Epoch 675/1000, Train Loss: 0.0021, Test Loss: 0.0029\n",
      "Epoch 680/1000, Train Loss: 0.0021, Test Loss: 0.0029\n",
      "Epoch 685/1000, Train Loss: 0.0021, Test Loss: 0.0029\n",
      "Epoch 690/1000, Train Loss: 0.0021, Test Loss: 0.0029\n",
      "Epoch 695/1000, Train Loss: 0.0021, Test Loss: 0.0029\n",
      "Epoch 700/1000, Train Loss: 0.0021, Test Loss: 0.0029\n",
      "Epoch 705/1000, Train Loss: 0.0021, Test Loss: 0.0029\n",
      "Epoch 710/1000, Train Loss: 0.0021, Test Loss: 0.0029\n",
      "Epoch 715/1000, Train Loss: 0.0021, Test Loss: 0.0029\n",
      "Epoch 720/1000, Train Loss: 0.0021, Test Loss: 0.0029\n",
      "Epoch 725/1000, Train Loss: 0.0021, Test Loss: 0.0029\n",
      "Epoch 730/1000, Train Loss: 0.0021, Test Loss: 0.0029\n",
      "Epoch 735/1000, Train Loss: 0.0020, Test Loss: 0.0029\n",
      "Epoch 740/1000, Train Loss: 0.0020, Test Loss: 0.0029\n",
      "Epoch 745/1000, Train Loss: 0.0020, Test Loss: 0.0029\n",
      "Epoch 750/1000, Train Loss: 0.0020, Test Loss: 0.0028\n",
      "Epoch 755/1000, Train Loss: 0.0020, Test Loss: 0.0028\n",
      "Epoch 760/1000, Train Loss: 0.0020, Test Loss: 0.0028\n",
      "Epoch 765/1000, Train Loss: 0.0020, Test Loss: 0.0028\n",
      "Epoch 770/1000, Train Loss: 0.0020, Test Loss: 0.0028\n",
      "Epoch 775/1000, Train Loss: 0.0020, Test Loss: 0.0028\n",
      "Epoch 780/1000, Train Loss: 0.0020, Test Loss: 0.0028\n",
      "Epoch 785/1000, Train Loss: 0.0020, Test Loss: 0.0028\n",
      "Epoch 790/1000, Train Loss: 0.0020, Test Loss: 0.0028\n",
      "Epoch 795/1000, Train Loss: 0.0020, Test Loss: 0.0028\n",
      "Epoch 800/1000, Train Loss: 0.0020, Test Loss: 0.0028\n",
      "Epoch 805/1000, Train Loss: 0.0020, Test Loss: 0.0028\n",
      "Epoch 810/1000, Train Loss: 0.0020, Test Loss: 0.0028\n",
      "Epoch 815/1000, Train Loss: 0.0020, Test Loss: 0.0028\n",
      "Epoch 820/1000, Train Loss: 0.0020, Test Loss: 0.0028\n",
      "Epoch 825/1000, Train Loss: 0.0020, Test Loss: 0.0028\n",
      "Epoch 830/1000, Train Loss: 0.0020, Test Loss: 0.0028\n",
      "Epoch 835/1000, Train Loss: 0.0019, Test Loss: 0.0028\n",
      "Epoch 840/1000, Train Loss: 0.0019, Test Loss: 0.0028\n",
      "Epoch 845/1000, Train Loss: 0.0019, Test Loss: 0.0028\n",
      "Epoch 850/1000, Train Loss: 0.0019, Test Loss: 0.0028\n",
      "Epoch 855/1000, Train Loss: 0.0019, Test Loss: 0.0028\n",
      "Epoch 860/1000, Train Loss: 0.0019, Test Loss: 0.0028\n",
      "Epoch 865/1000, Train Loss: 0.0019, Test Loss: 0.0028\n",
      "Epoch 870/1000, Train Loss: 0.0019, Test Loss: 0.0028\n",
      "Epoch 875/1000, Train Loss: 0.0019, Test Loss: 0.0028\n",
      "Epoch 880/1000, Train Loss: 0.0019, Test Loss: 0.0028\n",
      "Epoch 885/1000, Train Loss: 0.0019, Test Loss: 0.0028\n",
      "Epoch 890/1000, Train Loss: 0.0019, Test Loss: 0.0028\n",
      "Epoch 895/1000, Train Loss: 0.0019, Test Loss: 0.0027\n",
      "Epoch 900/1000, Train Loss: 0.0019, Test Loss: 0.0027\n",
      "Epoch 905/1000, Train Loss: 0.0019, Test Loss: 0.0027\n",
      "Epoch 910/1000, Train Loss: 0.0019, Test Loss: 0.0027\n",
      "Epoch 915/1000, Train Loss: 0.0019, Test Loss: 0.0027\n",
      "Epoch 920/1000, Train Loss: 0.0019, Test Loss: 0.0027\n",
      "Epoch 925/1000, Train Loss: 0.0019, Test Loss: 0.0027\n",
      "Epoch 930/1000, Train Loss: 0.0019, Test Loss: 0.0027\n",
      "Epoch 935/1000, Train Loss: 0.0019, Test Loss: 0.0027\n",
      "Epoch 940/1000, Train Loss: 0.0019, Test Loss: 0.0027\n",
      "Epoch 945/1000, Train Loss: 0.0019, Test Loss: 0.0027\n",
      "Epoch 950/1000, Train Loss: 0.0019, Test Loss: 0.0027\n",
      "Epoch 955/1000, Train Loss: 0.0019, Test Loss: 0.0027\n",
      "Epoch 960/1000, Train Loss: 0.0019, Test Loss: 0.0027\n",
      "Epoch 965/1000, Train Loss: 0.0019, Test Loss: 0.0027\n",
      "Epoch 970/1000, Train Loss: 0.0019, Test Loss: 0.0027\n",
      "Epoch 975/1000, Train Loss: 0.0019, Test Loss: 0.0027\n",
      "Epoch 980/1000, Train Loss: 0.0018, Test Loss: 0.0027\n",
      "Epoch 985/1000, Train Loss: 0.0018, Test Loss: 0.0027\n",
      "Epoch 990/1000, Train Loss: 0.0018, Test Loss: 0.0027\n",
      "Epoch 995/1000, Train Loss: 0.0018, Test Loss: 0.0027\n",
      "Epoch 1000/1000, Train Loss: 0.0018, Test Loss: 0.0027\n"
     ]
    }
   ],
   "source": [
    "train_losses, test_losses = full_gd(model,\n",
    "                                    criterion,\n",
    "                                    optimizer,\n",
    "                                    X_train,\n",
    "                                    y_train,\n",
    "                                    X_test,\n",
    "                                    y_test,\n",
    "                                    epochs=1000)"
   ]
  },
  {
   "cell_type": "code",
   "execution_count": 21,
   "metadata": {
    "colab": {
     "base_uri": "https://localhost:8080/"
    },
    "colab_type": "code",
    "id": "NzD5qsMxJxuY",
    "outputId": "02733c51-d842-4404-b746-ad0087b12154"
   },
   "outputs": [
    {
     "data": {
      "image/png": "[encoded data removed]",
      "text/plain": [
       "<Figure size 432x288 with 1 Axes>"
      ]
     },
     "metadata": {
      "needs_background": "light"
     },
     "output_type": "display_data"
    }
   ],
   "source": [
    "# Plot the train loss and test loss per iteration\n",
    "plt.plot(train_losses, label='train loss')\n",
    "plt.plot(test_losses, label='test loss')\n",
    "plt.legend()\n",
    "plt.show()"
   ]
  },
  {
   "cell_type": "code",
   "execution_count": 22,
   "metadata": {
    "colab": {
     "base_uri": "https://localhost:8080/"
    },
    "colab_type": "code",
    "id": "5IACnu3gJ4dK",
    "outputId": "b74b4960-2b57-4d9c-bdad-e19f86236cf1"
   },
   "outputs": [
    {
     "name": "stdout",
     "output_type": "stream",
     "text": [
      "Train acc: 0.9998, Test acc: 0.9997\n"
     ]
    }
   ],
   "source": [
    "# Get accuracy\n",
    "with torch.no_grad():\n",
    "  p_train = model(X_train)\n",
    "  p_train = (p_train.cpu().numpy() > 0)\n",
    "  train_acc = np.mean(y_train.cpu().numpy() == p_train)\n",
    "\n",
    "  p_test = model(X_test)\n",
    "  p_test = (p_test.cpu().numpy() > 0)\n",
    "  test_acc = np.mean(y_test.cpu().numpy() == p_test)\n",
    "print(f\"Train acc: {train_acc:.4f}, Test acc: {test_acc:.4f}\")"
   ]
  },
  {
   "cell_type": "code",
   "execution_count": null,
   "metadata": {},
   "outputs": [],
   "source": []
  }
 ],
 "metadata": {
  "colab": {
   "name": "PyTorch Stock Returns.ipynb",
   "provenance": []
  },
  "kernelspec": {
   "display_name": "Python 3",
   "language": "python",
   "name": "python3"
  },
  "language_info": {
   "codemirror_mode": {
    "name": "ipython",
    "version": 3
   },
   "file_extension": ".py",
   "mimetype": "text/x-python",
   "name": "python",
   "nbconvert_exporter": "python",
   "pygments_lexer": "ipython3",
   "version": "3.7.7"
  }
 },
 "nbformat": 4,
 "nbformat_minor": 4
}
