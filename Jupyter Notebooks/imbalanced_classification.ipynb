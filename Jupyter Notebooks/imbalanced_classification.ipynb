{
 "cells": [
  {
   "cell_type": "code",
   "execution_count": 1,
   "metadata": {},
   "outputs": [],
   "source": [
    "import numpy as np\n",
    "import random\n",
    "import sklearn.linear_model as linear\n",
    "from sklearn.ensemble import RandomForestClassifier\n",
    "from sklearn.naive_bayes import GaussianNB\n",
    "import sklearn.model_selection as selection\n",
    "from sklearn.preprocessing import MinMaxScaler, LabelEncoder\n",
    "from sklearn import metrics\n",
    "\n",
    "import torch as th\n",
    "import torch.nn as nn\n",
    "import torch.optim as optim\n",
    "import scipy.stats as stats\n",
    "import matplotlib.pyplot as plt\n",
    "import seaborn as sns\n",
    "import pandas as pd\n",
    "\n",
    "import warnings\n",
    "warnings.filterwarnings('ignore')"
   ]
  },
  {
   "cell_type": "code",
   "execution_count": 2,
   "metadata": {
    "collapsed": false,
    "jupyter": {
     "outputs_hidden": false
    },
    "pycharm": {
     "name": "#%%\n"
    }
   },
   "outputs": [],
   "source": [
    "databasePath = \"../eICU/training/\"\n",
    "exportPath = \"../eICU/training/\""
   ]
  },
  {
   "cell_type": "code",
   "execution_count": 3,
   "metadata": {
    "collapsed": false,
    "jupyter": {
     "outputs_hidden": false
    },
    "pycharm": {
     "name": "#%%\n"
    }
   },
   "outputs": [
    {
     "data": {
      "text/html": [
       "<div>\n",
       "<style scoped>\n",
       "    .dataframe tbody tr th:only-of-type {\n",
       "        vertical-align: middle;\n",
       "    }\n",
       "\n",
       "    .dataframe tbody tr th {\n",
       "        vertical-align: top;\n",
       "    }\n",
       "\n",
       "    .dataframe thead th {\n",
       "        text-align: right;\n",
       "    }\n",
       "</style>\n",
       "<table border=\"1\" class=\"dataframe\">\n",
       "  <thead>\n",
       "    <tr style=\"text-align: right;\">\n",
       "      <th></th>\n",
       "      <th>patientid</th>\n",
       "      <th>temperature_min</th>\n",
       "      <th>temperature_max</th>\n",
       "      <th>temperature_mean</th>\n",
       "      <th>temperature_std</th>\n",
       "      <th>temperature_kurtosis</th>\n",
       "      <th>temperature_skew</th>\n",
       "      <th>temperature_median</th>\n",
       "      <th>heartrate_min</th>\n",
       "      <th>heartrate_max</th>\n",
       "      <th>...</th>\n",
       "      <th>creatinine_skew</th>\n",
       "      <th>creatinine_median</th>\n",
       "      <th>urineoutputbyweight_min</th>\n",
       "      <th>urineoutputbyweight_max</th>\n",
       "      <th>urineoutputbyweight_mean</th>\n",
       "      <th>urineoutputbyweight_std</th>\n",
       "      <th>urineoutputbyweight_kurtosis</th>\n",
       "      <th>urineoutputbyweight_skew</th>\n",
       "      <th>urineoutputbyweight_median</th>\n",
       "      <th>diagnosis</th>\n",
       "    </tr>\n",
       "  </thead>\n",
       "  <tbody>\n",
       "    <tr>\n",
       "      <th>0</th>\n",
       "      <td>1412030</td>\n",
       "      <td>38.1204</td>\n",
       "      <td>38.1204</td>\n",
       "      <td>38.1204</td>\n",
       "      <td>0.0000</td>\n",
       "      <td>0.0000</td>\n",
       "      <td>0.0000</td>\n",
       "      <td>38.1204</td>\n",
       "      <td>68.0</td>\n",
       "      <td>120.0</td>\n",
       "      <td>...</td>\n",
       "      <td>-1.4140</td>\n",
       "      <td>0.6875</td>\n",
       "      <td>6.9586</td>\n",
       "      <td>6.9586</td>\n",
       "      <td>6.9586</td>\n",
       "      <td>0.0000</td>\n",
       "      <td>0.0000</td>\n",
       "      <td>0.0000</td>\n",
       "      <td>6.9586</td>\n",
       "      <td>0.0</td>\n",
       "    </tr>\n",
       "    <tr>\n",
       "      <th>1</th>\n",
       "      <td>1412271</td>\n",
       "      <td>37.6965</td>\n",
       "      <td>38.1204</td>\n",
       "      <td>38.0819</td>\n",
       "      <td>0.1278</td>\n",
       "      <td>11.0000</td>\n",
       "      <td>-3.3166</td>\n",
       "      <td>38.1204</td>\n",
       "      <td>103.0</td>\n",
       "      <td>112.0</td>\n",
       "      <td>...</td>\n",
       "      <td>0.2131</td>\n",
       "      <td>1.4000</td>\n",
       "      <td>2.4331</td>\n",
       "      <td>2.4331</td>\n",
       "      <td>2.4331</td>\n",
       "      <td>0.0000</td>\n",
       "      <td>0.0000</td>\n",
       "      <td>0.0000</td>\n",
       "      <td>2.4331</td>\n",
       "      <td>1.0</td>\n",
       "    </tr>\n",
       "    <tr>\n",
       "      <th>2</th>\n",
       "      <td>1412290</td>\n",
       "      <td>38.1204</td>\n",
       "      <td>38.1204</td>\n",
       "      <td>38.1204</td>\n",
       "      <td>0.0000</td>\n",
       "      <td>0.0000</td>\n",
       "      <td>0.0000</td>\n",
       "      <td>38.1204</td>\n",
       "      <td>57.0</td>\n",
       "      <td>75.0</td>\n",
       "      <td>...</td>\n",
       "      <td>0.1274</td>\n",
       "      <td>1.2345</td>\n",
       "      <td>4.4543</td>\n",
       "      <td>4.4543</td>\n",
       "      <td>4.4543</td>\n",
       "      <td>0.0000</td>\n",
       "      <td>0.0000</td>\n",
       "      <td>0.0000</td>\n",
       "      <td>4.4543</td>\n",
       "      <td>0.0</td>\n",
       "    </tr>\n",
       "    <tr>\n",
       "      <th>3</th>\n",
       "      <td>1412660</td>\n",
       "      <td>37.4000</td>\n",
       "      <td>38.0000</td>\n",
       "      <td>37.7832</td>\n",
       "      <td>0.1822</td>\n",
       "      <td>-0.3726</td>\n",
       "      <td>-0.6013</td>\n",
       "      <td>37.8000</td>\n",
       "      <td>84.0</td>\n",
       "      <td>109.0</td>\n",
       "      <td>...</td>\n",
       "      <td>-0.5963</td>\n",
       "      <td>1.6136</td>\n",
       "      <td>0.8306</td>\n",
       "      <td>3.7375</td>\n",
       "      <td>3.6347</td>\n",
       "      <td>0.4814</td>\n",
       "      <td>21.5211</td>\n",
       "      <td>-4.7383</td>\n",
       "      <td>3.7375</td>\n",
       "      <td>0.0</td>\n",
       "    </tr>\n",
       "    <tr>\n",
       "      <th>4</th>\n",
       "      <td>1412840</td>\n",
       "      <td>38.1204</td>\n",
       "      <td>38.1204</td>\n",
       "      <td>38.1204</td>\n",
       "      <td>0.0000</td>\n",
       "      <td>0.0000</td>\n",
       "      <td>0.0000</td>\n",
       "      <td>38.1204</td>\n",
       "      <td>70.0</td>\n",
       "      <td>106.0</td>\n",
       "      <td>...</td>\n",
       "      <td>-0.0575</td>\n",
       "      <td>1.0584</td>\n",
       "      <td>0.6420</td>\n",
       "      <td>1.7976</td>\n",
       "      <td>1.5475</td>\n",
       "      <td>0.2748</td>\n",
       "      <td>2.0620</td>\n",
       "      <td>-1.6282</td>\n",
       "      <td>1.5956</td>\n",
       "      <td>0.0</td>\n",
       "    </tr>\n",
       "    <tr>\n",
       "      <th>...</th>\n",
       "      <td>...</td>\n",
       "      <td>...</td>\n",
       "      <td>...</td>\n",
       "      <td>...</td>\n",
       "      <td>...</td>\n",
       "      <td>...</td>\n",
       "      <td>...</td>\n",
       "      <td>...</td>\n",
       "      <td>...</td>\n",
       "      <td>...</td>\n",
       "      <td>...</td>\n",
       "      <td>...</td>\n",
       "      <td>...</td>\n",
       "      <td>...</td>\n",
       "      <td>...</td>\n",
       "      <td>...</td>\n",
       "      <td>...</td>\n",
       "      <td>...</td>\n",
       "      <td>...</td>\n",
       "      <td>...</td>\n",
       "      <td>...</td>\n",
       "    </tr>\n",
       "    <tr>\n",
       "      <th>199338</th>\n",
       "      <td>33532516</td>\n",
       "      <td>32.2000</td>\n",
       "      <td>37.7000</td>\n",
       "      <td>35.3112</td>\n",
       "      <td>2.1057</td>\n",
       "      <td>-1.7574</td>\n",
       "      <td>-0.2178</td>\n",
       "      <td>36.6000</td>\n",
       "      <td>51.0</td>\n",
       "      <td>104.0</td>\n",
       "      <td>...</td>\n",
       "      <td>-0.0645</td>\n",
       "      <td>2.6469</td>\n",
       "      <td>0.0980</td>\n",
       "      <td>5.6373</td>\n",
       "      <td>1.0889</td>\n",
       "      <td>0.9895</td>\n",
       "      <td>3.4195</td>\n",
       "      <td>1.6831</td>\n",
       "      <td>0.8171</td>\n",
       "      <td>1.0</td>\n",
       "    </tr>\n",
       "    <tr>\n",
       "      <th>199339</th>\n",
       "      <td>33532517</td>\n",
       "      <td>32.2000</td>\n",
       "      <td>37.4000</td>\n",
       "      <td>34.5467</td>\n",
       "      <td>1.8862</td>\n",
       "      <td>-1.7703</td>\n",
       "      <td>0.2656</td>\n",
       "      <td>33.4000</td>\n",
       "      <td>51.0</td>\n",
       "      <td>104.0</td>\n",
       "      <td>...</td>\n",
       "      <td>0.1481</td>\n",
       "      <td>2.5493</td>\n",
       "      <td>0.0980</td>\n",
       "      <td>5.6373</td>\n",
       "      <td>0.9832</td>\n",
       "      <td>1.0570</td>\n",
       "      <td>3.9619</td>\n",
       "      <td>1.9491</td>\n",
       "      <td>0.6334</td>\n",
       "      <td>1.0</td>\n",
       "    </tr>\n",
       "    <tr>\n",
       "      <th>199340</th>\n",
       "      <td>33532518</td>\n",
       "      <td>32.2000</td>\n",
       "      <td>36.8000</td>\n",
       "      <td>34.1643</td>\n",
       "      <td>1.7398</td>\n",
       "      <td>-1.4068</td>\n",
       "      <td>0.6213</td>\n",
       "      <td>33.1000</td>\n",
       "      <td>60.0</td>\n",
       "      <td>104.0</td>\n",
       "      <td>...</td>\n",
       "      <td>0.0064</td>\n",
       "      <td>2.4888</td>\n",
       "      <td>0.0980</td>\n",
       "      <td>5.6373</td>\n",
       "      <td>1.0385</td>\n",
       "      <td>1.1231</td>\n",
       "      <td>2.9569</td>\n",
       "      <td>1.7434</td>\n",
       "      <td>0.6010</td>\n",
       "      <td>1.0</td>\n",
       "    </tr>\n",
       "    <tr>\n",
       "      <th>199341</th>\n",
       "      <td>33532540</td>\n",
       "      <td>38.1204</td>\n",
       "      <td>38.1204</td>\n",
       "      <td>38.1204</td>\n",
       "      <td>0.0000</td>\n",
       "      <td>0.0000</td>\n",
       "      <td>0.0000</td>\n",
       "      <td>38.1204</td>\n",
       "      <td>72.0</td>\n",
       "      <td>83.0</td>\n",
       "      <td>...</td>\n",
       "      <td>-2.1039</td>\n",
       "      <td>2.2769</td>\n",
       "      <td>0.3576</td>\n",
       "      <td>19.0703</td>\n",
       "      <td>3.7475</td>\n",
       "      <td>2.6719</td>\n",
       "      <td>13.1009</td>\n",
       "      <td>3.2470</td>\n",
       "      <td>2.3838</td>\n",
       "      <td>0.0</td>\n",
       "    </tr>\n",
       "    <tr>\n",
       "      <th>199342</th>\n",
       "      <td>33532630</td>\n",
       "      <td>38.1204</td>\n",
       "      <td>38.1204</td>\n",
       "      <td>38.1204</td>\n",
       "      <td>0.0000</td>\n",
       "      <td>0.0000</td>\n",
       "      <td>0.0000</td>\n",
       "      <td>38.1204</td>\n",
       "      <td>69.0</td>\n",
       "      <td>95.0</td>\n",
       "      <td>...</td>\n",
       "      <td>0.0000</td>\n",
       "      <td>1.0600</td>\n",
       "      <td>6.9586</td>\n",
       "      <td>6.9586</td>\n",
       "      <td>6.9586</td>\n",
       "      <td>0.0000</td>\n",
       "      <td>0.0000</td>\n",
       "      <td>0.0000</td>\n",
       "      <td>6.9586</td>\n",
       "      <td>0.0</td>\n",
       "    </tr>\n",
       "  </tbody>\n",
       "</table>\n",
       "<p>199343 rows × 58 columns</p>\n",
       "</div>"
      ],
      "text/plain": [
       "        patientid  temperature_min  temperature_max  temperature_mean  \\\n",
       "0         1412030          38.1204          38.1204           38.1204   \n",
       "1         1412271          37.6965          38.1204           38.0819   \n",
       "2         1412290          38.1204          38.1204           38.1204   \n",
       "3         1412660          37.4000          38.0000           37.7832   \n",
       "4         1412840          38.1204          38.1204           38.1204   \n",
       "...           ...              ...              ...               ...   \n",
       "199338   33532516          32.2000          37.7000           35.3112   \n",
       "199339   33532517          32.2000          37.4000           34.5467   \n",
       "199340   33532518          32.2000          36.8000           34.1643   \n",
       "199341   33532540          38.1204          38.1204           38.1204   \n",
       "199342   33532630          38.1204          38.1204           38.1204   \n",
       "\n",
       "        temperature_std  temperature_kurtosis  temperature_skew  \\\n",
       "0                0.0000                0.0000            0.0000   \n",
       "1                0.1278               11.0000           -3.3166   \n",
       "2                0.0000                0.0000            0.0000   \n",
       "3                0.1822               -0.3726           -0.6013   \n",
       "4                0.0000                0.0000            0.0000   \n",
       "...                 ...                   ...               ...   \n",
       "199338           2.1057               -1.7574           -0.2178   \n",
       "199339           1.8862               -1.7703            0.2656   \n",
       "199340           1.7398               -1.4068            0.6213   \n",
       "199341           0.0000                0.0000            0.0000   \n",
       "199342           0.0000                0.0000            0.0000   \n",
       "\n",
       "        temperature_median  heartrate_min  heartrate_max  ...  \\\n",
       "0                  38.1204           68.0          120.0  ...   \n",
       "1                  38.1204          103.0          112.0  ...   \n",
       "2                  38.1204           57.0           75.0  ...   \n",
       "3                  37.8000           84.0          109.0  ...   \n",
       "4                  38.1204           70.0          106.0  ...   \n",
       "...                    ...            ...            ...  ...   \n",
       "199338             36.6000           51.0          104.0  ...   \n",
       "199339             33.4000           51.0          104.0  ...   \n",
       "199340             33.1000           60.0          104.0  ...   \n",
       "199341             38.1204           72.0           83.0  ...   \n",
       "199342             38.1204           69.0           95.0  ...   \n",
       "\n",
       "        creatinine_skew  creatinine_median  urineoutputbyweight_min  \\\n",
       "0               -1.4140             0.6875                   6.9586   \n",
       "1                0.2131             1.4000                   2.4331   \n",
       "2                0.1274             1.2345                   4.4543   \n",
       "3               -0.5963             1.6136                   0.8306   \n",
       "4               -0.0575             1.0584                   0.6420   \n",
       "...                 ...                ...                      ...   \n",
       "199338          -0.0645             2.6469                   0.0980   \n",
       "199339           0.1481             2.5493                   0.0980   \n",
       "199340           0.0064             2.4888                   0.0980   \n",
       "199341          -2.1039             2.2769                   0.3576   \n",
       "199342           0.0000             1.0600                   6.9586   \n",
       "\n",
       "        urineoutputbyweight_max  urineoutputbyweight_mean  \\\n",
       "0                        6.9586                    6.9586   \n",
       "1                        2.4331                    2.4331   \n",
       "2                        4.4543                    4.4543   \n",
       "3                        3.7375                    3.6347   \n",
       "4                        1.7976                    1.5475   \n",
       "...                         ...                       ...   \n",
       "199338                   5.6373                    1.0889   \n",
       "199339                   5.6373                    0.9832   \n",
       "199340                   5.6373                    1.0385   \n",
       "199341                  19.0703                    3.7475   \n",
       "199342                   6.9586                    6.9586   \n",
       "\n",
       "        urineoutputbyweight_std  urineoutputbyweight_kurtosis  \\\n",
       "0                        0.0000                        0.0000   \n",
       "1                        0.0000                        0.0000   \n",
       "2                        0.0000                        0.0000   \n",
       "3                        0.4814                       21.5211   \n",
       "4                        0.2748                        2.0620   \n",
       "...                         ...                           ...   \n",
       "199338                   0.9895                        3.4195   \n",
       "199339                   1.0570                        3.9619   \n",
       "199340                   1.1231                        2.9569   \n",
       "199341                   2.6719                       13.1009   \n",
       "199342                   0.0000                        0.0000   \n",
       "\n",
       "        urineoutputbyweight_skew  urineoutputbyweight_median  diagnosis  \n",
       "0                         0.0000                      6.9586        0.0  \n",
       "1                         0.0000                      2.4331        1.0  \n",
       "2                         0.0000                      4.4543        0.0  \n",
       "3                        -4.7383                      3.7375        0.0  \n",
       "4                        -1.6282                      1.5956        0.0  \n",
       "...                          ...                         ...        ...  \n",
       "199338                    1.6831                      0.8171        1.0  \n",
       "199339                    1.9491                      0.6334        1.0  \n",
       "199340                    1.7434                      0.6010        1.0  \n",
       "199341                    3.2470                      2.3838        0.0  \n",
       "199342                    0.0000                      6.9586        0.0  \n",
       "\n",
       "[199343 rows x 58 columns]"
      ]
     },
     "execution_count": 3,
     "metadata": {},
     "output_type": "execute_result"
    }
   ],
   "source": [
    "finalFeatures = pd.read_csv(databasePath + '/finalFeatures.csv')\n",
    "finalFeatures = finalFeatures.fillna(0) # fills nan from kurtosis and skew\n",
    "finalFeatures"
   ]
  },
  {
   "cell_type": "markdown",
   "metadata": {},
   "source": [
    "#### Cleaning data and Sorting to Input and Target Arrays"
   ]
  },
  {
   "cell_type": "code",
   "execution_count": 4,
   "metadata": {
    "collapsed": false,
    "jupyter": {
     "outputs_hidden": false
    },
    "pycharm": {
     "name": "#%%\n"
    }
   },
   "outputs": [],
   "source": [
    "x = [] # input (attributes)\n",
    "y = [] # output (targets)\n",
    "\n",
    "x = finalFeatures.iloc[:, 1:57].values\n",
    "y = finalFeatures.iloc[:, 57].values\n"
   ]
  },
  {
   "cell_type": "markdown",
   "metadata": {},
   "source": [
    "#### Setting up Models for Neural Network"
   ]
  },
  {
   "cell_type": "code",
   "execution_count": 5,
   "metadata": {
    "collapsed": false,
    "jupyter": {
     "outputs_hidden": false
    },
    "pycharm": {
     "name": "#%%\n"
    }
   },
   "outputs": [],
   "source": [
    "class Model(nn.Module):\n",
    "    def __init__(self):\n",
    "        super().__init__()\n",
    "        self.loss_func = nn.BCELoss()\n",
    "\n",
    "    def forward(self, x):\n",
    "        return None\n",
    "\n",
    "    def loss(self, x, y):\n",
    "        probs = self.forward(x)\n",
    "        return self.loss_func(probs, y)\n",
    "\n",
    "    def predict_proba(self, x, as_numpy=False):\n",
    "        res = self.forward(x)\n",
    "        if as_numpy:\n",
    "            res = res.cpu().detach().numpy()\n",
    "        return res\n",
    "\n",
    "    def predict(self, x, threshold=0.5, as_numpy=False):\n",
    "        probs = self.predict_proba(x, as_numpy)\n",
    "        return probs > threshold\n",
    "\n",
    "    def fit(self, x_train, x_test, y_train, y_test, epochs=1000, lr=0.1, lam=0):\n",
    "        optimizer = optim.RMSprop(self.parameters(), lr=lr)\n",
    "        train_loss_curve = []\n",
    "        test_loss_curve = []\n",
    "        for epoch in range(epochs):\n",
    "            optimizer.zero_grad()\n",
    "            train_loss_val = self.loss(x_train, y_train) + self.regularize(lam)\n",
    "            train_loss_curve.append(train_loss_val.data.item())\n",
    "            train_loss_val.backward()\n",
    "            optimizer.step()\n",
    "            \n",
    "            test_loss_val = self.loss(x_test, y_test) + self.regularize(lam)\n",
    "            test_loss_curve.append(test_loss_val.data.item())\n",
    "            \n",
    "            if epoch % 500 == 0:\n",
    "                print(f'Epoch {epoch}, Train Loss: {train_loss_val:.5f}, Test Loss: {test_loss_val:.5f}')\n",
    "            \n",
    "            \n",
    "        return train_loss_curve, test_loss_curve\n",
    "\n",
    "    def regularize(self, lam):\n",
    "        loss_val = 0\n",
    "        for p in self.parameters():\n",
    "            loss_val += lam * th.norm(p)\n",
    "        return loss_val"
   ]
  },
  {
   "cell_type": "code",
   "execution_count": 6,
   "metadata": {
    "collapsed": false,
    "jupyter": {
     "outputs_hidden": false
    },
    "pycharm": {
     "name": "#%%\n"
    }
   },
   "outputs": [],
   "source": [
    "class NNModel(Model):\n",
    "    def __init__(self):\n",
    "        super().__init__()\n",
    "        self.l1 = nn.Linear(56, 113, bias=True)\n",
    "        self.act1 = nn.PReLU()\n",
    "        self.l2 = nn.Linear(113, 56, bias=True)\n",
    "        self.act2 = nn.PReLU()\n",
    "        self.l3 = nn.Linear(56, 1, bias=True)\n",
    "        self.act3 = nn.Sigmoid()\n",
    "\n",
    "    def get_intermediary(self, x):\n",
    "        res = self.l1(x)\n",
    "        res = self.act1(res)\n",
    "        res = self.l2(res)\n",
    "        res = self.act2(res)\n",
    "\n",
    "        return res\n",
    "\n",
    "    def forward(self, X):\n",
    "        res = self.get_intermediary(X)\n",
    "        res = self.l3(res)\n",
    "        res = self.act3(res)\n",
    "        return res"
   ]
  },
  {
   "cell_type": "markdown",
   "metadata": {},
   "source": [
    "#### Applying Logistic Regression and Neural Network Model"
   ]
  },
  {
   "cell_type": "code",
   "execution_count": 7,
   "metadata": {
    "collapsed": false,
    "jupyter": {
     "outputs_hidden": false
    },
    "pycharm": {
     "name": "#%%\n"
    }
   },
   "outputs": [
    {
     "name": "stdout",
     "output_type": "stream",
     "text": [
      "cuda:0\n"
     ]
    }
   ],
   "source": [
    "device = th.device(\"cuda:0\" if th.cuda.is_available() else \"cpu\")\n",
    "print(device)"
   ]
  },
  {
   "cell_type": "code",
   "execution_count": 8,
   "metadata": {},
   "outputs": [],
   "source": [
    "def random_guessing(inputs):\n",
    "    prediction = []\n",
    "    \n",
    "    for values in inputs:\n",
    "        prediction.append(random.randint(0, 1))\n",
    "        \n",
    "    return prediction"
   ]
  },
  {
   "cell_type": "code",
   "execution_count": 9,
   "metadata": {
    "collapsed": false,
    "jupyter": {
     "outputs_hidden": false
    },
    "pycharm": {
     "is_executing": true,
     "name": "#%%\n"
    }
   },
   "outputs": [
    {
     "name": "stdout",
     "output_type": "stream",
     "text": [
      "Epoch 0, Train Loss: 0.69606, Test Loss: 0.68760\n",
      "Epoch 500, Train Loss: 0.36633, Test Loss: 0.36496\n",
      "Epoch 1000, Train Loss: 0.25722, Test Loss: 0.25163\n",
      "Epoch 1500, Train Loss: 0.21191, Test Loss: 0.20776\n",
      "Epoch 2000, Train Loss: 0.19452, Test Loss: 0.18971\n",
      "Epoch 2500, Train Loss: 0.18206, Test Loss: 0.17931\n",
      "Epoch 3000, Train Loss: 0.17272, Test Loss: 0.17303\n",
      "Epoch 3500, Train Loss: 0.16722, Test Loss: 0.16833\n",
      "Epoch 0, Train Loss: 0.69795, Test Loss: 0.68930\n",
      "Epoch 500, Train Loss: 0.37238, Test Loss: 0.37315\n",
      "Epoch 1000, Train Loss: 0.26637, Test Loss: 0.26972\n",
      "Epoch 1500, Train Loss: 0.21982, Test Loss: 0.22303\n",
      "Epoch 2000, Train Loss: 0.19897, Test Loss: 0.19912\n",
      "Epoch 2500, Train Loss: 0.18583, Test Loss: 0.18688\n",
      "Epoch 3000, Train Loss: 0.17840, Test Loss: 0.17360\n",
      "Epoch 3500, Train Loss: 0.17135, Test Loss: 0.16732\n",
      "Epoch 0, Train Loss: 0.68833, Test Loss: 0.68265\n",
      "Epoch 500, Train Loss: 0.36157, Test Loss: 0.36325\n",
      "Epoch 1000, Train Loss: 0.25684, Test Loss: 0.26183\n",
      "Epoch 1500, Train Loss: 0.21345, Test Loss: 0.21918\n",
      "Epoch 2000, Train Loss: 0.19583, Test Loss: 0.20118\n",
      "Epoch 2500, Train Loss: 0.18530, Test Loss: 0.18678\n",
      "Epoch 3000, Train Loss: 0.17741, Test Loss: 0.17666\n",
      "Epoch 3500, Train Loss: 0.17152, Test Loss: 0.17215\n",
      "Epoch 0, Train Loss: 0.68122, Test Loss: 0.67546\n",
      "Epoch 500, Train Loss: 0.35614, Test Loss: 0.35540\n",
      "Epoch 1000, Train Loss: 0.24960, Test Loss: 0.24717\n",
      "Epoch 1500, Train Loss: 0.20209, Test Loss: 0.20226\n",
      "Epoch 2000, Train Loss: 0.17633, Test Loss: 0.17670\n",
      "Epoch 2500, Train Loss: 0.16067, Test Loss: 0.15921\n",
      "Epoch 3000, Train Loss: 0.14940, Test Loss: 0.14665\n",
      "Epoch 3500, Train Loss: 0.13911, Test Loss: 0.13871\n",
      "Epoch 0, Train Loss: 0.69598, Test Loss: 0.68700\n",
      "Epoch 500, Train Loss: 0.33092, Test Loss: 0.32757\n",
      "Epoch 1000, Train Loss: 0.22718, Test Loss: 0.22318\n",
      "Epoch 1500, Train Loss: 0.19020, Test Loss: 0.18342\n",
      "Epoch 2000, Train Loss: 0.17113, Test Loss: 0.16823\n",
      "Epoch 2500, Train Loss: 0.15994, Test Loss: 0.16107\n",
      "Epoch 3000, Train Loss: 0.15023, Test Loss: 0.15256\n",
      "Epoch 3500, Train Loss: 0.14305, Test Loss: 0.14522\n"
     ]
    }
   ],
   "source": [
    "kf = selection.KFold(n_splits=5, shuffle=True)\n",
    "kf.get_n_splits(x)\n",
    "\n",
    "f1_lr = []\n",
    "f1_nn = []\n",
    "f1_rf = []\n",
    "f1_gnb = []\n",
    "f1_rand = []\n",
    "\n",
    "precision_lr = []\n",
    "precision_nn = []\n",
    "precision_rf = []\n",
    "precision_gnb = []\n",
    "precision_rand = []\n",
    "\n",
    "accuracy_lr = []\n",
    "accuracy_nn = []\n",
    "accuracy_rf = []\n",
    "accuracy_gnb = []\n",
    "accuracy_rand = []\n",
    "\n",
    "recall_lr = []\n",
    "recall_nn = []\n",
    "recall_rf = []\n",
    "recall_gnb = []\n",
    "recall_rand = []\n",
    "\n",
    "ras_lr = []\n",
    "ras_nn = []\n",
    "ras_rf = []\n",
    "ras_gnb = []\n",
    "ras_rand = []\n",
    "\n",
    "train_curve = []\n",
    "test_curve = []\n",
    "\n",
    "def random_guessing(inputs):\n",
    "    prediction = []\n",
    "    \n",
    "    for values in inputs:\n",
    "        prediction.append(random.randint(0, 1))\n",
    "        \n",
    "    return prediction\n",
    "\n",
    "for train_index, test_index in kf.split(x):\n",
    "    X_train, X_test = x[train_index], x[test_index]\n",
    "    y_train, y_test = y[train_index], y[test_index]\n",
    "    \n",
    "    scaler = MinMaxScaler()\n",
    "    X_train = scaler.fit_transform(X_train)\n",
    "    X_test = scaler.transform(X_test)\n",
    "\n",
    "\n",
    "    lr = linear.LogisticRegression(solver='lbfgs')\n",
    "    lr.fit(X_train, y_train)\n",
    "    predictions = lr.predict(X_test)\n",
    "    probs = lr.predict_proba(X_test)[:,1]\n",
    "    f1_lr.append(metrics.f1_score(y_test, predictions))\n",
    "    precision_lr.append(metrics.precision_score(y_test, predictions))\n",
    "    accuracy_lr.append(metrics.accuracy_score(y_test, predictions))\n",
    "    recall_lr.append(metrics.recall_score(y_test, predictions))\n",
    "    ras_lr.append(metrics.roc_auc_score(y_test, predictions))\n",
    "    \n",
    "    rf = RandomForestClassifier(n_estimators=100)\n",
    "    rf.fit(X_train, y_train)\n",
    "    predictions = rf.predict(X_test)\n",
    "    probs = rf.predict_proba(X_test)[:,1]\n",
    "    f1_rf.append(metrics.f1_score(y_test, predictions))\n",
    "    precision_rf.append(metrics.precision_score(y_test, predictions))\n",
    "    accuracy_rf.append(metrics.accuracy_score(y_test, predictions))\n",
    "    recall_rf.append(metrics.recall_score(y_test, predictions))\n",
    "    ras_rf.append(metrics.roc_auc_score(y_test, predictions))\n",
    "    \n",
    "    gnb = GaussianNB()\n",
    "    gnb.fit(X_train, y_train)\n",
    "    predictions = gnb.predict(X_test)\n",
    "    probs = gnb.predict_proba(X_test)[:,1]\n",
    "    f1_gnb.append(metrics.f1_score(y_test, predictions))\n",
    "    precision_gnb.append(metrics.precision_score(y_test, predictions))\n",
    "    accuracy_gnb.append(metrics.accuracy_score(y_test, predictions))\n",
    "    recall_gnb.append(metrics.recall_score(y_test, predictions))\n",
    "    ras_gnb.append(metrics.roc_auc_score(y_test, predictions))\n",
    "    \n",
    "    predictions = random_guessing(X_test)\n",
    "    f1_rand.append(metrics.f1_score(y_test, predictions))\n",
    "    precision_rand.append(metrics.precision_score(y_test, predictions))\n",
    "    accuracy_rand.append(metrics.accuracy_score(y_test, predictions))\n",
    "    recall_rand.append(metrics.recall_score(y_test, predictions))\n",
    "    ras_rand.append(metrics.roc_auc_score(y_test, predictions))\n",
    "    \n",
    "    X_train = th.tensor(X_train, dtype=th.float32)\n",
    "    X_test = th.tensor(X_test, dtype=th.float32)\n",
    "    y_train = th.tensor(y_train, dtype=th.float32).view(-1, 1)\n",
    "    y_test = th.tensor(y_test, dtype=th.float32).view(-1, 1)\n",
    "\n",
    "    X_train, y_train = X_train.to(device), y_train.to(device)\n",
    "    X_test, y_test = X_test.to(device), y_test.to(device)\n",
    "\n",
    "    nn1 = NNModel()\n",
    "    nn1.to(device)\n",
    "\n",
    "    train_loss, test_loss = nn1.fit(X_train, X_test, y_train, y_test, epochs=4000, lr=0.0002, lam=0.0001)\n",
    "    \n",
    "    train_curve.append(train_loss)\n",
    "    test_curve.append(test_loss)\n",
    "    \n",
    "    predictions = nn1.predict(X_test, as_numpy=True)\n",
    "    probs = nn1.predict_proba(X_test, as_numpy=True)\n",
    "    \n",
    "    f1_nn.append(metrics.f1_score(y_test.cpu(), predictions))\n",
    "    precision_nn.append(metrics.precision_score(y_test.cpu(), predictions))\n",
    "    accuracy_nn.append(metrics.accuracy_score(y_test.cpu(), predictions))\n",
    "    recall_nn.append(metrics.recall_score(y_test.cpu(), predictions))\n",
    "    ras_nn.append(metrics.roc_auc_score(y_test.cpu(), predictions))"
   ]
  },
  {
   "cell_type": "code",
   "execution_count": 10,
   "metadata": {},
   "outputs": [
    {
     "data": {
      "image/png": "[encoded data removed]",
      "text/plain": [
       "<Figure size 432x288 with 1 Axes>"
      ]
     },
     "metadata": {
      "needs_background": "light"
     },
     "output_type": "display_data"
    },
    {
     "data": {
      "image/png": "[encoded data removed]",
      "text/plain": [
       "<Figure size 432x288 with 1 Axes>"
      ]
     },
     "metadata": {
      "needs_background": "light"
     },
     "output_type": "display_data"
    },
    {
     "data": {
      "image/png": "[encoded data removed]",
      "text/plain": [
       "<Figure size 432x288 with 1 Axes>"
      ]
     },
     "metadata": {
      "needs_background": "light"
     },
     "output_type": "display_data"
    },
    {
     "data": {
      "image/png": "[encoded data removed]",
      "text/plain": [
       "<Figure size 432x288 with 1 Axes>"
      ]
     },
     "metadata": {
      "needs_background": "light"
     },
     "output_type": "display_data"
    },
    {
     "data": {
      "image/png": "[encoded data removed]",
      "text/plain": [
       "<Figure size 432x288 with 1 Axes>"
      ]
     },
     "metadata": {
      "needs_background": "light"
     },
     "output_type": "display_data"
    }
   ],
   "source": [
    "for i in range(len(train_curve)):\n",
    "    plt.plot(train_curve[i], label='train loss')\n",
    "    plt.plot(test_curve[i], label='test loss')\n",
    "    plt.legend()\n",
    "    plt.title(f'Split {str(i+1)} Train and Test Loss')\n",
    "    plt.show()"
   ]
  },
  {
   "cell_type": "code",
   "execution_count": 11,
   "metadata": {},
   "outputs": [],
   "source": [
    "def plot_loss(loss_curve, i):\n",
    "    plt.plot(list(range(len(loss_curve))), loss_curve, label=f'Split {i+1}')"
   ]
  },
  {
   "cell_type": "code",
   "execution_count": 12,
   "metadata": {},
   "outputs": [
    {
     "data": {
      "image/png": "[encoded data removed]",
      "text/plain": [
       "<Figure size 432x288 with 1 Axes>"
      ]
     },
     "metadata": {
      "needs_background": "light"
     },
     "output_type": "display_data"
    }
   ],
   "source": [
    "for i, curve in enumerate(train_curve):\n",
    "    plot_loss(curve, i)\n",
    "\n",
    "plt.legend()\n",
    "plt.title('Train Loss of All Splits')\n",
    "plt.show()"
   ]
  },
  {
   "cell_type": "code",
   "execution_count": 13,
   "metadata": {},
   "outputs": [
    {
     "data": {
      "image/png": "[encoded data removed]",
      "text/plain": [
       "<Figure size 432x288 with 1 Axes>"
      ]
     },
     "metadata": {
      "needs_background": "light"
     },
     "output_type": "display_data"
    }
   ],
   "source": [
    "for i, curve in enumerate(test_curve):\n",
    "    plot_loss(curve, i)\n",
    "\n",
    "plt.legend()\n",
    "plt.title('Test Loss of All Splits')\n",
    "plt.show()"
   ]
  },
  {
   "cell_type": "markdown",
   "metadata": {},
   "source": [
    "#### Comparing Statistical Results for the Models"
   ]
  },
  {
   "cell_type": "code",
   "execution_count": 14,
   "metadata": {},
   "outputs": [
    {
     "name": "stdout",
     "output_type": "stream",
     "text": [
      "Random Guessing Model F1 Score Mean:  0.43753644425088656\n",
      "Random Guessing Model F1 Score Standard Deviation:  0.004535752089453987 \n",
      "\n",
      "Random Guessing Model Precision Score Mean:  0.38897785771861465\n",
      "Random Guessing Model Precision Score Standard Deviation:  0.003909751927063128 \n",
      "\n",
      "Random Guessing Model Accuracy Score Mean:  0.5001429502278133\n",
      "Random Guessing Model Accuracy Score Standard Deviation:  0.002848391835289497 \n",
      "\n",
      "Random Guessing Model Recall Score Mean:  0.4999696216413326\n",
      "Random Guessing Model Recall Score Standard Deviation:  0.0063001282764026815 \n",
      "\n",
      "Random Guessing Model ROC AUC Score Mean:  0.5001122338360121\n",
      "Random Guessing Model ROC AUC Score Standard Deviation:  0.003201272231629416\n"
     ]
    }
   ],
   "source": [
    "print(\"Random Guessing Model F1 Score Mean: \", np.mean(f1_rand))\n",
    "print(\"Random Guessing Model F1 Score Standard Deviation: \", np.std(f1_rand), '\\n')\n",
    "\n",
    "print(\"Random Guessing Model Precision Score Mean: \", np.mean(precision_rand))\n",
    "print(\"Random Guessing Model Precision Score Standard Deviation: \", np.std(precision_rand), '\\n')\n",
    "\n",
    "print(\"Random Guessing Model Accuracy Score Mean: \", np.mean(accuracy_rand))\n",
    "print(\"Random Guessing Model Accuracy Score Standard Deviation: \", np.std(accuracy_rand), '\\n')\n",
    "\n",
    "print(\"Random Guessing Model Recall Score Mean: \", np.mean(recall_rand))\n",
    "print(\"Random Guessing Model Recall Score Standard Deviation: \", np.std(recall_rand), '\\n')\n",
    "\n",
    "print(\"Random Guessing Model ROC AUC Score Mean: \", np.mean(ras_rand))\n",
    "print(\"Random Guessing Model ROC AUC Score Standard Deviation: \", np.std(ras_rand))"
   ]
  },
  {
   "cell_type": "code",
   "execution_count": 15,
   "metadata": {
    "collapsed": false,
    "jupyter": {
     "outputs_hidden": false
    },
    "pycharm": {
     "is_executing": true,
     "name": "#%%\n"
    }
   },
   "outputs": [
    {
     "name": "stdout",
     "output_type": "stream",
     "text": [
      "Logistic Regression Model F1 Score Mean:  0.9316774264955237\n",
      "Logistic Regression Model F1 Score Standard Deviation:  0.0016990128331505695 \n",
      "\n",
      "Logistic Regression Model Precision Score Mean:  0.9640953107776264\n",
      "Logistic Regression Model Precision Score Standard Deviation:  0.0019097847243130424 \n",
      "\n",
      "Logistic Regression Model Accuracy Score Mean:  0.9485911349385301\n",
      "Logistic Regression Model Accuracy Score Standard Deviation:  0.0012393165916247003 \n",
      "\n",
      "Logistic Regression Model Recall Score Mean:  0.9013890452558411\n",
      "Logistic Regression Model Recall Score Standard Deviation:  0.0045455038870831676 \n",
      "\n",
      "Logistic Regression Model ROC AUC Score Mean:  0.9400114238535066\n",
      "Logistic Regression Model ROC AUC Score Standard Deviation:  0.0017651880799859126\n"
     ]
    }
   ],
   "source": [
    "print(\"Logistic Regression Model F1 Score Mean: \", np.mean(f1_lr))\n",
    "print(\"Logistic Regression Model F1 Score Standard Deviation: \", np.std(f1_lr), '\\n')\n",
    "\n",
    "print(\"Logistic Regression Model Precision Score Mean: \", np.mean(precision_lr))\n",
    "print(\"Logistic Regression Model Precision Score Standard Deviation: \", np.std(precision_lr), '\\n')\n",
    "\n",
    "print(\"Logistic Regression Model Accuracy Score Mean: \", np.mean(accuracy_lr))\n",
    "print(\"Logistic Regression Model Accuracy Score Standard Deviation: \", np.std(accuracy_lr), '\\n')\n",
    "\n",
    "print(\"Logistic Regression Model Recall Score Mean: \", np.mean(recall_lr))\n",
    "print(\"Logistic Regression Model Recall Score Standard Deviation: \", np.std(recall_lr), '\\n')\n",
    "\n",
    "print(\"Logistic Regression Model ROC AUC Score Mean: \", np.mean(ras_lr))\n",
    "print(\"Logistic Regression Model ROC AUC Score Standard Deviation: \", np.std(ras_lr))"
   ]
  },
  {
   "cell_type": "code",
   "execution_count": 16,
   "metadata": {},
   "outputs": [
    {
     "name": "stdout",
     "output_type": "stream",
     "text": [
      "Random Forest Model F1 Score Mean:  0.9950913112593869\n",
      "Random Forest Model F1 Score Standard Deviation:  0.0006599280477183576 \n",
      "\n",
      "Random Forest Model Precision Score Mean:  0.991068175209959\n",
      "Random Forest Model Precision Score Standard Deviation:  0.0013012247388991323 \n",
      "\n",
      "Random Forest Model Accuracy Score Mean:  0.996167408380838\n",
      "Random Forest Model Accuracy Score Standard Deviation:  0.0005116883450381987 \n",
      "\n",
      "Random Forest Model Recall Score Mean:  0.9991481424121995\n",
      "Random Forest Model Recall Score Standard Deviation:  0.0002112263500283289 \n",
      "\n",
      "Random Forest Model ROC AUC Score Mean:  0.9967096867373699\n",
      "Random Forest Model ROC AUC Score Standard Deviation:  0.0004215251093728446 \n",
      "\n"
     ]
    }
   ],
   "source": [
    "print(\"Random Forest Model F1 Score Mean: \", np.mean(f1_rf))\n",
    "print(\"Random Forest Model F1 Score Standard Deviation: \", np.std(f1_rf), '\\n')\n",
    "\n",
    "print(\"Random Forest Model Precision Score Mean: \", np.mean(precision_rf))\n",
    "print(\"Random Forest Model Precision Score Standard Deviation: \", np.std(precision_rf), '\\n')\n",
    "\n",
    "print(\"Random Forest Model Accuracy Score Mean: \", np.mean(accuracy_rf))\n",
    "print(\"Random Forest Model Accuracy Score Standard Deviation: \", np.std(accuracy_rf), '\\n')\n",
    "\n",
    "print(\"Random Forest Model Recall Score Mean: \", np.mean(recall_rf))\n",
    "print(\"Random Forest Model Recall Score Standard Deviation: \", np.std(recall_rf), '\\n')\n",
    "\n",
    "print(\"Random Forest Model ROC AUC Score Mean: \", np.mean(ras_rf))\n",
    "print(\"Random Forest Model ROC AUC Score Standard Deviation: \", np.std(ras_rf), '\\n')"
   ]
  },
  {
   "cell_type": "code",
   "execution_count": 17,
   "metadata": {},
   "outputs": [
    {
     "name": "stdout",
     "output_type": "stream",
     "text": [
      "Gaussian Naive Bayes Model F1 Score Mean:  0.8620005083858409\n",
      "Gaussian Naive Bayes Model F1 Score Standard Deviation:  0.007916157251701712 \n",
      "\n",
      "Gaussian Naive Bayes Model Precision Score Mean:  0.8650145792321059\n",
      "Gaussian Naive Bayes Model Precision Score Standard Deviation:  0.011488916229692558 \n",
      "\n",
      "Gaussian Naive Bayes Model Accuracy Score Mean:  0.8930988190698976\n",
      "Gaussian Naive Bayes Model Accuracy Score Standard Deviation:  0.0036182164288612196 \n",
      "\n",
      "Gaussian Naive Bayes Model Recall Score Mean:  0.8598481338660795\n",
      "Gaussian Naive Bayes Model Recall Score Standard Deviation:  0.02666443766958244 \n",
      "\n",
      "Gaussian Naive Bayes Model ROC AUC Score Mean:  0.8870312293193772\n",
      "Gaussian Naive Bayes Model ROC AUC Score Standard Deviation:  0.0077876316290033006 \n",
      "\n"
     ]
    }
   ],
   "source": [
    "print(\"Gaussian Naive Bayes Model F1 Score Mean: \", np.mean(f1_gnb))\n",
    "print(\"Gaussian Naive Bayes Model F1 Score Standard Deviation: \", np.std(f1_gnb), '\\n')\n",
    "\n",
    "print(\"Gaussian Naive Bayes Model Precision Score Mean: \", np.mean(precision_gnb))\n",
    "print(\"Gaussian Naive Bayes Model Precision Score Standard Deviation: \", np.std(precision_gnb), '\\n')\n",
    "\n",
    "print(\"Gaussian Naive Bayes Model Accuracy Score Mean: \", np.mean(accuracy_gnb))\n",
    "print(\"Gaussian Naive Bayes Model Accuracy Score Standard Deviation: \", np.std(accuracy_gnb), '\\n')\n",
    "\n",
    "print(\"Gaussian Naive Bayes Model Recall Score Mean: \", np.mean(recall_gnb))\n",
    "print(\"Gaussian Naive Bayes Model Recall Score Standard Deviation: \", np.std(recall_gnb), '\\n')\n",
    "\n",
    "print(\"Gaussian Naive Bayes Model ROC AUC Score Mean: \", np.mean(ras_gnb))\n",
    "print(\"Gaussian Naive Bayes Model ROC AUC Score Standard Deviation: \", np.std(ras_gnb), '\\n')"
   ]
  },
  {
   "cell_type": "code",
   "execution_count": 18,
   "metadata": {
    "collapsed": false,
    "jupyter": {
     "outputs_hidden": false
    },
    "pycharm": {
     "is_executing": true,
     "name": "#%%\n"
    }
   },
   "outputs": [
    {
     "name": "stdout",
     "output_type": "stream",
     "text": [
      "Neural Network Model F1 Score Mean:  0.9429491372800882\n",
      "Neural Network Model F1 Score Standard Deviation:  0.005307715824153223 \n",
      "\n",
      "Neural Network Model Precision Score Mean:  0.9506701001156053\n",
      "Neural Network Model Precision Score Standard Deviation:  0.008830304053267556 \n",
      "\n",
      "Neural Network Model Accuracy Score Mean:  0.9560155474615304\n",
      "Neural Network Model Accuracy Score Standard Deviation:  0.0036105084767340027 \n",
      "\n",
      "Neural Network Model Recall Score Mean:  0.9357028003781874\n",
      "Neural Network Model Recall Score Standard Deviation:  0.005975941652336057 \n",
      "\n",
      "Neural Network Model ROC AUC Score Mean:  0.9523295290521089\n",
      "Neural Network Model ROC AUC Score Standard Deviation:  0.005975941652336057 \n",
      "\n"
     ]
    }
   ],
   "source": [
    "print(\"Neural Network Model F1 Score Mean: \", np.mean(f1_nn))\n",
    "print(\"Neural Network Model F1 Score Standard Deviation: \", np.std(f1_nn), '\\n')\n",
    "\n",
    "print(\"Neural Network Model Precision Score Mean: \", np.mean(precision_nn))\n",
    "print(\"Neural Network Model Precision Score Standard Deviation: \", np.std(precision_nn), '\\n')\n",
    "\n",
    "print(\"Neural Network Model Accuracy Score Mean: \", np.mean(accuracy_nn))\n",
    "print(\"Neural Network Model Accuracy Score Standard Deviation: \", np.std(accuracy_nn), '\\n')\n",
    "\n",
    "print(\"Neural Network Model Recall Score Mean: \", np.mean(recall_nn))\n",
    "print(\"Neural Network Model Recall Score Standard Deviation: \", np.std(ras_nn), '\\n')\n",
    "\n",
    "print(\"Neural Network Model ROC AUC Score Mean: \", np.mean(ras_nn))\n",
    "print(\"Neural Network Model ROC AUC Score Standard Deviation: \", np.std(ras_nn), '\\n')"
   ]
  },
  {
   "cell_type": "code",
   "execution_count": 19,
   "metadata": {},
   "outputs": [
    {
     "data": {
      "text/html": [
       "<div>\n",
       "<style scoped>\n",
       "    .dataframe tbody tr th:only-of-type {\n",
       "        vertical-align: middle;\n",
       "    }\n",
       "\n",
       "    .dataframe tbody tr th {\n",
       "        vertical-align: top;\n",
       "    }\n",
       "\n",
       "    .dataframe thead th {\n",
       "        text-align: right;\n",
       "    }\n",
       "</style>\n",
       "<table border=\"1\" class=\"dataframe\">\n",
       "  <thead>\n",
       "    <tr style=\"text-align: right;\">\n",
       "      <th></th>\n",
       "      <th>Classifiers</th>\n",
       "      <th>F1 Score</th>\n",
       "      <th>Accuracy Score</th>\n",
       "      <th>Precision Score</th>\n",
       "      <th>Recall Score</th>\n",
       "      <th>ROC AUC Score</th>\n",
       "    </tr>\n",
       "  </thead>\n",
       "  <tbody>\n",
       "    <tr>\n",
       "      <th>0</th>\n",
       "      <td>Random Guessing</td>\n",
       "      <td>0.437536</td>\n",
       "      <td>0.500143</td>\n",
       "      <td>0.388978</td>\n",
       "      <td>0.499970</td>\n",
       "      <td>0.500112</td>\n",
       "    </tr>\n",
       "    <tr>\n",
       "      <th>1</th>\n",
       "      <td>Logistic Regression</td>\n",
       "      <td>0.931677</td>\n",
       "      <td>0.948591</td>\n",
       "      <td>0.964095</td>\n",
       "      <td>0.901389</td>\n",
       "      <td>0.940011</td>\n",
       "    </tr>\n",
       "    <tr>\n",
       "      <th>2</th>\n",
       "      <td>Neural Network</td>\n",
       "      <td>0.942949</td>\n",
       "      <td>0.956016</td>\n",
       "      <td>0.950670</td>\n",
       "      <td>0.935703</td>\n",
       "      <td>0.952330</td>\n",
       "    </tr>\n",
       "    <tr>\n",
       "      <th>3</th>\n",
       "      <td>Random Forest</td>\n",
       "      <td>0.995091</td>\n",
       "      <td>0.996167</td>\n",
       "      <td>0.991068</td>\n",
       "      <td>0.999148</td>\n",
       "      <td>0.996710</td>\n",
       "    </tr>\n",
       "    <tr>\n",
       "      <th>4</th>\n",
       "      <td>Gaussian Naive Bayes</td>\n",
       "      <td>0.862001</td>\n",
       "      <td>0.893099</td>\n",
       "      <td>0.865015</td>\n",
       "      <td>0.859848</td>\n",
       "      <td>0.887031</td>\n",
       "    </tr>\n",
       "  </tbody>\n",
       "</table>\n",
       "</div>"
      ],
      "text/plain": [
       "             Classifiers  F1 Score  Accuracy Score  Precision Score  \\\n",
       "0        Random Guessing  0.437536        0.500143         0.388978   \n",
       "1    Logistic Regression  0.931677        0.948591         0.964095   \n",
       "2         Neural Network  0.942949        0.956016         0.950670   \n",
       "3          Random Forest  0.995091        0.996167         0.991068   \n",
       "4  Gaussian Naive Bayes   0.862001        0.893099         0.865015   \n",
       "\n",
       "   Recall Score  ROC AUC Score  \n",
       "0      0.499970       0.500112  \n",
       "1      0.901389       0.940011  \n",
       "2      0.935703       0.952330  \n",
       "3      0.999148       0.996710  \n",
       "4      0.859848       0.887031  "
      ]
     },
     "execution_count": 19,
     "metadata": {},
     "output_type": "execute_result"
    }
   ],
   "source": [
    "resultdf = pd.DataFrame(columns=['Classifiers', 'F1 Score', 'Accuracy Score', 'Precision Score', 'Recall Score', 'ROC AUC Score'])\n",
    "\n",
    "resultdf.loc[0] = 'Random Guessing', np.mean(f1_rand), np.mean(accuracy_rand), np.mean(precision_rand), np.mean(recall_rand),  np.mean(ras_rand)\n",
    "resultdf.loc[1] = 'Logistic Regression', np.mean(f1_lr), np.mean(accuracy_lr), np.mean(precision_lr), np.mean(recall_lr),  np.mean(ras_lr)\n",
    "resultdf.loc[2] = 'Neural Network', np.mean(f1_nn), np.mean(accuracy_nn), np.mean(precision_nn), np.mean(recall_nn),  np.mean(ras_nn)\n",
    "resultdf.loc[3] = 'Random Forest', np.mean(f1_rf), np.mean(accuracy_rf), np.mean(precision_rf), np.mean(recall_rf),  np.mean(ras_rf)\n",
    "resultdf.loc[4] = 'Gaussian Naive Bayes ', np.mean(f1_gnb), np.mean(accuracy_gnb), np.mean(precision_gnb), np.mean(recall_gnb),  np.mean(ras_gnb)\n",
    "\n",
    "resultdf"
   ]
  },
  {
   "cell_type": "code",
   "execution_count": 20,
   "metadata": {},
   "outputs": [
    {
     "data": {
      "image/png": "[encoded data removed]",
      "text/plain": [
       "<Figure size 1080x720 with 1 Axes>"
      ]
     },
     "metadata": {
      "needs_background": "light"
     },
     "output_type": "display_data"
    }
   ],
   "source": [
    "plt.figure(figsize=(15,10))\n",
    "sns.barplot(data=resultdf, x='Classifiers', y='F1 Score')\n",
    "plt.title('Comparison of F1 Score Across All Models', fontsize=20)\n",
    "plt.xlabel(\"Classifiers\", fontsize=15)\n",
    "plt.ylabel(\"F1 Score\", fontsize=15)\n",
    "plt.show()"
   ]
  },
  {
   "cell_type": "code",
   "execution_count": 21,
   "metadata": {},
   "outputs": [
    {
     "data": {
      "image/png": "[encoded data removed]",
      "text/plain": [
       "<Figure size 1080x720 with 1 Axes>"
      ]
     },
     "metadata": {
      "needs_background": "light"
     },
     "output_type": "display_data"
    }
   ],
   "source": [
    "plt.figure(figsize=(15,10))\n",
    "sns.barplot(data=resultdf, x='Classifiers', y='Accuracy Score')\n",
    "plt.title('Comparison of Accuracy Score Across All Models', fontsize=20)\n",
    "plt.xlabel(\"Classifiers\", fontsize=15)\n",
    "plt.ylabel(\"Accuracy Score\", fontsize=15)\n",
    "plt.show()"
   ]
  },
  {
   "cell_type": "code",
   "execution_count": 22,
   "metadata": {},
   "outputs": [
    {
     "data": {
      "image/png": "[encoded data removed]",
      "text/plain": [
       "<Figure size 1080x720 with 1 Axes>"
      ]
     },
     "metadata": {
      "needs_background": "light"
     },
     "output_type": "display_data"
    }
   ],
   "source": [
    "plt.figure(figsize=(15,10))\n",
    "sns.barplot(data=resultdf, x='Classifiers', y='Precision Score')\n",
    "plt.title('Comparison of Precision Score Across All Models', fontsize=20)\n",
    "plt.xlabel(\"Classifiers\", fontsize=15)\n",
    "plt.ylabel(\"Precision Score\", fontsize=15)\n",
    "plt.show()"
   ]
  },
  {
   "cell_type": "code",
   "execution_count": 23,
   "metadata": {},
   "outputs": [
    {
     "data": {
      "image/png": "[encoded data removed]",
      "text/plain": [
       "<Figure size 1080x720 with 1 Axes>"
      ]
     },
     "metadata": {
      "needs_background": "light"
     },
     "output_type": "display_data"
    }
   ],
   "source": [
    "plt.figure(figsize=(15,10))\n",
    "sns.barplot(data=resultdf, x='Classifiers', y='Recall Score')\n",
    "plt.title('Comparison of Recall Score Across All Models', fontsize=20)\n",
    "plt.xlabel(\"Classifiers\", fontsize=15)\n",
    "plt.ylabel(\"Recall Score\", fontsize=15)\n",
    "plt.show()"
   ]
  },
  {
   "cell_type": "code",
   "execution_count": 24,
   "metadata": {},
   "outputs": [
    {
     "data": {
      "image/png": "[encoded data removed]",
      "text/plain": [
       "<Figure size 1080x720 with 1 Axes>"
      ]
     },
     "metadata": {
      "needs_background": "light"
     },
     "output_type": "display_data"
    }
   ],
   "source": [
    "plt.figure(figsize=(15,10))\n",
    "sns.barplot(data=resultdf, x='Classifiers', y='ROC AUC Score')\n",
    "plt.title('Comparison of ROC AUC Score Across All Models', fontsize=20)\n",
    "plt.xlabel(\"Classifiers\", fontsize=15)\n",
    "plt.ylabel(\"ROC AUC Score\", fontsize=15)\n",
    "plt.show()"
   ]
  },
  {
   "cell_type": "markdown",
   "metadata": {},
   "source": [
    "#### Intermediary Workings of the Neural Network"
   ]
  },
  {
   "cell_type": "code",
   "execution_count": 25,
   "metadata": {
    "collapsed": false,
    "jupyter": {
     "outputs_hidden": false
    },
    "pycharm": {
     "is_executing": true,
     "name": "#%%\n"
    }
   },
   "outputs": [],
   "source": [
    "X_transformed = th.tensor(x, dtype=th.float32)\n",
    "representations = nn1.get_intermediary(X_transformed.to(device))\n",
    "representations = representations.cpu().detach().numpy()"
   ]
  },
  {
   "cell_type": "code",
   "execution_count": 28,
   "metadata": {
    "collapsed": false,
    "jupyter": {
     "outputs_hidden": false
    },
    "pycharm": {
     "is_executing": true,
     "name": "#%%\n"
    }
   },
   "outputs": [
    {
     "data": {
      "image/png": "[encoded data removed]",
      "text/plain": [
       "<Figure size 432x288 with 1 Axes>"
      ]
     },
     "metadata": {
      "needs_background": "light"
     },
     "output_type": "display_data"
    }
   ],
   "source": [
    "colors = np.array(['tab:red' if cl == 0 else 'tab:blue' for cl in y])\n",
    "plt.scatter(representations[:,10], representations[:,36], c=colors)\n",
    "plt.show()"
   ]
  },
  {
   "cell_type": "code",
   "execution_count": null,
   "outputs": [],
   "source": [],
   "metadata": {
    "collapsed": false,
    "pycharm": {
     "name": "#%%\n"
    }
   }
  },
  {
   "cell_type": "code",
   "execution_count": null,
   "metadata": {},
   "outputs": [],
   "source": []
  }
 ],
 "metadata": {
  "kernelspec": {
   "display_name": "Python 3",
   "language": "python",
   "name": "python3"
  },
  "language_info": {
   "codemirror_mode": {
    "name": "ipython",
    "version": 3
   },
   "file_extension": ".py",
   "mimetype": "text/x-python",
   "name": "python",
   "nbconvert_exporter": "python",
   "pygments_lexer": "ipython3",
   "version": "3.7.7"
  }
 },
 "nbformat": 4,
 "nbformat_minor": 4
}