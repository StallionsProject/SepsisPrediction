{
 "cells": [
  {
   "cell_type": "code",
   "execution_count": 1,
   "metadata": {
    "collapsed": true
   },
   "outputs": [],
   "source": [
    "import pandas as pd\n",
    "from tqdm import tqdm_notebook as tqdm"
   ]
  },
  {
   "cell_type": "code",
   "execution_count": 2,
   "outputs": [],
   "source": [
    "databasePath = \"../eICU/training/\"\n",
    "exportPath = \"../eICU/training/\""
   ],
   "metadata": {
    "collapsed": false,
    "pycharm": {
     "name": "#%%\n"
    }
   }
  },
  {
   "cell_type": "code",
   "execution_count": 3,
   "outputs": [
    {
     "data": {
      "text/plain": "      patientunitstayid  observationoffset  temperature  heartrate  \\\n0                141227            -1893.0    38.088274      112.0   \n1                141227            -1773.0    38.088274      112.0   \n2                141227            -1663.0    38.088274      112.0   \n3                141227            -1566.0    38.088274      112.0   \n4                141227            -1351.0    38.088274      112.0   \n...                 ...                ...          ...        ...   \n9995             151339              178.0    38.088274       60.0   \n9996             151339              183.0    38.088274       60.0   \n9997             151339              188.0    38.088274       62.0   \n9998             151339              193.0    38.088274       62.0   \n9999             151339              198.0    38.088274       62.0   \n\n      respiration  systemicsystolic  creatinine   wbcx1000   lactate  \\\n0            49.0        122.146981    1.400000  48.200000  4.300000   \n1            49.0        122.146981    1.400000  48.200000  4.300000   \n2            49.0        122.146981    1.400000  48.200000  4.300000   \n3            49.0        122.146981    1.400000  48.200000  4.300000   \n4            49.0        122.146981    1.400000  47.950000  4.300000   \n...           ...               ...         ...        ...       ...   \n9995         16.0        122.146981    0.736000   4.326154  2.584809   \n9996         16.0        122.146981    0.735333   4.324103  2.584809   \n9997         16.0        122.146981    0.734667   4.322051  2.584809   \n9998         15.0        122.146981    0.734000   4.320000  2.584809   \n9999         15.0        122.146981    0.733333   4.317949  2.584809   \n\n      urineoutputbyweight  diagnosis  \n0                2.433090          0  \n1                2.433090          0  \n2                2.433090          0  \n3                2.433090          0  \n4                2.433090          0  \n...                   ...        ...  \n9995             2.226153          0  \n9996             2.232507          0  \n9997             2.238861          0  \n9998             2.245216          0  \n9999             2.251570          0  \n\n[10000 rows x 11 columns]",
      "text/html": "<div>\n<style scoped>\n    .dataframe tbody tr th:only-of-type {\n        vertical-align: middle;\n    }\n\n    .dataframe tbody tr th {\n        vertical-align: top;\n    }\n\n    .dataframe thead th {\n        text-align: right;\n    }\n</style>\n<table border=\"1\" class=\"dataframe\">\n  <thead>\n    <tr style=\"text-align: right;\">\n      <th></th>\n      <th>patientunitstayid</th>\n      <th>observationoffset</th>\n      <th>temperature</th>\n      <th>heartrate</th>\n      <th>respiration</th>\n      <th>systemicsystolic</th>\n      <th>creatinine</th>\n      <th>wbcx1000</th>\n      <th>lactate</th>\n      <th>urineoutputbyweight</th>\n      <th>diagnosis</th>\n    </tr>\n  </thead>\n  <tbody>\n    <tr>\n      <td>0</td>\n      <td>141227</td>\n      <td>-1893.0</td>\n      <td>38.088274</td>\n      <td>112.0</td>\n      <td>49.0</td>\n      <td>122.146981</td>\n      <td>1.400000</td>\n      <td>48.200000</td>\n      <td>4.300000</td>\n      <td>2.433090</td>\n      <td>0</td>\n    </tr>\n    <tr>\n      <td>1</td>\n      <td>141227</td>\n      <td>-1773.0</td>\n      <td>38.088274</td>\n      <td>112.0</td>\n      <td>49.0</td>\n      <td>122.146981</td>\n      <td>1.400000</td>\n      <td>48.200000</td>\n      <td>4.300000</td>\n      <td>2.433090</td>\n      <td>0</td>\n    </tr>\n    <tr>\n      <td>2</td>\n      <td>141227</td>\n      <td>-1663.0</td>\n      <td>38.088274</td>\n      <td>112.0</td>\n      <td>49.0</td>\n      <td>122.146981</td>\n      <td>1.400000</td>\n      <td>48.200000</td>\n      <td>4.300000</td>\n      <td>2.433090</td>\n      <td>0</td>\n    </tr>\n    <tr>\n      <td>3</td>\n      <td>141227</td>\n      <td>-1566.0</td>\n      <td>38.088274</td>\n      <td>112.0</td>\n      <td>49.0</td>\n      <td>122.146981</td>\n      <td>1.400000</td>\n      <td>48.200000</td>\n      <td>4.300000</td>\n      <td>2.433090</td>\n      <td>0</td>\n    </tr>\n    <tr>\n      <td>4</td>\n      <td>141227</td>\n      <td>-1351.0</td>\n      <td>38.088274</td>\n      <td>112.0</td>\n      <td>49.0</td>\n      <td>122.146981</td>\n      <td>1.400000</td>\n      <td>47.950000</td>\n      <td>4.300000</td>\n      <td>2.433090</td>\n      <td>0</td>\n    </tr>\n    <tr>\n      <td>...</td>\n      <td>...</td>\n      <td>...</td>\n      <td>...</td>\n      <td>...</td>\n      <td>...</td>\n      <td>...</td>\n      <td>...</td>\n      <td>...</td>\n      <td>...</td>\n      <td>...</td>\n      <td>...</td>\n    </tr>\n    <tr>\n      <td>9995</td>\n      <td>151339</td>\n      <td>178.0</td>\n      <td>38.088274</td>\n      <td>60.0</td>\n      <td>16.0</td>\n      <td>122.146981</td>\n      <td>0.736000</td>\n      <td>4.326154</td>\n      <td>2.584809</td>\n      <td>2.226153</td>\n      <td>0</td>\n    </tr>\n    <tr>\n      <td>9996</td>\n      <td>151339</td>\n      <td>183.0</td>\n      <td>38.088274</td>\n      <td>60.0</td>\n      <td>16.0</td>\n      <td>122.146981</td>\n      <td>0.735333</td>\n      <td>4.324103</td>\n      <td>2.584809</td>\n      <td>2.232507</td>\n      <td>0</td>\n    </tr>\n    <tr>\n      <td>9997</td>\n      <td>151339</td>\n      <td>188.0</td>\n      <td>38.088274</td>\n      <td>62.0</td>\n      <td>16.0</td>\n      <td>122.146981</td>\n      <td>0.734667</td>\n      <td>4.322051</td>\n      <td>2.584809</td>\n      <td>2.238861</td>\n      <td>0</td>\n    </tr>\n    <tr>\n      <td>9998</td>\n      <td>151339</td>\n      <td>193.0</td>\n      <td>38.088274</td>\n      <td>62.0</td>\n      <td>15.0</td>\n      <td>122.146981</td>\n      <td>0.734000</td>\n      <td>4.320000</td>\n      <td>2.584809</td>\n      <td>2.245216</td>\n      <td>0</td>\n    </tr>\n    <tr>\n      <td>9999</td>\n      <td>151339</td>\n      <td>198.0</td>\n      <td>38.088274</td>\n      <td>62.0</td>\n      <td>15.0</td>\n      <td>122.146981</td>\n      <td>0.733333</td>\n      <td>4.317949</td>\n      <td>2.584809</td>\n      <td>2.251570</td>\n      <td>0</td>\n    </tr>\n  </tbody>\n</table>\n<p>10000 rows × 11 columns</p>\n</div>"
     },
     "execution_count": 3,
     "metadata": {},
     "output_type": "execute_result"
    }
   ],
   "source": [
    "finalData = pd.read_csv(databasePath + '/finalData.csv')\n",
    "finalData"
   ],
   "metadata": {
    "collapsed": false,
    "pycharm": {
     "name": "#%%\n"
    }
   }
  },
  {
   "cell_type": "code",
   "execution_count": 4,
   "outputs": [
    {
     "name": "stdout",
     "output_type": "stream",
     "text": [
      "Number of ids:  66\n"
     ]
    }
   ],
   "source": [
    "idList = sorted(set(list(finalData['patientunitstayid'])))\n",
    "print(\"Number of ids: \", len(idList))"
   ],
   "metadata": {
    "collapsed": false,
    "pycharm": {
     "name": "#%%\n"
    }
   }
  },
  {
   "cell_type": "code",
   "execution_count": 7,
   "outputs": [
    {
     "data": {
      "text/plain": "HBox(children=(IntProgress(value=0, max=66), HTML(value='')))",
      "application/vnd.jupyter.widget-view+json": {
       "version_major": 2,
       "version_minor": 0,
       "model_id": "4e92b061d4d34fa6bda0a1ba8a697949"
      }
     },
     "metadata": {},
     "output_type": "display_data"
    },
    {
     "name": "stdout",
     "output_type": "stream",
     "text": [
      "\n"
     ]
    },
    {
     "data": {
      "text/plain": "      patientunitstayid  observationoffset  temperature   heartrate  \\\n0              141227.0       -1893.000000    38.088274  112.000000   \n1              141227.0       -1813.000000    38.088274  112.000000   \n2              141227.0       -1727.285714    38.088274  112.000000   \n3              141227.0       -1641.266667    38.088274  112.000000   \n4              141227.0       -1491.451613    38.088274  112.000000   \n...                 ...                ...          ...         ...   \n9995           151339.0         173.000000    38.088274   59.972439   \n9996           151339.0         178.000000    38.088274   59.986220   \n9997           151339.0         183.000000    38.088274   60.993110   \n9998           151339.0         188.000000    38.088274   61.496555   \n9999           151339.0         193.000000    38.088274   61.748277   \n\n      respiration  systemicsystolic  creatinine   wbcx1000   lactate  \\\n0       49.000000        122.146981    1.400000  48.200000  4.300000   \n1       49.000000        122.146981    1.400000  48.200000  4.300000   \n2       49.000000        122.146981    1.400000  48.200000  4.300000   \n3       49.000000        122.146981    1.400000  48.200000  4.300000   \n4       49.000000        122.146981    1.400000  48.070968  4.300000   \n...           ...               ...         ...        ...       ...   \n9995    15.312616        122.146981    0.736667   4.328205  2.584809   \n9996    15.656308        122.146981    0.736000   4.326154  2.584809   \n9997    15.828154        122.146981    0.735333   4.324103  2.584809   \n9998    15.414077        122.146981    0.734667   4.322051  2.584809   \n9999    15.207039        122.146981    0.734000   4.320000  2.584809   \n\n      urineoutputbyweight  diagnosis  \n0                2.433090        0.0  \n1                2.433090        0.0  \n2                2.433090        0.0  \n3                2.433090        0.0  \n4                2.433090        0.0  \n...                   ...        ...  \n9995             2.219798        0.0  \n9996             2.226153        0.0  \n9997             2.232507        0.0  \n9998             2.238861        0.0  \n9999             2.245216        0.0  \n\n[10000 rows x 11 columns]",
      "text/html": "<div>\n<style scoped>\n    .dataframe tbody tr th:only-of-type {\n        vertical-align: middle;\n    }\n\n    .dataframe tbody tr th {\n        vertical-align: top;\n    }\n\n    .dataframe thead th {\n        text-align: right;\n    }\n</style>\n<table border=\"1\" class=\"dataframe\">\n  <thead>\n    <tr style=\"text-align: right;\">\n      <th></th>\n      <th>patientunitstayid</th>\n      <th>observationoffset</th>\n      <th>temperature</th>\n      <th>heartrate</th>\n      <th>respiration</th>\n      <th>systemicsystolic</th>\n      <th>creatinine</th>\n      <th>wbcx1000</th>\n      <th>lactate</th>\n      <th>urineoutputbyweight</th>\n      <th>diagnosis</th>\n    </tr>\n  </thead>\n  <tbody>\n    <tr>\n      <td>0</td>\n      <td>141227.0</td>\n      <td>-1893.000000</td>\n      <td>38.088274</td>\n      <td>112.000000</td>\n      <td>49.000000</td>\n      <td>122.146981</td>\n      <td>1.400000</td>\n      <td>48.200000</td>\n      <td>4.300000</td>\n      <td>2.433090</td>\n      <td>0.0</td>\n    </tr>\n    <tr>\n      <td>1</td>\n      <td>141227.0</td>\n      <td>-1813.000000</td>\n      <td>38.088274</td>\n      <td>112.000000</td>\n      <td>49.000000</td>\n      <td>122.146981</td>\n      <td>1.400000</td>\n      <td>48.200000</td>\n      <td>4.300000</td>\n      <td>2.433090</td>\n      <td>0.0</td>\n    </tr>\n    <tr>\n      <td>2</td>\n      <td>141227.0</td>\n      <td>-1727.285714</td>\n      <td>38.088274</td>\n      <td>112.000000</td>\n      <td>49.000000</td>\n      <td>122.146981</td>\n      <td>1.400000</td>\n      <td>48.200000</td>\n      <td>4.300000</td>\n      <td>2.433090</td>\n      <td>0.0</td>\n    </tr>\n    <tr>\n      <td>3</td>\n      <td>141227.0</td>\n      <td>-1641.266667</td>\n      <td>38.088274</td>\n      <td>112.000000</td>\n      <td>49.000000</td>\n      <td>122.146981</td>\n      <td>1.400000</td>\n      <td>48.200000</td>\n      <td>4.300000</td>\n      <td>2.433090</td>\n      <td>0.0</td>\n    </tr>\n    <tr>\n      <td>4</td>\n      <td>141227.0</td>\n      <td>-1491.451613</td>\n      <td>38.088274</td>\n      <td>112.000000</td>\n      <td>49.000000</td>\n      <td>122.146981</td>\n      <td>1.400000</td>\n      <td>48.070968</td>\n      <td>4.300000</td>\n      <td>2.433090</td>\n      <td>0.0</td>\n    </tr>\n    <tr>\n      <td>...</td>\n      <td>...</td>\n      <td>...</td>\n      <td>...</td>\n      <td>...</td>\n      <td>...</td>\n      <td>...</td>\n      <td>...</td>\n      <td>...</td>\n      <td>...</td>\n      <td>...</td>\n      <td>...</td>\n    </tr>\n    <tr>\n      <td>9995</td>\n      <td>151339.0</td>\n      <td>173.000000</td>\n      <td>38.088274</td>\n      <td>59.972439</td>\n      <td>15.312616</td>\n      <td>122.146981</td>\n      <td>0.736667</td>\n      <td>4.328205</td>\n      <td>2.584809</td>\n      <td>2.219798</td>\n      <td>0.0</td>\n    </tr>\n    <tr>\n      <td>9996</td>\n      <td>151339.0</td>\n      <td>178.000000</td>\n      <td>38.088274</td>\n      <td>59.986220</td>\n      <td>15.656308</td>\n      <td>122.146981</td>\n      <td>0.736000</td>\n      <td>4.326154</td>\n      <td>2.584809</td>\n      <td>2.226153</td>\n      <td>0.0</td>\n    </tr>\n    <tr>\n      <td>9997</td>\n      <td>151339.0</td>\n      <td>183.000000</td>\n      <td>38.088274</td>\n      <td>60.993110</td>\n      <td>15.828154</td>\n      <td>122.146981</td>\n      <td>0.735333</td>\n      <td>4.324103</td>\n      <td>2.584809</td>\n      <td>2.232507</td>\n      <td>0.0</td>\n    </tr>\n    <tr>\n      <td>9998</td>\n      <td>151339.0</td>\n      <td>188.000000</td>\n      <td>38.088274</td>\n      <td>61.496555</td>\n      <td>15.414077</td>\n      <td>122.146981</td>\n      <td>0.734667</td>\n      <td>4.322051</td>\n      <td>2.584809</td>\n      <td>2.238861</td>\n      <td>0.0</td>\n    </tr>\n    <tr>\n      <td>9999</td>\n      <td>151339.0</td>\n      <td>193.000000</td>\n      <td>38.088274</td>\n      <td>61.748277</td>\n      <td>15.207039</td>\n      <td>122.146981</td>\n      <td>0.734000</td>\n      <td>4.320000</td>\n      <td>2.584809</td>\n      <td>2.245216</td>\n      <td>0.0</td>\n    </tr>\n  </tbody>\n</table>\n<p>10000 rows × 11 columns</p>\n</div>"
     },
     "execution_count": 7,
     "metadata": {},
     "output_type": "execute_result"
    }
   ],
   "source": [
    "exponentialSmoothedData = pd.DataFrame()\n",
    "\n",
    "for id in tqdm(idList):\n",
    "    df = finalData[finalData['patientunitstayid'] == id].ewm(alpha=0.5).mean()\n",
    "    exponentialSmoothedData = pd.concat([exponentialSmoothedData, df], ignore_index=True)\n",
    "\n",
    "exponentialSmoothedData"
   ],
   "metadata": {
    "collapsed": false,
    "pycharm": {
     "name": "#%% time\n"
    }
   }
  },
  {
   "cell_type": "code",
   "execution_count": null,
   "outputs": [],
   "source": [
    "exponentialSmoothedData.to_csv(exportPath + \"exponentialSmoothedData.csv\", sep=',', index=False, encoding='utf-8')\n"
   ],
   "metadata": {
    "collapsed": false,
    "pycharm": {
     "name": "#%%\n"
    }
   }
  }
 ],
 "metadata": {
  "kernelspec": {
   "display_name": "Python 3",
   "language": "python",
   "name": "python3"
  },
  "language_info": {
   "codemirror_mode": {
    "name": "ipython",
    "version": 2
   },
   "file_extension": ".py",
   "mimetype": "text/x-python",
   "name": "python",
   "nbconvert_exporter": "python",
   "pygments_lexer": "ipython2",
   "version": "2.7.6"
  }
 },
 "nbformat": 4,
 "nbformat_minor": 0
}