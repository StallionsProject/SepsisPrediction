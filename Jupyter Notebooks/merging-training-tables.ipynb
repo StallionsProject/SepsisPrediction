{
 "cells": [
  {
   "cell_type": "code",
   "execution_count": 1,
   "metadata": {
    "collapsed": true,
    "pycharm": {
     "is_executing": false
    }
   },
   "outputs": [],
   "source": [
    "%load_ext autoreload\n",
    "%autoreload 2"
   ]
  },
  {
   "cell_type": "code",
   "execution_count": 2,
   "outputs": [],
   "source": [
    "import pandas as pd\n",
    "# import numpy as np"
   ],
   "metadata": {
    "collapsed": false,
    "pycharm": {
     "name": "#%%\n",
     "is_executing": false
    }
   }
  },
  {
   "cell_type": "code",
   "execution_count": 3,
   "outputs": [],
   "source": [
    "database_type = \"/training\""
   ],
   "metadata": {
    "collapsed": false,
    "pycharm": {
     "name": "#%%\n",
     "is_executing": false
    }
   }
  },
  {
   "cell_type": "markdown",
   "source": [
    "#### Reading in Training Tables\n"
   ],
   "metadata": {
    "collapsed": false
   }
  },
  {
   "cell_type": "code",
   "execution_count": 4,
   "outputs": [
    {
     "data": {
      "text/plain": "       patientunitstayid  labresultoffset  creatinine  wbcx1000  lactate\n0                1754323             -647        0.90       5.4      NaN\n1                1754323              603        0.94      12.8      NaN\n2                1754323             3579        0.74       NaN      NaN\n3                1754323             2113        0.87       9.5      NaN\n4                1754323             5073        0.87       8.4      NaN\n...                  ...              ...         ...       ...      ...\n14764            2715137             1951        0.60       NaN      NaN\n14765            2715137              -29        0.60       NaN      NaN\n14766            2715137             1001        0.60       NaN      NaN\n14767            2754778             1282        1.05       6.7      NaN\n14768            2754778               37        1.02       7.9      NaN\n\n[14769 rows x 5 columns]",
      "text/html": "<div>\n<style scoped>\n    .dataframe tbody tr th:only-of-type {\n        vertical-align: middle;\n    }\n\n    .dataframe tbody tr th {\n        vertical-align: top;\n    }\n\n    .dataframe thead th {\n        text-align: right;\n    }\n</style>\n<table border=\"1\" class=\"dataframe\">\n  <thead>\n    <tr style=\"text-align: right;\">\n      <th></th>\n      <th>patientunitstayid</th>\n      <th>labresultoffset</th>\n      <th>creatinine</th>\n      <th>wbcx1000</th>\n      <th>lactate</th>\n    </tr>\n  </thead>\n  <tbody>\n    <tr>\n      <td>0</td>\n      <td>1754323</td>\n      <td>-647</td>\n      <td>0.90</td>\n      <td>5.4</td>\n      <td>NaN</td>\n    </tr>\n    <tr>\n      <td>1</td>\n      <td>1754323</td>\n      <td>603</td>\n      <td>0.94</td>\n      <td>12.8</td>\n      <td>NaN</td>\n    </tr>\n    <tr>\n      <td>2</td>\n      <td>1754323</td>\n      <td>3579</td>\n      <td>0.74</td>\n      <td>NaN</td>\n      <td>NaN</td>\n    </tr>\n    <tr>\n      <td>3</td>\n      <td>1754323</td>\n      <td>2113</td>\n      <td>0.87</td>\n      <td>9.5</td>\n      <td>NaN</td>\n    </tr>\n    <tr>\n      <td>4</td>\n      <td>1754323</td>\n      <td>5073</td>\n      <td>0.87</td>\n      <td>8.4</td>\n      <td>NaN</td>\n    </tr>\n    <tr>\n      <td>...</td>\n      <td>...</td>\n      <td>...</td>\n      <td>...</td>\n      <td>...</td>\n      <td>...</td>\n    </tr>\n    <tr>\n      <td>14764</td>\n      <td>2715137</td>\n      <td>1951</td>\n      <td>0.60</td>\n      <td>NaN</td>\n      <td>NaN</td>\n    </tr>\n    <tr>\n      <td>14765</td>\n      <td>2715137</td>\n      <td>-29</td>\n      <td>0.60</td>\n      <td>NaN</td>\n      <td>NaN</td>\n    </tr>\n    <tr>\n      <td>14766</td>\n      <td>2715137</td>\n      <td>1001</td>\n      <td>0.60</td>\n      <td>NaN</td>\n      <td>NaN</td>\n    </tr>\n    <tr>\n      <td>14767</td>\n      <td>2754778</td>\n      <td>1282</td>\n      <td>1.05</td>\n      <td>6.7</td>\n      <td>NaN</td>\n    </tr>\n    <tr>\n      <td>14768</td>\n      <td>2754778</td>\n      <td>37</td>\n      <td>1.02</td>\n      <td>7.9</td>\n      <td>NaN</td>\n    </tr>\n  </tbody>\n</table>\n<p>14769 rows × 5 columns</p>\n</div>"
     },
     "metadata": {},
     "output_type": "execute_result",
     "execution_count": 4
    }
   ],
   "source": [
    "lab = pd.read_csv('../eICU' + database_type + '/lab.csv')\n",
    "lab"
   ],
   "metadata": {
    "collapsed": false,
    "pycharm": {
     "name": "#%% \n",
     "is_executing": false
    }
   }
  },
  {
   "cell_type": "code",
   "execution_count": 5,
   "outputs": [
    {
     "data": {
      "text/plain": "         patientunitstayid  observationoffset  temperature  heartrate  \\\n0                   141765               1179          NaN       82.0   \n1                   141765                189          NaN       76.0   \n2                   141765               1169          NaN       84.0   \n3                   141765               1534          NaN       92.0   \n4                   141765               1164          NaN       86.0   \n...                    ...                ...          ...        ...   \n1634955            3353113               1846          NaN       67.0   \n1634956            3353113               1146          NaN       65.0   \n1634957            3353113                366          NaN       48.0   \n1634958            3353113               1841          NaN       67.0   \n1634959            3353113               1876          NaN       57.0   \n\n         respiration  systemicsystolic  \n0                NaN               NaN  \n1               30.0               NaN  \n2                NaN               NaN  \n3                NaN               NaN  \n4                NaN               NaN  \n...              ...               ...  \n1634955         19.0               NaN  \n1634956         18.0               NaN  \n1634957         16.0               NaN  \n1634958         18.0               NaN  \n1634959         18.0               NaN  \n\n[1634960 rows x 6 columns]",
      "text/html": "<div>\n<style scoped>\n    .dataframe tbody tr th:only-of-type {\n        vertical-align: middle;\n    }\n\n    .dataframe tbody tr th {\n        vertical-align: top;\n    }\n\n    .dataframe thead th {\n        text-align: right;\n    }\n</style>\n<table border=\"1\" class=\"dataframe\">\n  <thead>\n    <tr style=\"text-align: right;\">\n      <th></th>\n      <th>patientunitstayid</th>\n      <th>observationoffset</th>\n      <th>temperature</th>\n      <th>heartrate</th>\n      <th>respiration</th>\n      <th>systemicsystolic</th>\n    </tr>\n  </thead>\n  <tbody>\n    <tr>\n      <td>0</td>\n      <td>141765</td>\n      <td>1179</td>\n      <td>NaN</td>\n      <td>82.0</td>\n      <td>NaN</td>\n      <td>NaN</td>\n    </tr>\n    <tr>\n      <td>1</td>\n      <td>141765</td>\n      <td>189</td>\n      <td>NaN</td>\n      <td>76.0</td>\n      <td>30.0</td>\n      <td>NaN</td>\n    </tr>\n    <tr>\n      <td>2</td>\n      <td>141765</td>\n      <td>1169</td>\n      <td>NaN</td>\n      <td>84.0</td>\n      <td>NaN</td>\n      <td>NaN</td>\n    </tr>\n    <tr>\n      <td>3</td>\n      <td>141765</td>\n      <td>1534</td>\n      <td>NaN</td>\n      <td>92.0</td>\n      <td>NaN</td>\n      <td>NaN</td>\n    </tr>\n    <tr>\n      <td>4</td>\n      <td>141765</td>\n      <td>1164</td>\n      <td>NaN</td>\n      <td>86.0</td>\n      <td>NaN</td>\n      <td>NaN</td>\n    </tr>\n    <tr>\n      <td>...</td>\n      <td>...</td>\n      <td>...</td>\n      <td>...</td>\n      <td>...</td>\n      <td>...</td>\n      <td>...</td>\n    </tr>\n    <tr>\n      <td>1634955</td>\n      <td>3353113</td>\n      <td>1846</td>\n      <td>NaN</td>\n      <td>67.0</td>\n      <td>19.0</td>\n      <td>NaN</td>\n    </tr>\n    <tr>\n      <td>1634956</td>\n      <td>3353113</td>\n      <td>1146</td>\n      <td>NaN</td>\n      <td>65.0</td>\n      <td>18.0</td>\n      <td>NaN</td>\n    </tr>\n    <tr>\n      <td>1634957</td>\n      <td>3353113</td>\n      <td>366</td>\n      <td>NaN</td>\n      <td>48.0</td>\n      <td>16.0</td>\n      <td>NaN</td>\n    </tr>\n    <tr>\n      <td>1634958</td>\n      <td>3353113</td>\n      <td>1841</td>\n      <td>NaN</td>\n      <td>67.0</td>\n      <td>18.0</td>\n      <td>NaN</td>\n    </tr>\n    <tr>\n      <td>1634959</td>\n      <td>3353113</td>\n      <td>1876</td>\n      <td>NaN</td>\n      <td>57.0</td>\n      <td>18.0</td>\n      <td>NaN</td>\n    </tr>\n  </tbody>\n</table>\n<p>1634960 rows × 6 columns</p>\n</div>"
     },
     "metadata": {},
     "output_type": "execute_result",
     "execution_count": 5
    }
   ],
   "source": [
    "vitalperiodic = pd.read_csv('../eICU' + database_type + '/vitalPeriodic.csv')\n",
    "vitalperiodic"
   ],
   "metadata": {
    "collapsed": false,
    "pycharm": {
     "name": "#%%\n",
     "is_executing": false
    }
   }
  },
  {
   "cell_type": "code",
   "execution_count": 6,
   "outputs": [
    {
     "data": {
      "text/plain": "         patientunitstayid  observationoffset  temperature  heartrate  \\\n0                   141765             1179.0          NaN       82.0   \n1                   141765              189.0          NaN       76.0   \n2                   141765             1169.0          NaN       84.0   \n3                   141765             1534.0          NaN       92.0   \n4                   141765             1164.0          NaN       86.0   \n...                    ...                ...          ...        ...   \n1648290            2715137                NaN          NaN        NaN   \n1648291            2715137                NaN          NaN        NaN   \n1648292            2715137                NaN          NaN        NaN   \n1648293            2754778                NaN          NaN        NaN   \n1648294            2754778                NaN          NaN        NaN   \n\n         respiration  systemicsystolic  labresultoffset  creatinine  wbcx1000  \\\n0                NaN               NaN              NaN         NaN       NaN   \n1               30.0               NaN              NaN         NaN       NaN   \n2                NaN               NaN              NaN         NaN       NaN   \n3                NaN               NaN              NaN         NaN       NaN   \n4                NaN               NaN              NaN         NaN       NaN   \n...              ...               ...              ...         ...       ...   \n1648290          NaN               NaN           1951.0        0.60       NaN   \n1648291          NaN               NaN            -29.0        0.60       NaN   \n1648292          NaN               NaN           1001.0        0.60       NaN   \n1648293          NaN               NaN           1282.0        1.05       6.7   \n1648294          NaN               NaN             37.0        1.02       7.9   \n\n         lactate  \n0            NaN  \n1            NaN  \n2            NaN  \n3            NaN  \n4            NaN  \n...          ...  \n1648290      NaN  \n1648291      NaN  \n1648292      NaN  \n1648293      NaN  \n1648294      NaN  \n\n[1648295 rows x 10 columns]",
      "text/html": "<div>\n<style scoped>\n    .dataframe tbody tr th:only-of-type {\n        vertical-align: middle;\n    }\n\n    .dataframe tbody tr th {\n        vertical-align: top;\n    }\n\n    .dataframe thead th {\n        text-align: right;\n    }\n</style>\n<table border=\"1\" class=\"dataframe\">\n  <thead>\n    <tr style=\"text-align: right;\">\n      <th></th>\n      <th>patientunitstayid</th>\n      <th>observationoffset</th>\n      <th>temperature</th>\n      <th>heartrate</th>\n      <th>respiration</th>\n      <th>systemicsystolic</th>\n      <th>labresultoffset</th>\n      <th>creatinine</th>\n      <th>wbcx1000</th>\n      <th>lactate</th>\n    </tr>\n  </thead>\n  <tbody>\n    <tr>\n      <td>0</td>\n      <td>141765</td>\n      <td>1179.0</td>\n      <td>NaN</td>\n      <td>82.0</td>\n      <td>NaN</td>\n      <td>NaN</td>\n      <td>NaN</td>\n      <td>NaN</td>\n      <td>NaN</td>\n      <td>NaN</td>\n    </tr>\n    <tr>\n      <td>1</td>\n      <td>141765</td>\n      <td>189.0</td>\n      <td>NaN</td>\n      <td>76.0</td>\n      <td>30.0</td>\n      <td>NaN</td>\n      <td>NaN</td>\n      <td>NaN</td>\n      <td>NaN</td>\n      <td>NaN</td>\n    </tr>\n    <tr>\n      <td>2</td>\n      <td>141765</td>\n      <td>1169.0</td>\n      <td>NaN</td>\n      <td>84.0</td>\n      <td>NaN</td>\n      <td>NaN</td>\n      <td>NaN</td>\n      <td>NaN</td>\n      <td>NaN</td>\n      <td>NaN</td>\n    </tr>\n    <tr>\n      <td>3</td>\n      <td>141765</td>\n      <td>1534.0</td>\n      <td>NaN</td>\n      <td>92.0</td>\n      <td>NaN</td>\n      <td>NaN</td>\n      <td>NaN</td>\n      <td>NaN</td>\n      <td>NaN</td>\n      <td>NaN</td>\n    </tr>\n    <tr>\n      <td>4</td>\n      <td>141765</td>\n      <td>1164.0</td>\n      <td>NaN</td>\n      <td>86.0</td>\n      <td>NaN</td>\n      <td>NaN</td>\n      <td>NaN</td>\n      <td>NaN</td>\n      <td>NaN</td>\n      <td>NaN</td>\n    </tr>\n    <tr>\n      <td>...</td>\n      <td>...</td>\n      <td>...</td>\n      <td>...</td>\n      <td>...</td>\n      <td>...</td>\n      <td>...</td>\n      <td>...</td>\n      <td>...</td>\n      <td>...</td>\n      <td>...</td>\n    </tr>\n    <tr>\n      <td>1648290</td>\n      <td>2715137</td>\n      <td>NaN</td>\n      <td>NaN</td>\n      <td>NaN</td>\n      <td>NaN</td>\n      <td>NaN</td>\n      <td>1951.0</td>\n      <td>0.60</td>\n      <td>NaN</td>\n      <td>NaN</td>\n    </tr>\n    <tr>\n      <td>1648291</td>\n      <td>2715137</td>\n      <td>NaN</td>\n      <td>NaN</td>\n      <td>NaN</td>\n      <td>NaN</td>\n      <td>NaN</td>\n      <td>-29.0</td>\n      <td>0.60</td>\n      <td>NaN</td>\n      <td>NaN</td>\n    </tr>\n    <tr>\n      <td>1648292</td>\n      <td>2715137</td>\n      <td>NaN</td>\n      <td>NaN</td>\n      <td>NaN</td>\n      <td>NaN</td>\n      <td>NaN</td>\n      <td>1001.0</td>\n      <td>0.60</td>\n      <td>NaN</td>\n      <td>NaN</td>\n    </tr>\n    <tr>\n      <td>1648293</td>\n      <td>2754778</td>\n      <td>NaN</td>\n      <td>NaN</td>\n      <td>NaN</td>\n      <td>NaN</td>\n      <td>NaN</td>\n      <td>1282.0</td>\n      <td>1.05</td>\n      <td>6.7</td>\n      <td>NaN</td>\n    </tr>\n    <tr>\n      <td>1648294</td>\n      <td>2754778</td>\n      <td>NaN</td>\n      <td>NaN</td>\n      <td>NaN</td>\n      <td>NaN</td>\n      <td>NaN</td>\n      <td>37.0</td>\n      <td>1.02</td>\n      <td>7.9</td>\n      <td>NaN</td>\n    </tr>\n  </tbody>\n</table>\n<p>1648295 rows × 10 columns</p>\n</div>"
     },
     "metadata": {},
     "output_type": "execute_result",
     "execution_count": 6
    }
   ],
   "source": [
    "# The original dataframes were deleted to free up resources.  \n",
    "merge = pd.merge(vitalperiodic, lab,  how='outer', left_on=['patientunitstayid','observationoffset'], right_on = ['patientunitstayid','labresultoffset'])\n",
    "del lab, vitalperiodic\n",
    "merge "
   ],
   "metadata": {
    "collapsed": false,
    "pycharm": {
     "name": "#%%\n",
     "is_executing": false
    }
   }
  },
  {
   "cell_type": "code",
   "execution_count": 7,
   "outputs": [
    {
     "data": {
      "text/plain": "       patientunitstayid  intakeoutputoffset  urineoutputbyweight\n0                 141764                 -14             3.003003\n1                 141765                1401            12.903226\n2                 141765                 556            10.752688\n3                 141765                1936            10.752688\n4                 141765                2056            11.827957\n...                  ...                 ...                  ...\n33197            3353113                1869             2.556818\n33198            3353113                1089             0.284091\n33199            3353113                2169             1.136364\n33200            3353113                2109             1.363636\n33201            3353113                1689             0.340909\n\n[33202 rows x 3 columns]",
      "text/html": "<div>\n<style scoped>\n    .dataframe tbody tr th:only-of-type {\n        vertical-align: middle;\n    }\n\n    .dataframe tbody tr th {\n        vertical-align: top;\n    }\n\n    .dataframe thead th {\n        text-align: right;\n    }\n</style>\n<table border=\"1\" class=\"dataframe\">\n  <thead>\n    <tr style=\"text-align: right;\">\n      <th></th>\n      <th>patientunitstayid</th>\n      <th>intakeoutputoffset</th>\n      <th>urineoutputbyweight</th>\n    </tr>\n  </thead>\n  <tbody>\n    <tr>\n      <td>0</td>\n      <td>141764</td>\n      <td>-14</td>\n      <td>3.003003</td>\n    </tr>\n    <tr>\n      <td>1</td>\n      <td>141765</td>\n      <td>1401</td>\n      <td>12.903226</td>\n    </tr>\n    <tr>\n      <td>2</td>\n      <td>141765</td>\n      <td>556</td>\n      <td>10.752688</td>\n    </tr>\n    <tr>\n      <td>3</td>\n      <td>141765</td>\n      <td>1936</td>\n      <td>10.752688</td>\n    </tr>\n    <tr>\n      <td>4</td>\n      <td>141765</td>\n      <td>2056</td>\n      <td>11.827957</td>\n    </tr>\n    <tr>\n      <td>...</td>\n      <td>...</td>\n      <td>...</td>\n      <td>...</td>\n    </tr>\n    <tr>\n      <td>33197</td>\n      <td>3353113</td>\n      <td>1869</td>\n      <td>2.556818</td>\n    </tr>\n    <tr>\n      <td>33198</td>\n      <td>3353113</td>\n      <td>1089</td>\n      <td>0.284091</td>\n    </tr>\n    <tr>\n      <td>33199</td>\n      <td>3353113</td>\n      <td>2169</td>\n      <td>1.136364</td>\n    </tr>\n    <tr>\n      <td>33200</td>\n      <td>3353113</td>\n      <td>2109</td>\n      <td>1.363636</td>\n    </tr>\n    <tr>\n      <td>33201</td>\n      <td>3353113</td>\n      <td>1689</td>\n      <td>0.340909</td>\n    </tr>\n  </tbody>\n</table>\n<p>33202 rows × 3 columns</p>\n</div>"
     },
     "metadata": {},
     "output_type": "execute_result",
     "execution_count": 7
    }
   ],
   "source": [
    "intakeOutputUrine = pd.read_csv('../eICU' + database_type + '/intakeOutputUrine.csv')\n",
    "intakeOutputUrine"
   ],
   "metadata": {
    "collapsed": false,
    "pycharm": {
     "name": "#%%\n",
     "is_executing": false
    }
   }
  },
  {
   "cell_type": "code",
   "execution_count": 8,
   "outputs": [
    {
     "data": {
      "text/plain": "         patientunitstayid  observationoffset  temperature  heartrate  \\\n0                   141765             1179.0          NaN       82.0   \n1                   141765              189.0          NaN       76.0   \n2                   141765             1169.0          NaN       84.0   \n3                   141765             1534.0          NaN       92.0   \n4                   141765             1164.0          NaN       86.0   \n...                    ...                ...          ...        ...   \n1676934            3353113                NaN          NaN        NaN   \n1676935            3353113                NaN          NaN        NaN   \n1676936            3353113                NaN          NaN        NaN   \n1676937            3353113                NaN          NaN        NaN   \n1676938            3353113                NaN          NaN        NaN   \n\n         respiration  systemicsystolic  labresultoffset  creatinine  wbcx1000  \\\n0                NaN               NaN              NaN         NaN       NaN   \n1               30.0               NaN              NaN         NaN       NaN   \n2                NaN               NaN              NaN         NaN       NaN   \n3                NaN               NaN              NaN         NaN       NaN   \n4                NaN               NaN              NaN         NaN       NaN   \n...              ...               ...              ...         ...       ...   \n1676934          NaN               NaN              NaN         NaN       NaN   \n1676935          NaN               NaN              NaN         NaN       NaN   \n1676936          NaN               NaN              NaN         NaN       NaN   \n1676937          NaN               NaN              NaN         NaN       NaN   \n1676938          NaN               NaN              NaN         NaN       NaN   \n\n         lactate  intakeoutputoffset  urineoutputbyweight  \n0            NaN                 NaN                  NaN  \n1            NaN                 NaN                  NaN  \n2            NaN                 NaN                  NaN  \n3            NaN                 NaN                  NaN  \n4            NaN                 NaN                  NaN  \n...          ...                 ...                  ...  \n1676934      NaN              1869.0             2.556818  \n1676935      NaN              1089.0             0.284091  \n1676936      NaN              2169.0             1.136364  \n1676937      NaN              2109.0             1.363636  \n1676938      NaN              1689.0             0.340909  \n\n[1676939 rows x 12 columns]",
      "text/html": "<div>\n<style scoped>\n    .dataframe tbody tr th:only-of-type {\n        vertical-align: middle;\n    }\n\n    .dataframe tbody tr th {\n        vertical-align: top;\n    }\n\n    .dataframe thead th {\n        text-align: right;\n    }\n</style>\n<table border=\"1\" class=\"dataframe\">\n  <thead>\n    <tr style=\"text-align: right;\">\n      <th></th>\n      <th>patientunitstayid</th>\n      <th>observationoffset</th>\n      <th>temperature</th>\n      <th>heartrate</th>\n      <th>respiration</th>\n      <th>systemicsystolic</th>\n      <th>labresultoffset</th>\n      <th>creatinine</th>\n      <th>wbcx1000</th>\n      <th>lactate</th>\n      <th>intakeoutputoffset</th>\n      <th>urineoutputbyweight</th>\n    </tr>\n  </thead>\n  <tbody>\n    <tr>\n      <td>0</td>\n      <td>141765</td>\n      <td>1179.0</td>\n      <td>NaN</td>\n      <td>82.0</td>\n      <td>NaN</td>\n      <td>NaN</td>\n      <td>NaN</td>\n      <td>NaN</td>\n      <td>NaN</td>\n      <td>NaN</td>\n      <td>NaN</td>\n      <td>NaN</td>\n    </tr>\n    <tr>\n      <td>1</td>\n      <td>141765</td>\n      <td>189.0</td>\n      <td>NaN</td>\n      <td>76.0</td>\n      <td>30.0</td>\n      <td>NaN</td>\n      <td>NaN</td>\n      <td>NaN</td>\n      <td>NaN</td>\n      <td>NaN</td>\n      <td>NaN</td>\n      <td>NaN</td>\n    </tr>\n    <tr>\n      <td>2</td>\n      <td>141765</td>\n      <td>1169.0</td>\n      <td>NaN</td>\n      <td>84.0</td>\n      <td>NaN</td>\n      <td>NaN</td>\n      <td>NaN</td>\n      <td>NaN</td>\n      <td>NaN</td>\n      <td>NaN</td>\n      <td>NaN</td>\n      <td>NaN</td>\n    </tr>\n    <tr>\n      <td>3</td>\n      <td>141765</td>\n      <td>1534.0</td>\n      <td>NaN</td>\n      <td>92.0</td>\n      <td>NaN</td>\n      <td>NaN</td>\n      <td>NaN</td>\n      <td>NaN</td>\n      <td>NaN</td>\n      <td>NaN</td>\n      <td>NaN</td>\n      <td>NaN</td>\n    </tr>\n    <tr>\n      <td>4</td>\n      <td>141765</td>\n      <td>1164.0</td>\n      <td>NaN</td>\n      <td>86.0</td>\n      <td>NaN</td>\n      <td>NaN</td>\n      <td>NaN</td>\n      <td>NaN</td>\n      <td>NaN</td>\n      <td>NaN</td>\n      <td>NaN</td>\n      <td>NaN</td>\n    </tr>\n    <tr>\n      <td>...</td>\n      <td>...</td>\n      <td>...</td>\n      <td>...</td>\n      <td>...</td>\n      <td>...</td>\n      <td>...</td>\n      <td>...</td>\n      <td>...</td>\n      <td>...</td>\n      <td>...</td>\n      <td>...</td>\n      <td>...</td>\n    </tr>\n    <tr>\n      <td>1676934</td>\n      <td>3353113</td>\n      <td>NaN</td>\n      <td>NaN</td>\n      <td>NaN</td>\n      <td>NaN</td>\n      <td>NaN</td>\n      <td>NaN</td>\n      <td>NaN</td>\n      <td>NaN</td>\n      <td>NaN</td>\n      <td>1869.0</td>\n      <td>2.556818</td>\n    </tr>\n    <tr>\n      <td>1676935</td>\n      <td>3353113</td>\n      <td>NaN</td>\n      <td>NaN</td>\n      <td>NaN</td>\n      <td>NaN</td>\n      <td>NaN</td>\n      <td>NaN</td>\n      <td>NaN</td>\n      <td>NaN</td>\n      <td>NaN</td>\n      <td>1089.0</td>\n      <td>0.284091</td>\n    </tr>\n    <tr>\n      <td>1676936</td>\n      <td>3353113</td>\n      <td>NaN</td>\n      <td>NaN</td>\n      <td>NaN</td>\n      <td>NaN</td>\n      <td>NaN</td>\n      <td>NaN</td>\n      <td>NaN</td>\n      <td>NaN</td>\n      <td>NaN</td>\n      <td>2169.0</td>\n      <td>1.136364</td>\n    </tr>\n    <tr>\n      <td>1676937</td>\n      <td>3353113</td>\n      <td>NaN</td>\n      <td>NaN</td>\n      <td>NaN</td>\n      <td>NaN</td>\n      <td>NaN</td>\n      <td>NaN</td>\n      <td>NaN</td>\n      <td>NaN</td>\n      <td>NaN</td>\n      <td>2109.0</td>\n      <td>1.363636</td>\n    </tr>\n    <tr>\n      <td>1676938</td>\n      <td>3353113</td>\n      <td>NaN</td>\n      <td>NaN</td>\n      <td>NaN</td>\n      <td>NaN</td>\n      <td>NaN</td>\n      <td>NaN</td>\n      <td>NaN</td>\n      <td>NaN</td>\n      <td>NaN</td>\n      <td>1689.0</td>\n      <td>0.340909</td>\n    </tr>\n  </tbody>\n</table>\n<p>1676939 rows × 12 columns</p>\n</div>"
     },
     "metadata": {},
     "output_type": "execute_result",
     "execution_count": 8
    }
   ],
   "source": [
    "merge1 = pd.merge(merge, intakeOutputUrine,  how='outer', left_on=['patientunitstayid','observationoffset'], right_on = ['patientunitstayid','intakeoutputoffset'])\n",
    "del merge, intakeOutputUrine\n",
    "merge1"
   ],
   "metadata": {
    "collapsed": false,
    "pycharm": {
     "name": "#%%\n",
     "is_executing": false
    }
   }
  },
  {
   "cell_type": "code",
   "source": [
    "merge1['observationoffset'] = merge1.apply(lambda x: x['observationoffset'] if pd.notna(x['observationoffset']) else (x['labresultoffset'] if pd.notna(x['labresultoffset']) else x['intakeoutputoffset']), axis = 1)\n",
    "merge1 = merge1.drop(['labresultoffset', 'intakeoutputoffset'], axis = 1)\n",
    "merge1"
   ],
   "metadata": {
    "collapsed": false,
    "pycharm": {
     "name": "#%%\n",
     "is_executing": false
    }
   },
   "execution_count": 9,
   "outputs": [
    {
     "data": {
      "text/plain": "         patientunitstayid  observationoffset  temperature  heartrate  \\\n0                   141765             1179.0          NaN       82.0   \n1                   141765              189.0          NaN       76.0   \n2                   141765             1169.0          NaN       84.0   \n3                   141765             1534.0          NaN       92.0   \n4                   141765             1164.0          NaN       86.0   \n...                    ...                ...          ...        ...   \n1676934            3353113             1869.0          NaN        NaN   \n1676935            3353113             1089.0          NaN        NaN   \n1676936            3353113             2169.0          NaN        NaN   \n1676937            3353113             2109.0          NaN        NaN   \n1676938            3353113             1689.0          NaN        NaN   \n\n         respiration  systemicsystolic  creatinine  wbcx1000  lactate  \\\n0                NaN               NaN         NaN       NaN      NaN   \n1               30.0               NaN         NaN       NaN      NaN   \n2                NaN               NaN         NaN       NaN      NaN   \n3                NaN               NaN         NaN       NaN      NaN   \n4                NaN               NaN         NaN       NaN      NaN   \n...              ...               ...         ...       ...      ...   \n1676934          NaN               NaN         NaN       NaN      NaN   \n1676935          NaN               NaN         NaN       NaN      NaN   \n1676936          NaN               NaN         NaN       NaN      NaN   \n1676937          NaN               NaN         NaN       NaN      NaN   \n1676938          NaN               NaN         NaN       NaN      NaN   \n\n         urineoutputbyweight  \n0                        NaN  \n1                        NaN  \n2                        NaN  \n3                        NaN  \n4                        NaN  \n...                      ...  \n1676934             2.556818  \n1676935             0.284091  \n1676936             1.136364  \n1676937             1.363636  \n1676938             0.340909  \n\n[1676939 rows x 10 columns]",
      "text/html": "<div>\n<style scoped>\n    .dataframe tbody tr th:only-of-type {\n        vertical-align: middle;\n    }\n\n    .dataframe tbody tr th {\n        vertical-align: top;\n    }\n\n    .dataframe thead th {\n        text-align: right;\n    }\n</style>\n<table border=\"1\" class=\"dataframe\">\n  <thead>\n    <tr style=\"text-align: right;\">\n      <th></th>\n      <th>patientunitstayid</th>\n      <th>observationoffset</th>\n      <th>temperature</th>\n      <th>heartrate</th>\n      <th>respiration</th>\n      <th>systemicsystolic</th>\n      <th>creatinine</th>\n      <th>wbcx1000</th>\n      <th>lactate</th>\n      <th>urineoutputbyweight</th>\n    </tr>\n  </thead>\n  <tbody>\n    <tr>\n      <td>0</td>\n      <td>141765</td>\n      <td>1179.0</td>\n      <td>NaN</td>\n      <td>82.0</td>\n      <td>NaN</td>\n      <td>NaN</td>\n      <td>NaN</td>\n      <td>NaN</td>\n      <td>NaN</td>\n      <td>NaN</td>\n    </tr>\n    <tr>\n      <td>1</td>\n      <td>141765</td>\n      <td>189.0</td>\n      <td>NaN</td>\n      <td>76.0</td>\n      <td>30.0</td>\n      <td>NaN</td>\n      <td>NaN</td>\n      <td>NaN</td>\n      <td>NaN</td>\n      <td>NaN</td>\n    </tr>\n    <tr>\n      <td>2</td>\n      <td>141765</td>\n      <td>1169.0</td>\n      <td>NaN</td>\n      <td>84.0</td>\n      <td>NaN</td>\n      <td>NaN</td>\n      <td>NaN</td>\n      <td>NaN</td>\n      <td>NaN</td>\n      <td>NaN</td>\n    </tr>\n    <tr>\n      <td>3</td>\n      <td>141765</td>\n      <td>1534.0</td>\n      <td>NaN</td>\n      <td>92.0</td>\n      <td>NaN</td>\n      <td>NaN</td>\n      <td>NaN</td>\n      <td>NaN</td>\n      <td>NaN</td>\n      <td>NaN</td>\n    </tr>\n    <tr>\n      <td>4</td>\n      <td>141765</td>\n      <td>1164.0</td>\n      <td>NaN</td>\n      <td>86.0</td>\n      <td>NaN</td>\n      <td>NaN</td>\n      <td>NaN</td>\n      <td>NaN</td>\n      <td>NaN</td>\n      <td>NaN</td>\n    </tr>\n    <tr>\n      <td>...</td>\n      <td>...</td>\n      <td>...</td>\n      <td>...</td>\n      <td>...</td>\n      <td>...</td>\n      <td>...</td>\n      <td>...</td>\n      <td>...</td>\n      <td>...</td>\n      <td>...</td>\n    </tr>\n    <tr>\n      <td>1676934</td>\n      <td>3353113</td>\n      <td>1869.0</td>\n      <td>NaN</td>\n      <td>NaN</td>\n      <td>NaN</td>\n      <td>NaN</td>\n      <td>NaN</td>\n      <td>NaN</td>\n      <td>NaN</td>\n      <td>2.556818</td>\n    </tr>\n    <tr>\n      <td>1676935</td>\n      <td>3353113</td>\n      <td>1089.0</td>\n      <td>NaN</td>\n      <td>NaN</td>\n      <td>NaN</td>\n      <td>NaN</td>\n      <td>NaN</td>\n      <td>NaN</td>\n      <td>NaN</td>\n      <td>0.284091</td>\n    </tr>\n    <tr>\n      <td>1676936</td>\n      <td>3353113</td>\n      <td>2169.0</td>\n      <td>NaN</td>\n      <td>NaN</td>\n      <td>NaN</td>\n      <td>NaN</td>\n      <td>NaN</td>\n      <td>NaN</td>\n      <td>NaN</td>\n      <td>1.136364</td>\n    </tr>\n    <tr>\n      <td>1676937</td>\n      <td>3353113</td>\n      <td>2109.0</td>\n      <td>NaN</td>\n      <td>NaN</td>\n      <td>NaN</td>\n      <td>NaN</td>\n      <td>NaN</td>\n      <td>NaN</td>\n      <td>NaN</td>\n      <td>1.363636</td>\n    </tr>\n    <tr>\n      <td>1676938</td>\n      <td>3353113</td>\n      <td>1689.0</td>\n      <td>NaN</td>\n      <td>NaN</td>\n      <td>NaN</td>\n      <td>NaN</td>\n      <td>NaN</td>\n      <td>NaN</td>\n      <td>NaN</td>\n      <td>0.340909</td>\n    </tr>\n  </tbody>\n</table>\n<p>1676939 rows × 10 columns</p>\n</div>"
     },
     "metadata": {},
     "output_type": "execute_result",
     "execution_count": 9
    }
   ]
  },
  {
   "cell_type": "code",
   "execution_count": 10,
   "outputs": [
    {
     "data": {
      "text/plain": "       patientunitstayid  diagnosisoffset  diagnosis\n0                 346380             5028          0\n1                 346380              685          0\n2                 346380             5035          0\n3                 346380             5035          0\n4                 346380             5028          0\n...                  ...              ...        ...\n24973            3158501               11          0\n24974            3158501               11          0\n24975            3158501               11          0\n24976            3158501               11          0\n24977            3173599               36          0\n\n[24978 rows x 3 columns]",
      "text/html": "<div>\n<style scoped>\n    .dataframe tbody tr th:only-of-type {\n        vertical-align: middle;\n    }\n\n    .dataframe tbody tr th {\n        vertical-align: top;\n    }\n\n    .dataframe thead th {\n        text-align: right;\n    }\n</style>\n<table border=\"1\" class=\"dataframe\">\n  <thead>\n    <tr style=\"text-align: right;\">\n      <th></th>\n      <th>patientunitstayid</th>\n      <th>diagnosisoffset</th>\n      <th>diagnosis</th>\n    </tr>\n  </thead>\n  <tbody>\n    <tr>\n      <td>0</td>\n      <td>346380</td>\n      <td>5028</td>\n      <td>0</td>\n    </tr>\n    <tr>\n      <td>1</td>\n      <td>346380</td>\n      <td>685</td>\n      <td>0</td>\n    </tr>\n    <tr>\n      <td>2</td>\n      <td>346380</td>\n      <td>5035</td>\n      <td>0</td>\n    </tr>\n    <tr>\n      <td>3</td>\n      <td>346380</td>\n      <td>5035</td>\n      <td>0</td>\n    </tr>\n    <tr>\n      <td>4</td>\n      <td>346380</td>\n      <td>5028</td>\n      <td>0</td>\n    </tr>\n    <tr>\n      <td>...</td>\n      <td>...</td>\n      <td>...</td>\n      <td>...</td>\n    </tr>\n    <tr>\n      <td>24973</td>\n      <td>3158501</td>\n      <td>11</td>\n      <td>0</td>\n    </tr>\n    <tr>\n      <td>24974</td>\n      <td>3158501</td>\n      <td>11</td>\n      <td>0</td>\n    </tr>\n    <tr>\n      <td>24975</td>\n      <td>3158501</td>\n      <td>11</td>\n      <td>0</td>\n    </tr>\n    <tr>\n      <td>24976</td>\n      <td>3158501</td>\n      <td>11</td>\n      <td>0</td>\n    </tr>\n    <tr>\n      <td>24977</td>\n      <td>3173599</td>\n      <td>36</td>\n      <td>0</td>\n    </tr>\n  </tbody>\n</table>\n<p>24978 rows × 3 columns</p>\n</div>"
     },
     "metadata": {},
     "output_type": "execute_result",
     "execution_count": 10
    }
   ],
   "source": [
    "diagnosis = pd.read_csv('../eICU' + database_type + '/diagnosis.csv')\n",
    "diagnosis = diagnosis.astype({'diagnosis': int})\n",
    "diagnosis"
   ],
   "metadata": {
    "collapsed": false,
    "pycharm": {
     "name": "#%%\n",
     "is_executing": false
    }
   }
  },
  {
   "cell_type": "code",
   "execution_count": 11,
   "outputs": [
    {
     "data": {
      "text/plain": "         patientunitstayid  observationoffset  temperature  heartrate  \\\n0                   141765             1179.0          NaN       82.0   \n1                   141765              189.0          NaN       76.0   \n2                   141765             1169.0          NaN       84.0   \n3                   141765             1534.0          NaN       92.0   \n4                   141765             1164.0          NaN       86.0   \n...                    ...                ...          ...        ...   \n1700915            3158501                NaN          NaN        NaN   \n1700916            3158501                NaN          NaN        NaN   \n1700917            3158501                NaN          NaN        NaN   \n1700918            3158501                NaN          NaN        NaN   \n1700919            3173599                NaN          NaN        NaN   \n\n         respiration  systemicsystolic  creatinine  wbcx1000  lactate  \\\n0                NaN               NaN         NaN       NaN      NaN   \n1               30.0               NaN         NaN       NaN      NaN   \n2                NaN               NaN         NaN       NaN      NaN   \n3                NaN               NaN         NaN       NaN      NaN   \n4                NaN               NaN         NaN       NaN      NaN   \n...              ...               ...         ...       ...      ...   \n1700915          NaN               NaN         NaN       NaN      NaN   \n1700916          NaN               NaN         NaN       NaN      NaN   \n1700917          NaN               NaN         NaN       NaN      NaN   \n1700918          NaN               NaN         NaN       NaN      NaN   \n1700919          NaN               NaN         NaN       NaN      NaN   \n\n         urineoutputbyweight  diagnosisoffset  diagnosis  \n0                        NaN              NaN        NaN  \n1                        NaN              NaN        NaN  \n2                        NaN              NaN        NaN  \n3                        NaN              NaN        NaN  \n4                        NaN              NaN        NaN  \n...                      ...              ...        ...  \n1700915                  NaN             11.0        0.0  \n1700916                  NaN             11.0        0.0  \n1700917                  NaN             11.0        0.0  \n1700918                  NaN             11.0        0.0  \n1700919                  NaN             36.0        0.0  \n\n[1700920 rows x 12 columns]",
      "text/html": "<div>\n<style scoped>\n    .dataframe tbody tr th:only-of-type {\n        vertical-align: middle;\n    }\n\n    .dataframe tbody tr th {\n        vertical-align: top;\n    }\n\n    .dataframe thead th {\n        text-align: right;\n    }\n</style>\n<table border=\"1\" class=\"dataframe\">\n  <thead>\n    <tr style=\"text-align: right;\">\n      <th></th>\n      <th>patientunitstayid</th>\n      <th>observationoffset</th>\n      <th>temperature</th>\n      <th>heartrate</th>\n      <th>respiration</th>\n      <th>systemicsystolic</th>\n      <th>creatinine</th>\n      <th>wbcx1000</th>\n      <th>lactate</th>\n      <th>urineoutputbyweight</th>\n      <th>diagnosisoffset</th>\n      <th>diagnosis</th>\n    </tr>\n  </thead>\n  <tbody>\n    <tr>\n      <td>0</td>\n      <td>141765</td>\n      <td>1179.0</td>\n      <td>NaN</td>\n      <td>82.0</td>\n      <td>NaN</td>\n      <td>NaN</td>\n      <td>NaN</td>\n      <td>NaN</td>\n      <td>NaN</td>\n      <td>NaN</td>\n      <td>NaN</td>\n      <td>NaN</td>\n    </tr>\n    <tr>\n      <td>1</td>\n      <td>141765</td>\n      <td>189.0</td>\n      <td>NaN</td>\n      <td>76.0</td>\n      <td>30.0</td>\n      <td>NaN</td>\n      <td>NaN</td>\n      <td>NaN</td>\n      <td>NaN</td>\n      <td>NaN</td>\n      <td>NaN</td>\n      <td>NaN</td>\n    </tr>\n    <tr>\n      <td>2</td>\n      <td>141765</td>\n      <td>1169.0</td>\n      <td>NaN</td>\n      <td>84.0</td>\n      <td>NaN</td>\n      <td>NaN</td>\n      <td>NaN</td>\n      <td>NaN</td>\n      <td>NaN</td>\n      <td>NaN</td>\n      <td>NaN</td>\n      <td>NaN</td>\n    </tr>\n    <tr>\n      <td>3</td>\n      <td>141765</td>\n      <td>1534.0</td>\n      <td>NaN</td>\n      <td>92.0</td>\n      <td>NaN</td>\n      <td>NaN</td>\n      <td>NaN</td>\n      <td>NaN</td>\n      <td>NaN</td>\n      <td>NaN</td>\n      <td>NaN</td>\n      <td>NaN</td>\n    </tr>\n    <tr>\n      <td>4</td>\n      <td>141765</td>\n      <td>1164.0</td>\n      <td>NaN</td>\n      <td>86.0</td>\n      <td>NaN</td>\n      <td>NaN</td>\n      <td>NaN</td>\n      <td>NaN</td>\n      <td>NaN</td>\n      <td>NaN</td>\n      <td>NaN</td>\n      <td>NaN</td>\n    </tr>\n    <tr>\n      <td>...</td>\n      <td>...</td>\n      <td>...</td>\n      <td>...</td>\n      <td>...</td>\n      <td>...</td>\n      <td>...</td>\n      <td>...</td>\n      <td>...</td>\n      <td>...</td>\n      <td>...</td>\n      <td>...</td>\n      <td>...</td>\n    </tr>\n    <tr>\n      <td>1700915</td>\n      <td>3158501</td>\n      <td>NaN</td>\n      <td>NaN</td>\n      <td>NaN</td>\n      <td>NaN</td>\n      <td>NaN</td>\n      <td>NaN</td>\n      <td>NaN</td>\n      <td>NaN</td>\n      <td>NaN</td>\n      <td>11.0</td>\n      <td>0.0</td>\n    </tr>\n    <tr>\n      <td>1700916</td>\n      <td>3158501</td>\n      <td>NaN</td>\n      <td>NaN</td>\n      <td>NaN</td>\n      <td>NaN</td>\n      <td>NaN</td>\n      <td>NaN</td>\n      <td>NaN</td>\n      <td>NaN</td>\n      <td>NaN</td>\n      <td>11.0</td>\n      <td>0.0</td>\n    </tr>\n    <tr>\n      <td>1700917</td>\n      <td>3158501</td>\n      <td>NaN</td>\n      <td>NaN</td>\n      <td>NaN</td>\n      <td>NaN</td>\n      <td>NaN</td>\n      <td>NaN</td>\n      <td>NaN</td>\n      <td>NaN</td>\n      <td>NaN</td>\n      <td>11.0</td>\n      <td>0.0</td>\n    </tr>\n    <tr>\n      <td>1700918</td>\n      <td>3158501</td>\n      <td>NaN</td>\n      <td>NaN</td>\n      <td>NaN</td>\n      <td>NaN</td>\n      <td>NaN</td>\n      <td>NaN</td>\n      <td>NaN</td>\n      <td>NaN</td>\n      <td>NaN</td>\n      <td>11.0</td>\n      <td>0.0</td>\n    </tr>\n    <tr>\n      <td>1700919</td>\n      <td>3173599</td>\n      <td>NaN</td>\n      <td>NaN</td>\n      <td>NaN</td>\n      <td>NaN</td>\n      <td>NaN</td>\n      <td>NaN</td>\n      <td>NaN</td>\n      <td>NaN</td>\n      <td>NaN</td>\n      <td>36.0</td>\n      <td>0.0</td>\n    </tr>\n  </tbody>\n</table>\n<p>1700920 rows × 12 columns</p>\n</div>"
     },
     "metadata": {},
     "output_type": "execute_result",
     "execution_count": 11
    }
   ],
   "source": [
    "finalMerge = pd.merge(merge1, diagnosis,  how='outer', left_on=['patientunitstayid','observationoffset'], right_on = ['patientunitstayid', 'diagnosisoffset'])\n",
    "del merge1, diagnosis\n",
    "finalMerge.drop_duplicates()\n",
    "finalMerge"
   ],
   "metadata": {
    "collapsed": false,
    "pycharm": {
     "name": "#%%\n",
     "is_executing": false
    }
   }
  },
  {
   "cell_type": "code",
   "execution_count": 12,
   "outputs": [],
   "source": [
    "path = \"../eICU/training/\"\n",
    "finalMerge.to_csv(path + \"finalMerge.csv\", sep=',', index=False, encoding='utf-8')\n"
   ],
   "metadata": {
    "collapsed": false,
    "pycharm": {
     "name": "#%%\n",
     "is_executing": false
    }
   }
  }
 ],
 "metadata": {
  "kernelspec": {
   "display_name": "Python 3",
   "language": "python",
   "name": "python3"
  },
  "language_info": {
   "codemirror_mode": {
    "name": "ipython",
    "version": 2
   },
   "file_extension": ".py",
   "mimetype": "text/x-python",
   "name": "python",
   "nbconvert_exporter": "python",
   "pygments_lexer": "ipython2",
   "version": "2.7.6"
  },
  "pycharm": {
   "stem_cell": {
    "cell_type": "raw",
    "source": [],
    "metadata": {
     "collapsed": false
    }
   }
  }
 },
 "nbformat": 4,
 "nbformat_minor": 0
}