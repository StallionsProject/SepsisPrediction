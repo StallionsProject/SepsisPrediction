{
 "cells": [
  {
   "cell_type": "code",
   "execution_count": 1,
   "metadata": {
    "collapsed": true,
    "pycharm": {
     "is_executing": false
    }
   },
   "outputs": [],
   "source": [
    "%load_ext autoreload\n",
    "%autoreload 2"
   ]
  },
  {
   "cell_type": "code",
   "execution_count": 2,
   "outputs": [],
   "source": [
    "import pandas as pd\n",
    "# import numpy as np"
   ],
   "metadata": {
    "collapsed": false,
    "pycharm": {
     "name": "#%%\n",
     "is_executing": false
    }
   }
  },
  {
   "cell_type": "code",
   "execution_count": 3,
   "outputs": [],
   "source": [
    "database_type = \"/training\""
   ],
   "metadata": {
    "collapsed": false,
    "pycharm": {
     "name": "#%%\n",
     "is_executing": false
    }
   }
  },
  {
   "cell_type": "markdown",
   "source": [
    "#### Reading in Training Tables\n"
   ],
   "metadata": {
    "collapsed": false
   }
  },
  {
   "cell_type": "code",
   "execution_count": 4,
   "outputs": [
    {
     "data": {
      "text/plain": "         patientunitstayid  labresultoffset  creatinine  wbcx1000  lactate\n0                   141168             1701      173.12       NaN      NaN\n1                   141168             2026        2.95      19.8     12.2\n2                   141168             1133        2.30      14.7      NaN\n3                   141168              516        1.95       9.8      NaN\n4                   141178             -280        0.70       7.6      NaN\n...                    ...              ...         ...       ...      ...\n1292236            3353254             5558        1.67      11.7      NaN\n1292237            3353254             4144        1.61       NaN      NaN\n1292238            3353254             -256        2.38      13.5      NaN\n1292239            3353263               -7        1.06       6.5      NaN\n1292240            3353263               -7        1.06       6.4      NaN\n\n[1292241 rows x 5 columns]",
      "text/html": "<div>\n<style scoped>\n    .dataframe tbody tr th:only-of-type {\n        vertical-align: middle;\n    }\n\n    .dataframe tbody tr th {\n        vertical-align: top;\n    }\n\n    .dataframe thead th {\n        text-align: right;\n    }\n</style>\n<table border=\"1\" class=\"dataframe\">\n  <thead>\n    <tr style=\"text-align: right;\">\n      <th></th>\n      <th>patientunitstayid</th>\n      <th>labresultoffset</th>\n      <th>creatinine</th>\n      <th>wbcx1000</th>\n      <th>lactate</th>\n    </tr>\n  </thead>\n  <tbody>\n    <tr>\n      <td>0</td>\n      <td>141168</td>\n      <td>1701</td>\n      <td>173.12</td>\n      <td>NaN</td>\n      <td>NaN</td>\n    </tr>\n    <tr>\n      <td>1</td>\n      <td>141168</td>\n      <td>2026</td>\n      <td>2.95</td>\n      <td>19.8</td>\n      <td>12.2</td>\n    </tr>\n    <tr>\n      <td>2</td>\n      <td>141168</td>\n      <td>1133</td>\n      <td>2.30</td>\n      <td>14.7</td>\n      <td>NaN</td>\n    </tr>\n    <tr>\n      <td>3</td>\n      <td>141168</td>\n      <td>516</td>\n      <td>1.95</td>\n      <td>9.8</td>\n      <td>NaN</td>\n    </tr>\n    <tr>\n      <td>4</td>\n      <td>141178</td>\n      <td>-280</td>\n      <td>0.70</td>\n      <td>7.6</td>\n      <td>NaN</td>\n    </tr>\n    <tr>\n      <td>...</td>\n      <td>...</td>\n      <td>...</td>\n      <td>...</td>\n      <td>...</td>\n      <td>...</td>\n    </tr>\n    <tr>\n      <td>1292236</td>\n      <td>3353254</td>\n      <td>5558</td>\n      <td>1.67</td>\n      <td>11.7</td>\n      <td>NaN</td>\n    </tr>\n    <tr>\n      <td>1292237</td>\n      <td>3353254</td>\n      <td>4144</td>\n      <td>1.61</td>\n      <td>NaN</td>\n      <td>NaN</td>\n    </tr>\n    <tr>\n      <td>1292238</td>\n      <td>3353254</td>\n      <td>-256</td>\n      <td>2.38</td>\n      <td>13.5</td>\n      <td>NaN</td>\n    </tr>\n    <tr>\n      <td>1292239</td>\n      <td>3353263</td>\n      <td>-7</td>\n      <td>1.06</td>\n      <td>6.5</td>\n      <td>NaN</td>\n    </tr>\n    <tr>\n      <td>1292240</td>\n      <td>3353263</td>\n      <td>-7</td>\n      <td>1.06</td>\n      <td>6.4</td>\n      <td>NaN</td>\n    </tr>\n  </tbody>\n</table>\n<p>1292241 rows × 5 columns</p>\n</div>"
     },
     "metadata": {},
     "output_type": "execute_result",
     "execution_count": 4
    }
   ],
   "source": [
    "lab = pd.read_csv('../eICU' + database_type + '/lab.csv')\n",
    "lab"
   ],
   "metadata": {
    "collapsed": false,
    "pycharm": {
     "name": "#%% \n",
     "is_executing": false
    }
   }
  },
  {
   "cell_type": "code",
   "execution_count": 5,
   "outputs": [
    {
     "data": {
      "text/plain": "           patientunitstayid  observationoffset  temperature  heartrate  \\\n0                     141168               2059          NaN       92.0   \n1                     141168               1289          NaN      118.0   \n2                     141168               1794          NaN       78.0   \n3                     141168               1374          NaN      118.0   \n4                     141168               2039          NaN       92.0   \n...                      ...                ...          ...        ...   \n146671637            3353263                504          NaN       87.0   \n146671638            3353263                534          NaN       81.0   \n146671639            3353263                549          NaN       78.0   \n146671640            3353263                544          NaN       85.0   \n146671641            3353263                599          NaN       75.0   \n\n           respiration  systemicsystolic  \n0                  NaN               NaN  \n1                  NaN               NaN  \n2                  NaN               NaN  \n3                  NaN               NaN  \n4                  NaN               NaN  \n...                ...               ...  \n146671637         36.0               NaN  \n146671638         21.0               NaN  \n146671639         14.0               NaN  \n146671640         25.0               NaN  \n146671641         13.0               NaN  \n\n[146671642 rows x 6 columns]",
      "text/html": "<div>\n<style scoped>\n    .dataframe tbody tr th:only-of-type {\n        vertical-align: middle;\n    }\n\n    .dataframe tbody tr th {\n        vertical-align: top;\n    }\n\n    .dataframe thead th {\n        text-align: right;\n    }\n</style>\n<table border=\"1\" class=\"dataframe\">\n  <thead>\n    <tr style=\"text-align: right;\">\n      <th></th>\n      <th>patientunitstayid</th>\n      <th>observationoffset</th>\n      <th>temperature</th>\n      <th>heartrate</th>\n      <th>respiration</th>\n      <th>systemicsystolic</th>\n    </tr>\n  </thead>\n  <tbody>\n    <tr>\n      <td>0</td>\n      <td>141168</td>\n      <td>2059</td>\n      <td>NaN</td>\n      <td>92.0</td>\n      <td>NaN</td>\n      <td>NaN</td>\n    </tr>\n    <tr>\n      <td>1</td>\n      <td>141168</td>\n      <td>1289</td>\n      <td>NaN</td>\n      <td>118.0</td>\n      <td>NaN</td>\n      <td>NaN</td>\n    </tr>\n    <tr>\n      <td>2</td>\n      <td>141168</td>\n      <td>1794</td>\n      <td>NaN</td>\n      <td>78.0</td>\n      <td>NaN</td>\n      <td>NaN</td>\n    </tr>\n    <tr>\n      <td>3</td>\n      <td>141168</td>\n      <td>1374</td>\n      <td>NaN</td>\n      <td>118.0</td>\n      <td>NaN</td>\n      <td>NaN</td>\n    </tr>\n    <tr>\n      <td>4</td>\n      <td>141168</td>\n      <td>2039</td>\n      <td>NaN</td>\n      <td>92.0</td>\n      <td>NaN</td>\n      <td>NaN</td>\n    </tr>\n    <tr>\n      <td>...</td>\n      <td>...</td>\n      <td>...</td>\n      <td>...</td>\n      <td>...</td>\n      <td>...</td>\n      <td>...</td>\n    </tr>\n    <tr>\n      <td>146671637</td>\n      <td>3353263</td>\n      <td>504</td>\n      <td>NaN</td>\n      <td>87.0</td>\n      <td>36.0</td>\n      <td>NaN</td>\n    </tr>\n    <tr>\n      <td>146671638</td>\n      <td>3353263</td>\n      <td>534</td>\n      <td>NaN</td>\n      <td>81.0</td>\n      <td>21.0</td>\n      <td>NaN</td>\n    </tr>\n    <tr>\n      <td>146671639</td>\n      <td>3353263</td>\n      <td>549</td>\n      <td>NaN</td>\n      <td>78.0</td>\n      <td>14.0</td>\n      <td>NaN</td>\n    </tr>\n    <tr>\n      <td>146671640</td>\n      <td>3353263</td>\n      <td>544</td>\n      <td>NaN</td>\n      <td>85.0</td>\n      <td>25.0</td>\n      <td>NaN</td>\n    </tr>\n    <tr>\n      <td>146671641</td>\n      <td>3353263</td>\n      <td>599</td>\n      <td>NaN</td>\n      <td>75.0</td>\n      <td>13.0</td>\n      <td>NaN</td>\n    </tr>\n  </tbody>\n</table>\n<p>146671642 rows × 6 columns</p>\n</div>"
     },
     "metadata": {},
     "output_type": "execute_result",
     "execution_count": 5
    }
   ],
   "source": [
    "vitalperiodic = pd.read_csv('../eICU' + database_type + '/vitalPeriodic.csv')\n",
    "vitalperiodic"
   ],
   "metadata": {
    "collapsed": false,
    "pycharm": {
     "name": "#%%\n",
     "is_executing": false
    }
   }
  },
  {
   "cell_type": "code",
   "execution_count": 6,
   "outputs": [
    {
     "data": {
      "text/plain": "           patientunitstayid  observationoffset  temperature  heartrate  \\\n0                     141168             2059.0          NaN       92.0   \n1                     141168             1289.0          NaN      118.0   \n2                     141168             1794.0          NaN       78.0   \n3                     141168             1374.0          NaN      118.0   \n4                     141168             2039.0          NaN       92.0   \n...                      ...                ...          ...        ...   \n147832933            3353254                NaN          NaN        NaN   \n147832934            3353254                NaN          NaN        NaN   \n147832935            3353254                NaN          NaN        NaN   \n147832936            3353263                NaN          NaN        NaN   \n147832937            3353263                NaN          NaN        NaN   \n\n           respiration  systemicsystolic  labresultoffset  creatinine  \\\n0                  NaN               NaN              NaN         NaN   \n1                  NaN               NaN              NaN         NaN   \n2                  NaN               NaN              NaN         NaN   \n3                  NaN               NaN              NaN         NaN   \n4                  NaN               NaN              NaN         NaN   \n...                ...               ...              ...         ...   \n147832933          NaN               NaN           5558.0        1.67   \n147832934          NaN               NaN           4144.0        1.61   \n147832935          NaN               NaN           -256.0        2.38   \n147832936          NaN               NaN             -7.0        1.06   \n147832937          NaN               NaN             -7.0        1.06   \n\n           wbcx1000  lactate  \n0               NaN      NaN  \n1               NaN      NaN  \n2               NaN      NaN  \n3               NaN      NaN  \n4               NaN      NaN  \n...             ...      ...  \n147832933      11.7      NaN  \n147832934       NaN      NaN  \n147832935      13.5      NaN  \n147832936       6.5      NaN  \n147832937       6.4      NaN  \n\n[147832938 rows x 10 columns]",
      "text/html": "<div>\n<style scoped>\n    .dataframe tbody tr th:only-of-type {\n        vertical-align: middle;\n    }\n\n    .dataframe tbody tr th {\n        vertical-align: top;\n    }\n\n    .dataframe thead th {\n        text-align: right;\n    }\n</style>\n<table border=\"1\" class=\"dataframe\">\n  <thead>\n    <tr style=\"text-align: right;\">\n      <th></th>\n      <th>patientunitstayid</th>\n      <th>observationoffset</th>\n      <th>temperature</th>\n      <th>heartrate</th>\n      <th>respiration</th>\n      <th>systemicsystolic</th>\n      <th>labresultoffset</th>\n      <th>creatinine</th>\n      <th>wbcx1000</th>\n      <th>lactate</th>\n    </tr>\n  </thead>\n  <tbody>\n    <tr>\n      <td>0</td>\n      <td>141168</td>\n      <td>2059.0</td>\n      <td>NaN</td>\n      <td>92.0</td>\n      <td>NaN</td>\n      <td>NaN</td>\n      <td>NaN</td>\n      <td>NaN</td>\n      <td>NaN</td>\n      <td>NaN</td>\n    </tr>\n    <tr>\n      <td>1</td>\n      <td>141168</td>\n      <td>1289.0</td>\n      <td>NaN</td>\n      <td>118.0</td>\n      <td>NaN</td>\n      <td>NaN</td>\n      <td>NaN</td>\n      <td>NaN</td>\n      <td>NaN</td>\n      <td>NaN</td>\n    </tr>\n    <tr>\n      <td>2</td>\n      <td>141168</td>\n      <td>1794.0</td>\n      <td>NaN</td>\n      <td>78.0</td>\n      <td>NaN</td>\n      <td>NaN</td>\n      <td>NaN</td>\n      <td>NaN</td>\n      <td>NaN</td>\n      <td>NaN</td>\n    </tr>\n    <tr>\n      <td>3</td>\n      <td>141168</td>\n      <td>1374.0</td>\n      <td>NaN</td>\n      <td>118.0</td>\n      <td>NaN</td>\n      <td>NaN</td>\n      <td>NaN</td>\n      <td>NaN</td>\n      <td>NaN</td>\n      <td>NaN</td>\n    </tr>\n    <tr>\n      <td>4</td>\n      <td>141168</td>\n      <td>2039.0</td>\n      <td>NaN</td>\n      <td>92.0</td>\n      <td>NaN</td>\n      <td>NaN</td>\n      <td>NaN</td>\n      <td>NaN</td>\n      <td>NaN</td>\n      <td>NaN</td>\n    </tr>\n    <tr>\n      <td>...</td>\n      <td>...</td>\n      <td>...</td>\n      <td>...</td>\n      <td>...</td>\n      <td>...</td>\n      <td>...</td>\n      <td>...</td>\n      <td>...</td>\n      <td>...</td>\n      <td>...</td>\n    </tr>\n    <tr>\n      <td>147832933</td>\n      <td>3353254</td>\n      <td>NaN</td>\n      <td>NaN</td>\n      <td>NaN</td>\n      <td>NaN</td>\n      <td>NaN</td>\n      <td>5558.0</td>\n      <td>1.67</td>\n      <td>11.7</td>\n      <td>NaN</td>\n    </tr>\n    <tr>\n      <td>147832934</td>\n      <td>3353254</td>\n      <td>NaN</td>\n      <td>NaN</td>\n      <td>NaN</td>\n      <td>NaN</td>\n      <td>NaN</td>\n      <td>4144.0</td>\n      <td>1.61</td>\n      <td>NaN</td>\n      <td>NaN</td>\n    </tr>\n    <tr>\n      <td>147832935</td>\n      <td>3353254</td>\n      <td>NaN</td>\n      <td>NaN</td>\n      <td>NaN</td>\n      <td>NaN</td>\n      <td>NaN</td>\n      <td>-256.0</td>\n      <td>2.38</td>\n      <td>13.5</td>\n      <td>NaN</td>\n    </tr>\n    <tr>\n      <td>147832936</td>\n      <td>3353263</td>\n      <td>NaN</td>\n      <td>NaN</td>\n      <td>NaN</td>\n      <td>NaN</td>\n      <td>NaN</td>\n      <td>-7.0</td>\n      <td>1.06</td>\n      <td>6.5</td>\n      <td>NaN</td>\n    </tr>\n    <tr>\n      <td>147832937</td>\n      <td>3353263</td>\n      <td>NaN</td>\n      <td>NaN</td>\n      <td>NaN</td>\n      <td>NaN</td>\n      <td>NaN</td>\n      <td>-7.0</td>\n      <td>1.06</td>\n      <td>6.4</td>\n      <td>NaN</td>\n    </tr>\n  </tbody>\n</table>\n<p>147832938 rows × 10 columns</p>\n</div>"
     },
     "metadata": {},
     "output_type": "execute_result",
     "execution_count": 6
    }
   ],
   "source": [
    "# The original dataframes were deleted to free up resources.  \n",
    "merge = pd.merge(vitalperiodic, lab,  how='outer', left_on=['patientunitstayid','observationoffset'], right_on = ['patientunitstayid','labresultoffset'])\n",
    "del lab, vitalperiodic\n",
    "merge "
   ],
   "metadata": {
    "collapsed": false,
    "pycharm": {
     "name": "#%%\n",
     "is_executing": false
    }
   }
  },
  {
   "cell_type": "code",
   "execution_count": 7,
   "outputs": [
    {
     "data": {
      "text/plain": "         patientunitstayid  intakeoutputoffset  urineoutputbyweight\n0                   141179                1420             3.968254\n1                   141179                 933             2.834467\n2                   141179                1703             5.668934\n3                   141179                 678             3.968254\n4                   141194               12201             1.353180\n...                    ...                 ...                  ...\n3331676            3353254                4169            19.070322\n3331677            3353254                5326             4.767580\n3331678            3353254                2626            10.131108\n3331679            3353254                3101            15.494636\n3331680            3353254                1414             0.357569\n\n[3331681 rows x 3 columns]",
      "text/html": "<div>\n<style scoped>\n    .dataframe tbody tr th:only-of-type {\n        vertical-align: middle;\n    }\n\n    .dataframe tbody tr th {\n        vertical-align: top;\n    }\n\n    .dataframe thead th {\n        text-align: right;\n    }\n</style>\n<table border=\"1\" class=\"dataframe\">\n  <thead>\n    <tr style=\"text-align: right;\">\n      <th></th>\n      <th>patientunitstayid</th>\n      <th>intakeoutputoffset</th>\n      <th>urineoutputbyweight</th>\n    </tr>\n  </thead>\n  <tbody>\n    <tr>\n      <td>0</td>\n      <td>141179</td>\n      <td>1420</td>\n      <td>3.968254</td>\n    </tr>\n    <tr>\n      <td>1</td>\n      <td>141179</td>\n      <td>933</td>\n      <td>2.834467</td>\n    </tr>\n    <tr>\n      <td>2</td>\n      <td>141179</td>\n      <td>1703</td>\n      <td>5.668934</td>\n    </tr>\n    <tr>\n      <td>3</td>\n      <td>141179</td>\n      <td>678</td>\n      <td>3.968254</td>\n    </tr>\n    <tr>\n      <td>4</td>\n      <td>141194</td>\n      <td>12201</td>\n      <td>1.353180</td>\n    </tr>\n    <tr>\n      <td>...</td>\n      <td>...</td>\n      <td>...</td>\n      <td>...</td>\n    </tr>\n    <tr>\n      <td>3331676</td>\n      <td>3353254</td>\n      <td>4169</td>\n      <td>19.070322</td>\n    </tr>\n    <tr>\n      <td>3331677</td>\n      <td>3353254</td>\n      <td>5326</td>\n      <td>4.767580</td>\n    </tr>\n    <tr>\n      <td>3331678</td>\n      <td>3353254</td>\n      <td>2626</td>\n      <td>10.131108</td>\n    </tr>\n    <tr>\n      <td>3331679</td>\n      <td>3353254</td>\n      <td>3101</td>\n      <td>15.494636</td>\n    </tr>\n    <tr>\n      <td>3331680</td>\n      <td>3353254</td>\n      <td>1414</td>\n      <td>0.357569</td>\n    </tr>\n  </tbody>\n</table>\n<p>3331681 rows × 3 columns</p>\n</div>"
     },
     "metadata": {},
     "output_type": "execute_result",
     "execution_count": 7
    }
   ],
   "source": [
    "intakeOutputUrine = pd.read_csv('../eICU' + database_type + '/intakeOutputUrine.csv')\n",
    "intakeOutputUrine"
   ],
   "metadata": {
    "collapsed": false,
    "pycharm": {
     "name": "#%%\n",
     "is_executing": false
    }
   }
  },
  {
   "cell_type": "code",
   "execution_count": null,
   "outputs": [
    {
     "traceback": [
      "\u001b[1;31m---------------------------------------------------------------------------\u001b[0m",
      "\u001b[1;31mMemoryError\u001b[0m                               Traceback (most recent call last)",
      "\u001b[1;32mpandas\\_libs\\hashtable_class_helper.pxi\u001b[0m in \u001b[0;36mpandas._libs.hashtable.Int64Vector.resize\u001b[1;34m()\u001b[0m\n",
      "\u001b[1;31mMemoryError\u001b[0m: cannot allocate memory for array"
     ],
     "ename": "MemoryError",
     "evalue": "cannot allocate memory for array",
     "output_type": "error"
    }
   ],
   "source": [
    "merge1 = pd.merge(merge, intakeOutputUrine,  how='outer', left_on=['patientunitstayid','observationoffset'], right_on = ['patientunitstayid','intakeoutputoffset'])\n",
    "del merge, intakeOutputUrine\n",
    "merge1"
   ],
   "metadata": {
    "collapsed": false,
    "pycharm": {
     "name": "#%%\n",
     "is_executing": true
    }
   }
  },
  {
   "cell_type": "code",
   "source": [
    "merge1['observationoffset'] = merge1.apply(lambda x: x['observationoffset'] if pd.notna(x['observationoffset']) else (x['labresultoffset'] if pd.notna(x['labresultoffset']) else x['intakeoutputoffset']), axis = 1)\n",
    "merge1 = merge1.drop(['labresultoffset', 'intakeoutputoffset'], axis = 1)\n",
    "merge1"
   ],
   "metadata": {
    "collapsed": false,
    "pycharm": {
     "name": "#%%\n",
     "is_executing": true
    }
   },
   "execution_count": null,
   "outputs": []
  },
  {
   "cell_type": "code",
   "execution_count": null,
   "outputs": [],
   "source": [
    "diagnosis = pd.read_csv('../eICU' + database_type + '/diagnosis.csv')\n",
    "diagnosis = diagnosis.astype({'diagnosis': int})\n",
    "diagnosis"
   ],
   "metadata": {
    "collapsed": false,
    "pycharm": {
     "name": "#%%\n",
     "is_executing": true
    }
   }
  },
  {
   "cell_type": "code",
   "execution_count": null,
   "outputs": [],
   "source": [
    "finalMerge = pd.merge(merge1, diagnosis,  how='outer', left_on=['patientunitstayid'], right_on = ['patientunitstayid'])\n",
    "del merge1, diagnosis\n",
    "finalMerge"
   ],
   "metadata": {
    "collapsed": false,
    "pycharm": {
     "name": "#%%\n",
     "is_executing": true
    }
   }
  },
  {
   "cell_type": "code",
   "execution_count": null,
   "outputs": [],
   "source": [
    "path = \"../eICU/training/\"\n",
    "finalMerge.to_csv(path + \"finalMerge.csv\", sep=',', index=False, encoding='utf-8')\n"
   ],
   "metadata": {
    "collapsed": false,
    "pycharm": {
     "name": "#%%\n",
     "is_executing": true
    }
   }
  }
 ],
 "metadata": {
  "kernelspec": {
   "display_name": "Python 3",
   "language": "python",
   "name": "python3"
  },
  "language_info": {
   "codemirror_mode": {
    "name": "ipython",
    "version": 2
   },
   "file_extension": ".py",
   "mimetype": "text/x-python",
   "name": "python",
   "nbconvert_exporter": "python",
   "pygments_lexer": "ipython2",
   "version": "2.7.6"
  },
  "pycharm": {
   "stem_cell": {
    "cell_type": "raw",
    "source": [],
    "metadata": {
     "collapsed": false
    }
   }
  }
 },
 "nbformat": 4,
 "nbformat_minor": 0
}