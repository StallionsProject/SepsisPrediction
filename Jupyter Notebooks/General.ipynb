{
 "cells": [
  {
   "cell_type": "code",
   "execution_count": 1,
   "metadata": {
    "pycharm": {
     "is_executing": false
    }
   },
   "outputs": [],
   "source": [
    "import pandas as pd\n",
    "from matplotlib import pyplot as plt\n",
    "import numpy as np\n",
    "from sklearn.preprocessing import LabelEncoder"
   ]
  },
  {
   "cell_type": "code",
   "execution_count": 2,
   "metadata": {
    "pycharm": {
     "is_executing": false
    }
   },
   "outputs": [],
   "source": [
    "lab = pd.read_csv(\"../eICU/lab.csv\")"
   ]
  },
  {
   "cell_type": "code",
   "execution_count": 5,
   "metadata": {
    "pycharm": {
     "is_executing": false
    }
   },
   "outputs": [
    {
     "data": {
      "text/plain": "      labid  patientunitstayid  labresultoffset  labtypeid     labname  \\\n0  52307161             141168             2026          3  fibrinogen   \n1  50363251             141168             1133          3    PT - INR   \n2  49149139             141168             2026          1   magnesium   \n3  50363250             141168             1133          3          PT   \n4  66695374             141168             2141          7          pH   \n\n   labresult labresulttext labmeasurenamesystem labmeasurenameinterface  \\\n0      177.0           177                mg/dL                   mg/dL   \n1        2.5           2.5                ratio                     NaN   \n2        2.0           2.0                mg/dL                   mg/dL   \n3       26.6          26.6                  sec                     sec   \n4        7.2          7.20                  NaN                   Units   \n\n   labresultrevisedoffset  \n0                    2219  \n1                    1208  \n2                    2090  \n3                    1208  \n4                    2155  ",
      "text/html": "<div>\n<style scoped>\n    .dataframe tbody tr th:only-of-type {\n        vertical-align: middle;\n    }\n\n    .dataframe tbody tr th {\n        vertical-align: top;\n    }\n\n    .dataframe thead th {\n        text-align: right;\n    }\n</style>\n<table border=\"1\" class=\"dataframe\">\n  <thead>\n    <tr style=\"text-align: right;\">\n      <th></th>\n      <th>labid</th>\n      <th>patientunitstayid</th>\n      <th>labresultoffset</th>\n      <th>labtypeid</th>\n      <th>labname</th>\n      <th>labresult</th>\n      <th>labresulttext</th>\n      <th>labmeasurenamesystem</th>\n      <th>labmeasurenameinterface</th>\n      <th>labresultrevisedoffset</th>\n    </tr>\n  </thead>\n  <tbody>\n    <tr>\n      <td>0</td>\n      <td>52307161</td>\n      <td>141168</td>\n      <td>2026</td>\n      <td>3</td>\n      <td>fibrinogen</td>\n      <td>177.0</td>\n      <td>177</td>\n      <td>mg/dL</td>\n      <td>mg/dL</td>\n      <td>2219</td>\n    </tr>\n    <tr>\n      <td>1</td>\n      <td>50363251</td>\n      <td>141168</td>\n      <td>1133</td>\n      <td>3</td>\n      <td>PT - INR</td>\n      <td>2.5</td>\n      <td>2.5</td>\n      <td>ratio</td>\n      <td>NaN</td>\n      <td>1208</td>\n    </tr>\n    <tr>\n      <td>2</td>\n      <td>49149139</td>\n      <td>141168</td>\n      <td>2026</td>\n      <td>1</td>\n      <td>magnesium</td>\n      <td>2.0</td>\n      <td>2.0</td>\n      <td>mg/dL</td>\n      <td>mg/dL</td>\n      <td>2090</td>\n    </tr>\n    <tr>\n      <td>3</td>\n      <td>50363250</td>\n      <td>141168</td>\n      <td>1133</td>\n      <td>3</td>\n      <td>PT</td>\n      <td>26.6</td>\n      <td>26.6</td>\n      <td>sec</td>\n      <td>sec</td>\n      <td>1208</td>\n    </tr>\n    <tr>\n      <td>4</td>\n      <td>66695374</td>\n      <td>141168</td>\n      <td>2141</td>\n      <td>7</td>\n      <td>pH</td>\n      <td>7.2</td>\n      <td>7.20</td>\n      <td>NaN</td>\n      <td>Units</td>\n      <td>2155</td>\n    </tr>\n  </tbody>\n</table>\n</div>"
     },
     "metadata": {},
     "output_type": "execute_result",
     "execution_count": 5
    }
   ],
   "source": [
    "lab.head()"
   ]
  },
  {
   "cell_type": "code",
   "execution_count": 8,
   "metadata": {},
   "outputs": [
    {
     "data": {
      "text/plain": [
       "labid                        int64\n",
       "patientunitstayid            int64\n",
       "labresultoffset              int64\n",
       "labtypeid                    int64\n",
       "labname                     object\n",
       "labresult                  float64\n",
       "labresulttext               object\n",
       "labmeasurenamesystem        object\n",
       "labmeasurenameinterface     object\n",
       "labresultrevisedoffset       int64\n",
       "dtype: object"
      ]
     },
     "execution_count": 8,
     "metadata": {},
     "output_type": "execute_result"
    }
   ],
   "source": [
    "lab.dtypes"
   ]
  },
  {
   "cell_type": "code",
   "execution_count": 4,
   "metadata": {
    "pycharm": {
     "is_executing": false
    }
   },
   "outputs": [
    {
     "data": {
      "text/plain": "              labid  patientunitstayid  labresultoffset     labtypeid  \\\ncount  3.913253e+07       3.913253e+07     3.913253e+07  3.913253e+07   \nmean   4.251397e+08       1.768919e+06     5.549579e+03  2.633102e+00   \nstd    2.414771e+08       9.991068e+05     3.831341e+04  1.776471e+00   \nmin    4.264058e+07       1.411680e+05    -5.257846e+07  1.000000e+00   \n25%    2.297952e+08       9.704640e+05     2.530000e+02  1.000000e+00   \n50%    4.025197e+08       1.669507e+06     2.379000e+03  3.000000e+00   \n75%    6.500060e+08       2.778189e+06     7.450000e+03  3.000000e+00   \nmax    8.300097e+08       3.353263e+06     8.305830e+05  7.000000e+00   \n\n          labresult  labresultrevisedoffset  \ncount  3.890301e+07            3.913253e+07  \nmean   6.342571e+01            5.614767e+03  \nstd    9.703484e+02            3.644262e+04  \nmin   -5.000000e+02           -5.257846e+07  \n25%    6.000000e+00            3.020000e+02  \n50%    2.100000e+01            2.433000e+03  \n75%    9.100000e+01            7.499000e+03  \nmax    2.060000e+06            8.306390e+05  ",
      "text/html": "<div>\n<style scoped>\n    .dataframe tbody tr th:only-of-type {\n        vertical-align: middle;\n    }\n\n    .dataframe tbody tr th {\n        vertical-align: top;\n    }\n\n    .dataframe thead th {\n        text-align: right;\n    }\n</style>\n<table border=\"1\" class=\"dataframe\">\n  <thead>\n    <tr style=\"text-align: right;\">\n      <th></th>\n      <th>labid</th>\n      <th>patientunitstayid</th>\n      <th>labresultoffset</th>\n      <th>labtypeid</th>\n      <th>labresult</th>\n      <th>labresultrevisedoffset</th>\n    </tr>\n  </thead>\n  <tbody>\n    <tr>\n      <td>count</td>\n      <td>3.913253e+07</td>\n      <td>3.913253e+07</td>\n      <td>3.913253e+07</td>\n      <td>3.913253e+07</td>\n      <td>3.890301e+07</td>\n      <td>3.913253e+07</td>\n    </tr>\n    <tr>\n      <td>mean</td>\n      <td>4.251397e+08</td>\n      <td>1.768919e+06</td>\n      <td>5.549579e+03</td>\n      <td>2.633102e+00</td>\n      <td>6.342571e+01</td>\n      <td>5.614767e+03</td>\n    </tr>\n    <tr>\n      <td>std</td>\n      <td>2.414771e+08</td>\n      <td>9.991068e+05</td>\n      <td>3.831341e+04</td>\n      <td>1.776471e+00</td>\n      <td>9.703484e+02</td>\n      <td>3.644262e+04</td>\n    </tr>\n    <tr>\n      <td>min</td>\n      <td>4.264058e+07</td>\n      <td>1.411680e+05</td>\n      <td>-5.257846e+07</td>\n      <td>1.000000e+00</td>\n      <td>-5.000000e+02</td>\n      <td>-5.257846e+07</td>\n    </tr>\n    <tr>\n      <td>25%</td>\n      <td>2.297952e+08</td>\n      <td>9.704640e+05</td>\n      <td>2.530000e+02</td>\n      <td>1.000000e+00</td>\n      <td>6.000000e+00</td>\n      <td>3.020000e+02</td>\n    </tr>\n    <tr>\n      <td>50%</td>\n      <td>4.025197e+08</td>\n      <td>1.669507e+06</td>\n      <td>2.379000e+03</td>\n      <td>3.000000e+00</td>\n      <td>2.100000e+01</td>\n      <td>2.433000e+03</td>\n    </tr>\n    <tr>\n      <td>75%</td>\n      <td>6.500060e+08</td>\n      <td>2.778189e+06</td>\n      <td>7.450000e+03</td>\n      <td>3.000000e+00</td>\n      <td>9.100000e+01</td>\n      <td>7.499000e+03</td>\n    </tr>\n    <tr>\n      <td>max</td>\n      <td>8.300097e+08</td>\n      <td>3.353263e+06</td>\n      <td>8.305830e+05</td>\n      <td>7.000000e+00</td>\n      <td>2.060000e+06</td>\n      <td>8.306390e+05</td>\n    </tr>\n  </tbody>\n</table>\n</div>"
     },
     "metadata": {},
     "output_type": "execute_result",
     "execution_count": 4
    }
   ],
   "source": [
    "lab.describe()"
   ]
  },
  {
   "cell_type": "code",
   "execution_count": 10,
   "metadata": {},
   "outputs": [
    {
     "data": {
      "text/plain": [
       "count    3.913253e+07\n",
       "mean     4.251397e+08\n",
       "std      2.414771e+08\n",
       "min      4.264058e+07\n",
       "25%      2.297952e+08\n",
       "50%      4.025197e+08\n",
       "75%      6.500060e+08\n",
       "max      8.300097e+08\n",
       "Name: labid, dtype: float64"
      ]
     },
     "execution_count": 10,
     "metadata": {},
     "output_type": "execute_result"
    }
   ],
   "source": [
    "lab[\"labid\"].describe()"
   ]
  },
  {
   "cell_type": "code",
   "execution_count": 12,
   "metadata": {},
   "outputs": [
    {
     "data": {
      "text/plain": [
       "[42640577,\n",
       " 42640581,\n",
       " 42640582,\n",
       " 42640583,\n",
       " 42640584,\n",
       " 42640585,\n",
       " 42640586,\n",
       " 42640587,\n",
       " 42640588,\n",
       " 42640617,\n",
       " 42640663,\n",
       " 42640664,\n",
       " 42640665,\n",
       " 42640666,\n",
       " 42640667,\n",
       " 42640668,\n",
       " 42640669,\n",
       " 42640670,\n",
       " 42640671,\n",
       " 42640672]"
      ]
     },
     "execution_count": 12,
     "metadata": {},
     "output_type": "execute_result"
    }
   ],
   "source": [
    "sorted(lab[\"labid\"])[0:20]"
   ]
  },
  {
   "cell_type": "code",
   "execution_count": 14,
   "metadata": {},
   "outputs": [],
   "source": [
    "del lab[\"labid\"]"
   ]
  },
  {
   "cell_type": "code",
   "execution_count": 15,
   "metadata": {},
   "outputs": [
    {
     "data": {
      "text/html": [
       "<div>\n",
       "<style scoped>\n",
       "    .dataframe tbody tr th:only-of-type {\n",
       "        vertical-align: middle;\n",
       "    }\n",
       "\n",
       "    .dataframe tbody tr th {\n",
       "        vertical-align: top;\n",
       "    }\n",
       "\n",
       "    .dataframe thead th {\n",
       "        text-align: right;\n",
       "    }\n",
       "</style>\n",
       "<table border=\"1\" class=\"dataframe\">\n",
       "  <thead>\n",
       "    <tr style=\"text-align: right;\">\n",
       "      <th></th>\n",
       "      <th>patientunitstayid</th>\n",
       "      <th>labresultoffset</th>\n",
       "      <th>labtypeid</th>\n",
       "      <th>labname</th>\n",
       "      <th>labresult</th>\n",
       "      <th>labresulttext</th>\n",
       "      <th>labmeasurenamesystem</th>\n",
       "      <th>labmeasurenameinterface</th>\n",
       "      <th>labresultrevisedoffset</th>\n",
       "    </tr>\n",
       "  </thead>\n",
       "  <tbody>\n",
       "    <tr>\n",
       "      <td>0</td>\n",
       "      <td>141168</td>\n",
       "      <td>2026</td>\n",
       "      <td>3</td>\n",
       "      <td>fibrinogen</td>\n",
       "      <td>177.0</td>\n",
       "      <td>177</td>\n",
       "      <td>mg/dL</td>\n",
       "      <td>mg/dL</td>\n",
       "      <td>2219</td>\n",
       "    </tr>\n",
       "    <tr>\n",
       "      <td>1</td>\n",
       "      <td>141168</td>\n",
       "      <td>1133</td>\n",
       "      <td>3</td>\n",
       "      <td>PT - INR</td>\n",
       "      <td>2.5</td>\n",
       "      <td>2.5</td>\n",
       "      <td>ratio</td>\n",
       "      <td>NaN</td>\n",
       "      <td>1208</td>\n",
       "    </tr>\n",
       "    <tr>\n",
       "      <td>2</td>\n",
       "      <td>141168</td>\n",
       "      <td>2026</td>\n",
       "      <td>1</td>\n",
       "      <td>magnesium</td>\n",
       "      <td>2.0</td>\n",
       "      <td>2.0</td>\n",
       "      <td>mg/dL</td>\n",
       "      <td>mg/dL</td>\n",
       "      <td>2090</td>\n",
       "    </tr>\n",
       "    <tr>\n",
       "      <td>3</td>\n",
       "      <td>141168</td>\n",
       "      <td>1133</td>\n",
       "      <td>3</td>\n",
       "      <td>PT</td>\n",
       "      <td>26.6</td>\n",
       "      <td>26.6</td>\n",
       "      <td>sec</td>\n",
       "      <td>sec</td>\n",
       "      <td>1208</td>\n",
       "    </tr>\n",
       "    <tr>\n",
       "      <td>4</td>\n",
       "      <td>141168</td>\n",
       "      <td>2141</td>\n",
       "      <td>7</td>\n",
       "      <td>pH</td>\n",
       "      <td>7.2</td>\n",
       "      <td>7.20</td>\n",
       "      <td>NaN</td>\n",
       "      <td>Units</td>\n",
       "      <td>2155</td>\n",
       "    </tr>\n",
       "  </tbody>\n",
       "</table>\n",
       "</div>"
      ],
      "text/plain": [
       "   patientunitstayid  labresultoffset  labtypeid     labname  labresult  \\\n",
       "0             141168             2026          3  fibrinogen      177.0   \n",
       "1             141168             1133          3    PT - INR        2.5   \n",
       "2             141168             2026          1   magnesium        2.0   \n",
       "3             141168             1133          3          PT       26.6   \n",
       "4             141168             2141          7          pH        7.2   \n",
       "\n",
       "  labresulttext labmeasurenamesystem labmeasurenameinterface  \\\n",
       "0           177                mg/dL                   mg/dL   \n",
       "1           2.5                ratio                     NaN   \n",
       "2           2.0                mg/dL                   mg/dL   \n",
       "3          26.6                  sec                     sec   \n",
       "4          7.20                  NaN                   Units   \n",
       "\n",
       "   labresultrevisedoffset  \n",
       "0                    2219  \n",
       "1                    1208  \n",
       "2                    2090  \n",
       "3                    1208  \n",
       "4                    2155  "
      ]
     },
     "execution_count": 15,
     "metadata": {},
     "output_type": "execute_result"
    }
   ],
   "source": [
    "lab.head()"
   ]
  },
  {
   "cell_type": "code",
   "execution_count": 3,
   "metadata": {
    "pycharm": {
     "is_executing": false,
     "name": "#%%\n"
    }
   },
   "outputs": [
    {
     "name": "stdout",
     "text": [
      "5\n"
     ],
     "output_type": "stream"
    }
   ],
   "source": [
    "y = 5\n",
    "print(5)"
   ]
  },
  {
   "cell_type": "code",
   "execution_count": null,
   "outputs": [],
   "source": [
    "\n"
   ],
   "metadata": {
    "collapsed": false,
    "pycharm": {
     "name": "#%%\n"
    }
   }
  }
 ],
 "metadata": {
  "kernelspec": {
   "display_name": "Python 3",
   "language": "python",
   "name": "python3"
  },
  "language_info": {
   "codemirror_mode": {
    "name": "ipython",
    "version": 3
   },
   "file_extension": ".py",
   "mimetype": "text/x-python",
   "name": "python",
   "nbconvert_exporter": "python",
   "pygments_lexer": "ipython3",
   "version": "3.7.4"
  },
  "pycharm": {
   "stem_cell": {
    "cell_type": "raw",
    "source": [],
    "metadata": {
     "collapsed": false
    }
   }
  }
 },
 "nbformat": 4,
 "nbformat_minor": 4
}