{
 "cells": [
  {
   "cell_type": "code",
   "execution_count": 1,
   "metadata": {
    "collapsed": true,
    "pycharm": {
     "is_executing": false
    }
   },
   "outputs": [],
   "source": [
    "import pandas as pd\n",
    "import numpy as np"
   ]
  },
  {
   "cell_type": "markdown",
   "source": [
    "The `patient` table includes general information about the patient admissions (for example, demographics, admission and discharge details). See: http://eicu-crd.mit.edu/eicutables/patient/"
   ],
   "metadata": {
    "collapsed": false
   }
  },
  {
   "cell_type": "code",
   "execution_count": 2,
   "outputs": [
    {
     "data": {
      "text/plain": "   patientunitstayid  patienthealthsystemstayid  gender age  ethnicity  \\\n0             141168                     128919  Female  70  Caucasian   \n1             141178                     128927  Female  52  Caucasian   \n2             141179                     128927  Female  52  Caucasian   \n3             141194                     128941    Male  68  Caucasian   \n4             141196                     128943    Male  71  Caucasian   \n\n   hospitalid  wardid                              apacheadmissiondx  \\\n0          59      91  Rhythm disturbance (atrial, supraventricular)   \n1          60      83                                            NaN   \n2          60      83                                            NaN   \n3          73      92          Sepsis, renal/UTI (including bladder)   \n4          67     109                                            NaN   \n\n   admissionheight hospitaladmittime24  ...       unitadmitsource  \\\n0            152.4            15:54:00  ...          Direct Admit   \n1            162.6            08:56:00  ...  Emergency Department   \n2            162.6            08:56:00  ...            ICU to SDU   \n3            180.3            18:18:40  ...                 Floor   \n4            162.6            20:21:00  ...            ICU to SDU   \n\n  unitvisitnumber    unitstaytype admissionweight  dischargeweight  \\\n0               1           admit            84.3             85.8   \n1               1           admit            54.4             54.4   \n2               2  stepdown/other             NaN             60.4   \n3               1           admit            73.9             76.7   \n4               2  stepdown/other             NaN             63.2   \n\n  unitdischargetime24 unitdischargeoffset unitdischargelocation  \\\n0            03:50:00                3596                 Death   \n1            09:18:00                   8  Step-Down Unit (SDU)   \n2            19:20:00                2042                  Home   \n3            15:31:00                4813                 Floor   \n4            22:23:00                1463                 Floor   \n\n  unitdischargestatus  uniquepid  \n0             Expired  002-34851  \n1               Alive  002-33870  \n2               Alive  002-33870  \n3               Alive   002-5276  \n4               Alive  002-37665  \n\n[5 rows x 29 columns]",
      "text/html": "<div>\n<style scoped>\n    .dataframe tbody tr th:only-of-type {\n        vertical-align: middle;\n    }\n\n    .dataframe tbody tr th {\n        vertical-align: top;\n    }\n\n    .dataframe thead th {\n        text-align: right;\n    }\n</style>\n<table border=\"1\" class=\"dataframe\">\n  <thead>\n    <tr style=\"text-align: right;\">\n      <th></th>\n      <th>patientunitstayid</th>\n      <th>patienthealthsystemstayid</th>\n      <th>gender</th>\n      <th>age</th>\n      <th>ethnicity</th>\n      <th>hospitalid</th>\n      <th>wardid</th>\n      <th>apacheadmissiondx</th>\n      <th>admissionheight</th>\n      <th>hospitaladmittime24</th>\n      <th>...</th>\n      <th>unitadmitsource</th>\n      <th>unitvisitnumber</th>\n      <th>unitstaytype</th>\n      <th>admissionweight</th>\n      <th>dischargeweight</th>\n      <th>unitdischargetime24</th>\n      <th>unitdischargeoffset</th>\n      <th>unitdischargelocation</th>\n      <th>unitdischargestatus</th>\n      <th>uniquepid</th>\n    </tr>\n  </thead>\n  <tbody>\n    <tr>\n      <td>0</td>\n      <td>141168</td>\n      <td>128919</td>\n      <td>Female</td>\n      <td>70</td>\n      <td>Caucasian</td>\n      <td>59</td>\n      <td>91</td>\n      <td>Rhythm disturbance (atrial, supraventricular)</td>\n      <td>152.4</td>\n      <td>15:54:00</td>\n      <td>...</td>\n      <td>Direct Admit</td>\n      <td>1</td>\n      <td>admit</td>\n      <td>84.3</td>\n      <td>85.8</td>\n      <td>03:50:00</td>\n      <td>3596</td>\n      <td>Death</td>\n      <td>Expired</td>\n      <td>002-34851</td>\n    </tr>\n    <tr>\n      <td>1</td>\n      <td>141178</td>\n      <td>128927</td>\n      <td>Female</td>\n      <td>52</td>\n      <td>Caucasian</td>\n      <td>60</td>\n      <td>83</td>\n      <td>NaN</td>\n      <td>162.6</td>\n      <td>08:56:00</td>\n      <td>...</td>\n      <td>Emergency Department</td>\n      <td>1</td>\n      <td>admit</td>\n      <td>54.4</td>\n      <td>54.4</td>\n      <td>09:18:00</td>\n      <td>8</td>\n      <td>Step-Down Unit (SDU)</td>\n      <td>Alive</td>\n      <td>002-33870</td>\n    </tr>\n    <tr>\n      <td>2</td>\n      <td>141179</td>\n      <td>128927</td>\n      <td>Female</td>\n      <td>52</td>\n      <td>Caucasian</td>\n      <td>60</td>\n      <td>83</td>\n      <td>NaN</td>\n      <td>162.6</td>\n      <td>08:56:00</td>\n      <td>...</td>\n      <td>ICU to SDU</td>\n      <td>2</td>\n      <td>stepdown/other</td>\n      <td>NaN</td>\n      <td>60.4</td>\n      <td>19:20:00</td>\n      <td>2042</td>\n      <td>Home</td>\n      <td>Alive</td>\n      <td>002-33870</td>\n    </tr>\n    <tr>\n      <td>3</td>\n      <td>141194</td>\n      <td>128941</td>\n      <td>Male</td>\n      <td>68</td>\n      <td>Caucasian</td>\n      <td>73</td>\n      <td>92</td>\n      <td>Sepsis, renal/UTI (including bladder)</td>\n      <td>180.3</td>\n      <td>18:18:40</td>\n      <td>...</td>\n      <td>Floor</td>\n      <td>1</td>\n      <td>admit</td>\n      <td>73.9</td>\n      <td>76.7</td>\n      <td>15:31:00</td>\n      <td>4813</td>\n      <td>Floor</td>\n      <td>Alive</td>\n      <td>002-5276</td>\n    </tr>\n    <tr>\n      <td>4</td>\n      <td>141196</td>\n      <td>128943</td>\n      <td>Male</td>\n      <td>71</td>\n      <td>Caucasian</td>\n      <td>67</td>\n      <td>109</td>\n      <td>NaN</td>\n      <td>162.6</td>\n      <td>20:21:00</td>\n      <td>...</td>\n      <td>ICU to SDU</td>\n      <td>2</td>\n      <td>stepdown/other</td>\n      <td>NaN</td>\n      <td>63.2</td>\n      <td>22:23:00</td>\n      <td>1463</td>\n      <td>Floor</td>\n      <td>Alive</td>\n      <td>002-37665</td>\n    </tr>\n  </tbody>\n</table>\n<p>5 rows × 29 columns</p>\n</div>"
     },
     "metadata": {},
     "output_type": "execute_result",
     "execution_count": 2
    }
   ],
   "source": [
    "# loads patient table\n",
    "patients = pd.read_csv('../eICU/patient.csv')\n",
    "patients.head()"
   ],
   "metadata": {
    "collapsed": false,
    "pycharm": {
     "name": "#%%\n",
     "is_executing": false
    }
   }
  },
  {
   "cell_type": "markdown",
   "source": [
    "The `vitalperiodic` table comprises data that is consistently interfaced from bedside vital signs monitors into eCareManager. Data are generally interfaced as 1 minute averages, and archived into the `vitalperiodic` table as 5 minute median values. For more detail, see: http://eicu-crd.mit.edu/eicutables/vitalPeriodic/"
   ],
   "metadata": {
    "collapsed": false,
    "pycharm": {
     "name": "#%% md\n"
    }
   }
  },
  {
   "cell_type": "code",
   "execution_count": 4,
   "outputs": [
    {
     "traceback": [
      "\u001b[1;31m---------------------------------------------------------------------------\u001b[0m",
      "\u001b[1;31mMemoryError\u001b[0m                               Traceback (most recent call last)",
      "\u001b[1;32m<ipython-input-4-dff989c5cd16>\u001b[0m in \u001b[0;36m<module>\u001b[1;34m\u001b[0m\n\u001b[1;32m----> 1\u001b[1;33m \u001b[0mvitalperiodic\u001b[0m \u001b[1;33m=\u001b[0m \u001b[0mpd\u001b[0m\u001b[1;33m.\u001b[0m\u001b[0mread_csv\u001b[0m\u001b[1;33m(\u001b[0m\u001b[1;34m'../eICU/vitalPeriodic.csv'\u001b[0m\u001b[1;33m)\u001b[0m\u001b[1;33m\u001b[0m\u001b[1;33m\u001b[0m\u001b[0m\n\u001b[0m\u001b[0;32m      2\u001b[0m \u001b[0mvitalperiodic\u001b[0m\u001b[1;33m.\u001b[0m\u001b[0mhead\u001b[0m\u001b[1;33m(\u001b[0m\u001b[1;33m)\u001b[0m\u001b[1;33m\u001b[0m\u001b[1;33m\u001b[0m\u001b[0m\n\u001b[0;32m      3\u001b[0m \u001b[1;33m\u001b[0m\u001b[0m\n",
      "\u001b[1;32mC:\\tools\\Anaconda3\\lib\\site-packages\\pandas\\io\\parsers.py\u001b[0m in \u001b[0;36mparser_f\u001b[1;34m(filepath_or_buffer, sep, delimiter, header, names, index_col, usecols, squeeze, prefix, mangle_dupe_cols, dtype, engine, converters, true_values, false_values, skipinitialspace, skiprows, skipfooter, nrows, na_values, keep_default_na, na_filter, verbose, skip_blank_lines, parse_dates, infer_datetime_format, keep_date_col, date_parser, dayfirst, cache_dates, iterator, chunksize, compression, thousands, decimal, lineterminator, quotechar, quoting, doublequote, escapechar, comment, encoding, dialect, error_bad_lines, warn_bad_lines, delim_whitespace, low_memory, memory_map, float_precision)\u001b[0m\n\u001b[0;32m    683\u001b[0m         )\n\u001b[0;32m    684\u001b[0m \u001b[1;33m\u001b[0m\u001b[0m\n\u001b[1;32m--> 685\u001b[1;33m         \u001b[1;32mreturn\u001b[0m \u001b[0m_read\u001b[0m\u001b[1;33m(\u001b[0m\u001b[0mfilepath_or_buffer\u001b[0m\u001b[1;33m,\u001b[0m \u001b[0mkwds\u001b[0m\u001b[1;33m)\u001b[0m\u001b[1;33m\u001b[0m\u001b[1;33m\u001b[0m\u001b[0m\n\u001b[0m\u001b[0;32m    686\u001b[0m \u001b[1;33m\u001b[0m\u001b[0m\n\u001b[0;32m    687\u001b[0m     \u001b[0mparser_f\u001b[0m\u001b[1;33m.\u001b[0m\u001b[0m__name__\u001b[0m \u001b[1;33m=\u001b[0m \u001b[0mname\u001b[0m\u001b[1;33m\u001b[0m\u001b[1;33m\u001b[0m\u001b[0m\n",
      "\u001b[1;32mC:\\tools\\Anaconda3\\lib\\site-packages\\pandas\\io\\parsers.py\u001b[0m in \u001b[0;36m_read\u001b[1;34m(filepath_or_buffer, kwds)\u001b[0m\n\u001b[0;32m    461\u001b[0m \u001b[1;33m\u001b[0m\u001b[0m\n\u001b[0;32m    462\u001b[0m     \u001b[1;32mtry\u001b[0m\u001b[1;33m:\u001b[0m\u001b[1;33m\u001b[0m\u001b[1;33m\u001b[0m\u001b[0m\n\u001b[1;32m--> 463\u001b[1;33m         \u001b[0mdata\u001b[0m \u001b[1;33m=\u001b[0m \u001b[0mparser\u001b[0m\u001b[1;33m.\u001b[0m\u001b[0mread\u001b[0m\u001b[1;33m(\u001b[0m\u001b[0mnrows\u001b[0m\u001b[1;33m)\u001b[0m\u001b[1;33m\u001b[0m\u001b[1;33m\u001b[0m\u001b[0m\n\u001b[0m\u001b[0;32m    464\u001b[0m     \u001b[1;32mfinally\u001b[0m\u001b[1;33m:\u001b[0m\u001b[1;33m\u001b[0m\u001b[1;33m\u001b[0m\u001b[0m\n\u001b[0;32m    465\u001b[0m         \u001b[0mparser\u001b[0m\u001b[1;33m.\u001b[0m\u001b[0mclose\u001b[0m\u001b[1;33m(\u001b[0m\u001b[1;33m)\u001b[0m\u001b[1;33m\u001b[0m\u001b[1;33m\u001b[0m\u001b[0m\n",
      "\u001b[1;32mC:\\tools\\Anaconda3\\lib\\site-packages\\pandas\\io\\parsers.py\u001b[0m in \u001b[0;36mread\u001b[1;34m(self, nrows)\u001b[0m\n\u001b[0;32m   1152\u001b[0m     \u001b[1;32mdef\u001b[0m \u001b[0mread\u001b[0m\u001b[1;33m(\u001b[0m\u001b[0mself\u001b[0m\u001b[1;33m,\u001b[0m \u001b[0mnrows\u001b[0m\u001b[1;33m=\u001b[0m\u001b[1;32mNone\u001b[0m\u001b[1;33m)\u001b[0m\u001b[1;33m:\u001b[0m\u001b[1;33m\u001b[0m\u001b[1;33m\u001b[0m\u001b[0m\n\u001b[0;32m   1153\u001b[0m         \u001b[0mnrows\u001b[0m \u001b[1;33m=\u001b[0m \u001b[0m_validate_integer\u001b[0m\u001b[1;33m(\u001b[0m\u001b[1;34m\"nrows\"\u001b[0m\u001b[1;33m,\u001b[0m \u001b[0mnrows\u001b[0m\u001b[1;33m)\u001b[0m\u001b[1;33m\u001b[0m\u001b[1;33m\u001b[0m\u001b[0m\n\u001b[1;32m-> 1154\u001b[1;33m         \u001b[0mret\u001b[0m \u001b[1;33m=\u001b[0m \u001b[0mself\u001b[0m\u001b[1;33m.\u001b[0m\u001b[0m_engine\u001b[0m\u001b[1;33m.\u001b[0m\u001b[0mread\u001b[0m\u001b[1;33m(\u001b[0m\u001b[0mnrows\u001b[0m\u001b[1;33m)\u001b[0m\u001b[1;33m\u001b[0m\u001b[1;33m\u001b[0m\u001b[0m\n\u001b[0m\u001b[0;32m   1155\u001b[0m \u001b[1;33m\u001b[0m\u001b[0m\n\u001b[0;32m   1156\u001b[0m         \u001b[1;31m# May alter columns / col_dict\u001b[0m\u001b[1;33m\u001b[0m\u001b[1;33m\u001b[0m\u001b[1;33m\u001b[0m\u001b[0m\n",
      "\u001b[1;32mC:\\tools\\Anaconda3\\lib\\site-packages\\pandas\\io\\parsers.py\u001b[0m in \u001b[0;36mread\u001b[1;34m(self, nrows)\u001b[0m\n\u001b[0;32m   2057\u001b[0m     \u001b[1;32mdef\u001b[0m \u001b[0mread\u001b[0m\u001b[1;33m(\u001b[0m\u001b[0mself\u001b[0m\u001b[1;33m,\u001b[0m \u001b[0mnrows\u001b[0m\u001b[1;33m=\u001b[0m\u001b[1;32mNone\u001b[0m\u001b[1;33m)\u001b[0m\u001b[1;33m:\u001b[0m\u001b[1;33m\u001b[0m\u001b[1;33m\u001b[0m\u001b[0m\n\u001b[0;32m   2058\u001b[0m         \u001b[1;32mtry\u001b[0m\u001b[1;33m:\u001b[0m\u001b[1;33m\u001b[0m\u001b[1;33m\u001b[0m\u001b[0m\n\u001b[1;32m-> 2059\u001b[1;33m             \u001b[0mdata\u001b[0m \u001b[1;33m=\u001b[0m \u001b[0mself\u001b[0m\u001b[1;33m.\u001b[0m\u001b[0m_reader\u001b[0m\u001b[1;33m.\u001b[0m\u001b[0mread\u001b[0m\u001b[1;33m(\u001b[0m\u001b[0mnrows\u001b[0m\u001b[1;33m)\u001b[0m\u001b[1;33m\u001b[0m\u001b[1;33m\u001b[0m\u001b[0m\n\u001b[0m\u001b[0;32m   2060\u001b[0m         \u001b[1;32mexcept\u001b[0m \u001b[0mStopIteration\u001b[0m\u001b[1;33m:\u001b[0m\u001b[1;33m\u001b[0m\u001b[1;33m\u001b[0m\u001b[0m\n\u001b[0;32m   2061\u001b[0m             \u001b[1;32mif\u001b[0m \u001b[0mself\u001b[0m\u001b[1;33m.\u001b[0m\u001b[0m_first_chunk\u001b[0m\u001b[1;33m:\u001b[0m\u001b[1;33m\u001b[0m\u001b[1;33m\u001b[0m\u001b[0m\n",
      "\u001b[1;32mpandas\\_libs\\parsers.pyx\u001b[0m in \u001b[0;36mpandas._libs.parsers.TextReader.read\u001b[1;34m()\u001b[0m\n",
      "\u001b[1;32mpandas\\_libs\\parsers.pyx\u001b[0m in \u001b[0;36mpandas._libs.parsers.TextReader._read_low_memory\u001b[1;34m()\u001b[0m\n",
      "\u001b[1;32mpandas\\_libs\\parsers.pyx\u001b[0m in \u001b[0;36mpandas._libs.parsers._concatenate_chunks\u001b[1;34m()\u001b[0m\n",
      "\u001b[1;31mMemoryError\u001b[0m: "
     ],
     "ename": "MemoryError",
     "evalue": "",
     "output_type": "error"
    }
   ],
   "source": [
    "vitalperiodic = pd.read_csv('../eICU/vitalPeriodic.csv')\n",
    "vitalperiodic.head()"
   ],
   "metadata": {
    "collapsed": false,
    "pycharm": {
     "name": "#%%\n",
     "is_executing": false
    }
   }
  },
  {
   "cell_type": "code",
   "execution_count": null,
   "outputs": [],
   "source": [
    "vitalperiodic = vitalperiodic.sort_values(by='observationoffset')\n",
    "vitalperiodic.head()"
   ],
   "metadata": {
    "collapsed": false,
    "pycharm": {
     "name": "#%%\n",
     "is_executing": false
    }
   }
  },
  {
   "cell_type": "code",
   "execution_count": null,
   "outputs": [],
   "source": [
    "columns = ['observationoffset','temperature','sao2','heartrate','respiration',\n",
    "          'cvp','etco2','systemicsystolic','systemicdiastolic','systemicmean',\n",
    "          'pasystolic','padiastolic','pamean','st1','st2','st3','icp']\n",
    "\n",
    "vitalperiodic = vitalperiodic[columns].set_index('observationoffset')\n",
    "vitalperiodic.head()"
   ],
   "metadata": {
    "collapsed": false,
    "pycharm": {
     "name": "#%%\n",
     "is_executing": false
    }
   }
  },
  {
   "cell_type": "markdown",
   "source": [
    "The `vitalAperiodic` table provides invasive vital sign data that is recorded at irregular intervals. See: http://eicu-crd.mit.edu/eicutables/vitalAperiodic/"
   ],
   "metadata": {
    "collapsed": false,
    "pycharm": {
     "name": "#%% md\n"
    }
   }
  },
  {
   "cell_type": "code",
   "execution_count": null,
   "outputs": [],
   "source": [
    "vitalaperiodic = pd.read_csv('../eICU/vitalAperiodic.csv.csv')\n",
    "vitalaperiodic.head()"
   ],
   "metadata": {
    "collapsed": false,
    "pycharm": {
     "name": "#%%\n"
    }
   }
  },
  {
   "cell_type": "code",
   "execution_count": null,
   "outputs": [],
   "source": [
    "vitalaperiodic = vitalaperiodic.sort_values(by='observationoffset')\n",
    "vitalaperiodic.head()"
   ],
   "metadata": {
    "collapsed": false,
    "pycharm": {
     "name": "#%%\n"
    }
   }
  },
  {
   "cell_type": "code",
   "execution_count": null,
   "outputs": [],
   "source": [
    "# subselect the variable columns\n",
    "columns = ['observationoffset','noninvasivesystolic','noninvasivediastolic',\n",
    "          'noninvasivemean','paop','cardiacoutput','cardiacinput','svr',\n",
    "          'svri','pvr','pvri']\n",
    "\n",
    "vitalaperiodic = vitalaperiodic[columns].set_index('observationoffset')\n",
    "vitalaperiodic.head()\n"
   ],
   "metadata": {
    "collapsed": false,
    "pycharm": {
     "name": "#%%\n"
    }
   }
  }
 ],
 "metadata": {
  "kernelspec": {
   "display_name": "Python 3",
   "language": "python",
   "name": "python3"
  },
  "language_info": {
   "codemirror_mode": {
    "name": "ipython",
    "version": 2
   },
   "file_extension": ".py",
   "mimetype": "text/x-python",
   "name": "python",
   "nbconvert_exporter": "python",
   "pygments_lexer": "ipython2",
   "version": "2.7.6"
  },
  "pycharm": {
   "stem_cell": {
    "cell_type": "raw",
    "source": [],
    "metadata": {
     "collapsed": false
    }
   }
  }
 },
 "nbformat": 4,
 "nbformat_minor": 0
}