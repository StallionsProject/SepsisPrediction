{
 "cells": [
  {
   "cell_type": "code",
   "execution_count": 1,
   "metadata": {
    "pycharm": {
     "is_executing": false
    }
   },
   "outputs": [],
   "source": [
    "import pandas as pd\n",
    "# import numpy as np"
   ]
  },
  {
   "cell_type": "code",
   "execution_count": 2,
   "metadata": {
    "collapsed": false,
    "jupyter": {
     "outputs_hidden": false
    },
    "pycharm": {
     "is_executing": false,
     "name": "#%%\n"
    }
   },
   "outputs": [],
   "source": [
    "database_type = \"/full\""
   ]
  },
  {
   "cell_type": "markdown",
   "metadata": {},
   "source": [
    "The `patient` table includes general information about the patient admissions (for example, demographics, admission and discharge details). \n",
    "See: http://eicu-crd.mit.edu/eicutables/patient/"
   ]
  },
  {
   "cell_type": "code",
   "execution_count": 3,
   "metadata": {
    "collapsed": false,
    "jupyter": {
     "outputs_hidden": false
    },
    "pycharm": {
     "is_executing": false,
     "name": "#%%\n"
    }
   },
   "outputs": [
    {
     "data": {
      "text/html": [
       "<div>\n",
       "<style scoped>\n",
       "    .dataframe tbody tr th:only-of-type {\n",
       "        vertical-align: middle;\n",
       "    }\n",
       "\n",
       "    .dataframe tbody tr th {\n",
       "        vertical-align: top;\n",
       "    }\n",
       "\n",
       "    .dataframe thead th {\n",
       "        text-align: right;\n",
       "    }\n",
       "</style>\n",
       "<table border=\"1\" class=\"dataframe\">\n",
       "  <thead>\n",
       "    <tr style=\"text-align: right;\">\n",
       "      <th></th>\n",
       "      <th>admissionweight</th>\n",
       "    </tr>\n",
       "    <tr>\n",
       "      <th>patientunitstayid</th>\n",
       "      <th></th>\n",
       "    </tr>\n",
       "  </thead>\n",
       "  <tbody>\n",
       "    <tr>\n",
       "      <td>141168</td>\n",
       "      <td>84.3</td>\n",
       "    </tr>\n",
       "    <tr>\n",
       "      <td>141178</td>\n",
       "      <td>54.4</td>\n",
       "    </tr>\n",
       "    <tr>\n",
       "      <td>141179</td>\n",
       "      <td>NaN</td>\n",
       "    </tr>\n",
       "    <tr>\n",
       "      <td>141194</td>\n",
       "      <td>73.9</td>\n",
       "    </tr>\n",
       "    <tr>\n",
       "      <td>141196</td>\n",
       "      <td>NaN</td>\n",
       "    </tr>\n",
       "  </tbody>\n",
       "</table>\n",
       "</div>"
      ],
      "text/plain": [
       "                   admissionweight\n",
       "patientunitstayid                 \n",
       "141168                        84.3\n",
       "141178                        54.4\n",
       "141179                         NaN\n",
       "141194                        73.9\n",
       "141196                         NaN"
      ]
     },
     "execution_count": 3,
     "metadata": {},
     "output_type": "execute_result"
    }
   ],
   "source": [
    "# loads patient table\n",
    "patient = pd.read_csv('../eICU' + database_type + '/patient.csv', nrows=999999) \n",
    "patient = patient[['patientunitstayid', 'admissionweight']].set_index('patientunitstayid')\n",
    "patient.head()"
   ]
  },
  {
   "cell_type": "markdown",
   "metadata": {
    "pycharm": {
     "name": "#%% md\n"
    }
   },
   "source": [
    "The `vitalperiodic` table comprises data that is consistently interfaced from bedside vital signs monitors into eCareManager. \n",
    "Data are generally interfaced as 1 minute averages, and archived into the `vitalperiodic` table as 5 minute median values. \n",
    "For more detail, see: http://eicu-crd.mit.edu/eicutables/vitalPeriodic/"
   ]
  },
  {
   "cell_type": "code",
   "execution_count": 4,
   "metadata": {
    "collapsed": false,
    "jupyter": {
     "outputs_hidden": false
    },
    "pycharm": {
     "is_executing": false,
     "name": "#%%\n"
    }
   },
   "outputs": [
    {
     "data": {
      "text/html": [
       "<div>\n",
       "<style scoped>\n",
       "    .dataframe tbody tr th:only-of-type {\n",
       "        vertical-align: middle;\n",
       "    }\n",
       "\n",
       "    .dataframe tbody tr th {\n",
       "        vertical-align: top;\n",
       "    }\n",
       "\n",
       "    .dataframe thead th {\n",
       "        text-align: right;\n",
       "    }\n",
       "</style>\n",
       "<table border=\"1\" class=\"dataframe\">\n",
       "  <thead>\n",
       "    <tr style=\"text-align: right;\">\n",
       "      <th></th>\n",
       "      <th>patientunitstayid</th>\n",
       "      <th>temperature</th>\n",
       "      <th>heartrate</th>\n",
       "      <th>respiration</th>\n",
       "      <th>systemicsystolic</th>\n",
       "    </tr>\n",
       "    <tr>\n",
       "      <th>observationoffset</th>\n",
       "      <th></th>\n",
       "      <th></th>\n",
       "      <th></th>\n",
       "      <th></th>\n",
       "      <th></th>\n",
       "    </tr>\n",
       "  </thead>\n",
       "  <tbody>\n",
       "    <tr>\n",
       "      <td>-1445</td>\n",
       "      <td>148349</td>\n",
       "      <td>NaN</td>\n",
       "      <td>60.0</td>\n",
       "      <td>20.0</td>\n",
       "      <td>NaN</td>\n",
       "    </tr>\n",
       "    <tr>\n",
       "      <td>-1440</td>\n",
       "      <td>148349</td>\n",
       "      <td>NaN</td>\n",
       "      <td>60.0</td>\n",
       "      <td>21.0</td>\n",
       "      <td>NaN</td>\n",
       "    </tr>\n",
       "    <tr>\n",
       "      <td>-1435</td>\n",
       "      <td>150049</td>\n",
       "      <td>NaN</td>\n",
       "      <td>96.0</td>\n",
       "      <td>19.0</td>\n",
       "      <td>NaN</td>\n",
       "    </tr>\n",
       "    <tr>\n",
       "      <td>-1435</td>\n",
       "      <td>146418</td>\n",
       "      <td>NaN</td>\n",
       "      <td>71.0</td>\n",
       "      <td>23.0</td>\n",
       "      <td>NaN</td>\n",
       "    </tr>\n",
       "    <tr>\n",
       "      <td>-1435</td>\n",
       "      <td>148349</td>\n",
       "      <td>NaN</td>\n",
       "      <td>60.0</td>\n",
       "      <td>21.0</td>\n",
       "      <td>NaN</td>\n",
       "    </tr>\n",
       "  </tbody>\n",
       "</table>\n",
       "</div>"
      ],
      "text/plain": [
       "                   patientunitstayid  temperature  heartrate  respiration  \\\n",
       "observationoffset                                                           \n",
       "-1445                         148349          NaN       60.0         20.0   \n",
       "-1440                         148349          NaN       60.0         21.0   \n",
       "-1435                         150049          NaN       96.0         19.0   \n",
       "-1435                         146418          NaN       71.0         23.0   \n",
       "-1435                         148349          NaN       60.0         21.0   \n",
       "\n",
       "                   systemicsystolic  \n",
       "observationoffset                    \n",
       "-1445                           NaN  \n",
       "-1440                           NaN  \n",
       "-1435                           NaN  \n",
       "-1435                           NaN  \n",
       "-1435                           NaN  "
      ]
     },
     "execution_count": 4,
     "metadata": {},
     "output_type": "execute_result"
    }
   ],
   "source": [
    "vitalperiodic = pd.read_csv('../eICU' + database_type + '/vitalPeriodic.csv', nrows=999999)\n",
    "columns = ['patientunitstayid', 'observationoffset', 'temperature', 'heartrate', 'respiration', 'systemicsystolic']\n",
    "vitalperiodic = vitalperiodic[columns].set_index('observationoffset')\n",
    "vitalperiodic = vitalperiodic.sort_values(by='observationoffset')\n",
    "vitalperiodic.head()"
   ]
  },
  {
   "cell_type": "markdown",
   "metadata": {
    "pycharm": {
     "name": "#%% md\n"
    }
   },
   "source": [
    "The `vitalAperiodic` table provides invasive vital sign data that is recorded at irregular intervals. \n",
    "See: http://eicu-crd.mit.edu/eicutables/vitalAperiodic/"
   ]
  },
  {
   "cell_type": "code",
   "execution_count": 5,
   "metadata": {
    "collapsed": false,
    "jupyter": {
     "outputs_hidden": false
    },
    "pycharm": {
     "is_executing": false,
     "name": "#%%\n"
    }
   },
   "outputs": [
    {
     "data": {
      "text/html": [
       "<div>\n",
       "<style scoped>\n",
       "    .dataframe tbody tr th:only-of-type {\n",
       "        vertical-align: middle;\n",
       "    }\n",
       "\n",
       "    .dataframe tbody tr th {\n",
       "        vertical-align: top;\n",
       "    }\n",
       "\n",
       "    .dataframe thead th {\n",
       "        text-align: right;\n",
       "    }\n",
       "</style>\n",
       "<table border=\"1\" class=\"dataframe\">\n",
       "  <thead>\n",
       "    <tr style=\"text-align: right;\">\n",
       "      <th></th>\n",
       "      <th>patientunitstayid</th>\n",
       "      <th>noninvasivesystolic</th>\n",
       "      <th>cardiacoutput</th>\n",
       "      <th>cardiacinput</th>\n",
       "    </tr>\n",
       "    <tr>\n",
       "      <th>observationoffset</th>\n",
       "      <th></th>\n",
       "      <th></th>\n",
       "      <th></th>\n",
       "      <th></th>\n",
       "    </tr>\n",
       "  </thead>\n",
       "  <tbody>\n",
       "    <tr>\n",
       "      <td>-4320</td>\n",
       "      <td>218289</td>\n",
       "      <td>187.0</td>\n",
       "      <td>NaN</td>\n",
       "      <td>NaN</td>\n",
       "    </tr>\n",
       "    <tr>\n",
       "      <td>-4319</td>\n",
       "      <td>218289</td>\n",
       "      <td>178.0</td>\n",
       "      <td>NaN</td>\n",
       "      <td>NaN</td>\n",
       "    </tr>\n",
       "    <tr>\n",
       "      <td>-3883</td>\n",
       "      <td>218287</td>\n",
       "      <td>138.0</td>\n",
       "      <td>NaN</td>\n",
       "      <td>NaN</td>\n",
       "    </tr>\n",
       "    <tr>\n",
       "      <td>-3659</td>\n",
       "      <td>218287</td>\n",
       "      <td>134.0</td>\n",
       "      <td>NaN</td>\n",
       "      <td>NaN</td>\n",
       "    </tr>\n",
       "    <tr>\n",
       "      <td>-3632</td>\n",
       "      <td>218287</td>\n",
       "      <td>147.0</td>\n",
       "      <td>NaN</td>\n",
       "      <td>NaN</td>\n",
       "    </tr>\n",
       "  </tbody>\n",
       "</table>\n",
       "</div>"
      ],
      "text/plain": [
       "                   patientunitstayid  noninvasivesystolic  cardiacoutput  \\\n",
       "observationoffset                                                          \n",
       "-4320                         218289                187.0            NaN   \n",
       "-4319                         218289                178.0            NaN   \n",
       "-3883                         218287                138.0            NaN   \n",
       "-3659                         218287                134.0            NaN   \n",
       "-3632                         218287                147.0            NaN   \n",
       "\n",
       "                   cardiacinput  \n",
       "observationoffset                \n",
       "-4320                       NaN  \n",
       "-4319                       NaN  \n",
       "-3883                       NaN  \n",
       "-3659                       NaN  \n",
       "-3632                       NaN  "
      ]
     },
     "execution_count": 5,
     "metadata": {},
     "output_type": "execute_result"
    }
   ],
   "source": [
    "vitalaperiodic = pd.read_csv('../eICU' + database_type + '/vitalAperiodic.csv', nrows=999999)\n",
    "columns = ['observationoffset', 'patientunitstayid','noninvasivesystolic','cardiacoutput','cardiacinput']\n",
    "vitalaperiodic = vitalaperiodic[columns].set_index('observationoffset')\n",
    "vitalaperiodic = vitalaperiodic.sort_values(by='observationoffset')\n",
    "vitalaperiodic.head()"
   ]
  },
  {
   "cell_type": "markdown",
   "metadata": {},
   "source": [
    "The `lab` table provides Laboratory tests that have have been mapped to a standard set of measurements. \n",
    "Unmapped measurements are recorded in the customLab table.\n",
    "See: http://eicu-crd.mit.edu/eicutables/lab/"
   ]
  },
  {
   "cell_type": "code",
   "execution_count": 6,
   "metadata": {
    "collapsed": false,
    "jupyter": {
     "outputs_hidden": false
    },
    "pycharm": {
     "is_executing": false,
     "name": "#%%\n"
    }
   },
   "outputs": [
    {
     "data": {
      "text/html": [
       "<div>\n",
       "<style scoped>\n",
       "    .dataframe tbody tr th:only-of-type {\n",
       "        vertical-align: middle;\n",
       "    }\n",
       "\n",
       "    .dataframe tbody tr th {\n",
       "        vertical-align: top;\n",
       "    }\n",
       "\n",
       "    .dataframe thead th {\n",
       "        text-align: right;\n",
       "    }\n",
       "</style>\n",
       "<table border=\"1\" class=\"dataframe\">\n",
       "  <thead>\n",
       "    <tr style=\"text-align: right;\">\n",
       "      <th></th>\n",
       "      <th>patientunitstayid</th>\n",
       "      <th>labtypeid</th>\n",
       "      <th>labname</th>\n",
       "      <th>labresult</th>\n",
       "      <th>labmeasurenamesystem</th>\n",
       "      <th>labmeasurenameinterface</th>\n",
       "    </tr>\n",
       "    <tr>\n",
       "      <th>labresultoffset</th>\n",
       "      <th></th>\n",
       "      <th></th>\n",
       "      <th></th>\n",
       "      <th></th>\n",
       "      <th></th>\n",
       "      <th></th>\n",
       "    </tr>\n",
       "  </thead>\n",
       "  <tbody>\n",
       "    <tr>\n",
       "      <td>-73277</td>\n",
       "      <td>154910</td>\n",
       "      <td>4</td>\n",
       "      <td>bedside glucose</td>\n",
       "      <td>77.0</td>\n",
       "      <td>mg/dL</td>\n",
       "      <td>mg/dL</td>\n",
       "    </tr>\n",
       "    <tr>\n",
       "      <td>-73231</td>\n",
       "      <td>154910</td>\n",
       "      <td>3</td>\n",
       "      <td>MCH</td>\n",
       "      <td>24.9</td>\n",
       "      <td>pg</td>\n",
       "      <td>pg</td>\n",
       "    </tr>\n",
       "    <tr>\n",
       "      <td>-73231</td>\n",
       "      <td>154910</td>\n",
       "      <td>3</td>\n",
       "      <td>-monos</td>\n",
       "      <td>2.0</td>\n",
       "      <td>%</td>\n",
       "      <td>%</td>\n",
       "    </tr>\n",
       "    <tr>\n",
       "      <td>-73231</td>\n",
       "      <td>154910</td>\n",
       "      <td>3</td>\n",
       "      <td>platelets x 1000</td>\n",
       "      <td>76.0</td>\n",
       "      <td>K/mcL</td>\n",
       "      <td>K/mcL</td>\n",
       "    </tr>\n",
       "    <tr>\n",
       "      <td>-73231</td>\n",
       "      <td>154910</td>\n",
       "      <td>3</td>\n",
       "      <td>WBC x 1000</td>\n",
       "      <td>2.9</td>\n",
       "      <td>K/mcL</td>\n",
       "      <td>K/mcL</td>\n",
       "    </tr>\n",
       "  </tbody>\n",
       "</table>\n",
       "</div>"
      ],
      "text/plain": [
       "                 patientunitstayid  labtypeid           labname  labresult  \\\n",
       "labresultoffset                                                              \n",
       "-73277                      154910          4   bedside glucose       77.0   \n",
       "-73231                      154910          3               MCH       24.9   \n",
       "-73231                      154910          3            -monos        2.0   \n",
       "-73231                      154910          3  platelets x 1000       76.0   \n",
       "-73231                      154910          3        WBC x 1000        2.9   \n",
       "\n",
       "                labmeasurenamesystem labmeasurenameinterface  \n",
       "labresultoffset                                               \n",
       "-73277                         mg/dL                   mg/dL  \n",
       "-73231                            pg                      pg  \n",
       "-73231                             %                       %  \n",
       "-73231                         K/mcL                   K/mcL  \n",
       "-73231                         K/mcL                   K/mcL  "
      ]
     },
     "execution_count": 6,
     "metadata": {},
     "output_type": "execute_result"
    }
   ],
   "source": [
    "lab = pd.read_csv('../eICU' + database_type + '/lab.csv', nrows=999999)\n",
    "columns = ['labresultoffset', 'patientunitstayid','labtypeid','labname', 'labresult', 'labmeasurenamesystem', 'labmeasurenameinterface']\n",
    "lab = lab[columns].set_index('labresultoffset')\n",
    "lab = lab.sort_values(by='labresultoffset')\n",
    "lab.head()"
   ]
  },
  {
   "cell_type": "code",
   "execution_count": 7,
   "metadata": {
    "collapsed": false,
    "jupyter": {
     "outputs_hidden": false
    },
    "pycharm": {
     "name": "#%%\n"
    }
   },
   "outputs": [],
   "source": [
    "# Pull out dataframe for labresults 'WBC x 1000', 'lactate', 'creatinine'\n"
   ]
  },
  {
   "cell_type": "code",
   "execution_count": 8,
   "metadata": {
    "collapsed": false,
    "jupyter": {
     "outputs_hidden": false
    },
    "pycharm": {
     "is_executing": false,
     "name": "#%%\n"
    }
   },
   "outputs": [
    {
     "data": {
      "text/html": [
       "<div>\n",
       "<style scoped>\n",
       "    .dataframe tbody tr th:only-of-type {\n",
       "        vertical-align: middle;\n",
       "    }\n",
       "\n",
       "    .dataframe tbody tr th {\n",
       "        vertical-align: top;\n",
       "    }\n",
       "\n",
       "    .dataframe thead th {\n",
       "        text-align: right;\n",
       "    }\n",
       "</style>\n",
       "<table border=\"1\" class=\"dataframe\">\n",
       "  <thead>\n",
       "    <tr style=\"text-align: right;\">\n",
       "      <th></th>\n",
       "      <th>patientunitstayid</th>\n",
       "      <th>labtypeid</th>\n",
       "      <th>labname</th>\n",
       "      <th>labresult</th>\n",
       "      <th>labmeasurenamesystem</th>\n",
       "      <th>labmeasurenameinterface</th>\n",
       "    </tr>\n",
       "    <tr>\n",
       "      <th>labresultoffset</th>\n",
       "      <th></th>\n",
       "      <th></th>\n",
       "      <th></th>\n",
       "      <th></th>\n",
       "      <th></th>\n",
       "      <th></th>\n",
       "    </tr>\n",
       "  </thead>\n",
       "  <tbody>\n",
       "    <tr>\n",
       "      <td>-72872</td>\n",
       "      <td>154910</td>\n",
       "      <td>1</td>\n",
       "      <td>creatinine</td>\n",
       "      <td>5.40</td>\n",
       "      <td>mg/dL</td>\n",
       "      <td>mg/dL</td>\n",
       "    </tr>\n",
       "    <tr>\n",
       "      <td>-71858</td>\n",
       "      <td>154910</td>\n",
       "      <td>1</td>\n",
       "      <td>creatinine</td>\n",
       "      <td>6.07</td>\n",
       "      <td>mg/dL</td>\n",
       "      <td>mg/dL</td>\n",
       "    </tr>\n",
       "    <tr>\n",
       "      <td>-70836</td>\n",
       "      <td>154910</td>\n",
       "      <td>1</td>\n",
       "      <td>creatinine</td>\n",
       "      <td>3.61</td>\n",
       "      <td>mg/dL</td>\n",
       "      <td>mg/dL</td>\n",
       "    </tr>\n",
       "    <tr>\n",
       "      <td>-69363</td>\n",
       "      <td>154910</td>\n",
       "      <td>1</td>\n",
       "      <td>creatinine</td>\n",
       "      <td>2.86</td>\n",
       "      <td>mg/dL</td>\n",
       "      <td>mg/dL</td>\n",
       "    </tr>\n",
       "    <tr>\n",
       "      <td>-67941</td>\n",
       "      <td>154910</td>\n",
       "      <td>1</td>\n",
       "      <td>creatinine</td>\n",
       "      <td>3.67</td>\n",
       "      <td>mg/dL</td>\n",
       "      <td>mg/dL</td>\n",
       "    </tr>\n",
       "    <tr>\n",
       "      <td>...</td>\n",
       "      <td>...</td>\n",
       "      <td>...</td>\n",
       "      <td>...</td>\n",
       "      <td>...</td>\n",
       "      <td>...</td>\n",
       "      <td>...</td>\n",
       "    </tr>\n",
       "    <tr>\n",
       "      <td>130238</td>\n",
       "      <td>157644</td>\n",
       "      <td>1</td>\n",
       "      <td>creatinine</td>\n",
       "      <td>3.30</td>\n",
       "      <td>mg/dL</td>\n",
       "      <td>mg/dL</td>\n",
       "    </tr>\n",
       "    <tr>\n",
       "      <td>131628</td>\n",
       "      <td>157644</td>\n",
       "      <td>1</td>\n",
       "      <td>creatinine</td>\n",
       "      <td>4.34</td>\n",
       "      <td>mg/dL</td>\n",
       "      <td>mg/dL</td>\n",
       "    </tr>\n",
       "    <tr>\n",
       "      <td>133088</td>\n",
       "      <td>157644</td>\n",
       "      <td>1</td>\n",
       "      <td>creatinine</td>\n",
       "      <td>3.10</td>\n",
       "      <td>mg/dL</td>\n",
       "      <td>mg/dL</td>\n",
       "    </tr>\n",
       "    <tr>\n",
       "      <td>137425</td>\n",
       "      <td>174525</td>\n",
       "      <td>1</td>\n",
       "      <td>creatinine</td>\n",
       "      <td>0.64</td>\n",
       "      <td>mg/dL</td>\n",
       "      <td>mg/dL</td>\n",
       "    </tr>\n",
       "    <tr>\n",
       "      <td>144155</td>\n",
       "      <td>174525</td>\n",
       "      <td>1</td>\n",
       "      <td>creatinine</td>\n",
       "      <td>0.65</td>\n",
       "      <td>mg/dL</td>\n",
       "      <td>mg/dL</td>\n",
       "    </tr>\n",
       "  </tbody>\n",
       "</table>\n",
       "<p>30624 rows × 6 columns</p>\n",
       "</div>"
      ],
      "text/plain": [
       "                 patientunitstayid  labtypeid     labname  labresult  \\\n",
       "labresultoffset                                                        \n",
       "-72872                      154910          1  creatinine       5.40   \n",
       "-71858                      154910          1  creatinine       6.07   \n",
       "-70836                      154910          1  creatinine       3.61   \n",
       "-69363                      154910          1  creatinine       2.86   \n",
       "-67941                      154910          1  creatinine       3.67   \n",
       "...                            ...        ...         ...        ...   \n",
       " 130238                     157644          1  creatinine       3.30   \n",
       " 131628                     157644          1  creatinine       4.34   \n",
       " 133088                     157644          1  creatinine       3.10   \n",
       " 137425                     174525          1  creatinine       0.64   \n",
       " 144155                     174525          1  creatinine       0.65   \n",
       "\n",
       "                labmeasurenamesystem labmeasurenameinterface  \n",
       "labresultoffset                                               \n",
       "-72872                         mg/dL                   mg/dL  \n",
       "-71858                         mg/dL                   mg/dL  \n",
       "-70836                         mg/dL                   mg/dL  \n",
       "-69363                         mg/dL                   mg/dL  \n",
       "-67941                         mg/dL                   mg/dL  \n",
       "...                              ...                     ...  \n",
       " 130238                        mg/dL                   mg/dL  \n",
       " 131628                        mg/dL                   mg/dL  \n",
       " 133088                        mg/dL                   mg/dL  \n",
       " 137425                        mg/dL                   mg/dL  \n",
       " 144155                        mg/dL                   mg/dL  \n",
       "\n",
       "[30624 rows x 6 columns]"
      ]
     },
     "execution_count": 8,
     "metadata": {},
     "output_type": "execute_result"
    }
   ],
   "source": [
    "# converts all occurances of urinary creatinine in labname col to creatinine\n",
    "# alternativy check labtypeid creatinine = 1,  urinary creatinine = 4\n",
    "\n",
    "lab.loc[lab['labname'].str.contains(\"urinary creatinine\"), 'labname'] = \"creatinine\"\n",
    "lab.loc[(lab['labname'].str.contains(\"creatinine\"))]"
   ]
  },
  {
   "cell_type": "code",
   "execution_count": 9,
   "metadata": {
    "collapsed": false,
    "jupyter": {
     "outputs_hidden": false
    },
    "pycharm": {
     "is_executing": false,
     "name": "#%%\n"
    }
   },
   "outputs": [
    {
     "data": {
      "text/html": [
       "<div>\n",
       "<style scoped>\n",
       "    .dataframe tbody tr th:only-of-type {\n",
       "        vertical-align: middle;\n",
       "    }\n",
       "\n",
       "    .dataframe tbody tr th {\n",
       "        vertical-align: top;\n",
       "    }\n",
       "\n",
       "    .dataframe thead th {\n",
       "        text-align: right;\n",
       "    }\n",
       "</style>\n",
       "<table border=\"1\" class=\"dataframe\">\n",
       "  <thead>\n",
       "    <tr style=\"text-align: right;\">\n",
       "      <th></th>\n",
       "      <th>patientunitstayid</th>\n",
       "      <th>labtypeid</th>\n",
       "      <th>labname</th>\n",
       "      <th>labresult</th>\n",
       "      <th>labmeasurenamesystem</th>\n",
       "      <th>labmeasurenameinterface</th>\n",
       "    </tr>\n",
       "    <tr>\n",
       "      <th>labresultoffset</th>\n",
       "      <th></th>\n",
       "      <th></th>\n",
       "      <th></th>\n",
       "      <th></th>\n",
       "      <th></th>\n",
       "      <th></th>\n",
       "    </tr>\n",
       "  </thead>\n",
       "  <tbody>\n",
       "    <tr>\n",
       "      <td>-73277</td>\n",
       "      <td>154910</td>\n",
       "      <td>4</td>\n",
       "      <td>bedside glucose</td>\n",
       "      <td>77.0</td>\n",
       "      <td>mg/dL</td>\n",
       "      <td>mg/dL</td>\n",
       "    </tr>\n",
       "    <tr>\n",
       "      <td>-73231</td>\n",
       "      <td>154910</td>\n",
       "      <td>3</td>\n",
       "      <td>MCH</td>\n",
       "      <td>24.9</td>\n",
       "      <td>pg</td>\n",
       "      <td>pg</td>\n",
       "    </tr>\n",
       "    <tr>\n",
       "      <td>-73231</td>\n",
       "      <td>154910</td>\n",
       "      <td>3</td>\n",
       "      <td>-monos</td>\n",
       "      <td>2.0</td>\n",
       "      <td>%</td>\n",
       "      <td>%</td>\n",
       "    </tr>\n",
       "    <tr>\n",
       "      <td>-73231</td>\n",
       "      <td>154910</td>\n",
       "      <td>3</td>\n",
       "      <td>platelets x 1000</td>\n",
       "      <td>76.0</td>\n",
       "      <td>K/mcL</td>\n",
       "      <td>K/mcL</td>\n",
       "    </tr>\n",
       "    <tr>\n",
       "      <td>-73231</td>\n",
       "      <td>154910</td>\n",
       "      <td>3</td>\n",
       "      <td>WBC x 1000</td>\n",
       "      <td>2.9</td>\n",
       "      <td>K/mcL</td>\n",
       "      <td>K/mcL</td>\n",
       "    </tr>\n",
       "    <tr>\n",
       "      <td>...</td>\n",
       "      <td>...</td>\n",
       "      <td>...</td>\n",
       "      <td>...</td>\n",
       "      <td>...</td>\n",
       "      <td>...</td>\n",
       "      <td>...</td>\n",
       "    </tr>\n",
       "    <tr>\n",
       "      <td>7162</td>\n",
       "      <td>154910</td>\n",
       "      <td>4</td>\n",
       "      <td>bedside glucose</td>\n",
       "      <td>280.0</td>\n",
       "      <td>mg/dL</td>\n",
       "      <td>mg/dL</td>\n",
       "    </tr>\n",
       "    <tr>\n",
       "      <td>7290</td>\n",
       "      <td>154910</td>\n",
       "      <td>4</td>\n",
       "      <td>bedside glucose</td>\n",
       "      <td>215.0</td>\n",
       "      <td>mg/dL</td>\n",
       "      <td>mg/dL</td>\n",
       "    </tr>\n",
       "    <tr>\n",
       "      <td>7748</td>\n",
       "      <td>154910</td>\n",
       "      <td>4</td>\n",
       "      <td>bedside glucose</td>\n",
       "      <td>274.0</td>\n",
       "      <td>mg/dL</td>\n",
       "      <td>mg/dL</td>\n",
       "    </tr>\n",
       "    <tr>\n",
       "      <td>7887</td>\n",
       "      <td>154910</td>\n",
       "      <td>4</td>\n",
       "      <td>bedside glucose</td>\n",
       "      <td>318.0</td>\n",
       "      <td>mg/dL</td>\n",
       "      <td>mg/dL</td>\n",
       "    </tr>\n",
       "    <tr>\n",
       "      <td>7976</td>\n",
       "      <td>154910</td>\n",
       "      <td>4</td>\n",
       "      <td>bedside glucose</td>\n",
       "      <td>296.0</td>\n",
       "      <td>mg/dL</td>\n",
       "      <td>mg/dL</td>\n",
       "    </tr>\n",
       "  </tbody>\n",
       "</table>\n",
       "<p>1122 rows × 6 columns</p>\n",
       "</div>"
      ],
      "text/plain": [
       "                patientunitstayid  labtypeid           labname  labresult  \\\n",
       "labresultoffset                                                             \n",
       "-73277                     154910          4   bedside glucose       77.0   \n",
       "-73231                     154910          3               MCH       24.9   \n",
       "-73231                     154910          3            -monos        2.0   \n",
       "-73231                     154910          3  platelets x 1000       76.0   \n",
       "-73231                     154910          3        WBC x 1000        2.9   \n",
       "...                           ...        ...               ...        ...   \n",
       " 7162                      154910          4   bedside glucose      280.0   \n",
       " 7290                      154910          4   bedside glucose      215.0   \n",
       " 7748                      154910          4   bedside glucose      274.0   \n",
       " 7887                      154910          4   bedside glucose      318.0   \n",
       " 7976                      154910          4   bedside glucose      296.0   \n",
       "\n",
       "                labmeasurenamesystem labmeasurenameinterface  \n",
       "labresultoffset                                               \n",
       "-73277                         mg/dL                   mg/dL  \n",
       "-73231                            pg                      pg  \n",
       "-73231                             %                       %  \n",
       "-73231                         K/mcL                   K/mcL  \n",
       "-73231                         K/mcL                   K/mcL  \n",
       "...                              ...                     ...  \n",
       " 7162                          mg/dL                   mg/dL  \n",
       " 7290                          mg/dL                   mg/dL  \n",
       " 7748                          mg/dL                   mg/dL  \n",
       " 7887                          mg/dL                   mg/dL  \n",
       " 7976                          mg/dL                   mg/dL  \n",
       "\n",
       "[1122 rows x 6 columns]"
      ]
     },
     "execution_count": 9,
     "metadata": {},
     "output_type": "execute_result"
    }
   ],
   "source": [
    "# showing all results for parient with id 154910\n",
    "\n",
    "lab['patientunitstayid'] = lab['patientunitstayid'].astype(str)\n",
    "lab.loc[(lab['patientunitstayid'].str.contains(\"154910\"))]\n"
   ]
  },
  {
   "cell_type": "markdown",
   "metadata": {},
   "source": [
    "The `intakeOutput` table provides Intake and output recorded for patients entered from the nursing flowsheet."
   ]
  },
  {
   "cell_type": "code",
   "execution_count": 29,
   "metadata": {
    "collapsed": false,
    "jupyter": {
     "outputs_hidden": false
    },
    "pycharm": {
     "is_executing": false,
     "name": "#%%\n"
    }
   },
   "outputs": [
    {
     "data": {
      "text/plain": "   patientunitstayid  admissionweight  intakeoutputoffset  intaketotal  \\\n0             141179              NaN                1420          0.0   \n1             141179              NaN                 933          0.0   \n2             141179              NaN                1703          0.0   \n3             141179              NaN                 678          0.0   \n4             141194             73.9               12201        290.4   \n\n   outputtotal celllabel  \n0        700.0     Urine  \n1        500.0     Urine  \n2       1000.0     Urine  \n3        700.0     Urine  \n4        100.0     Urine  ",
      "text/html": "<div>\n<style scoped>\n    .dataframe tbody tr th:only-of-type {\n        vertical-align: middle;\n    }\n\n    .dataframe tbody tr th {\n        vertical-align: top;\n    }\n\n    .dataframe thead th {\n        text-align: right;\n    }\n</style>\n<table border=\"1\" class=\"dataframe\">\n  <thead>\n    <tr style=\"text-align: right;\">\n      <th></th>\n      <th>patientunitstayid</th>\n      <th>admissionweight</th>\n      <th>intakeoutputoffset</th>\n      <th>intaketotal</th>\n      <th>outputtotal</th>\n      <th>celllabel</th>\n    </tr>\n  </thead>\n  <tbody>\n    <tr>\n      <td>0</td>\n      <td>141179</td>\n      <td>NaN</td>\n      <td>1420</td>\n      <td>0.0</td>\n      <td>700.0</td>\n      <td>Urine</td>\n    </tr>\n    <tr>\n      <td>1</td>\n      <td>141179</td>\n      <td>NaN</td>\n      <td>933</td>\n      <td>0.0</td>\n      <td>500.0</td>\n      <td>Urine</td>\n    </tr>\n    <tr>\n      <td>2</td>\n      <td>141179</td>\n      <td>NaN</td>\n      <td>1703</td>\n      <td>0.0</td>\n      <td>1000.0</td>\n      <td>Urine</td>\n    </tr>\n    <tr>\n      <td>3</td>\n      <td>141179</td>\n      <td>NaN</td>\n      <td>678</td>\n      <td>0.0</td>\n      <td>700.0</td>\n      <td>Urine</td>\n    </tr>\n    <tr>\n      <td>4</td>\n      <td>141194</td>\n      <td>73.9</td>\n      <td>12201</td>\n      <td>290.4</td>\n      <td>100.0</td>\n      <td>Urine</td>\n    </tr>\n  </tbody>\n</table>\n</div>"
     },
     "metadata": {},
     "output_type": "execute_result",
     "execution_count": 29
    }
   ],
   "source": [
    "intakeOutput = pd.read_csv('../eICU' + database_type + '/intakeOutput.csv', nrows=999999)\n",
    "columns = ['patientunitstayid', 'intakeoutputoffset', 'intaketotal', 'outputtotal', 'celllabel']\n",
    "intakeOutput = intakeOutput[columns]\n",
    "intakeOutput.sort_values(by='intakeoutputoffset')\n",
    "intakeOutputUrine = intakeOutput.loc[(intakeOutput['celllabel'].str.contains(\"Urine\"))]\n",
    "intakeOutputUrine = pd.DataFrame.merge(patient, intakeOutputUrine, on='patientunitstayid')\n",
    "intakeOutputUrine.head()"
   ]
  },
  {
   "cell_type": "code",
   "execution_count": 31,
   "metadata": {
    "collapsed": false,
    "jupyter": {
     "outputs_hidden": false
    },
    "pycharm": {
     "is_executing": false,
     "name": "#%%\n"
    }
   },
   "outputs": [
    {
     "data": {
      "text/plain": "        patientunitstayid  urineoutputbyweight\n0                  141179             7.851544\n1                  141179             5.608246\n2                  141179            11.216491\n3                  141179             7.851544\n4                  141194             1.353180\n...                   ...                  ...\n207342             425009             4.559271\n207343             425010             2.279635\n207344             425072             3.727370\n207345             425072             0.000000\n207346             425092             5.478852\n\n[207347 rows x 2 columns]",
      "text/html": "<div>\n<style scoped>\n    .dataframe tbody tr th:only-of-type {\n        vertical-align: middle;\n    }\n\n    .dataframe tbody tr th {\n        vertical-align: top;\n    }\n\n    .dataframe thead th {\n        text-align: right;\n    }\n</style>\n<table border=\"1\" class=\"dataframe\">\n  <thead>\n    <tr style=\"text-align: right;\">\n      <th></th>\n      <th>patientunitstayid</th>\n      <th>urineoutputbyweight</th>\n    </tr>\n  </thead>\n  <tbody>\n    <tr>\n      <td>0</td>\n      <td>141179</td>\n      <td>7.851544</td>\n    </tr>\n    <tr>\n      <td>1</td>\n      <td>141179</td>\n      <td>5.608246</td>\n    </tr>\n    <tr>\n      <td>2</td>\n      <td>141179</td>\n      <td>11.216491</td>\n    </tr>\n    <tr>\n      <td>3</td>\n      <td>141179</td>\n      <td>7.851544</td>\n    </tr>\n    <tr>\n      <td>4</td>\n      <td>141194</td>\n      <td>1.353180</td>\n    </tr>\n    <tr>\n      <td>...</td>\n      <td>...</td>\n      <td>...</td>\n    </tr>\n    <tr>\n      <td>207342</td>\n      <td>425009</td>\n      <td>4.559271</td>\n    </tr>\n    <tr>\n      <td>207343</td>\n      <td>425010</td>\n      <td>2.279635</td>\n    </tr>\n    <tr>\n      <td>207344</td>\n      <td>425072</td>\n      <td>3.727370</td>\n    </tr>\n    <tr>\n      <td>207345</td>\n      <td>425072</td>\n      <td>0.000000</td>\n    </tr>\n    <tr>\n      <td>207346</td>\n      <td>425092</td>\n      <td>5.478852</td>\n    </tr>\n  </tbody>\n</table>\n<p>207347 rows × 2 columns</p>\n</div>"
     },
     "metadata": {},
     "output_type": "execute_result",
     "execution_count": 31
    }
   ],
   "source": [
    "intakeOutputUrine['admissionweight'].fillna(intakeOutputUrine['admissionweight'].mean(), inplace=True)\n",
    "intakeOutputUrine['urineoutputbyweight'] = intakeOutputUrine.apply(lambda x: x['outputtotal'] / x['admissionweight'], axis=1)\n",
    "intakeOutputUrine = intakeOutputUrine[['patientunitstayid', 'urineoutputbyweight']]\n",
    "intakeOutputUrine"
   ]
  },
  {
   "cell_type": "code",
   "execution_count": null,
   "metadata": {},
   "outputs": [],
   "source": []
  }
 ],
 "metadata": {
  "kernelspec": {
   "display_name": "Python 3",
   "language": "python",
   "name": "python3"
  },
  "language_info": {
   "codemirror_mode": {
    "name": "ipython",
    "version": 3
   },
   "file_extension": ".py",
   "mimetype": "text/x-python",
   "name": "python",
   "nbconvert_exporter": "python",
   "pygments_lexer": "ipython3",
   "version": "3.7.4"
  },
  "pycharm": {
   "stem_cell": {
    "cell_type": "raw",
    "source": [],
    "metadata": {
     "collapsed": false
    }
   }
  }
 },
 "nbformat": 4,
 "nbformat_minor": 4
}