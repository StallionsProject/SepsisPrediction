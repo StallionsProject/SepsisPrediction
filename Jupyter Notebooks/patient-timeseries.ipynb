{
 "cells": [
  {
   "cell_type": "code",
   "execution_count": 1,
   "outputs": [],
   "source": [
    "import pandas as pd\n",
    "# import numpy as np"
   ],
   "metadata": {
    "collapsed": false,
    "pycharm": {
     "name": "#%%\n",
     "is_executing": false
    }
   }
  },
  {
   "cell_type": "code",
   "execution_count": 2,
   "outputs": [],
   "source": [
    "database_type = \"/full\""
   ],
   "metadata": {
    "collapsed": false,
    "pycharm": {
     "name": "#%%\n",
     "is_executing": false
    }
   }
  },
  {
   "cell_type": "markdown",
   "source": [
    "The `patient` table includes general information about the patient admissions (for example, demographics, admission and discharge details). \n",
    "See: http://eicu-crd.mit.edu/eicutables/patient/"
   ],
   "metadata": {
    "collapsed": false
   }
  },
  {
   "cell_type": "code",
   "execution_count": 3,
   "outputs": [
    {
     "data": {
      "text/plain": "                   admissionweight\npatientunitstayid                 \n141168                        84.3\n141178                        54.4\n141179                         NaN\n141194                        73.9\n141196                         NaN\n...                            ...\n3353235                       90.0\n3353237                       78.4\n3353251                      102.0\n3353254                       83.9\n3353263                      100.8\n\n[200859 rows x 1 columns]",
      "text/html": "<div>\n<style scoped>\n    .dataframe tbody tr th:only-of-type {\n        vertical-align: middle;\n    }\n\n    .dataframe tbody tr th {\n        vertical-align: top;\n    }\n\n    .dataframe thead th {\n        text-align: right;\n    }\n</style>\n<table border=\"1\" class=\"dataframe\">\n  <thead>\n    <tr style=\"text-align: right;\">\n      <th></th>\n      <th>admissionweight</th>\n    </tr>\n    <tr>\n      <th>patientunitstayid</th>\n      <th></th>\n    </tr>\n  </thead>\n  <tbody>\n    <tr>\n      <td>141168</td>\n      <td>84.3</td>\n    </tr>\n    <tr>\n      <td>141178</td>\n      <td>54.4</td>\n    </tr>\n    <tr>\n      <td>141179</td>\n      <td>NaN</td>\n    </tr>\n    <tr>\n      <td>141194</td>\n      <td>73.9</td>\n    </tr>\n    <tr>\n      <td>141196</td>\n      <td>NaN</td>\n    </tr>\n    <tr>\n      <td>...</td>\n      <td>...</td>\n    </tr>\n    <tr>\n      <td>3353235</td>\n      <td>90.0</td>\n    </tr>\n    <tr>\n      <td>3353237</td>\n      <td>78.4</td>\n    </tr>\n    <tr>\n      <td>3353251</td>\n      <td>102.0</td>\n    </tr>\n    <tr>\n      <td>3353254</td>\n      <td>83.9</td>\n    </tr>\n    <tr>\n      <td>3353263</td>\n      <td>100.8</td>\n    </tr>\n  </tbody>\n</table>\n<p>200859 rows × 1 columns</p>\n</div>"
     },
     "metadata": {},
     "output_type": "execute_result",
     "execution_count": 3
    }
   ],
   "source": [
    "# loads patient table\n",
    "patient = pd.read_csv('../eICU' + database_type + '/patient.csv', nrows=999999) \n",
    "patient = patient[['patientunitstayid', 'admissionweight']].set_index('patientunitstayid')\n",
    "patient"
   ],
   "metadata": {
    "collapsed": false,
    "pycharm": {
     "name": "#%%\n",
     "is_executing": false
    }
   }
  },
  {
   "cell_type": "markdown",
   "source": [
    "The `vitalperiodic` table comprises data that is consistently interfaced from bedside vital signs monitors into eCareManager. \n",
    "Data are generally interfaced as 1 minute averages, and archived into the `vitalperiodic` table as 5 minute median values. \n",
    "For more detail, see: http://eicu-crd.mit.edu/eicutables/vitalPeriodic/"
   ],
   "metadata": {
    "collapsed": false
   }
  },
  {
   "cell_type": "code",
   "execution_count": 4,
   "outputs": [
    {
     "data": {
      "text/plain": "        patientunitstayid  observationoffset  temperature  heartrate  \\\n653065             148349              -1445          NaN       60.0   \n653071             148349              -1440          NaN       60.0   \n790455             150049              -1435          NaN       96.0   \n479374             146418              -1435          NaN       71.0   \n653145             148349              -1435          NaN       60.0   \n...                   ...                ...          ...        ...   \n273524             144297              71778          NaN       72.0   \n273140             144297              71783          NaN       72.0   \n273956             144297              71788          NaN       72.0   \n275114             144297              71793          NaN       72.0   \n272804             144297              71798          NaN       74.0   \n\n        respiration  systemicsystolic  \n653065         20.0               NaN  \n653071         21.0               NaN  \n790455         19.0               NaN  \n479374         23.0               NaN  \n653145         21.0               NaN  \n...             ...               ...  \n273524         33.0               NaN  \n273140         27.0               NaN  \n273956         34.0               NaN  \n275114         33.0               NaN  \n272804         31.0               NaN  \n\n[999999 rows x 6 columns]",
      "text/html": "<div>\n<style scoped>\n    .dataframe tbody tr th:only-of-type {\n        vertical-align: middle;\n    }\n\n    .dataframe tbody tr th {\n        vertical-align: top;\n    }\n\n    .dataframe thead th {\n        text-align: right;\n    }\n</style>\n<table border=\"1\" class=\"dataframe\">\n  <thead>\n    <tr style=\"text-align: right;\">\n      <th></th>\n      <th>patientunitstayid</th>\n      <th>observationoffset</th>\n      <th>temperature</th>\n      <th>heartrate</th>\n      <th>respiration</th>\n      <th>systemicsystolic</th>\n    </tr>\n  </thead>\n  <tbody>\n    <tr>\n      <td>653065</td>\n      <td>148349</td>\n      <td>-1445</td>\n      <td>NaN</td>\n      <td>60.0</td>\n      <td>20.0</td>\n      <td>NaN</td>\n    </tr>\n    <tr>\n      <td>653071</td>\n      <td>148349</td>\n      <td>-1440</td>\n      <td>NaN</td>\n      <td>60.0</td>\n      <td>21.0</td>\n      <td>NaN</td>\n    </tr>\n    <tr>\n      <td>790455</td>\n      <td>150049</td>\n      <td>-1435</td>\n      <td>NaN</td>\n      <td>96.0</td>\n      <td>19.0</td>\n      <td>NaN</td>\n    </tr>\n    <tr>\n      <td>479374</td>\n      <td>146418</td>\n      <td>-1435</td>\n      <td>NaN</td>\n      <td>71.0</td>\n      <td>23.0</td>\n      <td>NaN</td>\n    </tr>\n    <tr>\n      <td>653145</td>\n      <td>148349</td>\n      <td>-1435</td>\n      <td>NaN</td>\n      <td>60.0</td>\n      <td>21.0</td>\n      <td>NaN</td>\n    </tr>\n    <tr>\n      <td>...</td>\n      <td>...</td>\n      <td>...</td>\n      <td>...</td>\n      <td>...</td>\n      <td>...</td>\n      <td>...</td>\n    </tr>\n    <tr>\n      <td>273524</td>\n      <td>144297</td>\n      <td>71778</td>\n      <td>NaN</td>\n      <td>72.0</td>\n      <td>33.0</td>\n      <td>NaN</td>\n    </tr>\n    <tr>\n      <td>273140</td>\n      <td>144297</td>\n      <td>71783</td>\n      <td>NaN</td>\n      <td>72.0</td>\n      <td>27.0</td>\n      <td>NaN</td>\n    </tr>\n    <tr>\n      <td>273956</td>\n      <td>144297</td>\n      <td>71788</td>\n      <td>NaN</td>\n      <td>72.0</td>\n      <td>34.0</td>\n      <td>NaN</td>\n    </tr>\n    <tr>\n      <td>275114</td>\n      <td>144297</td>\n      <td>71793</td>\n      <td>NaN</td>\n      <td>72.0</td>\n      <td>33.0</td>\n      <td>NaN</td>\n    </tr>\n    <tr>\n      <td>272804</td>\n      <td>144297</td>\n      <td>71798</td>\n      <td>NaN</td>\n      <td>74.0</td>\n      <td>31.0</td>\n      <td>NaN</td>\n    </tr>\n  </tbody>\n</table>\n<p>999999 rows × 6 columns</p>\n</div>"
     },
     "metadata": {},
     "output_type": "execute_result",
     "execution_count": 4
    }
   ],
   "source": [
    "vitalperiodic = pd.read_csv('../eICU' + database_type + '/vitalPeriodic.csv', nrows=999999)\n",
    "columns = ['patientunitstayid', 'observationoffset', 'temperature', 'heartrate', 'respiration', 'systemicsystolic']\n",
    "vitalperiodic = vitalperiodic[columns]\n",
    "vitalperiodic = vitalperiodic.sort_values(by='observationoffset')\n",
    "vitalperiodic"
   ],
   "metadata": {
    "collapsed": false,
    "pycharm": {
     "name": "#%%\n",
     "is_executing": false
    }
   }
  },
  {
   "cell_type": "markdown",
   "source": [
    "The `lab` table provides Laboratory tests that have have been mapped to a standard set of measurements. \n",
    "Unmapped measurements are recorded in the customLab table.\n",
    "See: http://eicu-crd.mit.edu/eicutables/lab/"
   ],
   "metadata": {
    "collapsed": false
   }
  },
  {
   "cell_type": "code",
   "execution_count": 5,
   "outputs": [
    {
     "data": {
      "text/plain": "        patientunitstayid  labresultoffset  labtypeid           labname  \\\n337586             154910           -73277          4   bedside glucose   \n337274             154910           -73231          3               MCH   \n337258             154910           -73231          3            -monos   \n337290             154910           -73231          3  platelets x 1000   \n337298             154910           -73231          3        WBC x 1000   \n...                   ...              ...        ...               ...   \n861141             174525           144155          3            -basos   \n860866             174525           144155          1               BUN   \n861160             174525           144155          3               RBC   \n860818             174525           144155          1           glucose   \n861168             174525           144155          3               MCV   \n\n        labresult labmeasurenamesystem labmeasurenameinterface  \n337586      77.00                mg/dL                   mg/dL  \n337274      24.90                   pg                      pg  \n337258       2.00                    %                       %  \n337290      76.00                K/mcL                   K/mcL  \n337298       2.90                K/mcL                   K/mcL  \n...           ...                  ...                     ...  \n861141       0.00                    %                       %  \n860866      12.00                mg/dL                   mg/dL  \n861160       3.87                M/mcL                 mil/mcL  \n860818     105.00                mg/dL                   mg/dL  \n861168      80.90                   fL                      fl  \n\n[999999 rows x 7 columns]",
      "text/html": "<div>\n<style scoped>\n    .dataframe tbody tr th:only-of-type {\n        vertical-align: middle;\n    }\n\n    .dataframe tbody tr th {\n        vertical-align: top;\n    }\n\n    .dataframe thead th {\n        text-align: right;\n    }\n</style>\n<table border=\"1\" class=\"dataframe\">\n  <thead>\n    <tr style=\"text-align: right;\">\n      <th></th>\n      <th>patientunitstayid</th>\n      <th>labresultoffset</th>\n      <th>labtypeid</th>\n      <th>labname</th>\n      <th>labresult</th>\n      <th>labmeasurenamesystem</th>\n      <th>labmeasurenameinterface</th>\n    </tr>\n  </thead>\n  <tbody>\n    <tr>\n      <td>337586</td>\n      <td>154910</td>\n      <td>-73277</td>\n      <td>4</td>\n      <td>bedside glucose</td>\n      <td>77.00</td>\n      <td>mg/dL</td>\n      <td>mg/dL</td>\n    </tr>\n    <tr>\n      <td>337274</td>\n      <td>154910</td>\n      <td>-73231</td>\n      <td>3</td>\n      <td>MCH</td>\n      <td>24.90</td>\n      <td>pg</td>\n      <td>pg</td>\n    </tr>\n    <tr>\n      <td>337258</td>\n      <td>154910</td>\n      <td>-73231</td>\n      <td>3</td>\n      <td>-monos</td>\n      <td>2.00</td>\n      <td>%</td>\n      <td>%</td>\n    </tr>\n    <tr>\n      <td>337290</td>\n      <td>154910</td>\n      <td>-73231</td>\n      <td>3</td>\n      <td>platelets x 1000</td>\n      <td>76.00</td>\n      <td>K/mcL</td>\n      <td>K/mcL</td>\n    </tr>\n    <tr>\n      <td>337298</td>\n      <td>154910</td>\n      <td>-73231</td>\n      <td>3</td>\n      <td>WBC x 1000</td>\n      <td>2.90</td>\n      <td>K/mcL</td>\n      <td>K/mcL</td>\n    </tr>\n    <tr>\n      <td>...</td>\n      <td>...</td>\n      <td>...</td>\n      <td>...</td>\n      <td>...</td>\n      <td>...</td>\n      <td>...</td>\n      <td>...</td>\n    </tr>\n    <tr>\n      <td>861141</td>\n      <td>174525</td>\n      <td>144155</td>\n      <td>3</td>\n      <td>-basos</td>\n      <td>0.00</td>\n      <td>%</td>\n      <td>%</td>\n    </tr>\n    <tr>\n      <td>860866</td>\n      <td>174525</td>\n      <td>144155</td>\n      <td>1</td>\n      <td>BUN</td>\n      <td>12.00</td>\n      <td>mg/dL</td>\n      <td>mg/dL</td>\n    </tr>\n    <tr>\n      <td>861160</td>\n      <td>174525</td>\n      <td>144155</td>\n      <td>3</td>\n      <td>RBC</td>\n      <td>3.87</td>\n      <td>M/mcL</td>\n      <td>mil/mcL</td>\n    </tr>\n    <tr>\n      <td>860818</td>\n      <td>174525</td>\n      <td>144155</td>\n      <td>1</td>\n      <td>glucose</td>\n      <td>105.00</td>\n      <td>mg/dL</td>\n      <td>mg/dL</td>\n    </tr>\n    <tr>\n      <td>861168</td>\n      <td>174525</td>\n      <td>144155</td>\n      <td>3</td>\n      <td>MCV</td>\n      <td>80.90</td>\n      <td>fL</td>\n      <td>fl</td>\n    </tr>\n  </tbody>\n</table>\n<p>999999 rows × 7 columns</p>\n</div>"
     },
     "metadata": {},
     "output_type": "execute_result",
     "execution_count": 5
    }
   ],
   "source": [
    "lab = pd.read_csv('../eICU' + database_type + '/lab.csv', nrows=999999)\n",
    "columns = ['patientunitstayid', 'labresultoffset','labtypeid','labname', 'labresult', 'labmeasurenamesystem', 'labmeasurenameinterface']\n",
    "lab = lab[columns]\n",
    "lab = lab.sort_values(by='labresultoffset')\n",
    "lab"
   ],
   "metadata": {
    "collapsed": false,
    "pycharm": {
     "name": "#%%\n",
     "is_executing": false
    }
   }
  },
  {
   "cell_type": "code",
   "execution_count": 6,
   "outputs": [
    {
     "name": "stderr",
     "text": [
      "C:\\tools\\Anaconda3\\lib\\site-packages\\ipykernel_launcher.py:8: SettingWithCopyWarning: \n",
      "A value is trying to be set on a copy of a slice from a DataFrame.\n",
      "Try using .loc[row_indexer,col_indexer] = value instead\n",
      "\n",
      "See the caveats in the documentation: http://pandas.pydata.org/pandas-docs/stable/user_guide/indexing.html#returning-a-view-versus-a-copy\n",
      "  \n",
      "C:\\tools\\Anaconda3\\lib\\site-packages\\ipykernel_launcher.py:9: SettingWithCopyWarning: \n",
      "A value is trying to be set on a copy of a slice from a DataFrame.\n",
      "Try using .loc[row_indexer,col_indexer] = value instead\n",
      "\n",
      "See the caveats in the documentation: http://pandas.pydata.org/pandas-docs/stable/user_guide/indexing.html#returning-a-view-versus-a-copy\n",
      "  if __name__ == '__main__':\n",
      "C:\\tools\\Anaconda3\\lib\\site-packages\\ipykernel_launcher.py:10: SettingWithCopyWarning: \n",
      "A value is trying to be set on a copy of a slice from a DataFrame.\n",
      "Try using .loc[row_indexer,col_indexer] = value instead\n",
      "\n",
      "See the caveats in the documentation: http://pandas.pydata.org/pandas-docs/stable/user_guide/indexing.html#returning-a-view-versus-a-copy\n",
      "  # Remove the CWD from sys.path while we load stuff.\n"
     ],
     "output_type": "stream"
    },
    {
     "data": {
      "text/plain": "        patientunitstayid  labresultoffset  creatinine  wbcx1000  lactate\n337298             154910           -73231       -1.00       2.9     -1.0\n337133             154910           -72872       -1.00       5.4     -1.0\n337673             154910           -72872        5.40      -1.0     -1.0\n337289             154910           -71858       -1.00       8.3     -1.0\n337051             154910           -71858        6.07      -1.0     -1.0\n...                   ...              ...         ...       ...      ...\n418876             157644           133088       -1.00       6.1     -1.0\n860135             174525           137425        0.64      -1.0     -1.0\n860751             174525           137425       -1.00      11.1     -1.0\n860898             174525           144155        0.65      -1.0     -1.0\n861161             174525           144155       -1.00      10.0     -1.0\n\n[62745 rows x 5 columns]",
      "text/html": "<div>\n<style scoped>\n    .dataframe tbody tr th:only-of-type {\n        vertical-align: middle;\n    }\n\n    .dataframe tbody tr th {\n        vertical-align: top;\n    }\n\n    .dataframe thead th {\n        text-align: right;\n    }\n</style>\n<table border=\"1\" class=\"dataframe\">\n  <thead>\n    <tr style=\"text-align: right;\">\n      <th></th>\n      <th>patientunitstayid</th>\n      <th>labresultoffset</th>\n      <th>creatinine</th>\n      <th>wbcx1000</th>\n      <th>lactate</th>\n    </tr>\n  </thead>\n  <tbody>\n    <tr>\n      <td>337298</td>\n      <td>154910</td>\n      <td>-73231</td>\n      <td>-1.00</td>\n      <td>2.9</td>\n      <td>-1.0</td>\n    </tr>\n    <tr>\n      <td>337133</td>\n      <td>154910</td>\n      <td>-72872</td>\n      <td>-1.00</td>\n      <td>5.4</td>\n      <td>-1.0</td>\n    </tr>\n    <tr>\n      <td>337673</td>\n      <td>154910</td>\n      <td>-72872</td>\n      <td>5.40</td>\n      <td>-1.0</td>\n      <td>-1.0</td>\n    </tr>\n    <tr>\n      <td>337289</td>\n      <td>154910</td>\n      <td>-71858</td>\n      <td>-1.00</td>\n      <td>8.3</td>\n      <td>-1.0</td>\n    </tr>\n    <tr>\n      <td>337051</td>\n      <td>154910</td>\n      <td>-71858</td>\n      <td>6.07</td>\n      <td>-1.0</td>\n      <td>-1.0</td>\n    </tr>\n    <tr>\n      <td>...</td>\n      <td>...</td>\n      <td>...</td>\n      <td>...</td>\n      <td>...</td>\n      <td>...</td>\n    </tr>\n    <tr>\n      <td>418876</td>\n      <td>157644</td>\n      <td>133088</td>\n      <td>-1.00</td>\n      <td>6.1</td>\n      <td>-1.0</td>\n    </tr>\n    <tr>\n      <td>860135</td>\n      <td>174525</td>\n      <td>137425</td>\n      <td>0.64</td>\n      <td>-1.0</td>\n      <td>-1.0</td>\n    </tr>\n    <tr>\n      <td>860751</td>\n      <td>174525</td>\n      <td>137425</td>\n      <td>-1.00</td>\n      <td>11.1</td>\n      <td>-1.0</td>\n    </tr>\n    <tr>\n      <td>860898</td>\n      <td>174525</td>\n      <td>144155</td>\n      <td>0.65</td>\n      <td>-1.0</td>\n      <td>-1.0</td>\n    </tr>\n    <tr>\n      <td>861161</td>\n      <td>174525</td>\n      <td>144155</td>\n      <td>-1.00</td>\n      <td>10.0</td>\n      <td>-1.0</td>\n    </tr>\n  </tbody>\n</table>\n<p>62745 rows × 5 columns</p>\n</div>"
     },
     "metadata": {},
     "output_type": "execute_result",
     "execution_count": 6
    }
   ],
   "source": [
    "#converting labname 'urinary creatinine to 'creatinine'\n",
    "lab.loc[lab['labname'].str.contains(\"urinary creatinine\"), 'labname'] = \"creatinine\"\n",
    "lab.loc[(lab['labname'].str.contains(\"creatinine\"))]\n",
    "\n",
    "# Pull out dataframe for labresults 'WBC x 1000', 'lactate', 'creatinine'\n",
    "lab_name = ['WBC x 1000', 'lactate', 'creatinine']\n",
    "lab = lab[lab.labname.isin(lab_name)]\n",
    "lab['creatinine'] = lab.apply(lambda x: x['labresult'] if x['labname'] == 'creatinine' else -1, axis=1)\n",
    "lab['wbcx1000'] = lab.apply(lambda x: x['labresult'] if x['labname'] == 'WBC x 1000' else -1, axis=1)\n",
    "lab['lactate'] = lab.apply(lambda x: x['labresult'] if x['labname'] == 'lactate' else -1, axis=1)\n",
    "\n",
    "lab = lab.drop(['labtypeid', 'labmeasurenamesystem', 'labmeasurenameinterface', 'labname', 'labresult'], axis = 1)\n",
    "lab"
   ],
   "metadata": {
    "collapsed": false,
    "pycharm": {
     "name": "#%%\n",
     "is_executing": false
    }
   }
  },
  {
   "cell_type": "markdown",
   "source": [
    "The `intakeOutput` table provides Intake and output recorded for patients entered from the nursing flowsheet.\n",
    "See: http://eicu-crd.mit.edu/eicutables/intakeOutput/"
   ],
   "metadata": {
    "collapsed": false
   }
  },
  {
   "cell_type": "code",
   "execution_count": 7,
   "outputs": [
    {
     "data": {
      "text/plain": "        patientunitstayid  admissionweight  intakeoutputoffset  intaketotal  \\\n0                  141179              NaN                1420          0.0   \n1                  141179              NaN                 933          0.0   \n2                  141179              NaN                1703          0.0   \n3                  141179              NaN                 678          0.0   \n4                  141194            73.90               12201        290.4   \n...                   ...              ...                 ...          ...   \n207342             425009            65.80               11046          0.0   \n207343             425010            65.80                1358          0.0   \n207344             425072            93.90                  28          0.0   \n207345             425072            93.90                1108          0.0   \n207346             425092            91.26                1171          0.0   \n\n        outputtotal celllabel  \n0             700.0     Urine  \n1             500.0     Urine  \n2            1000.0     Urine  \n3             700.0     Urine  \n4             100.0     Urine  \n...             ...       ...  \n207342        300.0     Urine  \n207343        150.0     Urine  \n207344        350.0     Urine  \n207345          0.0     Urine  \n207346        500.0     Urine  \n\n[207347 rows x 6 columns]",
      "text/html": "<div>\n<style scoped>\n    .dataframe tbody tr th:only-of-type {\n        vertical-align: middle;\n    }\n\n    .dataframe tbody tr th {\n        vertical-align: top;\n    }\n\n    .dataframe thead th {\n        text-align: right;\n    }\n</style>\n<table border=\"1\" class=\"dataframe\">\n  <thead>\n    <tr style=\"text-align: right;\">\n      <th></th>\n      <th>patientunitstayid</th>\n      <th>admissionweight</th>\n      <th>intakeoutputoffset</th>\n      <th>intaketotal</th>\n      <th>outputtotal</th>\n      <th>celllabel</th>\n    </tr>\n  </thead>\n  <tbody>\n    <tr>\n      <td>0</td>\n      <td>141179</td>\n      <td>NaN</td>\n      <td>1420</td>\n      <td>0.0</td>\n      <td>700.0</td>\n      <td>Urine</td>\n    </tr>\n    <tr>\n      <td>1</td>\n      <td>141179</td>\n      <td>NaN</td>\n      <td>933</td>\n      <td>0.0</td>\n      <td>500.0</td>\n      <td>Urine</td>\n    </tr>\n    <tr>\n      <td>2</td>\n      <td>141179</td>\n      <td>NaN</td>\n      <td>1703</td>\n      <td>0.0</td>\n      <td>1000.0</td>\n      <td>Urine</td>\n    </tr>\n    <tr>\n      <td>3</td>\n      <td>141179</td>\n      <td>NaN</td>\n      <td>678</td>\n      <td>0.0</td>\n      <td>700.0</td>\n      <td>Urine</td>\n    </tr>\n    <tr>\n      <td>4</td>\n      <td>141194</td>\n      <td>73.90</td>\n      <td>12201</td>\n      <td>290.4</td>\n      <td>100.0</td>\n      <td>Urine</td>\n    </tr>\n    <tr>\n      <td>...</td>\n      <td>...</td>\n      <td>...</td>\n      <td>...</td>\n      <td>...</td>\n      <td>...</td>\n      <td>...</td>\n    </tr>\n    <tr>\n      <td>207342</td>\n      <td>425009</td>\n      <td>65.80</td>\n      <td>11046</td>\n      <td>0.0</td>\n      <td>300.0</td>\n      <td>Urine</td>\n    </tr>\n    <tr>\n      <td>207343</td>\n      <td>425010</td>\n      <td>65.80</td>\n      <td>1358</td>\n      <td>0.0</td>\n      <td>150.0</td>\n      <td>Urine</td>\n    </tr>\n    <tr>\n      <td>207344</td>\n      <td>425072</td>\n      <td>93.90</td>\n      <td>28</td>\n      <td>0.0</td>\n      <td>350.0</td>\n      <td>Urine</td>\n    </tr>\n    <tr>\n      <td>207345</td>\n      <td>425072</td>\n      <td>93.90</td>\n      <td>1108</td>\n      <td>0.0</td>\n      <td>0.0</td>\n      <td>Urine</td>\n    </tr>\n    <tr>\n      <td>207346</td>\n      <td>425092</td>\n      <td>91.26</td>\n      <td>1171</td>\n      <td>0.0</td>\n      <td>500.0</td>\n      <td>Urine</td>\n    </tr>\n  </tbody>\n</table>\n<p>207347 rows × 6 columns</p>\n</div>"
     },
     "metadata": {},
     "output_type": "execute_result",
     "execution_count": 7
    }
   ],
   "source": [
    "intakeOutput = pd.read_csv('../eICU' + database_type + '/intakeOutput.csv', nrows=999999)\n",
    "columns = ['patientunitstayid', 'intakeoutputoffset', 'intaketotal', 'outputtotal', 'celllabel']\n",
    "intakeOutput = intakeOutput[columns]\n",
    "intakeOutput.sort_values(by='intakeoutputoffset')\n",
    "intakeOutputUrine = intakeOutput.loc[(intakeOutput['celllabel'].str.contains(\"Urine\"))]\n",
    "intakeOutputUrine = pd.DataFrame.merge(patient, intakeOutputUrine, on='patientunitstayid')\n",
    "intakeOutputUrine"
   ],
   "metadata": {
    "collapsed": false,
    "pycharm": {
     "name": "#%%\n",
     "is_executing": false
    }
   }
  },
  {
   "cell_type": "code",
   "execution_count": 8,
   "outputs": [
    {
     "data": {
      "text/plain": "        patientunitstayid  intakeoutputoffset  urineoutputbyweight\n0                  141179                1420             7.851544\n1                  141179                 933             5.608246\n2                  141179                1703            11.216491\n3                  141179                 678             7.851544\n4                  141194               12201             1.353180\n...                   ...                 ...                  ...\n207342             425009               11046             4.559271\n207343             425010                1358             2.279635\n207344             425072                  28             3.727370\n207345             425072                1108             0.000000\n207346             425092                1171             5.478852\n\n[207347 rows x 3 columns]",
      "text/html": "<div>\n<style scoped>\n    .dataframe tbody tr th:only-of-type {\n        vertical-align: middle;\n    }\n\n    .dataframe tbody tr th {\n        vertical-align: top;\n    }\n\n    .dataframe thead th {\n        text-align: right;\n    }\n</style>\n<table border=\"1\" class=\"dataframe\">\n  <thead>\n    <tr style=\"text-align: right;\">\n      <th></th>\n      <th>patientunitstayid</th>\n      <th>intakeoutputoffset</th>\n      <th>urineoutputbyweight</th>\n    </tr>\n  </thead>\n  <tbody>\n    <tr>\n      <td>0</td>\n      <td>141179</td>\n      <td>1420</td>\n      <td>7.851544</td>\n    </tr>\n    <tr>\n      <td>1</td>\n      <td>141179</td>\n      <td>933</td>\n      <td>5.608246</td>\n    </tr>\n    <tr>\n      <td>2</td>\n      <td>141179</td>\n      <td>1703</td>\n      <td>11.216491</td>\n    </tr>\n    <tr>\n      <td>3</td>\n      <td>141179</td>\n      <td>678</td>\n      <td>7.851544</td>\n    </tr>\n    <tr>\n      <td>4</td>\n      <td>141194</td>\n      <td>12201</td>\n      <td>1.353180</td>\n    </tr>\n    <tr>\n      <td>...</td>\n      <td>...</td>\n      <td>...</td>\n      <td>...</td>\n    </tr>\n    <tr>\n      <td>207342</td>\n      <td>425009</td>\n      <td>11046</td>\n      <td>4.559271</td>\n    </tr>\n    <tr>\n      <td>207343</td>\n      <td>425010</td>\n      <td>1358</td>\n      <td>2.279635</td>\n    </tr>\n    <tr>\n      <td>207344</td>\n      <td>425072</td>\n      <td>28</td>\n      <td>3.727370</td>\n    </tr>\n    <tr>\n      <td>207345</td>\n      <td>425072</td>\n      <td>1108</td>\n      <td>0.000000</td>\n    </tr>\n    <tr>\n      <td>207346</td>\n      <td>425092</td>\n      <td>1171</td>\n      <td>5.478852</td>\n    </tr>\n  </tbody>\n</table>\n<p>207347 rows × 3 columns</p>\n</div>"
     },
     "metadata": {},
     "output_type": "execute_result",
     "execution_count": 8
    }
   ],
   "source": [
    "intakeOutputUrine['admissionweight'].fillna(intakeOutputUrine['admissionweight'].mean(), inplace=True)\n",
    "intakeOutputUrine['urineoutputbyweight'] = intakeOutputUrine.apply(lambda x: x['outputtotal'] / x['admissionweight'], axis=1)\n",
    "intakeOutputUrine = intakeOutputUrine[['patientunitstayid','intakeoutputoffset', 'urineoutputbyweight']]\n",
    "intakeOutputUrine"
   ],
   "metadata": {
    "collapsed": false,
    "pycharm": {
     "name": "#%%\n",
     "is_executing": false
    }
   }
  },
  {
   "cell_type": "code",
   "execution_count": 9,
   "outputs": [],
   "source": [
    "# Merging Final Training Table\n",
    "# merged_df = vitalperiodic.merge(lab, how='inner', left_on=[\"A\", \"B\"], right_on=[\"A2\",\"B2\"])\n"
   ],
   "metadata": {
    "collapsed": false,
    "pycharm": {
     "name": "#%%\n",
     "is_executing": false
    }
   }
  }
 ],
 "metadata": {
  "kernelspec": {
   "display_name": "Python 3",
   "language": "python",
   "name": "python3"
  },
  "language_info": {
   "codemirror_mode": {
    "name": "ipython",
    "version": 3
   },
   "file_extension": ".py",
   "mimetype": "text/x-python",
   "name": "python",
   "nbconvert_exporter": "python",
   "pygments_lexer": "ipython3",
   "version": "3.7.4"
  },
  "pycharm": {
   "stem_cell": {
    "cell_type": "raw",
    "source": [],
    "metadata": {
     "collapsed": false
    }
   }
  }
 },
 "nbformat": 4,
 "nbformat_minor": 4
}