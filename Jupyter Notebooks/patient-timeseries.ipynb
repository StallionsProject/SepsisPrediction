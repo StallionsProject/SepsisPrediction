{
 "cells": [
  {
   "cell_type": "code",
   "execution_count": 1,
   "metadata": {
    "collapsed": true,
    "pycharm": {
     "is_executing": false
    }
   },
   "outputs": [],
   "source": [
    "import pandas as pd\n",
    "import numpy as np"
   ]
  },
  {
   "cell_type": "code",
   "execution_count": 2,
   "outputs": [],
   "source": [
    "database_type = \"/demo\""
   ],
   "metadata": {
    "collapsed": false,
    "pycharm": {
     "name": "#%%\n",
     "is_executing": false
    }
   }
  },
  {
   "cell_type": "markdown",
   "source": [
    "The `patient` table includes general information about the patient admissions (for example, demographics, admission and discharge details). \n",
    "See: http://eicu-crd.mit.edu/eicutables/patient/"
   ],
   "metadata": {
    "collapsed": false
   }
  },
  {
   "cell_type": "code",
   "execution_count": 3,
   "outputs": [
    {
     "data": {
      "text/plain": "   patientunitstayid  patienthealthsystemstayid  gender age  ethnicity  \\\n0             141764                     129391  Female  87  Caucasian   \n1             141765                     129391  Female  87  Caucasian   \n2             143870                     131022    Male  76  Caucasian   \n3             144815                     131736  Female  34  Caucasian   \n4             145427                     132209    Male  61  Caucasian   \n\n   hospitalid  wardid                              apacheadmissiondx  \\\n0          59      91                                            NaN   \n1          59      91  Rhythm disturbance (atrial, supraventricular)   \n2          68     103                        Endarterectomy, carotid   \n3          56      82          Overdose, other toxin, poison or drug   \n4          68     103            GI perforation/rupture, surgery for   \n\n   admissionheight hospitaladmittime24  ...       unitadmitsource  \\\n0            157.5            23:36:00  ...            ICU to SDU   \n1            157.5            23:36:00  ...  Emergency Department   \n2            167.0            20:46:00  ...        Operating Room   \n3            172.7            01:44:00  ...  Emergency Department   \n4            177.8            23:48:00  ...        Operating Room   \n\n  unitvisitnumber    unitstaytype admissionweight  dischargeweight  \\\n0               2  stepdown/other             NaN              NaN   \n1               1           admit            46.5             45.0   \n2               1           admit            77.5             79.4   \n3               1           admit            60.3             60.7   \n4               1           admit            91.7             93.1   \n\n  unitdischargetime24 unitdischargeoffset unitdischargelocation  \\\n0            18:58:00                 344                  Home   \n1            13:14:00                2250  Step-Down Unit (SDU)   \n2            10:00:00                 793                 Floor   \n3            20:48:00                1121        Other External   \n4            22:47:00                1369                 Floor   \n\n  unitdischargestatus  uniquepid  \n0               Alive   002-1039  \n1               Alive   002-1039  \n2               Alive  002-12289  \n3               Alive   002-1116  \n4               Alive  002-12243  \n\n[5 rows x 29 columns]",
      "text/html": "<div>\n<style scoped>\n    .dataframe tbody tr th:only-of-type {\n        vertical-align: middle;\n    }\n\n    .dataframe tbody tr th {\n        vertical-align: top;\n    }\n\n    .dataframe thead th {\n        text-align: right;\n    }\n</style>\n<table border=\"1\" class=\"dataframe\">\n  <thead>\n    <tr style=\"text-align: right;\">\n      <th></th>\n      <th>patientunitstayid</th>\n      <th>patienthealthsystemstayid</th>\n      <th>gender</th>\n      <th>age</th>\n      <th>ethnicity</th>\n      <th>hospitalid</th>\n      <th>wardid</th>\n      <th>apacheadmissiondx</th>\n      <th>admissionheight</th>\n      <th>hospitaladmittime24</th>\n      <th>...</th>\n      <th>unitadmitsource</th>\n      <th>unitvisitnumber</th>\n      <th>unitstaytype</th>\n      <th>admissionweight</th>\n      <th>dischargeweight</th>\n      <th>unitdischargetime24</th>\n      <th>unitdischargeoffset</th>\n      <th>unitdischargelocation</th>\n      <th>unitdischargestatus</th>\n      <th>uniquepid</th>\n    </tr>\n  </thead>\n  <tbody>\n    <tr>\n      <td>0</td>\n      <td>141764</td>\n      <td>129391</td>\n      <td>Female</td>\n      <td>87</td>\n      <td>Caucasian</td>\n      <td>59</td>\n      <td>91</td>\n      <td>NaN</td>\n      <td>157.5</td>\n      <td>23:36:00</td>\n      <td>...</td>\n      <td>ICU to SDU</td>\n      <td>2</td>\n      <td>stepdown/other</td>\n      <td>NaN</td>\n      <td>NaN</td>\n      <td>18:58:00</td>\n      <td>344</td>\n      <td>Home</td>\n      <td>Alive</td>\n      <td>002-1039</td>\n    </tr>\n    <tr>\n      <td>1</td>\n      <td>141765</td>\n      <td>129391</td>\n      <td>Female</td>\n      <td>87</td>\n      <td>Caucasian</td>\n      <td>59</td>\n      <td>91</td>\n      <td>Rhythm disturbance (atrial, supraventricular)</td>\n      <td>157.5</td>\n      <td>23:36:00</td>\n      <td>...</td>\n      <td>Emergency Department</td>\n      <td>1</td>\n      <td>admit</td>\n      <td>46.5</td>\n      <td>45.0</td>\n      <td>13:14:00</td>\n      <td>2250</td>\n      <td>Step-Down Unit (SDU)</td>\n      <td>Alive</td>\n      <td>002-1039</td>\n    </tr>\n    <tr>\n      <td>2</td>\n      <td>143870</td>\n      <td>131022</td>\n      <td>Male</td>\n      <td>76</td>\n      <td>Caucasian</td>\n      <td>68</td>\n      <td>103</td>\n      <td>Endarterectomy, carotid</td>\n      <td>167.0</td>\n      <td>20:46:00</td>\n      <td>...</td>\n      <td>Operating Room</td>\n      <td>1</td>\n      <td>admit</td>\n      <td>77.5</td>\n      <td>79.4</td>\n      <td>10:00:00</td>\n      <td>793</td>\n      <td>Floor</td>\n      <td>Alive</td>\n      <td>002-12289</td>\n    </tr>\n    <tr>\n      <td>3</td>\n      <td>144815</td>\n      <td>131736</td>\n      <td>Female</td>\n      <td>34</td>\n      <td>Caucasian</td>\n      <td>56</td>\n      <td>82</td>\n      <td>Overdose, other toxin, poison or drug</td>\n      <td>172.7</td>\n      <td>01:44:00</td>\n      <td>...</td>\n      <td>Emergency Department</td>\n      <td>1</td>\n      <td>admit</td>\n      <td>60.3</td>\n      <td>60.7</td>\n      <td>20:48:00</td>\n      <td>1121</td>\n      <td>Other External</td>\n      <td>Alive</td>\n      <td>002-1116</td>\n    </tr>\n    <tr>\n      <td>4</td>\n      <td>145427</td>\n      <td>132209</td>\n      <td>Male</td>\n      <td>61</td>\n      <td>Caucasian</td>\n      <td>68</td>\n      <td>103</td>\n      <td>GI perforation/rupture, surgery for</td>\n      <td>177.8</td>\n      <td>23:48:00</td>\n      <td>...</td>\n      <td>Operating Room</td>\n      <td>1</td>\n      <td>admit</td>\n      <td>91.7</td>\n      <td>93.1</td>\n      <td>22:47:00</td>\n      <td>1369</td>\n      <td>Floor</td>\n      <td>Alive</td>\n      <td>002-12243</td>\n    </tr>\n  </tbody>\n</table>\n<p>5 rows × 29 columns</p>\n</div>"
     },
     "metadata": {},
     "output_type": "execute_result",
     "execution_count": 3
    }
   ],
   "source": [
    "# loads patient table\n",
    "patients = pd.read_csv('../eICU' + database_type + '/patient.csv')\n",
    "patients.head()"
   ],
   "metadata": {
    "collapsed": false,
    "pycharm": {
     "name": "#%%\n",
     "is_executing": false
    }
   }
  },
  {
   "cell_type": "markdown",
   "source": [
    "The `vitalperiodic` table comprises data that is consistently interfaced from bedside vital signs monitors into eCareManager. \n",
    "Data are generally interfaced as 1 minute averages, and archived into the `vitalperiodic` table as 5 minute median values. \n",
    "For more detail, see: http://eicu-crd.mit.edu/eicutables/vitalPeriodic/"
   ],
   "metadata": {
    "collapsed": false,
    "pycharm": {
     "name": "#%% md\n"
    }
   }
  },
  {
   "cell_type": "code",
   "execution_count": 4,
   "outputs": [
    {
     "data": {
      "text/plain": "   vitalperiodicid  patientunitstayid  observationoffset  temperature  sao2  \\\n0         29524122             141765               1179          NaN   NaN   \n1         29557845             141765                189          NaN  97.0   \n2         29524442             141765               1169          NaN   NaN   \n3         29513052             141765               1534          NaN   NaN   \n4         29524600             141765               1164          NaN   NaN   \n\n   heartrate  respiration  cvp  etco2  systemicsystolic  systemicdiastolic  \\\n0       82.0          NaN  NaN    NaN               NaN                NaN   \n1       76.0         30.0  NaN    NaN               NaN                NaN   \n2       84.0          NaN  NaN    NaN               NaN                NaN   \n3       92.0          NaN  NaN    NaN               NaN                NaN   \n4       86.0          NaN  NaN    NaN               NaN                NaN   \n\n   systemicmean  pasystolic  padiastolic  pamean  st1  st2  st3  icp  \n0           NaN         NaN          NaN     NaN  NaN  NaN  NaN  NaN  \n1           NaN         NaN          NaN     NaN  NaN  NaN  NaN  NaN  \n2           NaN         NaN          NaN     NaN  NaN  NaN  NaN  NaN  \n3           NaN         NaN          NaN     NaN  NaN  NaN  NaN  NaN  \n4           NaN         NaN          NaN     NaN  NaN  NaN  NaN  NaN  ",
      "text/html": "<div>\n<style scoped>\n    .dataframe tbody tr th:only-of-type {\n        vertical-align: middle;\n    }\n\n    .dataframe tbody tr th {\n        vertical-align: top;\n    }\n\n    .dataframe thead th {\n        text-align: right;\n    }\n</style>\n<table border=\"1\" class=\"dataframe\">\n  <thead>\n    <tr style=\"text-align: right;\">\n      <th></th>\n      <th>vitalperiodicid</th>\n      <th>patientunitstayid</th>\n      <th>observationoffset</th>\n      <th>temperature</th>\n      <th>sao2</th>\n      <th>heartrate</th>\n      <th>respiration</th>\n      <th>cvp</th>\n      <th>etco2</th>\n      <th>systemicsystolic</th>\n      <th>systemicdiastolic</th>\n      <th>systemicmean</th>\n      <th>pasystolic</th>\n      <th>padiastolic</th>\n      <th>pamean</th>\n      <th>st1</th>\n      <th>st2</th>\n      <th>st3</th>\n      <th>icp</th>\n    </tr>\n  </thead>\n  <tbody>\n    <tr>\n      <td>0</td>\n      <td>29524122</td>\n      <td>141765</td>\n      <td>1179</td>\n      <td>NaN</td>\n      <td>NaN</td>\n      <td>82.0</td>\n      <td>NaN</td>\n      <td>NaN</td>\n      <td>NaN</td>\n      <td>NaN</td>\n      <td>NaN</td>\n      <td>NaN</td>\n      <td>NaN</td>\n      <td>NaN</td>\n      <td>NaN</td>\n      <td>NaN</td>\n      <td>NaN</td>\n      <td>NaN</td>\n      <td>NaN</td>\n    </tr>\n    <tr>\n      <td>1</td>\n      <td>29557845</td>\n      <td>141765</td>\n      <td>189</td>\n      <td>NaN</td>\n      <td>97.0</td>\n      <td>76.0</td>\n      <td>30.0</td>\n      <td>NaN</td>\n      <td>NaN</td>\n      <td>NaN</td>\n      <td>NaN</td>\n      <td>NaN</td>\n      <td>NaN</td>\n      <td>NaN</td>\n      <td>NaN</td>\n      <td>NaN</td>\n      <td>NaN</td>\n      <td>NaN</td>\n      <td>NaN</td>\n    </tr>\n    <tr>\n      <td>2</td>\n      <td>29524442</td>\n      <td>141765</td>\n      <td>1169</td>\n      <td>NaN</td>\n      <td>NaN</td>\n      <td>84.0</td>\n      <td>NaN</td>\n      <td>NaN</td>\n      <td>NaN</td>\n      <td>NaN</td>\n      <td>NaN</td>\n      <td>NaN</td>\n      <td>NaN</td>\n      <td>NaN</td>\n      <td>NaN</td>\n      <td>NaN</td>\n      <td>NaN</td>\n      <td>NaN</td>\n      <td>NaN</td>\n    </tr>\n    <tr>\n      <td>3</td>\n      <td>29513052</td>\n      <td>141765</td>\n      <td>1534</td>\n      <td>NaN</td>\n      <td>NaN</td>\n      <td>92.0</td>\n      <td>NaN</td>\n      <td>NaN</td>\n      <td>NaN</td>\n      <td>NaN</td>\n      <td>NaN</td>\n      <td>NaN</td>\n      <td>NaN</td>\n      <td>NaN</td>\n      <td>NaN</td>\n      <td>NaN</td>\n      <td>NaN</td>\n      <td>NaN</td>\n      <td>NaN</td>\n    </tr>\n    <tr>\n      <td>4</td>\n      <td>29524600</td>\n      <td>141765</td>\n      <td>1164</td>\n      <td>NaN</td>\n      <td>NaN</td>\n      <td>86.0</td>\n      <td>NaN</td>\n      <td>NaN</td>\n      <td>NaN</td>\n      <td>NaN</td>\n      <td>NaN</td>\n      <td>NaN</td>\n      <td>NaN</td>\n      <td>NaN</td>\n      <td>NaN</td>\n      <td>NaN</td>\n      <td>NaN</td>\n      <td>NaN</td>\n      <td>NaN</td>\n    </tr>\n  </tbody>\n</table>\n</div>"
     },
     "metadata": {},
     "output_type": "execute_result",
     "execution_count": 4
    }
   ],
   "source": [
    "vitalperiodic = pd.read_csv('../eICU' + database_type + '/vitalPeriodic.csv')\n",
    "vitalperiodic.head()"
   ],
   "metadata": {
    "collapsed": false,
    "pycharm": {
     "name": "#%%\n",
     "is_executing": false
    }
   }
  },
  {
   "cell_type": "code",
   "execution_count": 5,
   "outputs": [
    {
     "data": {
      "text/plain": "        vitalperiodicid  patientunitstayid  observationoffset  temperature  \\\n490678        572647570            1071224              -2843          NaN   \n490918        572647498            1071224              -2838          NaN   \n490654        572647426            1071224              -2833          NaN   \n490726        572647354            1071224              -2828          NaN   \n490714        572647282            1071224              -2823          NaN   \n\n        sao2  heartrate  respiration  cvp  etco2  systemicsystolic  \\\n490678  98.0       62.0         14.0  NaN    NaN               NaN   \n490918  99.0       63.0         14.0  NaN    NaN               NaN   \n490654  98.0       62.0         15.0  NaN    NaN               NaN   \n490726  99.0       63.0         15.0  NaN    NaN               NaN   \n490714  98.0       64.0         15.0  NaN    NaN               NaN   \n\n        systemicdiastolic  systemicmean  pasystolic  padiastolic  pamean  st1  \\\n490678                NaN           NaN         NaN          NaN     NaN  NaN   \n490918                NaN           NaN         NaN          NaN     NaN  NaN   \n490654                NaN           NaN         NaN          NaN     NaN  NaN   \n490726                NaN           NaN         NaN          NaN     NaN  NaN   \n490714                NaN           NaN         NaN          NaN     NaN  NaN   \n\n        st2  st3  icp  \n490678  NaN  NaN  NaN  \n490918  NaN  NaN  NaN  \n490654  NaN  NaN  NaN  \n490726  NaN  NaN  NaN  \n490714  NaN  NaN  NaN  ",
      "text/html": "<div>\n<style scoped>\n    .dataframe tbody tr th:only-of-type {\n        vertical-align: middle;\n    }\n\n    .dataframe tbody tr th {\n        vertical-align: top;\n    }\n\n    .dataframe thead th {\n        text-align: right;\n    }\n</style>\n<table border=\"1\" class=\"dataframe\">\n  <thead>\n    <tr style=\"text-align: right;\">\n      <th></th>\n      <th>vitalperiodicid</th>\n      <th>patientunitstayid</th>\n      <th>observationoffset</th>\n      <th>temperature</th>\n      <th>sao2</th>\n      <th>heartrate</th>\n      <th>respiration</th>\n      <th>cvp</th>\n      <th>etco2</th>\n      <th>systemicsystolic</th>\n      <th>systemicdiastolic</th>\n      <th>systemicmean</th>\n      <th>pasystolic</th>\n      <th>padiastolic</th>\n      <th>pamean</th>\n      <th>st1</th>\n      <th>st2</th>\n      <th>st3</th>\n      <th>icp</th>\n    </tr>\n  </thead>\n  <tbody>\n    <tr>\n      <td>490678</td>\n      <td>572647570</td>\n      <td>1071224</td>\n      <td>-2843</td>\n      <td>NaN</td>\n      <td>98.0</td>\n      <td>62.0</td>\n      <td>14.0</td>\n      <td>NaN</td>\n      <td>NaN</td>\n      <td>NaN</td>\n      <td>NaN</td>\n      <td>NaN</td>\n      <td>NaN</td>\n      <td>NaN</td>\n      <td>NaN</td>\n      <td>NaN</td>\n      <td>NaN</td>\n      <td>NaN</td>\n      <td>NaN</td>\n    </tr>\n    <tr>\n      <td>490918</td>\n      <td>572647498</td>\n      <td>1071224</td>\n      <td>-2838</td>\n      <td>NaN</td>\n      <td>99.0</td>\n      <td>63.0</td>\n      <td>14.0</td>\n      <td>NaN</td>\n      <td>NaN</td>\n      <td>NaN</td>\n      <td>NaN</td>\n      <td>NaN</td>\n      <td>NaN</td>\n      <td>NaN</td>\n      <td>NaN</td>\n      <td>NaN</td>\n      <td>NaN</td>\n      <td>NaN</td>\n      <td>NaN</td>\n    </tr>\n    <tr>\n      <td>490654</td>\n      <td>572647426</td>\n      <td>1071224</td>\n      <td>-2833</td>\n      <td>NaN</td>\n      <td>98.0</td>\n      <td>62.0</td>\n      <td>15.0</td>\n      <td>NaN</td>\n      <td>NaN</td>\n      <td>NaN</td>\n      <td>NaN</td>\n      <td>NaN</td>\n      <td>NaN</td>\n      <td>NaN</td>\n      <td>NaN</td>\n      <td>NaN</td>\n      <td>NaN</td>\n      <td>NaN</td>\n      <td>NaN</td>\n    </tr>\n    <tr>\n      <td>490726</td>\n      <td>572647354</td>\n      <td>1071224</td>\n      <td>-2828</td>\n      <td>NaN</td>\n      <td>99.0</td>\n      <td>63.0</td>\n      <td>15.0</td>\n      <td>NaN</td>\n      <td>NaN</td>\n      <td>NaN</td>\n      <td>NaN</td>\n      <td>NaN</td>\n      <td>NaN</td>\n      <td>NaN</td>\n      <td>NaN</td>\n      <td>NaN</td>\n      <td>NaN</td>\n      <td>NaN</td>\n      <td>NaN</td>\n    </tr>\n    <tr>\n      <td>490714</td>\n      <td>572647282</td>\n      <td>1071224</td>\n      <td>-2823</td>\n      <td>NaN</td>\n      <td>98.0</td>\n      <td>64.0</td>\n      <td>15.0</td>\n      <td>NaN</td>\n      <td>NaN</td>\n      <td>NaN</td>\n      <td>NaN</td>\n      <td>NaN</td>\n      <td>NaN</td>\n      <td>NaN</td>\n      <td>NaN</td>\n      <td>NaN</td>\n      <td>NaN</td>\n      <td>NaN</td>\n      <td>NaN</td>\n    </tr>\n  </tbody>\n</table>\n</div>"
     },
     "metadata": {},
     "output_type": "execute_result",
     "execution_count": 5
    }
   ],
   "source": [
    "vitalperiodic = vitalperiodic.sort_values(by='observationoffset')\n",
    "vitalperiodic.head()"
   ],
   "metadata": {
    "collapsed": false,
    "pycharm": {
     "name": "#%%\n",
     "is_executing": false
    }
   }
  },
  {
   "cell_type": "code",
   "execution_count": 6,
   "outputs": [
    {
     "data": {
      "text/plain": "                   patientunitstayid  temperature  sao2  heartrate  \\\nobservationoffset                                                    \n-2843                        1071224          NaN  98.0       62.0   \n-2838                        1071224          NaN  99.0       63.0   \n-2833                        1071224          NaN  98.0       62.0   \n-2828                        1071224          NaN  99.0       63.0   \n-2823                        1071224          NaN  98.0       64.0   \n\n                   respiration  cvp  etco2  systemicsystolic  \\\nobservationoffset                                              \n-2843                     14.0  NaN    NaN               NaN   \n-2838                     14.0  NaN    NaN               NaN   \n-2833                     15.0  NaN    NaN               NaN   \n-2828                     15.0  NaN    NaN               NaN   \n-2823                     15.0  NaN    NaN               NaN   \n\n                   systemicdiastolic  systemicmean  pasystolic  padiastolic  \\\nobservationoffset                                                             \n-2843                            NaN           NaN         NaN          NaN   \n-2838                            NaN           NaN         NaN          NaN   \n-2833                            NaN           NaN         NaN          NaN   \n-2828                            NaN           NaN         NaN          NaN   \n-2823                            NaN           NaN         NaN          NaN   \n\n                   pamean  st1  st2  st3  icp  \nobservationoffset                              \n-2843                 NaN  NaN  NaN  NaN  NaN  \n-2838                 NaN  NaN  NaN  NaN  NaN  \n-2833                 NaN  NaN  NaN  NaN  NaN  \n-2828                 NaN  NaN  NaN  NaN  NaN  \n-2823                 NaN  NaN  NaN  NaN  NaN  ",
      "text/html": "<div>\n<style scoped>\n    .dataframe tbody tr th:only-of-type {\n        vertical-align: middle;\n    }\n\n    .dataframe tbody tr th {\n        vertical-align: top;\n    }\n\n    .dataframe thead th {\n        text-align: right;\n    }\n</style>\n<table border=\"1\" class=\"dataframe\">\n  <thead>\n    <tr style=\"text-align: right;\">\n      <th></th>\n      <th>patientunitstayid</th>\n      <th>temperature</th>\n      <th>sao2</th>\n      <th>heartrate</th>\n      <th>respiration</th>\n      <th>cvp</th>\n      <th>etco2</th>\n      <th>systemicsystolic</th>\n      <th>systemicdiastolic</th>\n      <th>systemicmean</th>\n      <th>pasystolic</th>\n      <th>padiastolic</th>\n      <th>pamean</th>\n      <th>st1</th>\n      <th>st2</th>\n      <th>st3</th>\n      <th>icp</th>\n    </tr>\n    <tr>\n      <th>observationoffset</th>\n      <th></th>\n      <th></th>\n      <th></th>\n      <th></th>\n      <th></th>\n      <th></th>\n      <th></th>\n      <th></th>\n      <th></th>\n      <th></th>\n      <th></th>\n      <th></th>\n      <th></th>\n      <th></th>\n      <th></th>\n      <th></th>\n      <th></th>\n    </tr>\n  </thead>\n  <tbody>\n    <tr>\n      <td>-2843</td>\n      <td>1071224</td>\n      <td>NaN</td>\n      <td>98.0</td>\n      <td>62.0</td>\n      <td>14.0</td>\n      <td>NaN</td>\n      <td>NaN</td>\n      <td>NaN</td>\n      <td>NaN</td>\n      <td>NaN</td>\n      <td>NaN</td>\n      <td>NaN</td>\n      <td>NaN</td>\n      <td>NaN</td>\n      <td>NaN</td>\n      <td>NaN</td>\n      <td>NaN</td>\n    </tr>\n    <tr>\n      <td>-2838</td>\n      <td>1071224</td>\n      <td>NaN</td>\n      <td>99.0</td>\n      <td>63.0</td>\n      <td>14.0</td>\n      <td>NaN</td>\n      <td>NaN</td>\n      <td>NaN</td>\n      <td>NaN</td>\n      <td>NaN</td>\n      <td>NaN</td>\n      <td>NaN</td>\n      <td>NaN</td>\n      <td>NaN</td>\n      <td>NaN</td>\n      <td>NaN</td>\n      <td>NaN</td>\n    </tr>\n    <tr>\n      <td>-2833</td>\n      <td>1071224</td>\n      <td>NaN</td>\n      <td>98.0</td>\n      <td>62.0</td>\n      <td>15.0</td>\n      <td>NaN</td>\n      <td>NaN</td>\n      <td>NaN</td>\n      <td>NaN</td>\n      <td>NaN</td>\n      <td>NaN</td>\n      <td>NaN</td>\n      <td>NaN</td>\n      <td>NaN</td>\n      <td>NaN</td>\n      <td>NaN</td>\n      <td>NaN</td>\n    </tr>\n    <tr>\n      <td>-2828</td>\n      <td>1071224</td>\n      <td>NaN</td>\n      <td>99.0</td>\n      <td>63.0</td>\n      <td>15.0</td>\n      <td>NaN</td>\n      <td>NaN</td>\n      <td>NaN</td>\n      <td>NaN</td>\n      <td>NaN</td>\n      <td>NaN</td>\n      <td>NaN</td>\n      <td>NaN</td>\n      <td>NaN</td>\n      <td>NaN</td>\n      <td>NaN</td>\n      <td>NaN</td>\n    </tr>\n    <tr>\n      <td>-2823</td>\n      <td>1071224</td>\n      <td>NaN</td>\n      <td>98.0</td>\n      <td>64.0</td>\n      <td>15.0</td>\n      <td>NaN</td>\n      <td>NaN</td>\n      <td>NaN</td>\n      <td>NaN</td>\n      <td>NaN</td>\n      <td>NaN</td>\n      <td>NaN</td>\n      <td>NaN</td>\n      <td>NaN</td>\n      <td>NaN</td>\n      <td>NaN</td>\n      <td>NaN</td>\n    </tr>\n  </tbody>\n</table>\n</div>"
     },
     "metadata": {},
     "output_type": "execute_result",
     "execution_count": 6
    }
   ],
   "source": [
    "columns = ['observationoffset', 'patientunitstayid','temperature','sao2','heartrate','respiration',\n",
    "          'cvp','etco2','systemicsystolic','systemicdiastolic','systemicmean',\n",
    "          'pasystolic','padiastolic','pamean','st1','st2','st3','icp']\n",
    "\n",
    "vitalperiodic = vitalperiodic[columns].set_index('observationoffset')\n",
    "vitalperiodic.head()"
   ],
   "metadata": {
    "collapsed": false,
    "pycharm": {
     "name": "#%%\n",
     "is_executing": false
    }
   }
  },
  {
   "cell_type": "markdown",
   "source": [
    "The `vitalAperiodic` table provides invasive vital sign data that is recorded at irregular intervals. \n",
    "See: http://eicu-crd.mit.edu/eicutables/vitalAperiodic/"
   ],
   "metadata": {
    "collapsed": false,
    "pycharm": {
     "name": "#%% md\n"
    }
   }
  },
  {
   "cell_type": "code",
   "execution_count": 7,
   "outputs": [
    {
     "data": {
      "text/plain": "   vitalaperiodicid  patientunitstayid  observationoffset  \\\n0           3661418             141764                 81   \n1           3661424             141764                334   \n2           3661417             141764                 77   \n3           3661419             141764                165   \n4           3661421             141764                255   \n\n   noninvasivesystolic  noninvasivediastolic  noninvasivemean  paop  \\\n0                171.0                  90.0            116.0   NaN   \n1                153.0                  78.0            103.0   NaN   \n2                176.0                  87.0            107.0   NaN   \n3                173.0                 106.0            128.0   NaN   \n4                182.0                 103.0            133.0   NaN   \n\n   cardiacoutput  cardiacinput  svr  svri  pvr  pvri  \n0            NaN           NaN  NaN   NaN  NaN   NaN  \n1            NaN           NaN  NaN   NaN  NaN   NaN  \n2            NaN           NaN  NaN   NaN  NaN   NaN  \n3            NaN           NaN  NaN   NaN  NaN   NaN  \n4            NaN           NaN  NaN   NaN  NaN   NaN  ",
      "text/html": "<div>\n<style scoped>\n    .dataframe tbody tr th:only-of-type {\n        vertical-align: middle;\n    }\n\n    .dataframe tbody tr th {\n        vertical-align: top;\n    }\n\n    .dataframe thead th {\n        text-align: right;\n    }\n</style>\n<table border=\"1\" class=\"dataframe\">\n  <thead>\n    <tr style=\"text-align: right;\">\n      <th></th>\n      <th>vitalaperiodicid</th>\n      <th>patientunitstayid</th>\n      <th>observationoffset</th>\n      <th>noninvasivesystolic</th>\n      <th>noninvasivediastolic</th>\n      <th>noninvasivemean</th>\n      <th>paop</th>\n      <th>cardiacoutput</th>\n      <th>cardiacinput</th>\n      <th>svr</th>\n      <th>svri</th>\n      <th>pvr</th>\n      <th>pvri</th>\n    </tr>\n  </thead>\n  <tbody>\n    <tr>\n      <td>0</td>\n      <td>3661418</td>\n      <td>141764</td>\n      <td>81</td>\n      <td>171.0</td>\n      <td>90.0</td>\n      <td>116.0</td>\n      <td>NaN</td>\n      <td>NaN</td>\n      <td>NaN</td>\n      <td>NaN</td>\n      <td>NaN</td>\n      <td>NaN</td>\n      <td>NaN</td>\n    </tr>\n    <tr>\n      <td>1</td>\n      <td>3661424</td>\n      <td>141764</td>\n      <td>334</td>\n      <td>153.0</td>\n      <td>78.0</td>\n      <td>103.0</td>\n      <td>NaN</td>\n      <td>NaN</td>\n      <td>NaN</td>\n      <td>NaN</td>\n      <td>NaN</td>\n      <td>NaN</td>\n      <td>NaN</td>\n    </tr>\n    <tr>\n      <td>2</td>\n      <td>3661417</td>\n      <td>141764</td>\n      <td>77</td>\n      <td>176.0</td>\n      <td>87.0</td>\n      <td>107.0</td>\n      <td>NaN</td>\n      <td>NaN</td>\n      <td>NaN</td>\n      <td>NaN</td>\n      <td>NaN</td>\n      <td>NaN</td>\n      <td>NaN</td>\n    </tr>\n    <tr>\n      <td>3</td>\n      <td>3661419</td>\n      <td>141764</td>\n      <td>165</td>\n      <td>173.0</td>\n      <td>106.0</td>\n      <td>128.0</td>\n      <td>NaN</td>\n      <td>NaN</td>\n      <td>NaN</td>\n      <td>NaN</td>\n      <td>NaN</td>\n      <td>NaN</td>\n      <td>NaN</td>\n    </tr>\n    <tr>\n      <td>4</td>\n      <td>3661421</td>\n      <td>141764</td>\n      <td>255</td>\n      <td>182.0</td>\n      <td>103.0</td>\n      <td>133.0</td>\n      <td>NaN</td>\n      <td>NaN</td>\n      <td>NaN</td>\n      <td>NaN</td>\n      <td>NaN</td>\n      <td>NaN</td>\n      <td>NaN</td>\n    </tr>\n  </tbody>\n</table>\n</div>"
     },
     "metadata": {},
     "output_type": "execute_result",
     "execution_count": 7
    }
   ],
   "source": [
    "vitalaperiodic = pd.read_csv('../eICU' + database_type + '/vitalAperiodic.csv')\n",
    "vitalaperiodic.head()"
   ],
   "metadata": {
    "collapsed": false,
    "pycharm": {
     "name": "#%%\n",
     "is_executing": false
    }
   }
  },
  {
   "cell_type": "code",
   "execution_count": 8,
   "outputs": [
    {
     "data": {
      "text/plain": "       vitalaperiodicid  patientunitstayid  observationoffset  \\\n78873         167251372            1071224              -2845   \n78825         167251373            1071224              -2836   \n78801         167251374            1071224              -2821   \n78789         167251375            1071224              -2806   \n78807         167251376            1071224              -2791   \n\n       noninvasivesystolic  noninvasivediastolic  noninvasivemean  paop  \\\n78873                123.0                  98.0            103.0   NaN   \n78825                  NaN                   NaN             84.0   NaN   \n78801                120.0                  89.0             97.0   NaN   \n78789                133.0                  67.0             84.0   NaN   \n78807                  NaN                   NaN            137.0   NaN   \n\n       cardiacoutput  cardiacinput  svr  svri  pvr  pvri  \n78873            NaN           NaN  NaN   NaN  NaN   NaN  \n78825            NaN           NaN  NaN   NaN  NaN   NaN  \n78801            NaN           NaN  NaN   NaN  NaN   NaN  \n78789            NaN           NaN  NaN   NaN  NaN   NaN  \n78807            NaN           NaN  NaN   NaN  NaN   NaN  ",
      "text/html": "<div>\n<style scoped>\n    .dataframe tbody tr th:only-of-type {\n        vertical-align: middle;\n    }\n\n    .dataframe tbody tr th {\n        vertical-align: top;\n    }\n\n    .dataframe thead th {\n        text-align: right;\n    }\n</style>\n<table border=\"1\" class=\"dataframe\">\n  <thead>\n    <tr style=\"text-align: right;\">\n      <th></th>\n      <th>vitalaperiodicid</th>\n      <th>patientunitstayid</th>\n      <th>observationoffset</th>\n      <th>noninvasivesystolic</th>\n      <th>noninvasivediastolic</th>\n      <th>noninvasivemean</th>\n      <th>paop</th>\n      <th>cardiacoutput</th>\n      <th>cardiacinput</th>\n      <th>svr</th>\n      <th>svri</th>\n      <th>pvr</th>\n      <th>pvri</th>\n    </tr>\n  </thead>\n  <tbody>\n    <tr>\n      <td>78873</td>\n      <td>167251372</td>\n      <td>1071224</td>\n      <td>-2845</td>\n      <td>123.0</td>\n      <td>98.0</td>\n      <td>103.0</td>\n      <td>NaN</td>\n      <td>NaN</td>\n      <td>NaN</td>\n      <td>NaN</td>\n      <td>NaN</td>\n      <td>NaN</td>\n      <td>NaN</td>\n    </tr>\n    <tr>\n      <td>78825</td>\n      <td>167251373</td>\n      <td>1071224</td>\n      <td>-2836</td>\n      <td>NaN</td>\n      <td>NaN</td>\n      <td>84.0</td>\n      <td>NaN</td>\n      <td>NaN</td>\n      <td>NaN</td>\n      <td>NaN</td>\n      <td>NaN</td>\n      <td>NaN</td>\n      <td>NaN</td>\n    </tr>\n    <tr>\n      <td>78801</td>\n      <td>167251374</td>\n      <td>1071224</td>\n      <td>-2821</td>\n      <td>120.0</td>\n      <td>89.0</td>\n      <td>97.0</td>\n      <td>NaN</td>\n      <td>NaN</td>\n      <td>NaN</td>\n      <td>NaN</td>\n      <td>NaN</td>\n      <td>NaN</td>\n      <td>NaN</td>\n    </tr>\n    <tr>\n      <td>78789</td>\n      <td>167251375</td>\n      <td>1071224</td>\n      <td>-2806</td>\n      <td>133.0</td>\n      <td>67.0</td>\n      <td>84.0</td>\n      <td>NaN</td>\n      <td>NaN</td>\n      <td>NaN</td>\n      <td>NaN</td>\n      <td>NaN</td>\n      <td>NaN</td>\n      <td>NaN</td>\n    </tr>\n    <tr>\n      <td>78807</td>\n      <td>167251376</td>\n      <td>1071224</td>\n      <td>-2791</td>\n      <td>NaN</td>\n      <td>NaN</td>\n      <td>137.0</td>\n      <td>NaN</td>\n      <td>NaN</td>\n      <td>NaN</td>\n      <td>NaN</td>\n      <td>NaN</td>\n      <td>NaN</td>\n      <td>NaN</td>\n    </tr>\n  </tbody>\n</table>\n</div>"
     },
     "metadata": {},
     "output_type": "execute_result",
     "execution_count": 8
    }
   ],
   "source": [
    "vitalaperiodic = vitalaperiodic.sort_values(by='observationoffset')\n",
    "vitalaperiodic.head()"
   ],
   "metadata": {
    "collapsed": false,
    "pycharm": {
     "name": "#%%\n",
     "is_executing": false
    }
   }
  },
  {
   "cell_type": "code",
   "execution_count": 9,
   "outputs": [
    {
     "data": {
      "text/plain": "                   patientunitstayid  noninvasivesystolic  \\\nobservationoffset                                           \n-2845                        1071224                123.0   \n-2836                        1071224                  NaN   \n-2821                        1071224                120.0   \n-2806                        1071224                133.0   \n-2791                        1071224                  NaN   \n\n                   noninvasivediastolic  noninvasivemean  paop  cardiacoutput  \\\nobservationoffset                                                               \n-2845                              98.0            103.0   NaN            NaN   \n-2836                               NaN             84.0   NaN            NaN   \n-2821                              89.0             97.0   NaN            NaN   \n-2806                              67.0             84.0   NaN            NaN   \n-2791                               NaN            137.0   NaN            NaN   \n\n                   cardiacinput  svr  svri  pvr  pvri  \nobservationoffset                                      \n-2845                       NaN  NaN   NaN  NaN   NaN  \n-2836                       NaN  NaN   NaN  NaN   NaN  \n-2821                       NaN  NaN   NaN  NaN   NaN  \n-2806                       NaN  NaN   NaN  NaN   NaN  \n-2791                       NaN  NaN   NaN  NaN   NaN  ",
      "text/html": "<div>\n<style scoped>\n    .dataframe tbody tr th:only-of-type {\n        vertical-align: middle;\n    }\n\n    .dataframe tbody tr th {\n        vertical-align: top;\n    }\n\n    .dataframe thead th {\n        text-align: right;\n    }\n</style>\n<table border=\"1\" class=\"dataframe\">\n  <thead>\n    <tr style=\"text-align: right;\">\n      <th></th>\n      <th>patientunitstayid</th>\n      <th>noninvasivesystolic</th>\n      <th>noninvasivediastolic</th>\n      <th>noninvasivemean</th>\n      <th>paop</th>\n      <th>cardiacoutput</th>\n      <th>cardiacinput</th>\n      <th>svr</th>\n      <th>svri</th>\n      <th>pvr</th>\n      <th>pvri</th>\n    </tr>\n    <tr>\n      <th>observationoffset</th>\n      <th></th>\n      <th></th>\n      <th></th>\n      <th></th>\n      <th></th>\n      <th></th>\n      <th></th>\n      <th></th>\n      <th></th>\n      <th></th>\n      <th></th>\n    </tr>\n  </thead>\n  <tbody>\n    <tr>\n      <td>-2845</td>\n      <td>1071224</td>\n      <td>123.0</td>\n      <td>98.0</td>\n      <td>103.0</td>\n      <td>NaN</td>\n      <td>NaN</td>\n      <td>NaN</td>\n      <td>NaN</td>\n      <td>NaN</td>\n      <td>NaN</td>\n      <td>NaN</td>\n    </tr>\n    <tr>\n      <td>-2836</td>\n      <td>1071224</td>\n      <td>NaN</td>\n      <td>NaN</td>\n      <td>84.0</td>\n      <td>NaN</td>\n      <td>NaN</td>\n      <td>NaN</td>\n      <td>NaN</td>\n      <td>NaN</td>\n      <td>NaN</td>\n      <td>NaN</td>\n    </tr>\n    <tr>\n      <td>-2821</td>\n      <td>1071224</td>\n      <td>120.0</td>\n      <td>89.0</td>\n      <td>97.0</td>\n      <td>NaN</td>\n      <td>NaN</td>\n      <td>NaN</td>\n      <td>NaN</td>\n      <td>NaN</td>\n      <td>NaN</td>\n      <td>NaN</td>\n    </tr>\n    <tr>\n      <td>-2806</td>\n      <td>1071224</td>\n      <td>133.0</td>\n      <td>67.0</td>\n      <td>84.0</td>\n      <td>NaN</td>\n      <td>NaN</td>\n      <td>NaN</td>\n      <td>NaN</td>\n      <td>NaN</td>\n      <td>NaN</td>\n      <td>NaN</td>\n    </tr>\n    <tr>\n      <td>-2791</td>\n      <td>1071224</td>\n      <td>NaN</td>\n      <td>NaN</td>\n      <td>137.0</td>\n      <td>NaN</td>\n      <td>NaN</td>\n      <td>NaN</td>\n      <td>NaN</td>\n      <td>NaN</td>\n      <td>NaN</td>\n      <td>NaN</td>\n    </tr>\n  </tbody>\n</table>\n</div>"
     },
     "metadata": {},
     "output_type": "execute_result",
     "execution_count": 9
    }
   ],
   "source": [
    "# subselect the variable columns\n",
    "columns = ['observationoffset', 'patientunitstayid','noninvasivesystolic','noninvasivediastolic',\n",
    "          'noninvasivemean','paop','cardiacoutput','cardiacinput','svr',\n",
    "          'svri','pvr','pvri']\n",
    "\n",
    "vitalaperiodic = vitalaperiodic[columns].set_index('observationoffset')\n",
    "vitalaperiodic.head()\n"
   ],
   "metadata": {
    "collapsed": false,
    "pycharm": {
     "name": "#%%\n",
     "is_executing": false
    }
   }
  }
 ],
 "metadata": {
  "kernelspec": {
   "display_name": "Python 3",
   "language": "python",
   "name": "python3"
  },
  "language_info": {
   "codemirror_mode": {
    "name": "ipython",
    "version": 2
   },
   "file_extension": ".py",
   "mimetype": "text/x-python",
   "name": "python",
   "nbconvert_exporter": "python",
   "pygments_lexer": "ipython2",
   "version": "2.7.6"
  },
  "pycharm": {
   "stem_cell": {
    "cell_type": "raw",
    "source": [],
    "metadata": {
     "collapsed": false
    }
   }
  }
 },
 "nbformat": 4,
 "nbformat_minor": 0
}