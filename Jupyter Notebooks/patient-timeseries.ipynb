{
 "cells": [
  {
   "cell_type": "code",
   "execution_count": 1,
   "metadata": {
    "pycharm": {
     "is_executing": false
    }
   },
   "outputs": [],
   "source": [
    "%load_ext autoreload\n",
    "%autoreload 2"
   ]
  },
  {
   "cell_type": "code",
   "execution_count": 2,
   "metadata": {
    "collapsed": false,
    "jupyter": {
     "outputs_hidden": false
    },
    "pycharm": {
     "is_executing": false,
     "name": "#%%\n"
    }
   },
   "outputs": [],
   "source": [
    "import pandas as pd\n",
    "# import numpy as np"
   ]
  },
  {
   "cell_type": "code",
   "execution_count": 3,
   "metadata": {
    "collapsed": false,
    "jupyter": {
     "outputs_hidden": false
    },
    "pycharm": {
     "is_executing": false,
     "name": "#%%\n"
    }
   },
   "outputs": [],
   "source": [
    "database_type = \"/full\""
   ]
  },
  {
   "cell_type": "markdown",
   "metadata": {},
   "source": [
    "The `patient` table includes general information about the patient admissions (for example, demographics, admission and discharge details). \n",
    "See: http://eicu-crd.mit.edu/eicutables/patient/"
   ]
  },
  {
   "cell_type": "code",
   "execution_count": 4,
   "metadata": {
    "collapsed": false,
    "jupyter": {
     "outputs_hidden": false
    },
    "pycharm": {
     "is_executing": false,
     "name": "#%%\n"
    }
   },
   "outputs": [
    {
     "data": {
      "text/plain": "                   admissionweight\npatientunitstayid                 \n141168                        84.3\n141178                        54.4\n141179                         NaN\n141194                        73.9\n141196                         NaN\n...                            ...\n3353235                       90.0\n3353237                       78.4\n3353251                      102.0\n3353254                       83.9\n3353263                      100.8\n\n[200859 rows x 1 columns]",
      "text/html": "<div>\n<style scoped>\n    .dataframe tbody tr th:only-of-type {\n        vertical-align: middle;\n    }\n\n    .dataframe tbody tr th {\n        vertical-align: top;\n    }\n\n    .dataframe thead th {\n        text-align: right;\n    }\n</style>\n<table border=\"1\" class=\"dataframe\">\n  <thead>\n    <tr style=\"text-align: right;\">\n      <th></th>\n      <th>admissionweight</th>\n    </tr>\n    <tr>\n      <th>patientunitstayid</th>\n      <th></th>\n    </tr>\n  </thead>\n  <tbody>\n    <tr>\n      <td>141168</td>\n      <td>84.3</td>\n    </tr>\n    <tr>\n      <td>141178</td>\n      <td>54.4</td>\n    </tr>\n    <tr>\n      <td>141179</td>\n      <td>NaN</td>\n    </tr>\n    <tr>\n      <td>141194</td>\n      <td>73.9</td>\n    </tr>\n    <tr>\n      <td>141196</td>\n      <td>NaN</td>\n    </tr>\n    <tr>\n      <td>...</td>\n      <td>...</td>\n    </tr>\n    <tr>\n      <td>3353235</td>\n      <td>90.0</td>\n    </tr>\n    <tr>\n      <td>3353237</td>\n      <td>78.4</td>\n    </tr>\n    <tr>\n      <td>3353251</td>\n      <td>102.0</td>\n    </tr>\n    <tr>\n      <td>3353254</td>\n      <td>83.9</td>\n    </tr>\n    <tr>\n      <td>3353263</td>\n      <td>100.8</td>\n    </tr>\n  </tbody>\n</table>\n<p>200859 rows × 1 columns</p>\n</div>"
     },
     "metadata": {},
     "output_type": "execute_result",
     "execution_count": 4
    }
   ],
   "source": [
    "# loads patient table\n",
    "patient = pd.read_csv('../eICU' + database_type + '/patient.csv', nrows=999999) \n",
    "patient = patient[['patientunitstayid', 'admissionweight']].set_index('patientunitstayid')\n",
    "patient"
   ]
  },
  {
   "cell_type": "markdown",
   "metadata": {},
   "source": [
    "The `vitalperiodic` table comprises data that is consistently interfaced from bedside vital signs monitors into eCareManager. \n",
    "Data are generally interfaced as 1 minute averages, and archived into the `vitalperiodic` table as 5 minute median values. \n",
    "For more detail, see: http://eicu-crd.mit.edu/eicutables/vitalPeriodic/"
   ]
  },
  {
   "cell_type": "code",
   "execution_count": 5,
   "metadata": {
    "collapsed": false,
    "jupyter": {
     "outputs_hidden": false
    },
    "pycharm": {
     "is_executing": false,
     "name": "#%%\n"
    }
   },
   "outputs": [
    {
     "data": {
      "text/plain": "        patientunitstayid  observationoffset  temperature  heartrate  \\\n653065             148349              -1445          NaN       60.0   \n653071             148349              -1440          NaN       60.0   \n790455             150049              -1435          NaN       96.0   \n479374             146418              -1435          NaN       71.0   \n653145             148349              -1435          NaN       60.0   \n...                   ...                ...          ...        ...   \n273524             144297              71778          NaN       72.0   \n273140             144297              71783          NaN       72.0   \n273956             144297              71788          NaN       72.0   \n275114             144297              71793          NaN       72.0   \n272804             144297              71798          NaN       74.0   \n\n        respiration  systemicsystolic  \n653065         20.0               NaN  \n653071         21.0               NaN  \n790455         19.0               NaN  \n479374         23.0               NaN  \n653145         21.0               NaN  \n...             ...               ...  \n273524         33.0               NaN  \n273140         27.0               NaN  \n273956         34.0               NaN  \n275114         33.0               NaN  \n272804         31.0               NaN  \n\n[999999 rows x 6 columns]",
      "text/html": "<div>\n<style scoped>\n    .dataframe tbody tr th:only-of-type {\n        vertical-align: middle;\n    }\n\n    .dataframe tbody tr th {\n        vertical-align: top;\n    }\n\n    .dataframe thead th {\n        text-align: right;\n    }\n</style>\n<table border=\"1\" class=\"dataframe\">\n  <thead>\n    <tr style=\"text-align: right;\">\n      <th></th>\n      <th>patientunitstayid</th>\n      <th>observationoffset</th>\n      <th>temperature</th>\n      <th>heartrate</th>\n      <th>respiration</th>\n      <th>systemicsystolic</th>\n    </tr>\n  </thead>\n  <tbody>\n    <tr>\n      <td>653065</td>\n      <td>148349</td>\n      <td>-1445</td>\n      <td>NaN</td>\n      <td>60.0</td>\n      <td>20.0</td>\n      <td>NaN</td>\n    </tr>\n    <tr>\n      <td>653071</td>\n      <td>148349</td>\n      <td>-1440</td>\n      <td>NaN</td>\n      <td>60.0</td>\n      <td>21.0</td>\n      <td>NaN</td>\n    </tr>\n    <tr>\n      <td>790455</td>\n      <td>150049</td>\n      <td>-1435</td>\n      <td>NaN</td>\n      <td>96.0</td>\n      <td>19.0</td>\n      <td>NaN</td>\n    </tr>\n    <tr>\n      <td>479374</td>\n      <td>146418</td>\n      <td>-1435</td>\n      <td>NaN</td>\n      <td>71.0</td>\n      <td>23.0</td>\n      <td>NaN</td>\n    </tr>\n    <tr>\n      <td>653145</td>\n      <td>148349</td>\n      <td>-1435</td>\n      <td>NaN</td>\n      <td>60.0</td>\n      <td>21.0</td>\n      <td>NaN</td>\n    </tr>\n    <tr>\n      <td>...</td>\n      <td>...</td>\n      <td>...</td>\n      <td>...</td>\n      <td>...</td>\n      <td>...</td>\n      <td>...</td>\n    </tr>\n    <tr>\n      <td>273524</td>\n      <td>144297</td>\n      <td>71778</td>\n      <td>NaN</td>\n      <td>72.0</td>\n      <td>33.0</td>\n      <td>NaN</td>\n    </tr>\n    <tr>\n      <td>273140</td>\n      <td>144297</td>\n      <td>71783</td>\n      <td>NaN</td>\n      <td>72.0</td>\n      <td>27.0</td>\n      <td>NaN</td>\n    </tr>\n    <tr>\n      <td>273956</td>\n      <td>144297</td>\n      <td>71788</td>\n      <td>NaN</td>\n      <td>72.0</td>\n      <td>34.0</td>\n      <td>NaN</td>\n    </tr>\n    <tr>\n      <td>275114</td>\n      <td>144297</td>\n      <td>71793</td>\n      <td>NaN</td>\n      <td>72.0</td>\n      <td>33.0</td>\n      <td>NaN</td>\n    </tr>\n    <tr>\n      <td>272804</td>\n      <td>144297</td>\n      <td>71798</td>\n      <td>NaN</td>\n      <td>74.0</td>\n      <td>31.0</td>\n      <td>NaN</td>\n    </tr>\n  </tbody>\n</table>\n<p>999999 rows × 6 columns</p>\n</div>"
     },
     "metadata": {},
     "output_type": "execute_result",
     "execution_count": 5
    }
   ],
   "source": [
    "vitalperiodic = pd.read_csv('../eICU' + database_type + '/vitalPeriodic.csv', nrows=999999)\n",
    "columns = ['patientunitstayid', 'observationoffset', 'temperature', 'heartrate', 'respiration', 'systemicsystolic']\n",
    "vitalperiodic = vitalperiodic[columns]\n",
    "vitalperiodic = vitalperiodic.sort_values(by='observationoffset')\n",
    "vitalperiodic"
   ]
  },
  {
   "cell_type": "markdown",
   "metadata": {},
   "source": [
    "The `lab` table provides Laboratory tests that have have been mapped to a standard set of measurements. \n",
    "Unmapped measurements are recorded in the customLab table.\n",
    "See: http://eicu-crd.mit.edu/eicutables/lab/"
   ]
  },
  {
   "cell_type": "code",
   "execution_count": 6,
   "metadata": {
    "collapsed": false,
    "jupyter": {
     "outputs_hidden": false
    },
    "pycharm": {
     "is_executing": false,
     "name": "#%%\n"
    }
   },
   "outputs": [
    {
     "data": {
      "text/plain": "        patientunitstayid  labresultoffset          labname  labresult\n0                  141168             2026       fibrinogen      177.0\n1                  141168             1133         PT - INR        2.5\n2                  141168             2026        magnesium        2.0\n3                  141168             1133               PT       26.6\n4                  141168             2141               pH        7.2\n...                   ...              ...              ...        ...\n999994             180812             7399  bedside glucose      207.0\n999995             180812            11983           sodium      140.0\n999996             180812              418               PT       53.0\n999997             180812              418           sodium      142.0\n999998             180812             4837               PT       14.4\n\n[999999 rows x 4 columns]",
      "text/html": "<div>\n<style scoped>\n    .dataframe tbody tr th:only-of-type {\n        vertical-align: middle;\n    }\n\n    .dataframe tbody tr th {\n        vertical-align: top;\n    }\n\n    .dataframe thead th {\n        text-align: right;\n    }\n</style>\n<table border=\"1\" class=\"dataframe\">\n  <thead>\n    <tr style=\"text-align: right;\">\n      <th></th>\n      <th>patientunitstayid</th>\n      <th>labresultoffset</th>\n      <th>labname</th>\n      <th>labresult</th>\n    </tr>\n  </thead>\n  <tbody>\n    <tr>\n      <td>0</td>\n      <td>141168</td>\n      <td>2026</td>\n      <td>fibrinogen</td>\n      <td>177.0</td>\n    </tr>\n    <tr>\n      <td>1</td>\n      <td>141168</td>\n      <td>1133</td>\n      <td>PT - INR</td>\n      <td>2.5</td>\n    </tr>\n    <tr>\n      <td>2</td>\n      <td>141168</td>\n      <td>2026</td>\n      <td>magnesium</td>\n      <td>2.0</td>\n    </tr>\n    <tr>\n      <td>3</td>\n      <td>141168</td>\n      <td>1133</td>\n      <td>PT</td>\n      <td>26.6</td>\n    </tr>\n    <tr>\n      <td>4</td>\n      <td>141168</td>\n      <td>2141</td>\n      <td>pH</td>\n      <td>7.2</td>\n    </tr>\n    <tr>\n      <td>...</td>\n      <td>...</td>\n      <td>...</td>\n      <td>...</td>\n      <td>...</td>\n    </tr>\n    <tr>\n      <td>999994</td>\n      <td>180812</td>\n      <td>7399</td>\n      <td>bedside glucose</td>\n      <td>207.0</td>\n    </tr>\n    <tr>\n      <td>999995</td>\n      <td>180812</td>\n      <td>11983</td>\n      <td>sodium</td>\n      <td>140.0</td>\n    </tr>\n    <tr>\n      <td>999996</td>\n      <td>180812</td>\n      <td>418</td>\n      <td>PT</td>\n      <td>53.0</td>\n    </tr>\n    <tr>\n      <td>999997</td>\n      <td>180812</td>\n      <td>418</td>\n      <td>sodium</td>\n      <td>142.0</td>\n    </tr>\n    <tr>\n      <td>999998</td>\n      <td>180812</td>\n      <td>4837</td>\n      <td>PT</td>\n      <td>14.4</td>\n    </tr>\n  </tbody>\n</table>\n<p>999999 rows × 4 columns</p>\n</div>"
     },
     "metadata": {},
     "output_type": "execute_result",
     "execution_count": 6
    }
   ],
   "source": [
    "lab = pd.read_csv('../eICU' + database_type + '/lab.csv', nrows=999999)\n",
    "columns = ['patientunitstayid', 'labresultoffset', 'labname', 'labresult']\n",
    "lab = lab[columns]\n",
    "# lab = lab.sort_values(by='labresultoffset')\n",
    "lab"
   ]
  },
  {
   "cell_type": "code",
   "execution_count": 7,
   "metadata": {
    "collapsed": false,
    "jupyter": {
     "outputs_hidden": false
    },
    "pycharm": {
     "is_executing": false,
     "name": "#%%\n"
    }
   },
   "outputs": [],
   "source": [
    "#converting labname 'urinary creatinine to 'creatinine'\n",
    "lab.loc[lab['labname'].str.contains(\"urinary creatinine\"), 'labname'] = \"creatinine\"\n",
    "\n",
    "# Only keeping rows where labname is 'WBC x 1000', 'lactate', 'creatinine'\n",
    "lab_name = ['WBC x 1000', 'lactate', 'creatinine']\n",
    "lab = lab[lab.labname.isin(lab_name)]\n",
    "\n",
    "# duplicating labs to transpose labresult and labname\n",
    "labc = lab.copy()\n",
    "labw = lab.copy()\n",
    "labl = lab.copy()\n",
    "\n",
    "labc = labc.loc[(labc['labname'].str.contains(\"creatinine\"))]\n",
    "labw = labw.loc[(labw['labname'].str.contains(\"WBC x 1000\"))]\n",
    "labl = labl.loc[(labl['labname'].str.contains(\"lactate\"))]"
   ]
  },
  {
   "cell_type": "code",
   "execution_count": 8,
   "metadata": {
    "pycharm": {
     "is_executing": false
    }
   },
   "outputs": [
    {
     "data": {
      "text/plain": "       patientunitstayid  labresultoffset  creatinine  wbcx1000  lactate\n0                 141168             1701      173.12       NaN      NaN\n1                 141168             2026        2.95      19.8     12.2\n2                 141168             1133        2.30      14.7      NaN\n3                 141168              516        1.95       9.8      NaN\n4                 141178             -280        0.70       7.6      NaN\n...                  ...              ...         ...       ...      ...\n30639             180812            10778        1.32       NaN      NaN\n30640             180812             4837        1.25       NaN      NaN\n30641             180812            13693        1.33       NaN      NaN\n30642             180812            14858        1.30       NaN      NaN\n30643             180812            11983        1.33       NaN      NaN\n\n[30644 rows x 5 columns]",
      "text/html": "<div>\n<style scoped>\n    .dataframe tbody tr th:only-of-type {\n        vertical-align: middle;\n    }\n\n    .dataframe tbody tr th {\n        vertical-align: top;\n    }\n\n    .dataframe thead th {\n        text-align: right;\n    }\n</style>\n<table border=\"1\" class=\"dataframe\">\n  <thead>\n    <tr style=\"text-align: right;\">\n      <th></th>\n      <th>patientunitstayid</th>\n      <th>labresultoffset</th>\n      <th>creatinine</th>\n      <th>wbcx1000</th>\n      <th>lactate</th>\n    </tr>\n  </thead>\n  <tbody>\n    <tr>\n      <td>0</td>\n      <td>141168</td>\n      <td>1701</td>\n      <td>173.12</td>\n      <td>NaN</td>\n      <td>NaN</td>\n    </tr>\n    <tr>\n      <td>1</td>\n      <td>141168</td>\n      <td>2026</td>\n      <td>2.95</td>\n      <td>19.8</td>\n      <td>12.2</td>\n    </tr>\n    <tr>\n      <td>2</td>\n      <td>141168</td>\n      <td>1133</td>\n      <td>2.30</td>\n      <td>14.7</td>\n      <td>NaN</td>\n    </tr>\n    <tr>\n      <td>3</td>\n      <td>141168</td>\n      <td>516</td>\n      <td>1.95</td>\n      <td>9.8</td>\n      <td>NaN</td>\n    </tr>\n    <tr>\n      <td>4</td>\n      <td>141178</td>\n      <td>-280</td>\n      <td>0.70</td>\n      <td>7.6</td>\n      <td>NaN</td>\n    </tr>\n    <tr>\n      <td>...</td>\n      <td>...</td>\n      <td>...</td>\n      <td>...</td>\n      <td>...</td>\n      <td>...</td>\n    </tr>\n    <tr>\n      <td>30639</td>\n      <td>180812</td>\n      <td>10778</td>\n      <td>1.32</td>\n      <td>NaN</td>\n      <td>NaN</td>\n    </tr>\n    <tr>\n      <td>30640</td>\n      <td>180812</td>\n      <td>4837</td>\n      <td>1.25</td>\n      <td>NaN</td>\n      <td>NaN</td>\n    </tr>\n    <tr>\n      <td>30641</td>\n      <td>180812</td>\n      <td>13693</td>\n      <td>1.33</td>\n      <td>NaN</td>\n      <td>NaN</td>\n    </tr>\n    <tr>\n      <td>30642</td>\n      <td>180812</td>\n      <td>14858</td>\n      <td>1.30</td>\n      <td>NaN</td>\n      <td>NaN</td>\n    </tr>\n    <tr>\n      <td>30643</td>\n      <td>180812</td>\n      <td>11983</td>\n      <td>1.33</td>\n      <td>NaN</td>\n      <td>NaN</td>\n    </tr>\n  </tbody>\n</table>\n<p>30644 rows × 5 columns</p>\n</div>"
     },
     "metadata": {},
     "output_type": "execute_result",
     "execution_count": 8
    }
   ],
   "source": [
    "# Transpose labresults and lab name to cols\n",
    "labc['creatinine'] = labc.apply(lambda x: x['labresult'] if x['labname'] == 'creatinine' else -1, axis=1)\n",
    "labw['wbcx1000'] = labw.apply(lambda x: x['labresult'] if x['labname'] == 'WBC x 1000' else -1, axis=1)\n",
    "labl['lactate'] = labl.apply(lambda x: x['labresult'] if x['labname'] == 'lactate' else -1, axis=1)\n",
    "\n",
    "labc = labc.drop(['labname', 'labresult'], axis = 1)\n",
    "labw = labw.drop(['labname', 'labresult'], axis = 1)\n",
    "labl = labl.drop(['labname', 'labresult'], axis = 1)\n",
    "\n",
    "# merge lab results dataframes\n",
    "finallab = labc.merge(labw, how = 'left', on = ['patientunitstayid', 'labresultoffset'])\n",
    "finallab = finallab.merge(labl, how = 'left', on = ['patientunitstayid', 'labresultoffset'])\n",
    "finallab.drop_duplicates()\n",
    "finallab"
   ]
  },
  {
   "cell_type": "markdown",
   "metadata": {},
   "source": [
    "The `intakeOutput` table provides Intake and output recorded for patients entered from the nursing flowsheet.\n",
    "See: http://eicu-crd.mit.edu/eicutables/intakeOutput/"
   ]
  },
  {
   "cell_type": "code",
   "execution_count": 9,
   "metadata": {
    "collapsed": false,
    "jupyter": {
     "outputs_hidden": false
    },
    "pycharm": {
     "is_executing": false,
     "name": "#%%\n"
    }
   },
   "outputs": [
    {
     "data": {
      "text/plain": "        patientunitstayid  admissionweight  intakeoutputoffset  intaketotal  \\\n0                  141179              NaN                1420          0.0   \n1                  141179              NaN                 933          0.0   \n2                  141179              NaN                1703          0.0   \n3                  141179              NaN                 678          0.0   \n4                  141194            73.90               12201        290.4   \n...                   ...              ...                 ...          ...   \n207342             425009            65.80               11046          0.0   \n207343             425010            65.80                1358          0.0   \n207344             425072            93.90                  28          0.0   \n207345             425072            93.90                1108          0.0   \n207346             425092            91.26                1171          0.0   \n\n        outputtotal celllabel  \n0             700.0     Urine  \n1             500.0     Urine  \n2            1000.0     Urine  \n3             700.0     Urine  \n4             100.0     Urine  \n...             ...       ...  \n207342        300.0     Urine  \n207343        150.0     Urine  \n207344        350.0     Urine  \n207345          0.0     Urine  \n207346        500.0     Urine  \n\n[207347 rows x 6 columns]",
      "text/html": "<div>\n<style scoped>\n    .dataframe tbody tr th:only-of-type {\n        vertical-align: middle;\n    }\n\n    .dataframe tbody tr th {\n        vertical-align: top;\n    }\n\n    .dataframe thead th {\n        text-align: right;\n    }\n</style>\n<table border=\"1\" class=\"dataframe\">\n  <thead>\n    <tr style=\"text-align: right;\">\n      <th></th>\n      <th>patientunitstayid</th>\n      <th>admissionweight</th>\n      <th>intakeoutputoffset</th>\n      <th>intaketotal</th>\n      <th>outputtotal</th>\n      <th>celllabel</th>\n    </tr>\n  </thead>\n  <tbody>\n    <tr>\n      <td>0</td>\n      <td>141179</td>\n      <td>NaN</td>\n      <td>1420</td>\n      <td>0.0</td>\n      <td>700.0</td>\n      <td>Urine</td>\n    </tr>\n    <tr>\n      <td>1</td>\n      <td>141179</td>\n      <td>NaN</td>\n      <td>933</td>\n      <td>0.0</td>\n      <td>500.0</td>\n      <td>Urine</td>\n    </tr>\n    <tr>\n      <td>2</td>\n      <td>141179</td>\n      <td>NaN</td>\n      <td>1703</td>\n      <td>0.0</td>\n      <td>1000.0</td>\n      <td>Urine</td>\n    </tr>\n    <tr>\n      <td>3</td>\n      <td>141179</td>\n      <td>NaN</td>\n      <td>678</td>\n      <td>0.0</td>\n      <td>700.0</td>\n      <td>Urine</td>\n    </tr>\n    <tr>\n      <td>4</td>\n      <td>141194</td>\n      <td>73.90</td>\n      <td>12201</td>\n      <td>290.4</td>\n      <td>100.0</td>\n      <td>Urine</td>\n    </tr>\n    <tr>\n      <td>...</td>\n      <td>...</td>\n      <td>...</td>\n      <td>...</td>\n      <td>...</td>\n      <td>...</td>\n      <td>...</td>\n    </tr>\n    <tr>\n      <td>207342</td>\n      <td>425009</td>\n      <td>65.80</td>\n      <td>11046</td>\n      <td>0.0</td>\n      <td>300.0</td>\n      <td>Urine</td>\n    </tr>\n    <tr>\n      <td>207343</td>\n      <td>425010</td>\n      <td>65.80</td>\n      <td>1358</td>\n      <td>0.0</td>\n      <td>150.0</td>\n      <td>Urine</td>\n    </tr>\n    <tr>\n      <td>207344</td>\n      <td>425072</td>\n      <td>93.90</td>\n      <td>28</td>\n      <td>0.0</td>\n      <td>350.0</td>\n      <td>Urine</td>\n    </tr>\n    <tr>\n      <td>207345</td>\n      <td>425072</td>\n      <td>93.90</td>\n      <td>1108</td>\n      <td>0.0</td>\n      <td>0.0</td>\n      <td>Urine</td>\n    </tr>\n    <tr>\n      <td>207346</td>\n      <td>425092</td>\n      <td>91.26</td>\n      <td>1171</td>\n      <td>0.0</td>\n      <td>500.0</td>\n      <td>Urine</td>\n    </tr>\n  </tbody>\n</table>\n<p>207347 rows × 6 columns</p>\n</div>"
     },
     "metadata": {},
     "output_type": "execute_result",
     "execution_count": 9
    }
   ],
   "source": [
    "intakeOutput = pd.read_csv('../eICU' + database_type + '/intakeOutput.csv', nrows=999999)\n",
    "columns = ['patientunitstayid', 'intakeoutputoffset', 'intaketotal', 'outputtotal', 'celllabel']\n",
    "intakeOutput = intakeOutput[columns]\n",
    "intakeOutput.sort_values(by='intakeoutputoffset')\n",
    "intakeOutputUrine = intakeOutput.loc[(intakeOutput['celllabel'].str.contains(\"Urine\"))]\n",
    "intakeOutputUrine = pd.DataFrame.merge(patient, intakeOutputUrine, on='patientunitstayid')\n",
    "intakeOutputUrine"
   ]
  },
  {
   "cell_type": "code",
   "execution_count": 10,
   "metadata": {
    "collapsed": false,
    "jupyter": {
     "outputs_hidden": false
    },
    "pycharm": {
     "is_executing": false,
     "name": "#%%\n"
    }
   },
   "outputs": [
    {
     "data": {
      "text/plain": "        patientunitstayid  intakeoutputoffset  urineoutputbyweight\n0                  141179                1420             7.851544\n1                  141179                 933             5.608246\n2                  141179                1703            11.216491\n3                  141179                 678             7.851544\n4                  141194               12201             1.353180\n...                   ...                 ...                  ...\n207342             425009               11046             4.559271\n207343             425010                1358             2.279635\n207344             425072                  28             3.727370\n207345             425072                1108             0.000000\n207346             425092                1171             5.478852\n\n[207347 rows x 3 columns]",
      "text/html": "<div>\n<style scoped>\n    .dataframe tbody tr th:only-of-type {\n        vertical-align: middle;\n    }\n\n    .dataframe tbody tr th {\n        vertical-align: top;\n    }\n\n    .dataframe thead th {\n        text-align: right;\n    }\n</style>\n<table border=\"1\" class=\"dataframe\">\n  <thead>\n    <tr style=\"text-align: right;\">\n      <th></th>\n      <th>patientunitstayid</th>\n      <th>intakeoutputoffset</th>\n      <th>urineoutputbyweight</th>\n    </tr>\n  </thead>\n  <tbody>\n    <tr>\n      <td>0</td>\n      <td>141179</td>\n      <td>1420</td>\n      <td>7.851544</td>\n    </tr>\n    <tr>\n      <td>1</td>\n      <td>141179</td>\n      <td>933</td>\n      <td>5.608246</td>\n    </tr>\n    <tr>\n      <td>2</td>\n      <td>141179</td>\n      <td>1703</td>\n      <td>11.216491</td>\n    </tr>\n    <tr>\n      <td>3</td>\n      <td>141179</td>\n      <td>678</td>\n      <td>7.851544</td>\n    </tr>\n    <tr>\n      <td>4</td>\n      <td>141194</td>\n      <td>12201</td>\n      <td>1.353180</td>\n    </tr>\n    <tr>\n      <td>...</td>\n      <td>...</td>\n      <td>...</td>\n      <td>...</td>\n    </tr>\n    <tr>\n      <td>207342</td>\n      <td>425009</td>\n      <td>11046</td>\n      <td>4.559271</td>\n    </tr>\n    <tr>\n      <td>207343</td>\n      <td>425010</td>\n      <td>1358</td>\n      <td>2.279635</td>\n    </tr>\n    <tr>\n      <td>207344</td>\n      <td>425072</td>\n      <td>28</td>\n      <td>3.727370</td>\n    </tr>\n    <tr>\n      <td>207345</td>\n      <td>425072</td>\n      <td>1108</td>\n      <td>0.000000</td>\n    </tr>\n    <tr>\n      <td>207346</td>\n      <td>425092</td>\n      <td>1171</td>\n      <td>5.478852</td>\n    </tr>\n  </tbody>\n</table>\n<p>207347 rows × 3 columns</p>\n</div>"
     },
     "metadata": {},
     "output_type": "execute_result",
     "execution_count": 10
    }
   ],
   "source": [
    "intakeOutputUrine['admissionweight'].fillna(intakeOutputUrine['admissionweight'].mean(), inplace=True)\n",
    "intakeOutputUrine['urineoutputbyweight'] = intakeOutputUrine.apply(lambda x: x['outputtotal'] / x['admissionweight'], axis=1)\n",
    "intakeOutputUrine = intakeOutputUrine[['patientunitstayid','intakeoutputoffset', 'urineoutputbyweight']]\n",
    "intakeOutputUrine"
   ]
  },
  {
   "cell_type": "code",
   "execution_count": 11,
   "metadata": {
    "pycharm": {
     "is_executing": false,
     "name": "#%%\n"
    }
   },
   "outputs": [
    {
     "data": {
      "text/plain": "         patientunitstayid  observationoffset  labresultoffset  \\\n34160               141168              119.0              NaN   \n35433               141168              124.0              NaN   \n37167               141168              129.0              NaN   \n38458               141168              134.0              NaN   \n40027               141168              139.0              NaN   \n...                    ...                ...              ...   \n1235945             425009                NaN              NaN   \n1235946             425010                NaN              NaN   \n1235947             425072                NaN              NaN   \n1235948             425072                NaN              NaN   \n1235949             425092                NaN              NaN   \n\n         intakeoutputoffset  temperature  heartrate  respiration  \\\n34160                   NaN          NaN      140.0          NaN   \n35433                   NaN          NaN      140.0          NaN   \n37167                   NaN          NaN      140.0          NaN   \n38458                   NaN          NaN      140.0          NaN   \n40027                   NaN          NaN      140.0          NaN   \n...                     ...          ...        ...          ...   \n1235945             11046.0          NaN        NaN          NaN   \n1235946              1358.0          NaN        NaN          NaN   \n1235947                28.0          NaN        NaN          NaN   \n1235948              1108.0          NaN        NaN          NaN   \n1235949              1171.0          NaN        NaN          NaN   \n\n         systemicsystolic  creatinine  wbcx1000  lactate  urineoutputbyweight  \n34160                 NaN         NaN       NaN      NaN                  NaN  \n35433                 NaN         NaN       NaN      NaN                  NaN  \n37167                 NaN         NaN       NaN      NaN                  NaN  \n38458                 NaN         NaN       NaN      NaN                  NaN  \n40027                 NaN         NaN       NaN      NaN                  NaN  \n...                   ...         ...       ...      ...                  ...  \n1235945               NaN         NaN       NaN      NaN             4.559271  \n1235946               NaN         NaN       NaN      NaN             2.279635  \n1235947               NaN         NaN       NaN      NaN             3.727370  \n1235948               NaN         NaN       NaN      NaN             0.000000  \n1235949               NaN         NaN       NaN      NaN             5.478852  \n\n[1235950 rows x 12 columns]",
      "text/html": "<div>\n<style scoped>\n    .dataframe tbody tr th:only-of-type {\n        vertical-align: middle;\n    }\n\n    .dataframe tbody tr th {\n        vertical-align: top;\n    }\n\n    .dataframe thead th {\n        text-align: right;\n    }\n</style>\n<table border=\"1\" class=\"dataframe\">\n  <thead>\n    <tr style=\"text-align: right;\">\n      <th></th>\n      <th>patientunitstayid</th>\n      <th>observationoffset</th>\n      <th>labresultoffset</th>\n      <th>intakeoutputoffset</th>\n      <th>temperature</th>\n      <th>heartrate</th>\n      <th>respiration</th>\n      <th>systemicsystolic</th>\n      <th>creatinine</th>\n      <th>wbcx1000</th>\n      <th>lactate</th>\n      <th>urineoutputbyweight</th>\n    </tr>\n  </thead>\n  <tbody>\n    <tr>\n      <td>34160</td>\n      <td>141168</td>\n      <td>119.0</td>\n      <td>NaN</td>\n      <td>NaN</td>\n      <td>NaN</td>\n      <td>140.0</td>\n      <td>NaN</td>\n      <td>NaN</td>\n      <td>NaN</td>\n      <td>NaN</td>\n      <td>NaN</td>\n      <td>NaN</td>\n    </tr>\n    <tr>\n      <td>35433</td>\n      <td>141168</td>\n      <td>124.0</td>\n      <td>NaN</td>\n      <td>NaN</td>\n      <td>NaN</td>\n      <td>140.0</td>\n      <td>NaN</td>\n      <td>NaN</td>\n      <td>NaN</td>\n      <td>NaN</td>\n      <td>NaN</td>\n      <td>NaN</td>\n    </tr>\n    <tr>\n      <td>37167</td>\n      <td>141168</td>\n      <td>129.0</td>\n      <td>NaN</td>\n      <td>NaN</td>\n      <td>NaN</td>\n      <td>140.0</td>\n      <td>NaN</td>\n      <td>NaN</td>\n      <td>NaN</td>\n      <td>NaN</td>\n      <td>NaN</td>\n      <td>NaN</td>\n    </tr>\n    <tr>\n      <td>38458</td>\n      <td>141168</td>\n      <td>134.0</td>\n      <td>NaN</td>\n      <td>NaN</td>\n      <td>NaN</td>\n      <td>140.0</td>\n      <td>NaN</td>\n      <td>NaN</td>\n      <td>NaN</td>\n      <td>NaN</td>\n      <td>NaN</td>\n      <td>NaN</td>\n    </tr>\n    <tr>\n      <td>40027</td>\n      <td>141168</td>\n      <td>139.0</td>\n      <td>NaN</td>\n      <td>NaN</td>\n      <td>NaN</td>\n      <td>140.0</td>\n      <td>NaN</td>\n      <td>NaN</td>\n      <td>NaN</td>\n      <td>NaN</td>\n      <td>NaN</td>\n      <td>NaN</td>\n    </tr>\n    <tr>\n      <td>...</td>\n      <td>...</td>\n      <td>...</td>\n      <td>...</td>\n      <td>...</td>\n      <td>...</td>\n      <td>...</td>\n      <td>...</td>\n      <td>...</td>\n      <td>...</td>\n      <td>...</td>\n      <td>...</td>\n      <td>...</td>\n    </tr>\n    <tr>\n      <td>1235945</td>\n      <td>425009</td>\n      <td>NaN</td>\n      <td>NaN</td>\n      <td>11046.0</td>\n      <td>NaN</td>\n      <td>NaN</td>\n      <td>NaN</td>\n      <td>NaN</td>\n      <td>NaN</td>\n      <td>NaN</td>\n      <td>NaN</td>\n      <td>4.559271</td>\n    </tr>\n    <tr>\n      <td>1235946</td>\n      <td>425010</td>\n      <td>NaN</td>\n      <td>NaN</td>\n      <td>1358.0</td>\n      <td>NaN</td>\n      <td>NaN</td>\n      <td>NaN</td>\n      <td>NaN</td>\n      <td>NaN</td>\n      <td>NaN</td>\n      <td>NaN</td>\n      <td>2.279635</td>\n    </tr>\n    <tr>\n      <td>1235947</td>\n      <td>425072</td>\n      <td>NaN</td>\n      <td>NaN</td>\n      <td>28.0</td>\n      <td>NaN</td>\n      <td>NaN</td>\n      <td>NaN</td>\n      <td>NaN</td>\n      <td>NaN</td>\n      <td>NaN</td>\n      <td>NaN</td>\n      <td>3.727370</td>\n    </tr>\n    <tr>\n      <td>1235948</td>\n      <td>425072</td>\n      <td>NaN</td>\n      <td>NaN</td>\n      <td>1108.0</td>\n      <td>NaN</td>\n      <td>NaN</td>\n      <td>NaN</td>\n      <td>NaN</td>\n      <td>NaN</td>\n      <td>NaN</td>\n      <td>NaN</td>\n      <td>0.000000</td>\n    </tr>\n    <tr>\n      <td>1235949</td>\n      <td>425092</td>\n      <td>NaN</td>\n      <td>NaN</td>\n      <td>1171.0</td>\n      <td>NaN</td>\n      <td>NaN</td>\n      <td>NaN</td>\n      <td>NaN</td>\n      <td>NaN</td>\n      <td>NaN</td>\n      <td>NaN</td>\n      <td>5.478852</td>\n    </tr>\n  </tbody>\n</table>\n<p>1235950 rows × 12 columns</p>\n</div>"
     },
     "metadata": {},
     "output_type": "execute_result",
     "execution_count": 11
    }
   ],
   "source": [
    "# Merging Final Training Table\n",
    "merge1 = pd.merge(vitalperiodic, finallab,  how='outer', left_on=['patientunitstayid','observationoffset'], right_on = ['patientunitstayid','labresultoffset'])\n",
    "finalMerge = pd.merge(merge1, intakeOutputUrine,  how='outer', left_on=['patientunitstayid','observationoffset'], right_on = ['patientunitstayid','intakeoutputoffset'])\n",
    "\n",
    "finalMerge = finalMerge[['patientunitstayid', 'observationoffset', 'labresultoffset', 'intakeoutputoffset', 'temperature', 'heartrate', 'respiration', 'systemicsystolic', 'creatinine', 'wbcx1000', 'lactate', 'urineoutputbyweight']]\n",
    "finalMerge = finalMerge.sort_values(by=['patientunitstayid', 'observationoffset'])\n",
    "finalMerge"
   ]
  },
  {
   "cell_type": "code",
   "execution_count": 15,
   "outputs": [
    {
     "data": {
      "text/plain": "         patientunitstayid  observationoffset  temperature  heartrate  \\\n34160               141168              119.0          NaN      140.0   \n35433               141168              124.0          NaN      140.0   \n37167               141168              129.0          NaN      140.0   \n38458               141168              134.0          NaN      140.0   \n40027               141168              139.0          NaN      140.0   \n...                    ...                ...          ...        ...   \n1235945             425009            11046.0          NaN        NaN   \n1235946             425010             1358.0          NaN        NaN   \n1235947             425072               28.0          NaN        NaN   \n1235948             425072             1108.0          NaN        NaN   \n1235949             425092             1171.0          NaN        NaN   \n\n         respiration  systemicsystolic  creatinine  wbcx1000  lactate  \\\n34160            NaN               NaN         NaN       NaN      NaN   \n35433            NaN               NaN         NaN       NaN      NaN   \n37167            NaN               NaN         NaN       NaN      NaN   \n38458            NaN               NaN         NaN       NaN      NaN   \n40027            NaN               NaN         NaN       NaN      NaN   \n...              ...               ...         ...       ...      ...   \n1235945          NaN               NaN         NaN       NaN      NaN   \n1235946          NaN               NaN         NaN       NaN      NaN   \n1235947          NaN               NaN         NaN       NaN      NaN   \n1235948          NaN               NaN         NaN       NaN      NaN   \n1235949          NaN               NaN         NaN       NaN      NaN   \n\n         urineoutputbyweight  \n34160                    NaN  \n35433                    NaN  \n37167                    NaN  \n38458                    NaN  \n40027                    NaN  \n...                      ...  \n1235945             4.559271  \n1235946             2.279635  \n1235947             3.727370  \n1235948             0.000000  \n1235949             5.478852  \n\n[1235950 rows x 10 columns]",
      "text/html": "<div>\n<style scoped>\n    .dataframe tbody tr th:only-of-type {\n        vertical-align: middle;\n    }\n\n    .dataframe tbody tr th {\n        vertical-align: top;\n    }\n\n    .dataframe thead th {\n        text-align: right;\n    }\n</style>\n<table border=\"1\" class=\"dataframe\">\n  <thead>\n    <tr style=\"text-align: right;\">\n      <th></th>\n      <th>patientunitstayid</th>\n      <th>observationoffset</th>\n      <th>temperature</th>\n      <th>heartrate</th>\n      <th>respiration</th>\n      <th>systemicsystolic</th>\n      <th>creatinine</th>\n      <th>wbcx1000</th>\n      <th>lactate</th>\n      <th>urineoutputbyweight</th>\n    </tr>\n  </thead>\n  <tbody>\n    <tr>\n      <td>34160</td>\n      <td>141168</td>\n      <td>119.0</td>\n      <td>NaN</td>\n      <td>140.0</td>\n      <td>NaN</td>\n      <td>NaN</td>\n      <td>NaN</td>\n      <td>NaN</td>\n      <td>NaN</td>\n      <td>NaN</td>\n    </tr>\n    <tr>\n      <td>35433</td>\n      <td>141168</td>\n      <td>124.0</td>\n      <td>NaN</td>\n      <td>140.0</td>\n      <td>NaN</td>\n      <td>NaN</td>\n      <td>NaN</td>\n      <td>NaN</td>\n      <td>NaN</td>\n      <td>NaN</td>\n    </tr>\n    <tr>\n      <td>37167</td>\n      <td>141168</td>\n      <td>129.0</td>\n      <td>NaN</td>\n      <td>140.0</td>\n      <td>NaN</td>\n      <td>NaN</td>\n      <td>NaN</td>\n      <td>NaN</td>\n      <td>NaN</td>\n      <td>NaN</td>\n    </tr>\n    <tr>\n      <td>38458</td>\n      <td>141168</td>\n      <td>134.0</td>\n      <td>NaN</td>\n      <td>140.0</td>\n      <td>NaN</td>\n      <td>NaN</td>\n      <td>NaN</td>\n      <td>NaN</td>\n      <td>NaN</td>\n      <td>NaN</td>\n    </tr>\n    <tr>\n      <td>40027</td>\n      <td>141168</td>\n      <td>139.0</td>\n      <td>NaN</td>\n      <td>140.0</td>\n      <td>NaN</td>\n      <td>NaN</td>\n      <td>NaN</td>\n      <td>NaN</td>\n      <td>NaN</td>\n      <td>NaN</td>\n    </tr>\n    <tr>\n      <td>...</td>\n      <td>...</td>\n      <td>...</td>\n      <td>...</td>\n      <td>...</td>\n      <td>...</td>\n      <td>...</td>\n      <td>...</td>\n      <td>...</td>\n      <td>...</td>\n      <td>...</td>\n    </tr>\n    <tr>\n      <td>1235945</td>\n      <td>425009</td>\n      <td>11046.0</td>\n      <td>NaN</td>\n      <td>NaN</td>\n      <td>NaN</td>\n      <td>NaN</td>\n      <td>NaN</td>\n      <td>NaN</td>\n      <td>NaN</td>\n      <td>4.559271</td>\n    </tr>\n    <tr>\n      <td>1235946</td>\n      <td>425010</td>\n      <td>1358.0</td>\n      <td>NaN</td>\n      <td>NaN</td>\n      <td>NaN</td>\n      <td>NaN</td>\n      <td>NaN</td>\n      <td>NaN</td>\n      <td>NaN</td>\n      <td>2.279635</td>\n    </tr>\n    <tr>\n      <td>1235947</td>\n      <td>425072</td>\n      <td>28.0</td>\n      <td>NaN</td>\n      <td>NaN</td>\n      <td>NaN</td>\n      <td>NaN</td>\n      <td>NaN</td>\n      <td>NaN</td>\n      <td>NaN</td>\n      <td>3.727370</td>\n    </tr>\n    <tr>\n      <td>1235948</td>\n      <td>425072</td>\n      <td>1108.0</td>\n      <td>NaN</td>\n      <td>NaN</td>\n      <td>NaN</td>\n      <td>NaN</td>\n      <td>NaN</td>\n      <td>NaN</td>\n      <td>NaN</td>\n      <td>0.000000</td>\n    </tr>\n    <tr>\n      <td>1235949</td>\n      <td>425092</td>\n      <td>1171.0</td>\n      <td>NaN</td>\n      <td>NaN</td>\n      <td>NaN</td>\n      <td>NaN</td>\n      <td>NaN</td>\n      <td>NaN</td>\n      <td>NaN</td>\n      <td>5.478852</td>\n    </tr>\n  </tbody>\n</table>\n<p>1235950 rows × 10 columns</p>\n</div>"
     },
     "metadata": {},
     "output_type": "execute_result",
     "execution_count": 15
    }
   ],
   "source": [
    "# Merging offsets\n",
    "finalMerge['observationoffset'] = finalMerge['observationoffset'].fillna(finalMerge['labresultoffset'])\n",
    "finalMerge['observationoffset'] = finalMerge['observationoffset'].fillna(finalMerge['intakeoutputoffset'])\n",
    "finalMerge = finalMerge.drop(['labresultoffset', 'intakeoutputoffset'], axis=1)\n",
    "finalMerge"
   ],
   "metadata": {
    "collapsed": false,
    "pycharm": {
     "name": "#%%\n",
     "is_executing": false
    }
   }
  },
  {
   "cell_type": "code",
   "execution_count": null,
   "outputs": [],
   "source": [
    "\n"
   ],
   "metadata": {
    "collapsed": false,
    "pycharm": {
     "name": "#%%\n"
    }
   }
  }
 ],
 "metadata": {
  "kernelspec": {
   "display_name": "Python 3",
   "language": "python",
   "name": "python3"
  },
  "language_info": {
   "codemirror_mode": {
    "name": "ipython",
    "version": 3
   },
   "file_extension": ".py",
   "mimetype": "text/x-python",
   "name": "python",
   "nbconvert_exporter": "python",
   "pygments_lexer": "ipython3",
   "version": "3.7.4"
  },
  "pycharm": {
   "stem_cell": {
    "cell_type": "raw",
    "source": [],
    "metadata": {
     "collapsed": false
    }
   }
  }
 },
 "nbformat": 4,
 "nbformat_minor": 4
}