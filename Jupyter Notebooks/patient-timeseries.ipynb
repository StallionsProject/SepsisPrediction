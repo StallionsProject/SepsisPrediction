{
 "cells": [
  {
   "cell_type": "code",
   "execution_count": 2,
   "metadata": {
    "collapsed": true,
    "pycharm": {
     "is_executing": false
    }
   },
   "outputs": [],
   "source": [
    "import pandas as pd\n",
    "# import numpy as np"
   ]
  },
  {
   "cell_type": "code",
   "execution_count": 3,
   "outputs": [],
   "source": [
    "database_type = \"/full\""
   ],
   "metadata": {
    "collapsed": false,
    "pycharm": {
     "name": "#%%\n",
     "is_executing": false
    }
   }
  },
  {
   "cell_type": "markdown",
   "source": [
    "The `patient` table includes general information about the patient admissions (for example, demographics, admission and discharge details). \n",
    "See: http://eicu-crd.mit.edu/eicutables/patient/"
   ],
   "metadata": {
    "collapsed": false
   }
  },
  {
   "cell_type": "code",
   "execution_count": 9,
   "outputs": [
    {
     "data": {
      "text/plain": "                   admissionweight\npatientunitstayid                 \n141168                        84.3\n141178                        54.4\n141179                         NaN\n141194                        73.9\n141196                         NaN",
      "text/html": "<div>\n<style scoped>\n    .dataframe tbody tr th:only-of-type {\n        vertical-align: middle;\n    }\n\n    .dataframe tbody tr th {\n        vertical-align: top;\n    }\n\n    .dataframe thead th {\n        text-align: right;\n    }\n</style>\n<table border=\"1\" class=\"dataframe\">\n  <thead>\n    <tr style=\"text-align: right;\">\n      <th></th>\n      <th>admissionweight</th>\n    </tr>\n    <tr>\n      <th>patientunitstayid</th>\n      <th></th>\n    </tr>\n  </thead>\n  <tbody>\n    <tr>\n      <td>141168</td>\n      <td>84.3</td>\n    </tr>\n    <tr>\n      <td>141178</td>\n      <td>54.4</td>\n    </tr>\n    <tr>\n      <td>141179</td>\n      <td>NaN</td>\n    </tr>\n    <tr>\n      <td>141194</td>\n      <td>73.9</td>\n    </tr>\n    <tr>\n      <td>141196</td>\n      <td>NaN</td>\n    </tr>\n  </tbody>\n</table>\n</div>"
     },
     "metadata": {},
     "output_type": "execute_result",
     "execution_count": 9
    }
   ],
   "source": [
    "# loads patient table\n",
    "patient = pd.read_csv('../eICU' + database_type + '/patient.csv', nrows=999999) \n",
    "patient = patient[['patientunitstayid', 'admissionweight']].set_index('patientunitstayid')\n",
    "patient.head()"
   ],
   "metadata": {
    "collapsed": false,
    "pycharm": {
     "name": "#%%\n",
     "is_executing": false
    }
   }
  },
  {
   "cell_type": "markdown",
   "source": [
    "The `vitalperiodic` table comprises data that is consistently interfaced from bedside vital signs monitors into eCareManager. \n",
    "Data are generally interfaced as 1 minute averages, and archived into the `vitalperiodic` table as 5 minute median values. \n",
    "For more detail, see: http://eicu-crd.mit.edu/eicutables/vitalPeriodic/"
   ],
   "metadata": {
    "collapsed": false,
    "pycharm": {
     "name": "#%% md\n"
    }
   }
  },
  {
   "cell_type": "code",
   "execution_count": 12,
   "outputs": [
    {
     "data": {
      "text/plain": "                   patientunitstayid  temperature  heartrate  respiration  \\\nobservationoffset                                                           \n-1445                         148349          NaN       60.0         20.0   \n-1440                         148349          NaN       60.0         21.0   \n-1435                         150049          NaN       96.0         19.0   \n-1435                         146418          NaN       71.0         23.0   \n-1435                         148349          NaN       60.0         21.0   \n\n                   systemicsystolic  \nobservationoffset                    \n-1445                           NaN  \n-1440                           NaN  \n-1435                           NaN  \n-1435                           NaN  \n-1435                           NaN  ",
      "text/html": "<div>\n<style scoped>\n    .dataframe tbody tr th:only-of-type {\n        vertical-align: middle;\n    }\n\n    .dataframe tbody tr th {\n        vertical-align: top;\n    }\n\n    .dataframe thead th {\n        text-align: right;\n    }\n</style>\n<table border=\"1\" class=\"dataframe\">\n  <thead>\n    <tr style=\"text-align: right;\">\n      <th></th>\n      <th>patientunitstayid</th>\n      <th>temperature</th>\n      <th>heartrate</th>\n      <th>respiration</th>\n      <th>systemicsystolic</th>\n    </tr>\n    <tr>\n      <th>observationoffset</th>\n      <th></th>\n      <th></th>\n      <th></th>\n      <th></th>\n      <th></th>\n    </tr>\n  </thead>\n  <tbody>\n    <tr>\n      <td>-1445</td>\n      <td>148349</td>\n      <td>NaN</td>\n      <td>60.0</td>\n      <td>20.0</td>\n      <td>NaN</td>\n    </tr>\n    <tr>\n      <td>-1440</td>\n      <td>148349</td>\n      <td>NaN</td>\n      <td>60.0</td>\n      <td>21.0</td>\n      <td>NaN</td>\n    </tr>\n    <tr>\n      <td>-1435</td>\n      <td>150049</td>\n      <td>NaN</td>\n      <td>96.0</td>\n      <td>19.0</td>\n      <td>NaN</td>\n    </tr>\n    <tr>\n      <td>-1435</td>\n      <td>146418</td>\n      <td>NaN</td>\n      <td>71.0</td>\n      <td>23.0</td>\n      <td>NaN</td>\n    </tr>\n    <tr>\n      <td>-1435</td>\n      <td>148349</td>\n      <td>NaN</td>\n      <td>60.0</td>\n      <td>21.0</td>\n      <td>NaN</td>\n    </tr>\n  </tbody>\n</table>\n</div>"
     },
     "metadata": {},
     "output_type": "execute_result",
     "execution_count": 12
    }
   ],
   "source": [
    "vitalperiodic = pd.read_csv('../eICU' + database_type + '/vitalPeriodic.csv', nrows=999999)\n",
    "columns = ['patientunitstayid', 'observationoffset', 'temperature', 'heartrate', 'respiration', 'systemicsystolic']\n",
    "vitalperiodic = vitalperiodic[columns].set_index('observationoffset')\n",
    "vitalperiodic = vitalperiodic.sort_values(by='observationoffset')\n",
    "vitalperiodic.head()"
   ],
   "metadata": {
    "collapsed": false,
    "pycharm": {
     "name": "#%%\n",
     "is_executing": false
    }
   }
  },
  {
   "cell_type": "markdown",
   "source": [
    "The `vitalAperiodic` table provides invasive vital sign data that is recorded at irregular intervals. \n",
    "See: http://eicu-crd.mit.edu/eicutables/vitalAperiodic/"
   ],
   "metadata": {
    "collapsed": false,
    "pycharm": {
     "name": "#%% md\n"
    }
   }
  },
  {
   "cell_type": "code",
   "execution_count": 14,
   "outputs": [
    {
     "data": {
      "text/plain": "                   patientunitstayid  noninvasivesystolic  cardiacoutput  \\\nobservationoffset                                                          \n-4320                         218289                187.0            NaN   \n-4319                         218289                178.0            NaN   \n-3883                         218287                138.0            NaN   \n-3659                         218287                134.0            NaN   \n-3632                         218287                147.0            NaN   \n\n                   cardiacinput  \nobservationoffset                \n-4320                       NaN  \n-4319                       NaN  \n-3883                       NaN  \n-3659                       NaN  \n-3632                       NaN  ",
      "text/html": "<div>\n<style scoped>\n    .dataframe tbody tr th:only-of-type {\n        vertical-align: middle;\n    }\n\n    .dataframe tbody tr th {\n        vertical-align: top;\n    }\n\n    .dataframe thead th {\n        text-align: right;\n    }\n</style>\n<table border=\"1\" class=\"dataframe\">\n  <thead>\n    <tr style=\"text-align: right;\">\n      <th></th>\n      <th>patientunitstayid</th>\n      <th>noninvasivesystolic</th>\n      <th>cardiacoutput</th>\n      <th>cardiacinput</th>\n    </tr>\n    <tr>\n      <th>observationoffset</th>\n      <th></th>\n      <th></th>\n      <th></th>\n      <th></th>\n    </tr>\n  </thead>\n  <tbody>\n    <tr>\n      <td>-4320</td>\n      <td>218289</td>\n      <td>187.0</td>\n      <td>NaN</td>\n      <td>NaN</td>\n    </tr>\n    <tr>\n      <td>-4319</td>\n      <td>218289</td>\n      <td>178.0</td>\n      <td>NaN</td>\n      <td>NaN</td>\n    </tr>\n    <tr>\n      <td>-3883</td>\n      <td>218287</td>\n      <td>138.0</td>\n      <td>NaN</td>\n      <td>NaN</td>\n    </tr>\n    <tr>\n      <td>-3659</td>\n      <td>218287</td>\n      <td>134.0</td>\n      <td>NaN</td>\n      <td>NaN</td>\n    </tr>\n    <tr>\n      <td>-3632</td>\n      <td>218287</td>\n      <td>147.0</td>\n      <td>NaN</td>\n      <td>NaN</td>\n    </tr>\n  </tbody>\n</table>\n</div>"
     },
     "metadata": {},
     "output_type": "execute_result",
     "execution_count": 14
    }
   ],
   "source": [
    "vitalaperiodic = pd.read_csv('../eICU' + database_type + '/vitalAperiodic.csv', nrows=999999)\n",
    "columns = ['observationoffset', 'patientunitstayid','noninvasivesystolic','cardiacoutput','cardiacinput']\n",
    "vitalaperiodic = vitalaperiodic[columns].set_index('observationoffset')\n",
    "vitalaperiodic = vitalaperiodic.sort_values(by='observationoffset')\n",
    "vitalaperiodic.head()"
   ],
   "metadata": {
    "collapsed": false,
    "pycharm": {
     "name": "#%%\n",
     "is_executing": false
    }
   }
  },
  {
   "cell_type": "markdown",
   "source": [
    "The `lab` table provides Laboratory tests that have have been mapped to a standard set of measurements. \n",
    "Unmapped measurements are recorded in the customLab table.\n",
    "See: http://eicu-crd.mit.edu/eicutables/lab/"
   ],
   "metadata": {
    "collapsed": false
   }
  },
  {
   "cell_type": "code",
   "execution_count": 19,
   "outputs": [
    {
     "data": {
      "text/plain": "      labid  patientunitstayid  labresultoffset  labtypeid     labname  \\\n0  52307161             141168             2026          3  fibrinogen   \n1  50363251             141168             1133          3    PT - INR   \n2  49149139             141168             2026          1   magnesium   \n3  50363250             141168             1133          3          PT   \n4  66695374             141168             2141          7          pH   \n\n   labresult labresulttext labmeasurenamesystem labmeasurenameinterface  \\\n0      177.0           177                mg/dL                   mg/dL   \n1        2.5           2.5                ratio                     NaN   \n2        2.0           2.0                mg/dL                   mg/dL   \n3       26.6          26.6                  sec                     sec   \n4        7.2          7.20                  NaN                   Units   \n\n   labresultrevisedoffset  \n0                    2219  \n1                    1208  \n2                    2090  \n3                    1208  \n4                    2155  ",
      "text/html": "<div>\n<style scoped>\n    .dataframe tbody tr th:only-of-type {\n        vertical-align: middle;\n    }\n\n    .dataframe tbody tr th {\n        vertical-align: top;\n    }\n\n    .dataframe thead th {\n        text-align: right;\n    }\n</style>\n<table border=\"1\" class=\"dataframe\">\n  <thead>\n    <tr style=\"text-align: right;\">\n      <th></th>\n      <th>labid</th>\n      <th>patientunitstayid</th>\n      <th>labresultoffset</th>\n      <th>labtypeid</th>\n      <th>labname</th>\n      <th>labresult</th>\n      <th>labresulttext</th>\n      <th>labmeasurenamesystem</th>\n      <th>labmeasurenameinterface</th>\n      <th>labresultrevisedoffset</th>\n    </tr>\n  </thead>\n  <tbody>\n    <tr>\n      <td>0</td>\n      <td>52307161</td>\n      <td>141168</td>\n      <td>2026</td>\n      <td>3</td>\n      <td>fibrinogen</td>\n      <td>177.0</td>\n      <td>177</td>\n      <td>mg/dL</td>\n      <td>mg/dL</td>\n      <td>2219</td>\n    </tr>\n    <tr>\n      <td>1</td>\n      <td>50363251</td>\n      <td>141168</td>\n      <td>1133</td>\n      <td>3</td>\n      <td>PT - INR</td>\n      <td>2.5</td>\n      <td>2.5</td>\n      <td>ratio</td>\n      <td>NaN</td>\n      <td>1208</td>\n    </tr>\n    <tr>\n      <td>2</td>\n      <td>49149139</td>\n      <td>141168</td>\n      <td>2026</td>\n      <td>1</td>\n      <td>magnesium</td>\n      <td>2.0</td>\n      <td>2.0</td>\n      <td>mg/dL</td>\n      <td>mg/dL</td>\n      <td>2090</td>\n    </tr>\n    <tr>\n      <td>3</td>\n      <td>50363250</td>\n      <td>141168</td>\n      <td>1133</td>\n      <td>3</td>\n      <td>PT</td>\n      <td>26.6</td>\n      <td>26.6</td>\n      <td>sec</td>\n      <td>sec</td>\n      <td>1208</td>\n    </tr>\n    <tr>\n      <td>4</td>\n      <td>66695374</td>\n      <td>141168</td>\n      <td>2141</td>\n      <td>7</td>\n      <td>pH</td>\n      <td>7.2</td>\n      <td>7.20</td>\n      <td>NaN</td>\n      <td>Units</td>\n      <td>2155</td>\n    </tr>\n  </tbody>\n</table>\n</div>"
     },
     "metadata": {},
     "output_type": "execute_result",
     "execution_count": 19
    }
   ],
   "source": [
    "lab = pd.read_csv('../eICU' + database_type + '/lab.csv', nrows=999999)\n",
    "columns = ['labresultoffset', 'patientunitstayid','labtypeid','labname', 'labresult', 'labmeasurenamesystem', 'labmeasurenameinterface']\n",
    "lab = lab[columns].set_index('labresultoffset')\n",
    "lab = lab.sort_values(by='labresultoffset')\n",
    "lab.head()"
   ],
   "metadata": {
    "collapsed": false,
    "pycharm": {
     "name": "#%%\n",
     "is_executing": false
    }
   }
  },
  {
   "cell_type": "code",
   "execution_count": null,
   "outputs": [],
   "source": [
    "# Pull out dataframe for labresults 'WBC x 1000', 'lactate', 'creatinine'\n"
   ],
   "metadata": {
    "collapsed": false,
    "pycharm": {
     "name": "#%%\n"
    }
   }
  },
  {
   "cell_type": "code",
   "execution_count": 18,
   "outputs": [
    {
     "data": {
      "text/plain": "                 patientunitstayid  labtypeid     labname  labresult  \\\nlabresultoffset                                                        \n 1701                       141168          4  creatinine     173.12   \n 2026                       141168          1  creatinine       2.95   \n 1133                       141168          1  creatinine       2.30   \n 516                        141168          1  creatinine       1.95   \n-280                        141178          1  creatinine       0.70   \n...                            ...        ...         ...        ...   \n 10778                      180812          1  creatinine       1.32   \n 4837                       180812          1  creatinine       1.25   \n 13693                      180812          1  creatinine       1.33   \n 14858                      180812          1  creatinine       1.30   \n 11983                      180812          1  creatinine       1.33   \n\n                labmeasurenamesystem labmeasurenameinterface  \nlabresultoffset                                               \n 1701                          mg/dL                   mg/dL  \n 2026                          mg/dL                   mg/dL  \n 1133                          mg/dL                   mg/dL  \n 516                           mg/dL                   mg/dL  \n-280                           mg/dL                   mg/dL  \n...                              ...                     ...  \n 10778                         mg/dL                   mg/dL  \n 4837                          mg/dL                   mg/dL  \n 13693                         mg/dL                   mg/dL  \n 14858                         mg/dL                   mg/dL  \n 11983                         mg/dL                   mg/dL  \n\n[30624 rows x 6 columns]",
      "text/html": "<div>\n<style scoped>\n    .dataframe tbody tr th:only-of-type {\n        vertical-align: middle;\n    }\n\n    .dataframe tbody tr th {\n        vertical-align: top;\n    }\n\n    .dataframe thead th {\n        text-align: right;\n    }\n</style>\n<table border=\"1\" class=\"dataframe\">\n  <thead>\n    <tr style=\"text-align: right;\">\n      <th></th>\n      <th>patientunitstayid</th>\n      <th>labtypeid</th>\n      <th>labname</th>\n      <th>labresult</th>\n      <th>labmeasurenamesystem</th>\n      <th>labmeasurenameinterface</th>\n    </tr>\n    <tr>\n      <th>labresultoffset</th>\n      <th></th>\n      <th></th>\n      <th></th>\n      <th></th>\n      <th></th>\n      <th></th>\n    </tr>\n  </thead>\n  <tbody>\n    <tr>\n      <td>1701</td>\n      <td>141168</td>\n      <td>4</td>\n      <td>creatinine</td>\n      <td>173.12</td>\n      <td>mg/dL</td>\n      <td>mg/dL</td>\n    </tr>\n    <tr>\n      <td>2026</td>\n      <td>141168</td>\n      <td>1</td>\n      <td>creatinine</td>\n      <td>2.95</td>\n      <td>mg/dL</td>\n      <td>mg/dL</td>\n    </tr>\n    <tr>\n      <td>1133</td>\n      <td>141168</td>\n      <td>1</td>\n      <td>creatinine</td>\n      <td>2.30</td>\n      <td>mg/dL</td>\n      <td>mg/dL</td>\n    </tr>\n    <tr>\n      <td>516</td>\n      <td>141168</td>\n      <td>1</td>\n      <td>creatinine</td>\n      <td>1.95</td>\n      <td>mg/dL</td>\n      <td>mg/dL</td>\n    </tr>\n    <tr>\n      <td>-280</td>\n      <td>141178</td>\n      <td>1</td>\n      <td>creatinine</td>\n      <td>0.70</td>\n      <td>mg/dL</td>\n      <td>mg/dL</td>\n    </tr>\n    <tr>\n      <td>...</td>\n      <td>...</td>\n      <td>...</td>\n      <td>...</td>\n      <td>...</td>\n      <td>...</td>\n      <td>...</td>\n    </tr>\n    <tr>\n      <td>10778</td>\n      <td>180812</td>\n      <td>1</td>\n      <td>creatinine</td>\n      <td>1.32</td>\n      <td>mg/dL</td>\n      <td>mg/dL</td>\n    </tr>\n    <tr>\n      <td>4837</td>\n      <td>180812</td>\n      <td>1</td>\n      <td>creatinine</td>\n      <td>1.25</td>\n      <td>mg/dL</td>\n      <td>mg/dL</td>\n    </tr>\n    <tr>\n      <td>13693</td>\n      <td>180812</td>\n      <td>1</td>\n      <td>creatinine</td>\n      <td>1.33</td>\n      <td>mg/dL</td>\n      <td>mg/dL</td>\n    </tr>\n    <tr>\n      <td>14858</td>\n      <td>180812</td>\n      <td>1</td>\n      <td>creatinine</td>\n      <td>1.30</td>\n      <td>mg/dL</td>\n      <td>mg/dL</td>\n    </tr>\n    <tr>\n      <td>11983</td>\n      <td>180812</td>\n      <td>1</td>\n      <td>creatinine</td>\n      <td>1.33</td>\n      <td>mg/dL</td>\n      <td>mg/dL</td>\n    </tr>\n  </tbody>\n</table>\n<p>30624 rows × 6 columns</p>\n</div>"
     },
     "metadata": {},
     "output_type": "execute_result",
     "execution_count": 18
    }
   ],
   "source": [
    "# converts all occurances of urinary creatinine in labname col to creatinine\n",
    "# alternativy check labtypeid creatinine = 1,  urinary creatinine = 4\n",
    "\n",
    "lab.loc[lab['labname'].str.contains(\"urinary creatinine\"), 'labname'] = \"creatinine\"\n",
    "lab.loc[(lab['labname'].str.contains(\"creatinine\"))]"
   ],
   "metadata": {
    "collapsed": false,
    "pycharm": {
     "name": "#%%\n",
     "is_executing": false
    }
   }
  },
  {
   "cell_type": "code",
   "execution_count": 14,
   "outputs": [],
   "source": [
    "# showing all results for parient with id 154910\n",
    "\n",
    "lab['patientunitstayid'] = lab['patientunitstayid'].astype(str)\n",
    "lab.loc[(lab['patientunitstayid'].str.contains(\"154910\"))]\n"
   ],
   "metadata": {
    "collapsed": false,
    "pycharm": {
     "name": "#%%\n",
     "is_executing": false
    }
   }
  },
  {
   "cell_type": "markdown",
   "source": [
    "The `intakeOutput` table provides Intake and output recorded for patients entered from the nursing flowsheet."
   ],
   "metadata": {
    "collapsed": false
   }
  },
  {
   "cell_type": "code",
   "execution_count": 11,
   "outputs": [
    {
     "data": {
      "text/plain": "                    patientunitstayid  intaketotal  outputtotal  \\\nintakeoutputoffset                                                \n661                            205505          0.0          0.0   \n661                            205505          0.0          0.0   \n3523                           150708        727.0          0.0   \n3523                           150708        727.0          0.0   \n24801                          158159        120.0          0.0   \n\n                                                            celllabel  \nintakeoutputoffset                                                     \n661                                                   Bodyweight (lb)  \n661                                                   Bodyweight (kg)  \n3523                                                             P.O.  \n3523                Volume (mL)-sodium chloride 0.9 % flush IVPB 5...  \n24801                                                            P.O.  ",
      "text/html": "<div>\n<style scoped>\n    .dataframe tbody tr th:only-of-type {\n        vertical-align: middle;\n    }\n\n    .dataframe tbody tr th {\n        vertical-align: top;\n    }\n\n    .dataframe thead th {\n        text-align: right;\n    }\n</style>\n<table border=\"1\" class=\"dataframe\">\n  <thead>\n    <tr style=\"text-align: right;\">\n      <th></th>\n      <th>patientunitstayid</th>\n      <th>intaketotal</th>\n      <th>outputtotal</th>\n      <th>celllabel</th>\n    </tr>\n    <tr>\n      <th>intakeoutputoffset</th>\n      <th></th>\n      <th></th>\n      <th></th>\n      <th></th>\n    </tr>\n  </thead>\n  <tbody>\n    <tr>\n      <td>661</td>\n      <td>205505</td>\n      <td>0.0</td>\n      <td>0.0</td>\n      <td>Bodyweight (lb)</td>\n    </tr>\n    <tr>\n      <td>661</td>\n      <td>205505</td>\n      <td>0.0</td>\n      <td>0.0</td>\n      <td>Bodyweight (kg)</td>\n    </tr>\n    <tr>\n      <td>3523</td>\n      <td>150708</td>\n      <td>727.0</td>\n      <td>0.0</td>\n      <td>P.O.</td>\n    </tr>\n    <tr>\n      <td>3523</td>\n      <td>150708</td>\n      <td>727.0</td>\n      <td>0.0</td>\n      <td>Volume (mL)-sodium chloride 0.9 % flush IVPB 5...</td>\n    </tr>\n    <tr>\n      <td>24801</td>\n      <td>158159</td>\n      <td>120.0</td>\n      <td>0.0</td>\n      <td>P.O.</td>\n    </tr>\n  </tbody>\n</table>\n</div>"
     },
     "metadata": {},
     "output_type": "execute_result",
     "execution_count": 11
    }
   ],
   "source": [
    "intakeOutput = pd.read_csv('../eICU' + database_type + '/intakeOutput.csv', nrows=999999)\n",
    "columns = ['patientunitstayid', 'intakeoutputoffset', 'intaketotal', 'outputtotal', 'celllabel']\n",
    "intakeOutput = intakeOutput[columns].set_index('intakeoutputoffset')\n",
    "intakeOutput.sort_values(by='intakeoutputoffset')\n",
    "intakeOutputUrine = intakeOutput.loc[(intakeOutput['celllabel'].str.contains(\"Urine\"))]\n",
    "intakeOutput.head()"
   ],
   "metadata": {
    "collapsed": false,
    "pycharm": {
     "name": "#%%\n",
     "is_executing": false
    }
   }
  },
  {
   "cell_type": "code",
   "execution_count": 13,
   "outputs": [
    {
     "data": {
      "text/plain": "        patientunitstayid  admissionweight_x  admissionweight_y  intaketotal  \\\n0                  141179                NaN                NaN          0.0   \n1                  141179                NaN                NaN          0.0   \n2                  141179                NaN                NaN          0.0   \n3                  141179                NaN                NaN          0.0   \n4                  141194              73.90              73.90        290.4   \n...                   ...                ...                ...          ...   \n207342             425009              65.80              65.80          0.0   \n207343             425010              65.80              65.80          0.0   \n207344             425072              93.90              93.90          0.0   \n207345             425072              93.90              93.90          0.0   \n207346             425092              91.26              91.26          0.0   \n\n        outputtotal celllabel  \n0             700.0     Urine  \n1             500.0     Urine  \n2            1000.0     Urine  \n3             700.0     Urine  \n4             100.0     Urine  \n...             ...       ...  \n207342        300.0     Urine  \n207343        150.0     Urine  \n207344        350.0     Urine  \n207345          0.0     Urine  \n207346        500.0     Urine  \n\n[207347 rows x 6 columns]",
      "text/html": "<div>\n<style scoped>\n    .dataframe tbody tr th:only-of-type {\n        vertical-align: middle;\n    }\n\n    .dataframe tbody tr th {\n        vertical-align: top;\n    }\n\n    .dataframe thead th {\n        text-align: right;\n    }\n</style>\n<table border=\"1\" class=\"dataframe\">\n  <thead>\n    <tr style=\"text-align: right;\">\n      <th></th>\n      <th>patientunitstayid</th>\n      <th>admissionweight_x</th>\n      <th>admissionweight_y</th>\n      <th>intaketotal</th>\n      <th>outputtotal</th>\n      <th>celllabel</th>\n    </tr>\n  </thead>\n  <tbody>\n    <tr>\n      <td>0</td>\n      <td>141179</td>\n      <td>NaN</td>\n      <td>NaN</td>\n      <td>0.0</td>\n      <td>700.0</td>\n      <td>Urine</td>\n    </tr>\n    <tr>\n      <td>1</td>\n      <td>141179</td>\n      <td>NaN</td>\n      <td>NaN</td>\n      <td>0.0</td>\n      <td>500.0</td>\n      <td>Urine</td>\n    </tr>\n    <tr>\n      <td>2</td>\n      <td>141179</td>\n      <td>NaN</td>\n      <td>NaN</td>\n      <td>0.0</td>\n      <td>1000.0</td>\n      <td>Urine</td>\n    </tr>\n    <tr>\n      <td>3</td>\n      <td>141179</td>\n      <td>NaN</td>\n      <td>NaN</td>\n      <td>0.0</td>\n      <td>700.0</td>\n      <td>Urine</td>\n    </tr>\n    <tr>\n      <td>4</td>\n      <td>141194</td>\n      <td>73.90</td>\n      <td>73.90</td>\n      <td>290.4</td>\n      <td>100.0</td>\n      <td>Urine</td>\n    </tr>\n    <tr>\n      <td>...</td>\n      <td>...</td>\n      <td>...</td>\n      <td>...</td>\n      <td>...</td>\n      <td>...</td>\n      <td>...</td>\n    </tr>\n    <tr>\n      <td>207342</td>\n      <td>425009</td>\n      <td>65.80</td>\n      <td>65.80</td>\n      <td>0.0</td>\n      <td>300.0</td>\n      <td>Urine</td>\n    </tr>\n    <tr>\n      <td>207343</td>\n      <td>425010</td>\n      <td>65.80</td>\n      <td>65.80</td>\n      <td>0.0</td>\n      <td>150.0</td>\n      <td>Urine</td>\n    </tr>\n    <tr>\n      <td>207344</td>\n      <td>425072</td>\n      <td>93.90</td>\n      <td>93.90</td>\n      <td>0.0</td>\n      <td>350.0</td>\n      <td>Urine</td>\n    </tr>\n    <tr>\n      <td>207345</td>\n      <td>425072</td>\n      <td>93.90</td>\n      <td>93.90</td>\n      <td>0.0</td>\n      <td>0.0</td>\n      <td>Urine</td>\n    </tr>\n    <tr>\n      <td>207346</td>\n      <td>425092</td>\n      <td>91.26</td>\n      <td>91.26</td>\n      <td>0.0</td>\n      <td>500.0</td>\n      <td>Urine</td>\n    </tr>\n  </tbody>\n</table>\n<p>207347 rows × 6 columns</p>\n</div>"
     },
     "metadata": {},
     "output_type": "execute_result",
     "execution_count": 13
    }
   ],
   "source": [
    "intakeOutputUrine = pd.DataFrame.merge(patient, intakeOutputUrine,on='patientunitstayid')\n",
    "intakeOutputUrine"
   ],
   "metadata": {
    "collapsed": false,
    "pycharm": {
     "name": "#%%\n",
     "is_executing": false
    }
   }
  },
  {
   "cell_type": "code",
   "execution_count": null,
   "outputs": [],
   "source": [
    "\n"
   ],
   "metadata": {
    "collapsed": false,
    "pycharm": {
     "name": "#%%\n"
    }
   }
  }
 ],
 "metadata": {
  "kernelspec": {
   "display_name": "Python 3",
   "language": "python",
   "name": "python3"
  },
  "language_info": {
   "codemirror_mode": {
    "name": "ipython",
    "version": 2
   },
   "file_extension": ".py",
   "mimetype": "text/x-python",
   "name": "python",
   "nbconvert_exporter": "python",
   "pygments_lexer": "ipython2",
   "version": "2.7.6"
  },
  "pycharm": {
   "stem_cell": {
    "cell_type": "raw",
    "source": [],
    "metadata": {
     "collapsed": false
    }
   }
  }
 },
 "nbformat": 4,
 "nbformat_minor": 0
}