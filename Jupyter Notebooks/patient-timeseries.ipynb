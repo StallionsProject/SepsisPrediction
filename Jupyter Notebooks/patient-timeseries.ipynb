{
 "cells": [
  {
   "cell_type": "code",
   "execution_count": 1,
   "metadata": {
    "collapsed": true,
    "pycharm": {
     "is_executing": false
    }
   },
   "outputs": [],
   "source": [
    "import pandas as pd\n",
    "# import numpy as np"
   ]
  },
  {
   "cell_type": "code",
   "execution_count": 2,
   "outputs": [],
   "source": [
    "database_type = \"/full\""
   ],
   "metadata": {
    "collapsed": false,
    "pycharm": {
     "name": "#%%\n",
     "is_executing": false
    }
   }
  },
  {
   "cell_type": "markdown",
   "source": [
    "The `patient` table includes general information about the patient admissions (for example, demographics, admission and discharge details). \n",
    "See: http://eicu-crd.mit.edu/eicutables/patient/"
   ],
   "metadata": {
    "collapsed": false
   }
  },
  {
   "cell_type": "code",
   "execution_count": 27,
   "outputs": [
    {
     "data": {
      "text/plain": "                   admissionweight\npatientunitstayid                 \n141168                        84.3\n141178                        54.4\n141179                         NaN\n141194                        73.9\n141196                         NaN",
      "text/html": "<div>\n<style scoped>\n    .dataframe tbody tr th:only-of-type {\n        vertical-align: middle;\n    }\n\n    .dataframe tbody tr th {\n        vertical-align: top;\n    }\n\n    .dataframe thead th {\n        text-align: right;\n    }\n</style>\n<table border=\"1\" class=\"dataframe\">\n  <thead>\n    <tr style=\"text-align: right;\">\n      <th></th>\n      <th>admissionweight</th>\n    </tr>\n    <tr>\n      <th>patientunitstayid</th>\n      <th></th>\n    </tr>\n  </thead>\n  <tbody>\n    <tr>\n      <td>141168</td>\n      <td>84.3</td>\n    </tr>\n    <tr>\n      <td>141178</td>\n      <td>54.4</td>\n    </tr>\n    <tr>\n      <td>141179</td>\n      <td>NaN</td>\n    </tr>\n    <tr>\n      <td>141194</td>\n      <td>73.9</td>\n    </tr>\n    <tr>\n      <td>141196</td>\n      <td>NaN</td>\n    </tr>\n  </tbody>\n</table>\n</div>"
     },
     "metadata": {},
     "output_type": "execute_result",
     "execution_count": 27
    }
   ],
   "source": [
    "# loads patient table\n",
    "patients = pd.read_csv('../eICU' + database_type + '/patient.csv', nrows=999999) \n",
    "patients = patients[['patientunitstayid', 'admissionweight']].set_index('patientunitstayid')\n",
    "patients.head()"
   ],
   "metadata": {
    "collapsed": false,
    "pycharm": {
     "name": "#%%\n",
     "is_executing": false
    }
   }
  },
  {
   "cell_type": "markdown",
   "source": [
    "The `vitalperiodic` table comprises data that is consistently interfaced from bedside vital signs monitors into eCareManager. \n",
    "Data are generally interfaced as 1 minute averages, and archived into the `vitalperiodic` table as 5 minute median values. \n",
    "For more detail, see: http://eicu-crd.mit.edu/eicutables/vitalPeriodic/"
   ],
   "metadata": {
    "collapsed": false,
    "pycharm": {
     "name": "#%% md\n"
    }
   }
  },
  {
   "cell_type": "code",
   "execution_count": 12,
   "outputs": [
    {
     "data": {
      "text/plain": "                   patientunitstayid  temperature  heartrate  respiration  \\\nobservationoffset                                                           \n-1445                         148349          NaN       60.0         20.0   \n-1440                         148349          NaN       60.0         21.0   \n-1435                         150049          NaN       96.0         19.0   \n-1435                         146418          NaN       71.0         23.0   \n-1435                         148349          NaN       60.0         21.0   \n\n                   systemicsystolic  \nobservationoffset                    \n-1445                           NaN  \n-1440                           NaN  \n-1435                           NaN  \n-1435                           NaN  \n-1435                           NaN  ",
      "text/html": "<div>\n<style scoped>\n    .dataframe tbody tr th:only-of-type {\n        vertical-align: middle;\n    }\n\n    .dataframe tbody tr th {\n        vertical-align: top;\n    }\n\n    .dataframe thead th {\n        text-align: right;\n    }\n</style>\n<table border=\"1\" class=\"dataframe\">\n  <thead>\n    <tr style=\"text-align: right;\">\n      <th></th>\n      <th>patientunitstayid</th>\n      <th>temperature</th>\n      <th>heartrate</th>\n      <th>respiration</th>\n      <th>systemicsystolic</th>\n    </tr>\n    <tr>\n      <th>observationoffset</th>\n      <th></th>\n      <th></th>\n      <th></th>\n      <th></th>\n      <th></th>\n    </tr>\n  </thead>\n  <tbody>\n    <tr>\n      <td>-1445</td>\n      <td>148349</td>\n      <td>NaN</td>\n      <td>60.0</td>\n      <td>20.0</td>\n      <td>NaN</td>\n    </tr>\n    <tr>\n      <td>-1440</td>\n      <td>148349</td>\n      <td>NaN</td>\n      <td>60.0</td>\n      <td>21.0</td>\n      <td>NaN</td>\n    </tr>\n    <tr>\n      <td>-1435</td>\n      <td>150049</td>\n      <td>NaN</td>\n      <td>96.0</td>\n      <td>19.0</td>\n      <td>NaN</td>\n    </tr>\n    <tr>\n      <td>-1435</td>\n      <td>146418</td>\n      <td>NaN</td>\n      <td>71.0</td>\n      <td>23.0</td>\n      <td>NaN</td>\n    </tr>\n    <tr>\n      <td>-1435</td>\n      <td>148349</td>\n      <td>NaN</td>\n      <td>60.0</td>\n      <td>21.0</td>\n      <td>NaN</td>\n    </tr>\n  </tbody>\n</table>\n</div>"
     },
     "metadata": {},
     "output_type": "execute_result",
     "execution_count": 12
    }
   ],
   "source": [
    "vitalperiodic = pd.read_csv('../eICU' + database_type + '/vitalPeriodic.csv', nrows=999999)\n",
    "columns = ['patientunitstayid', 'observationoffset', 'temperature', 'heartrate', 'respiration', 'systemicsystolic']\n",
    "vitalperiodic = vitalperiodic[columns].set_index('observationoffset')\n",
    "vitalperiodic = vitalperiodic.sort_values(by='observationoffset')\n",
    "vitalperiodic.head()"
   ],
   "metadata": {
    "collapsed": false,
    "pycharm": {
     "name": "#%%\n",
     "is_executing": false
    }
   }
  },
  {
   "cell_type": "markdown",
   "source": [
    "The `vitalAperiodic` table provides invasive vital sign data that is recorded at irregular intervals. \n",
    "See: http://eicu-crd.mit.edu/eicutables/vitalAperiodic/"
   ],
   "metadata": {
    "collapsed": false,
    "pycharm": {
     "name": "#%% md\n"
    }
   }
  },
  {
   "cell_type": "code",
   "execution_count": 14,
   "outputs": [
    {
     "data": {
      "text/plain": "                   patientunitstayid  noninvasivesystolic  cardiacoutput  \\\nobservationoffset                                                          \n-4320                         218289                187.0            NaN   \n-4319                         218289                178.0            NaN   \n-3883                         218287                138.0            NaN   \n-3659                         218287                134.0            NaN   \n-3632                         218287                147.0            NaN   \n\n                   cardiacinput  \nobservationoffset                \n-4320                       NaN  \n-4319                       NaN  \n-3883                       NaN  \n-3659                       NaN  \n-3632                       NaN  ",
      "text/html": "<div>\n<style scoped>\n    .dataframe tbody tr th:only-of-type {\n        vertical-align: middle;\n    }\n\n    .dataframe tbody tr th {\n        vertical-align: top;\n    }\n\n    .dataframe thead th {\n        text-align: right;\n    }\n</style>\n<table border=\"1\" class=\"dataframe\">\n  <thead>\n    <tr style=\"text-align: right;\">\n      <th></th>\n      <th>patientunitstayid</th>\n      <th>noninvasivesystolic</th>\n      <th>cardiacoutput</th>\n      <th>cardiacinput</th>\n    </tr>\n    <tr>\n      <th>observationoffset</th>\n      <th></th>\n      <th></th>\n      <th></th>\n      <th></th>\n    </tr>\n  </thead>\n  <tbody>\n    <tr>\n      <td>-4320</td>\n      <td>218289</td>\n      <td>187.0</td>\n      <td>NaN</td>\n      <td>NaN</td>\n    </tr>\n    <tr>\n      <td>-4319</td>\n      <td>218289</td>\n      <td>178.0</td>\n      <td>NaN</td>\n      <td>NaN</td>\n    </tr>\n    <tr>\n      <td>-3883</td>\n      <td>218287</td>\n      <td>138.0</td>\n      <td>NaN</td>\n      <td>NaN</td>\n    </tr>\n    <tr>\n      <td>-3659</td>\n      <td>218287</td>\n      <td>134.0</td>\n      <td>NaN</td>\n      <td>NaN</td>\n    </tr>\n    <tr>\n      <td>-3632</td>\n      <td>218287</td>\n      <td>147.0</td>\n      <td>NaN</td>\n      <td>NaN</td>\n    </tr>\n  </tbody>\n</table>\n</div>"
     },
     "metadata": {},
     "output_type": "execute_result",
     "execution_count": 14
    }
   ],
   "source": [
    "vitalaperiodic = pd.read_csv('../eICU' + database_type + '/vitalAperiodic.csv', nrows=999999)\n",
    "columns = ['observationoffset', 'patientunitstayid','noninvasivesystolic','cardiacoutput','cardiacinput']\n",
    "vitalaperiodic = vitalaperiodic[columns].set_index('observationoffset')\n",
    "vitalaperiodic = vitalaperiodic.sort_values(by='observationoffset')\n",
    "vitalaperiodic.head()"
   ],
   "metadata": {
    "collapsed": false,
    "pycharm": {
     "name": "#%%\n",
     "is_executing": false
    }
   }
  },
  {
   "cell_type": "markdown",
   "source": [
    "The `lab` table provides Laboratory tests that have have been mapped to a standard set of measurements. \n",
    "Unmapped measurements are recorded in the customLab table.\n",
    "See: http://eicu-crd.mit.edu/eicutables/lab/"
   ],
   "metadata": {
    "collapsed": false
   }
  },
  {
   "cell_type": "code",
   "execution_count": 19,
   "outputs": [
    {
     "data": {
      "text/plain": "      labid  patientunitstayid  labresultoffset  labtypeid     labname  \\\n0  52307161             141168             2026          3  fibrinogen   \n1  50363251             141168             1133          3    PT - INR   \n2  49149139             141168             2026          1   magnesium   \n3  50363250             141168             1133          3          PT   \n4  66695374             141168             2141          7          pH   \n\n   labresult labresulttext labmeasurenamesystem labmeasurenameinterface  \\\n0      177.0           177                mg/dL                   mg/dL   \n1        2.5           2.5                ratio                     NaN   \n2        2.0           2.0                mg/dL                   mg/dL   \n3       26.6          26.6                  sec                     sec   \n4        7.2          7.20                  NaN                   Units   \n\n   labresultrevisedoffset  \n0                    2219  \n1                    1208  \n2                    2090  \n3                    1208  \n4                    2155  ",
      "text/html": "<div>\n<style scoped>\n    .dataframe tbody tr th:only-of-type {\n        vertical-align: middle;\n    }\n\n    .dataframe tbody tr th {\n        vertical-align: top;\n    }\n\n    .dataframe thead th {\n        text-align: right;\n    }\n</style>\n<table border=\"1\" class=\"dataframe\">\n  <thead>\n    <tr style=\"text-align: right;\">\n      <th></th>\n      <th>labid</th>\n      <th>patientunitstayid</th>\n      <th>labresultoffset</th>\n      <th>labtypeid</th>\n      <th>labname</th>\n      <th>labresult</th>\n      <th>labresulttext</th>\n      <th>labmeasurenamesystem</th>\n      <th>labmeasurenameinterface</th>\n      <th>labresultrevisedoffset</th>\n    </tr>\n  </thead>\n  <tbody>\n    <tr>\n      <td>0</td>\n      <td>52307161</td>\n      <td>141168</td>\n      <td>2026</td>\n      <td>3</td>\n      <td>fibrinogen</td>\n      <td>177.0</td>\n      <td>177</td>\n      <td>mg/dL</td>\n      <td>mg/dL</td>\n      <td>2219</td>\n    </tr>\n    <tr>\n      <td>1</td>\n      <td>50363251</td>\n      <td>141168</td>\n      <td>1133</td>\n      <td>3</td>\n      <td>PT - INR</td>\n      <td>2.5</td>\n      <td>2.5</td>\n      <td>ratio</td>\n      <td>NaN</td>\n      <td>1208</td>\n    </tr>\n    <tr>\n      <td>2</td>\n      <td>49149139</td>\n      <td>141168</td>\n      <td>2026</td>\n      <td>1</td>\n      <td>magnesium</td>\n      <td>2.0</td>\n      <td>2.0</td>\n      <td>mg/dL</td>\n      <td>mg/dL</td>\n      <td>2090</td>\n    </tr>\n    <tr>\n      <td>3</td>\n      <td>50363250</td>\n      <td>141168</td>\n      <td>1133</td>\n      <td>3</td>\n      <td>PT</td>\n      <td>26.6</td>\n      <td>26.6</td>\n      <td>sec</td>\n      <td>sec</td>\n      <td>1208</td>\n    </tr>\n    <tr>\n      <td>4</td>\n      <td>66695374</td>\n      <td>141168</td>\n      <td>2141</td>\n      <td>7</td>\n      <td>pH</td>\n      <td>7.2</td>\n      <td>7.20</td>\n      <td>NaN</td>\n      <td>Units</td>\n      <td>2155</td>\n    </tr>\n  </tbody>\n</table>\n</div>"
     },
     "metadata": {},
     "output_type": "execute_result",
     "execution_count": 19
    }
   ],
   "source": [
    "lab = pd.read_csv('../eICU' + database_type + '/lab.csv', nrows=999999)\n",
    "columns = ['labresultoffset', 'patientunitstayid','labtypeid','labname', 'labresult', 'labmeasurenamesystem', 'labmeasurenameinterface']\n",
    "lab = lab[columns].set_index('labresultoffset')\n",
    "lab = lab.sort_values(by='labresultoffset')\n",
    "lab.head()"
   ],
   "metadata": {
    "collapsed": false,
    "pycharm": {
     "name": "#%%\n",
     "is_executing": false
    }
   }
  },
  {
   "cell_type": "code",
   "execution_count": null,
   "outputs": [],
   "source": [
    "# Pull out dataframe for labresults 'WBC x 1000', 'lactate', 'creatinine'\n"
   ],
   "metadata": {
    "collapsed": false,
    "pycharm": {
     "name": "#%%\n"
    }
   }
  },
  {
   "cell_type": "code",
   "execution_count": 18,
   "outputs": [
    {
     "data": {
      "text/plain": "                 patientunitstayid  labtypeid     labname  labresult  \\\nlabresultoffset                                                        \n 1701                       141168          4  creatinine     173.12   \n 2026                       141168          1  creatinine       2.95   \n 1133                       141168          1  creatinine       2.30   \n 516                        141168          1  creatinine       1.95   \n-280                        141178          1  creatinine       0.70   \n...                            ...        ...         ...        ...   \n 10778                      180812          1  creatinine       1.32   \n 4837                       180812          1  creatinine       1.25   \n 13693                      180812          1  creatinine       1.33   \n 14858                      180812          1  creatinine       1.30   \n 11983                      180812          1  creatinine       1.33   \n\n                labmeasurenamesystem labmeasurenameinterface  \nlabresultoffset                                               \n 1701                          mg/dL                   mg/dL  \n 2026                          mg/dL                   mg/dL  \n 1133                          mg/dL                   mg/dL  \n 516                           mg/dL                   mg/dL  \n-280                           mg/dL                   mg/dL  \n...                              ...                     ...  \n 10778                         mg/dL                   mg/dL  \n 4837                          mg/dL                   mg/dL  \n 13693                         mg/dL                   mg/dL  \n 14858                         mg/dL                   mg/dL  \n 11983                         mg/dL                   mg/dL  \n\n[30624 rows x 6 columns]",
      "text/html": "<div>\n<style scoped>\n    .dataframe tbody tr th:only-of-type {\n        vertical-align: middle;\n    }\n\n    .dataframe tbody tr th {\n        vertical-align: top;\n    }\n\n    .dataframe thead th {\n        text-align: right;\n    }\n</style>\n<table border=\"1\" class=\"dataframe\">\n  <thead>\n    <tr style=\"text-align: right;\">\n      <th></th>\n      <th>patientunitstayid</th>\n      <th>labtypeid</th>\n      <th>labname</th>\n      <th>labresult</th>\n      <th>labmeasurenamesystem</th>\n      <th>labmeasurenameinterface</th>\n    </tr>\n    <tr>\n      <th>labresultoffset</th>\n      <th></th>\n      <th></th>\n      <th></th>\n      <th></th>\n      <th></th>\n      <th></th>\n    </tr>\n  </thead>\n  <tbody>\n    <tr>\n      <td>1701</td>\n      <td>141168</td>\n      <td>4</td>\n      <td>creatinine</td>\n      <td>173.12</td>\n      <td>mg/dL</td>\n      <td>mg/dL</td>\n    </tr>\n    <tr>\n      <td>2026</td>\n      <td>141168</td>\n      <td>1</td>\n      <td>creatinine</td>\n      <td>2.95</td>\n      <td>mg/dL</td>\n      <td>mg/dL</td>\n    </tr>\n    <tr>\n      <td>1133</td>\n      <td>141168</td>\n      <td>1</td>\n      <td>creatinine</td>\n      <td>2.30</td>\n      <td>mg/dL</td>\n      <td>mg/dL</td>\n    </tr>\n    <tr>\n      <td>516</td>\n      <td>141168</td>\n      <td>1</td>\n      <td>creatinine</td>\n      <td>1.95</td>\n      <td>mg/dL</td>\n      <td>mg/dL</td>\n    </tr>\n    <tr>\n      <td>-280</td>\n      <td>141178</td>\n      <td>1</td>\n      <td>creatinine</td>\n      <td>0.70</td>\n      <td>mg/dL</td>\n      <td>mg/dL</td>\n    </tr>\n    <tr>\n      <td>...</td>\n      <td>...</td>\n      <td>...</td>\n      <td>...</td>\n      <td>...</td>\n      <td>...</td>\n      <td>...</td>\n    </tr>\n    <tr>\n      <td>10778</td>\n      <td>180812</td>\n      <td>1</td>\n      <td>creatinine</td>\n      <td>1.32</td>\n      <td>mg/dL</td>\n      <td>mg/dL</td>\n    </tr>\n    <tr>\n      <td>4837</td>\n      <td>180812</td>\n      <td>1</td>\n      <td>creatinine</td>\n      <td>1.25</td>\n      <td>mg/dL</td>\n      <td>mg/dL</td>\n    </tr>\n    <tr>\n      <td>13693</td>\n      <td>180812</td>\n      <td>1</td>\n      <td>creatinine</td>\n      <td>1.33</td>\n      <td>mg/dL</td>\n      <td>mg/dL</td>\n    </tr>\n    <tr>\n      <td>14858</td>\n      <td>180812</td>\n      <td>1</td>\n      <td>creatinine</td>\n      <td>1.30</td>\n      <td>mg/dL</td>\n      <td>mg/dL</td>\n    </tr>\n    <tr>\n      <td>11983</td>\n      <td>180812</td>\n      <td>1</td>\n      <td>creatinine</td>\n      <td>1.33</td>\n      <td>mg/dL</td>\n      <td>mg/dL</td>\n    </tr>\n  </tbody>\n</table>\n<p>30624 rows × 6 columns</p>\n</div>"
     },
     "metadata": {},
     "output_type": "execute_result",
     "execution_count": 18
    }
   ],
   "source": [
    "# converts all occurances of urinary creatinine in labname col to creatinine\n",
    "# alternativy check labtypeid creatinine = 1,  urinary creatinine = 4\n",
    "\n",
    "lab.loc[lab['labname'].str.contains(\"urinary creatinine\"), 'labname'] = \"creatinine\"\n",
    "lab.loc[(lab['labname'].str.contains(\"creatinine\"))]"
   ],
   "metadata": {
    "collapsed": false,
    "pycharm": {
     "name": "#%%\n",
     "is_executing": false
    }
   }
  },
  {
   "cell_type": "code",
   "execution_count": 14,
   "outputs": [],
   "source": [
    "# showing all results for parient with id 154910\n",
    "\n",
    "lab['patientunitstayid'] = lab['patientunitstayid'].astype(str)\n",
    "lab.loc[(lab['patientunitstayid'].str.contains(\"154910\"))]"
   ],
   "metadata": {
    "collapsed": false,
    "pycharm": {
     "name": "#%%\n",
     "is_executing": false
    }
   }
  },
  {
   "cell_type": "code",
   "execution_count": 14,
   "outputs": [
    {
     "data": {
      "text/plain": "   intakeoutputid  patientunitstayid  intakeoutputoffset  intaketotal  \\\n0         9301638             205505                 661          0.0   \n1         9301639             205505                 661          0.0   \n2         9301642             150708                3523        727.0   \n3         9301643             150708                3523        727.0   \n4         9301645             158159               24801        120.0   \n\n   outputtotal  dialysistotal  nettotal  intakeoutputentryoffset  \\\n0          0.0            0.0       0.0                      661   \n1          0.0            0.0       0.0                      661   \n2          0.0            0.0     727.0                     3523   \n3          0.0            0.0     727.0                     3523   \n4          0.0            0.0     120.0                    24801   \n\n                                            cellpath  \\\n0  flowsheet|Flowsheet Cell Labels|I&O|Weight|Bod...   \n1  flowsheet|Flowsheet Cell Labels|I&O|Weight|Bod...   \n2  flowsheet|Flowsheet Cell Labels|I&O|Intake (ml...   \n3  flowsheet|Flowsheet Cell Labels|I&O|Intake (ml...   \n4  flowsheet|Flowsheet Cell Labels|I&O|Intake (ml...   \n\n                                           celllabel  cellvaluenumeric  \\\n0                                    Bodyweight (lb)             238.2   \n1                                    Bodyweight (kg)             108.0   \n2                                               P.O.             200.0   \n3  Volume (mL)-sodium chloride 0.9 % flush IVPB 5...             527.0   \n4                                               P.O.             120.0   \n\n   cellvaluetext  \n0          238.2  \n1          108.0  \n2          200.0  \n3          527.0  \n4          120.0  ",
      "text/html": "<div>\n<style scoped>\n    .dataframe tbody tr th:only-of-type {\n        vertical-align: middle;\n    }\n\n    .dataframe tbody tr th {\n        vertical-align: top;\n    }\n\n    .dataframe thead th {\n        text-align: right;\n    }\n</style>\n<table border=\"1\" class=\"dataframe\">\n  <thead>\n    <tr style=\"text-align: right;\">\n      <th></th>\n      <th>intakeoutputid</th>\n      <th>patientunitstayid</th>\n      <th>intakeoutputoffset</th>\n      <th>intaketotal</th>\n      <th>outputtotal</th>\n      <th>dialysistotal</th>\n      <th>nettotal</th>\n      <th>intakeoutputentryoffset</th>\n      <th>cellpath</th>\n      <th>celllabel</th>\n      <th>cellvaluenumeric</th>\n      <th>cellvaluetext</th>\n    </tr>\n  </thead>\n  <tbody>\n    <tr>\n      <td>0</td>\n      <td>9301638</td>\n      <td>205505</td>\n      <td>661</td>\n      <td>0.0</td>\n      <td>0.0</td>\n      <td>0.0</td>\n      <td>0.0</td>\n      <td>661</td>\n      <td>flowsheet|Flowsheet Cell Labels|I&amp;O|Weight|Bod...</td>\n      <td>Bodyweight (lb)</td>\n      <td>238.2</td>\n      <td>238.2</td>\n    </tr>\n    <tr>\n      <td>1</td>\n      <td>9301639</td>\n      <td>205505</td>\n      <td>661</td>\n      <td>0.0</td>\n      <td>0.0</td>\n      <td>0.0</td>\n      <td>0.0</td>\n      <td>661</td>\n      <td>flowsheet|Flowsheet Cell Labels|I&amp;O|Weight|Bod...</td>\n      <td>Bodyweight (kg)</td>\n      <td>108.0</td>\n      <td>108.0</td>\n    </tr>\n    <tr>\n      <td>2</td>\n      <td>9301642</td>\n      <td>150708</td>\n      <td>3523</td>\n      <td>727.0</td>\n      <td>0.0</td>\n      <td>0.0</td>\n      <td>727.0</td>\n      <td>3523</td>\n      <td>flowsheet|Flowsheet Cell Labels|I&amp;O|Intake (ml...</td>\n      <td>P.O.</td>\n      <td>200.0</td>\n      <td>200.0</td>\n    </tr>\n    <tr>\n      <td>3</td>\n      <td>9301643</td>\n      <td>150708</td>\n      <td>3523</td>\n      <td>727.0</td>\n      <td>0.0</td>\n      <td>0.0</td>\n      <td>727.0</td>\n      <td>3523</td>\n      <td>flowsheet|Flowsheet Cell Labels|I&amp;O|Intake (ml...</td>\n      <td>Volume (mL)-sodium chloride 0.9 % flush IVPB 5...</td>\n      <td>527.0</td>\n      <td>527.0</td>\n    </tr>\n    <tr>\n      <td>4</td>\n      <td>9301645</td>\n      <td>158159</td>\n      <td>24801</td>\n      <td>120.0</td>\n      <td>0.0</td>\n      <td>0.0</td>\n      <td>120.0</td>\n      <td>24801</td>\n      <td>flowsheet|Flowsheet Cell Labels|I&amp;O|Intake (ml...</td>\n      <td>P.O.</td>\n      <td>120.0</td>\n      <td>120.0</td>\n    </tr>\n  </tbody>\n</table>\n</div>"
     },
     "metadata": {},
     "output_type": "execute_result",
     "execution_count": 14
    }
   ],
   "source": [
    "intakeOutput = pd.read_csv('../eICU' + database_type + '/intakeOutput.csv', nrows=999999)\n",
    "intakeOutput.head()"
   ],
   "metadata": {
    "collapsed": false,
    "pycharm": {
     "name": "#%%\n",
     "is_executing": false
    }
   }
  },
  {
   "cell_type": "code",
   "execution_count": 22,
   "outputs": [
    {
     "name": "stderr",
     "text": [
      "C:\\tools\\Anaconda3\\lib\\site-packages\\ipykernel_launcher.py:2: SettingWithCopyWarning: \n",
      "A value is trying to be set on a copy of a slice from a DataFrame.\n",
      "Try using .loc[row_indexer,col_indexer] = value instead\n",
      "\n",
      "See the caveats in the documentation: http://pandas.pydata.org/pandas-docs/stable/user_guide/indexing.html#returning-a-view-versus-a-copy\n",
      "  \n"
     ],
     "output_type": "stream"
    },
    {
     "data": {
      "text/plain": "        intakeoutputid patientunitstayid  intakeoutputoffset  intaketotal  \\\n813689        16734129            178962               -4627        300.0   \n85278         10086913            178962               -4417        240.0   \n294647        11992927            178962               -4237          0.0   \n365555        12641418            178962               -4147          0.0   \n510054        13960123            178962               -4044          0.0   \n408163        13028278            178962               -3854          0.0   \n495042        13822200            178962               -3205        300.0   \n525701        14104055            178962               -3037          0.0   \n135627        10542811            178962               -2437          0.0   \n644552        15188036            178962               -1963          0.0   \n445581        13367686            178962               -1677        300.0   \n10             9301697            178962               -1507        240.0   \n590203        14695656            178962               -1357          0.0   \n259295        11671605            178962               -1202          0.0   \n892347        17454671            178962                -958          0.0   \n8420           9379725            178962                -877          0.0   \n368340        12666213            178962                -480          0.0   \n86346         10096735            178962                -243          0.0   \n558818        14409911            178962                 263          0.0   \n222963        11342538            178962                 503        360.0   \n180535        10956152            178962                 983         79.0   \n863707        17190232            178962                1193          0.0   \n216872        11287542            178962                1403        100.0   \n656246        15296280            178962                1509          0.0   \n479360        13676727            178962                1598          0.0   \n253780        11622582            178962                1737          0.0   \n569243        14504253            178962                1776          0.0   \n581510        14615196            178962                1823          0.0   \n562639        14446001            178962                1943        260.0   \n537221        14210678            178962                2063          0.0   \n437225        13291211            178962                2303          0.0   \n554756        14372786            178962                2543          0.0   \n219581        11311990            178962                2632          0.0   \n658357        15315490            178962                2663          0.0   \n843196        17003100            178962                2843        310.0   \n730166        15973123            178962                2963          0.0   \n265798        11730584            178962                3143          0.0   \n583267        14631969            178962                3213          0.0   \n642512        15170458            178962                3263          0.0   \n102587        10241799            178962                3383        100.0   \n321033        12234242            178962                3743          0.0   \n134794        10535112            178962                3863         50.0   \n710852        15797689            178962                3983          0.0   \n367708        12660608            178962                4823          0.0   \n451419        13421644            178962                4883          0.0   \n54133          9802371            178962                5303          0.0   \n852772        17089197            178962                5412          0.0   \n382687        12796867            178962                5723        200.0   \n601820        14800123            178962                6338          0.0   \n14603          9437585            178962                6984          0.0   \n621291        14977661            178962                7223          0.0   \n361499        12604573            178962                7608        200.0   \n120227        10402151            178962                7703          0.0   \n188648        11030922            178962                7736        200.0   \n409943        13043858            178962                7925          0.0   \n812351        16722109            178962                8260          0.0   \n\n        outputtotal  dialysistotal  nettotal  intakeoutputentryoffset  \\\n813689        300.0            0.0       0.0                    -4627   \n85278         400.0            0.0    -160.0                    -4417   \n294647        300.0            0.0    -300.0                    -4237   \n365555        225.0            0.0    -225.0                    -4147   \n510054        125.0            0.0    -125.0                    -4044   \n408163        375.0            0.0    -375.0                    -3854   \n495042        200.0            0.0     100.0                    -3205   \n525701        250.0            0.0    -250.0                    -3037   \n135627        400.0            0.0    -400.0                    -2437   \n644552        400.0            0.0    -400.0                    -1963   \n445581        625.0            0.0    -325.0                    -1677   \n10            400.0            0.0    -160.0                    -1507   \n590203        300.0            0.0    -300.0                    -1357   \n259295        250.0            0.0    -250.0                    -1202   \n892347        425.0            0.0    -425.0                     -958   \n8420          500.0            0.0    -500.0                     -877   \n368340        300.0            0.0    -300.0                     -480   \n86346         475.0            0.0    -475.0                     -243   \n558818        150.0            0.0    -150.0                      263   \n222963        200.0            0.0     160.0                      503   \n180535        200.0            0.0    -121.0                      983   \n863707        400.0            0.0    -400.0                     1193   \n216872        150.0            0.0     -50.0                     1403   \n656246        125.0            0.0    -125.0                     1509   \n479360        150.0            0.0    -150.0                     1598   \n253780        150.0            0.0    -150.0                     1737   \n569243        150.0            0.0    -150.0                     1776   \n581510        100.0            0.0    -100.0                     1823   \n562639        300.0            0.0     -40.0                     1943   \n537221        175.0            0.0    -175.0                     2063   \n437225        200.0            0.0    -200.0                     2303   \n554756        220.0            0.0    -220.0                     2543   \n219581        375.0            0.0    -375.0                     2632   \n658357        120.0            0.0    -120.0                     2663   \n843196        120.0            0.0     190.0                     2843   \n730166        200.0            0.0    -200.0                     2963   \n265798        200.0            0.0    -200.0                     3143   \n583267        325.0            0.0    -325.0                     3213   \n642512        200.0            0.0    -200.0                     3263   \n102587        400.0            0.0    -300.0                     3383   \n321033        175.0            0.0    -175.0                     3743   \n134794        180.0            0.0    -130.0                     3863   \n710852        150.0            0.0    -150.0                     3983   \n367708        200.0            0.0    -200.0                     4823   \n451419        180.0            0.0    -180.0                     4883   \n54133         125.0            0.0    -125.0                     5303   \n852772        100.0            0.0    -100.0                     5412   \n382687        100.0            0.0     100.0                     5723   \n601820        100.0            0.0    -100.0                     6338   \n14603         100.0            0.0    -100.0                     6984   \n621291        100.0            0.0    -100.0                     7223   \n361499        200.0            0.0       0.0                     7608   \n120227         75.0            0.0     -75.0                     7703   \n188648         50.0            0.0     150.0                     7736   \n409943        150.0            0.0    -150.0                     7925   \n812351        200.0            0.0    -200.0                     8260   \n\n                                                 cellpath celllabel  \\\n813689  flowsheet|Flowsheet Cell Labels|I&O|Output (ml...     Urine   \n85278   flowsheet|Flowsheet Cell Labels|I&O|Output (ml...     Urine   \n294647  flowsheet|Flowsheet Cell Labels|I&O|Output (ml...     Urine   \n365555  flowsheet|Flowsheet Cell Labels|I&O|Output (ml...     Urine   \n510054  flowsheet|Flowsheet Cell Labels|I&O|Output (ml...     Urine   \n408163  flowsheet|Flowsheet Cell Labels|I&O|Output (ml...     Urine   \n495042  flowsheet|Flowsheet Cell Labels|I&O|Output (ml...     Urine   \n525701  flowsheet|Flowsheet Cell Labels|I&O|Output (ml...     Urine   \n135627  flowsheet|Flowsheet Cell Labels|I&O|Output (ml...     Urine   \n644552  flowsheet|Flowsheet Cell Labels|I&O|Output (ml...     Urine   \n445581  flowsheet|Flowsheet Cell Labels|I&O|Output (ml...     Urine   \n10      flowsheet|Flowsheet Cell Labels|I&O|Output (ml...     Urine   \n590203  flowsheet|Flowsheet Cell Labels|I&O|Output (ml...     Urine   \n259295  flowsheet|Flowsheet Cell Labels|I&O|Output (ml...     Urine   \n892347  flowsheet|Flowsheet Cell Labels|I&O|Output (ml...     Urine   \n8420    flowsheet|Flowsheet Cell Labels|I&O|Output (ml...     Urine   \n368340  flowsheet|Flowsheet Cell Labels|I&O|Output (ml...     Urine   \n86346   flowsheet|Flowsheet Cell Labels|I&O|Output (ml...     Urine   \n558818  flowsheet|Flowsheet Cell Labels|I&O|Output (ml...     Urine   \n222963  flowsheet|Flowsheet Cell Labels|I&O|Output (ml...     Urine   \n180535  flowsheet|Flowsheet Cell Labels|I&O|Output (ml...     Urine   \n863707  flowsheet|Flowsheet Cell Labels|I&O|Output (ml...     Urine   \n216872  flowsheet|Flowsheet Cell Labels|I&O|Output (ml...     Urine   \n656246  flowsheet|Flowsheet Cell Labels|I&O|Output (ml...     Urine   \n479360  flowsheet|Flowsheet Cell Labels|I&O|Output (ml...     Urine   \n253780  flowsheet|Flowsheet Cell Labels|I&O|Output (ml...     Urine   \n569243  flowsheet|Flowsheet Cell Labels|I&O|Output (ml...     Urine   \n581510  flowsheet|Flowsheet Cell Labels|I&O|Output (ml...     Urine   \n562639  flowsheet|Flowsheet Cell Labels|I&O|Output (ml...     Urine   \n537221  flowsheet|Flowsheet Cell Labels|I&O|Output (ml...     Urine   \n437225  flowsheet|Flowsheet Cell Labels|I&O|Output (ml...     Urine   \n554756  flowsheet|Flowsheet Cell Labels|I&O|Output (ml...     Urine   \n219581  flowsheet|Flowsheet Cell Labels|I&O|Output (ml...     Urine   \n658357  flowsheet|Flowsheet Cell Labels|I&O|Output (ml...     Urine   \n843196  flowsheet|Flowsheet Cell Labels|I&O|Output (ml...     Urine   \n730166  flowsheet|Flowsheet Cell Labels|I&O|Output (ml...     Urine   \n265798  flowsheet|Flowsheet Cell Labels|I&O|Output (ml...     Urine   \n583267  flowsheet|Flowsheet Cell Labels|I&O|Output (ml...     Urine   \n642512  flowsheet|Flowsheet Cell Labels|I&O|Output (ml...     Urine   \n102587  flowsheet|Flowsheet Cell Labels|I&O|Output (ml...     Urine   \n321033  flowsheet|Flowsheet Cell Labels|I&O|Output (ml...     Urine   \n134794  flowsheet|Flowsheet Cell Labels|I&O|Output (ml...     Urine   \n710852  flowsheet|Flowsheet Cell Labels|I&O|Output (ml...     Urine   \n367708  flowsheet|Flowsheet Cell Labels|I&O|Output (ml...     Urine   \n451419  flowsheet|Flowsheet Cell Labels|I&O|Output (ml...     Urine   \n54133   flowsheet|Flowsheet Cell Labels|I&O|Output (ml...     Urine   \n852772  flowsheet|Flowsheet Cell Labels|I&O|Output (ml...     Urine   \n382687  flowsheet|Flowsheet Cell Labels|I&O|Output (ml...     Urine   \n601820  flowsheet|Flowsheet Cell Labels|I&O|Output (ml...     Urine   \n14603   flowsheet|Flowsheet Cell Labels|I&O|Output (ml...     Urine   \n621291  flowsheet|Flowsheet Cell Labels|I&O|Output (ml...     Urine   \n361499  flowsheet|Flowsheet Cell Labels|I&O|Output (ml...     Urine   \n120227  flowsheet|Flowsheet Cell Labels|I&O|Output (ml...     Urine   \n188648  flowsheet|Flowsheet Cell Labels|I&O|Output (ml...     Urine   \n409943  flowsheet|Flowsheet Cell Labels|I&O|Output (ml...     Urine   \n812351  flowsheet|Flowsheet Cell Labels|I&O|Output (ml...     Urine   \n\n        cellvaluenumeric  cellvaluetext  \n813689             300.0          300.0  \n85278              400.0          400.0  \n294647             300.0          300.0  \n365555             225.0          225.0  \n510054             125.0          125.0  \n408163             375.0          375.0  \n495042             200.0          200.0  \n525701             250.0          250.0  \n135627             400.0          400.0  \n644552             400.0          400.0  \n445581             625.0          625.0  \n10                 400.0          400.0  \n590203             300.0          300.0  \n259295             250.0          250.0  \n892347             425.0          425.0  \n8420               500.0          500.0  \n368340             300.0          300.0  \n86346              475.0          475.0  \n558818             150.0          150.0  \n222963             200.0          200.0  \n180535             200.0          200.0  \n863707             400.0          400.0  \n216872             150.0          150.0  \n656246             125.0          125.0  \n479360             150.0          150.0  \n253780             150.0          150.0  \n569243             150.0          150.0  \n581510             100.0          100.0  \n562639             300.0          300.0  \n537221             175.0          175.0  \n437225             200.0          200.0  \n554756             220.0          220.0  \n219581             375.0          375.0  \n658357             120.0          120.0  \n843196             120.0          120.0  \n730166             200.0          200.0  \n265798             200.0          200.0  \n583267             325.0          325.0  \n642512             200.0          200.0  \n102587             400.0          400.0  \n321033             175.0          175.0  \n134794             180.0          180.0  \n710852             150.0          150.0  \n367708             200.0          200.0  \n451419             180.0          180.0  \n54133              125.0          125.0  \n852772             100.0          100.0  \n382687             100.0          100.0  \n601820             100.0          100.0  \n14603              100.0          100.0  \n621291             100.0          100.0  \n361499             200.0          200.0  \n120227              75.0           75.0  \n188648              50.0           50.0  \n409943             150.0          150.0  \n812351             200.0          200.0  ",
      "text/html": "<div>\n<style scoped>\n    .dataframe tbody tr th:only-of-type {\n        vertical-align: middle;\n    }\n\n    .dataframe tbody tr th {\n        vertical-align: top;\n    }\n\n    .dataframe thead th {\n        text-align: right;\n    }\n</style>\n<table border=\"1\" class=\"dataframe\">\n  <thead>\n    <tr style=\"text-align: right;\">\n      <th></th>\n      <th>intakeoutputid</th>\n      <th>patientunitstayid</th>\n      <th>intakeoutputoffset</th>\n      <th>intaketotal</th>\n      <th>outputtotal</th>\n      <th>dialysistotal</th>\n      <th>nettotal</th>\n      <th>intakeoutputentryoffset</th>\n      <th>cellpath</th>\n      <th>celllabel</th>\n      <th>cellvaluenumeric</th>\n      <th>cellvaluetext</th>\n    </tr>\n  </thead>\n  <tbody>\n    <tr>\n      <td>813689</td>\n      <td>16734129</td>\n      <td>178962</td>\n      <td>-4627</td>\n      <td>300.0</td>\n      <td>300.0</td>\n      <td>0.0</td>\n      <td>0.0</td>\n      <td>-4627</td>\n      <td>flowsheet|Flowsheet Cell Labels|I&amp;O|Output (ml...</td>\n      <td>Urine</td>\n      <td>300.0</td>\n      <td>300.0</td>\n    </tr>\n    <tr>\n      <td>85278</td>\n      <td>10086913</td>\n      <td>178962</td>\n      <td>-4417</td>\n      <td>240.0</td>\n      <td>400.0</td>\n      <td>0.0</td>\n      <td>-160.0</td>\n      <td>-4417</td>\n      <td>flowsheet|Flowsheet Cell Labels|I&amp;O|Output (ml...</td>\n      <td>Urine</td>\n      <td>400.0</td>\n      <td>400.0</td>\n    </tr>\n    <tr>\n      <td>294647</td>\n      <td>11992927</td>\n      <td>178962</td>\n      <td>-4237</td>\n      <td>0.0</td>\n      <td>300.0</td>\n      <td>0.0</td>\n      <td>-300.0</td>\n      <td>-4237</td>\n      <td>flowsheet|Flowsheet Cell Labels|I&amp;O|Output (ml...</td>\n      <td>Urine</td>\n      <td>300.0</td>\n      <td>300.0</td>\n    </tr>\n    <tr>\n      <td>365555</td>\n      <td>12641418</td>\n      <td>178962</td>\n      <td>-4147</td>\n      <td>0.0</td>\n      <td>225.0</td>\n      <td>0.0</td>\n      <td>-225.0</td>\n      <td>-4147</td>\n      <td>flowsheet|Flowsheet Cell Labels|I&amp;O|Output (ml...</td>\n      <td>Urine</td>\n      <td>225.0</td>\n      <td>225.0</td>\n    </tr>\n    <tr>\n      <td>510054</td>\n      <td>13960123</td>\n      <td>178962</td>\n      <td>-4044</td>\n      <td>0.0</td>\n      <td>125.0</td>\n      <td>0.0</td>\n      <td>-125.0</td>\n      <td>-4044</td>\n      <td>flowsheet|Flowsheet Cell Labels|I&amp;O|Output (ml...</td>\n      <td>Urine</td>\n      <td>125.0</td>\n      <td>125.0</td>\n    </tr>\n    <tr>\n      <td>408163</td>\n      <td>13028278</td>\n      <td>178962</td>\n      <td>-3854</td>\n      <td>0.0</td>\n      <td>375.0</td>\n      <td>0.0</td>\n      <td>-375.0</td>\n      <td>-3854</td>\n      <td>flowsheet|Flowsheet Cell Labels|I&amp;O|Output (ml...</td>\n      <td>Urine</td>\n      <td>375.0</td>\n      <td>375.0</td>\n    </tr>\n    <tr>\n      <td>495042</td>\n      <td>13822200</td>\n      <td>178962</td>\n      <td>-3205</td>\n      <td>300.0</td>\n      <td>200.0</td>\n      <td>0.0</td>\n      <td>100.0</td>\n      <td>-3205</td>\n      <td>flowsheet|Flowsheet Cell Labels|I&amp;O|Output (ml...</td>\n      <td>Urine</td>\n      <td>200.0</td>\n      <td>200.0</td>\n    </tr>\n    <tr>\n      <td>525701</td>\n      <td>14104055</td>\n      <td>178962</td>\n      <td>-3037</td>\n      <td>0.0</td>\n      <td>250.0</td>\n      <td>0.0</td>\n      <td>-250.0</td>\n      <td>-3037</td>\n      <td>flowsheet|Flowsheet Cell Labels|I&amp;O|Output (ml...</td>\n      <td>Urine</td>\n      <td>250.0</td>\n      <td>250.0</td>\n    </tr>\n    <tr>\n      <td>135627</td>\n      <td>10542811</td>\n      <td>178962</td>\n      <td>-2437</td>\n      <td>0.0</td>\n      <td>400.0</td>\n      <td>0.0</td>\n      <td>-400.0</td>\n      <td>-2437</td>\n      <td>flowsheet|Flowsheet Cell Labels|I&amp;O|Output (ml...</td>\n      <td>Urine</td>\n      <td>400.0</td>\n      <td>400.0</td>\n    </tr>\n    <tr>\n      <td>644552</td>\n      <td>15188036</td>\n      <td>178962</td>\n      <td>-1963</td>\n      <td>0.0</td>\n      <td>400.0</td>\n      <td>0.0</td>\n      <td>-400.0</td>\n      <td>-1963</td>\n      <td>flowsheet|Flowsheet Cell Labels|I&amp;O|Output (ml...</td>\n      <td>Urine</td>\n      <td>400.0</td>\n      <td>400.0</td>\n    </tr>\n    <tr>\n      <td>445581</td>\n      <td>13367686</td>\n      <td>178962</td>\n      <td>-1677</td>\n      <td>300.0</td>\n      <td>625.0</td>\n      <td>0.0</td>\n      <td>-325.0</td>\n      <td>-1677</td>\n      <td>flowsheet|Flowsheet Cell Labels|I&amp;O|Output (ml...</td>\n      <td>Urine</td>\n      <td>625.0</td>\n      <td>625.0</td>\n    </tr>\n    <tr>\n      <td>10</td>\n      <td>9301697</td>\n      <td>178962</td>\n      <td>-1507</td>\n      <td>240.0</td>\n      <td>400.0</td>\n      <td>0.0</td>\n      <td>-160.0</td>\n      <td>-1507</td>\n      <td>flowsheet|Flowsheet Cell Labels|I&amp;O|Output (ml...</td>\n      <td>Urine</td>\n      <td>400.0</td>\n      <td>400.0</td>\n    </tr>\n    <tr>\n      <td>590203</td>\n      <td>14695656</td>\n      <td>178962</td>\n      <td>-1357</td>\n      <td>0.0</td>\n      <td>300.0</td>\n      <td>0.0</td>\n      <td>-300.0</td>\n      <td>-1357</td>\n      <td>flowsheet|Flowsheet Cell Labels|I&amp;O|Output (ml...</td>\n      <td>Urine</td>\n      <td>300.0</td>\n      <td>300.0</td>\n    </tr>\n    <tr>\n      <td>259295</td>\n      <td>11671605</td>\n      <td>178962</td>\n      <td>-1202</td>\n      <td>0.0</td>\n      <td>250.0</td>\n      <td>0.0</td>\n      <td>-250.0</td>\n      <td>-1202</td>\n      <td>flowsheet|Flowsheet Cell Labels|I&amp;O|Output (ml...</td>\n      <td>Urine</td>\n      <td>250.0</td>\n      <td>250.0</td>\n    </tr>\n    <tr>\n      <td>892347</td>\n      <td>17454671</td>\n      <td>178962</td>\n      <td>-958</td>\n      <td>0.0</td>\n      <td>425.0</td>\n      <td>0.0</td>\n      <td>-425.0</td>\n      <td>-958</td>\n      <td>flowsheet|Flowsheet Cell Labels|I&amp;O|Output (ml...</td>\n      <td>Urine</td>\n      <td>425.0</td>\n      <td>425.0</td>\n    </tr>\n    <tr>\n      <td>8420</td>\n      <td>9379725</td>\n      <td>178962</td>\n      <td>-877</td>\n      <td>0.0</td>\n      <td>500.0</td>\n      <td>0.0</td>\n      <td>-500.0</td>\n      <td>-877</td>\n      <td>flowsheet|Flowsheet Cell Labels|I&amp;O|Output (ml...</td>\n      <td>Urine</td>\n      <td>500.0</td>\n      <td>500.0</td>\n    </tr>\n    <tr>\n      <td>368340</td>\n      <td>12666213</td>\n      <td>178962</td>\n      <td>-480</td>\n      <td>0.0</td>\n      <td>300.0</td>\n      <td>0.0</td>\n      <td>-300.0</td>\n      <td>-480</td>\n      <td>flowsheet|Flowsheet Cell Labels|I&amp;O|Output (ml...</td>\n      <td>Urine</td>\n      <td>300.0</td>\n      <td>300.0</td>\n    </tr>\n    <tr>\n      <td>86346</td>\n      <td>10096735</td>\n      <td>178962</td>\n      <td>-243</td>\n      <td>0.0</td>\n      <td>475.0</td>\n      <td>0.0</td>\n      <td>-475.0</td>\n      <td>-243</td>\n      <td>flowsheet|Flowsheet Cell Labels|I&amp;O|Output (ml...</td>\n      <td>Urine</td>\n      <td>475.0</td>\n      <td>475.0</td>\n    </tr>\n    <tr>\n      <td>558818</td>\n      <td>14409911</td>\n      <td>178962</td>\n      <td>263</td>\n      <td>0.0</td>\n      <td>150.0</td>\n      <td>0.0</td>\n      <td>-150.0</td>\n      <td>263</td>\n      <td>flowsheet|Flowsheet Cell Labels|I&amp;O|Output (ml...</td>\n      <td>Urine</td>\n      <td>150.0</td>\n      <td>150.0</td>\n    </tr>\n    <tr>\n      <td>222963</td>\n      <td>11342538</td>\n      <td>178962</td>\n      <td>503</td>\n      <td>360.0</td>\n      <td>200.0</td>\n      <td>0.0</td>\n      <td>160.0</td>\n      <td>503</td>\n      <td>flowsheet|Flowsheet Cell Labels|I&amp;O|Output (ml...</td>\n      <td>Urine</td>\n      <td>200.0</td>\n      <td>200.0</td>\n    </tr>\n    <tr>\n      <td>180535</td>\n      <td>10956152</td>\n      <td>178962</td>\n      <td>983</td>\n      <td>79.0</td>\n      <td>200.0</td>\n      <td>0.0</td>\n      <td>-121.0</td>\n      <td>983</td>\n      <td>flowsheet|Flowsheet Cell Labels|I&amp;O|Output (ml...</td>\n      <td>Urine</td>\n      <td>200.0</td>\n      <td>200.0</td>\n    </tr>\n    <tr>\n      <td>863707</td>\n      <td>17190232</td>\n      <td>178962</td>\n      <td>1193</td>\n      <td>0.0</td>\n      <td>400.0</td>\n      <td>0.0</td>\n      <td>-400.0</td>\n      <td>1193</td>\n      <td>flowsheet|Flowsheet Cell Labels|I&amp;O|Output (ml...</td>\n      <td>Urine</td>\n      <td>400.0</td>\n      <td>400.0</td>\n    </tr>\n    <tr>\n      <td>216872</td>\n      <td>11287542</td>\n      <td>178962</td>\n      <td>1403</td>\n      <td>100.0</td>\n      <td>150.0</td>\n      <td>0.0</td>\n      <td>-50.0</td>\n      <td>1403</td>\n      <td>flowsheet|Flowsheet Cell Labels|I&amp;O|Output (ml...</td>\n      <td>Urine</td>\n      <td>150.0</td>\n      <td>150.0</td>\n    </tr>\n    <tr>\n      <td>656246</td>\n      <td>15296280</td>\n      <td>178962</td>\n      <td>1509</td>\n      <td>0.0</td>\n      <td>125.0</td>\n      <td>0.0</td>\n      <td>-125.0</td>\n      <td>1509</td>\n      <td>flowsheet|Flowsheet Cell Labels|I&amp;O|Output (ml...</td>\n      <td>Urine</td>\n      <td>125.0</td>\n      <td>125.0</td>\n    </tr>\n    <tr>\n      <td>479360</td>\n      <td>13676727</td>\n      <td>178962</td>\n      <td>1598</td>\n      <td>0.0</td>\n      <td>150.0</td>\n      <td>0.0</td>\n      <td>-150.0</td>\n      <td>1598</td>\n      <td>flowsheet|Flowsheet Cell Labels|I&amp;O|Output (ml...</td>\n      <td>Urine</td>\n      <td>150.0</td>\n      <td>150.0</td>\n    </tr>\n    <tr>\n      <td>253780</td>\n      <td>11622582</td>\n      <td>178962</td>\n      <td>1737</td>\n      <td>0.0</td>\n      <td>150.0</td>\n      <td>0.0</td>\n      <td>-150.0</td>\n      <td>1737</td>\n      <td>flowsheet|Flowsheet Cell Labels|I&amp;O|Output (ml...</td>\n      <td>Urine</td>\n      <td>150.0</td>\n      <td>150.0</td>\n    </tr>\n    <tr>\n      <td>569243</td>\n      <td>14504253</td>\n      <td>178962</td>\n      <td>1776</td>\n      <td>0.0</td>\n      <td>150.0</td>\n      <td>0.0</td>\n      <td>-150.0</td>\n      <td>1776</td>\n      <td>flowsheet|Flowsheet Cell Labels|I&amp;O|Output (ml...</td>\n      <td>Urine</td>\n      <td>150.0</td>\n      <td>150.0</td>\n    </tr>\n    <tr>\n      <td>581510</td>\n      <td>14615196</td>\n      <td>178962</td>\n      <td>1823</td>\n      <td>0.0</td>\n      <td>100.0</td>\n      <td>0.0</td>\n      <td>-100.0</td>\n      <td>1823</td>\n      <td>flowsheet|Flowsheet Cell Labels|I&amp;O|Output (ml...</td>\n      <td>Urine</td>\n      <td>100.0</td>\n      <td>100.0</td>\n    </tr>\n    <tr>\n      <td>562639</td>\n      <td>14446001</td>\n      <td>178962</td>\n      <td>1943</td>\n      <td>260.0</td>\n      <td>300.0</td>\n      <td>0.0</td>\n      <td>-40.0</td>\n      <td>1943</td>\n      <td>flowsheet|Flowsheet Cell Labels|I&amp;O|Output (ml...</td>\n      <td>Urine</td>\n      <td>300.0</td>\n      <td>300.0</td>\n    </tr>\n    <tr>\n      <td>537221</td>\n      <td>14210678</td>\n      <td>178962</td>\n      <td>2063</td>\n      <td>0.0</td>\n      <td>175.0</td>\n      <td>0.0</td>\n      <td>-175.0</td>\n      <td>2063</td>\n      <td>flowsheet|Flowsheet Cell Labels|I&amp;O|Output (ml...</td>\n      <td>Urine</td>\n      <td>175.0</td>\n      <td>175.0</td>\n    </tr>\n    <tr>\n      <td>437225</td>\n      <td>13291211</td>\n      <td>178962</td>\n      <td>2303</td>\n      <td>0.0</td>\n      <td>200.0</td>\n      <td>0.0</td>\n      <td>-200.0</td>\n      <td>2303</td>\n      <td>flowsheet|Flowsheet Cell Labels|I&amp;O|Output (ml...</td>\n      <td>Urine</td>\n      <td>200.0</td>\n      <td>200.0</td>\n    </tr>\n    <tr>\n      <td>554756</td>\n      <td>14372786</td>\n      <td>178962</td>\n      <td>2543</td>\n      <td>0.0</td>\n      <td>220.0</td>\n      <td>0.0</td>\n      <td>-220.0</td>\n      <td>2543</td>\n      <td>flowsheet|Flowsheet Cell Labels|I&amp;O|Output (ml...</td>\n      <td>Urine</td>\n      <td>220.0</td>\n      <td>220.0</td>\n    </tr>\n    <tr>\n      <td>219581</td>\n      <td>11311990</td>\n      <td>178962</td>\n      <td>2632</td>\n      <td>0.0</td>\n      <td>375.0</td>\n      <td>0.0</td>\n      <td>-375.0</td>\n      <td>2632</td>\n      <td>flowsheet|Flowsheet Cell Labels|I&amp;O|Output (ml...</td>\n      <td>Urine</td>\n      <td>375.0</td>\n      <td>375.0</td>\n    </tr>\n    <tr>\n      <td>658357</td>\n      <td>15315490</td>\n      <td>178962</td>\n      <td>2663</td>\n      <td>0.0</td>\n      <td>120.0</td>\n      <td>0.0</td>\n      <td>-120.0</td>\n      <td>2663</td>\n      <td>flowsheet|Flowsheet Cell Labels|I&amp;O|Output (ml...</td>\n      <td>Urine</td>\n      <td>120.0</td>\n      <td>120.0</td>\n    </tr>\n    <tr>\n      <td>843196</td>\n      <td>17003100</td>\n      <td>178962</td>\n      <td>2843</td>\n      <td>310.0</td>\n      <td>120.0</td>\n      <td>0.0</td>\n      <td>190.0</td>\n      <td>2843</td>\n      <td>flowsheet|Flowsheet Cell Labels|I&amp;O|Output (ml...</td>\n      <td>Urine</td>\n      <td>120.0</td>\n      <td>120.0</td>\n    </tr>\n    <tr>\n      <td>730166</td>\n      <td>15973123</td>\n      <td>178962</td>\n      <td>2963</td>\n      <td>0.0</td>\n      <td>200.0</td>\n      <td>0.0</td>\n      <td>-200.0</td>\n      <td>2963</td>\n      <td>flowsheet|Flowsheet Cell Labels|I&amp;O|Output (ml...</td>\n      <td>Urine</td>\n      <td>200.0</td>\n      <td>200.0</td>\n    </tr>\n    <tr>\n      <td>265798</td>\n      <td>11730584</td>\n      <td>178962</td>\n      <td>3143</td>\n      <td>0.0</td>\n      <td>200.0</td>\n      <td>0.0</td>\n      <td>-200.0</td>\n      <td>3143</td>\n      <td>flowsheet|Flowsheet Cell Labels|I&amp;O|Output (ml...</td>\n      <td>Urine</td>\n      <td>200.0</td>\n      <td>200.0</td>\n    </tr>\n    <tr>\n      <td>583267</td>\n      <td>14631969</td>\n      <td>178962</td>\n      <td>3213</td>\n      <td>0.0</td>\n      <td>325.0</td>\n      <td>0.0</td>\n      <td>-325.0</td>\n      <td>3213</td>\n      <td>flowsheet|Flowsheet Cell Labels|I&amp;O|Output (ml...</td>\n      <td>Urine</td>\n      <td>325.0</td>\n      <td>325.0</td>\n    </tr>\n    <tr>\n      <td>642512</td>\n      <td>15170458</td>\n      <td>178962</td>\n      <td>3263</td>\n      <td>0.0</td>\n      <td>200.0</td>\n      <td>0.0</td>\n      <td>-200.0</td>\n      <td>3263</td>\n      <td>flowsheet|Flowsheet Cell Labels|I&amp;O|Output (ml...</td>\n      <td>Urine</td>\n      <td>200.0</td>\n      <td>200.0</td>\n    </tr>\n    <tr>\n      <td>102587</td>\n      <td>10241799</td>\n      <td>178962</td>\n      <td>3383</td>\n      <td>100.0</td>\n      <td>400.0</td>\n      <td>0.0</td>\n      <td>-300.0</td>\n      <td>3383</td>\n      <td>flowsheet|Flowsheet Cell Labels|I&amp;O|Output (ml...</td>\n      <td>Urine</td>\n      <td>400.0</td>\n      <td>400.0</td>\n    </tr>\n    <tr>\n      <td>321033</td>\n      <td>12234242</td>\n      <td>178962</td>\n      <td>3743</td>\n      <td>0.0</td>\n      <td>175.0</td>\n      <td>0.0</td>\n      <td>-175.0</td>\n      <td>3743</td>\n      <td>flowsheet|Flowsheet Cell Labels|I&amp;O|Output (ml...</td>\n      <td>Urine</td>\n      <td>175.0</td>\n      <td>175.0</td>\n    </tr>\n    <tr>\n      <td>134794</td>\n      <td>10535112</td>\n      <td>178962</td>\n      <td>3863</td>\n      <td>50.0</td>\n      <td>180.0</td>\n      <td>0.0</td>\n      <td>-130.0</td>\n      <td>3863</td>\n      <td>flowsheet|Flowsheet Cell Labels|I&amp;O|Output (ml...</td>\n      <td>Urine</td>\n      <td>180.0</td>\n      <td>180.0</td>\n    </tr>\n    <tr>\n      <td>710852</td>\n      <td>15797689</td>\n      <td>178962</td>\n      <td>3983</td>\n      <td>0.0</td>\n      <td>150.0</td>\n      <td>0.0</td>\n      <td>-150.0</td>\n      <td>3983</td>\n      <td>flowsheet|Flowsheet Cell Labels|I&amp;O|Output (ml...</td>\n      <td>Urine</td>\n      <td>150.0</td>\n      <td>150.0</td>\n    </tr>\n    <tr>\n      <td>367708</td>\n      <td>12660608</td>\n      <td>178962</td>\n      <td>4823</td>\n      <td>0.0</td>\n      <td>200.0</td>\n      <td>0.0</td>\n      <td>-200.0</td>\n      <td>4823</td>\n      <td>flowsheet|Flowsheet Cell Labels|I&amp;O|Output (ml...</td>\n      <td>Urine</td>\n      <td>200.0</td>\n      <td>200.0</td>\n    </tr>\n    <tr>\n      <td>451419</td>\n      <td>13421644</td>\n      <td>178962</td>\n      <td>4883</td>\n      <td>0.0</td>\n      <td>180.0</td>\n      <td>0.0</td>\n      <td>-180.0</td>\n      <td>4883</td>\n      <td>flowsheet|Flowsheet Cell Labels|I&amp;O|Output (ml...</td>\n      <td>Urine</td>\n      <td>180.0</td>\n      <td>180.0</td>\n    </tr>\n    <tr>\n      <td>54133</td>\n      <td>9802371</td>\n      <td>178962</td>\n      <td>5303</td>\n      <td>0.0</td>\n      <td>125.0</td>\n      <td>0.0</td>\n      <td>-125.0</td>\n      <td>5303</td>\n      <td>flowsheet|Flowsheet Cell Labels|I&amp;O|Output (ml...</td>\n      <td>Urine</td>\n      <td>125.0</td>\n      <td>125.0</td>\n    </tr>\n    <tr>\n      <td>852772</td>\n      <td>17089197</td>\n      <td>178962</td>\n      <td>5412</td>\n      <td>0.0</td>\n      <td>100.0</td>\n      <td>0.0</td>\n      <td>-100.0</td>\n      <td>5412</td>\n      <td>flowsheet|Flowsheet Cell Labels|I&amp;O|Output (ml...</td>\n      <td>Urine</td>\n      <td>100.0</td>\n      <td>100.0</td>\n    </tr>\n    <tr>\n      <td>382687</td>\n      <td>12796867</td>\n      <td>178962</td>\n      <td>5723</td>\n      <td>200.0</td>\n      <td>100.0</td>\n      <td>0.0</td>\n      <td>100.0</td>\n      <td>5723</td>\n      <td>flowsheet|Flowsheet Cell Labels|I&amp;O|Output (ml...</td>\n      <td>Urine</td>\n      <td>100.0</td>\n      <td>100.0</td>\n    </tr>\n    <tr>\n      <td>601820</td>\n      <td>14800123</td>\n      <td>178962</td>\n      <td>6338</td>\n      <td>0.0</td>\n      <td>100.0</td>\n      <td>0.0</td>\n      <td>-100.0</td>\n      <td>6338</td>\n      <td>flowsheet|Flowsheet Cell Labels|I&amp;O|Output (ml...</td>\n      <td>Urine</td>\n      <td>100.0</td>\n      <td>100.0</td>\n    </tr>\n    <tr>\n      <td>14603</td>\n      <td>9437585</td>\n      <td>178962</td>\n      <td>6984</td>\n      <td>0.0</td>\n      <td>100.0</td>\n      <td>0.0</td>\n      <td>-100.0</td>\n      <td>6984</td>\n      <td>flowsheet|Flowsheet Cell Labels|I&amp;O|Output (ml...</td>\n      <td>Urine</td>\n      <td>100.0</td>\n      <td>100.0</td>\n    </tr>\n    <tr>\n      <td>621291</td>\n      <td>14977661</td>\n      <td>178962</td>\n      <td>7223</td>\n      <td>0.0</td>\n      <td>100.0</td>\n      <td>0.0</td>\n      <td>-100.0</td>\n      <td>7223</td>\n      <td>flowsheet|Flowsheet Cell Labels|I&amp;O|Output (ml...</td>\n      <td>Urine</td>\n      <td>100.0</td>\n      <td>100.0</td>\n    </tr>\n    <tr>\n      <td>361499</td>\n      <td>12604573</td>\n      <td>178962</td>\n      <td>7608</td>\n      <td>200.0</td>\n      <td>200.0</td>\n      <td>0.0</td>\n      <td>0.0</td>\n      <td>7608</td>\n      <td>flowsheet|Flowsheet Cell Labels|I&amp;O|Output (ml...</td>\n      <td>Urine</td>\n      <td>200.0</td>\n      <td>200.0</td>\n    </tr>\n    <tr>\n      <td>120227</td>\n      <td>10402151</td>\n      <td>178962</td>\n      <td>7703</td>\n      <td>0.0</td>\n      <td>75.0</td>\n      <td>0.0</td>\n      <td>-75.0</td>\n      <td>7703</td>\n      <td>flowsheet|Flowsheet Cell Labels|I&amp;O|Output (ml...</td>\n      <td>Urine</td>\n      <td>75.0</td>\n      <td>75.0</td>\n    </tr>\n    <tr>\n      <td>188648</td>\n      <td>11030922</td>\n      <td>178962</td>\n      <td>7736</td>\n      <td>200.0</td>\n      <td>50.0</td>\n      <td>0.0</td>\n      <td>150.0</td>\n      <td>7736</td>\n      <td>flowsheet|Flowsheet Cell Labels|I&amp;O|Output (ml...</td>\n      <td>Urine</td>\n      <td>50.0</td>\n      <td>50.0</td>\n    </tr>\n    <tr>\n      <td>409943</td>\n      <td>13043858</td>\n      <td>178962</td>\n      <td>7925</td>\n      <td>0.0</td>\n      <td>150.0</td>\n      <td>0.0</td>\n      <td>-150.0</td>\n      <td>7925</td>\n      <td>flowsheet|Flowsheet Cell Labels|I&amp;O|Output (ml...</td>\n      <td>Urine</td>\n      <td>150.0</td>\n      <td>150.0</td>\n    </tr>\n    <tr>\n      <td>812351</td>\n      <td>16722109</td>\n      <td>178962</td>\n      <td>8260</td>\n      <td>0.0</td>\n      <td>200.0</td>\n      <td>0.0</td>\n      <td>-200.0</td>\n      <td>8260</td>\n      <td>flowsheet|Flowsheet Cell Labels|I&amp;O|Output (ml...</td>\n      <td>Urine</td>\n      <td>200.0</td>\n      <td>200.0</td>\n    </tr>\n  </tbody>\n</table>\n</div>"
     },
     "metadata": {},
     "output_type": "execute_result",
     "execution_count": 22
    }
   ],
   "source": [
    "intakeOutputUrine = intakeOutput.loc[(intakeOutput['celllabel'].str.contains(\"Urine\"))]\n",
    "intakeOutputUrine[\"patientunitstayid\"]= intakeOutput[\"patientunitstayid\"].astype(str) \n",
    "patientIntakeOutputUrine = intakeOutputUrine.loc[(intakeOutputUrine['patientunitstayid'].str.contains(\"178962\"))]\n",
    "patientIntakeOutputUrine.sort_values(by='intakeoutputoffset')"
   ],
   "metadata": {
    "collapsed": false,
    "pycharm": {
     "name": "#%%\n",
     "is_executing": false
    }
   }
  },
  {
   "cell_type": "code",
   "execution_count": null,
   "outputs": [],
   "source": [
    "\n"
   ],
   "metadata": {
    "collapsed": false,
    "pycharm": {
     "name": "#%%\n"
    }
   }
  }
 ],
 "metadata": {
  "kernelspec": {
   "display_name": "Python 3",
   "language": "python",
   "name": "python3"
  },
  "language_info": {
   "codemirror_mode": {
    "name": "ipython",
    "version": 2
   },
   "file_extension": ".py",
   "mimetype": "text/x-python",
   "name": "python",
   "nbconvert_exporter": "python",
   "pygments_lexer": "ipython2",
   "version": "2.7.6"
  },
  "pycharm": {
   "stem_cell": {
    "cell_type": "raw",
    "source": [],
    "metadata": {
     "collapsed": false
    }
   }
  }
 },
 "nbformat": 4,
 "nbformat_minor": 0
}