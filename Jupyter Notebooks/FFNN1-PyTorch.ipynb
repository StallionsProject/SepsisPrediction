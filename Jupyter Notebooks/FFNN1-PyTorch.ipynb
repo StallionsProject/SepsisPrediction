{
 "cells": [
  {
   "cell_type": "code",
   "execution_count": 0,
   "metadata": {
    "colab": {},
    "colab_type": "code",
    "id": "asTboHPw-7fY"
   },
   "outputs": [],
   "source": [
    "import pandas as pd\n",
    "\n",
    "from sklearn.metrics import accuracy_score, recall_score, confusion_matrix\n",
    "from sklearn.metrics import f1_score\n",
    "from sklearn.metrics import roc_auc_score\n",
    "from sklearn.metrics import precision_score\n",
    "from sklearn.decomposition import PCA\n",
    "from sklearn.preprocessing import StandardScaler\n",
    "from sklearn.model_selection import KFold, cross_val_score, train_test_split, RandomizedSearchCV\n"
   ]
  },
  {
   "cell_type": "code",
   "execution_count": 0,
   "metadata": {
    "colab": {
     "base_uri": "https://localhost:8080/",
     "height": 87
    },
    "colab_type": "code",
    "id": "ZHPSn-IjAMPG",
    "outputId": "a6c46dd2-64db-43aa-9909-00a3b065e1b0"
   },
   "outputs": [
    {
     "name": "stdout",
     "output_type": "stream",
     "text": [
      "Downloading...\n",
      "From: https://drive.google.com/uc?id=1Q32n6md9vtxL02teZ1TD6ZMWdKkcSt89\n",
      "To: /content/aggregatedData.csv\n",
      "727MB [00:03, 220MB/s]\n"
     ]
    }
   ],
   "source": [
    "!gdown --id 1Q32n6md9vtxL02teZ1TD6ZMWdKkcSt89"
   ]
  },
  {
   "cell_type": "code",
   "execution_count": 0,
   "metadata": {
    "colab": {},
    "colab_type": "code",
    "id": "AAx0Um_SAQey"
   },
   "outputs": [],
   "source": [
    "df = pd.read_csv('aggregatedData.csv')"
   ]
  },
  {
   "cell_type": "code",
   "execution_count": 0,
   "metadata": {
    "colab": {
     "base_uri": "https://localhost:8080/",
     "height": 406
    },
    "colab_type": "code",
    "id": "JFheyO5HAYdl",
    "outputId": "e386d338-d98b-49f9-d5bf-860247dbdaf9"
   },
   "outputs": [
    {
     "data": {
      "text/html": [
       "<div>\n",
       "<style scoped>\n",
       "    .dataframe tbody tr th:only-of-type {\n",
       "        vertical-align: middle;\n",
       "    }\n",
       "\n",
       "    .dataframe tbody tr th {\n",
       "        vertical-align: top;\n",
       "    }\n",
       "\n",
       "    .dataframe thead th {\n",
       "        text-align: right;\n",
       "    }\n",
       "</style>\n",
       "<table border=\"1\" class=\"dataframe\">\n",
       "  <thead>\n",
       "    <tr style=\"text-align: right;\">\n",
       "      <th></th>\n",
       "      <th>patientunitstayid</th>\n",
       "      <th>observationoffset</th>\n",
       "      <th>temperature</th>\n",
       "      <th>heartrate</th>\n",
       "      <th>respiration</th>\n",
       "      <th>systemicsystolic</th>\n",
       "      <th>creatinine</th>\n",
       "      <th>wbcx1000</th>\n",
       "      <th>lactate</th>\n",
       "      <th>urineoutputbyweight</th>\n",
       "      <th>diagnosis</th>\n",
       "    </tr>\n",
       "  </thead>\n",
       "  <tbody>\n",
       "    <tr>\n",
       "      <th>0</th>\n",
       "      <td>141227</td>\n",
       "      <td>-1893.0</td>\n",
       "      <td>38.03651</td>\n",
       "      <td>112.0</td>\n",
       "      <td>49.0</td>\n",
       "      <td>158.00000</td>\n",
       "      <td>1.40</td>\n",
       "      <td>48.20</td>\n",
       "      <td>4.300000</td>\n",
       "      <td>2.433090</td>\n",
       "      <td>0</td>\n",
       "    </tr>\n",
       "    <tr>\n",
       "      <th>1</th>\n",
       "      <td>141227</td>\n",
       "      <td>-1773.0</td>\n",
       "      <td>38.03651</td>\n",
       "      <td>112.0</td>\n",
       "      <td>49.0</td>\n",
       "      <td>158.00000</td>\n",
       "      <td>1.40</td>\n",
       "      <td>48.20</td>\n",
       "      <td>4.300000</td>\n",
       "      <td>2.433090</td>\n",
       "      <td>0</td>\n",
       "    </tr>\n",
       "    <tr>\n",
       "      <th>2</th>\n",
       "      <td>141227</td>\n",
       "      <td>-1663.0</td>\n",
       "      <td>38.03651</td>\n",
       "      <td>112.0</td>\n",
       "      <td>49.0</td>\n",
       "      <td>158.00000</td>\n",
       "      <td>1.40</td>\n",
       "      <td>48.20</td>\n",
       "      <td>4.300000</td>\n",
       "      <td>2.433090</td>\n",
       "      <td>0</td>\n",
       "    </tr>\n",
       "    <tr>\n",
       "      <th>3</th>\n",
       "      <td>141227</td>\n",
       "      <td>-1566.0</td>\n",
       "      <td>38.03651</td>\n",
       "      <td>112.0</td>\n",
       "      <td>49.0</td>\n",
       "      <td>158.00000</td>\n",
       "      <td>1.40</td>\n",
       "      <td>48.20</td>\n",
       "      <td>4.300000</td>\n",
       "      <td>2.433090</td>\n",
       "      <td>0</td>\n",
       "    </tr>\n",
       "    <tr>\n",
       "      <th>4</th>\n",
       "      <td>141227</td>\n",
       "      <td>-1351.0</td>\n",
       "      <td>38.03651</td>\n",
       "      <td>112.0</td>\n",
       "      <td>49.0</td>\n",
       "      <td>158.00000</td>\n",
       "      <td>1.40</td>\n",
       "      <td>47.95</td>\n",
       "      <td>4.300000</td>\n",
       "      <td>2.433090</td>\n",
       "      <td>0</td>\n",
       "    </tr>\n",
       "    <tr>\n",
       "      <th>...</th>\n",
       "      <td>...</td>\n",
       "      <td>...</td>\n",
       "      <td>...</td>\n",
       "      <td>...</td>\n",
       "      <td>...</td>\n",
       "      <td>...</td>\n",
       "      <td>...</td>\n",
       "      <td>...</td>\n",
       "      <td>...</td>\n",
       "      <td>...</td>\n",
       "      <td>...</td>\n",
       "    </tr>\n",
       "    <tr>\n",
       "      <th>6042126</th>\n",
       "      <td>3353254</td>\n",
       "      <td>5326.0</td>\n",
       "      <td>38.03651</td>\n",
       "      <td>82.0</td>\n",
       "      <td>12.0</td>\n",
       "      <td>118.56613</td>\n",
       "      <td>1.65</td>\n",
       "      <td>11.32</td>\n",
       "      <td>2.655717</td>\n",
       "      <td>4.767580</td>\n",
       "      <td>0</td>\n",
       "    </tr>\n",
       "    <tr>\n",
       "      <th>6042127</th>\n",
       "      <td>3353254</td>\n",
       "      <td>5491.0</td>\n",
       "      <td>38.03651</td>\n",
       "      <td>82.0</td>\n",
       "      <td>12.0</td>\n",
       "      <td>118.56613</td>\n",
       "      <td>1.66</td>\n",
       "      <td>11.51</td>\n",
       "      <td>2.655717</td>\n",
       "      <td>2.383790</td>\n",
       "      <td>0</td>\n",
       "    </tr>\n",
       "    <tr>\n",
       "      <th>6042128</th>\n",
       "      <td>3353254</td>\n",
       "      <td>5558.0</td>\n",
       "      <td>38.03651</td>\n",
       "      <td>82.0</td>\n",
       "      <td>12.0</td>\n",
       "      <td>118.56613</td>\n",
       "      <td>1.67</td>\n",
       "      <td>11.70</td>\n",
       "      <td>2.655717</td>\n",
       "      <td>4.767580</td>\n",
       "      <td>0</td>\n",
       "    </tr>\n",
       "    <tr>\n",
       "      <th>6042129</th>\n",
       "      <td>3353254</td>\n",
       "      <td>5926.0</td>\n",
       "      <td>38.03651</td>\n",
       "      <td>82.0</td>\n",
       "      <td>12.0</td>\n",
       "      <td>118.56613</td>\n",
       "      <td>1.67</td>\n",
       "      <td>11.70</td>\n",
       "      <td>2.655717</td>\n",
       "      <td>7.151371</td>\n",
       "      <td>0</td>\n",
       "    </tr>\n",
       "    <tr>\n",
       "      <th>6042130</th>\n",
       "      <td>3353254</td>\n",
       "      <td>6106.0</td>\n",
       "      <td>38.03651</td>\n",
       "      <td>82.0</td>\n",
       "      <td>12.0</td>\n",
       "      <td>118.56613</td>\n",
       "      <td>1.67</td>\n",
       "      <td>11.70</td>\n",
       "      <td>2.655717</td>\n",
       "      <td>7.163290</td>\n",
       "      <td>0</td>\n",
       "    </tr>\n",
       "  </tbody>\n",
       "</table>\n",
       "<p>6042131 rows × 11 columns</p>\n",
       "</div>"
      ],
      "text/plain": [
       "         patientunitstayid  observationoffset  ...  urineoutputbyweight  diagnosis\n",
       "0                   141227            -1893.0  ...             2.433090          0\n",
       "1                   141227            -1773.0  ...             2.433090          0\n",
       "2                   141227            -1663.0  ...             2.433090          0\n",
       "3                   141227            -1566.0  ...             2.433090          0\n",
       "4                   141227            -1351.0  ...             2.433090          0\n",
       "...                    ...                ...  ...                  ...        ...\n",
       "6042126            3353254             5326.0  ...             4.767580          0\n",
       "6042127            3353254             5491.0  ...             2.383790          0\n",
       "6042128            3353254             5558.0  ...             4.767580          0\n",
       "6042129            3353254             5926.0  ...             7.151371          0\n",
       "6042130            3353254             6106.0  ...             7.163290          0\n",
       "\n",
       "[6042131 rows x 11 columns]"
      ]
     },
     "execution_count": 4,
     "metadata": {
      "tags": []
     },
     "output_type": "execute_result"
    }
   ],
   "source": [
    "df"
   ]
  },
  {
   "cell_type": "code",
   "execution_count": 0,
   "metadata": {
    "colab": {},
    "colab_type": "code",
    "id": "4wOS3RATAZmx"
   },
   "outputs": [],
   "source": [
    "import torch\n",
    "import torch.nn as nn\n",
    "import torchvision.datasets as dsets\n",
    "import torchvision.transforms as transforms\n",
    "from torch.autograd import Variable"
   ]
  },
  {
   "cell_type": "code",
   "execution_count": 0,
   "metadata": {
    "colab": {},
    "colab_type": "code",
    "id": "A0XbPRbwOdaW"
   },
   "outputs": [],
   "source": [
    "target = df['diagnosis']\n",
    "inputs = df.drop('diagnosis', axis=1).copy()"
   ]
  },
  {
   "cell_type": "code",
   "execution_count": 0,
   "metadata": {
    "colab": {},
    "colab_type": "code",
    "id": "BC58ZKxCO3Mq"
   },
   "outputs": [],
   "source": [
    "X = inputs.values\n",
    "y = target.values"
   ]
  },
  {
   "cell_type": "code",
   "execution_count": 0,
   "metadata": {
    "colab": {},
    "colab_type": "code",
    "id": "7eDNoH58PUKt"
   },
   "outputs": [],
   "source": [
    "X_train, X_test, y_train, y_test = train_test_split(X,y)"
   ]
  },
  {
   "cell_type": "code",
   "execution_count": 0,
   "metadata": {
    "colab": {
     "base_uri": "https://localhost:8080/",
     "height": 34
    },
    "colab_type": "code",
    "id": "O_HJAKXePknH",
    "outputId": "51a2c79f-3e92-4900-d825-4b589a952691"
   },
   "outputs": [
    {
     "data": {
      "text/plain": [
       "((4531598, 10), (4531598,), (1510533, 10), (1510533,))"
      ]
     },
     "execution_count": 9,
     "metadata": {
      "tags": []
     },
     "output_type": "execute_result"
    }
   ],
   "source": [
    "X_train.shape, y_train.shape, X_test.shape, y_test.shape"
   ]
  },
  {
   "cell_type": "code",
   "execution_count": 0,
   "metadata": {
    "colab": {},
    "colab_type": "code",
    "id": "bgm4qge-E2OL"
   },
   "outputs": [],
   "source": [
    "import numpy as np\n",
    "X_train = torch.FloatTensor(np.array(X_train))\n",
    "X_test = torch.FloatTensor(np.array(X_test))\n",
    "y_train = torch.FloatTensor(np.array(y_train))\n",
    "y_test = torch.FloatTensor(np.array(y_test))"
   ]
  },
  {
   "cell_type": "code",
   "execution_count": 0,
   "metadata": {
    "colab": {},
    "colab_type": "code",
    "id": "imDQJ_K2NSjE"
   },
   "outputs": [],
   "source": [
    "class Feedforward(torch.nn.Module):\n",
    "        def __init__(self, input_size, hidden_size):\n",
    "            super(Feedforward, self).__init__()\n",
    "            self.input_size = input_size\n",
    "            self.hidden_size  = hidden_size\n",
    "            self.fc1 = torch.nn.Linear(self.input_size, self.hidden_size)\n",
    "            self.relu = torch.nn.ReLU()\n",
    "            self.fc2 = torch.nn.Linear(self.hidden_size, 1)\n",
    "            self.sigmoid = torch.nn.Sigmoid()\n",
    "        def forward(self, x):\n",
    "            hidden = self.fc1(x)\n",
    "            relu = self.relu(hidden)\n",
    "            output = self.fc2(relu)\n",
    "            output = self.sigmoid(output)\n",
    "            return output"
   ]
  },
  {
   "cell_type": "code",
   "execution_count": 0,
   "metadata": {
    "colab": {},
    "colab_type": "code",
    "id": "TcG4G_6NNTYU"
   },
   "outputs": [],
   "source": [
    "model = Feedforward(10, 10)\n",
    "criterion = torch.nn.BCELoss()\n",
    "optimizer = torch.optim.SGD(model.parameters(), lr = 0.01)"
   ]
  },
  {
   "cell_type": "code",
   "execution_count": 0,
   "metadata": {
    "colab": {
     "base_uri": "https://localhost:8080/",
     "height": 34
    },
    "colab_type": "code",
    "id": "1mdPxLsS1yGL",
    "outputId": "eee01cf7-dd40-4e32-e5d6-e947715a4038"
   },
   "outputs": [
    {
     "name": "stdout",
     "output_type": "stream",
     "text": [
      "cuda:0\n"
     ]
    }
   ],
   "source": [
    "device = torch.device(\"cuda:0\" if torch.cuda.is_available() else \"cpu\")\n",
    "print(device)"
   ]
  },
  {
   "cell_type": "code",
   "execution_count": 0,
   "metadata": {
    "colab": {
     "base_uri": "https://localhost:8080/",
     "height": 123
    },
    "colab_type": "code",
    "id": "fGG_4MNychpw",
    "outputId": "66478e84-1428-4063-ebf7-77a081b3f3b7"
   },
   "outputs": [
    {
     "data": {
      "text/plain": [
       "Feedforward(\n",
       "  (fc1): Linear(in_features=10, out_features=10, bias=True)\n",
       "  (relu): ReLU()\n",
       "  (fc2): Linear(in_features=10, out_features=1, bias=True)\n",
       "  (sigmoid): Sigmoid()\n",
       ")"
      ]
     },
     "execution_count": 15,
     "metadata": {
      "tags": []
     },
     "output_type": "execute_result"
    }
   ],
   "source": [
    "model.to(device)"
   ]
  },
  {
   "cell_type": "code",
   "execution_count": 0,
   "metadata": {
    "colab": {},
    "colab_type": "code",
    "id": "4hZtUAxn2B9G"
   },
   "outputs": [],
   "source": [
    "X_train, y_train = X_train.to(device), y_train.to(device)\n",
    "X_test, y_test = X_test.to(device), y_test.to(device)"
   ]
  },
  {
   "cell_type": "code",
   "execution_count": 0,
   "metadata": {
    "colab": {
     "base_uri": "https://localhost:8080/",
     "height": 34
    },
    "colab_type": "code",
    "id": "2OfKiL0lNwi7",
    "outputId": "4ac9f6b6-f304-4b5d-c73d-1b36798a6a9a"
   },
   "outputs": [
    {
     "name": "stdout",
     "output_type": "stream",
     "text": [
      "Test loss before training 0.2720893919467926\n"
     ]
    }
   ],
   "source": [
    "model.eval()\n",
    "y_pred = model(X_test)\n",
    "before_train = criterion(y_pred.squeeze(), y_test)\n",
    "print('Test loss before training' , before_train.item())"
   ]
  },
  {
   "cell_type": "code",
   "execution_count": 0,
   "metadata": {
    "colab": {
     "base_uri": "https://localhost:8080/",
     "height": 1000
    },
    "colab_type": "code",
    "id": "zMis_PZAQbXd",
    "outputId": "b84ba6a8-10eb-480b-9d97-0332413cd81b"
   },
   "outputs": [
    {
     "name": "stdout",
     "output_type": "stream",
     "text": [
      "Epoch 0: train loss: 0.27255284786224365\n",
      "Epoch 1: train loss: 0.27255284786224365\n",
      "Epoch 2: train loss: 0.27255284786224365\n",
      "Epoch 3: train loss: 0.27255284786224365\n",
      "Epoch 4: train loss: 0.27255284786224365\n",
      "Epoch 5: train loss: 0.27255284786224365\n",
      "Epoch 6: train loss: 0.27255284786224365\n",
      "Epoch 7: train loss: 0.27255284786224365\n",
      "Epoch 8: train loss: 0.27255284786224365\n",
      "Epoch 9: train loss: 0.27255284786224365\n",
      "Epoch 10: train loss: 0.27255284786224365\n",
      "Epoch 11: train loss: 0.27255284786224365\n",
      "Epoch 12: train loss: 0.27255284786224365\n",
      "Epoch 13: train loss: 0.27255284786224365\n",
      "Epoch 14: train loss: 0.27255284786224365\n",
      "Epoch 15: train loss: 0.27255284786224365\n",
      "Epoch 16: train loss: 0.27255284786224365\n",
      "Epoch 17: train loss: 0.27255284786224365\n",
      "Epoch 18: train loss: 0.27255284786224365\n",
      "Epoch 19: train loss: 0.27255284786224365\n",
      "Epoch 20: train loss: 0.27255284786224365\n",
      "Epoch 21: train loss: 0.27255284786224365\n",
      "Epoch 22: train loss: 0.27255284786224365\n",
      "Epoch 23: train loss: 0.27255284786224365\n",
      "Epoch 24: train loss: 0.27255284786224365\n",
      "Epoch 25: train loss: 0.27255284786224365\n",
      "Epoch 26: train loss: 0.27255284786224365\n",
      "Epoch 27: train loss: 0.27255284786224365\n",
      "Epoch 28: train loss: 0.27255284786224365\n",
      "Epoch 29: train loss: 0.27255284786224365\n",
      "Epoch 30: train loss: 0.27255284786224365\n",
      "Epoch 31: train loss: 0.27255284786224365\n",
      "Epoch 32: train loss: 0.27255284786224365\n",
      "Epoch 33: train loss: 0.27255284786224365\n",
      "Epoch 34: train loss: 0.27255284786224365\n",
      "Epoch 35: train loss: 0.27255284786224365\n",
      "Epoch 36: train loss: 0.27255284786224365\n",
      "Epoch 37: train loss: 0.27255284786224365\n",
      "Epoch 38: train loss: 0.27255284786224365\n",
      "Epoch 39: train loss: 0.27255284786224365\n",
      "Epoch 40: train loss: 0.27255284786224365\n",
      "Epoch 41: train loss: 0.27255284786224365\n",
      "Epoch 42: train loss: 0.27255284786224365\n",
      "Epoch 43: train loss: 0.27255284786224365\n",
      "Epoch 44: train loss: 0.27255284786224365\n",
      "Epoch 45: train loss: 0.27255284786224365\n",
      "Epoch 46: train loss: 0.27255284786224365\n",
      "Epoch 47: train loss: 0.27255284786224365\n",
      "Epoch 48: train loss: 0.27255284786224365\n",
      "Epoch 49: train loss: 0.27255284786224365\n",
      "Epoch 50: train loss: 0.27255284786224365\n",
      "Epoch 51: train loss: 0.27255284786224365\n",
      "Epoch 52: train loss: 0.27255284786224365\n",
      "Epoch 53: train loss: 0.27255284786224365\n",
      "Epoch 54: train loss: 0.27255284786224365\n",
      "Epoch 55: train loss: 0.27255284786224365\n",
      "Epoch 56: train loss: 0.27255284786224365\n",
      "Epoch 57: train loss: 0.27255284786224365\n",
      "Epoch 58: train loss: 0.27255284786224365\n",
      "Epoch 59: train loss: 0.27255284786224365\n",
      "Epoch 60: train loss: 0.27255284786224365\n",
      "Epoch 61: train loss: 0.27255284786224365\n",
      "Epoch 62: train loss: 0.27255284786224365\n",
      "Epoch 63: train loss: 0.27255284786224365\n",
      "Epoch 64: train loss: 0.27255284786224365\n",
      "Epoch 65: train loss: 0.27255284786224365\n",
      "Epoch 66: train loss: 0.27255284786224365\n",
      "Epoch 67: train loss: 0.27255284786224365\n",
      "Epoch 68: train loss: 0.27255284786224365\n",
      "Epoch 69: train loss: 0.27255284786224365\n",
      "Epoch 70: train loss: 0.27255284786224365\n",
      "Epoch 71: train loss: 0.27255284786224365\n",
      "Epoch 72: train loss: 0.27255284786224365\n",
      "Epoch 73: train loss: 0.27255284786224365\n",
      "Epoch 74: train loss: 0.27255284786224365\n",
      "Epoch 75: train loss: 0.27255284786224365\n",
      "Epoch 76: train loss: 0.27255284786224365\n",
      "Epoch 77: train loss: 0.27255284786224365\n",
      "Epoch 78: train loss: 0.27255284786224365\n",
      "Epoch 79: train loss: 0.27255284786224365\n",
      "Epoch 80: train loss: 0.27255284786224365\n",
      "Epoch 81: train loss: 0.27255284786224365\n",
      "Epoch 82: train loss: 0.27255284786224365\n",
      "Epoch 83: train loss: 0.27255284786224365\n",
      "Epoch 84: train loss: 0.27255284786224365\n",
      "Epoch 85: train loss: 0.27255284786224365\n",
      "Epoch 86: train loss: 0.27255284786224365\n",
      "Epoch 87: train loss: 0.27255284786224365\n",
      "Epoch 88: train loss: 0.27255284786224365\n",
      "Epoch 89: train loss: 0.27255284786224365\n",
      "Epoch 90: train loss: 0.27255284786224365\n",
      "Epoch 91: train loss: 0.27255284786224365\n",
      "Epoch 92: train loss: 0.27255284786224365\n",
      "Epoch 93: train loss: 0.27255284786224365\n",
      "Epoch 94: train loss: 0.27255284786224365\n",
      "Epoch 95: train loss: 0.27255284786224365\n",
      "Epoch 96: train loss: 0.27255284786224365\n",
      "Epoch 97: train loss: 0.27255284786224365\n",
      "Epoch 98: train loss: 0.27255284786224365\n",
      "Epoch 99: train loss: 0.27255284786224365\n",
      "Epoch 100: train loss: 0.27255284786224365\n",
      "Epoch 101: train loss: 0.27255284786224365\n",
      "Epoch 102: train loss: 0.27255284786224365\n",
      "Epoch 103: train loss: 0.27255284786224365\n",
      "Epoch 104: train loss: 0.27255284786224365\n",
      "Epoch 105: train loss: 0.27255284786224365\n",
      "Epoch 106: train loss: 0.27255284786224365\n",
      "Epoch 107: train loss: 0.27255284786224365\n",
      "Epoch 108: train loss: 0.27255284786224365\n",
      "Epoch 109: train loss: 0.27255284786224365\n",
      "Epoch 110: train loss: 0.27255284786224365\n",
      "Epoch 111: train loss: 0.27255284786224365\n",
      "Epoch 112: train loss: 0.27255284786224365\n",
      "Epoch 113: train loss: 0.27255284786224365\n",
      "Epoch 114: train loss: 0.27255284786224365\n",
      "Epoch 115: train loss: 0.27255284786224365\n",
      "Epoch 116: train loss: 0.27255284786224365\n",
      "Epoch 117: train loss: 0.27255284786224365\n",
      "Epoch 118: train loss: 0.27255284786224365\n",
      "Epoch 119: train loss: 0.27255284786224365\n",
      "Epoch 120: train loss: 0.27255284786224365\n",
      "Epoch 121: train loss: 0.27255284786224365\n",
      "Epoch 122: train loss: 0.27255284786224365\n",
      "Epoch 123: train loss: 0.27255284786224365\n",
      "Epoch 124: train loss: 0.27255284786224365\n",
      "Epoch 125: train loss: 0.27255284786224365\n",
      "Epoch 126: train loss: 0.27255284786224365\n",
      "Epoch 127: train loss: 0.27255284786224365\n",
      "Epoch 128: train loss: 0.27255284786224365\n",
      "Epoch 129: train loss: 0.27255284786224365\n",
      "Epoch 130: train loss: 0.27255284786224365\n",
      "Epoch 131: train loss: 0.27255284786224365\n",
      "Epoch 132: train loss: 0.27255284786224365\n",
      "Epoch 133: train loss: 0.27255284786224365\n",
      "Epoch 134: train loss: 0.27255284786224365\n",
      "Epoch 135: train loss: 0.27255284786224365\n",
      "Epoch 136: train loss: 0.27255284786224365\n",
      "Epoch 137: train loss: 0.27255284786224365\n",
      "Epoch 138: train loss: 0.27255284786224365\n",
      "Epoch 139: train loss: 0.27255284786224365\n",
      "Epoch 140: train loss: 0.27255284786224365\n",
      "Epoch 141: train loss: 0.27255284786224365\n",
      "Epoch 142: train loss: 0.27255284786224365\n",
      "Epoch 143: train loss: 0.27255284786224365\n",
      "Epoch 144: train loss: 0.27255284786224365\n",
      "Epoch 145: train loss: 0.27255284786224365\n",
      "Epoch 146: train loss: 0.27255284786224365\n",
      "Epoch 147: train loss: 0.27255284786224365\n",
      "Epoch 148: train loss: 0.27255284786224365\n",
      "Epoch 149: train loss: 0.27255284786224365\n",
      "Epoch 150: train loss: 0.27255284786224365\n",
      "Epoch 151: train loss: 0.27255284786224365\n",
      "Epoch 152: train loss: 0.27255284786224365\n",
      "Epoch 153: train loss: 0.27255284786224365\n",
      "Epoch 154: train loss: 0.27255284786224365\n",
      "Epoch 155: train loss: 0.27255284786224365\n",
      "Epoch 156: train loss: 0.27255284786224365\n",
      "Epoch 157: train loss: 0.27255284786224365\n",
      "Epoch 158: train loss: 0.27255284786224365\n",
      "Epoch 159: train loss: 0.27255284786224365\n",
      "Epoch 160: train loss: 0.27255284786224365\n",
      "Epoch 161: train loss: 0.27255284786224365\n",
      "Epoch 162: train loss: 0.27255284786224365\n",
      "Epoch 163: train loss: 0.27255284786224365\n",
      "Epoch 164: train loss: 0.27255284786224365\n",
      "Epoch 165: train loss: 0.27255284786224365\n",
      "Epoch 166: train loss: 0.27255284786224365\n",
      "Epoch 167: train loss: 0.27255284786224365\n",
      "Epoch 168: train loss: 0.27255284786224365\n",
      "Epoch 169: train loss: 0.27255284786224365\n",
      "Epoch 170: train loss: 0.27255284786224365\n",
      "Epoch 171: train loss: 0.27255284786224365\n",
      "Epoch 172: train loss: 0.27255284786224365\n",
      "Epoch 173: train loss: 0.27255284786224365\n",
      "Epoch 174: train loss: 0.27255284786224365\n",
      "Epoch 175: train loss: 0.27255284786224365\n",
      "Epoch 176: train loss: 0.27255284786224365\n",
      "Epoch 177: train loss: 0.27255284786224365\n",
      "Epoch 178: train loss: 0.27255284786224365\n",
      "Epoch 179: train loss: 0.27255284786224365\n",
      "Epoch 180: train loss: 0.27255284786224365\n",
      "Epoch 181: train loss: 0.27255284786224365\n",
      "Epoch 182: train loss: 0.27255284786224365\n",
      "Epoch 183: train loss: 0.27255284786224365\n",
      "Epoch 184: train loss: 0.27255284786224365\n",
      "Epoch 185: train loss: 0.27255284786224365\n",
      "Epoch 186: train loss: 0.27255284786224365\n",
      "Epoch 187: train loss: 0.27255284786224365\n",
      "Epoch 188: train loss: 0.27255284786224365\n",
      "Epoch 189: train loss: 0.27255284786224365\n",
      "Epoch 190: train loss: 0.27255284786224365\n",
      "Epoch 191: train loss: 0.27255284786224365\n",
      "Epoch 192: train loss: 0.27255284786224365\n",
      "Epoch 193: train loss: 0.27255284786224365\n",
      "Epoch 194: train loss: 0.27255284786224365\n",
      "Epoch 195: train loss: 0.27255284786224365\n",
      "Epoch 196: train loss: 0.27255284786224365\n",
      "Epoch 197: train loss: 0.27255284786224365\n",
      "Epoch 198: train loss: 0.27255284786224365\n",
      "Epoch 199: train loss: 0.27255284786224365\n"
     ]
    }
   ],
   "source": [
    "model.train()\n",
    "epoch = 200\n",
    "for epoch in range(epoch):\n",
    "    optimizer.zero_grad()\n",
    "    # Forward pass\n",
    "    y_pred = model(X_train)\n",
    "    # Compute Loss\n",
    "    loss = criterion(y_pred.squeeze(), y_train)\n",
    "   \n",
    "    print('Epoch {}: train loss: {}'.format(epoch, loss.item()))\n",
    "    # Backward pass\n",
    "    loss.backward()\n",
    "    optimizer.step()"
   ]
  },
  {
   "cell_type": "code",
   "execution_count": 0,
   "metadata": {
    "colab": {
     "base_uri": "https://localhost:8080/",
     "height": 34
    },
    "colab_type": "code",
    "id": "quQlUeIqQ0wl",
    "outputId": "e3a21832-3dc1-4948-fc26-70770b33bbc2"
   },
   "outputs": [
    {
     "name": "stdout",
     "output_type": "stream",
     "text": [
      "Test loss after Training 0.2720893919467926\n"
     ]
    }
   ],
   "source": [
    "model.eval()\n",
    "y_pred = model(X_test)\n",
    "after_train = criterion(y_pred.squeeze(), y_test) \n",
    "print('Test loss after Training' , after_train.item())"
   ]
  },
  {
   "cell_type": "code",
   "execution_count": 0,
   "metadata": {
    "colab": {},
    "colab_type": "code",
    "id": "k-bqSPlARPqc"
   },
   "outputs": [],
   "source": []
  }
 ],
 "metadata": {
  "accelerator": "GPU",
  "colab": {
   "name": "Untitled2.ipynb",
   "provenance": []
  },
  "kernelspec": {
   "display_name": "Python 3",
   "language": "python",
   "name": "python3"
  },
  "language_info": {
   "codemirror_mode": {
    "name": "ipython",
    "version": 3
   },
   "file_extension": ".py",
   "mimetype": "text/x-python",
   "name": "python",
   "nbconvert_exporter": "python",
   "pygments_lexer": "ipython3",
   "version": "3.6.9"
  }
 },
 "nbformat": 4,
 "nbformat_minor": 1
}
